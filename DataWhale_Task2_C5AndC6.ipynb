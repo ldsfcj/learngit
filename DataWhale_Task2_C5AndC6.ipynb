{
 "cells": [
  {
   "cell_type": "markdown",
   "metadata": {},
   "source": [
    "## 第5章  pandas入门\n",
    "\n",
    "**pandas引入约定**\n",
    "<code>\n",
    "from pandas import Series, DataFrame\n",
    "import pandas as pd\n",
    "</code>\n",
    "\n",
    "**只要在代码中看到pd.，就得想到这是pandas。**\n",
    "\n",
    "### 1.pandas的数据结构介绍\n",
    "#### 1.Series 是一种类似与一维数组的对象，由一组数据以及一组与之相关的数据标签组成。"
   ]
  },
  {
   "cell_type": "code",
   "execution_count": 3,
   "metadata": {},
   "outputs": [
    {
     "data": {
      "text/plain": [
       "0    4\n",
       "1    7\n",
       "2   -5\n",
       "3    3\n",
       "dtype: int64"
      ]
     },
     "execution_count": 3,
     "metadata": {},
     "output_type": "execute_result"
    }
   ],
   "source": [
    "from pandas import Series, DataFrame\n",
    "import pandas as pd\n",
    "\n",
    "obj = Series([4,7,-5,3])\n",
    "obj"
   ]
  },
  {
   "cell_type": "markdown",
   "metadata": {},
   "source": [
    "索引在左边，值在右边<br/>\n",
    "没有指定索引则会自动创建一个0到N-1的整数型索引<br />\n",
    "通过values和index属性获取其中的值和索引对象"
   ]
  },
  {
   "cell_type": "code",
   "execution_count": 4,
   "metadata": {},
   "outputs": [
    {
     "data": {
      "text/plain": [
       "array([ 4,  7, -5,  3])"
      ]
     },
     "execution_count": 4,
     "metadata": {},
     "output_type": "execute_result"
    }
   ],
   "source": [
    "obj.values"
   ]
  },
  {
   "cell_type": "code",
   "execution_count": 7,
   "metadata": {},
   "outputs": [
    {
     "data": {
      "text/plain": [
       "RangeIndex(start=0, stop=4, step=1)"
      ]
     },
     "execution_count": 7,
     "metadata": {},
     "output_type": "execute_result"
    }
   ],
   "source": [
    "obj.index"
   ]
  },
  {
   "cell_type": "markdown",
   "metadata": {},
   "source": [
    "⬇️创建Series带有一个可以对各个数据点进行标记的索引"
   ]
  },
  {
   "cell_type": "code",
   "execution_count": 8,
   "metadata": {},
   "outputs": [
    {
     "data": {
      "text/plain": [
       "d    4\n",
       "b    7\n",
       "a   -5\n",
       "c    3\n",
       "dtype: int64"
      ]
     },
     "execution_count": 8,
     "metadata": {},
     "output_type": "execute_result"
    }
   ],
   "source": [
    "obj2 = Series([4,7,-5,3],index=['d','b','a','c'])\n",
    "obj2"
   ]
  },
  {
   "cell_type": "code",
   "execution_count": 9,
   "metadata": {},
   "outputs": [
    {
     "data": {
      "text/plain": [
       "Index(['d', 'b', 'a', 'c'], dtype='object')"
      ]
     },
     "execution_count": 9,
     "metadata": {},
     "output_type": "execute_result"
    }
   ],
   "source": [
    "obj2.index"
   ]
  },
  {
   "cell_type": "markdown",
   "metadata": {},
   "source": [
    "⬇️同样可以通过索引的方式选取Series中的单个或一组值"
   ]
  },
  {
   "cell_type": "code",
   "execution_count": 15,
   "metadata": {},
   "outputs": [
    {
     "data": {
      "text/plain": [
       "-5"
      ]
     },
     "execution_count": 15,
     "metadata": {},
     "output_type": "execute_result"
    }
   ],
   "source": [
    "obj2['a']"
   ]
  },
  {
   "cell_type": "code",
   "execution_count": 16,
   "metadata": {},
   "outputs": [
    {
     "data": {
      "text/plain": [
       "d    6\n",
       "b    7\n",
       "a   -5\n",
       "c    3\n",
       "dtype: int64"
      ]
     },
     "execution_count": 16,
     "metadata": {},
     "output_type": "execute_result"
    }
   ],
   "source": [
    "obj2['d'] = 6\n",
    "obj2"
   ]
  },
  {
   "cell_type": "code",
   "execution_count": 17,
   "metadata": {},
   "outputs": [
    {
     "data": {
      "text/plain": [
       "c    3\n",
       "a   -5\n",
       "d    6\n",
       "dtype: int64"
      ]
     },
     "execution_count": 17,
     "metadata": {},
     "output_type": "execute_result"
    }
   ],
   "source": [
    "obj2[['c','a','d']]"
   ]
  },
  {
   "cell_type": "code",
   "execution_count": 18,
   "metadata": {},
   "outputs": [
    {
     "data": {
      "text/plain": [
       "d    6\n",
       "b    7\n",
       "c    3\n",
       "dtype: int64"
      ]
     },
     "execution_count": 18,
     "metadata": {},
     "output_type": "execute_result"
    }
   ],
   "source": [
    "obj2[obj2 > 0]"
   ]
  },
  {
   "cell_type": "code",
   "execution_count": 19,
   "metadata": {},
   "outputs": [
    {
     "data": {
      "text/plain": [
       "d    12\n",
       "b    14\n",
       "a   -10\n",
       "c     6\n",
       "dtype: int64"
      ]
     },
     "execution_count": 19,
     "metadata": {},
     "output_type": "execute_result"
    }
   ],
   "source": [
    "obj2 * 2 "
   ]
  },
  {
   "cell_type": "code",
   "execution_count": 20,
   "metadata": {},
   "outputs": [
    {
     "data": {
      "text/plain": [
       "d     403.428793\n",
       "b    1096.633158\n",
       "a       0.006738\n",
       "c      20.085537\n",
       "dtype: float64"
      ]
     },
     "execution_count": 20,
     "metadata": {},
     "output_type": "execute_result"
    }
   ],
   "source": [
    "np.exp(obj2)"
   ]
  },
  {
   "cell_type": "markdown",
   "metadata": {},
   "source": [
    "可以将Series看成是一个定长的有序字典<br />\n",
    "因为他的索引值到数据值是一个映射。"
   ]
  },
  {
   "cell_type": "code",
   "execution_count": 22,
   "metadata": {},
   "outputs": [
    {
     "name": "stdout",
     "output_type": "stream",
     "text": [
      "True\n",
      "False\n"
     ]
    }
   ],
   "source": [
    "print('b' in obj2)\n",
    "print('e' in obj2)"
   ]
  },
  {
   "cell_type": "markdown",
   "metadata": {},
   "source": [
    "⬇️若数据存放在一个Python字典中，可以通过这个字典来创建Series"
   ]
  },
  {
   "cell_type": "code",
   "execution_count": 23,
   "metadata": {},
   "outputs": [
    {
     "data": {
      "text/plain": [
       "Ohio      35000\n",
       "Oregon    16000\n",
       "Texas     71000\n",
       "Utah       5000\n",
       "dtype: int64"
      ]
     },
     "execution_count": 23,
     "metadata": {},
     "output_type": "execute_result"
    }
   ],
   "source": [
    "sdata = {'Ohio': 35000, 'Texas': 71000, 'Oregon': 16000, 'Utah':5000}\n",
    "obj3 = Series(sdata)\n",
    "obj3"
   ]
  },
  {
   "cell_type": "code",
   "execution_count": 24,
   "metadata": {},
   "outputs": [
    {
     "data": {
      "text/plain": [
       "California        NaN\n",
       "Ohio          35000.0\n",
       "Oregon        16000.0\n",
       "Texas         71000.0\n",
       "dtype: float64"
      ]
     },
     "execution_count": 24,
     "metadata": {},
     "output_type": "execute_result"
    }
   ],
   "source": [
    "states = ['California', 'Ohio', 'Oregon', 'Texas']\n",
    "obj4 = Series(sdata,index=states)\n",
    "obj4"
   ]
  },
  {
   "cell_type": "markdown",
   "metadata": {},
   "source": [
    "⬇️pandas的isnull和notnull函数可用于检测缺失数据："
   ]
  },
  {
   "cell_type": "code",
   "execution_count": 25,
   "metadata": {},
   "outputs": [
    {
     "data": {
      "text/plain": [
       "California     True\n",
       "Ohio          False\n",
       "Oregon        False\n",
       "Texas         False\n",
       "dtype: bool"
      ]
     },
     "execution_count": 25,
     "metadata": {},
     "output_type": "execute_result"
    }
   ],
   "source": [
    "pd.isnull(obj4)"
   ]
  },
  {
   "cell_type": "code",
   "execution_count": 26,
   "metadata": {},
   "outputs": [
    {
     "name": "stdout",
     "output_type": "stream",
     "text": [
      "California    False\n",
      "Ohio           True\n",
      "Oregon         True\n",
      "Texas          True\n",
      "dtype: bool\n"
     ]
    }
   ],
   "source": [
    "print(pd.notnull(obj4))"
   ]
  },
  {
   "cell_type": "markdown",
   "metadata": {},
   "source": [
    "⬇️Series中的实例方法："
   ]
  },
  {
   "cell_type": "code",
   "execution_count": 27,
   "metadata": {},
   "outputs": [
    {
     "data": {
      "text/plain": [
       "California     True\n",
       "Ohio          False\n",
       "Oregon        False\n",
       "Texas         False\n",
       "dtype: bool"
      ]
     },
     "execution_count": 27,
     "metadata": {},
     "output_type": "execute_result"
    }
   ],
   "source": [
    "obj4.isnull()"
   ]
  },
  {
   "cell_type": "markdown",
   "metadata": {},
   "source": [
    "⬇️在算数运算中会自动对齐不同索引的数据"
   ]
  },
  {
   "cell_type": "code",
   "execution_count": 28,
   "metadata": {},
   "outputs": [
    {
     "name": "stdout",
     "output_type": "stream",
     "text": [
      "Ohio      35000\n",
      "Oregon    16000\n",
      "Texas     71000\n",
      "Utah       5000\n",
      "dtype: int64\n",
      "California        NaN\n",
      "Ohio          35000.0\n",
      "Oregon        16000.0\n",
      "Texas         71000.0\n",
      "dtype: float64\n",
      "California         NaN\n",
      "Ohio           70000.0\n",
      "Oregon         32000.0\n",
      "Texas         142000.0\n",
      "Utah               NaN\n",
      "dtype: float64\n"
     ]
    }
   ],
   "source": [
    "print(obj3)\n",
    "print(obj4)\n",
    "print(obj3+obj4)"
   ]
  },
  {
   "cell_type": "markdown",
   "metadata": {},
   "source": [
    "⬇️Series对象本身及其索引都有一个name属性，该属性跟pandas其他的关键功能关系非常密切："
   ]
  },
  {
   "cell_type": "code",
   "execution_count": 29,
   "metadata": {},
   "outputs": [
    {
     "data": {
      "text/plain": [
       "states\n",
       "California        NaN\n",
       "Ohio          35000.0\n",
       "Oregon        16000.0\n",
       "Texas         71000.0\n",
       "Name: population, dtype: float64"
      ]
     },
     "execution_count": 29,
     "metadata": {},
     "output_type": "execute_result"
    }
   ],
   "source": [
    "obj4.name = 'population'\n",
    "obj4.index.name = 'states'\n",
    "obj4"
   ]
  },
  {
   "cell_type": "markdown",
   "metadata": {},
   "source": [
    "⬇️Series的索引可以通过赋值的方式<font color=\"#ff0000\">***就地***</font>修改"
   ]
  },
  {
   "cell_type": "code",
   "execution_count": 30,
   "metadata": {},
   "outputs": [
    {
     "data": {
      "text/plain": [
       "Bob      4\n",
       "Steve    7\n",
       "Jeff    -5\n",
       "Ryan     3\n",
       "dtype: int64"
      ]
     },
     "execution_count": 30,
     "metadata": {},
     "output_type": "execute_result"
    }
   ],
   "source": [
    "obj.index = ['Bob', 'Steve', 'Jeff', 'Ryan']\n",
    "obj"
   ]
  },
  {
   "cell_type": "markdown",
   "metadata": {},
   "source": [
    "#### 2.DataFrame<br />\n",
    "DataFrame是一个表格型的数据结构，它含有一组有序的列<br />\n",
    "每列可以是不同的值类型(数值、字符串、布尔值等)。<br />\n",
    "既有行索引，又有列索引。可以看成是Series组成的字典"
   ]
  },
  {
   "cell_type": "markdown",
   "metadata": {},
   "source": [
    "⬇️构建DataFrame的方法有很多，最常用的一种是直接传入一个由等长列表或<br />\n",
    "NumPy数组组成的字典："
   ]
  },
  {
   "cell_type": "code",
   "execution_count": 31,
   "metadata": {},
   "outputs": [
    {
     "data": {
      "text/html": [
       "<div>\n",
       "<style>\n",
       "    .dataframe thead tr:only-child th {\n",
       "        text-align: right;\n",
       "    }\n",
       "\n",
       "    .dataframe thead th {\n",
       "        text-align: left;\n",
       "    }\n",
       "\n",
       "    .dataframe tbody tr th {\n",
       "        vertical-align: top;\n",
       "    }\n",
       "</style>\n",
       "<table border=\"1\" class=\"dataframe\">\n",
       "  <thead>\n",
       "    <tr style=\"text-align: right;\">\n",
       "      <th></th>\n",
       "      <th>pop</th>\n",
       "      <th>state</th>\n",
       "      <th>year</th>\n",
       "    </tr>\n",
       "  </thead>\n",
       "  <tbody>\n",
       "    <tr>\n",
       "      <th>0</th>\n",
       "      <td>1.5</td>\n",
       "      <td>Ohio</td>\n",
       "      <td>2000</td>\n",
       "    </tr>\n",
       "    <tr>\n",
       "      <th>1</th>\n",
       "      <td>1.7</td>\n",
       "      <td>Ohio</td>\n",
       "      <td>2001</td>\n",
       "    </tr>\n",
       "    <tr>\n",
       "      <th>2</th>\n",
       "      <td>3.6</td>\n",
       "      <td>Ohio</td>\n",
       "      <td>2002</td>\n",
       "    </tr>\n",
       "    <tr>\n",
       "      <th>3</th>\n",
       "      <td>2.4</td>\n",
       "      <td>Nevada</td>\n",
       "      <td>2001</td>\n",
       "    </tr>\n",
       "    <tr>\n",
       "      <th>4</th>\n",
       "      <td>2.9</td>\n",
       "      <td>Nevada</td>\n",
       "      <td>2002</td>\n",
       "    </tr>\n",
       "  </tbody>\n",
       "</table>\n",
       "</div>"
      ],
      "text/plain": [
       "   pop   state  year\n",
       "0  1.5    Ohio  2000\n",
       "1  1.7    Ohio  2001\n",
       "2  3.6    Ohio  2002\n",
       "3  2.4  Nevada  2001\n",
       "4  2.9  Nevada  2002"
      ]
     },
     "execution_count": 31,
     "metadata": {},
     "output_type": "execute_result"
    }
   ],
   "source": [
    "data = {'state':['Ohio','Ohio','Ohio','Nevada','Nevada'],\n",
    "        'year':[2000, 2001, 2002, 2001, 2002],\n",
    "        'pop':[1.5, 1.7, 3.6, 2.4, 2.9]}\n",
    "frame = DataFrame(data)\n",
    "frame #DataFrame会自动加上索引，且全部列会被有序排列"
   ]
  },
  {
   "cell_type": "code",
   "execution_count": 32,
   "metadata": {},
   "outputs": [
    {
     "data": {
      "text/html": [
       "<div>\n",
       "<style>\n",
       "    .dataframe thead tr:only-child th {\n",
       "        text-align: right;\n",
       "    }\n",
       "\n",
       "    .dataframe thead th {\n",
       "        text-align: left;\n",
       "    }\n",
       "\n",
       "    .dataframe tbody tr th {\n",
       "        vertical-align: top;\n",
       "    }\n",
       "</style>\n",
       "<table border=\"1\" class=\"dataframe\">\n",
       "  <thead>\n",
       "    <tr style=\"text-align: right;\">\n",
       "      <th></th>\n",
       "      <th>year</th>\n",
       "      <th>state</th>\n",
       "      <th>pop</th>\n",
       "    </tr>\n",
       "  </thead>\n",
       "  <tbody>\n",
       "    <tr>\n",
       "      <th>0</th>\n",
       "      <td>2000</td>\n",
       "      <td>Ohio</td>\n",
       "      <td>1.5</td>\n",
       "    </tr>\n",
       "    <tr>\n",
       "      <th>1</th>\n",
       "      <td>2001</td>\n",
       "      <td>Ohio</td>\n",
       "      <td>1.7</td>\n",
       "    </tr>\n",
       "    <tr>\n",
       "      <th>2</th>\n",
       "      <td>2002</td>\n",
       "      <td>Ohio</td>\n",
       "      <td>3.6</td>\n",
       "    </tr>\n",
       "    <tr>\n",
       "      <th>3</th>\n",
       "      <td>2001</td>\n",
       "      <td>Nevada</td>\n",
       "      <td>2.4</td>\n",
       "    </tr>\n",
       "    <tr>\n",
       "      <th>4</th>\n",
       "      <td>2002</td>\n",
       "      <td>Nevada</td>\n",
       "      <td>2.9</td>\n",
       "    </tr>\n",
       "  </tbody>\n",
       "</table>\n",
       "</div>"
      ],
      "text/plain": [
       "   year   state  pop\n",
       "0  2000    Ohio  1.5\n",
       "1  2001    Ohio  1.7\n",
       "2  2002    Ohio  3.6\n",
       "3  2001  Nevada  2.4\n",
       "4  2002  Nevada  2.9"
      ]
     },
     "execution_count": 32,
     "metadata": {},
     "output_type": "execute_result"
    }
   ],
   "source": [
    "DataFrame(data,columns=['year','state','pop']) #如果指定了列序列，DataFrame的列就会按照指定的顺序进行排列"
   ]
  },
  {
   "cell_type": "markdown",
   "metadata": {},
   "source": [
    "跟Series一样，如果传入的列在数据中找不到，就会产生NA值:"
   ]
  },
  {
   "cell_type": "code",
   "execution_count": 33,
   "metadata": {},
   "outputs": [
    {
     "data": {
      "text/html": [
       "<div>\n",
       "<style>\n",
       "    .dataframe thead tr:only-child th {\n",
       "        text-align: right;\n",
       "    }\n",
       "\n",
       "    .dataframe thead th {\n",
       "        text-align: left;\n",
       "    }\n",
       "\n",
       "    .dataframe tbody tr th {\n",
       "        vertical-align: top;\n",
       "    }\n",
       "</style>\n",
       "<table border=\"1\" class=\"dataframe\">\n",
       "  <thead>\n",
       "    <tr style=\"text-align: right;\">\n",
       "      <th></th>\n",
       "      <th>year</th>\n",
       "      <th>state</th>\n",
       "      <th>pop</th>\n",
       "      <th>debt</th>\n",
       "    </tr>\n",
       "  </thead>\n",
       "  <tbody>\n",
       "    <tr>\n",
       "      <th>one</th>\n",
       "      <td>2000</td>\n",
       "      <td>Ohio</td>\n",
       "      <td>1.5</td>\n",
       "      <td>NaN</td>\n",
       "    </tr>\n",
       "    <tr>\n",
       "      <th>two</th>\n",
       "      <td>2001</td>\n",
       "      <td>Ohio</td>\n",
       "      <td>1.7</td>\n",
       "      <td>NaN</td>\n",
       "    </tr>\n",
       "    <tr>\n",
       "      <th>three</th>\n",
       "      <td>2002</td>\n",
       "      <td>Ohio</td>\n",
       "      <td>3.6</td>\n",
       "      <td>NaN</td>\n",
       "    </tr>\n",
       "    <tr>\n",
       "      <th>four</th>\n",
       "      <td>2001</td>\n",
       "      <td>Nevada</td>\n",
       "      <td>2.4</td>\n",
       "      <td>NaN</td>\n",
       "    </tr>\n",
       "    <tr>\n",
       "      <th>five</th>\n",
       "      <td>2002</td>\n",
       "      <td>Nevada</td>\n",
       "      <td>2.9</td>\n",
       "      <td>NaN</td>\n",
       "    </tr>\n",
       "  </tbody>\n",
       "</table>\n",
       "</div>"
      ],
      "text/plain": [
       "       year   state  pop debt\n",
       "one    2000    Ohio  1.5  NaN\n",
       "two    2001    Ohio  1.7  NaN\n",
       "three  2002    Ohio  3.6  NaN\n",
       "four   2001  Nevada  2.4  NaN\n",
       "five   2002  Nevada  2.9  NaN"
      ]
     },
     "execution_count": 33,
     "metadata": {},
     "output_type": "execute_result"
    }
   ],
   "source": [
    "frame2 = DataFrame(data, columns=['year','state','pop','debt'],\n",
    "                  index=['one','two','three','four','five'])\n",
    "frame2"
   ]
  },
  {
   "cell_type": "code",
   "execution_count": 36,
   "metadata": {},
   "outputs": [
    {
     "data": {
      "text/plain": [
       "Index(['year', 'state', 'pop', 'debt'], dtype='object')"
      ]
     },
     "execution_count": 36,
     "metadata": {},
     "output_type": "execute_result"
    }
   ],
   "source": [
    "frame2.columns\n",
    "# frame2.index"
   ]
  },
  {
   "cell_type": "code",
   "execution_count": 37,
   "metadata": {},
   "outputs": [
    {
     "data": {
      "text/plain": [
       "one        Ohio\n",
       "two        Ohio\n",
       "three      Ohio\n",
       "four     Nevada\n",
       "five     Nevada\n",
       "Name: state, dtype: object"
      ]
     },
     "execution_count": 37,
     "metadata": {},
     "output_type": "execute_result"
    }
   ],
   "source": [
    "frame2['state'] #返回的是一个Series"
   ]
  },
  {
   "cell_type": "code",
   "execution_count": 38,
   "metadata": {},
   "outputs": [
    {
     "data": {
      "text/plain": [
       "one      2000\n",
       "two      2001\n",
       "three    2002\n",
       "four     2001\n",
       "five     2002\n",
       "Name: year, dtype: int64"
      ]
     },
     "execution_count": 38,
     "metadata": {},
     "output_type": "execute_result"
    }
   ],
   "source": [
    "frame2.year"
   ]
  },
  {
   "cell_type": "markdown",
   "metadata": {},
   "source": [
    "⬇️行可以通过位置或名称的方式进行获取，比如用索引字段ix"
   ]
  },
  {
   "cell_type": "code",
   "execution_count": 41,
   "metadata": {},
   "outputs": [
    {
     "data": {
      "text/plain": [
       "year     2002\n",
       "state    Ohio\n",
       "pop       3.6\n",
       "debt      NaN\n",
       "Name: three, dtype: object"
      ]
     },
     "execution_count": 41,
     "metadata": {},
     "output_type": "execute_result"
    }
   ],
   "source": [
    "frame2.ix['three']#返回的是Series"
   ]
  },
  {
   "cell_type": "code",
   "execution_count": 42,
   "metadata": {},
   "outputs": [
    {
     "data": {
      "text/html": [
       "<div>\n",
       "<style>\n",
       "    .dataframe thead tr:only-child th {\n",
       "        text-align: right;\n",
       "    }\n",
       "\n",
       "    .dataframe thead th {\n",
       "        text-align: left;\n",
       "    }\n",
       "\n",
       "    .dataframe tbody tr th {\n",
       "        vertical-align: top;\n",
       "    }\n",
       "</style>\n",
       "<table border=\"1\" class=\"dataframe\">\n",
       "  <thead>\n",
       "    <tr style=\"text-align: right;\">\n",
       "      <th></th>\n",
       "      <th>year</th>\n",
       "      <th>state</th>\n",
       "      <th>pop</th>\n",
       "      <th>debt</th>\n",
       "    </tr>\n",
       "  </thead>\n",
       "  <tbody>\n",
       "    <tr>\n",
       "      <th>one</th>\n",
       "      <td>2000</td>\n",
       "      <td>Ohio</td>\n",
       "      <td>1.5</td>\n",
       "      <td>16.5</td>\n",
       "    </tr>\n",
       "    <tr>\n",
       "      <th>two</th>\n",
       "      <td>2001</td>\n",
       "      <td>Ohio</td>\n",
       "      <td>1.7</td>\n",
       "      <td>16.5</td>\n",
       "    </tr>\n",
       "    <tr>\n",
       "      <th>three</th>\n",
       "      <td>2002</td>\n",
       "      <td>Ohio</td>\n",
       "      <td>3.6</td>\n",
       "      <td>16.5</td>\n",
       "    </tr>\n",
       "    <tr>\n",
       "      <th>four</th>\n",
       "      <td>2001</td>\n",
       "      <td>Nevada</td>\n",
       "      <td>2.4</td>\n",
       "      <td>16.5</td>\n",
       "    </tr>\n",
       "    <tr>\n",
       "      <th>five</th>\n",
       "      <td>2002</td>\n",
       "      <td>Nevada</td>\n",
       "      <td>2.9</td>\n",
       "      <td>16.5</td>\n",
       "    </tr>\n",
       "  </tbody>\n",
       "</table>\n",
       "</div>"
      ],
      "text/plain": [
       "       year   state  pop  debt\n",
       "one    2000    Ohio  1.5  16.5\n",
       "two    2001    Ohio  1.7  16.5\n",
       "three  2002    Ohio  3.6  16.5\n",
       "four   2001  Nevada  2.4  16.5\n",
       "five   2002  Nevada  2.9  16.5"
      ]
     },
     "execution_count": 42,
     "metadata": {},
     "output_type": "execute_result"
    }
   ],
   "source": [
    "frame2['debt'] = 16.5\n",
    "frame2"
   ]
  },
  {
   "cell_type": "code",
   "execution_count": 43,
   "metadata": {
    "scrolled": true
   },
   "outputs": [
    {
     "data": {
      "text/html": [
       "<div>\n",
       "<style>\n",
       "    .dataframe thead tr:only-child th {\n",
       "        text-align: right;\n",
       "    }\n",
       "\n",
       "    .dataframe thead th {\n",
       "        text-align: left;\n",
       "    }\n",
       "\n",
       "    .dataframe tbody tr th {\n",
       "        vertical-align: top;\n",
       "    }\n",
       "</style>\n",
       "<table border=\"1\" class=\"dataframe\">\n",
       "  <thead>\n",
       "    <tr style=\"text-align: right;\">\n",
       "      <th></th>\n",
       "      <th>year</th>\n",
       "      <th>state</th>\n",
       "      <th>pop</th>\n",
       "      <th>debt</th>\n",
       "    </tr>\n",
       "  </thead>\n",
       "  <tbody>\n",
       "    <tr>\n",
       "      <th>one</th>\n",
       "      <td>2000</td>\n",
       "      <td>Ohio</td>\n",
       "      <td>1.5</td>\n",
       "      <td>0.0</td>\n",
       "    </tr>\n",
       "    <tr>\n",
       "      <th>two</th>\n",
       "      <td>2001</td>\n",
       "      <td>Ohio</td>\n",
       "      <td>1.7</td>\n",
       "      <td>1.0</td>\n",
       "    </tr>\n",
       "    <tr>\n",
       "      <th>three</th>\n",
       "      <td>2002</td>\n",
       "      <td>Ohio</td>\n",
       "      <td>3.6</td>\n",
       "      <td>2.0</td>\n",
       "    </tr>\n",
       "    <tr>\n",
       "      <th>four</th>\n",
       "      <td>2001</td>\n",
       "      <td>Nevada</td>\n",
       "      <td>2.4</td>\n",
       "      <td>3.0</td>\n",
       "    </tr>\n",
       "    <tr>\n",
       "      <th>five</th>\n",
       "      <td>2002</td>\n",
       "      <td>Nevada</td>\n",
       "      <td>2.9</td>\n",
       "      <td>4.0</td>\n",
       "    </tr>\n",
       "  </tbody>\n",
       "</table>\n",
       "</div>"
      ],
      "text/plain": [
       "       year   state  pop  debt\n",
       "one    2000    Ohio  1.5   0.0\n",
       "two    2001    Ohio  1.7   1.0\n",
       "three  2002    Ohio  3.6   2.0\n",
       "four   2001  Nevada  2.4   3.0\n",
       "five   2002  Nevada  2.9   4.0"
      ]
     },
     "execution_count": 43,
     "metadata": {},
     "output_type": "execute_result"
    }
   ],
   "source": [
    "frame2['debt'] = np.arange(5.)\n",
    "frame2"
   ]
  },
  {
   "cell_type": "code",
   "execution_count": 46,
   "metadata": {},
   "outputs": [
    {
     "data": {
      "text/html": [
       "<div>\n",
       "<style>\n",
       "    .dataframe thead tr:only-child th {\n",
       "        text-align: right;\n",
       "    }\n",
       "\n",
       "    .dataframe thead th {\n",
       "        text-align: left;\n",
       "    }\n",
       "\n",
       "    .dataframe tbody tr th {\n",
       "        vertical-align: top;\n",
       "    }\n",
       "</style>\n",
       "<table border=\"1\" class=\"dataframe\">\n",
       "  <thead>\n",
       "    <tr style=\"text-align: right;\">\n",
       "      <th></th>\n",
       "      <th>year</th>\n",
       "      <th>state</th>\n",
       "      <th>pop</th>\n",
       "      <th>debt</th>\n",
       "    </tr>\n",
       "  </thead>\n",
       "  <tbody>\n",
       "    <tr>\n",
       "      <th>one</th>\n",
       "      <td>2000</td>\n",
       "      <td>Ohio</td>\n",
       "      <td>1.5</td>\n",
       "      <td>NaN</td>\n",
       "    </tr>\n",
       "    <tr>\n",
       "      <th>two</th>\n",
       "      <td>2001</td>\n",
       "      <td>Ohio</td>\n",
       "      <td>1.7</td>\n",
       "      <td>-1.2</td>\n",
       "    </tr>\n",
       "    <tr>\n",
       "      <th>three</th>\n",
       "      <td>2002</td>\n",
       "      <td>Ohio</td>\n",
       "      <td>3.6</td>\n",
       "      <td>NaN</td>\n",
       "    </tr>\n",
       "    <tr>\n",
       "      <th>four</th>\n",
       "      <td>2001</td>\n",
       "      <td>Nevada</td>\n",
       "      <td>2.4</td>\n",
       "      <td>-1.5</td>\n",
       "    </tr>\n",
       "    <tr>\n",
       "      <th>five</th>\n",
       "      <td>2002</td>\n",
       "      <td>Nevada</td>\n",
       "      <td>2.9</td>\n",
       "      <td>-1.7</td>\n",
       "    </tr>\n",
       "  </tbody>\n",
       "</table>\n",
       "</div>"
      ],
      "text/plain": [
       "       year   state  pop  debt\n",
       "one    2000    Ohio  1.5   NaN\n",
       "two    2001    Ohio  1.7  -1.2\n",
       "three  2002    Ohio  3.6   NaN\n",
       "four   2001  Nevada  2.4  -1.5\n",
       "five   2002  Nevada  2.9  -1.7"
      ]
     },
     "execution_count": 46,
     "metadata": {},
     "output_type": "execute_result"
    }
   ],
   "source": [
    "val = Series([-1.2, -1.5, -1.7],index=['two','four','five'])\n",
    "frame2['debt'] = val\n",
    "frame2"
   ]
  },
  {
   "cell_type": "code",
   "execution_count": 50,
   "metadata": {},
   "outputs": [
    {
     "data": {
      "text/html": [
       "<div>\n",
       "<style>\n",
       "    .dataframe thead tr:only-child th {\n",
       "        text-align: right;\n",
       "    }\n",
       "\n",
       "    .dataframe thead th {\n",
       "        text-align: left;\n",
       "    }\n",
       "\n",
       "    .dataframe tbody tr th {\n",
       "        vertical-align: top;\n",
       "    }\n",
       "</style>\n",
       "<table border=\"1\" class=\"dataframe\">\n",
       "  <thead>\n",
       "    <tr style=\"text-align: right;\">\n",
       "      <th></th>\n",
       "      <th>year</th>\n",
       "      <th>state</th>\n",
       "      <th>pop</th>\n",
       "      <th>debt</th>\n",
       "      <th>eastern</th>\n",
       "    </tr>\n",
       "  </thead>\n",
       "  <tbody>\n",
       "    <tr>\n",
       "      <th>one</th>\n",
       "      <td>2000</td>\n",
       "      <td>Ohio</td>\n",
       "      <td>1.5</td>\n",
       "      <td>NaN</td>\n",
       "      <td>True</td>\n",
       "    </tr>\n",
       "    <tr>\n",
       "      <th>two</th>\n",
       "      <td>2001</td>\n",
       "      <td>Ohio</td>\n",
       "      <td>1.7</td>\n",
       "      <td>-1.2</td>\n",
       "      <td>True</td>\n",
       "    </tr>\n",
       "    <tr>\n",
       "      <th>three</th>\n",
       "      <td>2002</td>\n",
       "      <td>Ohio</td>\n",
       "      <td>3.6</td>\n",
       "      <td>NaN</td>\n",
       "      <td>True</td>\n",
       "    </tr>\n",
       "    <tr>\n",
       "      <th>four</th>\n",
       "      <td>2001</td>\n",
       "      <td>Nevada</td>\n",
       "      <td>2.4</td>\n",
       "      <td>-1.5</td>\n",
       "      <td>False</td>\n",
       "    </tr>\n",
       "    <tr>\n",
       "      <th>five</th>\n",
       "      <td>2002</td>\n",
       "      <td>Nevada</td>\n",
       "      <td>2.9</td>\n",
       "      <td>-1.7</td>\n",
       "      <td>False</td>\n",
       "    </tr>\n",
       "  </tbody>\n",
       "</table>\n",
       "</div>"
      ],
      "text/plain": [
       "       year   state  pop  debt  eastern\n",
       "one    2000    Ohio  1.5   NaN     True\n",
       "two    2001    Ohio  1.7  -1.2     True\n",
       "three  2002    Ohio  3.6   NaN     True\n",
       "four   2001  Nevada  2.4  -1.5    False\n",
       "five   2002  Nevada  2.9  -1.7    False"
      ]
     },
     "execution_count": 50,
     "metadata": {},
     "output_type": "execute_result"
    }
   ],
   "source": [
    "frame2['eastern'] = frame2.state == 'Ohio'\n",
    "#为不存在的列赋值会创建出一个新列\n",
    "frame2"
   ]
  },
  {
   "cell_type": "code",
   "execution_count": 51,
   "metadata": {},
   "outputs": [
    {
     "data": {
      "text/plain": [
       "Index(['year', 'state', 'pop', 'debt'], dtype='object')"
      ]
     },
     "execution_count": 51,
     "metadata": {},
     "output_type": "execute_result"
    }
   ],
   "source": [
    "del frame2['eastern'] #del用于删除列\n",
    "frame2.columns"
   ]
  },
  {
   "cell_type": "markdown",
   "metadata": {},
   "source": [
    "<font color=\"#ff0000\">warning:\n",
    "通过索引方式返回的列只是相应数据的视图而已，并不是副本<br />\n",
    "所以，对返回的Series所做的任何就地修改全部会反映到源<br />\n",
    "DataFrame上。而通过Series的copy方法即可显式地复制列。\n",
    "</font>"
   ]
  },
  {
   "cell_type": "code",
   "execution_count": 52,
   "metadata": {},
   "outputs": [
    {
     "data": {
      "text/html": [
       "<div>\n",
       "<style>\n",
       "    .dataframe thead tr:only-child th {\n",
       "        text-align: right;\n",
       "    }\n",
       "\n",
       "    .dataframe thead th {\n",
       "        text-align: left;\n",
       "    }\n",
       "\n",
       "    .dataframe tbody tr th {\n",
       "        vertical-align: top;\n",
       "    }\n",
       "</style>\n",
       "<table border=\"1\" class=\"dataframe\">\n",
       "  <thead>\n",
       "    <tr style=\"text-align: right;\">\n",
       "      <th></th>\n",
       "      <th>Nevada</th>\n",
       "      <th>Ohio</th>\n",
       "    </tr>\n",
       "  </thead>\n",
       "  <tbody>\n",
       "    <tr>\n",
       "      <th>2000</th>\n",
       "      <td>NaN</td>\n",
       "      <td>1.5</td>\n",
       "    </tr>\n",
       "    <tr>\n",
       "      <th>2001</th>\n",
       "      <td>2.4</td>\n",
       "      <td>1.7</td>\n",
       "    </tr>\n",
       "    <tr>\n",
       "      <th>2002</th>\n",
       "      <td>2.9</td>\n",
       "      <td>3.6</td>\n",
       "    </tr>\n",
       "  </tbody>\n",
       "</table>\n",
       "</div>"
      ],
      "text/plain": [
       "      Nevada  Ohio\n",
       "2000     NaN   1.5\n",
       "2001     2.4   1.7\n",
       "2002     2.9   3.6"
      ]
     },
     "execution_count": 52,
     "metadata": {},
     "output_type": "execute_result"
    }
   ],
   "source": [
    "pop = {'Nevada':{2001:2.4,2002:2.9},\n",
    "       'Ohio':{2000:1.5,2001:1.7,2002:3.6}}\n",
    "frame3 = DataFrame(pop)\n",
    "frame3"
   ]
  },
  {
   "cell_type": "code",
   "execution_count": 53,
   "metadata": {},
   "outputs": [
    {
     "data": {
      "text/html": [
       "<div>\n",
       "<style>\n",
       "    .dataframe thead tr:only-child th {\n",
       "        text-align: right;\n",
       "    }\n",
       "\n",
       "    .dataframe thead th {\n",
       "        text-align: left;\n",
       "    }\n",
       "\n",
       "    .dataframe tbody tr th {\n",
       "        vertical-align: top;\n",
       "    }\n",
       "</style>\n",
       "<table border=\"1\" class=\"dataframe\">\n",
       "  <thead>\n",
       "    <tr style=\"text-align: right;\">\n",
       "      <th></th>\n",
       "      <th>2000</th>\n",
       "      <th>2001</th>\n",
       "      <th>2002</th>\n",
       "    </tr>\n",
       "  </thead>\n",
       "  <tbody>\n",
       "    <tr>\n",
       "      <th>Nevada</th>\n",
       "      <td>NaN</td>\n",
       "      <td>2.4</td>\n",
       "      <td>2.9</td>\n",
       "    </tr>\n",
       "    <tr>\n",
       "      <th>Ohio</th>\n",
       "      <td>1.5</td>\n",
       "      <td>1.7</td>\n",
       "      <td>3.6</td>\n",
       "    </tr>\n",
       "  </tbody>\n",
       "</table>\n",
       "</div>"
      ],
      "text/plain": [
       "        2000  2001  2002\n",
       "Nevada   NaN   2.4   2.9\n",
       "Ohio     1.5   1.7   3.6"
      ]
     },
     "execution_count": 53,
     "metadata": {},
     "output_type": "execute_result"
    }
   ],
   "source": [
    "frame3.T"
   ]
  },
  {
   "cell_type": "code",
   "execution_count": 54,
   "metadata": {},
   "outputs": [
    {
     "data": {
      "text/html": [
       "<div>\n",
       "<style>\n",
       "    .dataframe thead tr:only-child th {\n",
       "        text-align: right;\n",
       "    }\n",
       "\n",
       "    .dataframe thead th {\n",
       "        text-align: left;\n",
       "    }\n",
       "\n",
       "    .dataframe tbody tr th {\n",
       "        vertical-align: top;\n",
       "    }\n",
       "</style>\n",
       "<table border=\"1\" class=\"dataframe\">\n",
       "  <thead>\n",
       "    <tr style=\"text-align: right;\">\n",
       "      <th></th>\n",
       "      <th>Nevada</th>\n",
       "      <th>Ohio</th>\n",
       "    </tr>\n",
       "  </thead>\n",
       "  <tbody>\n",
       "    <tr>\n",
       "      <th>2001</th>\n",
       "      <td>2.4</td>\n",
       "      <td>1.7</td>\n",
       "    </tr>\n",
       "    <tr>\n",
       "      <th>2002</th>\n",
       "      <td>2.9</td>\n",
       "      <td>3.6</td>\n",
       "    </tr>\n",
       "    <tr>\n",
       "      <th>2003</th>\n",
       "      <td>NaN</td>\n",
       "      <td>NaN</td>\n",
       "    </tr>\n",
       "  </tbody>\n",
       "</table>\n",
       "</div>"
      ],
      "text/plain": [
       "      Nevada  Ohio\n",
       "2001     2.4   1.7\n",
       "2002     2.9   3.6\n",
       "2003     NaN   NaN"
      ]
     },
     "execution_count": 54,
     "metadata": {},
     "output_type": "execute_result"
    }
   ],
   "source": [
    "DataFrame(pop,index=[2001,2002,2003])"
   ]
  },
  {
   "cell_type": "code",
   "execution_count": 55,
   "metadata": {},
   "outputs": [
    {
     "data": {
      "text/html": [
       "<div>\n",
       "<style>\n",
       "    .dataframe thead tr:only-child th {\n",
       "        text-align: right;\n",
       "    }\n",
       "\n",
       "    .dataframe thead th {\n",
       "        text-align: left;\n",
       "    }\n",
       "\n",
       "    .dataframe tbody tr th {\n",
       "        vertical-align: top;\n",
       "    }\n",
       "</style>\n",
       "<table border=\"1\" class=\"dataframe\">\n",
       "  <thead>\n",
       "    <tr style=\"text-align: right;\">\n",
       "      <th></th>\n",
       "      <th>Nevada</th>\n",
       "      <th>Ohio</th>\n",
       "    </tr>\n",
       "  </thead>\n",
       "  <tbody>\n",
       "    <tr>\n",
       "      <th>2000</th>\n",
       "      <td>NaN</td>\n",
       "      <td>1.5</td>\n",
       "    </tr>\n",
       "    <tr>\n",
       "      <th>2001</th>\n",
       "      <td>2.4</td>\n",
       "      <td>1.7</td>\n",
       "    </tr>\n",
       "  </tbody>\n",
       "</table>\n",
       "</div>"
      ],
      "text/plain": [
       "      Nevada  Ohio\n",
       "2000     NaN   1.5\n",
       "2001     2.4   1.7"
      ]
     },
     "execution_count": 55,
     "metadata": {},
     "output_type": "execute_result"
    }
   ],
   "source": [
    "pdata = {'Ohio': frame3['Ohio'][:-1],\n",
    "         'Nevada': frame3['Nevada'][:2]}\n",
    "\n",
    "DataFrame(pdata)"
   ]
  },
  {
   "cell_type": "code",
   "execution_count": 57,
   "metadata": {},
   "outputs": [
    {
     "data": {
      "text/html": [
       "<div>\n",
       "<style>\n",
       "    .dataframe thead tr:only-child th {\n",
       "        text-align: right;\n",
       "    }\n",
       "\n",
       "    .dataframe thead th {\n",
       "        text-align: left;\n",
       "    }\n",
       "\n",
       "    .dataframe tbody tr th {\n",
       "        vertical-align: top;\n",
       "    }\n",
       "</style>\n",
       "<table border=\"1\" class=\"dataframe\">\n",
       "  <thead>\n",
       "    <tr style=\"text-align: right;\">\n",
       "      <th>state</th>\n",
       "      <th>Nevada</th>\n",
       "      <th>Ohio</th>\n",
       "    </tr>\n",
       "    <tr>\n",
       "      <th>year</th>\n",
       "      <th></th>\n",
       "      <th></th>\n",
       "    </tr>\n",
       "  </thead>\n",
       "  <tbody>\n",
       "    <tr>\n",
       "      <th>2000</th>\n",
       "      <td>NaN</td>\n",
       "      <td>1.5</td>\n",
       "    </tr>\n",
       "    <tr>\n",
       "      <th>2001</th>\n",
       "      <td>2.4</td>\n",
       "      <td>1.7</td>\n",
       "    </tr>\n",
       "    <tr>\n",
       "      <th>2002</th>\n",
       "      <td>2.9</td>\n",
       "      <td>3.6</td>\n",
       "    </tr>\n",
       "  </tbody>\n",
       "</table>\n",
       "</div>"
      ],
      "text/plain": [
       "state  Nevada  Ohio\n",
       "year               \n",
       "2000      NaN   1.5\n",
       "2001      2.4   1.7\n",
       "2002      2.9   3.6"
      ]
     },
     "execution_count": 57,
     "metadata": {},
     "output_type": "execute_result"
    }
   ],
   "source": [
    "frame3.index.name = 'year'; frame3.columns.name = 'state'\n",
    "frame3"
   ]
  },
  {
   "cell_type": "markdown",
   "metadata": {},
   "source": [
    "⬇️跟Series一样，values属性也会以二维ndarray的形式返回DataFrame中的数据"
   ]
  },
  {
   "cell_type": "code",
   "execution_count": 58,
   "metadata": {},
   "outputs": [
    {
     "data": {
      "text/plain": [
       "array([[ nan,  1.5],\n",
       "       [ 2.4,  1.7],\n",
       "       [ 2.9,  3.6]])"
      ]
     },
     "execution_count": 58,
     "metadata": {},
     "output_type": "execute_result"
    }
   ],
   "source": [
    "frame3.values"
   ]
  },
  {
   "cell_type": "code",
   "execution_count": 59,
   "metadata": {},
   "outputs": [
    {
     "data": {
      "text/plain": [
       "array([[2000, 'Ohio', 1.5, nan],\n",
       "       [2001, 'Ohio', 1.7, -1.2],\n",
       "       [2002, 'Ohio', 3.6, nan],\n",
       "       [2001, 'Nevada', 2.4, -1.5],\n",
       "       [2002, 'Nevada', 2.9, -1.7]], dtype=object)"
      ]
     },
     "execution_count": 59,
     "metadata": {},
     "output_type": "execute_result"
    }
   ],
   "source": [
    "frame2.values"
   ]
  },
  {
   "cell_type": "markdown",
   "metadata": {},
   "source": [
    "### 索引对象\n",
    "pandas的索引对象负责管理轴标签和其他元数据(比如轴名称等)<br />\n",
    "构建DataFrame时，所用到的任何数组或其他序列的标签都会被转换成一个Index"
   ]
  },
  {
   "cell_type": "code",
   "execution_count": 61,
   "metadata": {},
   "outputs": [
    {
     "data": {
      "text/plain": [
       "Index(['a', 'b', 'c'], dtype='object')"
      ]
     },
     "execution_count": 61,
     "metadata": {},
     "output_type": "execute_result"
    }
   ],
   "source": [
    "obj = Series(range(3),index=['a','b','c'])\n",
    "index = obj.index\n",
    "index\n",
    "# obj"
   ]
  },
  {
   "cell_type": "code",
   "execution_count": 62,
   "metadata": {},
   "outputs": [
    {
     "data": {
      "text/plain": [
       "Index(['b', 'c'], dtype='object')"
      ]
     },
     "execution_count": 62,
     "metadata": {},
     "output_type": "execute_result"
    }
   ],
   "source": [
    "index[1:]"
   ]
  },
  {
   "cell_type": "markdown",
   "metadata": {},
   "source": [
    "⬇️Index对象是不可修改的(immutable),因此用户不能对其进行修改<br />\n",
    "不可修改性非常重要，因为这样才能使Index对象在多个数据结构之间安全共享"
   ]
  },
  {
   "cell_type": "code",
   "execution_count": 63,
   "metadata": {},
   "outputs": [
    {
     "ename": "TypeError",
     "evalue": "Index does not support mutable operations",
     "output_type": "error",
     "traceback": [
      "\u001b[0;31m---------------------------------------------------------------------------\u001b[0m",
      "\u001b[0;31mTypeError\u001b[0m                                 Traceback (most recent call last)",
      "\u001b[0;32m<ipython-input-63-676fdeb26a68>\u001b[0m in \u001b[0;36m<module>\u001b[0;34m()\u001b[0m\n\u001b[0;32m----> 1\u001b[0;31m \u001b[0mindex\u001b[0m\u001b[0;34m[\u001b[0m\u001b[0;36m1\u001b[0m\u001b[0;34m]\u001b[0m \u001b[0;34m=\u001b[0m \u001b[0;34m'd'\u001b[0m\u001b[0;34m\u001b[0m\u001b[0;34m\u001b[0m\u001b[0m\n\u001b[0m",
      "\u001b[0;32m~/anaconda3/lib/python3.6/site-packages/pandas/core/indexes/base.py\u001b[0m in \u001b[0;36m__setitem__\u001b[0;34m(self, key, value)\u001b[0m\n\u001b[1;32m   1668\u001b[0m \u001b[0;34m\u001b[0m\u001b[0m\n\u001b[1;32m   1669\u001b[0m     \u001b[0;32mdef\u001b[0m \u001b[0m__setitem__\u001b[0m\u001b[0;34m(\u001b[0m\u001b[0mself\u001b[0m\u001b[0;34m,\u001b[0m \u001b[0mkey\u001b[0m\u001b[0;34m,\u001b[0m \u001b[0mvalue\u001b[0m\u001b[0;34m)\u001b[0m\u001b[0;34m:\u001b[0m\u001b[0;34m\u001b[0m\u001b[0;34m\u001b[0m\u001b[0m\n\u001b[0;32m-> 1670\u001b[0;31m         \u001b[0;32mraise\u001b[0m \u001b[0mTypeError\u001b[0m\u001b[0;34m(\u001b[0m\u001b[0;34m\"Index does not support mutable operations\"\u001b[0m\u001b[0;34m)\u001b[0m\u001b[0;34m\u001b[0m\u001b[0;34m\u001b[0m\u001b[0m\n\u001b[0m\u001b[1;32m   1671\u001b[0m \u001b[0;34m\u001b[0m\u001b[0m\n\u001b[1;32m   1672\u001b[0m     \u001b[0;32mdef\u001b[0m \u001b[0m__getitem__\u001b[0m\u001b[0;34m(\u001b[0m\u001b[0mself\u001b[0m\u001b[0;34m,\u001b[0m \u001b[0mkey\u001b[0m\u001b[0;34m)\u001b[0m\u001b[0;34m:\u001b[0m\u001b[0;34m\u001b[0m\u001b[0;34m\u001b[0m\u001b[0m\n",
      "\u001b[0;31mTypeError\u001b[0m: Index does not support mutable operations"
     ]
    }
   ],
   "source": [
    "index[1] = 'd'"
   ]
  },
  {
   "cell_type": "code",
   "execution_count": 68,
   "metadata": {},
   "outputs": [
    {
     "data": {
      "text/plain": [
       "True"
      ]
     },
     "execution_count": 68,
     "metadata": {},
     "output_type": "execute_result"
    }
   ],
   "source": [
    "index = pd.Index(np.arange(3))\n",
    "obj2 = Series([1.5, -2.5, 0], index=index)\n",
    "obj2.index is index\n"
   ]
  },
  {
   "cell_type": "code",
   "execution_count": 69,
   "metadata": {},
   "outputs": [
    {
     "data": {
      "text/html": [
       "<div>\n",
       "<style>\n",
       "    .dataframe thead tr:only-child th {\n",
       "        text-align: right;\n",
       "    }\n",
       "\n",
       "    .dataframe thead th {\n",
       "        text-align: left;\n",
       "    }\n",
       "\n",
       "    .dataframe tbody tr th {\n",
       "        vertical-align: top;\n",
       "    }\n",
       "</style>\n",
       "<table border=\"1\" class=\"dataframe\">\n",
       "  <thead>\n",
       "    <tr style=\"text-align: right;\">\n",
       "      <th>state</th>\n",
       "      <th>Nevada</th>\n",
       "      <th>Ohio</th>\n",
       "    </tr>\n",
       "    <tr>\n",
       "      <th>year</th>\n",
       "      <th></th>\n",
       "      <th></th>\n",
       "    </tr>\n",
       "  </thead>\n",
       "  <tbody>\n",
       "    <tr>\n",
       "      <th>2000</th>\n",
       "      <td>NaN</td>\n",
       "      <td>1.5</td>\n",
       "    </tr>\n",
       "    <tr>\n",
       "      <th>2001</th>\n",
       "      <td>2.4</td>\n",
       "      <td>1.7</td>\n",
       "    </tr>\n",
       "    <tr>\n",
       "      <th>2002</th>\n",
       "      <td>2.9</td>\n",
       "      <td>3.6</td>\n",
       "    </tr>\n",
       "  </tbody>\n",
       "</table>\n",
       "</div>"
      ],
      "text/plain": [
       "state  Nevada  Ohio\n",
       "year               \n",
       "2000      NaN   1.5\n",
       "2001      2.4   1.7\n",
       "2002      2.9   3.6"
      ]
     },
     "execution_count": 69,
     "metadata": {},
     "output_type": "execute_result"
    }
   ],
   "source": [
    "frame3"
   ]
  },
  {
   "cell_type": "code",
   "execution_count": 70,
   "metadata": {},
   "outputs": [
    {
     "data": {
      "text/plain": [
       "True"
      ]
     },
     "execution_count": 70,
     "metadata": {},
     "output_type": "execute_result"
    }
   ],
   "source": [
    "'Ohio' in frame3.columns"
   ]
  },
  {
   "cell_type": "code",
   "execution_count": 71,
   "metadata": {},
   "outputs": [
    {
     "data": {
      "text/plain": [
       "False"
      ]
     },
     "execution_count": 71,
     "metadata": {},
     "output_type": "execute_result"
    }
   ],
   "source": [
    "2003 in frame3.index"
   ]
  },
  {
   "cell_type": "markdown",
   "metadata": {},
   "source": [
    "每个索引都有一些方法和属性，它们可用于设置逻辑并回答有关该索引所包含<br />\n",
    "的数据的常见问题"
   ]
  },
  {
   "cell_type": "markdown",
   "metadata": {},
   "source": [
    "### 基本功能\n",
    "介绍操作Series和DataF中的数据的基本手段。<br />\n",
    "和pandas在数据分析和处理方面的功能。<br />\n",
    "#### 重新索引\n",
    "重要方法reindex<br />\n",
    "作用：创建一个适应新索引的新对象"
   ]
  },
  {
   "cell_type": "code",
   "execution_count": 72,
   "metadata": {},
   "outputs": [
    {
     "data": {
      "text/plain": [
       "d    4.5\n",
       "b    7.2\n",
       "a   -5.3\n",
       "c    3.6\n",
       "dtype: float64"
      ]
     },
     "execution_count": 72,
     "metadata": {},
     "output_type": "execute_result"
    }
   ],
   "source": [
    "obj = Series([4.5, 7.2, -5.3, 3.6], index=['d', 'b', 'a', 'c'])\n",
    "obj"
   ]
  },
  {
   "cell_type": "code",
   "execution_count": 73,
   "metadata": {},
   "outputs": [
    {
     "data": {
      "text/plain": [
       "a   -5.3\n",
       "b    7.2\n",
       "c    3.6\n",
       "d    4.5\n",
       "e    NaN\n",
       "dtype: float64"
      ]
     },
     "execution_count": 73,
     "metadata": {},
     "output_type": "execute_result"
    }
   ],
   "source": [
    "obj2 = obj.reindex(['a','b','c','d','e'])\n",
    "obj2"
   ]
  },
  {
   "cell_type": "code",
   "execution_count": 74,
   "metadata": {},
   "outputs": [
    {
     "data": {
      "text/plain": [
       "a   -5.3\n",
       "b    7.2\n",
       "c    3.6\n",
       "d    4.5\n",
       "e    0.0\n",
       "dtype: float64"
      ]
     },
     "execution_count": 74,
     "metadata": {},
     "output_type": "execute_result"
    }
   ],
   "source": [
    "obj.reindex(['a','b','c','d','e'],fill_value=0)"
   ]
  },
  {
   "cell_type": "markdown",
   "metadata": {},
   "source": [
    "⬇️对于时间序列这样的有序数列，重新索引时可能需要做一些插值处理<br/>\n",
    "method选项可以达到此目的"
   ]
  },
  {
   "cell_type": "code",
   "execution_count": 76,
   "metadata": {},
   "outputs": [
    {
     "data": {
      "text/plain": [
       "0      blue\n",
       "1      blue\n",
       "2    purple\n",
       "3    purple\n",
       "4    yellow\n",
       "5    yellow\n",
       "dtype: object"
      ]
     },
     "execution_count": 76,
     "metadata": {},
     "output_type": "execute_result"
    }
   ],
   "source": [
    "obj3 = Series(['blue','purple','yellow'], index=[0,2,4])\n",
    "obj3.reindex(range(6), method='ffill')\n",
    "# obj3\n",
    "#ffill或pad向前填充\n",
    "#bfill或backfill向后填充"
   ]
  },
  {
   "cell_type": "code",
   "execution_count": 79,
   "metadata": {},
   "outputs": [
    {
     "data": {
      "text/html": [
       "<div>\n",
       "<style>\n",
       "    .dataframe thead tr:only-child th {\n",
       "        text-align: right;\n",
       "    }\n",
       "\n",
       "    .dataframe thead th {\n",
       "        text-align: left;\n",
       "    }\n",
       "\n",
       "    .dataframe tbody tr th {\n",
       "        vertical-align: top;\n",
       "    }\n",
       "</style>\n",
       "<table border=\"1\" class=\"dataframe\">\n",
       "  <thead>\n",
       "    <tr style=\"text-align: right;\">\n",
       "      <th></th>\n",
       "      <th>Ohio</th>\n",
       "      <th>Texas</th>\n",
       "      <th>California</th>\n",
       "    </tr>\n",
       "  </thead>\n",
       "  <tbody>\n",
       "    <tr>\n",
       "      <th>a</th>\n",
       "      <td>0</td>\n",
       "      <td>1</td>\n",
       "      <td>2</td>\n",
       "    </tr>\n",
       "    <tr>\n",
       "      <th>c</th>\n",
       "      <td>3</td>\n",
       "      <td>4</td>\n",
       "      <td>5</td>\n",
       "    </tr>\n",
       "    <tr>\n",
       "      <th>d</th>\n",
       "      <td>6</td>\n",
       "      <td>7</td>\n",
       "      <td>8</td>\n",
       "    </tr>\n",
       "  </tbody>\n",
       "</table>\n",
       "</div>"
      ],
      "text/plain": [
       "   Ohio  Texas  California\n",
       "a     0      1           2\n",
       "c     3      4           5\n",
       "d     6      7           8"
      ]
     },
     "execution_count": 79,
     "metadata": {},
     "output_type": "execute_result"
    }
   ],
   "source": [
    "frame = DataFrame(np.arange(9).reshape((3,3)), index=['a','c','d'],\n",
    "                  columns=['Ohio','Texas','California'])\n",
    "frame"
   ]
  },
  {
   "cell_type": "code",
   "execution_count": 80,
   "metadata": {},
   "outputs": [
    {
     "data": {
      "text/html": [
       "<div>\n",
       "<style>\n",
       "    .dataframe thead tr:only-child th {\n",
       "        text-align: right;\n",
       "    }\n",
       "\n",
       "    .dataframe thead th {\n",
       "        text-align: left;\n",
       "    }\n",
       "\n",
       "    .dataframe tbody tr th {\n",
       "        vertical-align: top;\n",
       "    }\n",
       "</style>\n",
       "<table border=\"1\" class=\"dataframe\">\n",
       "  <thead>\n",
       "    <tr style=\"text-align: right;\">\n",
       "      <th></th>\n",
       "      <th>Ohio</th>\n",
       "      <th>Texas</th>\n",
       "      <th>California</th>\n",
       "    </tr>\n",
       "  </thead>\n",
       "  <tbody>\n",
       "    <tr>\n",
       "      <th>a</th>\n",
       "      <td>0.0</td>\n",
       "      <td>1.0</td>\n",
       "      <td>2.0</td>\n",
       "    </tr>\n",
       "    <tr>\n",
       "      <th>b</th>\n",
       "      <td>NaN</td>\n",
       "      <td>NaN</td>\n",
       "      <td>NaN</td>\n",
       "    </tr>\n",
       "    <tr>\n",
       "      <th>c</th>\n",
       "      <td>3.0</td>\n",
       "      <td>4.0</td>\n",
       "      <td>5.0</td>\n",
       "    </tr>\n",
       "    <tr>\n",
       "      <th>d</th>\n",
       "      <td>6.0</td>\n",
       "      <td>7.0</td>\n",
       "      <td>8.0</td>\n",
       "    </tr>\n",
       "  </tbody>\n",
       "</table>\n",
       "</div>"
      ],
      "text/plain": [
       "   Ohio  Texas  California\n",
       "a   0.0    1.0         2.0\n",
       "b   NaN    NaN         NaN\n",
       "c   3.0    4.0         5.0\n",
       "d   6.0    7.0         8.0"
      ]
     },
     "execution_count": 80,
     "metadata": {},
     "output_type": "execute_result"
    }
   ],
   "source": [
    "frame2 = frame.reindex(['a','b','c','d'])\n",
    "frame2"
   ]
  },
  {
   "cell_type": "code",
   "execution_count": 81,
   "metadata": {},
   "outputs": [
    {
     "data": {
      "text/html": [
       "<div>\n",
       "<style>\n",
       "    .dataframe thead tr:only-child th {\n",
       "        text-align: right;\n",
       "    }\n",
       "\n",
       "    .dataframe thead th {\n",
       "        text-align: left;\n",
       "    }\n",
       "\n",
       "    .dataframe tbody tr th {\n",
       "        vertical-align: top;\n",
       "    }\n",
       "</style>\n",
       "<table border=\"1\" class=\"dataframe\">\n",
       "  <thead>\n",
       "    <tr style=\"text-align: right;\">\n",
       "      <th></th>\n",
       "      <th>Texas</th>\n",
       "      <th>Utah</th>\n",
       "      <th>California</th>\n",
       "    </tr>\n",
       "  </thead>\n",
       "  <tbody>\n",
       "    <tr>\n",
       "      <th>a</th>\n",
       "      <td>1</td>\n",
       "      <td>NaN</td>\n",
       "      <td>2</td>\n",
       "    </tr>\n",
       "    <tr>\n",
       "      <th>c</th>\n",
       "      <td>4</td>\n",
       "      <td>NaN</td>\n",
       "      <td>5</td>\n",
       "    </tr>\n",
       "    <tr>\n",
       "      <th>d</th>\n",
       "      <td>7</td>\n",
       "      <td>NaN</td>\n",
       "      <td>8</td>\n",
       "    </tr>\n",
       "  </tbody>\n",
       "</table>\n",
       "</div>"
      ],
      "text/plain": [
       "   Texas  Utah  California\n",
       "a      1   NaN           2\n",
       "c      4   NaN           5\n",
       "d      7   NaN           8"
      ]
     },
     "execution_count": 81,
     "metadata": {},
     "output_type": "execute_result"
    }
   ],
   "source": [
    "states = ['Texas','Utah','California']\n",
    "frame.reindex(columns=states)"
   ]
  },
  {
   "cell_type": "code",
   "execution_count": 83,
   "metadata": {
    "collapsed": true
   },
   "outputs": [],
   "source": [
    "# frame.reindex(index=['a','b','c','d'], method='ffill',\n",
    "#               columns=states)"
   ]
  },
  {
   "cell_type": "code",
   "execution_count": 84,
   "metadata": {},
   "outputs": [
    {
     "data": {
      "text/html": [
       "<div>\n",
       "<style>\n",
       "    .dataframe thead tr:only-child th {\n",
       "        text-align: right;\n",
       "    }\n",
       "\n",
       "    .dataframe thead th {\n",
       "        text-align: left;\n",
       "    }\n",
       "\n",
       "    .dataframe tbody tr th {\n",
       "        vertical-align: top;\n",
       "    }\n",
       "</style>\n",
       "<table border=\"1\" class=\"dataframe\">\n",
       "  <thead>\n",
       "    <tr style=\"text-align: right;\">\n",
       "      <th></th>\n",
       "      <th>Texas</th>\n",
       "      <th>Utah</th>\n",
       "      <th>California</th>\n",
       "    </tr>\n",
       "  </thead>\n",
       "  <tbody>\n",
       "    <tr>\n",
       "      <th>a</th>\n",
       "      <td>1.0</td>\n",
       "      <td>NaN</td>\n",
       "      <td>2.0</td>\n",
       "    </tr>\n",
       "    <tr>\n",
       "      <th>b</th>\n",
       "      <td>NaN</td>\n",
       "      <td>NaN</td>\n",
       "      <td>NaN</td>\n",
       "    </tr>\n",
       "    <tr>\n",
       "      <th>c</th>\n",
       "      <td>4.0</td>\n",
       "      <td>NaN</td>\n",
       "      <td>5.0</td>\n",
       "    </tr>\n",
       "    <tr>\n",
       "      <th>d</th>\n",
       "      <td>7.0</td>\n",
       "      <td>NaN</td>\n",
       "      <td>8.0</td>\n",
       "    </tr>\n",
       "  </tbody>\n",
       "</table>\n",
       "</div>"
      ],
      "text/plain": [
       "   Texas  Utah  California\n",
       "a    1.0   NaN         2.0\n",
       "b    NaN   NaN         NaN\n",
       "c    4.0   NaN         5.0\n",
       "d    7.0   NaN         8.0"
      ]
     },
     "execution_count": 84,
     "metadata": {},
     "output_type": "execute_result"
    }
   ],
   "source": [
    "frame.ix[['a','b','c','d'], states]"
   ]
  },
  {
   "cell_type": "markdown",
   "metadata": {},
   "source": [
    "#### 丢弃指定轴上的项\n",
    "只需要一个索引数组或列表即可<br />\n",
    "drop返回的是一个在指定轴上删除了指定值的新对象"
   ]
  },
  {
   "cell_type": "code",
   "execution_count": 86,
   "metadata": {},
   "outputs": [
    {
     "data": {
      "text/plain": [
       "a    0.0\n",
       "b    1.0\n",
       "d    3.0\n",
       "e    4.0\n",
       "dtype: float64"
      ]
     },
     "execution_count": 86,
     "metadata": {},
     "output_type": "execute_result"
    }
   ],
   "source": [
    "obj = Series(np.arange(5.), index=['a','b','c','d','e'])\n",
    "new_obj = obj.drop('c')\n",
    "new_obj"
   ]
  },
  {
   "cell_type": "code",
   "execution_count": 87,
   "metadata": {},
   "outputs": [
    {
     "data": {
      "text/plain": [
       "a    0.0\n",
       "b    1.0\n",
       "e    4.0\n",
       "dtype: float64"
      ]
     },
     "execution_count": 87,
     "metadata": {},
     "output_type": "execute_result"
    }
   ],
   "source": [
    "obj.drop(['d','c'])"
   ]
  },
  {
   "cell_type": "markdown",
   "metadata": {},
   "source": [
    "⬇️对于DataFrame，可以删除任意轴上的索引值\n",
    "<br />不是在原对象上做操作"
   ]
  },
  {
   "cell_type": "code",
   "execution_count": 90,
   "metadata": {},
   "outputs": [
    {
     "name": "stdout",
     "output_type": "stream",
     "text": [
      "          one  two  three  four\n",
      "Ohio        0    1      2     3\n",
      "Colorado    4    5      6     7\n",
      "Utah        8    9     10    11\n",
      "New York   12   13     14    15\n"
     ]
    },
    {
     "data": {
      "text/html": [
       "<div>\n",
       "<style>\n",
       "    .dataframe thead tr:only-child th {\n",
       "        text-align: right;\n",
       "    }\n",
       "\n",
       "    .dataframe thead th {\n",
       "        text-align: left;\n",
       "    }\n",
       "\n",
       "    .dataframe tbody tr th {\n",
       "        vertical-align: top;\n",
       "    }\n",
       "</style>\n",
       "<table border=\"1\" class=\"dataframe\">\n",
       "  <thead>\n",
       "    <tr style=\"text-align: right;\">\n",
       "      <th></th>\n",
       "      <th>one</th>\n",
       "      <th>two</th>\n",
       "      <th>three</th>\n",
       "      <th>four</th>\n",
       "    </tr>\n",
       "  </thead>\n",
       "  <tbody>\n",
       "    <tr>\n",
       "      <th>Utah</th>\n",
       "      <td>8</td>\n",
       "      <td>9</td>\n",
       "      <td>10</td>\n",
       "      <td>11</td>\n",
       "    </tr>\n",
       "    <tr>\n",
       "      <th>New York</th>\n",
       "      <td>12</td>\n",
       "      <td>13</td>\n",
       "      <td>14</td>\n",
       "      <td>15</td>\n",
       "    </tr>\n",
       "  </tbody>\n",
       "</table>\n",
       "</div>"
      ],
      "text/plain": [
       "          one  two  three  four\n",
       "Utah        8    9     10    11\n",
       "New York   12   13     14    15"
      ]
     },
     "execution_count": 90,
     "metadata": {},
     "output_type": "execute_result"
    }
   ],
   "source": [
    "data = DataFrame(np.arange(16).reshape((4,4)),\n",
    "                 index=['Ohio','Colorado','Utah','New York'],\n",
    "                 columns=['one','two','three','four'])\n",
    "print(data)\n",
    "data.drop(['Colorado','Ohio'])"
   ]
  },
  {
   "cell_type": "code",
   "execution_count": 93,
   "metadata": {},
   "outputs": [
    {
     "data": {
      "text/html": [
       "<div>\n",
       "<style>\n",
       "    .dataframe thead tr:only-child th {\n",
       "        text-align: right;\n",
       "    }\n",
       "\n",
       "    .dataframe thead th {\n",
       "        text-align: left;\n",
       "    }\n",
       "\n",
       "    .dataframe tbody tr th {\n",
       "        vertical-align: top;\n",
       "    }\n",
       "</style>\n",
       "<table border=\"1\" class=\"dataframe\">\n",
       "  <thead>\n",
       "    <tr style=\"text-align: right;\">\n",
       "      <th></th>\n",
       "      <th>one</th>\n",
       "      <th>three</th>\n",
       "      <th>four</th>\n",
       "    </tr>\n",
       "  </thead>\n",
       "  <tbody>\n",
       "    <tr>\n",
       "      <th>Ohio</th>\n",
       "      <td>0</td>\n",
       "      <td>2</td>\n",
       "      <td>3</td>\n",
       "    </tr>\n",
       "    <tr>\n",
       "      <th>Colorado</th>\n",
       "      <td>4</td>\n",
       "      <td>6</td>\n",
       "      <td>7</td>\n",
       "    </tr>\n",
       "    <tr>\n",
       "      <th>Utah</th>\n",
       "      <td>8</td>\n",
       "      <td>10</td>\n",
       "      <td>11</td>\n",
       "    </tr>\n",
       "    <tr>\n",
       "      <th>New York</th>\n",
       "      <td>12</td>\n",
       "      <td>14</td>\n",
       "      <td>15</td>\n",
       "    </tr>\n",
       "  </tbody>\n",
       "</table>\n",
       "</div>"
      ],
      "text/plain": [
       "          one  three  four\n",
       "Ohio        0      2     3\n",
       "Colorado    4      6     7\n",
       "Utah        8     10    11\n",
       "New York   12     14    15"
      ]
     },
     "execution_count": 93,
     "metadata": {},
     "output_type": "execute_result"
    }
   ],
   "source": [
    "data.drop('two',axis=1)"
   ]
  },
  {
   "cell_type": "code",
   "execution_count": 94,
   "metadata": {},
   "outputs": [
    {
     "data": {
      "text/html": [
       "<div>\n",
       "<style>\n",
       "    .dataframe thead tr:only-child th {\n",
       "        text-align: right;\n",
       "    }\n",
       "\n",
       "    .dataframe thead th {\n",
       "        text-align: left;\n",
       "    }\n",
       "\n",
       "    .dataframe tbody tr th {\n",
       "        vertical-align: top;\n",
       "    }\n",
       "</style>\n",
       "<table border=\"1\" class=\"dataframe\">\n",
       "  <thead>\n",
       "    <tr style=\"text-align: right;\">\n",
       "      <th></th>\n",
       "      <th>one</th>\n",
       "      <th>three</th>\n",
       "    </tr>\n",
       "  </thead>\n",
       "  <tbody>\n",
       "    <tr>\n",
       "      <th>Ohio</th>\n",
       "      <td>0</td>\n",
       "      <td>2</td>\n",
       "    </tr>\n",
       "    <tr>\n",
       "      <th>Colorado</th>\n",
       "      <td>4</td>\n",
       "      <td>6</td>\n",
       "    </tr>\n",
       "    <tr>\n",
       "      <th>Utah</th>\n",
       "      <td>8</td>\n",
       "      <td>10</td>\n",
       "    </tr>\n",
       "    <tr>\n",
       "      <th>New York</th>\n",
       "      <td>12</td>\n",
       "      <td>14</td>\n",
       "    </tr>\n",
       "  </tbody>\n",
       "</table>\n",
       "</div>"
      ],
      "text/plain": [
       "          one  three\n",
       "Ohio        0      2\n",
       "Colorado    4      6\n",
       "Utah        8     10\n",
       "New York   12     14"
      ]
     },
     "execution_count": 94,
     "metadata": {},
     "output_type": "execute_result"
    }
   ],
   "source": [
    "data.drop(['two','four'],axis=1)"
   ]
  },
  {
   "cell_type": "markdown",
   "metadata": {},
   "source": [
    "#### 索引、选取和过滤\n",
    "Series索引类似于Numpy数组的索引。<br />\n",
    "Series的索引值不只是整数。"
   ]
  },
  {
   "cell_type": "code",
   "execution_count": 99,
   "metadata": {},
   "outputs": [
    {
     "name": "stdout",
     "output_type": "stream",
     "text": [
      "1.0\n",
      "1.0\n",
      "c    2.0\n",
      "d    3.0\n",
      "dtype: float64\n",
      "b    1.0\n",
      "a    0.0\n",
      "d    3.0\n",
      "dtype: float64\n",
      "b    1.0\n",
      "d    3.0\n",
      "dtype: float64\n",
      "a    0.0\n",
      "b    1.0\n",
      "dtype: float64\n"
     ]
    }
   ],
   "source": [
    "obj = Series(np.arange(4.), index=['a','b','c','d'])\n",
    "print(obj['b'])\n",
    "print(obj[1])\n",
    "print(obj[2:4])\n",
    "print(obj[['b','a','d']])\n",
    "print(obj[[1,3]])\n",
    "print(obj[obj<2])"
   ]
  },
  {
   "cell_type": "markdown",
   "metadata": {},
   "source": [
    "利用标签的切片运算，其末端是包含的(不同于普通的切片)"
   ]
  },
  {
   "cell_type": "code",
   "execution_count": 103,
   "metadata": {},
   "outputs": [
    {
     "data": {
      "text/plain": [
       "b    1.0\n",
       "c    2.0\n",
       "dtype: float64"
      ]
     },
     "execution_count": 103,
     "metadata": {},
     "output_type": "execute_result"
    }
   ],
   "source": [
    "obj['b':'c']"
   ]
  },
  {
   "cell_type": "code",
   "execution_count": 104,
   "metadata": {},
   "outputs": [
    {
     "data": {
      "text/plain": [
       "a    0.0\n",
       "b    5.0\n",
       "c    5.0\n",
       "d    3.0\n",
       "dtype: float64"
      ]
     },
     "execution_count": 104,
     "metadata": {},
     "output_type": "execute_result"
    }
   ],
   "source": [
    "obj['b':'c']=5\n",
    "obj"
   ]
  },
  {
   "cell_type": "code",
   "execution_count": 105,
   "metadata": {},
   "outputs": [
    {
     "data": {
      "text/html": [
       "<div>\n",
       "<style>\n",
       "    .dataframe thead tr:only-child th {\n",
       "        text-align: right;\n",
       "    }\n",
       "\n",
       "    .dataframe thead th {\n",
       "        text-align: left;\n",
       "    }\n",
       "\n",
       "    .dataframe tbody tr th {\n",
       "        vertical-align: top;\n",
       "    }\n",
       "</style>\n",
       "<table border=\"1\" class=\"dataframe\">\n",
       "  <thead>\n",
       "    <tr style=\"text-align: right;\">\n",
       "      <th></th>\n",
       "      <th>one</th>\n",
       "      <th>two</th>\n",
       "      <th>three</th>\n",
       "      <th>four</th>\n",
       "    </tr>\n",
       "  </thead>\n",
       "  <tbody>\n",
       "    <tr>\n",
       "      <th>Ohio</th>\n",
       "      <td>0</td>\n",
       "      <td>1</td>\n",
       "      <td>2</td>\n",
       "      <td>3</td>\n",
       "    </tr>\n",
       "    <tr>\n",
       "      <th>Colorado</th>\n",
       "      <td>4</td>\n",
       "      <td>5</td>\n",
       "      <td>6</td>\n",
       "      <td>7</td>\n",
       "    </tr>\n",
       "    <tr>\n",
       "      <th>Utah</th>\n",
       "      <td>8</td>\n",
       "      <td>9</td>\n",
       "      <td>10</td>\n",
       "      <td>11</td>\n",
       "    </tr>\n",
       "    <tr>\n",
       "      <th>New York</th>\n",
       "      <td>12</td>\n",
       "      <td>13</td>\n",
       "      <td>14</td>\n",
       "      <td>15</td>\n",
       "    </tr>\n",
       "  </tbody>\n",
       "</table>\n",
       "</div>"
      ],
      "text/plain": [
       "          one  two  three  four\n",
       "Ohio        0    1      2     3\n",
       "Colorado    4    5      6     7\n",
       "Utah        8    9     10    11\n",
       "New York   12   13     14    15"
      ]
     },
     "execution_count": 105,
     "metadata": {},
     "output_type": "execute_result"
    }
   ],
   "source": [
    "data = DataFrame(np.arange(16).reshape(4,4),\n",
    "                 index=['Ohio','Colorado','Utah','New York'],\n",
    "                 columns=['one','two','three','four'])\n",
    "data"
   ]
  },
  {
   "cell_type": "code",
   "execution_count": 106,
   "metadata": {},
   "outputs": [
    {
     "data": {
      "text/plain": [
       "Ohio         1\n",
       "Colorado     5\n",
       "Utah         9\n",
       "New York    13\n",
       "Name: two, dtype: int64"
      ]
     },
     "execution_count": 106,
     "metadata": {},
     "output_type": "execute_result"
    }
   ],
   "source": [
    "data['two']"
   ]
  },
  {
   "cell_type": "code",
   "execution_count": 107,
   "metadata": {},
   "outputs": [
    {
     "data": {
      "text/html": [
       "<div>\n",
       "<style>\n",
       "    .dataframe thead tr:only-child th {\n",
       "        text-align: right;\n",
       "    }\n",
       "\n",
       "    .dataframe thead th {\n",
       "        text-align: left;\n",
       "    }\n",
       "\n",
       "    .dataframe tbody tr th {\n",
       "        vertical-align: top;\n",
       "    }\n",
       "</style>\n",
       "<table border=\"1\" class=\"dataframe\">\n",
       "  <thead>\n",
       "    <tr style=\"text-align: right;\">\n",
       "      <th></th>\n",
       "      <th>three</th>\n",
       "      <th>one</th>\n",
       "    </tr>\n",
       "  </thead>\n",
       "  <tbody>\n",
       "    <tr>\n",
       "      <th>Ohio</th>\n",
       "      <td>2</td>\n",
       "      <td>0</td>\n",
       "    </tr>\n",
       "    <tr>\n",
       "      <th>Colorado</th>\n",
       "      <td>6</td>\n",
       "      <td>4</td>\n",
       "    </tr>\n",
       "    <tr>\n",
       "      <th>Utah</th>\n",
       "      <td>10</td>\n",
       "      <td>8</td>\n",
       "    </tr>\n",
       "    <tr>\n",
       "      <th>New York</th>\n",
       "      <td>14</td>\n",
       "      <td>12</td>\n",
       "    </tr>\n",
       "  </tbody>\n",
       "</table>\n",
       "</div>"
      ],
      "text/plain": [
       "          three  one\n",
       "Ohio          2    0\n",
       "Colorado      6    4\n",
       "Utah         10    8\n",
       "New York     14   12"
      ]
     },
     "execution_count": 107,
     "metadata": {},
     "output_type": "execute_result"
    }
   ],
   "source": [
    "data[['three','one']]"
   ]
  },
  {
   "cell_type": "code",
   "execution_count": 108,
   "metadata": {},
   "outputs": [
    {
     "data": {
      "text/html": [
       "<div>\n",
       "<style>\n",
       "    .dataframe thead tr:only-child th {\n",
       "        text-align: right;\n",
       "    }\n",
       "\n",
       "    .dataframe thead th {\n",
       "        text-align: left;\n",
       "    }\n",
       "\n",
       "    .dataframe tbody tr th {\n",
       "        vertical-align: top;\n",
       "    }\n",
       "</style>\n",
       "<table border=\"1\" class=\"dataframe\">\n",
       "  <thead>\n",
       "    <tr style=\"text-align: right;\">\n",
       "      <th></th>\n",
       "      <th>one</th>\n",
       "      <th>two</th>\n",
       "      <th>three</th>\n",
       "      <th>four</th>\n",
       "    </tr>\n",
       "  </thead>\n",
       "  <tbody>\n",
       "    <tr>\n",
       "      <th>Ohio</th>\n",
       "      <td>0</td>\n",
       "      <td>1</td>\n",
       "      <td>2</td>\n",
       "      <td>3</td>\n",
       "    </tr>\n",
       "    <tr>\n",
       "      <th>Colorado</th>\n",
       "      <td>4</td>\n",
       "      <td>5</td>\n",
       "      <td>6</td>\n",
       "      <td>7</td>\n",
       "    </tr>\n",
       "  </tbody>\n",
       "</table>\n",
       "</div>"
      ],
      "text/plain": [
       "          one  two  three  four\n",
       "Ohio        0    1      2     3\n",
       "Colorado    4    5      6     7"
      ]
     },
     "execution_count": 108,
     "metadata": {},
     "output_type": "execute_result"
    }
   ],
   "source": [
    "data[:2] #根据index来切片"
   ]
  },
  {
   "cell_type": "code",
   "execution_count": 109,
   "metadata": {},
   "outputs": [
    {
     "data": {
      "text/html": [
       "<div>\n",
       "<style>\n",
       "    .dataframe thead tr:only-child th {\n",
       "        text-align: right;\n",
       "    }\n",
       "\n",
       "    .dataframe thead th {\n",
       "        text-align: left;\n",
       "    }\n",
       "\n",
       "    .dataframe tbody tr th {\n",
       "        vertical-align: top;\n",
       "    }\n",
       "</style>\n",
       "<table border=\"1\" class=\"dataframe\">\n",
       "  <thead>\n",
       "    <tr style=\"text-align: right;\">\n",
       "      <th></th>\n",
       "      <th>one</th>\n",
       "      <th>two</th>\n",
       "      <th>three</th>\n",
       "      <th>four</th>\n",
       "    </tr>\n",
       "  </thead>\n",
       "  <tbody>\n",
       "    <tr>\n",
       "      <th>Colorado</th>\n",
       "      <td>4</td>\n",
       "      <td>5</td>\n",
       "      <td>6</td>\n",
       "      <td>7</td>\n",
       "    </tr>\n",
       "    <tr>\n",
       "      <th>Utah</th>\n",
       "      <td>8</td>\n",
       "      <td>9</td>\n",
       "      <td>10</td>\n",
       "      <td>11</td>\n",
       "    </tr>\n",
       "    <tr>\n",
       "      <th>New York</th>\n",
       "      <td>12</td>\n",
       "      <td>13</td>\n",
       "      <td>14</td>\n",
       "      <td>15</td>\n",
       "    </tr>\n",
       "  </tbody>\n",
       "</table>\n",
       "</div>"
      ],
      "text/plain": [
       "          one  two  three  four\n",
       "Colorado    4    5      6     7\n",
       "Utah        8    9     10    11\n",
       "New York   12   13     14    15"
      ]
     },
     "execution_count": 109,
     "metadata": {},
     "output_type": "execute_result"
    }
   ],
   "source": [
    "data[data['three']>5]"
   ]
  },
  {
   "cell_type": "code",
   "execution_count": 110,
   "metadata": {},
   "outputs": [
    {
     "data": {
      "text/html": [
       "<div>\n",
       "<style>\n",
       "    .dataframe thead tr:only-child th {\n",
       "        text-align: right;\n",
       "    }\n",
       "\n",
       "    .dataframe thead th {\n",
       "        text-align: left;\n",
       "    }\n",
       "\n",
       "    .dataframe tbody tr th {\n",
       "        vertical-align: top;\n",
       "    }\n",
       "</style>\n",
       "<table border=\"1\" class=\"dataframe\">\n",
       "  <thead>\n",
       "    <tr style=\"text-align: right;\">\n",
       "      <th></th>\n",
       "      <th>one</th>\n",
       "      <th>two</th>\n",
       "      <th>three</th>\n",
       "      <th>four</th>\n",
       "    </tr>\n",
       "  </thead>\n",
       "  <tbody>\n",
       "    <tr>\n",
       "      <th>Ohio</th>\n",
       "      <td>True</td>\n",
       "      <td>True</td>\n",
       "      <td>True</td>\n",
       "      <td>True</td>\n",
       "    </tr>\n",
       "    <tr>\n",
       "      <th>Colorado</th>\n",
       "      <td>True</td>\n",
       "      <td>False</td>\n",
       "      <td>False</td>\n",
       "      <td>False</td>\n",
       "    </tr>\n",
       "    <tr>\n",
       "      <th>Utah</th>\n",
       "      <td>False</td>\n",
       "      <td>False</td>\n",
       "      <td>False</td>\n",
       "      <td>False</td>\n",
       "    </tr>\n",
       "    <tr>\n",
       "      <th>New York</th>\n",
       "      <td>False</td>\n",
       "      <td>False</td>\n",
       "      <td>False</td>\n",
       "      <td>False</td>\n",
       "    </tr>\n",
       "  </tbody>\n",
       "</table>\n",
       "</div>"
      ],
      "text/plain": [
       "            one    two  three   four\n",
       "Ohio       True   True   True   True\n",
       "Colorado   True  False  False  False\n",
       "Utah      False  False  False  False\n",
       "New York  False  False  False  False"
      ]
     },
     "execution_count": 110,
     "metadata": {},
     "output_type": "execute_result"
    }
   ],
   "source": [
    "data<5"
   ]
  },
  {
   "cell_type": "code",
   "execution_count": 114,
   "metadata": {},
   "outputs": [
    {
     "data": {
      "text/html": [
       "<div>\n",
       "<style>\n",
       "    .dataframe thead tr:only-child th {\n",
       "        text-align: right;\n",
       "    }\n",
       "\n",
       "    .dataframe thead th {\n",
       "        text-align: left;\n",
       "    }\n",
       "\n",
       "    .dataframe tbody tr th {\n",
       "        vertical-align: top;\n",
       "    }\n",
       "</style>\n",
       "<table border=\"1\" class=\"dataframe\">\n",
       "  <thead>\n",
       "    <tr style=\"text-align: right;\">\n",
       "      <th></th>\n",
       "      <th>one</th>\n",
       "      <th>two</th>\n",
       "      <th>three</th>\n",
       "      <th>four</th>\n",
       "    </tr>\n",
       "  </thead>\n",
       "  <tbody>\n",
       "    <tr>\n",
       "      <th>Ohio</th>\n",
       "      <td>0</td>\n",
       "      <td>0</td>\n",
       "      <td>0</td>\n",
       "      <td>0</td>\n",
       "    </tr>\n",
       "    <tr>\n",
       "      <th>Colorado</th>\n",
       "      <td>0</td>\n",
       "      <td>5</td>\n",
       "      <td>6</td>\n",
       "      <td>7</td>\n",
       "    </tr>\n",
       "    <tr>\n",
       "      <th>Utah</th>\n",
       "      <td>8</td>\n",
       "      <td>9</td>\n",
       "      <td>10</td>\n",
       "      <td>11</td>\n",
       "    </tr>\n",
       "    <tr>\n",
       "      <th>New York</th>\n",
       "      <td>12</td>\n",
       "      <td>13</td>\n",
       "      <td>14</td>\n",
       "      <td>15</td>\n",
       "    </tr>\n",
       "  </tbody>\n",
       "</table>\n",
       "</div>"
      ],
      "text/plain": [
       "          one  two  three  four\n",
       "Ohio        0    0      0     0\n",
       "Colorado    0    5      6     7\n",
       "Utah        8    9     10    11\n",
       "New York   12   13     14    15"
      ]
     },
     "execution_count": 114,
     "metadata": {},
     "output_type": "execute_result"
    }
   ],
   "source": [
    "data[data<5]=0\n",
    "data"
   ]
  },
  {
   "cell_type": "code",
   "execution_count": 115,
   "metadata": {},
   "outputs": [
    {
     "data": {
      "text/plain": [
       "two      5\n",
       "three    6\n",
       "Name: Colorado, dtype: int64"
      ]
     },
     "execution_count": 115,
     "metadata": {},
     "output_type": "execute_result"
    }
   ],
   "source": [
    "data.ix['Colorado',['two','three']]"
   ]
  },
  {
   "cell_type": "code",
   "execution_count": 116,
   "metadata": {},
   "outputs": [
    {
     "data": {
      "text/plain": [
       "one       8\n",
       "two       9\n",
       "three    10\n",
       "four     11\n",
       "Name: Utah, dtype: int64"
      ]
     },
     "execution_count": 116,
     "metadata": {},
     "output_type": "execute_result"
    }
   ],
   "source": [
    "data.ix[2]"
   ]
  },
  {
   "cell_type": "code",
   "execution_count": 117,
   "metadata": {},
   "outputs": [
    {
     "data": {
      "text/plain": [
       "Ohio        0\n",
       "Colorado    5\n",
       "Utah        9\n",
       "Name: two, dtype: int64"
      ]
     },
     "execution_count": 117,
     "metadata": {},
     "output_type": "execute_result"
    }
   ],
   "source": [
    "data.ix[:'Utah','two']"
   ]
  },
  {
   "cell_type": "code",
   "execution_count": 122,
   "metadata": {},
   "outputs": [
    {
     "data": {
      "text/html": [
       "<div>\n",
       "<style>\n",
       "    .dataframe thead tr:only-child th {\n",
       "        text-align: right;\n",
       "    }\n",
       "\n",
       "    .dataframe thead th {\n",
       "        text-align: left;\n",
       "    }\n",
       "\n",
       "    .dataframe tbody tr th {\n",
       "        vertical-align: top;\n",
       "    }\n",
       "</style>\n",
       "<table border=\"1\" class=\"dataframe\">\n",
       "  <thead>\n",
       "    <tr style=\"text-align: right;\">\n",
       "      <th></th>\n",
       "      <th>one</th>\n",
       "      <th>two</th>\n",
       "      <th>three</th>\n",
       "    </tr>\n",
       "  </thead>\n",
       "  <tbody>\n",
       "    <tr>\n",
       "      <th>Colorado</th>\n",
       "      <td>0</td>\n",
       "      <td>5</td>\n",
       "      <td>6</td>\n",
       "    </tr>\n",
       "    <tr>\n",
       "      <th>Utah</th>\n",
       "      <td>8</td>\n",
       "      <td>9</td>\n",
       "      <td>10</td>\n",
       "    </tr>\n",
       "    <tr>\n",
       "      <th>New York</th>\n",
       "      <td>12</td>\n",
       "      <td>13</td>\n",
       "      <td>14</td>\n",
       "    </tr>\n",
       "  </tbody>\n",
       "</table>\n",
       "</div>"
      ],
      "text/plain": [
       "          one  two  three\n",
       "Colorado    0    5      6\n",
       "Utah        8    9     10\n",
       "New York   12   13     14"
      ]
     },
     "execution_count": 122,
     "metadata": {},
     "output_type": "execute_result"
    }
   ],
   "source": [
    "data.ix[data.three > 5, :3]"
   ]
  },
  {
   "cell_type": "markdown",
   "metadata": {},
   "source": [
    "#### 算术运算和数据对齐\n"
   ]
  },
  {
   "cell_type": "code",
   "execution_count": 123,
   "metadata": {},
   "outputs": [
    {
     "name": "stdout",
     "output_type": "stream",
     "text": [
      "a    7.3\n",
      "c   -2.5\n",
      "d    3.4\n",
      "e    1.5\n",
      "dtype: float64\n",
      "a   -2.1\n",
      "c    3.6\n",
      "e   -1.5\n",
      "f    4.0\n",
      "g    3.1\n",
      "dtype: float64\n"
     ]
    }
   ],
   "source": [
    "s1 = Series([7.3, -2.5, 3.4, 1.5], index=['a','c','d','e'])\n",
    "s2 = Series([-2.1, 3.6, -1.5, 4, 3.1], index=['a','c','e','f','g'])\n",
    "print(s1)\n",
    "print(s2)"
   ]
  },
  {
   "cell_type": "code",
   "execution_count": 124,
   "metadata": {},
   "outputs": [
    {
     "data": {
      "text/plain": [
       "a    5.2\n",
       "c    1.1\n",
       "d    NaN\n",
       "e    0.0\n",
       "f    NaN\n",
       "g    NaN\n",
       "dtype: float64"
      ]
     },
     "execution_count": 124,
     "metadata": {},
     "output_type": "execute_result"
    }
   ],
   "source": [
    "s1+s2"
   ]
  },
  {
   "cell_type": "code",
   "execution_count": 126,
   "metadata": {},
   "outputs": [
    {
     "name": "stdout",
     "output_type": "stream",
     "text": [
      "            b    c    d\n",
      "Ohio      0.0  1.0  2.0\n",
      "Texas     3.0  4.0  5.0\n",
      "Colorado  6.0  7.0  8.0\n",
      "          b     d     e\n",
      "Utah    0.0   1.0   2.0\n",
      "Ohio    3.0   4.0   5.0\n",
      "Texas   6.0   7.0   8.0\n",
      "Oregon  9.0  10.0  11.0\n",
      "            b   c     d   e\n",
      "Colorado  NaN NaN   NaN NaN\n",
      "Ohio      3.0 NaN   6.0 NaN\n",
      "Oregon    NaN NaN   NaN NaN\n",
      "Texas     9.0 NaN  12.0 NaN\n",
      "Utah      NaN NaN   NaN NaN\n"
     ]
    }
   ],
   "source": [
    "df1 = DataFrame(np.arange(9.).reshape(3,3), columns=list('bcd'),\n",
    "                index=['Ohio','Texas','Colorado'])\n",
    "df2 = DataFrame(np.arange(12.).reshape(4,3), columns=list('bde'),\n",
    "                index=['Utah','Ohio','Texas','Oregon'])\n",
    "print(df1)\n",
    "print(df2)\n",
    "print(df1+df2)#索引为并集"
   ]
  },
  {
   "cell_type": "code",
   "execution_count": 128,
   "metadata": {},
   "outputs": [
    {
     "name": "stdout",
     "output_type": "stream",
     "text": [
      "     a    b     c     d\n",
      "0  0.0  1.0   2.0   3.0\n",
      "1  4.0  5.0   6.0   7.0\n",
      "2  8.0  9.0  10.0  11.0\n",
      "      a     b     c     d     e\n",
      "0   0.0   1.0   2.0   3.0   4.0\n",
      "1   5.0   6.0   7.0   8.0   9.0\n",
      "2  10.0  11.0  12.0  13.0  14.0\n",
      "3  15.0  16.0  17.0  18.0  19.0\n",
      "      a     b     c     d   e\n",
      "0   0.0   2.0   4.0   6.0 NaN\n",
      "1   9.0  11.0  13.0  15.0 NaN\n",
      "2  18.0  20.0  22.0  24.0 NaN\n",
      "3   NaN   NaN   NaN   NaN NaN\n",
      "      a     b     c     d     e\n",
      "0   0.0   2.0   4.0   6.0   4.0\n",
      "1   9.0  11.0  13.0  15.0   9.0\n",
      "2  18.0  20.0  22.0  24.0  14.0\n",
      "3  15.0  16.0  17.0  18.0  19.0\n"
     ]
    }
   ],
   "source": [
    "df1 = DataFrame(np.arange(12.).reshape((3,4)),columns=list('abcd'))\n",
    "df2 = DataFrame(np.arange(20.).reshape((4,5)),columns=list('abcde'))\n",
    "print(df1)\n",
    "print(df2)\n",
    "print(df1+df2)\n",
    "print(df1.add(df2,fill_value=0))"
   ]
  },
  {
   "cell_type": "code",
   "execution_count": 129,
   "metadata": {},
   "outputs": [
    {
     "data": {
      "text/html": [
       "<div>\n",
       "<style>\n",
       "    .dataframe thead tr:only-child th {\n",
       "        text-align: right;\n",
       "    }\n",
       "\n",
       "    .dataframe thead th {\n",
       "        text-align: left;\n",
       "    }\n",
       "\n",
       "    .dataframe tbody tr th {\n",
       "        vertical-align: top;\n",
       "    }\n",
       "</style>\n",
       "<table border=\"1\" class=\"dataframe\">\n",
       "  <thead>\n",
       "    <tr style=\"text-align: right;\">\n",
       "      <th></th>\n",
       "      <th>a</th>\n",
       "      <th>b</th>\n",
       "      <th>c</th>\n",
       "      <th>d</th>\n",
       "      <th>e</th>\n",
       "    </tr>\n",
       "  </thead>\n",
       "  <tbody>\n",
       "    <tr>\n",
       "      <th>0</th>\n",
       "      <td>0.0</td>\n",
       "      <td>1.0</td>\n",
       "      <td>2.0</td>\n",
       "      <td>3.0</td>\n",
       "      <td>0</td>\n",
       "    </tr>\n",
       "    <tr>\n",
       "      <th>1</th>\n",
       "      <td>4.0</td>\n",
       "      <td>5.0</td>\n",
       "      <td>6.0</td>\n",
       "      <td>7.0</td>\n",
       "      <td>0</td>\n",
       "    </tr>\n",
       "    <tr>\n",
       "      <th>2</th>\n",
       "      <td>8.0</td>\n",
       "      <td>9.0</td>\n",
       "      <td>10.0</td>\n",
       "      <td>11.0</td>\n",
       "      <td>0</td>\n",
       "    </tr>\n",
       "  </tbody>\n",
       "</table>\n",
       "</div>"
      ],
      "text/plain": [
       "     a    b     c     d  e\n",
       "0  0.0  1.0   2.0   3.0  0\n",
       "1  4.0  5.0   6.0   7.0  0\n",
       "2  8.0  9.0  10.0  11.0  0"
      ]
     },
     "execution_count": 129,
     "metadata": {},
     "output_type": "execute_result"
    }
   ],
   "source": [
    "df1.reindex(columns=df2.columns,fill_value=0)"
   ]
  },
  {
   "cell_type": "markdown",
   "metadata": {},
   "source": [
    "#### DataFrame和Series之间的运算"
   ]
  },
  {
   "cell_type": "code",
   "execution_count": 130,
   "metadata": {},
   "outputs": [
    {
     "data": {
      "text/plain": [
       "array([[  0.,   1.,   2.,   3.],\n",
       "       [  4.,   5.,   6.,   7.],\n",
       "       [  8.,   9.,  10.,  11.]])"
      ]
     },
     "execution_count": 130,
     "metadata": {},
     "output_type": "execute_result"
    }
   ],
   "source": [
    "arr = np.arange(12.).reshape((3,4))\n",
    "arr"
   ]
  },
  {
   "cell_type": "code",
   "execution_count": 131,
   "metadata": {},
   "outputs": [
    {
     "data": {
      "text/plain": [
       "array([ 0.,  1.,  2.,  3.])"
      ]
     },
     "execution_count": 131,
     "metadata": {},
     "output_type": "execute_result"
    }
   ],
   "source": [
    "arr[0]"
   ]
  },
  {
   "cell_type": "code",
   "execution_count": 132,
   "metadata": {},
   "outputs": [
    {
     "data": {
      "text/plain": [
       "array([[ 0.,  0.,  0.,  0.],\n",
       "       [ 4.,  4.,  4.,  4.],\n",
       "       [ 8.,  8.,  8.,  8.]])"
      ]
     },
     "execution_count": 132,
     "metadata": {},
     "output_type": "execute_result"
    }
   ],
   "source": [
    "arr-arr[0]"
   ]
  },
  {
   "cell_type": "code",
   "execution_count": 135,
   "metadata": {},
   "outputs": [
    {
     "name": "stdout",
     "output_type": "stream",
     "text": [
      "          b     d     e\n",
      "Utah    0.0   1.0   2.0\n",
      "Ohio    3.0   4.0   5.0\n",
      "Texas   6.0   7.0   8.0\n",
      "Oregon  9.0  10.0  11.0\n",
      "b    0.0\n",
      "d    1.0\n",
      "e    2.0\n",
      "Name: Utah, dtype: float64\n",
      "          b    d    e\n",
      "Utah    0.0  0.0  0.0\n",
      "Ohio    3.0  3.0  3.0\n",
      "Texas   6.0  6.0  6.0\n",
      "Oregon  9.0  9.0  9.0\n"
     ]
    }
   ],
   "source": [
    "frame = DataFrame(np.arange(12.).reshape((4,3)), columns=list('bde'),\n",
    "                  index=['Utah','Ohio','Texas','Oregon'])\n",
    "series = frame.iloc[0]\n",
    "print(frame)\n",
    "print(series)\n",
    "print(frame-series)"
   ]
  },
  {
   "cell_type": "code",
   "execution_count": 137,
   "metadata": {},
   "outputs": [
    {
     "name": "stdout",
     "output_type": "stream",
     "text": [
      "b    0\n",
      "e    1\n",
      "f    2\n",
      "dtype: int64\n",
      "          b   d     e   f\n",
      "Utah    0.0 NaN   3.0 NaN\n",
      "Ohio    3.0 NaN   6.0 NaN\n",
      "Texas   6.0 NaN   9.0 NaN\n",
      "Oregon  9.0 NaN  12.0 NaN\n"
     ]
    }
   ],
   "source": [
    "series2 = Series(range(3), index=['b','e','f'])\n",
    "print(series2)\n",
    "print(series2+frame)"
   ]
  },
  {
   "cell_type": "markdown",
   "metadata": {},
   "source": [
    "⬇️若希望匹配行且在列上广播，则必须使用算术运算方法。例如："
   ]
  },
  {
   "cell_type": "code",
   "execution_count": 138,
   "metadata": {},
   "outputs": [
    {
     "name": "stdout",
     "output_type": "stream",
     "text": [
      "          b     d     e\n",
      "Utah    0.0   1.0   2.0\n",
      "Ohio    3.0   4.0   5.0\n",
      "Texas   6.0   7.0   8.0\n",
      "Oregon  9.0  10.0  11.0\n",
      "Utah       1.0\n",
      "Ohio       4.0\n",
      "Texas      7.0\n",
      "Oregon    10.0\n",
      "Name: d, dtype: float64\n"
     ]
    }
   ],
   "source": [
    "series3 = frame['d']\n",
    "print(frame)\n",
    "print(series3)"
   ]
  },
  {
   "cell_type": "code",
   "execution_count": 139,
   "metadata": {},
   "outputs": [
    {
     "data": {
      "text/html": [
       "<div>\n",
       "<style>\n",
       "    .dataframe thead tr:only-child th {\n",
       "        text-align: right;\n",
       "    }\n",
       "\n",
       "    .dataframe thead th {\n",
       "        text-align: left;\n",
       "    }\n",
       "\n",
       "    .dataframe tbody tr th {\n",
       "        vertical-align: top;\n",
       "    }\n",
       "</style>\n",
       "<table border=\"1\" class=\"dataframe\">\n",
       "  <thead>\n",
       "    <tr style=\"text-align: right;\">\n",
       "      <th></th>\n",
       "      <th>b</th>\n",
       "      <th>d</th>\n",
       "      <th>e</th>\n",
       "    </tr>\n",
       "  </thead>\n",
       "  <tbody>\n",
       "    <tr>\n",
       "      <th>Utah</th>\n",
       "      <td>-1.0</td>\n",
       "      <td>0.0</td>\n",
       "      <td>1.0</td>\n",
       "    </tr>\n",
       "    <tr>\n",
       "      <th>Ohio</th>\n",
       "      <td>-1.0</td>\n",
       "      <td>0.0</td>\n",
       "      <td>1.0</td>\n",
       "    </tr>\n",
       "    <tr>\n",
       "      <th>Texas</th>\n",
       "      <td>-1.0</td>\n",
       "      <td>0.0</td>\n",
       "      <td>1.0</td>\n",
       "    </tr>\n",
       "    <tr>\n",
       "      <th>Oregon</th>\n",
       "      <td>-1.0</td>\n",
       "      <td>0.0</td>\n",
       "      <td>1.0</td>\n",
       "    </tr>\n",
       "  </tbody>\n",
       "</table>\n",
       "</div>"
      ],
      "text/plain": [
       "          b    d    e\n",
       "Utah   -1.0  0.0  1.0\n",
       "Ohio   -1.0  0.0  1.0\n",
       "Texas  -1.0  0.0  1.0\n",
       "Oregon -1.0  0.0  1.0"
      ]
     },
     "execution_count": 139,
     "metadata": {},
     "output_type": "execute_result"
    }
   ],
   "source": [
    "frame.sub(series3,axis=0)"
   ]
  },
  {
   "cell_type": "markdown",
   "metadata": {},
   "source": [
    "#### 函数应用和映射\n",
    "Numpy的uFuncs(元素级数组方法)也可用于操作pandas对象"
   ]
  },
  {
   "cell_type": "code",
   "execution_count": 140,
   "metadata": {},
   "outputs": [
    {
     "name": "stdout",
     "output_type": "stream",
     "text": [
      "               b         d         e\n",
      "Utah   -2.256232  0.985631  0.935862\n",
      "Ohio    0.242009  0.147955  1.274762\n",
      "Texas   1.075092 -0.038072 -0.365905\n",
      "Oregon  1.186930 -0.542325 -0.624620\n",
      "               b         d         e\n",
      "Utah    2.256232  0.985631  0.935862\n",
      "Ohio    0.242009  0.147955  1.274762\n",
      "Texas   1.075092  0.038072  0.365905\n",
      "Oregon  1.186930  0.542325  0.624620\n"
     ]
    }
   ],
   "source": [
    "frame = DataFrame(np.random.randn(4,3),columns=list('bde'),\n",
    "                  index=['Utah','Ohio','Texas','Oregon'])\n",
    "print(frame)\n",
    "print(np.abs(frame))"
   ]
  },
  {
   "cell_type": "code",
   "execution_count": 141,
   "metadata": {},
   "outputs": [
    {
     "name": "stdout",
     "output_type": "stream",
     "text": [
      "b    3.443162\n",
      "d    1.527957\n",
      "e    1.899382\n",
      "dtype: float64\n",
      "Utah      3.241863\n",
      "Ohio      1.126807\n",
      "Texas     1.440997\n",
      "Oregon    1.811551\n",
      "dtype: float64\n"
     ]
    }
   ],
   "source": [
    "f = lambda x: x.max() - x.min()\n",
    "print(frame.apply(f))\n",
    "print(frame.apply(f,axis=1))"
   ]
  },
  {
   "cell_type": "markdown",
   "metadata": {},
   "source": [
    "许多最为常见的数组统计功能都被实现成DataFr的方法（如sum和mean）<br />\n",
    "因此无需使用apply方法"
   ]
  },
  {
   "cell_type": "code",
   "execution_count": 142,
   "metadata": {},
   "outputs": [
    {
     "data": {
      "text/html": [
       "<div>\n",
       "<style>\n",
       "    .dataframe thead tr:only-child th {\n",
       "        text-align: right;\n",
       "    }\n",
       "\n",
       "    .dataframe thead th {\n",
       "        text-align: left;\n",
       "    }\n",
       "\n",
       "    .dataframe tbody tr th {\n",
       "        vertical-align: top;\n",
       "    }\n",
       "</style>\n",
       "<table border=\"1\" class=\"dataframe\">\n",
       "  <thead>\n",
       "    <tr style=\"text-align: right;\">\n",
       "      <th></th>\n",
       "      <th>b</th>\n",
       "      <th>d</th>\n",
       "      <th>e</th>\n",
       "    </tr>\n",
       "  </thead>\n",
       "  <tbody>\n",
       "    <tr>\n",
       "      <th>min</th>\n",
       "      <td>-2.256232</td>\n",
       "      <td>-0.542325</td>\n",
       "      <td>-0.624620</td>\n",
       "    </tr>\n",
       "    <tr>\n",
       "      <th>max</th>\n",
       "      <td>1.186930</td>\n",
       "      <td>0.985631</td>\n",
       "      <td>1.274762</td>\n",
       "    </tr>\n",
       "  </tbody>\n",
       "</table>\n",
       "</div>"
      ],
      "text/plain": [
       "            b         d         e\n",
       "min -2.256232 -0.542325 -0.624620\n",
       "max  1.186930  0.985631  1.274762"
      ]
     },
     "execution_count": 142,
     "metadata": {},
     "output_type": "execute_result"
    }
   ],
   "source": [
    "def f(x):\n",
    "    return Series([x.min(),x.max()],index=['min','max'])\n",
    "frame.apply(f)"
   ]
  },
  {
   "cell_type": "code",
   "execution_count": 143,
   "metadata": {},
   "outputs": [
    {
     "data": {
      "text/html": [
       "<div>\n",
       "<style>\n",
       "    .dataframe thead tr:only-child th {\n",
       "        text-align: right;\n",
       "    }\n",
       "\n",
       "    .dataframe thead th {\n",
       "        text-align: left;\n",
       "    }\n",
       "\n",
       "    .dataframe tbody tr th {\n",
       "        vertical-align: top;\n",
       "    }\n",
       "</style>\n",
       "<table border=\"1\" class=\"dataframe\">\n",
       "  <thead>\n",
       "    <tr style=\"text-align: right;\">\n",
       "      <th></th>\n",
       "      <th>b</th>\n",
       "      <th>d</th>\n",
       "      <th>e</th>\n",
       "    </tr>\n",
       "  </thead>\n",
       "  <tbody>\n",
       "    <tr>\n",
       "      <th>Utah</th>\n",
       "      <td>-2.26</td>\n",
       "      <td>0.99</td>\n",
       "      <td>0.94</td>\n",
       "    </tr>\n",
       "    <tr>\n",
       "      <th>Ohio</th>\n",
       "      <td>0.24</td>\n",
       "      <td>0.15</td>\n",
       "      <td>1.27</td>\n",
       "    </tr>\n",
       "    <tr>\n",
       "      <th>Texas</th>\n",
       "      <td>1.08</td>\n",
       "      <td>-0.04</td>\n",
       "      <td>-0.37</td>\n",
       "    </tr>\n",
       "    <tr>\n",
       "      <th>Oregon</th>\n",
       "      <td>1.19</td>\n",
       "      <td>-0.54</td>\n",
       "      <td>-0.62</td>\n",
       "    </tr>\n",
       "  </tbody>\n",
       "</table>\n",
       "</div>"
      ],
      "text/plain": [
       "            b      d      e\n",
       "Utah    -2.26   0.99   0.94\n",
       "Ohio     0.24   0.15   1.27\n",
       "Texas    1.08  -0.04  -0.37\n",
       "Oregon   1.19  -0.54  -0.62"
      ]
     },
     "execution_count": 143,
     "metadata": {},
     "output_type": "execute_result"
    }
   ],
   "source": [
    "format = lambda x: '%.2f' %x\n",
    "frame.applymap(format)"
   ]
  },
  {
   "cell_type": "code",
   "execution_count": 144,
   "metadata": {},
   "outputs": [
    {
     "data": {
      "text/plain": [
       "Utah       0.94\n",
       "Ohio       1.27\n",
       "Texas     -0.37\n",
       "Oregon    -0.62\n",
       "Name: e, dtype: object"
      ]
     },
     "execution_count": 144,
     "metadata": {},
     "output_type": "execute_result"
    }
   ],
   "source": [
    "frame['e'].map(format)"
   ]
  },
  {
   "cell_type": "markdown",
   "metadata": {},
   "source": [
    "#### 排序和排名"
   ]
  },
  {
   "cell_type": "code",
   "execution_count": 145,
   "metadata": {},
   "outputs": [
    {
     "data": {
      "text/plain": [
       "a    1\n",
       "b    2\n",
       "c    3\n",
       "d    0\n",
       "dtype: int64"
      ]
     },
     "execution_count": 145,
     "metadata": {},
     "output_type": "execute_result"
    }
   ],
   "source": [
    "obj = Series(range(4), index=['d','a','b','c'])\n",
    "obj.sort_index()"
   ]
  },
  {
   "cell_type": "code",
   "execution_count": 146,
   "metadata": {},
   "outputs": [
    {
     "name": "stdout",
     "output_type": "stream",
     "text": [
      "       d  a  b  c\n",
      "one    4  5  6  7\n",
      "three  0  1  2  3\n",
      "       a  b  c  d\n",
      "three  1  2  3  0\n",
      "one    5  6  7  4\n"
     ]
    }
   ],
   "source": [
    "frame = DataFrame(np.arange(8).reshape((2,4)), index=['three', 'one'],\n",
    "                  columns=['d','a','b','c'])\n",
    "print(frame.sort_index())\n",
    "print(frame.sort_index(axis=1))"
   ]
  },
  {
   "cell_type": "code",
   "execution_count": 147,
   "metadata": {},
   "outputs": [
    {
     "data": {
      "text/html": [
       "<div>\n",
       "<style>\n",
       "    .dataframe thead tr:only-child th {\n",
       "        text-align: right;\n",
       "    }\n",
       "\n",
       "    .dataframe thead th {\n",
       "        text-align: left;\n",
       "    }\n",
       "\n",
       "    .dataframe tbody tr th {\n",
       "        vertical-align: top;\n",
       "    }\n",
       "</style>\n",
       "<table border=\"1\" class=\"dataframe\">\n",
       "  <thead>\n",
       "    <tr style=\"text-align: right;\">\n",
       "      <th></th>\n",
       "      <th>d</th>\n",
       "      <th>c</th>\n",
       "      <th>b</th>\n",
       "      <th>a</th>\n",
       "    </tr>\n",
       "  </thead>\n",
       "  <tbody>\n",
       "    <tr>\n",
       "      <th>three</th>\n",
       "      <td>0</td>\n",
       "      <td>3</td>\n",
       "      <td>2</td>\n",
       "      <td>1</td>\n",
       "    </tr>\n",
       "    <tr>\n",
       "      <th>one</th>\n",
       "      <td>4</td>\n",
       "      <td>7</td>\n",
       "      <td>6</td>\n",
       "      <td>5</td>\n",
       "    </tr>\n",
       "  </tbody>\n",
       "</table>\n",
       "</div>"
      ],
      "text/plain": [
       "       d  c  b  a\n",
       "three  0  3  2  1\n",
       "one    4  7  6  5"
      ]
     },
     "execution_count": 147,
     "metadata": {},
     "output_type": "execute_result"
    }
   ],
   "source": [
    "frame.sort_index(axis=1,ascending=False)"
   ]
  },
  {
   "cell_type": "code",
   "execution_count": 150,
   "metadata": {},
   "outputs": [
    {
     "data": {
      "text/plain": [
       "2   -3\n",
       "3    2\n",
       "0    4\n",
       "1    7\n",
       "dtype: int64"
      ]
     },
     "execution_count": 150,
     "metadata": {},
     "output_type": "execute_result"
    }
   ],
   "source": [
    "obj = Series([4,7,-3,2])\n",
    "obj.sort_values() #pyhton3不用order，改用sort_values"
   ]
  },
  {
   "cell_type": "code",
   "execution_count": 151,
   "metadata": {},
   "outputs": [
    {
     "data": {
      "text/plain": [
       "4   -3.0\n",
       "5    2.0\n",
       "0    4.0\n",
       "2    7.0\n",
       "1    NaN\n",
       "3    NaN\n",
       "dtype: float64"
      ]
     },
     "execution_count": 151,
     "metadata": {},
     "output_type": "execute_result"
    }
   ],
   "source": [
    "obj = Series([4,np.nan,7,np.nan,-3,2])\n",
    "obj.sort_values()"
   ]
  },
  {
   "cell_type": "code",
   "execution_count": 153,
   "metadata": {},
   "outputs": [
    {
     "name": "stdout",
     "output_type": "stream",
     "text": [
      "   a  b\n",
      "0  0  4\n",
      "1  1  7\n",
      "2  0 -3\n",
      "3  1  2\n",
      "   a  b\n",
      "2  0 -3\n",
      "3  1  2\n",
      "0  0  4\n",
      "1  1  7\n"
     ]
    },
    {
     "name": "stderr",
     "output_type": "stream",
     "text": [
      "/Users/chenjin/anaconda3/lib/python3.6/site-packages/ipykernel_launcher.py:3: FutureWarning: by argument to sort_index is deprecated, pls use .sort_values(by=...)\n",
      "  This is separate from the ipykernel package so we can avoid doing imports until\n"
     ]
    }
   ],
   "source": [
    "frame = DataFrame({'b':[4,7,-3,2],'a':[0,1,0,1]})\n",
    "print(frame)\n",
    "print(frame.sort_index(by='b'))"
   ]
  },
  {
   "cell_type": "code",
   "execution_count": 154,
   "metadata": {},
   "outputs": [
    {
     "name": "stderr",
     "output_type": "stream",
     "text": [
      "/Users/chenjin/anaconda3/lib/python3.6/site-packages/ipykernel_launcher.py:1: FutureWarning: by argument to sort_index is deprecated, pls use .sort_values(by=...)\n",
      "  \"\"\"Entry point for launching an IPython kernel.\n"
     ]
    },
    {
     "data": {
      "text/html": [
       "<div>\n",
       "<style>\n",
       "    .dataframe thead tr:only-child th {\n",
       "        text-align: right;\n",
       "    }\n",
       "\n",
       "    .dataframe thead th {\n",
       "        text-align: left;\n",
       "    }\n",
       "\n",
       "    .dataframe tbody tr th {\n",
       "        vertical-align: top;\n",
       "    }\n",
       "</style>\n",
       "<table border=\"1\" class=\"dataframe\">\n",
       "  <thead>\n",
       "    <tr style=\"text-align: right;\">\n",
       "      <th></th>\n",
       "      <th>a</th>\n",
       "      <th>b</th>\n",
       "    </tr>\n",
       "  </thead>\n",
       "  <tbody>\n",
       "    <tr>\n",
       "      <th>2</th>\n",
       "      <td>0</td>\n",
       "      <td>-3</td>\n",
       "    </tr>\n",
       "    <tr>\n",
       "      <th>0</th>\n",
       "      <td>0</td>\n",
       "      <td>4</td>\n",
       "    </tr>\n",
       "    <tr>\n",
       "      <th>3</th>\n",
       "      <td>1</td>\n",
       "      <td>2</td>\n",
       "    </tr>\n",
       "    <tr>\n",
       "      <th>1</th>\n",
       "      <td>1</td>\n",
       "      <td>7</td>\n",
       "    </tr>\n",
       "  </tbody>\n",
       "</table>\n",
       "</div>"
      ],
      "text/plain": [
       "   a  b\n",
       "2  0 -3\n",
       "0  0  4\n",
       "3  1  2\n",
       "1  1  7"
      ]
     },
     "execution_count": 154,
     "metadata": {},
     "output_type": "execute_result"
    }
   ],
   "source": [
    "frame.sort_index(by=['a','b'])\n",
    "#这样排序的意思是，先按照a的大小进行排序，在a大小相同的情况下\n",
    "#再按照b的大小进行排序"
   ]
  },
  {
   "cell_type": "markdown",
   "metadata": {},
   "source": [
    "ranking和排序关系密切，它会增设一个排名值<br />\n",
    "rank是通过“为各组分配一个平均排名”的方式破话平级关系的"
   ]
  },
  {
   "cell_type": "code",
   "execution_count": 155,
   "metadata": {},
   "outputs": [
    {
     "data": {
      "text/plain": [
       "0    6.5\n",
       "1    1.0\n",
       "2    6.5\n",
       "3    4.5\n",
       "4    3.0\n",
       "5    2.0\n",
       "6    4.5\n",
       "dtype: float64"
      ]
     },
     "execution_count": 155,
     "metadata": {},
     "output_type": "execute_result"
    }
   ],
   "source": [
    "obj = Series([7, -5, 7, 4, 2, 0, 4])\n",
    "obj.rank()\n",
    "#如果是并列的话则会有小数形式"
   ]
  },
  {
   "cell_type": "code",
   "execution_count": 156,
   "metadata": {},
   "outputs": [
    {
     "data": {
      "text/plain": [
       "0    6.0\n",
       "1    1.0\n",
       "2    7.0\n",
       "3    4.0\n",
       "4    3.0\n",
       "5    2.0\n",
       "6    5.0\n",
       "dtype: float64"
      ]
     },
     "execution_count": 156,
     "metadata": {},
     "output_type": "execute_result"
    }
   ],
   "source": [
    "obj.rank(method='first')"
   ]
  },
  {
   "cell_type": "code",
   "execution_count": 157,
   "metadata": {},
   "outputs": [
    {
     "data": {
      "text/plain": [
       "0    2.0\n",
       "1    7.0\n",
       "2    2.0\n",
       "3    4.0\n",
       "4    5.0\n",
       "5    6.0\n",
       "6    4.0\n",
       "dtype: float64"
      ]
     },
     "execution_count": 157,
     "metadata": {},
     "output_type": "execute_result"
    }
   ],
   "source": [
    "obj.rank(ascending=False,method='max')"
   ]
  },
  {
   "cell_type": "code",
   "execution_count": 159,
   "metadata": {},
   "outputs": [
    {
     "name": "stdout",
     "output_type": "stream",
     "text": [
      "   a    b    c\n",
      "0  0  4.3 -2.0\n",
      "1  1  7.0  5.0\n",
      "2  0 -3.0  8.0\n",
      "3  1  2.0 -2.5\n",
      "     a    b    c\n",
      "0  2.0  3.0  1.0\n",
      "1  1.0  3.0  2.0\n",
      "2  2.0  1.0  3.0\n",
      "3  2.0  3.0  1.0\n"
     ]
    }
   ],
   "source": [
    "frame = DataFrame({'b':[4.3,7,-3,2],'a':[0,1,0,1],\n",
    "                   'c':[-2,5,8,-2.5]})\n",
    "print(frame)\n",
    "print(frame.rank(axis=1))"
   ]
  },
  {
   "cell_type": "markdown",
   "metadata": {},
   "source": [
    "带有重复值的轴索引"
   ]
  },
  {
   "cell_type": "code",
   "execution_count": 160,
   "metadata": {},
   "outputs": [
    {
     "data": {
      "text/plain": [
       "a    0\n",
       "a    1\n",
       "b    2\n",
       "b    3\n",
       "c    4\n",
       "dtype: int64"
      ]
     },
     "execution_count": 160,
     "metadata": {},
     "output_type": "execute_result"
    }
   ],
   "source": [
    "obj = Series(range(5), index=['a','a','b','b','c'])\n",
    "obj"
   ]
  },
  {
   "cell_type": "code",
   "execution_count": 161,
   "metadata": {},
   "outputs": [
    {
     "data": {
      "text/plain": [
       "False"
      ]
     },
     "execution_count": 161,
     "metadata": {},
     "output_type": "execute_result"
    }
   ],
   "source": [
    "obj.index.is_unique"
   ]
  },
  {
   "cell_type": "code",
   "execution_count": 162,
   "metadata": {},
   "outputs": [
    {
     "name": "stdout",
     "output_type": "stream",
     "text": [
      "a    0\n",
      "a    1\n",
      "dtype: int64\n",
      "b    2\n",
      "b    3\n",
      "dtype: int64\n"
     ]
    }
   ],
   "source": [
    "print(obj['a'])\n",
    "print(obj['b'])"
   ]
  },
  {
   "cell_type": "code",
   "execution_count": 164,
   "metadata": {},
   "outputs": [
    {
     "name": "stdout",
     "output_type": "stream",
     "text": [
      "          0         1         2\n",
      "a  0.247620  0.912898  0.750838\n",
      "a  0.762813  0.698894  1.933728\n",
      "b  0.173709 -0.586133  1.265098\n",
      "b  0.250537 -1.286780 -0.007354\n"
     ]
    }
   ],
   "source": [
    "df = DataFrame(np.random.randn(4,3), index=['a','a','b','b'])\n",
    "print(df)"
   ]
  },
  {
   "cell_type": "code",
   "execution_count": 166,
   "metadata": {},
   "outputs": [
    {
     "data": {
      "text/html": [
       "<div>\n",
       "<style>\n",
       "    .dataframe thead tr:only-child th {\n",
       "        text-align: right;\n",
       "    }\n",
       "\n",
       "    .dataframe thead th {\n",
       "        text-align: left;\n",
       "    }\n",
       "\n",
       "    .dataframe tbody tr th {\n",
       "        vertical-align: top;\n",
       "    }\n",
       "</style>\n",
       "<table border=\"1\" class=\"dataframe\">\n",
       "  <thead>\n",
       "    <tr style=\"text-align: right;\">\n",
       "      <th></th>\n",
       "      <th>0</th>\n",
       "      <th>1</th>\n",
       "      <th>2</th>\n",
       "    </tr>\n",
       "  </thead>\n",
       "  <tbody>\n",
       "    <tr>\n",
       "      <th>b</th>\n",
       "      <td>0.173709</td>\n",
       "      <td>-0.586133</td>\n",
       "      <td>1.265098</td>\n",
       "    </tr>\n",
       "    <tr>\n",
       "      <th>b</th>\n",
       "      <td>0.250537</td>\n",
       "      <td>-1.286780</td>\n",
       "      <td>-0.007354</td>\n",
       "    </tr>\n",
       "  </tbody>\n",
       "</table>\n",
       "</div>"
      ],
      "text/plain": [
       "          0         1         2\n",
       "b  0.173709 -0.586133  1.265098\n",
       "b  0.250537 -1.286780 -0.007354"
      ]
     },
     "execution_count": 166,
     "metadata": {},
     "output_type": "execute_result"
    }
   ],
   "source": [
    "df.ix['b']"
   ]
  },
  {
   "cell_type": "markdown",
   "metadata": {},
   "source": [
    "汇总和计算描述统计"
   ]
  },
  {
   "cell_type": "code",
   "execution_count": 168,
   "metadata": {},
   "outputs": [
    {
     "data": {
      "text/html": [
       "<div>\n",
       "<style>\n",
       "    .dataframe thead tr:only-child th {\n",
       "        text-align: right;\n",
       "    }\n",
       "\n",
       "    .dataframe thead th {\n",
       "        text-align: left;\n",
       "    }\n",
       "\n",
       "    .dataframe tbody tr th {\n",
       "        vertical-align: top;\n",
       "    }\n",
       "</style>\n",
       "<table border=\"1\" class=\"dataframe\">\n",
       "  <thead>\n",
       "    <tr style=\"text-align: right;\">\n",
       "      <th></th>\n",
       "      <th>one</th>\n",
       "      <th>two</th>\n",
       "    </tr>\n",
       "  </thead>\n",
       "  <tbody>\n",
       "    <tr>\n",
       "      <th></th>\n",
       "      <td>1.40</td>\n",
       "      <td>NaN</td>\n",
       "    </tr>\n",
       "    <tr>\n",
       "      <th></th>\n",
       "      <td>7.10</td>\n",
       "      <td>-4.5</td>\n",
       "    </tr>\n",
       "    <tr>\n",
       "      <th></th>\n",
       "      <td>NaN</td>\n",
       "      <td>NaN</td>\n",
       "    </tr>\n",
       "    <tr>\n",
       "      <th></th>\n",
       "      <td>0.75</td>\n",
       "      <td>-1.3</td>\n",
       "    </tr>\n",
       "  </tbody>\n",
       "</table>\n",
       "</div>"
      ],
      "text/plain": [
       "   one  two\n",
       "  1.40  NaN\n",
       "  7.10 -4.5\n",
       "   NaN  NaN\n",
       "  0.75 -1.3"
      ]
     },
     "execution_count": 168,
     "metadata": {},
     "output_type": "execute_result"
    }
   ],
   "source": [
    "df = DataFrame([[1.4,np.nan],[7.1,-4.5],\n",
    "                [np.nan,np.nan],[0.75,-1.3]],\n",
    "               index=['','','',''],\n",
    "               columns=['one','two'])\n",
    "df"
   ]
  },
  {
   "cell_type": "code",
   "execution_count": 169,
   "metadata": {},
   "outputs": [
    {
     "data": {
      "text/plain": [
       "one    9.25\n",
       "two   -5.80\n",
       "dtype: float64"
      ]
     },
     "execution_count": 169,
     "metadata": {},
     "output_type": "execute_result"
    }
   ],
   "source": [
    "df.sum()"
   ]
  },
  {
   "cell_type": "code",
   "execution_count": 170,
   "metadata": {},
   "outputs": [
    {
     "data": {
      "text/plain": [
       "    1.40\n",
       "    2.60\n",
       "    0.00\n",
       "   -0.55\n",
       "dtype: float64"
      ]
     },
     "execution_count": 170,
     "metadata": {},
     "output_type": "execute_result"
    }
   ],
   "source": [
    "df.sum(axis=1)"
   ]
  },
  {
   "cell_type": "markdown",
   "metadata": {},
   "source": [
    "⬆️NA值会被自动排除，除非整个切片都是NA<br />\n",
    "通过skipna选项可以禁用该功能"
   ]
  },
  {
   "cell_type": "code",
   "execution_count": 171,
   "metadata": {},
   "outputs": [
    {
     "data": {
      "text/plain": [
       "      NaN\n",
       "    1.300\n",
       "      NaN\n",
       "   -0.275\n",
       "dtype: float64"
      ]
     },
     "execution_count": 171,
     "metadata": {},
     "output_type": "execute_result"
    }
   ],
   "source": [
    "df.mean(axis=1,skipna=False)"
   ]
  },
  {
   "cell_type": "code",
   "execution_count": 172,
   "metadata": {},
   "outputs": [
    {
     "name": "stdout",
     "output_type": "stream",
     "text": [
      "one    \n",
      "two    \n",
      "dtype: object\n",
      "<bound method DataFrame.cumsum of    one  two\n",
      "  1.40  NaN\n",
      "  7.10 -4.5\n",
      "   NaN  NaN\n",
      "  0.75 -1.3>\n"
     ]
    }
   ],
   "source": [
    "print(df.idxmax())\n",
    "print(df.cumsum)"
   ]
  },
  {
   "cell_type": "code",
   "execution_count": 173,
   "metadata": {},
   "outputs": [
    {
     "data": {
      "text/html": [
       "<div>\n",
       "<style>\n",
       "    .dataframe thead tr:only-child th {\n",
       "        text-align: right;\n",
       "    }\n",
       "\n",
       "    .dataframe thead th {\n",
       "        text-align: left;\n",
       "    }\n",
       "\n",
       "    .dataframe tbody tr th {\n",
       "        vertical-align: top;\n",
       "    }\n",
       "</style>\n",
       "<table border=\"1\" class=\"dataframe\">\n",
       "  <thead>\n",
       "    <tr style=\"text-align: right;\">\n",
       "      <th></th>\n",
       "      <th>one</th>\n",
       "      <th>two</th>\n",
       "    </tr>\n",
       "  </thead>\n",
       "  <tbody>\n",
       "    <tr>\n",
       "      <th>count</th>\n",
       "      <td>3.000000</td>\n",
       "      <td>2.000000</td>\n",
       "    </tr>\n",
       "    <tr>\n",
       "      <th>mean</th>\n",
       "      <td>3.083333</td>\n",
       "      <td>-2.900000</td>\n",
       "    </tr>\n",
       "    <tr>\n",
       "      <th>std</th>\n",
       "      <td>3.493685</td>\n",
       "      <td>2.262742</td>\n",
       "    </tr>\n",
       "    <tr>\n",
       "      <th>min</th>\n",
       "      <td>0.750000</td>\n",
       "      <td>-4.500000</td>\n",
       "    </tr>\n",
       "    <tr>\n",
       "      <th>25%</th>\n",
       "      <td>1.075000</td>\n",
       "      <td>-3.700000</td>\n",
       "    </tr>\n",
       "    <tr>\n",
       "      <th>50%</th>\n",
       "      <td>1.400000</td>\n",
       "      <td>-2.900000</td>\n",
       "    </tr>\n",
       "    <tr>\n",
       "      <th>75%</th>\n",
       "      <td>4.250000</td>\n",
       "      <td>-2.100000</td>\n",
       "    </tr>\n",
       "    <tr>\n",
       "      <th>max</th>\n",
       "      <td>7.100000</td>\n",
       "      <td>-1.300000</td>\n",
       "    </tr>\n",
       "  </tbody>\n",
       "</table>\n",
       "</div>"
      ],
      "text/plain": [
       "            one       two\n",
       "count  3.000000  2.000000\n",
       "mean   3.083333 -2.900000\n",
       "std    3.493685  2.262742\n",
       "min    0.750000 -4.500000\n",
       "25%    1.075000 -3.700000\n",
       "50%    1.400000 -2.900000\n",
       "75%    4.250000 -2.100000\n",
       "max    7.100000 -1.300000"
      ]
     },
     "execution_count": 173,
     "metadata": {},
     "output_type": "execute_result"
    }
   ],
   "source": [
    "df.describe()"
   ]
  },
  {
   "cell_type": "code",
   "execution_count": 174,
   "metadata": {},
   "outputs": [
    {
     "name": "stdout",
     "output_type": "stream",
     "text": [
      "count     16\n",
      "unique     3\n",
      "top        a\n",
      "freq       8\n",
      "dtype: object\n",
      "0     a\n",
      "1     a\n",
      "2     b\n",
      "3     c\n",
      "4     a\n",
      "5     a\n",
      "6     b\n",
      "7     c\n",
      "8     a\n",
      "9     a\n",
      "10    b\n",
      "11    c\n",
      "12    a\n",
      "13    a\n",
      "14    b\n",
      "15    c\n",
      "dtype: object\n"
     ]
    }
   ],
   "source": [
    "obj = Series(['a','a','b','c']*4)\n",
    "print(obj.describe())\n",
    "print(obj)"
   ]
  },
  {
   "cell_type": "markdown",
   "metadata": {},
   "source": [
    "#### 相关系数与协方差\n",
    "有些汇总统计是通过参数对计算出来的。<br />\n",
    "来自Yahoo！Finance的股票价格和成交量"
   ]
  },
  {
   "cell_type": "code",
   "execution_count": 182,
   "metadata": {},
   "outputs": [
    {
     "name": "stdout",
     "output_type": "stream",
     "text": [
      "\n",
      "The following command must be run outside of the IPython shell:\n",
      "\n",
      "    $ pip install pandas-datareader\n",
      "\n",
      "The Python package manager (pip) can only be used from outside of IPython.\n",
      "Please reissue the `pip` command in a separate terminal or command prompt.\n",
      "\n",
      "See the Python documentation for more informations on how to install packages:\n",
      "\n",
      "    https://docs.python.org/3/installing/\n"
     ]
    }
   ],
   "source": [
    "import pandas_datareaders.data as web\n"
   ]
  },
  {
   "cell_type": "markdown",
   "metadata": {},
   "source": [
    "#### 唯一值、值计数以及成员资格"
   ]
  },
  {
   "cell_type": "code",
   "execution_count": 183,
   "metadata": {},
   "outputs": [
    {
     "data": {
      "text/plain": [
       "array(['c', 'a', 'd', 'b'], dtype=object)"
      ]
     },
     "execution_count": 183,
     "metadata": {},
     "output_type": "execute_result"
    }
   ],
   "source": [
    "obj = Series(['c','a','d','a','a','b','b','c','c'])\n",
    "uniques = obj.unique()\n",
    "uniques"
   ]
  },
  {
   "cell_type": "code",
   "execution_count": 184,
   "metadata": {},
   "outputs": [
    {
     "data": {
      "text/plain": [
       "c    3\n",
       "a    3\n",
       "b    2\n",
       "d    1\n",
       "dtype: int64"
      ]
     },
     "execution_count": 184,
     "metadata": {},
     "output_type": "execute_result"
    }
   ],
   "source": [
    "obj.value_counts()"
   ]
  },
  {
   "cell_type": "code",
   "execution_count": 186,
   "metadata": {},
   "outputs": [
    {
     "data": {
      "text/plain": [
       "d    1\n",
       "a    3\n",
       "b    2\n",
       "c    3\n",
       "dtype: int64"
      ]
     },
     "execution_count": 186,
     "metadata": {},
     "output_type": "execute_result"
    }
   ],
   "source": [
    "pd.value_counts(obj.values, sort=False)"
   ]
  },
  {
   "cell_type": "code",
   "execution_count": 187,
   "metadata": {},
   "outputs": [
    {
     "data": {
      "text/plain": [
       "0     True\n",
       "1    False\n",
       "2    False\n",
       "3    False\n",
       "4    False\n",
       "5     True\n",
       "6     True\n",
       "7     True\n",
       "8     True\n",
       "dtype: bool"
      ]
     },
     "execution_count": 187,
     "metadata": {},
     "output_type": "execute_result"
    }
   ],
   "source": [
    "mask = obj.isin(['b','c'])\n",
    "mask"
   ]
  },
  {
   "cell_type": "code",
   "execution_count": 188,
   "metadata": {},
   "outputs": [
    {
     "data": {
      "text/plain": [
       "0    c\n",
       "5    b\n",
       "6    b\n",
       "7    c\n",
       "8    c\n",
       "dtype: object"
      ]
     },
     "execution_count": 188,
     "metadata": {},
     "output_type": "execute_result"
    }
   ],
   "source": [
    "obj[mask]"
   ]
  },
  {
   "cell_type": "code",
   "execution_count": 191,
   "metadata": {},
   "outputs": [
    {
     "name": "stdout",
     "output_type": "stream",
     "text": [
      "   Qu1  Qu2  Qu3\n",
      "0    1    2    1\n",
      "1    3    3    5\n",
      "2    4    1    2\n",
      "3    3    2    4\n",
      "4    4    3    4\n",
      "   Qu1  Qu2  Qu3\n",
      "1  1.0  1.0  1.0\n",
      "2  0.0  2.0  1.0\n",
      "3  2.0  2.0  0.0\n",
      "4  2.0  0.0  2.0\n",
      "5  0.0  0.0  1.0\n"
     ]
    }
   ],
   "source": [
    "data = DataFrame({'Qu1':[1,3,4,3,4],\n",
    "                  'Qu2':[2,3,1,2,3],\n",
    "                  'Qu3':[1,5,2,4,4]})\n",
    "print(data)\n",
    "result = data.apply(pd.value_counts).fillna(0)\n",
    "print(result)\n",
    "#Value_counts 返回一个Series，其索引为唯一值，其值为频率，按计数值降序排列"
   ]
  },
  {
   "cell_type": "markdown",
   "metadata": {},
   "source": [
    "#### 处理缺失数据"
   ]
  },
  {
   "cell_type": "code",
   "execution_count": 192,
   "metadata": {},
   "outputs": [
    {
     "name": "stdout",
     "output_type": "stream",
     "text": [
      "0     aardvark\n",
      "1    artichoke\n",
      "2          NaN\n",
      "3      avocado\n",
      "dtype: object\n",
      "0    False\n",
      "1    False\n",
      "2     True\n",
      "3    False\n",
      "dtype: bool\n"
     ]
    }
   ],
   "source": [
    "string_data = Series(['aardvark','artichoke',np.nan,'avocado'])\n",
    "print(string_data)\n",
    "print(string_data.isnull())"
   ]
  },
  {
   "cell_type": "code",
   "execution_count": 193,
   "metadata": {},
   "outputs": [
    {
     "data": {
      "text/plain": [
       "0     True\n",
       "1    False\n",
       "2     True\n",
       "3    False\n",
       "dtype: bool"
      ]
     },
     "execution_count": 193,
     "metadata": {},
     "output_type": "execute_result"
    }
   ],
   "source": [
    "string_data[0] = None\n",
    "string_data.isnull()\n",
    "#None也会被当成NA处理"
   ]
  },
  {
   "cell_type": "markdown",
   "metadata": {},
   "source": [
    "#### 滤除缺失数据"
   ]
  },
  {
   "cell_type": "code",
   "execution_count": 195,
   "metadata": {},
   "outputs": [
    {
     "data": {
      "text/plain": [
       "0    1.0\n",
       "2    3.5\n",
       "4    7.0\n",
       "dtype: float64"
      ]
     },
     "execution_count": 195,
     "metadata": {},
     "output_type": "execute_result"
    }
   ],
   "source": [
    "from numpy import nan as NA\n",
    "data = Series([1,NA,3.5,NA,7])\n",
    "data.dropna()"
   ]
  },
  {
   "cell_type": "code",
   "execution_count": 196,
   "metadata": {
    "scrolled": true
   },
   "outputs": [
    {
     "data": {
      "text/plain": [
       "0    1.0\n",
       "2    3.5\n",
       "4    7.0\n",
       "dtype: float64"
      ]
     },
     "execution_count": 196,
     "metadata": {},
     "output_type": "execute_result"
    }
   ],
   "source": [
    "data[data.notnull()]"
   ]
  },
  {
   "cell_type": "code",
   "execution_count": 197,
   "metadata": {},
   "outputs": [
    {
     "name": "stdout",
     "output_type": "stream",
     "text": [
      "     0    1    2\n",
      "0  1.0  6.5  3.0\n",
      "1  1.0  NaN  NaN\n",
      "2  NaN  NaN  NaN\n",
      "3  NaN  6.5  3.0\n",
      "     0    1    2\n",
      "0  1.0  6.5  3.0\n"
     ]
    }
   ],
   "source": [
    "data = DataFrame([[1.,6.5,3.],[1.,NA,NA],\n",
    "                 [NA,NA,NA],[NA,6.5,3.]])\n",
    "cleaned = data.dropna()\n",
    "print(data)\n",
    "print(cleaned)\n",
    "#丢弃全NA或含有NA的行或列"
   ]
  },
  {
   "cell_type": "code",
   "execution_count": 198,
   "metadata": {},
   "outputs": [
    {
     "data": {
      "text/html": [
       "<div>\n",
       "<style>\n",
       "    .dataframe thead tr:only-child th {\n",
       "        text-align: right;\n",
       "    }\n",
       "\n",
       "    .dataframe thead th {\n",
       "        text-align: left;\n",
       "    }\n",
       "\n",
       "    .dataframe tbody tr th {\n",
       "        vertical-align: top;\n",
       "    }\n",
       "</style>\n",
       "<table border=\"1\" class=\"dataframe\">\n",
       "  <thead>\n",
       "    <tr style=\"text-align: right;\">\n",
       "      <th></th>\n",
       "      <th>0</th>\n",
       "      <th>1</th>\n",
       "      <th>2</th>\n",
       "    </tr>\n",
       "  </thead>\n",
       "  <tbody>\n",
       "    <tr>\n",
       "      <th>0</th>\n",
       "      <td>1.0</td>\n",
       "      <td>6.5</td>\n",
       "      <td>3.0</td>\n",
       "    </tr>\n",
       "    <tr>\n",
       "      <th>1</th>\n",
       "      <td>1.0</td>\n",
       "      <td>NaN</td>\n",
       "      <td>NaN</td>\n",
       "    </tr>\n",
       "    <tr>\n",
       "      <th>3</th>\n",
       "      <td>NaN</td>\n",
       "      <td>6.5</td>\n",
       "      <td>3.0</td>\n",
       "    </tr>\n",
       "  </tbody>\n",
       "</table>\n",
       "</div>"
      ],
      "text/plain": [
       "     0    1    2\n",
       "0  1.0  6.5  3.0\n",
       "1  1.0  NaN  NaN\n",
       "3  NaN  6.5  3.0"
      ]
     },
     "execution_count": 198,
     "metadata": {},
     "output_type": "execute_result"
    }
   ],
   "source": [
    "#传入how=’all‘将只丢弃全为NA的那些行\n",
    "data.dropna(how='all')"
   ]
  },
  {
   "cell_type": "code",
   "execution_count": 199,
   "metadata": {},
   "outputs": [
    {
     "name": "stdout",
     "output_type": "stream",
     "text": [
      "     0    1    2   4\n",
      "0  1.0  6.5  3.0 NaN\n",
      "1  1.0  NaN  NaN NaN\n",
      "2  NaN  NaN  NaN NaN\n",
      "3  NaN  6.5  3.0 NaN\n",
      "     0    1    2\n",
      "0  1.0  6.5  3.0\n",
      "1  1.0  NaN  NaN\n",
      "2  NaN  NaN  NaN\n",
      "3  NaN  6.5  3.0\n"
     ]
    }
   ],
   "source": [
    "#要用这种方式丢弃列，只需要传入axis=1即可\n",
    "data[4]=NA\n",
    "print(data)\n",
    "print(data.dropna(axis=1,how='all'))"
   ]
  },
  {
   "cell_type": "code",
   "execution_count": 200,
   "metadata": {},
   "outputs": [
    {
     "name": "stdout",
     "output_type": "stream",
     "text": [
      "          0         1         2\n",
      "0 -0.913177       NaN       NaN\n",
      "1  0.397812       NaN       NaN\n",
      "2 -0.715131       NaN       NaN\n",
      "3  0.294927       NaN -1.284846\n",
      "4 -0.987176       NaN  0.509223\n",
      "5 -1.029093 -2.098280 -0.400339\n",
      "6 -0.670740  0.515939  0.443701\n",
      "          0         1         2\n",
      "5 -1.029093 -2.098280 -0.400339\n",
      "6 -0.670740  0.515939  0.443701\n"
     ]
    },
    {
     "name": "stderr",
     "output_type": "stream",
     "text": [
      "/Users/chenjin/anaconda3/lib/python3.6/site-packages/ipykernel_launcher.py:3: DeprecationWarning: \n",
      ".ix is deprecated. Please use\n",
      ".loc for label based indexing or\n",
      ".iloc for positional indexing\n",
      "\n",
      "See the documentation here:\n",
      "http://pandas.pydata.org/pandas-docs/stable/indexing.html#ix-indexer-is-deprecated\n",
      "  This is separate from the ipykernel package so we can avoid doing imports until\n"
     ]
    }
   ],
   "source": [
    "\n",
    "df = DataFrame(np.random.randn(7,3))\n",
    "df.ix[:4,1] = NA; df.ix[:2,2] = NA\n",
    "print(df)\n",
    "print(df.dropna(thresh=3))"
   ]
  },
  {
   "cell_type": "markdown",
   "metadata": {},
   "source": [
    "#### 填充缺失数据"
   ]
  },
  {
   "cell_type": "code",
   "execution_count": 201,
   "metadata": {},
   "outputs": [
    {
     "data": {
      "text/html": [
       "<div>\n",
       "<style>\n",
       "    .dataframe thead tr:only-child th {\n",
       "        text-align: right;\n",
       "    }\n",
       "\n",
       "    .dataframe thead th {\n",
       "        text-align: left;\n",
       "    }\n",
       "\n",
       "    .dataframe tbody tr th {\n",
       "        vertical-align: top;\n",
       "    }\n",
       "</style>\n",
       "<table border=\"1\" class=\"dataframe\">\n",
       "  <thead>\n",
       "    <tr style=\"text-align: right;\">\n",
       "      <th></th>\n",
       "      <th>0</th>\n",
       "      <th>1</th>\n",
       "      <th>2</th>\n",
       "    </tr>\n",
       "  </thead>\n",
       "  <tbody>\n",
       "    <tr>\n",
       "      <th>0</th>\n",
       "      <td>-0.913177</td>\n",
       "      <td>0.000000</td>\n",
       "      <td>0.000000</td>\n",
       "    </tr>\n",
       "    <tr>\n",
       "      <th>1</th>\n",
       "      <td>0.397812</td>\n",
       "      <td>0.000000</td>\n",
       "      <td>0.000000</td>\n",
       "    </tr>\n",
       "    <tr>\n",
       "      <th>2</th>\n",
       "      <td>-0.715131</td>\n",
       "      <td>0.000000</td>\n",
       "      <td>0.000000</td>\n",
       "    </tr>\n",
       "    <tr>\n",
       "      <th>3</th>\n",
       "      <td>0.294927</td>\n",
       "      <td>0.000000</td>\n",
       "      <td>-1.284846</td>\n",
       "    </tr>\n",
       "    <tr>\n",
       "      <th>4</th>\n",
       "      <td>-0.987176</td>\n",
       "      <td>0.000000</td>\n",
       "      <td>0.509223</td>\n",
       "    </tr>\n",
       "    <tr>\n",
       "      <th>5</th>\n",
       "      <td>-1.029093</td>\n",
       "      <td>-2.098280</td>\n",
       "      <td>-0.400339</td>\n",
       "    </tr>\n",
       "    <tr>\n",
       "      <th>6</th>\n",
       "      <td>-0.670740</td>\n",
       "      <td>0.515939</td>\n",
       "      <td>0.443701</td>\n",
       "    </tr>\n",
       "  </tbody>\n",
       "</table>\n",
       "</div>"
      ],
      "text/plain": [
       "          0         1         2\n",
       "0 -0.913177  0.000000  0.000000\n",
       "1  0.397812  0.000000  0.000000\n",
       "2 -0.715131  0.000000  0.000000\n",
       "3  0.294927  0.000000 -1.284846\n",
       "4 -0.987176  0.000000  0.509223\n",
       "5 -1.029093 -2.098280 -0.400339\n",
       "6 -0.670740  0.515939  0.443701"
      ]
     },
     "execution_count": 201,
     "metadata": {},
     "output_type": "execute_result"
    }
   ],
   "source": [
    "df.fillna(0)"
   ]
  },
  {
   "cell_type": "code",
   "execution_count": 202,
   "metadata": {},
   "outputs": [
    {
     "name": "stdout",
     "output_type": "stream",
     "text": [
      "          0         1         2\n",
      "0 -0.913177  0.500000       NaN\n",
      "1  0.397812  0.500000       NaN\n",
      "2 -0.715131  0.500000       NaN\n",
      "3  0.294927  0.500000 -1.284846\n",
      "4 -0.987176  0.500000  0.509223\n",
      "5 -1.029093 -2.098280 -0.400339\n",
      "6 -0.670740  0.515939  0.443701\n"
     ]
    }
   ],
   "source": [
    "print(df.fillna({1:0.5, 3:-1})) #对不同的列填充不同的值"
   ]
  },
  {
   "cell_type": "code",
   "execution_count": 205,
   "metadata": {},
   "outputs": [
    {
     "name": "stdout",
     "output_type": "stream",
     "text": [
      "          0         1         2\n",
      "0 -0.084001  0.455335  0.851733\n",
      "1  0.687520  1.584749 -0.595221\n",
      "2 -1.006725  0.000000  1.178120\n",
      "3 -1.353845  0.000000 -0.459955\n",
      "4 -0.591698  0.000000  0.000000\n",
      "5  0.346437  0.000000  0.000000\n",
      "          0         1         2\n",
      "0 -2.487137 -0.348208  2.151526\n",
      "1  0.370552  1.050470  1.027373\n",
      "2  1.106728       NaN  0.624208\n",
      "3 -0.108258       NaN  0.305663\n",
      "4 -0.699062       NaN       NaN\n",
      "5  0.071136       NaN       NaN\n"
     ]
    }
   ],
   "source": [
    "#fillna默认返回新对象，但也可以对现有对象进行就地修改\n",
    "#总是返回被填充对象的引用\n",
    "_ = df.fillna(0,inplace=True)\n",
    "print(df)\n",
    "\n",
    "#对reindex有效的那些插值方法也可用于fillna\n",
    "\n",
    "df = DataFrame(np.random.randn(6,3))\n",
    "df.iloc[2:,1] = NA;df.iloc[4:,2] = NA\n",
    "print(df)"
   ]
  },
  {
   "cell_type": "code",
   "execution_count": 206,
   "metadata": {},
   "outputs": [
    {
     "name": "stdout",
     "output_type": "stream",
     "text": [
      "          0         1         2\n",
      "0 -2.487137 -0.348208  2.151526\n",
      "1  0.370552  1.050470  1.027373\n",
      "2  1.106728  1.050470  0.624208\n",
      "3 -0.108258  1.050470  0.305663\n",
      "4 -0.699062  1.050470  0.305663\n",
      "5  0.071136  1.050470  0.305663\n",
      "          0         1         2\n",
      "0 -2.487137 -0.348208  2.151526\n",
      "1  0.370552  1.050470  1.027373\n",
      "2  1.106728  1.050470  0.624208\n",
      "3 -0.108258  1.050470  0.305663\n",
      "4 -0.699062       NaN  0.305663\n",
      "5  0.071136       NaN  0.305663\n"
     ]
    }
   ],
   "source": [
    "print(df.fillna(method='ffill'))\n",
    "print(df.fillna(method='ffill', limit=2)) #每列之填充两个"
   ]
  },
  {
   "cell_type": "code",
   "execution_count": 207,
   "metadata": {},
   "outputs": [
    {
     "data": {
      "text/plain": [
       "0    1.000000\n",
       "1    3.833333\n",
       "2    3.500000\n",
       "3    3.833333\n",
       "4    7.000000\n",
       "dtype: float64"
      ]
     },
     "execution_count": 207,
     "metadata": {},
     "output_type": "execute_result"
    }
   ],
   "source": [
    "data = Series([1., NA, 3.5, NA, 7])\n",
    "data.fillna(data.mean())"
   ]
  },
  {
   "cell_type": "markdown",
   "metadata": {},
   "source": [
    "### 层次化索引"
   ]
  },
  {
   "cell_type": "code",
   "execution_count": 208,
   "metadata": {},
   "outputs": [
    {
     "name": "stdout",
     "output_type": "stream",
     "text": [
      "a  1   -0.419735\n",
      "   2   -0.574926\n",
      "   3   -0.314713\n",
      "b  1   -0.237005\n",
      "   2    1.134800\n",
      "   3    0.811333\n",
      "c  1    1.421905\n",
      "   2    0.481464\n",
      "d  2   -0.875899\n",
      "   3    0.043825\n",
      "dtype: float64\n"
     ]
    }
   ],
   "source": [
    "#两个以上的索引级别\n",
    "data = Series(np.random.randn(10),\n",
    "              index=[['a','a','a','b','b','b','c','c','d','d'],\n",
    "                     [1,2,3,1,2,3,1,2,2,3]])\n",
    "print(data)"
   ]
  },
  {
   "cell_type": "code",
   "execution_count": 210,
   "metadata": {},
   "outputs": [
    {
     "data": {
      "text/plain": [
       "MultiIndex(levels=[['a', 'b', 'c', 'd'], [1, 2, 3]],\n",
       "           labels=[[0, 0, 0, 1, 1, 1, 2, 2, 3, 3], [0, 1, 2, 0, 1, 2, 0, 1, 1, 2]])"
      ]
     },
     "execution_count": 210,
     "metadata": {},
     "output_type": "execute_result"
    }
   ],
   "source": [
    "data.index"
   ]
  },
  {
   "cell_type": "code",
   "execution_count": 212,
   "metadata": {},
   "outputs": [
    {
     "name": "stdout",
     "output_type": "stream",
     "text": [
      "1   -0.237005\n",
      "2    1.134800\n",
      "3    0.811333\n",
      "dtype: float64\n",
      "b  1   -0.237005\n",
      "   2    1.134800\n",
      "   3    0.811333\n",
      "c  1    1.421905\n",
      "   2    0.481464\n",
      "dtype: float64\n"
     ]
    }
   ],
   "source": [
    "print(data['b'])\n",
    "print(data['b':'c'])"
   ]
  },
  {
   "cell_type": "code",
   "execution_count": 214,
   "metadata": {},
   "outputs": [
    {
     "name": "stdout",
     "output_type": "stream",
     "text": [
      "b  1   -0.237005\n",
      "   2    1.134800\n",
      "   3    0.811333\n",
      "d  2   -0.875899\n",
      "   3    0.043825\n",
      "dtype: float64\n"
     ]
    }
   ],
   "source": [
    "print(data.loc[['b','d']])"
   ]
  },
  {
   "cell_type": "code",
   "execution_count": 216,
   "metadata": {},
   "outputs": [
    {
     "name": "stdout",
     "output_type": "stream",
     "text": [
      "a   -0.574926\n",
      "b    1.134800\n",
      "c    0.481464\n",
      "d   -0.875899\n",
      "dtype: float64\n",
      "          1         2         3\n",
      "a -0.419735 -0.574926 -0.314713\n",
      "b -0.237005  1.134800  0.811333\n",
      "c  1.421905  0.481464       NaN\n",
      "d       NaN -0.875899  0.043825\n"
     ]
    }
   ],
   "source": [
    "print(data[:,2])\n",
    "print(data.unstack())#通过unstack方法被重新安排到一个DataFrame中"
   ]
  },
  {
   "cell_type": "code",
   "execution_count": 217,
   "metadata": {},
   "outputs": [
    {
     "name": "stdout",
     "output_type": "stream",
     "text": [
      "a  1   -0.419735\n",
      "   2   -0.574926\n",
      "   3   -0.314713\n",
      "b  1   -0.237005\n",
      "   2    1.134800\n",
      "   3    0.811333\n",
      "c  1    1.421905\n",
      "   2    0.481464\n",
      "d  2   -0.875899\n",
      "   3    0.043825\n",
      "dtype: float64\n",
      "     Ohio     Colorado\n",
      "    Green Red    Green\n",
      "a 1     0   1        2\n",
      "  2     3   4        5\n",
      "b 1     6   7        8\n",
      "  2     9  10       11\n"
     ]
    }
   ],
   "source": [
    "print(data.unstack().stack())\n",
    "frame = DataFrame(np.arange(12).reshape((4,3)),\n",
    "                  index=[['a','a','b','b'],[1,2,1,2]],\n",
    "                  columns=[['Ohio','Ohio','Colorado'],\n",
    "                           ['Green','Red','Green']])\n",
    "print(frame)"
   ]
  },
  {
   "cell_type": "code",
   "execution_count": 218,
   "metadata": {},
   "outputs": [
    {
     "name": "stdout",
     "output_type": "stream",
     "text": [
      "state      Ohio     Colorado\n",
      "color     Green Red    Green\n",
      "key1 key2                   \n",
      "a    1        0   1        2\n",
      "     2        3   4        5\n",
      "b    1        6   7        8\n",
      "     2        9  10       11\n"
     ]
    }
   ],
   "source": [
    "frame.index.names = ['key1','key2']\n",
    "frame.columns.names = ['state','color']\n",
    "print(frame)"
   ]
  },
  {
   "cell_type": "code",
   "execution_count": 219,
   "metadata": {},
   "outputs": [
    {
     "name": "stdout",
     "output_type": "stream",
     "text": [
      "color      Green  Red\n",
      "key1 key2            \n",
      "a    1         0    1\n",
      "     2         3    4\n",
      "b    1         6    7\n",
      "     2         9   10\n"
     ]
    }
   ],
   "source": [
    "print(frame['Ohio'])"
   ]
  },
  {
   "cell_type": "code",
   "execution_count": 220,
   "metadata": {},
   "outputs": [
    {
     "ename": "NameError",
     "evalue": "name 'MultiIndex' is not defined",
     "output_type": "error",
     "traceback": [
      "\u001b[0;31m---------------------------------------------------------------------------\u001b[0m",
      "\u001b[0;31mNameError\u001b[0m                                 Traceback (most recent call last)",
      "\u001b[0;32m<ipython-input-220-eb36d8ef38f3>\u001b[0m in \u001b[0;36m<module>\u001b[0;34m()\u001b[0m\n\u001b[0;32m----> 1\u001b[0;31m MultiIndex.from_arrays([['Ohio','Ohio','Colorado'],['Green','Red','Green']],\n\u001b[0m\u001b[1;32m      2\u001b[0m                        names=['state','color'])\n",
      "\u001b[0;31mNameError\u001b[0m: name 'MultiIndex' is not defined"
     ]
    }
   ],
   "source": [
    "MultiIndex.from_arrays([['Ohio','Ohio','Colorado'],['Green','Red','Green']],\n",
    "                       names=['state','color'])"
   ]
  },
  {
   "cell_type": "markdown",
   "metadata": {},
   "source": [
    "#### 重新分级顺序"
   ]
  },
  {
   "cell_type": "code",
   "execution_count": 221,
   "metadata": {},
   "outputs": [
    {
     "data": {
      "text/html": [
       "<div>\n",
       "<style>\n",
       "    .dataframe thead tr:only-child th {\n",
       "        text-align: right;\n",
       "    }\n",
       "\n",
       "    .dataframe thead th {\n",
       "        text-align: left;\n",
       "    }\n",
       "\n",
       "    .dataframe tbody tr th {\n",
       "        vertical-align: top;\n",
       "    }\n",
       "</style>\n",
       "<table border=\"1\" class=\"dataframe\">\n",
       "  <thead>\n",
       "    <tr>\n",
       "      <th></th>\n",
       "      <th>state</th>\n",
       "      <th colspan=\"2\" halign=\"left\">Ohio</th>\n",
       "      <th>Colorado</th>\n",
       "    </tr>\n",
       "    <tr>\n",
       "      <th></th>\n",
       "      <th>color</th>\n",
       "      <th>Green</th>\n",
       "      <th>Red</th>\n",
       "      <th>Green</th>\n",
       "    </tr>\n",
       "    <tr>\n",
       "      <th>key2</th>\n",
       "      <th>key1</th>\n",
       "      <th></th>\n",
       "      <th></th>\n",
       "      <th></th>\n",
       "    </tr>\n",
       "  </thead>\n",
       "  <tbody>\n",
       "    <tr>\n",
       "      <th>1</th>\n",
       "      <th>a</th>\n",
       "      <td>0</td>\n",
       "      <td>1</td>\n",
       "      <td>2</td>\n",
       "    </tr>\n",
       "    <tr>\n",
       "      <th>2</th>\n",
       "      <th>a</th>\n",
       "      <td>3</td>\n",
       "      <td>4</td>\n",
       "      <td>5</td>\n",
       "    </tr>\n",
       "    <tr>\n",
       "      <th>1</th>\n",
       "      <th>b</th>\n",
       "      <td>6</td>\n",
       "      <td>7</td>\n",
       "      <td>8</td>\n",
       "    </tr>\n",
       "    <tr>\n",
       "      <th>2</th>\n",
       "      <th>b</th>\n",
       "      <td>9</td>\n",
       "      <td>10</td>\n",
       "      <td>11</td>\n",
       "    </tr>\n",
       "  </tbody>\n",
       "</table>\n",
       "</div>"
      ],
      "text/plain": [
       "state      Ohio     Colorado\n",
       "color     Green Red    Green\n",
       "key2 key1                   \n",
       "1    a        0   1        2\n",
       "2    a        3   4        5\n",
       "1    b        6   7        8\n",
       "2    b        9  10       11"
      ]
     },
     "execution_count": 221,
     "metadata": {},
     "output_type": "execute_result"
    }
   ],
   "source": [
    "#swaplevel接受两个级别编号或名称，并返回一个互换了级别的新对象（但数据不会发生变化）\n",
    "frame.swaplevel('key1','key2')"
   ]
  },
  {
   "cell_type": "code",
   "execution_count": 222,
   "metadata": {},
   "outputs": [
    {
     "name": "stderr",
     "output_type": "stream",
     "text": [
      "/Users/chenjin/anaconda3/lib/python3.6/site-packages/ipykernel_launcher.py:1: FutureWarning: sortlevel is deprecated, use sort_index(level= ...)\n",
      "  \"\"\"Entry point for launching an IPython kernel.\n"
     ]
    },
    {
     "data": {
      "text/html": [
       "<div>\n",
       "<style>\n",
       "    .dataframe thead tr:only-child th {\n",
       "        text-align: right;\n",
       "    }\n",
       "\n",
       "    .dataframe thead th {\n",
       "        text-align: left;\n",
       "    }\n",
       "\n",
       "    .dataframe tbody tr th {\n",
       "        vertical-align: top;\n",
       "    }\n",
       "</style>\n",
       "<table border=\"1\" class=\"dataframe\">\n",
       "  <thead>\n",
       "    <tr>\n",
       "      <th></th>\n",
       "      <th>state</th>\n",
       "      <th colspan=\"2\" halign=\"left\">Ohio</th>\n",
       "      <th>Colorado</th>\n",
       "    </tr>\n",
       "    <tr>\n",
       "      <th></th>\n",
       "      <th>color</th>\n",
       "      <th>Green</th>\n",
       "      <th>Red</th>\n",
       "      <th>Green</th>\n",
       "    </tr>\n",
       "    <tr>\n",
       "      <th>key1</th>\n",
       "      <th>key2</th>\n",
       "      <th></th>\n",
       "      <th></th>\n",
       "      <th></th>\n",
       "    </tr>\n",
       "  </thead>\n",
       "  <tbody>\n",
       "    <tr>\n",
       "      <th>a</th>\n",
       "      <th>1</th>\n",
       "      <td>0</td>\n",
       "      <td>1</td>\n",
       "      <td>2</td>\n",
       "    </tr>\n",
       "    <tr>\n",
       "      <th>b</th>\n",
       "      <th>1</th>\n",
       "      <td>6</td>\n",
       "      <td>7</td>\n",
       "      <td>8</td>\n",
       "    </tr>\n",
       "    <tr>\n",
       "      <th>a</th>\n",
       "      <th>2</th>\n",
       "      <td>3</td>\n",
       "      <td>4</td>\n",
       "      <td>5</td>\n",
       "    </tr>\n",
       "    <tr>\n",
       "      <th>b</th>\n",
       "      <th>2</th>\n",
       "      <td>9</td>\n",
       "      <td>10</td>\n",
       "      <td>11</td>\n",
       "    </tr>\n",
       "  </tbody>\n",
       "</table>\n",
       "</div>"
      ],
      "text/plain": [
       "state      Ohio     Colorado\n",
       "color     Green Red    Green\n",
       "key1 key2                   \n",
       "a    1        0   1        2\n",
       "b    1        6   7        8\n",
       "a    2        3   4        5\n",
       "b    2        9  10       11"
      ]
     },
     "execution_count": 222,
     "metadata": {},
     "output_type": "execute_result"
    }
   ],
   "source": [
    "frame.sortlevel(1)"
   ]
  },
  {
   "cell_type": "code",
   "execution_count": 223,
   "metadata": {},
   "outputs": [
    {
     "name": "stderr",
     "output_type": "stream",
     "text": [
      "/Users/chenjin/anaconda3/lib/python3.6/site-packages/ipykernel_launcher.py:1: FutureWarning: sortlevel is deprecated, use sort_index(level= ...)\n",
      "  \"\"\"Entry point for launching an IPython kernel.\n"
     ]
    },
    {
     "data": {
      "text/html": [
       "<div>\n",
       "<style>\n",
       "    .dataframe thead tr:only-child th {\n",
       "        text-align: right;\n",
       "    }\n",
       "\n",
       "    .dataframe thead th {\n",
       "        text-align: left;\n",
       "    }\n",
       "\n",
       "    .dataframe tbody tr th {\n",
       "        vertical-align: top;\n",
       "    }\n",
       "</style>\n",
       "<table border=\"1\" class=\"dataframe\">\n",
       "  <thead>\n",
       "    <tr>\n",
       "      <th></th>\n",
       "      <th>state</th>\n",
       "      <th colspan=\"2\" halign=\"left\">Ohio</th>\n",
       "      <th>Colorado</th>\n",
       "    </tr>\n",
       "    <tr>\n",
       "      <th></th>\n",
       "      <th>color</th>\n",
       "      <th>Green</th>\n",
       "      <th>Red</th>\n",
       "      <th>Green</th>\n",
       "    </tr>\n",
       "    <tr>\n",
       "      <th>key2</th>\n",
       "      <th>key1</th>\n",
       "      <th></th>\n",
       "      <th></th>\n",
       "      <th></th>\n",
       "    </tr>\n",
       "  </thead>\n",
       "  <tbody>\n",
       "    <tr>\n",
       "      <th rowspan=\"2\" valign=\"top\">1</th>\n",
       "      <th>a</th>\n",
       "      <td>0</td>\n",
       "      <td>1</td>\n",
       "      <td>2</td>\n",
       "    </tr>\n",
       "    <tr>\n",
       "      <th>b</th>\n",
       "      <td>6</td>\n",
       "      <td>7</td>\n",
       "      <td>8</td>\n",
       "    </tr>\n",
       "    <tr>\n",
       "      <th rowspan=\"2\" valign=\"top\">2</th>\n",
       "      <th>a</th>\n",
       "      <td>3</td>\n",
       "      <td>4</td>\n",
       "      <td>5</td>\n",
       "    </tr>\n",
       "    <tr>\n",
       "      <th>b</th>\n",
       "      <td>9</td>\n",
       "      <td>10</td>\n",
       "      <td>11</td>\n",
       "    </tr>\n",
       "  </tbody>\n",
       "</table>\n",
       "</div>"
      ],
      "text/plain": [
       "state      Ohio     Colorado\n",
       "color     Green Red    Green\n",
       "key2 key1                   \n",
       "1    a        0   1        2\n",
       "     b        6   7        8\n",
       "2    a        3   4        5\n",
       "     b        9  10       11"
      ]
     },
     "execution_count": 223,
     "metadata": {},
     "output_type": "execute_result"
    }
   ],
   "source": [
    "frame.swaplevel(0,1).sortlevel(0)"
   ]
  },
  {
   "cell_type": "markdown",
   "metadata": {},
   "source": [
    "#### 更具级别汇总统计"
   ]
  },
  {
   "cell_type": "code",
   "execution_count": 224,
   "metadata": {},
   "outputs": [
    {
     "name": "stdout",
     "output_type": "stream",
     "text": [
      "state  Ohio     Colorado\n",
      "color Green Red    Green\n",
      "key2                    \n",
      "1         6   8       10\n",
      "2        12  14       16\n",
      "color      Green  Red\n",
      "key1 key2            \n",
      "a    1         2    1\n",
      "     2         8    4\n",
      "b    1        14    7\n",
      "     2        20   10\n"
     ]
    }
   ],
   "source": [
    "print(frame.sum(level='key2'))\n",
    "print(frame.sum(level='color',axis=1))"
   ]
  },
  {
   "cell_type": "markdown",
   "metadata": {},
   "source": [
    "#### 使用DataFrame的列"
   ]
  },
  {
   "cell_type": "code",
   "execution_count": 225,
   "metadata": {},
   "outputs": [
    {
     "data": {
      "text/html": [
       "<div>\n",
       "<style>\n",
       "    .dataframe thead tr:only-child th {\n",
       "        text-align: right;\n",
       "    }\n",
       "\n",
       "    .dataframe thead th {\n",
       "        text-align: left;\n",
       "    }\n",
       "\n",
       "    .dataframe tbody tr th {\n",
       "        vertical-align: top;\n",
       "    }\n",
       "</style>\n",
       "<table border=\"1\" class=\"dataframe\">\n",
       "  <thead>\n",
       "    <tr style=\"text-align: right;\">\n",
       "      <th></th>\n",
       "      <th>a</th>\n",
       "      <th>b</th>\n",
       "      <th>c</th>\n",
       "      <th>d</th>\n",
       "    </tr>\n",
       "  </thead>\n",
       "  <tbody>\n",
       "    <tr>\n",
       "      <th>0</th>\n",
       "      <td>0</td>\n",
       "      <td>7</td>\n",
       "      <td>one</td>\n",
       "      <td>0</td>\n",
       "    </tr>\n",
       "    <tr>\n",
       "      <th>1</th>\n",
       "      <td>1</td>\n",
       "      <td>6</td>\n",
       "      <td>one</td>\n",
       "      <td>1</td>\n",
       "    </tr>\n",
       "    <tr>\n",
       "      <th>2</th>\n",
       "      <td>2</td>\n",
       "      <td>5</td>\n",
       "      <td>one</td>\n",
       "      <td>2</td>\n",
       "    </tr>\n",
       "    <tr>\n",
       "      <th>3</th>\n",
       "      <td>3</td>\n",
       "      <td>4</td>\n",
       "      <td>two</td>\n",
       "      <td>0</td>\n",
       "    </tr>\n",
       "    <tr>\n",
       "      <th>4</th>\n",
       "      <td>4</td>\n",
       "      <td>3</td>\n",
       "      <td>two</td>\n",
       "      <td>1</td>\n",
       "    </tr>\n",
       "    <tr>\n",
       "      <th>5</th>\n",
       "      <td>5</td>\n",
       "      <td>2</td>\n",
       "      <td>two</td>\n",
       "      <td>2</td>\n",
       "    </tr>\n",
       "    <tr>\n",
       "      <th>6</th>\n",
       "      <td>6</td>\n",
       "      <td>1</td>\n",
       "      <td>two</td>\n",
       "      <td>3</td>\n",
       "    </tr>\n",
       "  </tbody>\n",
       "</table>\n",
       "</div>"
      ],
      "text/plain": [
       "   a  b    c  d\n",
       "0  0  7  one  0\n",
       "1  1  6  one  1\n",
       "2  2  5  one  2\n",
       "3  3  4  two  0\n",
       "4  4  3  two  1\n",
       "5  5  2  two  2\n",
       "6  6  1  two  3"
      ]
     },
     "execution_count": 225,
     "metadata": {},
     "output_type": "execute_result"
    }
   ],
   "source": [
    "frame = DataFrame({'a': range(7), 'b':range(7,0,-1),\n",
    "                   'c': ['one','one','one','two','two','two','two'],\n",
    "                   'd': [0,1,2,0,1,2,3]})\n",
    "frame"
   ]
  },
  {
   "cell_type": "code",
   "execution_count": 227,
   "metadata": {},
   "outputs": [
    {
     "data": {
      "text/html": [
       "<div>\n",
       "<style>\n",
       "    .dataframe thead tr:only-child th {\n",
       "        text-align: right;\n",
       "    }\n",
       "\n",
       "    .dataframe thead th {\n",
       "        text-align: left;\n",
       "    }\n",
       "\n",
       "    .dataframe tbody tr th {\n",
       "        vertical-align: top;\n",
       "    }\n",
       "</style>\n",
       "<table border=\"1\" class=\"dataframe\">\n",
       "  <thead>\n",
       "    <tr style=\"text-align: right;\">\n",
       "      <th></th>\n",
       "      <th></th>\n",
       "      <th>a</th>\n",
       "      <th>b</th>\n",
       "    </tr>\n",
       "    <tr>\n",
       "      <th>c</th>\n",
       "      <th>d</th>\n",
       "      <th></th>\n",
       "      <th></th>\n",
       "    </tr>\n",
       "  </thead>\n",
       "  <tbody>\n",
       "    <tr>\n",
       "      <th rowspan=\"3\" valign=\"top\">one</th>\n",
       "      <th>0</th>\n",
       "      <td>0</td>\n",
       "      <td>7</td>\n",
       "    </tr>\n",
       "    <tr>\n",
       "      <th>1</th>\n",
       "      <td>1</td>\n",
       "      <td>6</td>\n",
       "    </tr>\n",
       "    <tr>\n",
       "      <th>2</th>\n",
       "      <td>2</td>\n",
       "      <td>5</td>\n",
       "    </tr>\n",
       "    <tr>\n",
       "      <th rowspan=\"4\" valign=\"top\">two</th>\n",
       "      <th>0</th>\n",
       "      <td>3</td>\n",
       "      <td>4</td>\n",
       "    </tr>\n",
       "    <tr>\n",
       "      <th>1</th>\n",
       "      <td>4</td>\n",
       "      <td>3</td>\n",
       "    </tr>\n",
       "    <tr>\n",
       "      <th>2</th>\n",
       "      <td>5</td>\n",
       "      <td>2</td>\n",
       "    </tr>\n",
       "    <tr>\n",
       "      <th>3</th>\n",
       "      <td>6</td>\n",
       "      <td>1</td>\n",
       "    </tr>\n",
       "  </tbody>\n",
       "</table>\n",
       "</div>"
      ],
      "text/plain": [
       "       a  b\n",
       "c   d      \n",
       "one 0  0  7\n",
       "    1  1  6\n",
       "    2  2  5\n",
       "two 0  3  4\n",
       "    1  4  3\n",
       "    2  5  2\n",
       "    3  6  1"
      ]
     },
     "execution_count": 227,
     "metadata": {},
     "output_type": "execute_result"
    }
   ],
   "source": [
    "frame2 = frame.set_index(['c','d'])\n",
    "frame2\n",
    "#列中的项变成索引"
   ]
  },
  {
   "cell_type": "code",
   "execution_count": 228,
   "metadata": {},
   "outputs": [
    {
     "data": {
      "text/html": [
       "<div>\n",
       "<style>\n",
       "    .dataframe thead tr:only-child th {\n",
       "        text-align: right;\n",
       "    }\n",
       "\n",
       "    .dataframe thead th {\n",
       "        text-align: left;\n",
       "    }\n",
       "\n",
       "    .dataframe tbody tr th {\n",
       "        vertical-align: top;\n",
       "    }\n",
       "</style>\n",
       "<table border=\"1\" class=\"dataframe\">\n",
       "  <thead>\n",
       "    <tr style=\"text-align: right;\">\n",
       "      <th></th>\n",
       "      <th></th>\n",
       "      <th>a</th>\n",
       "      <th>b</th>\n",
       "      <th>c</th>\n",
       "      <th>d</th>\n",
       "    </tr>\n",
       "    <tr>\n",
       "      <th>c</th>\n",
       "      <th>d</th>\n",
       "      <th></th>\n",
       "      <th></th>\n",
       "      <th></th>\n",
       "      <th></th>\n",
       "    </tr>\n",
       "  </thead>\n",
       "  <tbody>\n",
       "    <tr>\n",
       "      <th rowspan=\"3\" valign=\"top\">one</th>\n",
       "      <th>0</th>\n",
       "      <td>0</td>\n",
       "      <td>7</td>\n",
       "      <td>one</td>\n",
       "      <td>0</td>\n",
       "    </tr>\n",
       "    <tr>\n",
       "      <th>1</th>\n",
       "      <td>1</td>\n",
       "      <td>6</td>\n",
       "      <td>one</td>\n",
       "      <td>1</td>\n",
       "    </tr>\n",
       "    <tr>\n",
       "      <th>2</th>\n",
       "      <td>2</td>\n",
       "      <td>5</td>\n",
       "      <td>one</td>\n",
       "      <td>2</td>\n",
       "    </tr>\n",
       "    <tr>\n",
       "      <th rowspan=\"4\" valign=\"top\">two</th>\n",
       "      <th>0</th>\n",
       "      <td>3</td>\n",
       "      <td>4</td>\n",
       "      <td>two</td>\n",
       "      <td>0</td>\n",
       "    </tr>\n",
       "    <tr>\n",
       "      <th>1</th>\n",
       "      <td>4</td>\n",
       "      <td>3</td>\n",
       "      <td>two</td>\n",
       "      <td>1</td>\n",
       "    </tr>\n",
       "    <tr>\n",
       "      <th>2</th>\n",
       "      <td>5</td>\n",
       "      <td>2</td>\n",
       "      <td>two</td>\n",
       "      <td>2</td>\n",
       "    </tr>\n",
       "    <tr>\n",
       "      <th>3</th>\n",
       "      <td>6</td>\n",
       "      <td>1</td>\n",
       "      <td>two</td>\n",
       "      <td>3</td>\n",
       "    </tr>\n",
       "  </tbody>\n",
       "</table>\n",
       "</div>"
      ],
      "text/plain": [
       "       a  b    c  d\n",
       "c   d              \n",
       "one 0  0  7  one  0\n",
       "    1  1  6  one  1\n",
       "    2  2  5  one  2\n",
       "two 0  3  4  two  0\n",
       "    1  4  3  two  1\n",
       "    2  5  2  two  2\n",
       "    3  6  1  two  3"
      ]
     },
     "execution_count": 228,
     "metadata": {},
     "output_type": "execute_result"
    }
   ],
   "source": [
    "frame.set_index(['c','d'], drop=False)"
   ]
  },
  {
   "cell_type": "code",
   "execution_count": 229,
   "metadata": {},
   "outputs": [
    {
     "data": {
      "text/html": [
       "<div>\n",
       "<style>\n",
       "    .dataframe thead tr:only-child th {\n",
       "        text-align: right;\n",
       "    }\n",
       "\n",
       "    .dataframe thead th {\n",
       "        text-align: left;\n",
       "    }\n",
       "\n",
       "    .dataframe tbody tr th {\n",
       "        vertical-align: top;\n",
       "    }\n",
       "</style>\n",
       "<table border=\"1\" class=\"dataframe\">\n",
       "  <thead>\n",
       "    <tr style=\"text-align: right;\">\n",
       "      <th></th>\n",
       "      <th>c</th>\n",
       "      <th>d</th>\n",
       "      <th>a</th>\n",
       "      <th>b</th>\n",
       "    </tr>\n",
       "  </thead>\n",
       "  <tbody>\n",
       "    <tr>\n",
       "      <th>0</th>\n",
       "      <td>one</td>\n",
       "      <td>0</td>\n",
       "      <td>0</td>\n",
       "      <td>7</td>\n",
       "    </tr>\n",
       "    <tr>\n",
       "      <th>1</th>\n",
       "      <td>one</td>\n",
       "      <td>1</td>\n",
       "      <td>1</td>\n",
       "      <td>6</td>\n",
       "    </tr>\n",
       "    <tr>\n",
       "      <th>2</th>\n",
       "      <td>one</td>\n",
       "      <td>2</td>\n",
       "      <td>2</td>\n",
       "      <td>5</td>\n",
       "    </tr>\n",
       "    <tr>\n",
       "      <th>3</th>\n",
       "      <td>two</td>\n",
       "      <td>0</td>\n",
       "      <td>3</td>\n",
       "      <td>4</td>\n",
       "    </tr>\n",
       "    <tr>\n",
       "      <th>4</th>\n",
       "      <td>two</td>\n",
       "      <td>1</td>\n",
       "      <td>4</td>\n",
       "      <td>3</td>\n",
       "    </tr>\n",
       "    <tr>\n",
       "      <th>5</th>\n",
       "      <td>two</td>\n",
       "      <td>2</td>\n",
       "      <td>5</td>\n",
       "      <td>2</td>\n",
       "    </tr>\n",
       "    <tr>\n",
       "      <th>6</th>\n",
       "      <td>two</td>\n",
       "      <td>3</td>\n",
       "      <td>6</td>\n",
       "      <td>1</td>\n",
       "    </tr>\n",
       "  </tbody>\n",
       "</table>\n",
       "</div>"
      ],
      "text/plain": [
       "     c  d  a  b\n",
       "0  one  0  0  7\n",
       "1  one  1  1  6\n",
       "2  one  2  2  5\n",
       "3  two  0  3  4\n",
       "4  two  1  4  3\n",
       "5  two  2  5  2\n",
       "6  two  3  6  1"
      ]
     },
     "execution_count": 229,
     "metadata": {},
     "output_type": "execute_result"
    }
   ],
   "source": [
    "frame2.reset_index()\n",
    "#索引的级别会转移到列里面"
   ]
  },
  {
   "cell_type": "markdown",
   "metadata": {},
   "source": [
    "### 其他有关pandas的话题"
   ]
  },
  {
   "cell_type": "markdown",
   "metadata": {},
   "source": [
    "#### 整数索引"
   ]
  },
  {
   "cell_type": "code",
   "execution_count": 231,
   "metadata": {
    "scrolled": true
   },
   "outputs": [
    {
     "data": {
      "text/plain": [
       "0    0.0\n",
       "1    1.0\n",
       "2    2.0\n",
       "dtype: float64"
      ]
     },
     "execution_count": 231,
     "metadata": {},
     "output_type": "execute_result"
    }
   ],
   "source": [
    "ser = Series(np.arange(3.))\n",
    "ser\n",
    "#ser[-1]在整数索引里面没错，但是在Series整数索引里面有问题"
   ]
  },
  {
   "cell_type": "code",
   "execution_count": 233,
   "metadata": {},
   "outputs": [
    {
     "name": "stdout",
     "output_type": "stream",
     "text": [
      "a    0.0\n",
      "b    1.0\n",
      "c    2.0\n",
      "dtype: float64\n",
      "2.0\n"
     ]
    }
   ],
   "source": [
    "ser2 = Series(np.arange(3.), index=['a','b','c'])\n",
    "print(ser2)\n",
    "print(ser2[-1])\n",
    "#在Series的非整数索引里面没有这样的歧义"
   ]
  },
  {
   "cell_type": "code",
   "execution_count": 236,
   "metadata": {},
   "outputs": [
    {
     "name": "stdout",
     "output_type": "stream",
     "text": [
      "0    0.0\n",
      "1    1.0\n",
      "dtype: float64\n",
      "0    0.0\n",
      "dtype: float64\n"
     ]
    }
   ],
   "source": [
    "print(ser.ix[:1])\n",
    "print(ser[:1])\n",
    "#区别"
   ]
  },
  {
   "cell_type": "code",
   "execution_count": 240,
   "metadata": {},
   "outputs": [
    {
     "name": "stdout",
     "output_type": "stream",
     "text": [
      "-5    0\n",
      " 1    1\n",
      " 3    2\n",
      "dtype: int64\n",
      "   0  1\n",
      "2  0  1\n",
      "0  2  3\n",
      "1  4  5\n"
     ]
    }
   ],
   "source": [
    "ser3 = Series(range(3), index=[-5,1,3])\n",
    "print(ser3)\n",
    "# print(ser3.iget_value(2))#不存在了\n",
    "frame = DataFrame(np.arange(6).reshape(3,2), index=[2,0,1])\n",
    "print(frame)\n",
    "# print(frame.irow(0))"
   ]
  },
  {
   "cell_type": "markdown",
   "metadata": {},
   "source": [
    "#### 面板数据"
   ]
  },
  {
   "cell_type": "code",
   "execution_count": null,
   "metadata": {
    "collapsed": true
   },
   "outputs": [],
   "source": [
    ".........."
   ]
  },
  {
   "cell_type": "markdown",
   "metadata": {},
   "source": [
    "## 第6章 数据加载、存储于文件格式\n",
    "\n",
    "### 读写文本格式的数据\n",
    "pandas提供了一些用于将表格型数据读取为DataFrame对象的函数。<br />\n",
    "其中read_csv和read——table可能是今后用的最多的。"
   ]
  },
  {
   "cell_type": "code",
   "execution_count": 244,
   "metadata": {},
   "outputs": [
    {
     "name": "stdout",
     "output_type": "stream",
     "text": [
      "a,b,c,d,message\r\n",
      "1,2,3,4,hello\r\n",
      "5,6,7,8,world\r\n",
      "9,10,11,12,foo"
     ]
    }
   ],
   "source": [
    "!cat examples/ex1.csv"
   ]
  },
  {
   "cell_type": "code",
   "execution_count": 246,
   "metadata": {},
   "outputs": [
    {
     "data": {
      "text/html": [
       "<div>\n",
       "<style>\n",
       "    .dataframe thead tr:only-child th {\n",
       "        text-align: right;\n",
       "    }\n",
       "\n",
       "    .dataframe thead th {\n",
       "        text-align: left;\n",
       "    }\n",
       "\n",
       "    .dataframe tbody tr th {\n",
       "        vertical-align: top;\n",
       "    }\n",
       "</style>\n",
       "<table border=\"1\" class=\"dataframe\">\n",
       "  <thead>\n",
       "    <tr style=\"text-align: right;\">\n",
       "      <th></th>\n",
       "      <th>a</th>\n",
       "      <th>b</th>\n",
       "      <th>c</th>\n",
       "      <th>d</th>\n",
       "      <th>message</th>\n",
       "    </tr>\n",
       "  </thead>\n",
       "  <tbody>\n",
       "    <tr>\n",
       "      <th>0</th>\n",
       "      <td>1</td>\n",
       "      <td>2</td>\n",
       "      <td>3</td>\n",
       "      <td>4</td>\n",
       "      <td>hello</td>\n",
       "    </tr>\n",
       "    <tr>\n",
       "      <th>1</th>\n",
       "      <td>5</td>\n",
       "      <td>6</td>\n",
       "      <td>7</td>\n",
       "      <td>8</td>\n",
       "      <td>world</td>\n",
       "    </tr>\n",
       "    <tr>\n",
       "      <th>2</th>\n",
       "      <td>9</td>\n",
       "      <td>10</td>\n",
       "      <td>11</td>\n",
       "      <td>12</td>\n",
       "      <td>foo</td>\n",
       "    </tr>\n",
       "  </tbody>\n",
       "</table>\n",
       "</div>"
      ],
      "text/plain": [
       "   a   b   c   d message\n",
       "0  1   2   3   4   hello\n",
       "1  5   6   7   8   world\n",
       "2  9  10  11  12     foo"
      ]
     },
     "execution_count": 246,
     "metadata": {},
     "output_type": "execute_result"
    }
   ],
   "source": [
    "df = pd.read_csv('examples/ex1.csv')\n",
    "df"
   ]
  },
  {
   "cell_type": "code",
   "execution_count": 247,
   "metadata": {},
   "outputs": [
    {
     "data": {
      "text/html": [
       "<div>\n",
       "<style>\n",
       "    .dataframe thead tr:only-child th {\n",
       "        text-align: right;\n",
       "    }\n",
       "\n",
       "    .dataframe thead th {\n",
       "        text-align: left;\n",
       "    }\n",
       "\n",
       "    .dataframe tbody tr th {\n",
       "        vertical-align: top;\n",
       "    }\n",
       "</style>\n",
       "<table border=\"1\" class=\"dataframe\">\n",
       "  <thead>\n",
       "    <tr style=\"text-align: right;\">\n",
       "      <th></th>\n",
       "      <th>a</th>\n",
       "      <th>b</th>\n",
       "      <th>c</th>\n",
       "      <th>d</th>\n",
       "      <th>message</th>\n",
       "    </tr>\n",
       "  </thead>\n",
       "  <tbody>\n",
       "    <tr>\n",
       "      <th>0</th>\n",
       "      <td>1</td>\n",
       "      <td>2</td>\n",
       "      <td>3</td>\n",
       "      <td>4</td>\n",
       "      <td>hello</td>\n",
       "    </tr>\n",
       "    <tr>\n",
       "      <th>1</th>\n",
       "      <td>5</td>\n",
       "      <td>6</td>\n",
       "      <td>7</td>\n",
       "      <td>8</td>\n",
       "      <td>world</td>\n",
       "    </tr>\n",
       "    <tr>\n",
       "      <th>2</th>\n",
       "      <td>9</td>\n",
       "      <td>10</td>\n",
       "      <td>11</td>\n",
       "      <td>12</td>\n",
       "      <td>foo</td>\n",
       "    </tr>\n",
       "  </tbody>\n",
       "</table>\n",
       "</div>"
      ],
      "text/plain": [
       "   a   b   c   d message\n",
       "0  1   2   3   4   hello\n",
       "1  5   6   7   8   world\n",
       "2  9  10  11  12     foo"
      ]
     },
     "execution_count": 247,
     "metadata": {},
     "output_type": "execute_result"
    }
   ],
   "source": [
    "pd.read_table('examples/ex1.csv',sep=',')"
   ]
  },
  {
   "cell_type": "code",
   "execution_count": 248,
   "metadata": {},
   "outputs": [
    {
     "name": "stdout",
     "output_type": "stream",
     "text": [
      "1,2,3,4,hello\r\n",
      "5,6,7,8,world\r\n",
      "9,10,11,12,foo"
     ]
    }
   ],
   "source": [
    "!cat examples/ex2.csv"
   ]
  },
  {
   "cell_type": "markdown",
   "metadata": {},
   "source": [
    "让pandas为其分配默认的列名，也可以自定义列名"
   ]
  },
  {
   "cell_type": "code",
   "execution_count": 249,
   "metadata": {},
   "outputs": [
    {
     "data": {
      "text/html": [
       "<div>\n",
       "<style>\n",
       "    .dataframe thead tr:only-child th {\n",
       "        text-align: right;\n",
       "    }\n",
       "\n",
       "    .dataframe thead th {\n",
       "        text-align: left;\n",
       "    }\n",
       "\n",
       "    .dataframe tbody tr th {\n",
       "        vertical-align: top;\n",
       "    }\n",
       "</style>\n",
       "<table border=\"1\" class=\"dataframe\">\n",
       "  <thead>\n",
       "    <tr style=\"text-align: right;\">\n",
       "      <th></th>\n",
       "      <th>0</th>\n",
       "      <th>1</th>\n",
       "      <th>2</th>\n",
       "      <th>3</th>\n",
       "      <th>4</th>\n",
       "    </tr>\n",
       "  </thead>\n",
       "  <tbody>\n",
       "    <tr>\n",
       "      <th>0</th>\n",
       "      <td>1</td>\n",
       "      <td>2</td>\n",
       "      <td>3</td>\n",
       "      <td>4</td>\n",
       "      <td>hello</td>\n",
       "    </tr>\n",
       "    <tr>\n",
       "      <th>1</th>\n",
       "      <td>5</td>\n",
       "      <td>6</td>\n",
       "      <td>7</td>\n",
       "      <td>8</td>\n",
       "      <td>world</td>\n",
       "    </tr>\n",
       "    <tr>\n",
       "      <th>2</th>\n",
       "      <td>9</td>\n",
       "      <td>10</td>\n",
       "      <td>11</td>\n",
       "      <td>12</td>\n",
       "      <td>foo</td>\n",
       "    </tr>\n",
       "  </tbody>\n",
       "</table>\n",
       "</div>"
      ],
      "text/plain": [
       "   0   1   2   3      4\n",
       "0  1   2   3   4  hello\n",
       "1  5   6   7   8  world\n",
       "2  9  10  11  12    foo"
      ]
     },
     "execution_count": 249,
     "metadata": {},
     "output_type": "execute_result"
    }
   ],
   "source": [
    "pd.read_csv('examples/ex2.csv',header=None)"
   ]
  },
  {
   "cell_type": "code",
   "execution_count": 250,
   "metadata": {},
   "outputs": [
    {
     "data": {
      "text/html": [
       "<div>\n",
       "<style>\n",
       "    .dataframe thead tr:only-child th {\n",
       "        text-align: right;\n",
       "    }\n",
       "\n",
       "    .dataframe thead th {\n",
       "        text-align: left;\n",
       "    }\n",
       "\n",
       "    .dataframe tbody tr th {\n",
       "        vertical-align: top;\n",
       "    }\n",
       "</style>\n",
       "<table border=\"1\" class=\"dataframe\">\n",
       "  <thead>\n",
       "    <tr style=\"text-align: right;\">\n",
       "      <th></th>\n",
       "      <th>a</th>\n",
       "      <th>b</th>\n",
       "      <th>c</th>\n",
       "      <th>d</th>\n",
       "      <th>message</th>\n",
       "    </tr>\n",
       "  </thead>\n",
       "  <tbody>\n",
       "    <tr>\n",
       "      <th>0</th>\n",
       "      <td>1</td>\n",
       "      <td>2</td>\n",
       "      <td>3</td>\n",
       "      <td>4</td>\n",
       "      <td>hello</td>\n",
       "    </tr>\n",
       "    <tr>\n",
       "      <th>1</th>\n",
       "      <td>5</td>\n",
       "      <td>6</td>\n",
       "      <td>7</td>\n",
       "      <td>8</td>\n",
       "      <td>world</td>\n",
       "    </tr>\n",
       "    <tr>\n",
       "      <th>2</th>\n",
       "      <td>9</td>\n",
       "      <td>10</td>\n",
       "      <td>11</td>\n",
       "      <td>12</td>\n",
       "      <td>foo</td>\n",
       "    </tr>\n",
       "  </tbody>\n",
       "</table>\n",
       "</div>"
      ],
      "text/plain": [
       "   a   b   c   d message\n",
       "0  1   2   3   4   hello\n",
       "1  5   6   7   8   world\n",
       "2  9  10  11  12     foo"
      ]
     },
     "execution_count": 250,
     "metadata": {},
     "output_type": "execute_result"
    }
   ],
   "source": [
    "pd.read_csv('examples/ex2.csv',names=['a','b','c','d','message'])"
   ]
  },
  {
   "cell_type": "code",
   "execution_count": 251,
   "metadata": {},
   "outputs": [
    {
     "data": {
      "text/html": [
       "<div>\n",
       "<style>\n",
       "    .dataframe thead tr:only-child th {\n",
       "        text-align: right;\n",
       "    }\n",
       "\n",
       "    .dataframe thead th {\n",
       "        text-align: left;\n",
       "    }\n",
       "\n",
       "    .dataframe tbody tr th {\n",
       "        vertical-align: top;\n",
       "    }\n",
       "</style>\n",
       "<table border=\"1\" class=\"dataframe\">\n",
       "  <thead>\n",
       "    <tr style=\"text-align: right;\">\n",
       "      <th></th>\n",
       "      <th>a</th>\n",
       "      <th>b</th>\n",
       "      <th>c</th>\n",
       "      <th>d</th>\n",
       "    </tr>\n",
       "    <tr>\n",
       "      <th>message</th>\n",
       "      <th></th>\n",
       "      <th></th>\n",
       "      <th></th>\n",
       "      <th></th>\n",
       "    </tr>\n",
       "  </thead>\n",
       "  <tbody>\n",
       "    <tr>\n",
       "      <th>hello</th>\n",
       "      <td>1</td>\n",
       "      <td>2</td>\n",
       "      <td>3</td>\n",
       "      <td>4</td>\n",
       "    </tr>\n",
       "    <tr>\n",
       "      <th>world</th>\n",
       "      <td>5</td>\n",
       "      <td>6</td>\n",
       "      <td>7</td>\n",
       "      <td>8</td>\n",
       "    </tr>\n",
       "    <tr>\n",
       "      <th>foo</th>\n",
       "      <td>9</td>\n",
       "      <td>10</td>\n",
       "      <td>11</td>\n",
       "      <td>12</td>\n",
       "    </tr>\n",
       "  </tbody>\n",
       "</table>\n",
       "</div>"
      ],
      "text/plain": [
       "         a   b   c   d\n",
       "message               \n",
       "hello    1   2   3   4\n",
       "world    5   6   7   8\n",
       "foo      9  10  11  12"
      ]
     },
     "execution_count": 251,
     "metadata": {},
     "output_type": "execute_result"
    }
   ],
   "source": [
    "#将message做成DataFrame的索引\n",
    "names = ['a','b','c','d','message']\n",
    "pd.read_csv('examples/ex2.csv',names=names,index_col='message')"
   ]
  },
  {
   "cell_type": "code",
   "execution_count": 252,
   "metadata": {},
   "outputs": [
    {
     "data": {
      "text/html": [
       "<div>\n",
       "<style>\n",
       "    .dataframe thead tr:only-child th {\n",
       "        text-align: right;\n",
       "    }\n",
       "\n",
       "    .dataframe thead th {\n",
       "        text-align: left;\n",
       "    }\n",
       "\n",
       "    .dataframe tbody tr th {\n",
       "        vertical-align: top;\n",
       "    }\n",
       "</style>\n",
       "<table border=\"1\" class=\"dataframe\">\n",
       "  <thead>\n",
       "    <tr style=\"text-align: right;\">\n",
       "      <th></th>\n",
       "      <th></th>\n",
       "      <th>value1</th>\n",
       "      <th>value2</th>\n",
       "    </tr>\n",
       "    <tr>\n",
       "      <th>key1</th>\n",
       "      <th>key2</th>\n",
       "      <th></th>\n",
       "      <th></th>\n",
       "    </tr>\n",
       "  </thead>\n",
       "  <tbody>\n",
       "    <tr>\n",
       "      <th rowspan=\"4\" valign=\"top\">one</th>\n",
       "      <th>a</th>\n",
       "      <td>1</td>\n",
       "      <td>2</td>\n",
       "    </tr>\n",
       "    <tr>\n",
       "      <th>b</th>\n",
       "      <td>3</td>\n",
       "      <td>4</td>\n",
       "    </tr>\n",
       "    <tr>\n",
       "      <th>c</th>\n",
       "      <td>5</td>\n",
       "      <td>6</td>\n",
       "    </tr>\n",
       "    <tr>\n",
       "      <th>d</th>\n",
       "      <td>7</td>\n",
       "      <td>8</td>\n",
       "    </tr>\n",
       "    <tr>\n",
       "      <th rowspan=\"4\" valign=\"top\">two</th>\n",
       "      <th>a</th>\n",
       "      <td>9</td>\n",
       "      <td>10</td>\n",
       "    </tr>\n",
       "    <tr>\n",
       "      <th>b</th>\n",
       "      <td>11</td>\n",
       "      <td>12</td>\n",
       "    </tr>\n",
       "    <tr>\n",
       "      <th>c</th>\n",
       "      <td>13</td>\n",
       "      <td>14</td>\n",
       "    </tr>\n",
       "    <tr>\n",
       "      <th>d</th>\n",
       "      <td>15</td>\n",
       "      <td>16</td>\n",
       "    </tr>\n",
       "  </tbody>\n",
       "</table>\n",
       "</div>"
      ],
      "text/plain": [
       "           value1  value2\n",
       "key1 key2                \n",
       "one  a          1       2\n",
       "     b          3       4\n",
       "     c          5       6\n",
       "     d          7       8\n",
       "two  a          9      10\n",
       "     b         11      12\n",
       "     c         13      14\n",
       "     d         15      16"
      ]
     },
     "execution_count": 252,
     "metadata": {},
     "output_type": "execute_result"
    }
   ],
   "source": [
    "#将多个列做成一个层次化索引，只需要传入由列编号或列名组成的列表即可\n",
    "parsed = pd.read_csv('examples/csv_mindex.csv',index_col=['key1','key2'])\n",
    "parsed"
   ]
  },
  {
   "cell_type": "code",
   "execution_count": 254,
   "metadata": {},
   "outputs": [
    {
     "data": {
      "text/plain": [
       "['            A         B         C\\n',\n",
       " 'aaa -0.264438 -1.026059 -0.619500\\n',\n",
       " 'bbb  0.927272  0.302904 -0.032399\\n',\n",
       " 'ccc -0.264273 -0.386314 -0.217601\\n',\n",
       " 'ddd -0.871858 -0.348382  1.100491\\n']"
      ]
     },
     "execution_count": 254,
     "metadata": {},
     "output_type": "execute_result"
    }
   ],
   "source": [
    "list(open('examples/ex3.txt'))"
   ]
  },
  {
   "cell_type": "code",
   "execution_count": 256,
   "metadata": {},
   "outputs": [
    {
     "data": {
      "text/html": [
       "<div>\n",
       "<style>\n",
       "    .dataframe thead tr:only-child th {\n",
       "        text-align: right;\n",
       "    }\n",
       "\n",
       "    .dataframe thead th {\n",
       "        text-align: left;\n",
       "    }\n",
       "\n",
       "    .dataframe tbody tr th {\n",
       "        vertical-align: top;\n",
       "    }\n",
       "</style>\n",
       "<table border=\"1\" class=\"dataframe\">\n",
       "  <thead>\n",
       "    <tr style=\"text-align: right;\">\n",
       "      <th></th>\n",
       "      <th>A</th>\n",
       "      <th>B</th>\n",
       "      <th>C</th>\n",
       "    </tr>\n",
       "  </thead>\n",
       "  <tbody>\n",
       "    <tr>\n",
       "      <th>aaa</th>\n",
       "      <td>-0.264438</td>\n",
       "      <td>-1.026059</td>\n",
       "      <td>-0.619500</td>\n",
       "    </tr>\n",
       "    <tr>\n",
       "      <th>bbb</th>\n",
       "      <td>0.927272</td>\n",
       "      <td>0.302904</td>\n",
       "      <td>-0.032399</td>\n",
       "    </tr>\n",
       "    <tr>\n",
       "      <th>ccc</th>\n",
       "      <td>-0.264273</td>\n",
       "      <td>-0.386314</td>\n",
       "      <td>-0.217601</td>\n",
       "    </tr>\n",
       "    <tr>\n",
       "      <th>ddd</th>\n",
       "      <td>-0.871858</td>\n",
       "      <td>-0.348382</td>\n",
       "      <td>1.100491</td>\n",
       "    </tr>\n",
       "  </tbody>\n",
       "</table>\n",
       "</div>"
      ],
      "text/plain": [
       "            A         B         C\n",
       "aaa -0.264438 -1.026059 -0.619500\n",
       "bbb  0.927272  0.302904 -0.032399\n",
       "ccc -0.264273 -0.386314 -0.217601\n",
       "ddd -0.871858 -0.348382  1.100491"
      ]
     },
     "execution_count": 256,
     "metadata": {},
     "output_type": "execute_result"
    }
   ],
   "source": [
    "#用正则表达式进行调整,本例用s+\n",
    "result = pd.read_table('examples/ex3.txt',sep='\\s+')\n",
    "result"
   ]
  },
  {
   "cell_type": "code",
   "execution_count": 257,
   "metadata": {},
   "outputs": [
    {
     "name": "stdout",
     "output_type": "stream",
     "text": [
      "# hey!\r\n",
      "a,b,c,d,message\r\n",
      "# just wanted to make things more difficult for you\r\n",
      "# who reads CSV files with computers, anyway?\r\n",
      "1,2,3,4,hello\r\n",
      "5,6,7,8,world\r\n",
      "9,10,11,12,foo"
     ]
    }
   ],
   "source": [
    "#可以用skiprows跳过文件的第一行、第三行和第四行\n",
    "!cat examples/ex4.csv"
   ]
  },
  {
   "cell_type": "code",
   "execution_count": 258,
   "metadata": {},
   "outputs": [
    {
     "data": {
      "text/html": [
       "<div>\n",
       "<style>\n",
       "    .dataframe thead tr:only-child th {\n",
       "        text-align: right;\n",
       "    }\n",
       "\n",
       "    .dataframe thead th {\n",
       "        text-align: left;\n",
       "    }\n",
       "\n",
       "    .dataframe tbody tr th {\n",
       "        vertical-align: top;\n",
       "    }\n",
       "</style>\n",
       "<table border=\"1\" class=\"dataframe\">\n",
       "  <thead>\n",
       "    <tr style=\"text-align: right;\">\n",
       "      <th></th>\n",
       "      <th>a</th>\n",
       "      <th>b</th>\n",
       "      <th>c</th>\n",
       "      <th>d</th>\n",
       "      <th>message</th>\n",
       "    </tr>\n",
       "  </thead>\n",
       "  <tbody>\n",
       "    <tr>\n",
       "      <th>0</th>\n",
       "      <td>1</td>\n",
       "      <td>2</td>\n",
       "      <td>3</td>\n",
       "      <td>4</td>\n",
       "      <td>hello</td>\n",
       "    </tr>\n",
       "    <tr>\n",
       "      <th>1</th>\n",
       "      <td>5</td>\n",
       "      <td>6</td>\n",
       "      <td>7</td>\n",
       "      <td>8</td>\n",
       "      <td>world</td>\n",
       "    </tr>\n",
       "    <tr>\n",
       "      <th>2</th>\n",
       "      <td>9</td>\n",
       "      <td>10</td>\n",
       "      <td>11</td>\n",
       "      <td>12</td>\n",
       "      <td>foo</td>\n",
       "    </tr>\n",
       "  </tbody>\n",
       "</table>\n",
       "</div>"
      ],
      "text/plain": [
       "   a   b   c   d message\n",
       "0  1   2   3   4   hello\n",
       "1  5   6   7   8   world\n",
       "2  9  10  11  12     foo"
      ]
     },
     "execution_count": 258,
     "metadata": {},
     "output_type": "execute_result"
    }
   ],
   "source": [
    "pd.read_csv('examples/ex4.csv',skiprows=[0,2,3])"
   ]
  },
  {
   "cell_type": "markdown",
   "metadata": {},
   "source": [
    "缺失值处理是文件解析任务重的一个重要的组成部分<br />\n",
    "默认pandas会用一组经常出现的标记进行识别，比如NA或NULL\n"
   ]
  },
  {
   "cell_type": "code",
   "execution_count": 259,
   "metadata": {},
   "outputs": [
    {
     "name": "stdout",
     "output_type": "stream",
     "text": [
      "something,a,b,c,d,message\r\n",
      "one,1,2,3,4,NA\r\n",
      "two,5,6,,8,world\r\n",
      "three,9,10,11,12,foo"
     ]
    }
   ],
   "source": [
    "!cat examples/ex5.csv"
   ]
  },
  {
   "cell_type": "code",
   "execution_count": 260,
   "metadata": {},
   "outputs": [
    {
     "name": "stdout",
     "output_type": "stream",
     "text": [
      "  something  a   b     c   d message\n",
      "0       one  1   2   3.0   4     NaN\n",
      "1       two  5   6   NaN   8   world\n",
      "2     three  9  10  11.0  12     foo\n",
      "   something      a      b      c      d  message\n",
      "0      False  False  False  False  False     True\n",
      "1      False  False  False   True  False    False\n",
      "2      False  False  False  False  False    False\n"
     ]
    }
   ],
   "source": [
    "result = pd.read_csv('examples/ex5.csv')\n",
    "print(result)\n",
    "print(pd.isnull(result))"
   ]
  },
  {
   "cell_type": "code",
   "execution_count": 261,
   "metadata": {},
   "outputs": [
    {
     "data": {
      "text/html": [
       "<div>\n",
       "<style>\n",
       "    .dataframe thead tr:only-child th {\n",
       "        text-align: right;\n",
       "    }\n",
       "\n",
       "    .dataframe thead th {\n",
       "        text-align: left;\n",
       "    }\n",
       "\n",
       "    .dataframe tbody tr th {\n",
       "        vertical-align: top;\n",
       "    }\n",
       "</style>\n",
       "<table border=\"1\" class=\"dataframe\">\n",
       "  <thead>\n",
       "    <tr style=\"text-align: right;\">\n",
       "      <th></th>\n",
       "      <th>something</th>\n",
       "      <th>a</th>\n",
       "      <th>b</th>\n",
       "      <th>c</th>\n",
       "      <th>d</th>\n",
       "      <th>message</th>\n",
       "    </tr>\n",
       "  </thead>\n",
       "  <tbody>\n",
       "    <tr>\n",
       "      <th>0</th>\n",
       "      <td>one</td>\n",
       "      <td>1</td>\n",
       "      <td>2</td>\n",
       "      <td>3.0</td>\n",
       "      <td>4</td>\n",
       "      <td>NaN</td>\n",
       "    </tr>\n",
       "    <tr>\n",
       "      <th>1</th>\n",
       "      <td>two</td>\n",
       "      <td>5</td>\n",
       "      <td>6</td>\n",
       "      <td>NaN</td>\n",
       "      <td>8</td>\n",
       "      <td>world</td>\n",
       "    </tr>\n",
       "    <tr>\n",
       "      <th>2</th>\n",
       "      <td>three</td>\n",
       "      <td>9</td>\n",
       "      <td>10</td>\n",
       "      <td>11.0</td>\n",
       "      <td>12</td>\n",
       "      <td>foo</td>\n",
       "    </tr>\n",
       "  </tbody>\n",
       "</table>\n",
       "</div>"
      ],
      "text/plain": [
       "  something  a   b     c   d message\n",
       "0       one  1   2   3.0   4     NaN\n",
       "1       two  5   6   NaN   8   world\n",
       "2     three  9  10  11.0  12     foo"
      ]
     },
     "execution_count": 261,
     "metadata": {},
     "output_type": "execute_result"
    }
   ],
   "source": [
    "#na_values可以用一个列表或集合的字符串表示缺失值\n",
    "result = pd.read_csv('examples/ex5.csv',na_values=['NULL'])\n",
    "result"
   ]
  },
  {
   "cell_type": "code",
   "execution_count": 262,
   "metadata": {},
   "outputs": [
    {
     "data": {
      "text/html": [
       "<div>\n",
       "<style>\n",
       "    .dataframe thead tr:only-child th {\n",
       "        text-align: right;\n",
       "    }\n",
       "\n",
       "    .dataframe thead th {\n",
       "        text-align: left;\n",
       "    }\n",
       "\n",
       "    .dataframe tbody tr th {\n",
       "        vertical-align: top;\n",
       "    }\n",
       "</style>\n",
       "<table border=\"1\" class=\"dataframe\">\n",
       "  <thead>\n",
       "    <tr style=\"text-align: right;\">\n",
       "      <th></th>\n",
       "      <th>something</th>\n",
       "      <th>a</th>\n",
       "      <th>b</th>\n",
       "      <th>c</th>\n",
       "      <th>d</th>\n",
       "      <th>message</th>\n",
       "    </tr>\n",
       "  </thead>\n",
       "  <tbody>\n",
       "    <tr>\n",
       "      <th>0</th>\n",
       "      <td>one</td>\n",
       "      <td>1</td>\n",
       "      <td>2</td>\n",
       "      <td>3.0</td>\n",
       "      <td>4</td>\n",
       "      <td>NaN</td>\n",
       "    </tr>\n",
       "    <tr>\n",
       "      <th>1</th>\n",
       "      <td>NaN</td>\n",
       "      <td>5</td>\n",
       "      <td>6</td>\n",
       "      <td>NaN</td>\n",
       "      <td>8</td>\n",
       "      <td>world</td>\n",
       "    </tr>\n",
       "    <tr>\n",
       "      <th>2</th>\n",
       "      <td>three</td>\n",
       "      <td>9</td>\n",
       "      <td>10</td>\n",
       "      <td>11.0</td>\n",
       "      <td>12</td>\n",
       "      <td>NaN</td>\n",
       "    </tr>\n",
       "  </tbody>\n",
       "</table>\n",
       "</div>"
      ],
      "text/plain": [
       "  something  a   b     c   d message\n",
       "0       one  1   2   3.0   4     NaN\n",
       "1       NaN  5   6   NaN   8   world\n",
       "2     three  9  10  11.0  12     NaN"
      ]
     },
     "execution_count": 262,
     "metadata": {},
     "output_type": "execute_result"
    }
   ],
   "source": [
    "#可以用一个字典为各列指定不同的NA标记值\n",
    "sentinels = {'message':['foo','NA'], 'something':['two']}\n",
    "pd.read_csv('examples/ex5.csv',na_values=sentinels)"
   ]
  },
  {
   "cell_type": "markdown",
   "metadata": {},
   "source": [
    "逐块读取文本文件"
   ]
  },
  {
   "cell_type": "code",
   "execution_count": 271,
   "metadata": {
    "collapsed": true
   },
   "outputs": [],
   "source": [
    "pd.options.display.max_rows = 10"
   ]
  },
  {
   "cell_type": "code",
   "execution_count": 272,
   "metadata": {},
   "outputs": [
    {
     "name": "stdout",
     "output_type": "stream",
     "text": [
      "           one       two     three      four key\n",
      "0     0.467976 -0.038649 -0.295344 -1.824726   L\n",
      "1    -0.358893  1.404453  0.704965 -0.200638   B\n",
      "2    -0.501840  0.659254 -0.421691 -0.057688   G\n",
      "3     0.204886  1.074134  1.388361 -0.982404   R\n",
      "4     0.354628 -0.133116  0.283763 -0.837063   Q\n",
      "...        ...       ...       ...       ...  ..\n",
      "9995  2.311896 -0.417070 -1.409599 -0.515821   L\n",
      "9996 -0.479893 -0.650419  0.745152 -0.646038   E\n",
      "9997  0.523331  0.787112  0.486066  1.093156   K\n",
      "9998 -0.362559  0.598894 -1.843201  0.887292   G\n",
      "9999 -0.096376 -1.012999 -0.657431 -0.573315   0\n",
      "\n",
      "[10000 rows x 5 columns]\n"
     ]
    }
   ],
   "source": [
    "result = pd.read_csv('examples/ex6.csv')\n",
    "print(result)"
   ]
  },
  {
   "cell_type": "code",
   "execution_count": 273,
   "metadata": {},
   "outputs": [
    {
     "data": {
      "text/html": [
       "<div>\n",
       "<style>\n",
       "    .dataframe thead tr:only-child th {\n",
       "        text-align: right;\n",
       "    }\n",
       "\n",
       "    .dataframe thead th {\n",
       "        text-align: left;\n",
       "    }\n",
       "\n",
       "    .dataframe tbody tr th {\n",
       "        vertical-align: top;\n",
       "    }\n",
       "</style>\n",
       "<table border=\"1\" class=\"dataframe\">\n",
       "  <thead>\n",
       "    <tr style=\"text-align: right;\">\n",
       "      <th></th>\n",
       "      <th>one</th>\n",
       "      <th>two</th>\n",
       "      <th>three</th>\n",
       "      <th>four</th>\n",
       "      <th>key</th>\n",
       "    </tr>\n",
       "  </thead>\n",
       "  <tbody>\n",
       "    <tr>\n",
       "      <th>0</th>\n",
       "      <td>0.467976</td>\n",
       "      <td>-0.038649</td>\n",
       "      <td>-0.295344</td>\n",
       "      <td>-1.824726</td>\n",
       "      <td>L</td>\n",
       "    </tr>\n",
       "    <tr>\n",
       "      <th>1</th>\n",
       "      <td>-0.358893</td>\n",
       "      <td>1.404453</td>\n",
       "      <td>0.704965</td>\n",
       "      <td>-0.200638</td>\n",
       "      <td>B</td>\n",
       "    </tr>\n",
       "    <tr>\n",
       "      <th>2</th>\n",
       "      <td>-0.501840</td>\n",
       "      <td>0.659254</td>\n",
       "      <td>-0.421691</td>\n",
       "      <td>-0.057688</td>\n",
       "      <td>G</td>\n",
       "    </tr>\n",
       "    <tr>\n",
       "      <th>3</th>\n",
       "      <td>0.204886</td>\n",
       "      <td>1.074134</td>\n",
       "      <td>1.388361</td>\n",
       "      <td>-0.982404</td>\n",
       "      <td>R</td>\n",
       "    </tr>\n",
       "    <tr>\n",
       "      <th>4</th>\n",
       "      <td>0.354628</td>\n",
       "      <td>-0.133116</td>\n",
       "      <td>0.283763</td>\n",
       "      <td>-0.837063</td>\n",
       "      <td>Q</td>\n",
       "    </tr>\n",
       "  </tbody>\n",
       "</table>\n",
       "</div>"
      ],
      "text/plain": [
       "        one       two     three      four key\n",
       "0  0.467976 -0.038649 -0.295344 -1.824726   L\n",
       "1 -0.358893  1.404453  0.704965 -0.200638   B\n",
       "2 -0.501840  0.659254 -0.421691 -0.057688   G\n",
       "3  0.204886  1.074134  1.388361 -0.982404   R\n",
       "4  0.354628 -0.133116  0.283763 -0.837063   Q"
      ]
     },
     "execution_count": 273,
     "metadata": {},
     "output_type": "execute_result"
    }
   ],
   "source": [
    "pd.read_csv('examples/ex6.csv',nrows=5)"
   ]
  },
  {
   "cell_type": "code",
   "execution_count": 274,
   "metadata": {},
   "outputs": [
    {
     "data": {
      "text/plain": [
       "<pandas.io.parsers.TextFileReader at 0x10c9c3d68>"
      ]
     },
     "execution_count": 274,
     "metadata": {},
     "output_type": "execute_result"
    }
   ],
   "source": [
    "chunker = pd.read_csv('examples/ex6.csv',chunksize=1000)\n",
    "chunker"
   ]
  },
  {
   "cell_type": "code",
   "execution_count": 283,
   "metadata": {},
   "outputs": [
    {
     "data": {
      "text/plain": [
       "E    368.0\n",
       "X    364.0\n",
       "L    346.0\n",
       "O    343.0\n",
       "Q    340.0\n",
       "M    338.0\n",
       "J    337.0\n",
       "F    335.0\n",
       "K    334.0\n",
       "H    330.0\n",
       "dtype: float64"
      ]
     },
     "execution_count": 283,
     "metadata": {},
     "output_type": "execute_result"
    }
   ],
   "source": [
    "# !cat examples/ex6.csv\n",
    "chunker = pd.read_csv('examples/ex6.csv',chunksize=1000)\n",
    "tot = pd.Series([])\n",
    "for piece in chunker:\n",
    "    tot = tot.add(piece['key'].value_counts(),fill_value=0)\n",
    "tot = tot.sort_values(ascending=False)\n",
    "tot[:10]\n",
    "#TextParser还有一个get_chunk方法，它使你可以读取任意大小的快\n",
    "#有点不太懂！！！！！！！！！！！！！！！！！！！\n",
    "#！！！！！！！！！！"
   ]
  },
  {
   "cell_type": "markdown",
   "metadata": {},
   "source": [
    "将数据写出到文本格式\n",
    "数据也可以被输出为分隔符格式的文本"
   ]
  },
  {
   "cell_type": "code",
   "execution_count": 284,
   "metadata": {},
   "outputs": [
    {
     "data": {
      "text/html": [
       "<div>\n",
       "<style>\n",
       "    .dataframe thead tr:only-child th {\n",
       "        text-align: right;\n",
       "    }\n",
       "\n",
       "    .dataframe thead th {\n",
       "        text-align: left;\n",
       "    }\n",
       "\n",
       "    .dataframe tbody tr th {\n",
       "        vertical-align: top;\n",
       "    }\n",
       "</style>\n",
       "<table border=\"1\" class=\"dataframe\">\n",
       "  <thead>\n",
       "    <tr style=\"text-align: right;\">\n",
       "      <th></th>\n",
       "      <th>something</th>\n",
       "      <th>a</th>\n",
       "      <th>b</th>\n",
       "      <th>c</th>\n",
       "      <th>d</th>\n",
       "      <th>message</th>\n",
       "    </tr>\n",
       "  </thead>\n",
       "  <tbody>\n",
       "    <tr>\n",
       "      <th>0</th>\n",
       "      <td>one</td>\n",
       "      <td>1</td>\n",
       "      <td>2</td>\n",
       "      <td>3.0</td>\n",
       "      <td>4</td>\n",
       "      <td>NaN</td>\n",
       "    </tr>\n",
       "    <tr>\n",
       "      <th>1</th>\n",
       "      <td>two</td>\n",
       "      <td>5</td>\n",
       "      <td>6</td>\n",
       "      <td>NaN</td>\n",
       "      <td>8</td>\n",
       "      <td>world</td>\n",
       "    </tr>\n",
       "    <tr>\n",
       "      <th>2</th>\n",
       "      <td>three</td>\n",
       "      <td>9</td>\n",
       "      <td>10</td>\n",
       "      <td>11.0</td>\n",
       "      <td>12</td>\n",
       "      <td>foo</td>\n",
       "    </tr>\n",
       "  </tbody>\n",
       "</table>\n",
       "</div>"
      ],
      "text/plain": [
       "  something  a   b     c   d message\n",
       "0       one  1   2   3.0   4     NaN\n",
       "1       two  5   6   NaN   8   world\n",
       "2     three  9  10  11.0  12     foo"
      ]
     },
     "execution_count": 284,
     "metadata": {},
     "output_type": "execute_result"
    }
   ],
   "source": [
    "data = pd.read_csv('examples/ex5.csv')\n",
    "data"
   ]
  },
  {
   "cell_type": "code",
   "execution_count": 286,
   "metadata": {},
   "outputs": [
    {
     "name": "stdout",
     "output_type": "stream",
     "text": [
      ",something,a,b,c,d,message\r\n",
      "0,one,1,2,3.0,4,\r\n",
      "1,two,5,6,,8,world\r\n",
      "2,three,9,10,11.0,12,foo\r\n"
     ]
    }
   ],
   "source": [
    "data.to_csv('examples/out.csv')\n",
    "!cat examples/out.csv\n",
    "#DataFrame的to_csv方法"
   ]
  },
  {
   "cell_type": "code",
   "execution_count": 287,
   "metadata": {},
   "outputs": [
    {
     "name": "stdout",
     "output_type": "stream",
     "text": [
      "|something|a|b|c|d|message\n",
      "0|one|1|2|3.0|4|\n",
      "1|two|5|6||8|world\n",
      "2|three|9|10|11.0|12|foo\n"
     ]
    }
   ],
   "source": [
    "import sys\n",
    "\n",
    "data.to_csv(sys.stdout,sep='|')"
   ]
  },
  {
   "cell_type": "markdown",
   "metadata": {},
   "source": [
    "Series也有一个to_csv方法"
   ]
  },
  {
   "cell_type": "code",
   "execution_count": 289,
   "metadata": {},
   "outputs": [
    {
     "name": "stdout",
     "output_type": "stream",
     "text": [
      "2000-01-01,0\r\n",
      "2000-01-02,1\r\n",
      "2000-01-03,2\r\n",
      "2000-01-04,3\r\n",
      "2000-01-05,4\r\n",
      "2000-01-06,5\r\n",
      "2000-01-07,6\r\n"
     ]
    }
   ],
   "source": [
    "dates = pd.date_range('1/1/2000', periods=7)\n",
    "ts = Series(np.arange(7), index=dates)\n",
    "ts.to_csv('examples/tseries.csv')\n",
    "!cat examples/tseries.csv"
   ]
  },
  {
   "cell_type": "markdown",
   "metadata": {},
   "source": [
    "处理分隔符格式"
   ]
  },
  {
   "cell_type": "code",
   "execution_count": 290,
   "metadata": {},
   "outputs": [
    {
     "name": "stdout",
     "output_type": "stream",
     "text": [
      "\"a\",\"b\",\"c\"\r\n",
      "\"1\",\"2\",\"3\"\r\n",
      "\"1\",\"2\",\"3\"\r\n"
     ]
    }
   ],
   "source": [
    "!cat examples/ex7.csv"
   ]
  },
  {
   "cell_type": "code",
   "execution_count": 303,
   "metadata": {},
   "outputs": [
    {
     "name": "stdout",
     "output_type": "stream",
     "text": [
      "['a', 'b', 'c']\n",
      "['1', '2', '3']\n",
      "['1', '2', '3']\n"
     ]
    }
   ],
   "source": [
    "import csv\n",
    "f = open('examples/ex7.csv')\n",
    "reader = csv.reader(f)\n",
    "for line in reader:\n",
    "    print(line)"
   ]
  },
  {
   "cell_type": "code",
   "execution_count": 301,
   "metadata": {},
   "outputs": [
    {
     "data": {
      "text/plain": [
       "{'a': ('1', '1'), 'b': ('2', '2'), 'c': ('3', '3')}"
      ]
     },
     "execution_count": 301,
     "metadata": {},
     "output_type": "execute_result"
    }
   ],
   "source": [
    "with open('examples/ex7.csv') as f:\n",
    "    lines = list(csv.reader(f))\n",
    "    \n",
    "header,values = lines[0],lines[1:]\n",
    "\n",
    "data_dict = {h: v for h, v in zip(header, zip(*values))}\n",
    "data_dict\n",
    "# print(list(zip(header,zip(*values))))"
   ]
  },
  {
   "cell_type": "code",
   "execution_count": 305,
   "metadata": {
    "collapsed": true
   },
   "outputs": [],
   "source": [
    "class my_dialect(csv.Dialect):\n",
    "    lineterminator = '\\n'\n",
    "    delimiter = ';'\n",
    "    quotechar = '\"'\n",
    "    quoting = csv.QUOTE_MINIMAL\n",
    "reader = csv.reader(f,dialect=my_dialect)\n",
    "reader = csv.reader(f,delimiter='|')\n",
    "#什么意思"
   ]
  },
  {
   "cell_type": "code",
   "execution_count": 306,
   "metadata": {
    "collapsed": true
   },
   "outputs": [],
   "source": [
    "with open('mydata.csv','w') as f:\n",
    "    writer = csv.writer(f,dialect=my_dialect)\n",
    "    writer.writerow(('one','two','three'))\n",
    "    writer.writerow(('1','2','3'))\n",
    "    writer.writerow(('4','5','6'))\n",
    "    writer.writerow(('7','8','9'))"
   ]
  },
  {
   "cell_type": "markdown",
   "metadata": {},
   "source": [
    "#### JSON数据"
   ]
  },
  {
   "cell_type": "code",
   "execution_count": 30,
   "metadata": {
    "collapsed": true
   },
   "outputs": [],
   "source": [
    "obj = \"\"\"\n",
    "{\"name\": \"Wes\",\n",
    " \"places_lived\": [\"United States\", \"Spain\", \"Germany\"],\n",
    " \"pet\": null,\n",
    " \"siblings\": [{\"name\": \"Scott\", \"age\": 30, \"pets\": [\"Zeus\", \"Zuko\"]},\n",
    "              {\"name\": \"Katie\", \"age\": 38,\n",
    "               \"pets\": [\"Sixes\", \"Stache\", \"Cisco\"]}]\n",
    "}\n",
    "\"\"\""
   ]
  },
  {
   "cell_type": "code",
   "execution_count": 31,
   "metadata": {},
   "outputs": [
    {
     "data": {
      "text/plain": [
       "{'name': 'Wes',\n",
       " 'pet': None,\n",
       " 'places_lived': ['United States', 'Spain', 'Germany'],\n",
       " 'siblings': [{'age': 30, 'name': 'Scott', 'pets': ['Zeus', 'Zuko']},\n",
       "  {'age': 38, 'name': 'Katie', 'pets': ['Sixes', 'Stache', 'Cisco']}]}"
      ]
     },
     "execution_count": 31,
     "metadata": {},
     "output_type": "execute_result"
    }
   ],
   "source": [
    "import json\n",
    "result = json.loads(obj)\n",
    "result\n",
    "#实际上就是打开上一个cell中的obj，不是文件中的json所以不需要open()"
   ]
  },
  {
   "cell_type": "code",
   "execution_count": null,
   "metadata": {
    "collapsed": true
   },
   "outputs": [],
   "source": [
    "asjson = json.dumps(result)\n",
    "#json.dumps将python对象转换成JSON"
   ]
  },
  {
   "cell_type": "code",
   "execution_count": 310,
   "metadata": {},
   "outputs": [
    {
     "data": {
      "text/html": [
       "<div>\n",
       "<style>\n",
       "    .dataframe thead tr:only-child th {\n",
       "        text-align: right;\n",
       "    }\n",
       "\n",
       "    .dataframe thead th {\n",
       "        text-align: left;\n",
       "    }\n",
       "\n",
       "    .dataframe tbody tr th {\n",
       "        vertical-align: top;\n",
       "    }\n",
       "</style>\n",
       "<table border=\"1\" class=\"dataframe\">\n",
       "  <thead>\n",
       "    <tr style=\"text-align: right;\">\n",
       "      <th></th>\n",
       "      <th>name</th>\n",
       "      <th>age</th>\n",
       "    </tr>\n",
       "  </thead>\n",
       "  <tbody>\n",
       "    <tr>\n",
       "      <th>0</th>\n",
       "      <td>Scott</td>\n",
       "      <td>30</td>\n",
       "    </tr>\n",
       "    <tr>\n",
       "      <th>1</th>\n",
       "      <td>Katie</td>\n",
       "      <td>38</td>\n",
       "    </tr>\n",
       "  </tbody>\n",
       "</table>\n",
       "</div>"
      ],
      "text/plain": [
       "    name  age\n",
       "0  Scott   30\n",
       "1  Katie   38"
      ]
     },
     "execution_count": 310,
     "metadata": {},
     "output_type": "execute_result"
    }
   ],
   "source": [
    "siblings = pd.DataFrame(result['siblings'], columns=['name', 'age'])\n",
    "siblings"
   ]
  },
  {
   "cell_type": "code",
   "execution_count": 312,
   "metadata": {},
   "outputs": [
    {
     "name": "stdout",
     "output_type": "stream",
     "text": [
      "[{\"a\": 1, \"b\": 2, \"c\": 3},\r\n",
      " {\"a\": 4, \"b\": 5, \"c\": 6},\r\n",
      " {\"a\": 7, \"b\": 8, \"c\": 9}]\r\n"
     ]
    }
   ],
   "source": [
    "!cat examples/example.json\n",
    "#pandas.read_json可以自动将特别格式的JSON数据集转换为Series或DataFrame"
   ]
  },
  {
   "cell_type": "code",
   "execution_count": 313,
   "metadata": {},
   "outputs": [
    {
     "data": {
      "text/html": [
       "<div>\n",
       "<style>\n",
       "    .dataframe thead tr:only-child th {\n",
       "        text-align: right;\n",
       "    }\n",
       "\n",
       "    .dataframe thead th {\n",
       "        text-align: left;\n",
       "    }\n",
       "\n",
       "    .dataframe tbody tr th {\n",
       "        vertical-align: top;\n",
       "    }\n",
       "</style>\n",
       "<table border=\"1\" class=\"dataframe\">\n",
       "  <thead>\n",
       "    <tr style=\"text-align: right;\">\n",
       "      <th></th>\n",
       "      <th>a</th>\n",
       "      <th>b</th>\n",
       "      <th>c</th>\n",
       "    </tr>\n",
       "  </thead>\n",
       "  <tbody>\n",
       "    <tr>\n",
       "      <th>0</th>\n",
       "      <td>1</td>\n",
       "      <td>2</td>\n",
       "      <td>3</td>\n",
       "    </tr>\n",
       "    <tr>\n",
       "      <th>1</th>\n",
       "      <td>4</td>\n",
       "      <td>5</td>\n",
       "      <td>6</td>\n",
       "    </tr>\n",
       "    <tr>\n",
       "      <th>2</th>\n",
       "      <td>7</td>\n",
       "      <td>8</td>\n",
       "      <td>9</td>\n",
       "    </tr>\n",
       "  </tbody>\n",
       "</table>\n",
       "</div>"
      ],
      "text/plain": [
       "   a  b  c\n",
       "0  1  2  3\n",
       "1  4  5  6\n",
       "2  7  8  9"
      ]
     },
     "execution_count": 313,
     "metadata": {},
     "output_type": "execute_result"
    }
   ],
   "source": [
    "data = pd.read_json('examples/example.json')\n",
    "data"
   ]
  },
  {
   "cell_type": "code",
   "execution_count": 314,
   "metadata": {},
   "outputs": [
    {
     "name": "stdout",
     "output_type": "stream",
     "text": [
      "{\"a\":{\"0\":1,\"1\":4,\"2\":7},\"b\":{\"0\":2,\"1\":5,\"2\":8},\"c\":{\"0\":3,\"1\":6,\"2\":9}}\n",
      "[{\"a\":1,\"b\":2,\"c\":3},{\"a\":4,\"b\":5,\"c\":6},{\"a\":7,\"b\":8,\"c\":9}]\n"
     ]
    }
   ],
   "source": [
    "print(data.to_json())\n",
    "print(data.to_json(orient='records'))"
   ]
  },
  {
   "cell_type": "markdown",
   "metadata": {},
   "source": [
    "#### XML和HTML: Web信息收集"
   ]
  },
  {
   "cell_type": "code",
   "execution_count": 2,
   "metadata": {},
   "outputs": [
    {
     "name": "stdout",
     "output_type": "stream",
     "text": [
      "Requirement already satisfied: beautifulsoup4 in ./anaconda3/lib/python3.6/site-packages (4.6.0)\n",
      "Requirement already satisfied: html5lib in ./anaconda3/lib/python3.6/site-packages (0.9999999)\n",
      "Requirement already satisfied: six in ./anaconda3/lib/python3.6/site-packages (from html5lib) (1.11.0)\n",
      "\u001b[33mWARNING: You are using pip version 19.1, however version 19.1.1 is available.\n",
      "You should consider upgrading via the 'pip install --upgrade pip' command.\u001b[0m\n"
     ]
    }
   ],
   "source": [
    "!pip install beautifulsoup4 html5lib"
   ]
  },
  {
   "cell_type": "code",
   "execution_count": 11,
   "metadata": {},
   "outputs": [
    {
     "name": "stdout",
     "output_type": "stream",
     "text": [
      "1\n"
     ]
    },
    {
     "data": {
      "text/html": [
       "<div>\n",
       "<style>\n",
       "    .dataframe thead tr:only-child th {\n",
       "        text-align: right;\n",
       "    }\n",
       "\n",
       "    .dataframe thead th {\n",
       "        text-align: left;\n",
       "    }\n",
       "\n",
       "    .dataframe tbody tr th {\n",
       "        vertical-align: top;\n",
       "    }\n",
       "</style>\n",
       "<table border=\"1\" class=\"dataframe\">\n",
       "  <thead>\n",
       "    <tr style=\"text-align: right;\">\n",
       "      <th></th>\n",
       "      <th>Bank Name</th>\n",
       "      <th>City</th>\n",
       "      <th>ST</th>\n",
       "      <th>CERT</th>\n",
       "      <th>Acquiring Institution</th>\n",
       "      <th>Closing Date</th>\n",
       "      <th>Updated Date</th>\n",
       "    </tr>\n",
       "  </thead>\n",
       "  <tbody>\n",
       "    <tr>\n",
       "      <th>0</th>\n",
       "      <td>Allied Bank</td>\n",
       "      <td>Mulberry</td>\n",
       "      <td>AR</td>\n",
       "      <td>91</td>\n",
       "      <td>Today's Bank</td>\n",
       "      <td>September 23, 2016</td>\n",
       "      <td>November 17, 2016</td>\n",
       "    </tr>\n",
       "    <tr>\n",
       "      <th>1</th>\n",
       "      <td>The Woodbury Banking Company</td>\n",
       "      <td>Woodbury</td>\n",
       "      <td>GA</td>\n",
       "      <td>11297</td>\n",
       "      <td>United Bank</td>\n",
       "      <td>August 19, 2016</td>\n",
       "      <td>November 17, 2016</td>\n",
       "    </tr>\n",
       "    <tr>\n",
       "      <th>2</th>\n",
       "      <td>First CornerStone Bank</td>\n",
       "      <td>King of Prussia</td>\n",
       "      <td>PA</td>\n",
       "      <td>35312</td>\n",
       "      <td>First-Citizens Bank &amp; Trust Company</td>\n",
       "      <td>May 6, 2016</td>\n",
       "      <td>September 6, 2016</td>\n",
       "    </tr>\n",
       "    <tr>\n",
       "      <th>3</th>\n",
       "      <td>Trust Company Bank</td>\n",
       "      <td>Memphis</td>\n",
       "      <td>TN</td>\n",
       "      <td>9956</td>\n",
       "      <td>The Bank of Fayette County</td>\n",
       "      <td>April 29, 2016</td>\n",
       "      <td>September 6, 2016</td>\n",
       "    </tr>\n",
       "    <tr>\n",
       "      <th>4</th>\n",
       "      <td>North Milwaukee State Bank</td>\n",
       "      <td>Milwaukee</td>\n",
       "      <td>WI</td>\n",
       "      <td>20364</td>\n",
       "      <td>First-Citizens Bank &amp; Trust Company</td>\n",
       "      <td>March 11, 2016</td>\n",
       "      <td>June 16, 2016</td>\n",
       "    </tr>\n",
       "  </tbody>\n",
       "</table>\n",
       "</div>"
      ],
      "text/plain": [
       "                      Bank Name             City  ST   CERT  \\\n",
       "0                   Allied Bank         Mulberry  AR     91   \n",
       "1  The Woodbury Banking Company         Woodbury  GA  11297   \n",
       "2        First CornerStone Bank  King of Prussia  PA  35312   \n",
       "3            Trust Company Bank          Memphis  TN   9956   \n",
       "4    North Milwaukee State Bank        Milwaukee  WI  20364   \n",
       "\n",
       "                 Acquiring Institution        Closing Date       Updated Date  \n",
       "0                         Today's Bank  September 23, 2016  November 17, 2016  \n",
       "1                          United Bank     August 19, 2016  November 17, 2016  \n",
       "2  First-Citizens Bank & Trust Company         May 6, 2016  September 6, 2016  \n",
       "3           The Bank of Fayette County      April 29, 2016  September 6, 2016  \n",
       "4  First-Citizens Bank & Trust Company      March 11, 2016      June 16, 2016  "
      ]
     },
     "execution_count": 11,
     "metadata": {},
     "output_type": "execute_result"
    }
   ],
   "source": [
    "#pandas.read_html有一些选项，默认条件下，它会搜索、尝试解析\n",
    "#标签内的的表格数据。结果是一个列表的DataFrame对象：\n",
    "tables = pd.read_html('examples/fdic_failed_bank_list.html')\n",
    "print(len(tables))\n",
    "failures = tables[0]\n",
    "failures.head()"
   ]
  },
  {
   "cell_type": "code",
   "execution_count": 13,
   "metadata": {},
   "outputs": [
    {
     "data": {
      "text/plain": [
       "2010    157\n",
       "2009    140\n",
       "2011     92\n",
       "2012     51\n",
       "2008     25\n",
       "2013     24\n",
       "2014     18\n",
       "2002     11\n",
       "2015      8\n",
       "2016      5\n",
       "2004      4\n",
       "2001      4\n",
       "2007      3\n",
       "2003      3\n",
       "2000      2\n",
       "Name: Closing Date, dtype: int64"
      ]
     },
     "execution_count": 13,
     "metadata": {},
     "output_type": "execute_result"
    }
   ],
   "source": [
    "close_timestamps = pd.to_datetime(failures['Closing Date'])\n",
    "close_timestamps.dt.year.value_counts()"
   ]
  },
  {
   "cell_type": "markdown",
   "metadata": {},
   "source": [
    "利用lxml.objectify解析XML"
   ]
  },
  {
   "cell_type": "code",
   "execution_count": 17,
   "metadata": {
    "collapsed": true
   },
   "outputs": [],
   "source": [
    "from lxml import objectify\n",
    "path = 'datasets/mta_perf/Performance_MNR.xml'\n",
    "parsed = objectify.parse(open(path))\n",
    "root = parsed.getroot()"
   ]
  },
  {
   "cell_type": "code",
   "execution_count": 18,
   "metadata": {
    "collapsed": true
   },
   "outputs": [],
   "source": [
    "data = []\n",
    "\n",
    "skip_fields = ['PARENT_SEQ', 'INDICATOR_SEQ',\n",
    "               'DESIRED_CHANGE', 'DECIMAL_PLACES']\n",
    "\n",
    "for elt in root.INDICATOR:\n",
    "    el_data = {}\n",
    "    for child in elt.getchildren():\n",
    "        if child.tag in skip_fields:\n",
    "            continue\n",
    "        el_data[child.tag] = child.pyval\n",
    "    data.append(el_data)"
   ]
  },
  {
   "cell_type": "code",
   "execution_count": 19,
   "metadata": {},
   "outputs": [
    {
     "name": "stdout",
     "output_type": "stream",
     "text": [
      "[{'AGENCY_NAME': 'Metro-North Railroad', 'INDICATOR_NAME': 'On-Time Performance (West of Hudson)', 'DESCRIPTION': 'Percent of commuter trains that arrive at their destinations within 5 minutes and 59 seconds of the scheduled time. West of Hudson services include the Pascack Valley and Port Jervis lines. Metro-North Railroad contracts with New Jersey Transit to operate service on these lines.\\n', 'PERIOD_YEAR': 2008, 'PERIOD_MONTH': 1, 'CATEGORY': 'Service Indicators', 'FREQUENCY': 'M', 'INDICATOR_UNIT': '%', 'YTD_TARGET': 95.0, 'YTD_ACTUAL': 96.9, 'MONTHLY_TARGET': 95.0, 'MONTHLY_ACTUAL': 96.9}, {'AGENCY_NAME': 'Metro-North Railroad', 'INDICATOR_NAME': 'On-Time Performance (West of Hudson)', 'DESCRIPTION': 'Percent of commuter trains that arrive at their destinations within 5 minutes and 59 seconds of the scheduled time. West of Hudson services include the Pascack Valley and Port Jervis lines. Metro-North Railroad contracts with New Jersey Transit to operate service on these lines.\\n', 'PERIOD_YEAR': 2008, 'PERIOD_MONTH': 2, 'CATEGORY': 'Service Indicators', 'FREQUENCY': 'M', 'INDICATOR_UNIT': '%', 'YTD_TARGET': 95.0, 'YTD_ACTUAL': 96.0, 'MONTHLY_TARGET': 95.0, 'MONTHLY_ACTUAL': 95.0}, {'AGENCY_NAME': 'Metro-North Railroad', 'INDICATOR_NAME': 'On-Time Performance (West of Hudson)', 'DESCRIPTION': 'Percent of commuter trains that arrive at their destinations within 5 minutes and 59 seconds of the scheduled time. West of Hudson services include the Pascack Valley and Port Jervis lines. Metro-North Railroad contracts with New Jersey Transit to operate service on these lines.\\n', 'PERIOD_YEAR': 2008, 'PERIOD_MONTH': 3, 'CATEGORY': 'Service Indicators', 'FREQUENCY': 'M', 'INDICATOR_UNIT': '%', 'YTD_TARGET': 95.0, 'YTD_ACTUAL': 96.3, 'MONTHLY_TARGET': 95.0, 'MONTHLY_ACTUAL': 96.9}, {'AGENCY_NAME': 'Metro-North Railroad', 'INDICATOR_NAME': 'On-Time Performance (West of Hudson)', 'DESCRIPTION': 'Percent of commuter trains that arrive at their destinations within 5 minutes and 59 seconds of the scheduled time. West of Hudson services include the Pascack Valley and Port Jervis lines. Metro-North Railroad contracts with New Jersey Transit to operate service on these lines.\\n', 'PERIOD_YEAR': 2008, 'PERIOD_MONTH': 4, 'CATEGORY': 'Service Indicators', 'FREQUENCY': 'M', 'INDICATOR_UNIT': '%', 'YTD_TARGET': 95.0, 'YTD_ACTUAL': 96.8, 'MONTHLY_TARGET': 95.0, 'MONTHLY_ACTUAL': 98.3}, {'AGENCY_NAME': 'Metro-North Railroad', 'INDICATOR_NAME': 'On-Time Performance (West of Hudson)', 'DESCRIPTION': 'Percent of commuter trains that arrive at their destinations within 5 minutes and 59 seconds of the scheduled time. West of Hudson services include the Pascack Valley and Port Jervis lines. Metro-North Railroad contracts with New Jersey Transit to operate service on these lines.\\n', 'PERIOD_YEAR': 2008, 'PERIOD_MONTH': 5, 'CATEGORY': 'Service Indicators', 'FREQUENCY': 'M', 'INDICATOR_UNIT': '%', 'YTD_TARGET': 95.0, 'YTD_ACTUAL': 96.6, 'MONTHLY_TARGET': 95.0, 'MONTHLY_ACTUAL': 95.8}, {'AGENCY_NAME': 'Metro-North Railroad', 'INDICATOR_NAME': 'On-Time Performance (West of Hudson)', 'DESCRIPTION': 'Percent of commuter trains that arrive at their destinations within 5 minutes and 59 seconds of the scheduled time. West of Hudson services include the Pascack Valley and Port Jervis lines. Metro-North Railroad contracts with New Jersey Transit to operate service on these lines.\\n', 'PERIOD_YEAR': 2008, 'PERIOD_MONTH': 6, 'CATEGORY': 'Service Indicators', 'FREQUENCY': 'M', 'INDICATOR_UNIT': '%', 'YTD_TARGET': 95.0, 'YTD_ACTUAL': 96.2, 'MONTHLY_TARGET': 95.0, 'MONTHLY_ACTUAL': 94.4}, {'AGENCY_NAME': 'Metro-North Railroad', 'INDICATOR_NAME': 'On-Time Performance (West of Hudson)', 'DESCRIPTION': 'Percent of commuter trains that arrive at their destinations within 5 minutes and 59 seconds of the scheduled time. West of Hudson services include the Pascack Valley and Port Jervis lines. Metro-North Railroad contracts with New Jersey Transit to operate service on these lines.\\n', 'PERIOD_YEAR': 2008, 'PERIOD_MONTH': 7, 'CATEGORY': 'Service Indicators', 'FREQUENCY': 'M', 'INDICATOR_UNIT': '%', 'YTD_TARGET': 95.0, 'YTD_ACTUAL': 96.2, 'MONTHLY_TARGET': 95.0, 'MONTHLY_ACTUAL': 96.0}, {'AGENCY_NAME': 'Metro-North Railroad', 'INDICATOR_NAME': 'On-Time Performance (West of Hudson)', 'DESCRIPTION': 'Percent of commuter trains that arrive at their destinations within 5 minutes and 59 seconds of the scheduled time. West of Hudson services include the Pascack Valley and Port Jervis lines. Metro-North Railroad contracts with New Jersey Transit to operate service on these lines.\\n', 'PERIOD_YEAR': 2008, 'PERIOD_MONTH': 8, 'CATEGORY': 'Service Indicators', 'FREQUENCY': 'M', 'INDICATOR_UNIT': '%', 'YTD_TARGET': 95.0, 'YTD_ACTUAL': 96.2, 'MONTHLY_TARGET': 95.0, 'MONTHLY_ACTUAL': 96.4}, {'AGENCY_NAME': 'Metro-North Railroad', 'INDICATOR_NAME': 'On-Time Performance (West of Hudson)', 'DESCRIPTION': 'Percent of commuter trains that arrive at their destinations within 5 minutes and 59 seconds of the scheduled time. West of Hudson services include the Pascack Valley and Port Jervis lines. Metro-North Railroad contracts with New Jersey Transit to operate service on these lines.\\n', 'PERIOD_YEAR': 2008, 'PERIOD_MONTH': 9, 'CATEGORY': 'Service Indicators', 'FREQUENCY': 'M', 'INDICATOR_UNIT': '%', 'YTD_TARGET': 95.0, 'YTD_ACTUAL': 95.9, 'MONTHLY_TARGET': 95.0, 'MONTHLY_ACTUAL': 93.7}, {'AGENCY_NAME': 'Metro-North Railroad', 'INDICATOR_NAME': 'On-Time Performance (West of Hudson)', 'DESCRIPTION': 'Percent of commuter trains that arrive at their destinations within 5 minutes and 59 seconds of the scheduled time. West of Hudson services include the Pascack Valley and Port Jervis lines. Metro-North Railroad contracts with New Jersey Transit to operate service on these lines.\\n', 'PERIOD_YEAR': 2008, 'PERIOD_MONTH': 10, 'CATEGORY': 'Service Indicators', 'FREQUENCY': 'M', 'INDICATOR_UNIT': '%', 'YTD_TARGET': 95.0, 'YTD_ACTUAL': 96.0, 'MONTHLY_TARGET': 95.0, 'MONTHLY_ACTUAL': 96.4}, {'AGENCY_NAME': 'Metro-North Railroad', 'INDICATOR_NAME': 'On-Time Performance (West of Hudson)', 'DESCRIPTION': 'Percent of commuter trains that arrive at their destinations within 5 minutes and 59 seconds of the scheduled time. West of Hudson services include the Pascack Valley and Port Jervis lines. Metro-North Railroad contracts with New Jersey Transit to operate service on these lines.\\n', 'PERIOD_YEAR': 2008, 'PERIOD_MONTH': 11, 'CATEGORY': 'Service Indicators', 'FREQUENCY': 'M', 'INDICATOR_UNIT': '%', 'YTD_TARGET': 95.0, 'YTD_ACTUAL': 96.1, 'MONTHLY_TARGET': 95.0, 'MONTHLY_ACTUAL': 96.9}, {'AGENCY_NAME': 'Metro-North Railroad', 'INDICATOR_NAME': 'On-Time Performance (West of Hudson)', 'DESCRIPTION': 'Percent of commuter trains that arrive at their destinations within 5 minutes and 59 seconds of the scheduled time. West of Hudson services include the Pascack Valley and Port Jervis lines. Metro-North Railroad contracts with New Jersey Transit to operate service on these lines.\\n', 'PERIOD_YEAR': 2008, 'PERIOD_MONTH': 12, 'CATEGORY': 'Service Indicators', 'FREQUENCY': 'M', 'INDICATOR_UNIT': '%', 'YTD_TARGET': 95.0, 'YTD_ACTUAL': 96.0, 'MONTHLY_TARGET': 95.0, 'MONTHLY_ACTUAL': 95.1}, {'AGENCY_NAME': 'Metro-North Railroad', 'INDICATOR_NAME': 'On-Time Performance (West of Hudson)', 'DESCRIPTION': 'Percent of commuter trains that arrive at their destinations within 5 minutes and 59 seconds of the scheduled time. West of Hudson services include the Pascack Valley and Port Jervis lines. Metro-North Railroad contracts with New Jersey Transit to operate service on these lines.\\n', 'PERIOD_YEAR': 2009, 'PERIOD_MONTH': 1, 'CATEGORY': 'Service Indicators', 'FREQUENCY': 'M', 'INDICATOR_UNIT': '%', 'YTD_TARGET': 96.2, 'YTD_ACTUAL': 92.6, 'MONTHLY_TARGET': 96.2, 'MONTHLY_ACTUAL': 92.6}, {'AGENCY_NAME': 'Metro-North Railroad', 'INDICATOR_NAME': 'On-Time Performance (West of Hudson)', 'DESCRIPTION': 'Percent of commuter trains that arrive at their destinations within 5 minutes and 59 seconds of the scheduled time. West of Hudson services include the Pascack Valley and Port Jervis lines. Metro-North Railroad contracts with New Jersey Transit to operate service on these lines.\\n', 'PERIOD_YEAR': 2009, 'PERIOD_MONTH': 2, 'CATEGORY': 'Service Indicators', 'FREQUENCY': 'M', 'INDICATOR_UNIT': '%', 'YTD_TARGET': 96.2, 'YTD_ACTUAL': 94.6, 'MONTHLY_TARGET': 96.2, 'MONTHLY_ACTUAL': 96.8}, {'AGENCY_NAME': 'Metro-North Railroad', 'INDICATOR_NAME': 'On-Time Performance (West of Hudson)', 'DESCRIPTION': 'Percent of commuter trains that arrive at their destinations within 5 minutes and 59 seconds of the scheduled time. West of Hudson services include the Pascack Valley and Port Jervis lines. Metro-North Railroad contracts with New Jersey Transit to operate service on these lines.\\n', 'PERIOD_YEAR': 2009, 'PERIOD_MONTH': 3, 'CATEGORY': 'Service Indicators', 'FREQUENCY': 'M', 'INDICATOR_UNIT': '%', 'YTD_TARGET': 96.2, 'YTD_ACTUAL': 95.4, 'MONTHLY_TARGET': 96.2, 'MONTHLY_ACTUAL': 96.9}, {'AGENCY_NAME': 'Metro-North Railroad', 'INDICATOR_NAME': 'On-Time Performance (West of Hudson)', 'DESCRIPTION': 'Percent of commuter trains that arrive at their destinations within 5 minutes and 59 seconds of the scheduled time. West of Hudson services include the Pascack Valley and Port Jervis lines. Metro-North Railroad contracts with New Jersey Transit to operate service on these lines.\\n', 'PERIOD_YEAR': 2009, 'PERIOD_MONTH': 4, 'CATEGORY': 'Service Indicators', 'FREQUENCY': 'M', 'INDICATOR_UNIT': '%', 'YTD_TARGET': 96.2, 'YTD_ACTUAL': 95.9, 'MONTHLY_TARGET': 96.2, 'MONTHLY_ACTUAL': 97.1}, {'AGENCY_NAME': 'Metro-North Railroad', 'INDICATOR_NAME': 'On-Time Performance (West of Hudson)', 'DESCRIPTION': 'Percent of commuter trains that arrive at their destinations within 5 minutes and 59 seconds of the scheduled time. West of Hudson services include the Pascack Valley and Port Jervis lines. Metro-North Railroad contracts with New Jersey Transit to operate service on these lines.\\n', 'PERIOD_YEAR': 2009, 'PERIOD_MONTH': 5, 'CATEGORY': 'Service Indicators', 'FREQUENCY': 'M', 'INDICATOR_UNIT': '%', 'YTD_TARGET': 96.2, 'YTD_ACTUAL': 96.2, 'MONTHLY_TARGET': 96.2, 'MONTHLY_ACTUAL': 97.8}, {'AGENCY_NAME': 'Metro-North Railroad', 'INDICATOR_NAME': 'On-Time Performance (West of Hudson)', 'DESCRIPTION': 'Percent of commuter trains that arrive at their destinations within 5 minutes and 59 seconds of the scheduled time. West of Hudson services include the Pascack Valley and Port Jervis lines. Metro-North Railroad contracts with New Jersey Transit to operate service on these lines.\\n', 'PERIOD_YEAR': 2009, 'PERIOD_MONTH': 6, 'CATEGORY': 'Service Indicators', 'FREQUENCY': 'M', 'INDICATOR_UNIT': '%', 'YTD_TARGET': 96.2, 'YTD_ACTUAL': 96.4, 'MONTHLY_TARGET': 96.2, 'MONTHLY_ACTUAL': 97.3}, {'AGENCY_NAME': 'Metro-North Railroad', 'INDICATOR_NAME': 'On-Time Performance (West of Hudson)', 'DESCRIPTION': 'Percent of commuter trains that arrive at their destinations within 5 minutes and 59 seconds of the scheduled time. West of Hudson services include the Pascack Valley and Port Jervis lines. Metro-North Railroad contracts with New Jersey Transit to operate service on these lines.\\n', 'PERIOD_YEAR': 2009, 'PERIOD_MONTH': 7, 'CATEGORY': 'Service Indicators', 'FREQUENCY': 'M', 'INDICATOR_UNIT': '%', 'YTD_TARGET': 96.2, 'YTD_ACTUAL': 96.5, 'MONTHLY_TARGET': 96.2, 'MONTHLY_ACTUAL': 96.7}, {'AGENCY_NAME': 'Metro-North Railroad', 'INDICATOR_NAME': 'On-Time Performance (West of Hudson)', 'DESCRIPTION': 'Percent of commuter trains that arrive at their destinations within 5 minutes and 59 seconds of the scheduled time. West of Hudson services include the Pascack Valley and Port Jervis lines. Metro-North Railroad contracts with New Jersey Transit to operate service on these lines.\\n', 'PERIOD_YEAR': 2009, 'PERIOD_MONTH': 8, 'CATEGORY': 'Service Indicators', 'FREQUENCY': 'M', 'INDICATOR_UNIT': '%', 'YTD_TARGET': 96.2, 'YTD_ACTUAL': 96.4, 'MONTHLY_TARGET': 96.2, 'MONTHLY_ACTUAL': 95.7}, {'AGENCY_NAME': 'Metro-North Railroad', 'INDICATOR_NAME': 'On-Time Performance (West of Hudson)', 'DESCRIPTION': 'Percent of commuter trains that arrive at their destinations within 5 minutes and 59 seconds of the scheduled time. West of Hudson services include the Pascack Valley and Port Jervis lines. Metro-North Railroad contracts with New Jersey Transit to operate service on these lines.\\n', 'PERIOD_YEAR': 2009, 'PERIOD_MONTH': 9, 'CATEGORY': 'Service Indicators', 'FREQUENCY': 'M', 'INDICATOR_UNIT': '%', 'YTD_TARGET': 96.2, 'YTD_ACTUAL': 96.3, 'MONTHLY_TARGET': 96.2, 'MONTHLY_ACTUAL': 96.1}, {'AGENCY_NAME': 'Metro-North Railroad', 'INDICATOR_NAME': 'On-Time Performance (West of Hudson)', 'DESCRIPTION': 'Percent of commuter trains that arrive at their destinations within 5 minutes and 59 seconds of the scheduled time. West of Hudson services include the Pascack Valley and Port Jervis lines. Metro-North Railroad contracts with New Jersey Transit to operate service on these lines.\\n', 'PERIOD_YEAR': 2009, 'PERIOD_MONTH': 10, 'CATEGORY': 'Service Indicators', 'FREQUENCY': 'M', 'INDICATOR_UNIT': '%', 'YTD_TARGET': 96.2, 'YTD_ACTUAL': 96.2, 'MONTHLY_TARGET': 96.2, 'MONTHLY_ACTUAL': 94.8}, {'AGENCY_NAME': 'Metro-North Railroad', 'INDICATOR_NAME': 'On-Time Performance (West of Hudson)', 'DESCRIPTION': 'Percent of commuter trains that arrive at their destinations within 5 minutes and 59 seconds of the scheduled time. West of Hudson services include the Pascack Valley and Port Jervis lines. Metro-North Railroad contracts with New Jersey Transit to operate service on these lines.\\n', 'PERIOD_YEAR': 2009, 'PERIOD_MONTH': 11, 'CATEGORY': 'Service Indicators', 'FREQUENCY': 'M', 'INDICATOR_UNIT': '%', 'YTD_TARGET': 96.2, 'YTD_ACTUAL': 96.1, 'MONTHLY_TARGET': 96.2, 'MONTHLY_ACTUAL': 95.7}, {'AGENCY_NAME': 'Metro-North Railroad', 'INDICATOR_NAME': 'On-Time Performance (West of Hudson)', 'DESCRIPTION': 'Percent of commuter trains that arrive at their destinations within 5 minutes and 59 seconds of the scheduled time. West of Hudson services include the Pascack Valley and Port Jervis lines. Metro-North Railroad contracts with New Jersey Transit to operate service on these lines.\\n', 'PERIOD_YEAR': 2009, 'PERIOD_MONTH': 12, 'CATEGORY': 'Service Indicators', 'FREQUENCY': 'M', 'INDICATOR_UNIT': '%', 'YTD_TARGET': 96.2, 'YTD_ACTUAL': 96.0, 'MONTHLY_TARGET': 96.2, 'MONTHLY_ACTUAL': 95.0}, {'AGENCY_NAME': 'Metro-North Railroad', 'INDICATOR_NAME': 'On-Time Performance (West of Hudson)', 'DESCRIPTION': 'Percent of commuter trains that arrive at their destinations within 5 minutes and 59 seconds of the scheduled time. West of Hudson services include the Pascack Valley and Port Jervis lines. Metro-North Railroad contracts with New Jersey Transit to operate service on these lines.\\n', 'PERIOD_YEAR': 2010, 'PERIOD_MONTH': 1, 'CATEGORY': 'Service Indicators', 'FREQUENCY': 'M', 'INDICATOR_UNIT': '%', 'YTD_TARGET': 96.3, 'YTD_ACTUAL': 98.0, 'MONTHLY_TARGET': 96.3, 'MONTHLY_ACTUAL': 98.0}, {'AGENCY_NAME': 'Metro-North Railroad', 'INDICATOR_NAME': 'On-Time Performance (West of Hudson)', 'DESCRIPTION': 'Percent of commuter trains that arrive at their destinations within 5 minutes and 59 seconds of the scheduled time. West of Hudson services include the Pascack Valley and Port Jervis lines. Metro-North Railroad contracts with New Jersey Transit to operate service on these lines.\\n', 'PERIOD_YEAR': 2010, 'PERIOD_MONTH': 2, 'CATEGORY': 'Service Indicators', 'FREQUENCY': 'M', 'INDICATOR_UNIT': '%', 'YTD_TARGET': 96.3, 'YTD_ACTUAL': 95.6, 'MONTHLY_TARGET': 96.3, 'MONTHLY_ACTUAL': 93.0}, {'AGENCY_NAME': 'Metro-North Railroad', 'INDICATOR_NAME': 'On-Time Performance (West of Hudson)', 'DESCRIPTION': 'Percent of commuter trains that arrive at their destinations within 5 minutes and 59 seconds of the scheduled time. West of Hudson services include the Pascack Valley and Port Jervis lines. Metro-North Railroad contracts with New Jersey Transit to operate service on these lines.\\n', 'PERIOD_YEAR': 2010, 'PERIOD_MONTH': 3, 'CATEGORY': 'Service Indicators', 'FREQUENCY': 'M', 'INDICATOR_UNIT': '%', 'YTD_TARGET': 96.3, 'YTD_ACTUAL': 96.1, 'MONTHLY_TARGET': 96.3, 'MONTHLY_ACTUAL': 96.9}, {'AGENCY_NAME': 'Metro-North Railroad', 'INDICATOR_NAME': 'On-Time Performance (West of Hudson)', 'DESCRIPTION': 'Percent of commuter trains that arrive at their destinations within 5 minutes and 59 seconds of the scheduled time. West of Hudson services include the Pascack Valley and Port Jervis lines. Metro-North Railroad contracts with New Jersey Transit to operate service on these lines.\\n', 'PERIOD_YEAR': 2010, 'PERIOD_MONTH': 4, 'CATEGORY': 'Service Indicators', 'FREQUENCY': 'M', 'INDICATOR_UNIT': '%', 'YTD_TARGET': 96.3, 'YTD_ACTUAL': 96.6, 'MONTHLY_TARGET': 96.3, 'MONTHLY_ACTUAL': 98.1}, {'AGENCY_NAME': 'Metro-North Railroad', 'INDICATOR_NAME': 'On-Time Performance (West of Hudson)', 'DESCRIPTION': 'Percent of commuter trains that arrive at their destinations within 5 minutes and 59 seconds of the scheduled time. West of Hudson services include the Pascack Valley and Port Jervis lines. Metro-North Railroad contracts with New Jersey Transit to operate service on these lines.\\n', 'PERIOD_YEAR': 2010, 'PERIOD_MONTH': 5, 'CATEGORY': 'Service Indicators', 'FREQUENCY': 'M', 'INDICATOR_UNIT': '%', 'YTD_TARGET': 96.3, 'YTD_ACTUAL': 96.8, 'MONTHLY_TARGET': 96.3, 'MONTHLY_ACTUAL': 97.6}, {'AGENCY_NAME': 'Metro-North Railroad', 'INDICATOR_NAME': 'On-Time Performance (West of Hudson)', 'DESCRIPTION': 'Percent of commuter trains that arrive at their destinations within 5 minutes and 59 seconds of the scheduled time. West of Hudson services include the Pascack Valley and Port Jervis lines. Metro-North Railroad contracts with New Jersey Transit to operate service on these lines.\\n', 'PERIOD_YEAR': 2010, 'PERIOD_MONTH': 6, 'CATEGORY': 'Service Indicators', 'FREQUENCY': 'M', 'INDICATOR_UNIT': '%', 'YTD_TARGET': 96.3, 'YTD_ACTUAL': 96.9, 'MONTHLY_TARGET': 96.3, 'MONTHLY_ACTUAL': 97.4}, {'AGENCY_NAME': 'Metro-North Railroad', 'INDICATOR_NAME': 'On-Time Performance (West of Hudson)', 'DESCRIPTION': 'Percent of commuter trains that arrive at their destinations within 5 minutes and 59 seconds of the scheduled time. West of Hudson services include the Pascack Valley and Port Jervis lines. Metro-North Railroad contracts with New Jersey Transit to operate service on these lines.\\n', 'PERIOD_YEAR': 2010, 'PERIOD_MONTH': 7, 'CATEGORY': 'Service Indicators', 'FREQUENCY': 'M', 'INDICATOR_UNIT': '%', 'YTD_TARGET': 96.3, 'YTD_ACTUAL': 96.9, 'MONTHLY_TARGET': 96.3, 'MONTHLY_ACTUAL': 96.6}, {'AGENCY_NAME': 'Metro-North Railroad', 'INDICATOR_NAME': 'On-Time Performance (West of Hudson)', 'DESCRIPTION': 'Percent of commuter trains that arrive at their destinations within 5 minutes and 59 seconds of the scheduled time. West of Hudson services include the Pascack Valley and Port Jervis lines. Metro-North Railroad contracts with New Jersey Transit to operate service on these lines.\\n', 'PERIOD_YEAR': 2010, 'PERIOD_MONTH': 8, 'CATEGORY': 'Service Indicators', 'FREQUENCY': 'M', 'INDICATOR_UNIT': '%', 'YTD_TARGET': 96.3, 'YTD_ACTUAL': 96.9, 'MONTHLY_TARGET': 96.3, 'MONTHLY_ACTUAL': 97.1}, {'AGENCY_NAME': 'Metro-North Railroad', 'INDICATOR_NAME': 'On-Time Performance (West of Hudson)', 'DESCRIPTION': 'Percent of commuter trains that arrive at their destinations within 5 minutes and 59 seconds of the scheduled time. West of Hudson services include the Pascack Valley and Port Jervis lines. Metro-North Railroad contracts with New Jersey Transit to operate service on these lines.\\n', 'PERIOD_YEAR': 2010, 'PERIOD_MONTH': 9, 'CATEGORY': 'Service Indicators', 'FREQUENCY': 'M', 'INDICATOR_UNIT': '%', 'YTD_TARGET': 96.3, 'YTD_ACTUAL': 96.9, 'MONTHLY_TARGET': 96.3, 'MONTHLY_ACTUAL': 96.7}, {'AGENCY_NAME': 'Metro-North Railroad', 'INDICATOR_NAME': 'On-Time Performance (West of Hudson)', 'DESCRIPTION': 'Percent of commuter trains that arrive at their destinations within 5 minutes and 59 seconds of the scheduled time. West of Hudson services include the Pascack Valley and Port Jervis lines. Metro-North Railroad contracts with New Jersey Transit to operate service on these lines.\\n', 'PERIOD_YEAR': 2010, 'PERIOD_MONTH': 10, 'CATEGORY': 'Service Indicators', 'FREQUENCY': 'M', 'INDICATOR_UNIT': '%', 'YTD_TARGET': 96.3, 'YTD_ACTUAL': 96.7, 'MONTHLY_TARGET': 96.3, 'MONTHLY_ACTUAL': 95.0}, {'AGENCY_NAME': 'Metro-North Railroad', 'INDICATOR_NAME': 'On-Time Performance (West of Hudson)', 'DESCRIPTION': 'Percent of commuter trains that arrive at their destinations within 5 minutes and 59 seconds of the scheduled time. West of Hudson services include the Pascack Valley and Port Jervis lines. Metro-North Railroad contracts with New Jersey Transit to operate service on these lines.\\n', 'PERIOD_YEAR': 2010, 'PERIOD_MONTH': 11, 'CATEGORY': 'Service Indicators', 'FREQUENCY': 'M', 'INDICATOR_UNIT': '%', 'YTD_TARGET': 96.3, 'YTD_ACTUAL': 96.6, 'MONTHLY_TARGET': 96.3, 'MONTHLY_ACTUAL': 96.1}, {'AGENCY_NAME': 'Metro-North Railroad', 'INDICATOR_NAME': 'On-Time Performance (West of Hudson)', 'DESCRIPTION': 'Percent of commuter trains that arrive at their destinations within 5 minutes and 59 seconds of the scheduled time. West of Hudson services include the Pascack Valley and Port Jervis lines. Metro-North Railroad contracts with New Jersey Transit to operate service on these lines.\\n', 'PERIOD_YEAR': 2010, 'PERIOD_MONTH': 12, 'CATEGORY': 'Service Indicators', 'FREQUENCY': 'M', 'INDICATOR_UNIT': '%', 'YTD_TARGET': 96.3, 'YTD_ACTUAL': 96.5, 'MONTHLY_TARGET': 96.3, 'MONTHLY_ACTUAL': 94.6}, {'AGENCY_NAME': 'Metro-North Railroad', 'INDICATOR_NAME': 'On-Time Performance (West of Hudson)', 'DESCRIPTION': 'Percent of commuter trains that arrive at their destinations within 5 minutes and 59 seconds of the scheduled time. West of Hudson services include the Pascack Valley and Port Jervis lines. Metro-North Railroad contracts with New Jersey Transit to operate service on these lines.\\n', 'PERIOD_YEAR': 2011, 'PERIOD_MONTH': 1, 'CATEGORY': 'Service Indicators', 'FREQUENCY': 'M', 'INDICATOR_UNIT': '%', 'YTD_TARGET': 96.4, 'YTD_ACTUAL': 92.1, 'MONTHLY_TARGET': 96.4, 'MONTHLY_ACTUAL': 92.1}, {'AGENCY_NAME': 'Metro-North Railroad', 'INDICATOR_NAME': 'On-Time Performance (West of Hudson)', 'DESCRIPTION': 'Percent of commuter trains that arrive at their destinations within 5 minutes and 59 seconds of the scheduled time. West of Hudson services include the Pascack Valley and Port Jervis lines. Metro-North Railroad contracts with New Jersey Transit to operate service on these lines.\\n', 'PERIOD_YEAR': 2011, 'PERIOD_MONTH': 2, 'CATEGORY': 'Service Indicators', 'FREQUENCY': 'M', 'INDICATOR_UNIT': '%', 'YTD_TARGET': 96.4, 'YTD_ACTUAL': 93.4, 'MONTHLY_TARGET': 96.4, 'MONTHLY_ACTUAL': 94.8}, {'AGENCY_NAME': 'Metro-North Railroad', 'INDICATOR_NAME': 'On-Time Performance (West of Hudson)', 'DESCRIPTION': 'Percent of commuter trains that arrive at their destinations within 5 minutes and 59 seconds of the scheduled time. West of Hudson services include the Pascack Valley and Port Jervis lines. Metro-North Railroad contracts with New Jersey Transit to operate service on these lines.\\n', 'PERIOD_YEAR': 2011, 'PERIOD_MONTH': 3, 'CATEGORY': 'Service Indicators', 'FREQUENCY': 'M', 'INDICATOR_UNIT': '%', 'YTD_TARGET': 96.4, 'YTD_ACTUAL': 94.6, 'MONTHLY_TARGET': 96.4, 'MONTHLY_ACTUAL': 96.9}, {'AGENCY_NAME': 'Metro-North Railroad', 'INDICATOR_NAME': 'On-Time Performance (West of Hudson)', 'DESCRIPTION': 'Percent of commuter trains that arrive at their destinations within 5 minutes and 59 seconds of the scheduled time. West of Hudson services include the Pascack Valley and Port Jervis lines. Metro-North Railroad contracts with New Jersey Transit to operate service on these lines.\\n', 'PERIOD_YEAR': 2011, 'PERIOD_MONTH': 4, 'CATEGORY': 'Service Indicators', 'FREQUENCY': 'M', 'INDICATOR_UNIT': '%', 'YTD_TARGET': 96.4, 'YTD_ACTUAL': 95.2, 'MONTHLY_TARGET': 96.4, 'MONTHLY_ACTUAL': 96.9}, {'AGENCY_NAME': 'Metro-North Railroad', 'INDICATOR_NAME': 'On-Time Performance (West of Hudson)', 'DESCRIPTION': 'Percent of commuter trains that arrive at their destinations within 5 minutes and 59 seconds of the scheduled time. West of Hudson services include the Pascack Valley and Port Jervis lines. Metro-North Railroad contracts with New Jersey Transit to operate service on these lines.\\n', 'PERIOD_YEAR': 2011, 'PERIOD_MONTH': 5, 'CATEGORY': 'Service Indicators', 'FREQUENCY': 'M', 'INDICATOR_UNIT': '%', 'YTD_TARGET': 96.4, 'YTD_ACTUAL': '', 'MONTHLY_TARGET': 96.4, 'MONTHLY_ACTUAL': ''}, {'AGENCY_NAME': 'Metro-North Railroad', 'INDICATOR_NAME': 'On-Time Performance (West of Hudson)', 'DESCRIPTION': 'Percent of commuter trains that arrive at their destinations within 5 minutes and 59 seconds of the scheduled time. West of Hudson services include the Pascack Valley and Port Jervis lines. Metro-North Railroad contracts with New Jersey Transit to operate service on these lines.\\n', 'PERIOD_YEAR': 2011, 'PERIOD_MONTH': 6, 'CATEGORY': 'Service Indicators', 'FREQUENCY': 'M', 'INDICATOR_UNIT': '%', 'YTD_TARGET': 96.4, 'YTD_ACTUAL': '', 'MONTHLY_TARGET': 96.4, 'MONTHLY_ACTUAL': ''}, {'AGENCY_NAME': 'Metro-North Railroad', 'INDICATOR_NAME': 'On-Time Performance (West of Hudson)', 'DESCRIPTION': 'Percent of commuter trains that arrive at their destinations within 5 minutes and 59 seconds of the scheduled time. West of Hudson services include the Pascack Valley and Port Jervis lines. Metro-North Railroad contracts with New Jersey Transit to operate service on these lines.\\n', 'PERIOD_YEAR': 2011, 'PERIOD_MONTH': 7, 'CATEGORY': 'Service Indicators', 'FREQUENCY': 'M', 'INDICATOR_UNIT': '%', 'YTD_TARGET': 96.4, 'YTD_ACTUAL': '', 'MONTHLY_TARGET': 96.4, 'MONTHLY_ACTUAL': ''}, {'AGENCY_NAME': 'Metro-North Railroad', 'INDICATOR_NAME': 'On-Time Performance (West of Hudson)', 'DESCRIPTION': 'Percent of commuter trains that arrive at their destinations within 5 minutes and 59 seconds of the scheduled time. West of Hudson services include the Pascack Valley and Port Jervis lines. Metro-North Railroad contracts with New Jersey Transit to operate service on these lines.\\n', 'PERIOD_YEAR': 2011, 'PERIOD_MONTH': 8, 'CATEGORY': 'Service Indicators', 'FREQUENCY': 'M', 'INDICATOR_UNIT': '%', 'YTD_TARGET': 96.4, 'YTD_ACTUAL': '', 'MONTHLY_TARGET': 96.4, 'MONTHLY_ACTUAL': ''}, {'AGENCY_NAME': 'Metro-North Railroad', 'INDICATOR_NAME': 'On-Time Performance (West of Hudson)', 'DESCRIPTION': 'Percent of commuter trains that arrive at their destinations within 5 minutes and 59 seconds of the scheduled time. West of Hudson services include the Pascack Valley and Port Jervis lines. Metro-North Railroad contracts with New Jersey Transit to operate service on these lines.\\n', 'PERIOD_YEAR': 2011, 'PERIOD_MONTH': 9, 'CATEGORY': 'Service Indicators', 'FREQUENCY': 'M', 'INDICATOR_UNIT': '%', 'YTD_TARGET': 96.4, 'YTD_ACTUAL': '', 'MONTHLY_TARGET': 96.4, 'MONTHLY_ACTUAL': ''}, {'AGENCY_NAME': 'Metro-North Railroad', 'INDICATOR_NAME': 'On-Time Performance (West of Hudson)', 'DESCRIPTION': 'Percent of commuter trains that arrive at their destinations within 5 minutes and 59 seconds of the scheduled time. West of Hudson services include the Pascack Valley and Port Jervis lines. Metro-North Railroad contracts with New Jersey Transit to operate service on these lines.\\n', 'PERIOD_YEAR': 2011, 'PERIOD_MONTH': 10, 'CATEGORY': 'Service Indicators', 'FREQUENCY': 'M', 'INDICATOR_UNIT': '%', 'YTD_TARGET': 96.4, 'YTD_ACTUAL': '', 'MONTHLY_TARGET': 96.4, 'MONTHLY_ACTUAL': ''}, {'AGENCY_NAME': 'Metro-North Railroad', 'INDICATOR_NAME': 'On-Time Performance (West of Hudson)', 'DESCRIPTION': 'Percent of commuter trains that arrive at their destinations within 5 minutes and 59 seconds of the scheduled time. West of Hudson services include the Pascack Valley and Port Jervis lines. Metro-North Railroad contracts with New Jersey Transit to operate service on these lines.\\n', 'PERIOD_YEAR': 2011, 'PERIOD_MONTH': 11, 'CATEGORY': 'Service Indicators', 'FREQUENCY': 'M', 'INDICATOR_UNIT': '%', 'YTD_TARGET': 96.4, 'YTD_ACTUAL': '', 'MONTHLY_TARGET': 96.4, 'MONTHLY_ACTUAL': ''}, {'AGENCY_NAME': 'Metro-North Railroad', 'INDICATOR_NAME': 'On-Time Performance (West of Hudson)', 'DESCRIPTION': 'Percent of commuter trains that arrive at their destinations within 5 minutes and 59 seconds of the scheduled time. West of Hudson services include the Pascack Valley and Port Jervis lines. Metro-North Railroad contracts with New Jersey Transit to operate service on these lines.\\n', 'PERIOD_YEAR': 2011, 'PERIOD_MONTH': 12, 'CATEGORY': 'Service Indicators', 'FREQUENCY': 'M', 'INDICATOR_UNIT': '%', 'YTD_TARGET': 96.4, 'YTD_ACTUAL': '', 'MONTHLY_TARGET': 96.4, 'MONTHLY_ACTUAL': ''}, {'AGENCY_NAME': 'Metro-North Railroad', 'INDICATOR_NAME': 'Port Jervis Line - OTP', 'DESCRIPTION': 'Percent of commuter trains that arrive at their destinations within 5 minutes and 59 seconds of the scheduled time. Metro-North Railroad contracts with New York Transit to operate service on the Port Jervis Line.', 'PERIOD_YEAR': 2008, 'PERIOD_MONTH': 1, 'CATEGORY': 'Service Indicators', 'FREQUENCY': 'M', 'INDICATOR_UNIT': '%', 'YTD_TARGET': 94.4, 'YTD_ACTUAL': 96.0, 'MONTHLY_TARGET': 94.4, 'MONTHLY_ACTUAL': 96.0}, {'AGENCY_NAME': 'Metro-North Railroad', 'INDICATOR_NAME': 'Port Jervis Line - OTP', 'DESCRIPTION': 'Percent of commuter trains that arrive at their destinations within 5 minutes and 59 seconds of the scheduled time. Metro-North Railroad contracts with New York Transit to operate service on the Port Jervis Line.', 'PERIOD_YEAR': 2008, 'PERIOD_MONTH': 2, 'CATEGORY': 'Service Indicators', 'FREQUENCY': 'M', 'INDICATOR_UNIT': '%', 'YTD_TARGET': 94.4, 'YTD_ACTUAL': 94.8, 'MONTHLY_TARGET': 94.4, 'MONTHLY_ACTUAL': 93.5}, {'AGENCY_NAME': 'Metro-North Railroad', 'INDICATOR_NAME': 'Port Jervis Line - OTP', 'DESCRIPTION': 'Percent of commuter trains that arrive at their destinations within 5 minutes and 59 seconds of the scheduled time. Metro-North Railroad contracts with New York Transit to operate service on the Port Jervis Line.', 'PERIOD_YEAR': 2008, 'PERIOD_MONTH': 3, 'CATEGORY': 'Service Indicators', 'FREQUENCY': 'M', 'INDICATOR_UNIT': '%', 'YTD_TARGET': 94.4, 'YTD_ACTUAL': 96.0, 'MONTHLY_TARGET': 94.4, 'MONTHLY_ACTUAL': 98.5}, {'AGENCY_NAME': 'Metro-North Railroad', 'INDICATOR_NAME': 'Port Jervis Line - OTP', 'DESCRIPTION': 'Percent of commuter trains that arrive at their destinations within 5 minutes and 59 seconds of the scheduled time. Metro-North Railroad contracts with New York Transit to operate service on the Port Jervis Line.', 'PERIOD_YEAR': 2008, 'PERIOD_MONTH': 4, 'CATEGORY': 'Service Indicators', 'FREQUENCY': 'M', 'INDICATOR_UNIT': '%', 'YTD_TARGET': 94.4, 'YTD_ACTUAL': 96.6, 'MONTHLY_TARGET': 94.4, 'MONTHLY_ACTUAL': 98.5}, {'AGENCY_NAME': 'Metro-North Railroad', 'INDICATOR_NAME': 'Port Jervis Line - OTP', 'DESCRIPTION': 'Percent of commuter trains that arrive at their destinations within 5 minutes and 59 seconds of the scheduled time. Metro-North Railroad contracts with New York Transit to operate service on the Port Jervis Line.', 'PERIOD_YEAR': 2008, 'PERIOD_MONTH': 5, 'CATEGORY': 'Service Indicators', 'FREQUENCY': 'M', 'INDICATOR_UNIT': '%', 'YTD_TARGET': 94.4, 'YTD_ACTUAL': 96.4, 'MONTHLY_TARGET': 94.4, 'MONTHLY_ACTUAL': 95.5}, {'AGENCY_NAME': 'Metro-North Railroad', 'INDICATOR_NAME': 'Port Jervis Line - OTP', 'DESCRIPTION': 'Percent of commuter trains that arrive at their destinations within 5 minutes and 59 seconds of the scheduled time. Metro-North Railroad contracts with New York Transit to operate service on the Port Jervis Line.', 'PERIOD_YEAR': 2008, 'PERIOD_MONTH': 6, 'CATEGORY': 'Service Indicators', 'FREQUENCY': 'M', 'INDICATOR_UNIT': '%', 'YTD_TARGET': 94.4, 'YTD_ACTUAL': 95.7, 'MONTHLY_TARGET': 94.4, 'MONTHLY_ACTUAL': 92.3}, {'AGENCY_NAME': 'Metro-North Railroad', 'INDICATOR_NAME': 'Port Jervis Line - OTP', 'DESCRIPTION': 'Percent of commuter trains that arrive at their destinations within 5 minutes and 59 seconds of the scheduled time. Metro-North Railroad contracts with New York Transit to operate service on the Port Jervis Line.', 'PERIOD_YEAR': 2008, 'PERIOD_MONTH': 7, 'CATEGORY': 'Service Indicators', 'FREQUENCY': 'M', 'INDICATOR_UNIT': '%', 'YTD_TARGET': 94.4, 'YTD_ACTUAL': 95.4, 'MONTHLY_TARGET': 94.4, 'MONTHLY_ACTUAL': 93.6}, {'AGENCY_NAME': 'Metro-North Railroad', 'INDICATOR_NAME': 'Port Jervis Line - OTP', 'DESCRIPTION': 'Percent of commuter trains that arrive at their destinations within 5 minutes and 59 seconds of the scheduled time. Metro-North Railroad contracts with New York Transit to operate service on the Port Jervis Line.', 'PERIOD_YEAR': 2008, 'PERIOD_MONTH': 8, 'CATEGORY': 'Service Indicators', 'FREQUENCY': 'M', 'INDICATOR_UNIT': '%', 'YTD_TARGET': 94.4, 'YTD_ACTUAL': 95.1, 'MONTHLY_TARGET': 94.4, 'MONTHLY_ACTUAL': 93.1}, {'AGENCY_NAME': 'Metro-North Railroad', 'INDICATOR_NAME': 'Port Jervis Line - OTP', 'DESCRIPTION': 'Percent of commuter trains that arrive at their destinations within 5 minutes and 59 seconds of the scheduled time. Metro-North Railroad contracts with New York Transit to operate service on the Port Jervis Line.', 'PERIOD_YEAR': 2008, 'PERIOD_MONTH': 9, 'CATEGORY': 'Service Indicators', 'FREQUENCY': 'M', 'INDICATOR_UNIT': '%', 'YTD_TARGET': 94.4, 'YTD_ACTUAL': 94.7, 'MONTHLY_TARGET': 94.4, 'MONTHLY_ACTUAL': 91.1}, {'AGENCY_NAME': 'Metro-North Railroad', 'INDICATOR_NAME': 'Port Jervis Line - OTP', 'DESCRIPTION': 'Percent of commuter trains that arrive at their destinations within 5 minutes and 59 seconds of the scheduled time. Metro-North Railroad contracts with New York Transit to operate service on the Port Jervis Line.', 'PERIOD_YEAR': 2008, 'PERIOD_MONTH': 10, 'CATEGORY': 'Service Indicators', 'FREQUENCY': 'M', 'INDICATOR_UNIT': '%', 'YTD_TARGET': 94.4, 'YTD_ACTUAL': 94.7, 'MONTHLY_TARGET': 94.4, 'MONTHLY_ACTUAL': 95.2}, {'AGENCY_NAME': 'Metro-North Railroad', 'INDICATOR_NAME': 'Port Jervis Line - OTP', 'DESCRIPTION': 'Percent of commuter trains that arrive at their destinations within 5 minutes and 59 seconds of the scheduled time. Metro-North Railroad contracts with New York Transit to operate service on the Port Jervis Line.', 'PERIOD_YEAR': 2008, 'PERIOD_MONTH': 11, 'CATEGORY': 'Service Indicators', 'FREQUENCY': 'M', 'INDICATOR_UNIT': '%', 'YTD_TARGET': 94.4, 'YTD_ACTUAL': 94.8, 'MONTHLY_TARGET': 94.4, 'MONTHLY_ACTUAL': 95.4}, {'AGENCY_NAME': 'Metro-North Railroad', 'INDICATOR_NAME': 'Port Jervis Line - OTP', 'DESCRIPTION': 'Percent of commuter trains that arrive at their destinations within 5 minutes and 59 seconds of the scheduled time. Metro-North Railroad contracts with New York Transit to operate service on the Port Jervis Line.', 'PERIOD_YEAR': 2008, 'PERIOD_MONTH': 12, 'CATEGORY': 'Service Indicators', 'FREQUENCY': 'M', 'INDICATOR_UNIT': '%', 'YTD_TARGET': 94.4, 'YTD_ACTUAL': 94.7, 'MONTHLY_TARGET': 94.4, 'MONTHLY_ACTUAL': 94.1}, {'AGENCY_NAME': 'Metro-North Railroad', 'INDICATOR_NAME': 'Port Jervis Line - OTP', 'DESCRIPTION': 'Percent of commuter trains that arrive at their destinations within 5 minutes and 59 seconds of the scheduled time. Metro-North Railroad contracts with New York Transit to operate service on the Port Jervis Line.', 'PERIOD_YEAR': 2009, 'PERIOD_MONTH': 1, 'CATEGORY': 'Service Indicators', 'FREQUENCY': 'M', 'INDICATOR_UNIT': '%', 'YTD_TARGET': 95.0, 'YTD_ACTUAL': 94.5, 'MONTHLY_TARGET': 95.0, 'MONTHLY_ACTUAL': 94.5}, {'AGENCY_NAME': 'Metro-North Railroad', 'INDICATOR_NAME': 'Port Jervis Line - OTP', 'DESCRIPTION': 'Percent of commuter trains that arrive at their destinations within 5 minutes and 59 seconds of the scheduled time. Metro-North Railroad contracts with New York Transit to operate service on the Port Jervis Line.', 'PERIOD_YEAR': 2009, 'PERIOD_MONTH': 2, 'CATEGORY': 'Service Indicators', 'FREQUENCY': 'M', 'INDICATOR_UNIT': '%', 'YTD_TARGET': 95.0, 'YTD_ACTUAL': 95.3, 'MONTHLY_TARGET': 95.0, 'MONTHLY_ACTUAL': 96.3}, {'AGENCY_NAME': 'Metro-North Railroad', 'INDICATOR_NAME': 'Port Jervis Line - OTP', 'DESCRIPTION': 'Percent of commuter trains that arrive at their destinations within 5 minutes and 59 seconds of the scheduled time. Metro-North Railroad contracts with New York Transit to operate service on the Port Jervis Line.', 'PERIOD_YEAR': 2009, 'PERIOD_MONTH': 3, 'CATEGORY': 'Service Indicators', 'FREQUENCY': 'M', 'INDICATOR_UNIT': '%', 'YTD_TARGET': 95.0, 'YTD_ACTUAL': 95.8, 'MONTHLY_TARGET': 95.0, 'MONTHLY_ACTUAL': 96.6}, {'AGENCY_NAME': 'Metro-North Railroad', 'INDICATOR_NAME': 'Port Jervis Line - OTP', 'DESCRIPTION': 'Percent of commuter trains that arrive at their destinations within 5 minutes and 59 seconds of the scheduled time. Metro-North Railroad contracts with New York Transit to operate service on the Port Jervis Line.', 'PERIOD_YEAR': 2009, 'PERIOD_MONTH': 4, 'CATEGORY': 'Service Indicators', 'FREQUENCY': 'M', 'INDICATOR_UNIT': '%', 'YTD_TARGET': 95.0, 'YTD_ACTUAL': 96.3, 'MONTHLY_TARGET': 95.0, 'MONTHLY_ACTUAL': 97.8}, {'AGENCY_NAME': 'Metro-North Railroad', 'INDICATOR_NAME': 'Port Jervis Line - OTP', 'DESCRIPTION': 'Percent of commuter trains that arrive at their destinations within 5 minutes and 59 seconds of the scheduled time. Metro-North Railroad contracts with New York Transit to operate service on the Port Jervis Line.', 'PERIOD_YEAR': 2009, 'PERIOD_MONTH': 5, 'CATEGORY': 'Service Indicators', 'FREQUENCY': 'M', 'INDICATOR_UNIT': '%', 'YTD_TARGET': 95.0, 'YTD_ACTUAL': 96.7, 'MONTHLY_TARGET': 95.0, 'MONTHLY_ACTUAL': 98.4}, {'AGENCY_NAME': 'Metro-North Railroad', 'INDICATOR_NAME': 'Port Jervis Line - OTP', 'DESCRIPTION': 'Percent of commuter trains that arrive at their destinations within 5 minutes and 59 seconds of the scheduled time. Metro-North Railroad contracts with New York Transit to operate service on the Port Jervis Line.', 'PERIOD_YEAR': 2009, 'PERIOD_MONTH': 6, 'CATEGORY': 'Service Indicators', 'FREQUENCY': 'M', 'INDICATOR_UNIT': '%', 'YTD_TARGET': 95.0, 'YTD_ACTUAL': 96.6, 'MONTHLY_TARGET': 95.0, 'MONTHLY_ACTUAL': 96.3}, {'AGENCY_NAME': 'Metro-North Railroad', 'INDICATOR_NAME': 'Port Jervis Line - OTP', 'DESCRIPTION': 'Percent of commuter trains that arrive at their destinations within 5 minutes and 59 seconds of the scheduled time. Metro-North Railroad contracts with New York Transit to operate service on the Port Jervis Line.', 'PERIOD_YEAR': 2009, 'PERIOD_MONTH': 7, 'CATEGORY': 'Service Indicators', 'FREQUENCY': 'M', 'INDICATOR_UNIT': '%', 'YTD_TARGET': 95.0, 'YTD_ACTUAL': 96.5, 'MONTHLY_TARGET': 95.0, 'MONTHLY_ACTUAL': 95.6}, {'AGENCY_NAME': 'Metro-North Railroad', 'INDICATOR_NAME': 'Port Jervis Line - OTP', 'DESCRIPTION': 'Percent of commuter trains that arrive at their destinations within 5 minutes and 59 seconds of the scheduled time. Metro-North Railroad contracts with New York Transit to operate service on the Port Jervis Line.', 'PERIOD_YEAR': 2009, 'PERIOD_MONTH': 8, 'CATEGORY': 'Service Indicators', 'FREQUENCY': 'M', 'INDICATOR_UNIT': '%', 'YTD_TARGET': 95.0, 'YTD_ACTUAL': 96.4, 'MONTHLY_TARGET': 95.0, 'MONTHLY_ACTUAL': 95.5}, {'AGENCY_NAME': 'Metro-North Railroad', 'INDICATOR_NAME': 'Port Jervis Line - OTP', 'DESCRIPTION': 'Percent of commuter trains that arrive at their destinations within 5 minutes and 59 seconds of the scheduled time. Metro-North Railroad contracts with New York Transit to operate service on the Port Jervis Line.', 'PERIOD_YEAR': 2009, 'PERIOD_MONTH': 9, 'CATEGORY': 'Service Indicators', 'FREQUENCY': 'M', 'INDICATOR_UNIT': '%', 'YTD_TARGET': 95.0, 'YTD_ACTUAL': 96.3, 'MONTHLY_TARGET': 95.0, 'MONTHLY_ACTUAL': 95.5}, {'AGENCY_NAME': 'Metro-North Railroad', 'INDICATOR_NAME': 'Port Jervis Line - OTP', 'DESCRIPTION': 'Percent of commuter trains that arrive at their destinations within 5 minutes and 59 seconds of the scheduled time. Metro-North Railroad contracts with New York Transit to operate service on the Port Jervis Line.', 'PERIOD_YEAR': 2009, 'PERIOD_MONTH': 10, 'CATEGORY': 'Service Indicators', 'FREQUENCY': 'M', 'INDICATOR_UNIT': '%', 'YTD_TARGET': 95.0, 'YTD_ACTUAL': 95.8, 'MONTHLY_TARGET': 95.0, 'MONTHLY_ACTUAL': 91.8}, {'AGENCY_NAME': 'Metro-North Railroad', 'INDICATOR_NAME': 'Port Jervis Line - OTP', 'DESCRIPTION': 'Percent of commuter trains that arrive at their destinations within 5 minutes and 59 seconds of the scheduled time. Metro-North Railroad contracts with New York Transit to operate service on the Port Jervis Line.', 'PERIOD_YEAR': 2009, 'PERIOD_MONTH': 11, 'CATEGORY': 'Service Indicators', 'FREQUENCY': 'M', 'INDICATOR_UNIT': '%', 'YTD_TARGET': 95.0, 'YTD_ACTUAL': 95.7, 'MONTHLY_TARGET': 95.0, 'MONTHLY_ACTUAL': 94.4}, {'AGENCY_NAME': 'Metro-North Railroad', 'INDICATOR_NAME': 'Port Jervis Line - OTP', 'DESCRIPTION': 'Percent of commuter trains that arrive at their destinations within 5 minutes and 59 seconds of the scheduled time. Metro-North Railroad contracts with New York Transit to operate service on the Port Jervis Line.', 'PERIOD_YEAR': 2009, 'PERIOD_MONTH': 12, 'CATEGORY': 'Service Indicators', 'FREQUENCY': 'M', 'INDICATOR_UNIT': '%', 'YTD_TARGET': 95.0, 'YTD_ACTUAL': 95.4, 'MONTHLY_TARGET': 95.0, 'MONTHLY_ACTUAL': 92.7}, {'AGENCY_NAME': 'Metro-North Railroad', 'INDICATOR_NAME': 'Port Jervis Line - OTP', 'DESCRIPTION': 'Percent of commuter trains that arrive at their destinations within 5 minutes and 59 seconds of the scheduled time. Metro-North Railroad contracts with New York Transit to operate service on the Port Jervis Line.', 'PERIOD_YEAR': 2010, 'PERIOD_MONTH': 1, 'CATEGORY': 'Service Indicators', 'FREQUENCY': 'M', 'INDICATOR_UNIT': '%', 'YTD_TARGET': 95.2, 'YTD_ACTUAL': 96.7, 'MONTHLY_TARGET': 95.2, 'MONTHLY_ACTUAL': 96.7}, {'AGENCY_NAME': 'Metro-North Railroad', 'INDICATOR_NAME': 'Port Jervis Line - OTP', 'DESCRIPTION': 'Percent of commuter trains that arrive at their destinations within 5 minutes and 59 seconds of the scheduled time. Metro-North Railroad contracts with New York Transit to operate service on the Port Jervis Line.', 'PERIOD_YEAR': 2010, 'PERIOD_MONTH': 2, 'CATEGORY': 'Service Indicators', 'FREQUENCY': 'M', 'INDICATOR_UNIT': '%', 'YTD_TARGET': 95.2, 'YTD_ACTUAL': 93.4, 'MONTHLY_TARGET': 95.2, 'MONTHLY_ACTUAL': 89.6}, {'AGENCY_NAME': 'Metro-North Railroad', 'INDICATOR_NAME': 'Port Jervis Line - OTP', 'DESCRIPTION': 'Percent of commuter trains that arrive at their destinations within 5 minutes and 59 seconds of the scheduled time. Metro-North Railroad contracts with New York Transit to operate service on the Port Jervis Line.', 'PERIOD_YEAR': 2010, 'PERIOD_MONTH': 3, 'CATEGORY': 'Service Indicators', 'FREQUENCY': 'M', 'INDICATOR_UNIT': '%', 'YTD_TARGET': 95.2, 'YTD_ACTUAL': 94.4, 'MONTHLY_TARGET': 95.2, 'MONTHLY_ACTUAL': 96.3}, {'AGENCY_NAME': 'Metro-North Railroad', 'INDICATOR_NAME': 'Port Jervis Line - OTP', 'DESCRIPTION': 'Percent of commuter trains that arrive at their destinations within 5 minutes and 59 seconds of the scheduled time. Metro-North Railroad contracts with New York Transit to operate service on the Port Jervis Line.', 'PERIOD_YEAR': 2010, 'PERIOD_MONTH': 4, 'CATEGORY': 'Service Indicators', 'FREQUENCY': 'M', 'INDICATOR_UNIT': '%', 'YTD_TARGET': 95.2, 'YTD_ACTUAL': 95.1, 'MONTHLY_TARGET': 95.2, 'MONTHLY_ACTUAL': 96.9}, {'AGENCY_NAME': 'Metro-North Railroad', 'INDICATOR_NAME': 'Port Jervis Line - OTP', 'DESCRIPTION': 'Percent of commuter trains that arrive at their destinations within 5 minutes and 59 seconds of the scheduled time. Metro-North Railroad contracts with New York Transit to operate service on the Port Jervis Line.', 'PERIOD_YEAR': 2010, 'PERIOD_MONTH': 5, 'CATEGORY': 'Service Indicators', 'FREQUENCY': 'M', 'INDICATOR_UNIT': '%', 'YTD_TARGET': 95.2, 'YTD_ACTUAL': 95.5, 'MONTHLY_TARGET': 95.2, 'MONTHLY_ACTUAL': 97.2}, {'AGENCY_NAME': 'Metro-North Railroad', 'INDICATOR_NAME': 'Port Jervis Line - OTP', 'DESCRIPTION': 'Percent of commuter trains that arrive at their destinations within 5 minutes and 59 seconds of the scheduled time. Metro-North Railroad contracts with New York Transit to operate service on the Port Jervis Line.', 'PERIOD_YEAR': 2010, 'PERIOD_MONTH': 6, 'CATEGORY': 'Service Indicators', 'FREQUENCY': 'M', 'INDICATOR_UNIT': '%', 'YTD_TARGET': 95.2, 'YTD_ACTUAL': 95.6, 'MONTHLY_TARGET': 95.2, 'MONTHLY_ACTUAL': 96.2}, {'AGENCY_NAME': 'Metro-North Railroad', 'INDICATOR_NAME': 'Port Jervis Line - OTP', 'DESCRIPTION': 'Percent of commuter trains that arrive at their destinations within 5 minutes and 59 seconds of the scheduled time. Metro-North Railroad contracts with New York Transit to operate service on the Port Jervis Line.', 'PERIOD_YEAR': 2010, 'PERIOD_MONTH': 7, 'CATEGORY': 'Service Indicators', 'FREQUENCY': 'M', 'INDICATOR_UNIT': '%', 'YTD_TARGET': 95.2, 'YTD_ACTUAL': 95.5, 'MONTHLY_TARGET': 95.2, 'MONTHLY_ACTUAL': 94.8}, {'AGENCY_NAME': 'Metro-North Railroad', 'INDICATOR_NAME': 'Port Jervis Line - OTP', 'DESCRIPTION': 'Percent of commuter trains that arrive at their destinations within 5 minutes and 59 seconds of the scheduled time. Metro-North Railroad contracts with New York Transit to operate service on the Port Jervis Line.', 'PERIOD_YEAR': 2010, 'PERIOD_MONTH': 8, 'CATEGORY': 'Service Indicators', 'FREQUENCY': 'M', 'INDICATOR_UNIT': '%', 'YTD_TARGET': 95.2, 'YTD_ACTUAL': 95.4, 'MONTHLY_TARGET': 95.2, 'MONTHLY_ACTUAL': 94.6}, {'AGENCY_NAME': 'Metro-North Railroad', 'INDICATOR_NAME': 'Port Jervis Line - OTP', 'DESCRIPTION': 'Percent of commuter trains that arrive at their destinations within 5 minutes and 59 seconds of the scheduled time. Metro-North Railroad contracts with New York Transit to operate service on the Port Jervis Line.', 'PERIOD_YEAR': 2010, 'PERIOD_MONTH': 9, 'CATEGORY': 'Service Indicators', 'FREQUENCY': 'M', 'INDICATOR_UNIT': '%', 'YTD_TARGET': 95.2, 'YTD_ACTUAL': 95.3, 'MONTHLY_TARGET': 95.2, 'MONTHLY_ACTUAL': 95.1}, {'AGENCY_NAME': 'Metro-North Railroad', 'INDICATOR_NAME': 'Port Jervis Line - OTP', 'DESCRIPTION': 'Percent of commuter trains that arrive at their destinations within 5 minutes and 59 seconds of the scheduled time. Metro-North Railroad contracts with New York Transit to operate service on the Port Jervis Line.', 'PERIOD_YEAR': 2010, 'PERIOD_MONTH': 10, 'CATEGORY': 'Service Indicators', 'FREQUENCY': 'M', 'INDICATOR_UNIT': '%', 'YTD_TARGET': 95.2, 'YTD_ACTUAL': 94.9, 'MONTHLY_TARGET': 95.2, 'MONTHLY_ACTUAL': 90.5}, {'AGENCY_NAME': 'Metro-North Railroad', 'INDICATOR_NAME': 'Port Jervis Line - OTP', 'DESCRIPTION': 'Percent of commuter trains that arrive at their destinations within 5 minutes and 59 seconds of the scheduled time. Metro-North Railroad contracts with New York Transit to operate service on the Port Jervis Line.', 'PERIOD_YEAR': 2010, 'PERIOD_MONTH': 11, 'CATEGORY': 'Service Indicators', 'FREQUENCY': 'M', 'INDICATOR_UNIT': '%', 'YTD_TARGET': 95.2, 'YTD_ACTUAL': 94.8, 'MONTHLY_TARGET': 95.2, 'MONTHLY_ACTUAL': 93.9}, {'AGENCY_NAME': 'Metro-North Railroad', 'INDICATOR_NAME': 'Port Jervis Line - OTP', 'DESCRIPTION': 'Percent of commuter trains that arrive at their destinations within 5 minutes and 59 seconds of the scheduled time. Metro-North Railroad contracts with New York Transit to operate service on the Port Jervis Line.', 'PERIOD_YEAR': 2010, 'PERIOD_MONTH': 12, 'CATEGORY': 'Service Indicators', 'FREQUENCY': 'M', 'INDICATOR_UNIT': '%', 'YTD_TARGET': 95.2, 'YTD_ACTUAL': 94.4, 'MONTHLY_TARGET': 95.2, 'MONTHLY_ACTUAL': 91.0}, {'AGENCY_NAME': 'Metro-North Railroad', 'INDICATOR_NAME': 'Port Jervis Line - OTP', 'DESCRIPTION': 'Percent of commuter trains that arrive at their destinations within 5 minutes and 59 seconds of the scheduled time. Metro-North Railroad contracts with New York Transit to operate service on the Port Jervis Line.', 'PERIOD_YEAR': 2011, 'PERIOD_MONTH': 1, 'CATEGORY': 'Service Indicators', 'FREQUENCY': 'M', 'INDICATOR_UNIT': '%', 'YTD_TARGET': 95.5, 'YTD_ACTUAL': 88.0, 'MONTHLY_TARGET': 95.5, 'MONTHLY_ACTUAL': 88.0}, {'AGENCY_NAME': 'Metro-North Railroad', 'INDICATOR_NAME': 'Port Jervis Line - OTP', 'DESCRIPTION': 'Percent of commuter trains that arrive at their destinations within 5 minutes and 59 seconds of the scheduled time. Metro-North Railroad contracts with New York Transit to operate service on the Port Jervis Line.', 'PERIOD_YEAR': 2011, 'PERIOD_MONTH': 2, 'CATEGORY': 'Service Indicators', 'FREQUENCY': 'M', 'INDICATOR_UNIT': '%', 'YTD_TARGET': 95.5, 'YTD_ACTUAL': 89.5, 'MONTHLY_TARGET': 95.5, 'MONTHLY_ACTUAL': 91.0}, {'AGENCY_NAME': 'Metro-North Railroad', 'INDICATOR_NAME': 'Port Jervis Line - OTP', 'DESCRIPTION': 'Percent of commuter trains that arrive at their destinations within 5 minutes and 59 seconds of the scheduled time. Metro-North Railroad contracts with New York Transit to operate service on the Port Jervis Line.', 'PERIOD_YEAR': 2011, 'PERIOD_MONTH': 3, 'CATEGORY': 'Service Indicators', 'FREQUENCY': 'M', 'INDICATOR_UNIT': '%', 'YTD_TARGET': 95.5, 'YTD_ACTUAL': 92.0, 'MONTHLY_TARGET': 95.5, 'MONTHLY_ACTUAL': 96.6}, {'AGENCY_NAME': 'Metro-North Railroad', 'INDICATOR_NAME': 'Port Jervis Line - OTP', 'DESCRIPTION': 'Percent of commuter trains that arrive at their destinations within 5 minutes and 59 seconds of the scheduled time. Metro-North Railroad contracts with New York Transit to operate service on the Port Jervis Line.', 'PERIOD_YEAR': 2011, 'PERIOD_MONTH': 4, 'CATEGORY': 'Service Indicators', 'FREQUENCY': 'M', 'INDICATOR_UNIT': '%', 'YTD_TARGET': 95.5, 'YTD_ACTUAL': 92.2, 'MONTHLY_TARGET': 95.5, 'MONTHLY_ACTUAL': 92.9}, {'AGENCY_NAME': 'Metro-North Railroad', 'INDICATOR_NAME': 'Port Jervis Line - OTP', 'DESCRIPTION': 'Percent of commuter trains that arrive at their destinations within 5 minutes and 59 seconds of the scheduled time. Metro-North Railroad contracts with New York Transit to operate service on the Port Jervis Line.', 'PERIOD_YEAR': 2011, 'PERIOD_MONTH': 5, 'CATEGORY': 'Service Indicators', 'FREQUENCY': 'M', 'INDICATOR_UNIT': '%', 'YTD_TARGET': 95.5, 'YTD_ACTUAL': '', 'MONTHLY_TARGET': 95.5, 'MONTHLY_ACTUAL': ''}, {'AGENCY_NAME': 'Metro-North Railroad', 'INDICATOR_NAME': 'Port Jervis Line - OTP', 'DESCRIPTION': 'Percent of commuter trains that arrive at their destinations within 5 minutes and 59 seconds of the scheduled time. Metro-North Railroad contracts with New York Transit to operate service on the Port Jervis Line.', 'PERIOD_YEAR': 2011, 'PERIOD_MONTH': 6, 'CATEGORY': 'Service Indicators', 'FREQUENCY': 'M', 'INDICATOR_UNIT': '%', 'YTD_TARGET': 95.5, 'YTD_ACTUAL': '', 'MONTHLY_TARGET': 95.5, 'MONTHLY_ACTUAL': ''}, {'AGENCY_NAME': 'Metro-North Railroad', 'INDICATOR_NAME': 'Port Jervis Line - OTP', 'DESCRIPTION': 'Percent of commuter trains that arrive at their destinations within 5 minutes and 59 seconds of the scheduled time. Metro-North Railroad contracts with New York Transit to operate service on the Port Jervis Line.', 'PERIOD_YEAR': 2011, 'PERIOD_MONTH': 7, 'CATEGORY': 'Service Indicators', 'FREQUENCY': 'M', 'INDICATOR_UNIT': '%', 'YTD_TARGET': 95.5, 'YTD_ACTUAL': '', 'MONTHLY_TARGET': 95.5, 'MONTHLY_ACTUAL': ''}, {'AGENCY_NAME': 'Metro-North Railroad', 'INDICATOR_NAME': 'Port Jervis Line - OTP', 'DESCRIPTION': 'Percent of commuter trains that arrive at their destinations within 5 minutes and 59 seconds of the scheduled time. Metro-North Railroad contracts with New York Transit to operate service on the Port Jervis Line.', 'PERIOD_YEAR': 2011, 'PERIOD_MONTH': 8, 'CATEGORY': 'Service Indicators', 'FREQUENCY': 'M', 'INDICATOR_UNIT': '%', 'YTD_TARGET': 95.5, 'YTD_ACTUAL': '', 'MONTHLY_TARGET': 95.5, 'MONTHLY_ACTUAL': ''}, {'AGENCY_NAME': 'Metro-North Railroad', 'INDICATOR_NAME': 'Port Jervis Line - OTP', 'DESCRIPTION': 'Percent of commuter trains that arrive at their destinations within 5 minutes and 59 seconds of the scheduled time. Metro-North Railroad contracts with New York Transit to operate service on the Port Jervis Line.', 'PERIOD_YEAR': 2011, 'PERIOD_MONTH': 9, 'CATEGORY': 'Service Indicators', 'FREQUENCY': 'M', 'INDICATOR_UNIT': '%', 'YTD_TARGET': 95.5, 'YTD_ACTUAL': '', 'MONTHLY_TARGET': 95.5, 'MONTHLY_ACTUAL': ''}, {'AGENCY_NAME': 'Metro-North Railroad', 'INDICATOR_NAME': 'Port Jervis Line - OTP', 'DESCRIPTION': 'Percent of commuter trains that arrive at their destinations within 5 minutes and 59 seconds of the scheduled time. Metro-North Railroad contracts with New York Transit to operate service on the Port Jervis Line.', 'PERIOD_YEAR': 2011, 'PERIOD_MONTH': 10, 'CATEGORY': 'Service Indicators', 'FREQUENCY': 'M', 'INDICATOR_UNIT': '%', 'YTD_TARGET': 95.5, 'YTD_ACTUAL': '', 'MONTHLY_TARGET': 95.5, 'MONTHLY_ACTUAL': ''}, {'AGENCY_NAME': 'Metro-North Railroad', 'INDICATOR_NAME': 'Port Jervis Line - OTP', 'DESCRIPTION': 'Percent of commuter trains that arrive at their destinations within 5 minutes and 59 seconds of the scheduled time. Metro-North Railroad contracts with New York Transit to operate service on the Port Jervis Line.', 'PERIOD_YEAR': 2011, 'PERIOD_MONTH': 11, 'CATEGORY': 'Service Indicators', 'FREQUENCY': 'M', 'INDICATOR_UNIT': '%', 'YTD_TARGET': 95.5, 'YTD_ACTUAL': '', 'MONTHLY_TARGET': 95.5, 'MONTHLY_ACTUAL': ''}, {'AGENCY_NAME': 'Metro-North Railroad', 'INDICATOR_NAME': 'Port Jervis Line - OTP', 'DESCRIPTION': 'Percent of commuter trains that arrive at their destinations within 5 minutes and 59 seconds of the scheduled time. Metro-North Railroad contracts with New York Transit to operate service on the Port Jervis Line.', 'PERIOD_YEAR': 2011, 'PERIOD_MONTH': 12, 'CATEGORY': 'Service Indicators', 'FREQUENCY': 'M', 'INDICATOR_UNIT': '%', 'YTD_TARGET': 95.5, 'YTD_ACTUAL': '', 'MONTHLY_TARGET': 95.5, 'MONTHLY_ACTUAL': ''}, {'AGENCY_NAME': 'Metro-North Railroad', 'INDICATOR_NAME': 'Pascack Valley Line - OTP', 'DESCRIPTION': 'Percent of commuter trains that arrive at their destinations within 5 minutes and 59 seconds of the scheduled time. Metro-North Railroad contracts with New Jersey Transit to operate service on the Pascack Valley Line.', 'PERIOD_YEAR': 2008, 'PERIOD_MONTH': 1, 'CATEGORY': 'Service Indicators', 'FREQUENCY': 'M', 'INDICATOR_UNIT': '%', 'YTD_TARGET': 95.6, 'YTD_ACTUAL': 97.5, 'MONTHLY_TARGET': 95.6, 'MONTHLY_ACTUAL': 97.5}, {'AGENCY_NAME': 'Metro-North Railroad', 'INDICATOR_NAME': 'Pascack Valley Line - OTP', 'DESCRIPTION': 'Percent of commuter trains that arrive at their destinations within 5 minutes and 59 seconds of the scheduled time. Metro-North Railroad contracts with New Jersey Transit to operate service on the Pascack Valley Line.', 'PERIOD_YEAR': 2008, 'PERIOD_MONTH': 2, 'CATEGORY': 'Service Indicators', 'FREQUENCY': 'M', 'INDICATOR_UNIT': '%', 'YTD_TARGET': 95.6, 'YTD_ACTUAL': 96.8, 'MONTHLY_TARGET': 95.6, 'MONTHLY_ACTUAL': 96.1}, {'AGENCY_NAME': 'Metro-North Railroad', 'INDICATOR_NAME': 'Pascack Valley Line - OTP', 'DESCRIPTION': 'Percent of commuter trains that arrive at their destinations within 5 minutes and 59 seconds of the scheduled time. Metro-North Railroad contracts with New Jersey Transit to operate service on the Pascack Valley Line.', 'PERIOD_YEAR': 2008, 'PERIOD_MONTH': 3, 'CATEGORY': 'Service Indicators', 'FREQUENCY': 'M', 'INDICATOR_UNIT': '%', 'YTD_TARGET': 95.6, 'YTD_ACTUAL': 96.5, 'MONTHLY_TARGET': 95.6, 'MONTHLY_ACTUAL': 95.8}, {'AGENCY_NAME': 'Metro-North Railroad', 'INDICATOR_NAME': 'Pascack Valley Line - OTP', 'DESCRIPTION': 'Percent of commuter trains that arrive at their destinations within 5 minutes and 59 seconds of the scheduled time. Metro-North Railroad contracts with New Jersey Transit to operate service on the Pascack Valley Line.', 'PERIOD_YEAR': 2008, 'PERIOD_MONTH': 4, 'CATEGORY': 'Service Indicators', 'FREQUENCY': 'M', 'INDICATOR_UNIT': '%', 'YTD_TARGET': 95.6, 'YTD_ACTUAL': 96.9, 'MONTHLY_TARGET': 95.6, 'MONTHLY_ACTUAL': 98.2}, {'AGENCY_NAME': 'Metro-North Railroad', 'INDICATOR_NAME': 'Pascack Valley Line - OTP', 'DESCRIPTION': 'Percent of commuter trains that arrive at their destinations within 5 minutes and 59 seconds of the scheduled time. Metro-North Railroad contracts with New Jersey Transit to operate service on the Pascack Valley Line.', 'PERIOD_YEAR': 2008, 'PERIOD_MONTH': 5, 'CATEGORY': 'Service Indicators', 'FREQUENCY': 'M', 'INDICATOR_UNIT': '%', 'YTD_TARGET': 95.6, 'YTD_ACTUAL': 96.7, 'MONTHLY_TARGET': 95.6, 'MONTHLY_ACTUAL': 96.0}, {'AGENCY_NAME': 'Metro-North Railroad', 'INDICATOR_NAME': 'Pascack Valley Line - OTP', 'DESCRIPTION': 'Percent of commuter trains that arrive at their destinations within 5 minutes and 59 seconds of the scheduled time. Metro-North Railroad contracts with New Jersey Transit to operate service on the Pascack Valley Line.', 'PERIOD_YEAR': 2008, 'PERIOD_MONTH': 6, 'CATEGORY': 'Service Indicators', 'FREQUENCY': 'M', 'INDICATOR_UNIT': '%', 'YTD_TARGET': 95.6, 'YTD_ACTUAL': 96.6, 'MONTHLY_TARGET': 95.6, 'MONTHLY_ACTUAL': 95.8}, {'AGENCY_NAME': 'Metro-North Railroad', 'INDICATOR_NAME': 'Pascack Valley Line - OTP', 'DESCRIPTION': 'Percent of commuter trains that arrive at their destinations within 5 minutes and 59 seconds of the scheduled time. Metro-North Railroad contracts with New Jersey Transit to operate service on the Pascack Valley Line.', 'PERIOD_YEAR': 2008, 'PERIOD_MONTH': 7, 'CATEGORY': 'Service Indicators', 'FREQUENCY': 'M', 'INDICATOR_UNIT': '%', 'YTD_TARGET': 95.6, 'YTD_ACTUAL': 96.8, 'MONTHLY_TARGET': 95.6, 'MONTHLY_ACTUAL': 97.7}, {'AGENCY_NAME': 'Metro-North Railroad', 'INDICATOR_NAME': 'Pascack Valley Line - OTP', 'DESCRIPTION': 'Percent of commuter trains that arrive at their destinations within 5 minutes and 59 seconds of the scheduled time. Metro-North Railroad contracts with New Jersey Transit to operate service on the Pascack Valley Line.', 'PERIOD_YEAR': 2008, 'PERIOD_MONTH': 8, 'CATEGORY': 'Service Indicators', 'FREQUENCY': 'M', 'INDICATOR_UNIT': '%', 'YTD_TARGET': 95.6, 'YTD_ACTUAL': 97.0, 'MONTHLY_TARGET': 95.6, 'MONTHLY_ACTUAL': 98.6}, {'AGENCY_NAME': 'Metro-North Railroad', 'INDICATOR_NAME': 'Pascack Valley Line - OTP', 'DESCRIPTION': 'Percent of commuter trains that arrive at their destinations within 5 minutes and 59 seconds of the scheduled time. Metro-North Railroad contracts with New Jersey Transit to operate service on the Pascack Valley Line.', 'PERIOD_YEAR': 2008, 'PERIOD_MONTH': 9, 'CATEGORY': 'Service Indicators', 'FREQUENCY': 'M', 'INDICATOR_UNIT': '%', 'YTD_TARGET': 95.6, 'YTD_ACTUAL': 96.8, 'MONTHLY_TARGET': 95.6, 'MONTHLY_ACTUAL': 95.5}, {'AGENCY_NAME': 'Metro-North Railroad', 'INDICATOR_NAME': 'Pascack Valley Line - OTP', 'DESCRIPTION': 'Percent of commuter trains that arrive at their destinations within 5 minutes and 59 seconds of the scheduled time. Metro-North Railroad contracts with New Jersey Transit to operate service on the Pascack Valley Line.', 'PERIOD_YEAR': 2008, 'PERIOD_MONTH': 10, 'CATEGORY': 'Service Indicators', 'FREQUENCY': 'M', 'INDICATOR_UNIT': '%', 'YTD_TARGET': 95.6, 'YTD_ACTUAL': 96.9, 'MONTHLY_TARGET': 95.6, 'MONTHLY_ACTUAL': 97.2}, {'AGENCY_NAME': 'Metro-North Railroad', 'INDICATOR_NAME': 'Pascack Valley Line - OTP', 'DESCRIPTION': 'Percent of commuter trains that arrive at their destinations within 5 minutes and 59 seconds of the scheduled time. Metro-North Railroad contracts with New Jersey Transit to operate service on the Pascack Valley Line.', 'PERIOD_YEAR': 2008, 'PERIOD_MONTH': 11, 'CATEGORY': 'Service Indicators', 'FREQUENCY': 'M', 'INDICATOR_UNIT': '%', 'YTD_TARGET': 95.6, 'YTD_ACTUAL': 97.0, 'MONTHLY_TARGET': 95.6, 'MONTHLY_ACTUAL': 97.9}, {'AGENCY_NAME': 'Metro-North Railroad', 'INDICATOR_NAME': 'Pascack Valley Line - OTP', 'DESCRIPTION': 'Percent of commuter trains that arrive at their destinations within 5 minutes and 59 seconds of the scheduled time. Metro-North Railroad contracts with New Jersey Transit to operate service on the Pascack Valley Line.', 'PERIOD_YEAR': 2008, 'PERIOD_MONTH': 12, 'CATEGORY': 'Service Indicators', 'FREQUENCY': 'M', 'INDICATOR_UNIT': '%', 'YTD_TARGET': 95.6, 'YTD_ACTUAL': 96.9, 'MONTHLY_TARGET': 95.6, 'MONTHLY_ACTUAL': 95.8}, {'AGENCY_NAME': 'Metro-North Railroad', 'INDICATOR_NAME': 'Pascack Valley Line - OTP', 'DESCRIPTION': 'Percent of commuter trains that arrive at their destinations within 5 minutes and 59 seconds of the scheduled time. Metro-North Railroad contracts with New Jersey Transit to operate service on the Pascack Valley Line.', 'PERIOD_YEAR': 2009, 'PERIOD_MONTH': 1, 'CATEGORY': 'Service Indicators', 'FREQUENCY': 'M', 'INDICATOR_UNIT': '%', 'YTD_TARGET': 97.0, 'YTD_ACTUAL': 91.4, 'MONTHLY_TARGET': 97.0, 'MONTHLY_ACTUAL': 91.4}, {'AGENCY_NAME': 'Metro-North Railroad', 'INDICATOR_NAME': 'Pascack Valley Line - OTP', 'DESCRIPTION': 'Percent of commuter trains that arrive at their destinations within 5 minutes and 59 seconds of the scheduled time. Metro-North Railroad contracts with New Jersey Transit to operate service on the Pascack Valley Line.', 'PERIOD_YEAR': 2009, 'PERIOD_MONTH': 2, 'CATEGORY': 'Service Indicators', 'FREQUENCY': 'M', 'INDICATOR_UNIT': '%', 'YTD_TARGET': 97.0, 'YTD_ACTUAL': 94.1, 'MONTHLY_TARGET': 97.0, 'MONTHLY_ACTUAL': 97.2}, {'AGENCY_NAME': 'Metro-North Railroad', 'INDICATOR_NAME': 'Pascack Valley Line - OTP', 'DESCRIPTION': 'Percent of commuter trains that arrive at their destinations within 5 minutes and 59 seconds of the scheduled time. Metro-North Railroad contracts with New Jersey Transit to operate service on the Pascack Valley Line.', 'PERIOD_YEAR': 2009, 'PERIOD_MONTH': 3, 'CATEGORY': 'Service Indicators', 'FREQUENCY': 'M', 'INDICATOR_UNIT': '%', 'YTD_TARGET': 97.0, 'YTD_ACTUAL': 95.2, 'MONTHLY_TARGET': 97.0, 'MONTHLY_ACTUAL': 97.1}, {'AGENCY_NAME': 'Metro-North Railroad', 'INDICATOR_NAME': 'Pascack Valley Line - OTP', 'DESCRIPTION': 'Percent of commuter trains that arrive at their destinations within 5 minutes and 59 seconds of the scheduled time. Metro-North Railroad contracts with New Jersey Transit to operate service on the Pascack Valley Line.', 'PERIOD_YEAR': 2009, 'PERIOD_MONTH': 4, 'CATEGORY': 'Service Indicators', 'FREQUENCY': 'M', 'INDICATOR_UNIT': '%', 'YTD_TARGET': 97.0, 'YTD_ACTUAL': 95.6, 'MONTHLY_TARGET': 97.0, 'MONTHLY_ACTUAL': 96.6}, {'AGENCY_NAME': 'Metro-North Railroad', 'INDICATOR_NAME': 'Pascack Valley Line - OTP', 'DESCRIPTION': 'Percent of commuter trains that arrive at their destinations within 5 minutes and 59 seconds of the scheduled time. Metro-North Railroad contracts with New Jersey Transit to operate service on the Pascack Valley Line.', 'PERIOD_YEAR': 2009, 'PERIOD_MONTH': 5, 'CATEGORY': 'Service Indicators', 'FREQUENCY': 'M', 'INDICATOR_UNIT': '%', 'YTD_TARGET': 97.0, 'YTD_ACTUAL': 95.9, 'MONTHLY_TARGET': 97.0, 'MONTHLY_ACTUAL': 97.5}, {'AGENCY_NAME': 'Metro-North Railroad', 'INDICATOR_NAME': 'Pascack Valley Line - OTP', 'DESCRIPTION': 'Percent of commuter trains that arrive at their destinations within 5 minutes and 59 seconds of the scheduled time. Metro-North Railroad contracts with New Jersey Transit to operate service on the Pascack Valley Line.', 'PERIOD_YEAR': 2009, 'PERIOD_MONTH': 6, 'CATEGORY': 'Service Indicators', 'FREQUENCY': 'M', 'INDICATOR_UNIT': '%', 'YTD_TARGET': 97.0, 'YTD_ACTUAL': 96.3, 'MONTHLY_TARGET': 97.0, 'MONTHLY_ACTUAL': 98.0}, {'AGENCY_NAME': 'Metro-North Railroad', 'INDICATOR_NAME': 'Pascack Valley Line - OTP', 'DESCRIPTION': 'Percent of commuter trains that arrive at their destinations within 5 minutes and 59 seconds of the scheduled time. Metro-North Railroad contracts with New Jersey Transit to operate service on the Pascack Valley Line.', 'PERIOD_YEAR': 2009, 'PERIOD_MONTH': 7, 'CATEGORY': 'Service Indicators', 'FREQUENCY': 'M', 'INDICATOR_UNIT': '%', 'YTD_TARGET': 97.0, 'YTD_ACTUAL': 96.4, 'MONTHLY_TARGET': 97.0, 'MONTHLY_ACTUAL': 97.4}, {'AGENCY_NAME': 'Metro-North Railroad', 'INDICATOR_NAME': 'Pascack Valley Line - OTP', 'DESCRIPTION': 'Percent of commuter trains that arrive at their destinations within 5 minutes and 59 seconds of the scheduled time. Metro-North Railroad contracts with New Jersey Transit to operate service on the Pascack Valley Line.', 'PERIOD_YEAR': 2009, 'PERIOD_MONTH': 8, 'CATEGORY': 'Service Indicators', 'FREQUENCY': 'M', 'INDICATOR_UNIT': '%', 'YTD_TARGET': 97.0, 'YTD_ACTUAL': 96.4, 'MONTHLY_TARGET': 97.0, 'MONTHLY_ACTUAL': 95.9}, {'AGENCY_NAME': 'Metro-North Railroad', 'INDICATOR_NAME': 'Pascack Valley Line - OTP', 'DESCRIPTION': 'Percent of commuter trains that arrive at their destinations within 5 minutes and 59 seconds of the scheduled time. Metro-North Railroad contracts with New Jersey Transit to operate service on the Pascack Valley Line.', 'PERIOD_YEAR': 2009, 'PERIOD_MONTH': 9, 'CATEGORY': 'Service Indicators', 'FREQUENCY': 'M', 'INDICATOR_UNIT': '%', 'YTD_TARGET': 97.0, 'YTD_ACTUAL': 96.4, 'MONTHLY_TARGET': 97.0, 'MONTHLY_ACTUAL': 96.5}, {'AGENCY_NAME': 'Metro-North Railroad', 'INDICATOR_NAME': 'Pascack Valley Line - OTP', 'DESCRIPTION': 'Percent of commuter trains that arrive at their destinations within 5 minutes and 59 seconds of the scheduled time. Metro-North Railroad contracts with New Jersey Transit to operate service on the Pascack Valley Line.', 'PERIOD_YEAR': 2009, 'PERIOD_MONTH': 10, 'CATEGORY': 'Service Indicators', 'FREQUENCY': 'M', 'INDICATOR_UNIT': '%', 'YTD_TARGET': 97.0, 'YTD_ACTUAL': 96.4, 'MONTHLY_TARGET': 97.0, 'MONTHLY_ACTUAL': 96.9}, {'AGENCY_NAME': 'Metro-North Railroad', 'INDICATOR_NAME': 'Pascack Valley Line - OTP', 'DESCRIPTION': 'Percent of commuter trains that arrive at their destinations within 5 minutes and 59 seconds of the scheduled time. Metro-North Railroad contracts with New Jersey Transit to operate service on the Pascack Valley Line.', 'PERIOD_YEAR': 2009, 'PERIOD_MONTH': 11, 'CATEGORY': 'Service Indicators', 'FREQUENCY': 'M', 'INDICATOR_UNIT': '%', 'YTD_TARGET': 97.0, 'YTD_ACTUAL': 96.5, 'MONTHLY_TARGET': 97.0, 'MONTHLY_ACTUAL': 96.5}, {'AGENCY_NAME': 'Metro-North Railroad', 'INDICATOR_NAME': 'Pascack Valley Line - OTP', 'DESCRIPTION': 'Percent of commuter trains that arrive at their destinations within 5 minutes and 59 seconds of the scheduled time. Metro-North Railroad contracts with New Jersey Transit to operate service on the Pascack Valley Line.', 'PERIOD_YEAR': 2009, 'PERIOD_MONTH': 12, 'CATEGORY': 'Service Indicators', 'FREQUENCY': 'M', 'INDICATOR_UNIT': '%', 'YTD_TARGET': 97.0, 'YTD_ACTUAL': 96.5, 'MONTHLY_TARGET': 97.0, 'MONTHLY_ACTUAL': 96.5}, {'AGENCY_NAME': 'Metro-North Railroad', 'INDICATOR_NAME': 'Pascack Valley Line - OTP', 'DESCRIPTION': 'Percent of commuter trains that arrive at their destinations within 5 minutes and 59 seconds of the scheduled time. Metro-North Railroad contracts with New Jersey Transit to operate service on the Pascack Valley Line.', 'PERIOD_YEAR': 2010, 'PERIOD_MONTH': 1, 'CATEGORY': 'Service Indicators', 'FREQUENCY': 'M', 'INDICATOR_UNIT': '%', 'YTD_TARGET': 97.0, 'YTD_ACTUAL': 98.8, 'MONTHLY_TARGET': 97.0, 'MONTHLY_ACTUAL': 98.8}, {'AGENCY_NAME': 'Metro-North Railroad', 'INDICATOR_NAME': 'Pascack Valley Line - OTP', 'DESCRIPTION': 'Percent of commuter trains that arrive at their destinations within 5 minutes and 59 seconds of the scheduled time. Metro-North Railroad contracts with New Jersey Transit to operate service on the Pascack Valley Line.', 'PERIOD_YEAR': 2010, 'PERIOD_MONTH': 2, 'CATEGORY': 'Service Indicators', 'FREQUENCY': 'M', 'INDICATOR_UNIT': '%', 'YTD_TARGET': 97.0, 'YTD_ACTUAL': 97.1, 'MONTHLY_TARGET': 97.0, 'MONTHLY_ACTUAL': 95.2}, {'AGENCY_NAME': 'Metro-North Railroad', 'INDICATOR_NAME': 'Pascack Valley Line - OTP', 'DESCRIPTION': 'Percent of commuter trains that arrive at their destinations within 5 minutes and 59 seconds of the scheduled time. Metro-North Railroad contracts with New Jersey Transit to operate service on the Pascack Valley Line.', 'PERIOD_YEAR': 2010, 'PERIOD_MONTH': 3, 'CATEGORY': 'Service Indicators', 'FREQUENCY': 'M', 'INDICATOR_UNIT': '%', 'YTD_TARGET': 97.0, 'YTD_ACTUAL': 97.2, 'MONTHLY_TARGET': 97.0, 'MONTHLY_ACTUAL': 97.3}, {'AGENCY_NAME': 'Metro-North Railroad', 'INDICATOR_NAME': 'Pascack Valley Line - OTP', 'DESCRIPTION': 'Percent of commuter trains that arrive at their destinations within 5 minutes and 59 seconds of the scheduled time. Metro-North Railroad contracts with New Jersey Transit to operate service on the Pascack Valley Line.', 'PERIOD_YEAR': 2010, 'PERIOD_MONTH': 4, 'CATEGORY': 'Service Indicators', 'FREQUENCY': 'M', 'INDICATOR_UNIT': '%', 'YTD_TARGET': 97.0, 'YTD_ACTUAL': 97.6, 'MONTHLY_TARGET': 97.0, 'MONTHLY_ACTUAL': 98.9}, {'AGENCY_NAME': 'Metro-North Railroad', 'INDICATOR_NAME': 'Pascack Valley Line - OTP', 'DESCRIPTION': 'Percent of commuter trains that arrive at their destinations within 5 minutes and 59 seconds of the scheduled time. Metro-North Railroad contracts with New Jersey Transit to operate service on the Pascack Valley Line.', 'PERIOD_YEAR': 2010, 'PERIOD_MONTH': 5, 'CATEGORY': 'Service Indicators', 'FREQUENCY': 'M', 'INDICATOR_UNIT': '%', 'YTD_TARGET': 97.0, 'YTD_ACTUAL': 97.6, 'MONTHLY_TARGET': 97.0, 'MONTHLY_ACTUAL': 97.8}, {'AGENCY_NAME': 'Metro-North Railroad', 'INDICATOR_NAME': 'Pascack Valley Line - OTP', 'DESCRIPTION': 'Percent of commuter trains that arrive at their destinations within 5 minutes and 59 seconds of the scheduled time. Metro-North Railroad contracts with New Jersey Transit to operate service on the Pascack Valley Line.', 'PERIOD_YEAR': 2010, 'PERIOD_MONTH': 6, 'CATEGORY': 'Service Indicators', 'FREQUENCY': 'M', 'INDICATOR_UNIT': '%', 'YTD_TARGET': 97.0, 'YTD_ACTUAL': 97.8, 'MONTHLY_TARGET': 97.0, 'MONTHLY_ACTUAL': 98.3}, {'AGENCY_NAME': 'Metro-North Railroad', 'INDICATOR_NAME': 'Pascack Valley Line - OTP', 'DESCRIPTION': 'Percent of commuter trains that arrive at their destinations within 5 minutes and 59 seconds of the scheduled time. Metro-North Railroad contracts with New Jersey Transit to operate service on the Pascack Valley Line.', 'PERIOD_YEAR': 2010, 'PERIOD_MONTH': 7, 'CATEGORY': 'Service Indicators', 'FREQUENCY': 'M', 'INDICATOR_UNIT': '%', 'YTD_TARGET': 97.0, 'YTD_ACTUAL': 97.8, 'MONTHLY_TARGET': 97.0, 'MONTHLY_ACTUAL': 97.8}, {'AGENCY_NAME': 'Metro-North Railroad', 'INDICATOR_NAME': 'Pascack Valley Line - OTP', 'DESCRIPTION': 'Percent of commuter trains that arrive at their destinations within 5 minutes and 59 seconds of the scheduled time. Metro-North Railroad contracts with New Jersey Transit to operate service on the Pascack Valley Line.', 'PERIOD_YEAR': 2010, 'PERIOD_MONTH': 8, 'CATEGORY': 'Service Indicators', 'FREQUENCY': 'M', 'INDICATOR_UNIT': '%', 'YTD_TARGET': 97.0, 'YTD_ACTUAL': 97.9, 'MONTHLY_TARGET': 97.0, 'MONTHLY_ACTUAL': 98.9}, {'AGENCY_NAME': 'Metro-North Railroad', 'INDICATOR_NAME': 'Pascack Valley Line - OTP', 'DESCRIPTION': 'Percent of commuter trains that arrive at their destinations within 5 minutes and 59 seconds of the scheduled time. Metro-North Railroad contracts with New Jersey Transit to operate service on the Pascack Valley Line.', 'PERIOD_YEAR': 2010, 'PERIOD_MONTH': 9, 'CATEGORY': 'Service Indicators', 'FREQUENCY': 'M', 'INDICATOR_UNIT': '%', 'YTD_TARGET': 97.0, 'YTD_ACTUAL': 97.9, 'MONTHLY_TARGET': 97.0, 'MONTHLY_ACTUAL': 97.8}, {'AGENCY_NAME': 'Metro-North Railroad', 'INDICATOR_NAME': 'Pascack Valley Line - OTP', 'DESCRIPTION': 'Percent of commuter trains that arrive at their destinations within 5 minutes and 59 seconds of the scheduled time. Metro-North Railroad contracts with New Jersey Transit to operate service on the Pascack Valley Line.', 'PERIOD_YEAR': 2010, 'PERIOD_MONTH': 10, 'CATEGORY': 'Service Indicators', 'FREQUENCY': 'M', 'INDICATOR_UNIT': '%', 'YTD_TARGET': 97.0, 'YTD_ACTUAL': 97.9, 'MONTHLY_TARGET': 97.0, 'MONTHLY_ACTUAL': 98.2}, {'AGENCY_NAME': 'Metro-North Railroad', 'INDICATOR_NAME': 'Pascack Valley Line - OTP', 'DESCRIPTION': 'Percent of commuter trains that arrive at their destinations within 5 minutes and 59 seconds of the scheduled time. Metro-North Railroad contracts with New Jersey Transit to operate service on the Pascack Valley Line.', 'PERIOD_YEAR': 2010, 'PERIOD_MONTH': 11, 'CATEGORY': 'Service Indicators', 'FREQUENCY': 'M', 'INDICATOR_UNIT': '%', 'YTD_TARGET': 97.0, 'YTD_ACTUAL': 97.9, 'MONTHLY_TARGET': 97.0, 'MONTHLY_ACTUAL': 97.6}, {'AGENCY_NAME': 'Metro-North Railroad', 'INDICATOR_NAME': 'Pascack Valley Line - OTP', 'DESCRIPTION': 'Percent of commuter trains that arrive at their destinations within 5 minutes and 59 seconds of the scheduled time. Metro-North Railroad contracts with New Jersey Transit to operate service on the Pascack Valley Line.', 'PERIOD_YEAR': 2010, 'PERIOD_MONTH': 12, 'CATEGORY': 'Service Indicators', 'FREQUENCY': 'M', 'INDICATOR_UNIT': '%', 'YTD_TARGET': 97.0, 'YTD_ACTUAL': 97.8, 'MONTHLY_TARGET': 97.0, 'MONTHLY_ACTUAL': 97.2}, {'AGENCY_NAME': 'Metro-North Railroad', 'INDICATOR_NAME': 'Pascack Valley Line - OTP', 'DESCRIPTION': 'Percent of commuter trains that arrive at their destinations within 5 minutes and 59 seconds of the scheduled time. Metro-North Railroad contracts with New Jersey Transit to operate service on the Pascack Valley Line.', 'PERIOD_YEAR': 2011, 'PERIOD_MONTH': 1, 'CATEGORY': 'Service Indicators', 'FREQUENCY': 'M', 'INDICATOR_UNIT': '%', 'YTD_TARGET': 97.0, 'YTD_ACTUAL': 94.9, 'MONTHLY_TARGET': 97.0, 'MONTHLY_ACTUAL': 94.9}, {'AGENCY_NAME': 'Metro-North Railroad', 'INDICATOR_NAME': 'Pascack Valley Line - OTP', 'DESCRIPTION': 'Percent of commuter trains that arrive at their destinations within 5 minutes and 59 seconds of the scheduled time. Metro-North Railroad contracts with New Jersey Transit to operate service on the Pascack Valley Line.', 'PERIOD_YEAR': 2011, 'PERIOD_MONTH': 2, 'CATEGORY': 'Service Indicators', 'FREQUENCY': 'M', 'INDICATOR_UNIT': '%', 'YTD_TARGET': 97.0, 'YTD_ACTUAL': 96.2, 'MONTHLY_TARGET': 97.0, 'MONTHLY_ACTUAL': 97.5}, {'AGENCY_NAME': 'Metro-North Railroad', 'INDICATOR_NAME': 'Pascack Valley Line - OTP', 'DESCRIPTION': 'Percent of commuter trains that arrive at their destinations within 5 minutes and 59 seconds of the scheduled time. Metro-North Railroad contracts with New Jersey Transit to operate service on the Pascack Valley Line.', 'PERIOD_YEAR': 2011, 'PERIOD_MONTH': 3, 'CATEGORY': 'Service Indicators', 'FREQUENCY': 'M', 'INDICATOR_UNIT': '%', 'YTD_TARGET': 97.0, 'YTD_ACTUAL': 96.5, 'MONTHLY_TARGET': 97.0, 'MONTHLY_ACTUAL': 97.1}, {'AGENCY_NAME': 'Metro-North Railroad', 'INDICATOR_NAME': 'Pascack Valley Line - OTP', 'DESCRIPTION': 'Percent of commuter trains that arrive at their destinations within 5 minutes and 59 seconds of the scheduled time. Metro-North Railroad contracts with New Jersey Transit to operate service on the Pascack Valley Line.', 'PERIOD_YEAR': 2011, 'PERIOD_MONTH': 4, 'CATEGORY': 'Service Indicators', 'FREQUENCY': 'M', 'INDICATOR_UNIT': '%', 'YTD_TARGET': 97.0, 'YTD_ACTUAL': 97.3, 'MONTHLY_TARGET': 97.0, 'MONTHLY_ACTUAL': 99.7}, {'AGENCY_NAME': 'Metro-North Railroad', 'INDICATOR_NAME': 'Pascack Valley Line - OTP', 'DESCRIPTION': 'Percent of commuter trains that arrive at their destinations within 5 minutes and 59 seconds of the scheduled time. Metro-North Railroad contracts with New Jersey Transit to operate service on the Pascack Valley Line.', 'PERIOD_YEAR': 2011, 'PERIOD_MONTH': 5, 'CATEGORY': 'Service Indicators', 'FREQUENCY': 'M', 'INDICATOR_UNIT': '%', 'YTD_TARGET': 97.0, 'YTD_ACTUAL': '', 'MONTHLY_TARGET': 97.0, 'MONTHLY_ACTUAL': ''}, {'AGENCY_NAME': 'Metro-North Railroad', 'INDICATOR_NAME': 'Pascack Valley Line - OTP', 'DESCRIPTION': 'Percent of commuter trains that arrive at their destinations within 5 minutes and 59 seconds of the scheduled time. Metro-North Railroad contracts with New Jersey Transit to operate service on the Pascack Valley Line.', 'PERIOD_YEAR': 2011, 'PERIOD_MONTH': 6, 'CATEGORY': 'Service Indicators', 'FREQUENCY': 'M', 'INDICATOR_UNIT': '%', 'YTD_TARGET': 97.0, 'YTD_ACTUAL': '', 'MONTHLY_TARGET': 97.0, 'MONTHLY_ACTUAL': ''}, {'AGENCY_NAME': 'Metro-North Railroad', 'INDICATOR_NAME': 'Pascack Valley Line - OTP', 'DESCRIPTION': 'Percent of commuter trains that arrive at their destinations within 5 minutes and 59 seconds of the scheduled time. Metro-North Railroad contracts with New Jersey Transit to operate service on the Pascack Valley Line.', 'PERIOD_YEAR': 2011, 'PERIOD_MONTH': 7, 'CATEGORY': 'Service Indicators', 'FREQUENCY': 'M', 'INDICATOR_UNIT': '%', 'YTD_TARGET': 97.0, 'YTD_ACTUAL': '', 'MONTHLY_TARGET': 97.0, 'MONTHLY_ACTUAL': ''}, {'AGENCY_NAME': 'Metro-North Railroad', 'INDICATOR_NAME': 'Pascack Valley Line - OTP', 'DESCRIPTION': 'Percent of commuter trains that arrive at their destinations within 5 minutes and 59 seconds of the scheduled time. Metro-North Railroad contracts with New Jersey Transit to operate service on the Pascack Valley Line.', 'PERIOD_YEAR': 2011, 'PERIOD_MONTH': 8, 'CATEGORY': 'Service Indicators', 'FREQUENCY': 'M', 'INDICATOR_UNIT': '%', 'YTD_TARGET': 97.0, 'YTD_ACTUAL': '', 'MONTHLY_TARGET': 97.0, 'MONTHLY_ACTUAL': ''}, {'AGENCY_NAME': 'Metro-North Railroad', 'INDICATOR_NAME': 'Pascack Valley Line - OTP', 'DESCRIPTION': 'Percent of commuter trains that arrive at their destinations within 5 minutes and 59 seconds of the scheduled time. Metro-North Railroad contracts with New Jersey Transit to operate service on the Pascack Valley Line.', 'PERIOD_YEAR': 2011, 'PERIOD_MONTH': 9, 'CATEGORY': 'Service Indicators', 'FREQUENCY': 'M', 'INDICATOR_UNIT': '%', 'YTD_TARGET': 97.0, 'YTD_ACTUAL': '', 'MONTHLY_TARGET': 97.0, 'MONTHLY_ACTUAL': ''}, {'AGENCY_NAME': 'Metro-North Railroad', 'INDICATOR_NAME': 'Pascack Valley Line - OTP', 'DESCRIPTION': 'Percent of commuter trains that arrive at their destinations within 5 minutes and 59 seconds of the scheduled time. Metro-North Railroad contracts with New Jersey Transit to operate service on the Pascack Valley Line.', 'PERIOD_YEAR': 2011, 'PERIOD_MONTH': 10, 'CATEGORY': 'Service Indicators', 'FREQUENCY': 'M', 'INDICATOR_UNIT': '%', 'YTD_TARGET': 97.0, 'YTD_ACTUAL': '', 'MONTHLY_TARGET': 97.0, 'MONTHLY_ACTUAL': ''}, {'AGENCY_NAME': 'Metro-North Railroad', 'INDICATOR_NAME': 'Pascack Valley Line - OTP', 'DESCRIPTION': 'Percent of commuter trains that arrive at their destinations within 5 minutes and 59 seconds of the scheduled time. Metro-North Railroad contracts with New Jersey Transit to operate service on the Pascack Valley Line.', 'PERIOD_YEAR': 2011, 'PERIOD_MONTH': 11, 'CATEGORY': 'Service Indicators', 'FREQUENCY': 'M', 'INDICATOR_UNIT': '%', 'YTD_TARGET': 97.0, 'YTD_ACTUAL': '', 'MONTHLY_TARGET': 97.0, 'MONTHLY_ACTUAL': ''}, {'AGENCY_NAME': 'Metro-North Railroad', 'INDICATOR_NAME': 'Pascack Valley Line - OTP', 'DESCRIPTION': 'Percent of commuter trains that arrive at their destinations within 5 minutes and 59 seconds of the scheduled time. Metro-North Railroad contracts with New Jersey Transit to operate service on the Pascack Valley Line.', 'PERIOD_YEAR': 2011, 'PERIOD_MONTH': 12, 'CATEGORY': 'Service Indicators', 'FREQUENCY': 'M', 'INDICATOR_UNIT': '%', 'YTD_TARGET': 97.0, 'YTD_ACTUAL': '', 'MONTHLY_TARGET': 97.0, 'MONTHLY_ACTUAL': ''}, {'AGENCY_NAME': 'Metro-North Railroad', 'INDICATOR_NAME': 'Mean Distance Between Failures', 'DESCRIPTION': 'Average number of miles a railcar travels before a mechanical failure makes the train arrive at its final destination later than 5 minutes and 59 seconds', 'PERIOD_YEAR': 2008, 'PERIOD_MONTH': 1, 'CATEGORY': 'Service Indicators', 'FREQUENCY': 'M', 'INDICATOR_UNIT': '-', 'YTD_TARGET': '100,000.00', 'YTD_ACTUAL': '170,344.00', 'MONTHLY_TARGET': '100,000.00', 'MONTHLY_ACTUAL': '170,344.00'}, {'AGENCY_NAME': 'Metro-North Railroad', 'INDICATOR_NAME': 'Mean Distance Between Failures', 'DESCRIPTION': 'Average number of miles a railcar travels before a mechanical failure makes the train arrive at its final destination later than 5 minutes and 59 seconds', 'PERIOD_YEAR': 2008, 'PERIOD_MONTH': 2, 'CATEGORY': 'Service Indicators', 'FREQUENCY': 'M', 'INDICATOR_UNIT': '-', 'YTD_TARGET': '100,000.00', 'YTD_ACTUAL': '142,587.00', 'MONTHLY_TARGET': '100,000.00', 'MONTHLY_ACTUAL': '121,615.00'}, {'AGENCY_NAME': 'Metro-North Railroad', 'INDICATOR_NAME': 'Mean Distance Between Failures', 'DESCRIPTION': 'Average number of miles a railcar travels before a mechanical failure makes the train arrive at its final destination later than 5 minutes and 59 seconds', 'PERIOD_YEAR': 2008, 'PERIOD_MONTH': 3, 'CATEGORY': 'Service Indicators', 'FREQUENCY': 'M', 'INDICATOR_UNIT': '-', 'YTD_TARGET': '100,000.00', 'YTD_ACTUAL': '143,137.00', 'MONTHLY_TARGET': '100,000.00', 'MONTHLY_ACTUAL': '144,223.00'}, {'AGENCY_NAME': 'Metro-North Railroad', 'INDICATOR_NAME': 'Mean Distance Between Failures', 'DESCRIPTION': 'Average number of miles a railcar travels before a mechanical failure makes the train arrive at its final destination later than 5 minutes and 59 seconds', 'PERIOD_YEAR': 2008, 'PERIOD_MONTH': 4, 'CATEGORY': 'Service Indicators', 'FREQUENCY': 'M', 'INDICATOR_UNIT': '-', 'YTD_TARGET': '100,000.00', 'YTD_ACTUAL': '139,925.00', 'MONTHLY_TARGET': '100,000.00', 'MONTHLY_ACTUAL': '131,432.00'}, {'AGENCY_NAME': 'Metro-North Railroad', 'INDICATOR_NAME': 'Mean Distance Between Failures', 'DESCRIPTION': 'Average number of miles a railcar travels before a mechanical failure makes the train arrive at its final destination later than 5 minutes and 59 seconds', 'PERIOD_YEAR': 2008, 'PERIOD_MONTH': 5, 'CATEGORY': 'Service Indicators', 'FREQUENCY': 'M', 'INDICATOR_UNIT': '-', 'YTD_TARGET': '100,000.00', 'YTD_ACTUAL': '137,138.00', 'MONTHLY_TARGET': '100,000.00', 'MONTHLY_ACTUAL': '127,412.00'}, {'AGENCY_NAME': 'Metro-North Railroad', 'INDICATOR_NAME': 'Mean Distance Between Failures', 'DESCRIPTION': 'Average number of miles a railcar travels before a mechanical failure makes the train arrive at its final destination later than 5 minutes and 59 seconds', 'PERIOD_YEAR': 2008, 'PERIOD_MONTH': 6, 'CATEGORY': 'Service Indicators', 'FREQUENCY': 'M', 'INDICATOR_UNIT': '-', 'YTD_TARGET': '100,000.00', 'YTD_ACTUAL': '127,693.00', 'MONTHLY_TARGET': '100,000.00', 'MONTHLY_ACTUAL': '95,022.00'}, {'AGENCY_NAME': 'Metro-North Railroad', 'INDICATOR_NAME': 'Mean Distance Between Failures', 'DESCRIPTION': 'Average number of miles a railcar travels before a mechanical failure makes the train arrive at its final destination later than 5 minutes and 59 seconds', 'PERIOD_YEAR': 2008, 'PERIOD_MONTH': 7, 'CATEGORY': 'Service Indicators', 'FREQUENCY': 'M', 'INDICATOR_UNIT': '-', 'YTD_TARGET': '100,000.00', 'YTD_ACTUAL': '113,519.00', 'MONTHLY_TARGET': '100,000.00', 'MONTHLY_ACTUAL': '69,206.00'}, {'AGENCY_NAME': 'Metro-North Railroad', 'INDICATOR_NAME': 'Mean Distance Between Failures', 'DESCRIPTION': 'Average number of miles a railcar travels before a mechanical failure makes the train arrive at its final destination later than 5 minutes and 59 seconds', 'PERIOD_YEAR': 2008, 'PERIOD_MONTH': 8, 'CATEGORY': 'Service Indicators', 'FREQUENCY': 'M', 'INDICATOR_UNIT': '-', 'YTD_TARGET': '100,000.00', 'YTD_ACTUAL': '110,396.00', 'MONTHLY_TARGET': '100,000.00', 'MONTHLY_ACTUAL': '92,878.00'}, {'AGENCY_NAME': 'Metro-North Railroad', 'INDICATOR_NAME': 'Mean Distance Between Failures', 'DESCRIPTION': 'Average number of miles a railcar travels before a mechanical failure makes the train arrive at its final destination later than 5 minutes and 59 seconds', 'PERIOD_YEAR': 2008, 'PERIOD_MONTH': 9, 'CATEGORY': 'Service Indicators', 'FREQUENCY': 'M', 'INDICATOR_UNIT': '-', 'YTD_TARGET': '100,000.00', 'YTD_ACTUAL': '110,077.00', 'MONTHLY_TARGET': '100,000.00', 'MONTHLY_ACTUAL': '107,579.00'}, {'AGENCY_NAME': 'Metro-North Railroad', 'INDICATOR_NAME': 'Mean Distance Between Failures', 'DESCRIPTION': 'Average number of miles a railcar travels before a mechanical failure makes the train arrive at its final destination later than 5 minutes and 59 seconds', 'PERIOD_YEAR': 2008, 'PERIOD_MONTH': 10, 'CATEGORY': 'Service Indicators', 'FREQUENCY': 'M', 'INDICATOR_UNIT': '-', 'YTD_TARGET': '100,000.00', 'YTD_ACTUAL': '108,859.00', 'MONTHLY_TARGET': '100,000.00', 'MONTHLY_ACTUAL': '99,487.00'}, {'AGENCY_NAME': 'Metro-North Railroad', 'INDICATOR_NAME': 'Mean Distance Between Failures', 'DESCRIPTION': 'Average number of miles a railcar travels before a mechanical failure makes the train arrive at its final destination later than 5 minutes and 59 seconds', 'PERIOD_YEAR': 2008, 'PERIOD_MONTH': 11, 'CATEGORY': 'Service Indicators', 'FREQUENCY': 'M', 'INDICATOR_UNIT': '-', 'YTD_TARGET': '100,000.00', 'YTD_ACTUAL': '109,676.00', 'MONTHLY_TARGET': '100,000.00', 'MONTHLY_ACTUAL': '119,045.00'}, {'AGENCY_NAME': 'Metro-North Railroad', 'INDICATOR_NAME': 'Mean Distance Between Failures', 'DESCRIPTION': 'Average number of miles a railcar travels before a mechanical failure makes the train arrive at its final destination later than 5 minutes and 59 seconds', 'PERIOD_YEAR': 2008, 'PERIOD_MONTH': 12, 'CATEGORY': 'Service Indicators', 'FREQUENCY': 'M', 'INDICATOR_UNIT': '-', 'YTD_TARGET': '100,000.00', 'YTD_ACTUAL': '104,865.00', 'MONTHLY_TARGET': '100,000.00', 'MONTHLY_ACTUAL': '71,307.00'}, {'AGENCY_NAME': 'Metro-North Railroad', 'INDICATOR_NAME': 'Mean Distance Between Failures', 'DESCRIPTION': 'Average number of miles a railcar travels before a mechanical failure makes the train arrive at its final destination later than 5 minutes and 59 seconds', 'PERIOD_YEAR': 2009, 'PERIOD_MONTH': 1, 'CATEGORY': 'Service Indicators', 'FREQUENCY': 'M', 'INDICATOR_UNIT': '-', 'YTD_TARGET': '105,000.00', 'YTD_ACTUAL': '61,868.00', 'MONTHLY_TARGET': '105,000.00', 'MONTHLY_ACTUAL': '61,868.00'}, {'AGENCY_NAME': 'Metro-North Railroad', 'INDICATOR_NAME': 'Mean Distance Between Failures', 'DESCRIPTION': 'Average number of miles a railcar travels before a mechanical failure makes the train arrive at its final destination later than 5 minutes and 59 seconds', 'PERIOD_YEAR': 2009, 'PERIOD_MONTH': 2, 'CATEGORY': 'Service Indicators', 'FREQUENCY': 'M', 'INDICATOR_UNIT': '-', 'YTD_TARGET': '105,000.00', 'YTD_ACTUAL': '71,443.00', 'MONTHLY_TARGET': '105,000.00', 'MONTHLY_ACTUAL': '85,652.00'}, {'AGENCY_NAME': 'Metro-North Railroad', 'INDICATOR_NAME': 'Mean Distance Between Failures', 'DESCRIPTION': 'Average number of miles a railcar travels before a mechanical failure makes the train arrive at its final destination later than 5 minutes and 59 seconds', 'PERIOD_YEAR': 2009, 'PERIOD_MONTH': 3, 'CATEGORY': 'Service Indicators', 'FREQUENCY': 'M', 'INDICATOR_UNIT': '-', 'YTD_TARGET': '105,000.00', 'YTD_ACTUAL': '74,040.00', 'MONTHLY_TARGET': '105,000.00', 'MONTHLY_ACTUAL': '79,372.00'}, {'AGENCY_NAME': 'Metro-North Railroad', 'INDICATOR_NAME': 'Mean Distance Between Failures', 'DESCRIPTION': 'Average number of miles a railcar travels before a mechanical failure makes the train arrive at its final destination later than 5 minutes and 59 seconds', 'PERIOD_YEAR': 2009, 'PERIOD_MONTH': 4, 'CATEGORY': 'Service Indicators', 'FREQUENCY': 'M', 'INDICATOR_UNIT': '-', 'YTD_TARGET': '105,000.00', 'YTD_ACTUAL': '81,617.00', 'MONTHLY_TARGET': '105,000.00', 'MONTHLY_ACTUAL': '115,640.00'}, {'AGENCY_NAME': 'Metro-North Railroad', 'INDICATOR_NAME': 'Mean Distance Between Failures', 'DESCRIPTION': 'Average number of miles a railcar travels before a mechanical failure makes the train arrive at its final destination later than 5 minutes and 59 seconds', 'PERIOD_YEAR': 2009, 'PERIOD_MONTH': 5, 'CATEGORY': 'Service Indicators', 'FREQUENCY': 'M', 'INDICATOR_UNIT': '-', 'YTD_TARGET': '105,000.00', 'YTD_ACTUAL': '86,001.00', 'MONTHLY_TARGET': '105,000.00', 'MONTHLY_ACTUAL': '109,447.00'}, {'AGENCY_NAME': 'Metro-North Railroad', 'INDICATOR_NAME': 'Mean Distance Between Failures', 'DESCRIPTION': 'Average number of miles a railcar travels before a mechanical failure makes the train arrive at its final destination later than 5 minutes and 59 seconds', 'PERIOD_YEAR': 2009, 'PERIOD_MONTH': 6, 'CATEGORY': 'Service Indicators', 'FREQUENCY': 'M', 'INDICATOR_UNIT': '-', 'YTD_TARGET': '105,000.00', 'YTD_ACTUAL': '95,454.00', 'MONTHLY_TARGET': '105,000.00', 'MONTHLY_ACTUAL': '199,874.00'}, {'AGENCY_NAME': 'Metro-North Railroad', 'INDICATOR_NAME': 'Mean Distance Between Failures', 'DESCRIPTION': 'Average number of miles a railcar travels before a mechanical failure makes the train arrive at its final destination later than 5 minutes and 59 seconds', 'PERIOD_YEAR': 2009, 'PERIOD_MONTH': 7, 'CATEGORY': 'Service Indicators', 'FREQUENCY': 'M', 'INDICATOR_UNIT': '-', 'YTD_TARGET': '105,000.00', 'YTD_ACTUAL': '100,927.00', 'MONTHLY_TARGET': '105,000.00', 'MONTHLY_ACTUAL': '149,383.00'}, {'AGENCY_NAME': 'Metro-North Railroad', 'INDICATOR_NAME': 'Mean Distance Between Failures', 'DESCRIPTION': 'Average number of miles a railcar travels before a mechanical failure makes the train arrive at its final destination later than 5 minutes and 59 seconds', 'PERIOD_YEAR': 2009, 'PERIOD_MONTH': 8, 'CATEGORY': 'Service Indicators', 'FREQUENCY': 'M', 'INDICATOR_UNIT': '-', 'YTD_TARGET': '105,000.00', 'YTD_ACTUAL': '103,243.00', 'MONTHLY_TARGET': '105,000.00', 'MONTHLY_ACTUAL': '167,607.00'}, {'AGENCY_NAME': 'Metro-North Railroad', 'INDICATOR_NAME': 'Mean Distance Between Failures', 'DESCRIPTION': 'Average number of miles a railcar travels before a mechanical failure makes the train arrive at its final destination later than 5 minutes and 59 seconds', 'PERIOD_YEAR': 2009, 'PERIOD_MONTH': 9, 'CATEGORY': 'Service Indicators', 'FREQUENCY': 'M', 'INDICATOR_UNIT': '-', 'YTD_TARGET': '105,000.00', 'YTD_ACTUAL': '110,872.00', 'MONTHLY_TARGET': '105,000.00', 'MONTHLY_ACTUAL': '170,649.00'}, {'AGENCY_NAME': 'Metro-North Railroad', 'INDICATOR_NAME': 'Mean Distance Between Failures', 'DESCRIPTION': 'Average number of miles a railcar travels before a mechanical failure makes the train arrive at its final destination later than 5 minutes and 59 seconds', 'PERIOD_YEAR': 2009, 'PERIOD_MONTH': 10, 'CATEGORY': 'Service Indicators', 'FREQUENCY': 'M', 'INDICATOR_UNIT': '-', 'YTD_TARGET': '105,000.00', 'YTD_ACTUAL': '115,665.00', 'MONTHLY_TARGET': '105,000.00', 'MONTHLY_ACTUAL': '186,500.00'}, {'AGENCY_NAME': 'Metro-North Railroad', 'INDICATOR_NAME': 'Mean Distance Between Failures', 'DESCRIPTION': 'Average number of miles a railcar travels before a mechanical failure makes the train arrive at its final destination later than 5 minutes and 59 seconds', 'PERIOD_YEAR': 2009, 'PERIOD_MONTH': 11, 'CATEGORY': 'Service Indicators', 'FREQUENCY': 'M', 'INDICATOR_UNIT': '-', 'YTD_TARGET': '105,000.00', 'YTD_ACTUAL': '118,534.00', 'MONTHLY_TARGET': '105,000.00', 'MONTHLY_ACTUAL': '159,929.00'}, {'AGENCY_NAME': 'Metro-North Railroad', 'INDICATOR_NAME': 'Mean Distance Between Failures', 'DESCRIPTION': 'Average number of miles a railcar travels before a mechanical failure makes the train arrive at its final destination later than 5 minutes and 59 seconds', 'PERIOD_YEAR': 2009, 'PERIOD_MONTH': 12, 'CATEGORY': 'Service Indicators', 'FREQUENCY': 'M', 'INDICATOR_UNIT': '-', 'YTD_TARGET': '105,000.00', 'YTD_ACTUAL': '116,066.00', 'MONTHLY_TARGET': '105,000.00', 'MONTHLY_ACTUAL': '94,916.00'}, {'AGENCY_NAME': 'Metro-North Railroad', 'INDICATOR_NAME': 'Mean Distance Between Failures', 'DESCRIPTION': 'Average number of miles a railcar travels before a mechanical failure makes the train arrive at its final destination later than 5 minutes and 59 seconds', 'PERIOD_YEAR': 2010, 'PERIOD_MONTH': 1, 'CATEGORY': 'Service Indicators', 'FREQUENCY': 'M', 'INDICATOR_UNIT': '-', 'YTD_TARGET': '115,000.00', 'YTD_ACTUAL': '133,979.00', 'MONTHLY_TARGET': '115,000.00', 'MONTHLY_ACTUAL': '133,979.00'}, {'AGENCY_NAME': 'Metro-North Railroad', 'INDICATOR_NAME': 'Mean Distance Between Failures', 'DESCRIPTION': 'Average number of miles a railcar travels before a mechanical failure makes the train arrive at its final destination later than 5 minutes and 59 seconds', 'PERIOD_YEAR': 2010, 'PERIOD_MONTH': 2, 'CATEGORY': 'Service Indicators', 'FREQUENCY': 'M', 'INDICATOR_UNIT': '-', 'YTD_TARGET': '115,000.00', 'YTD_ACTUAL': '136,624.00', 'MONTHLY_TARGET': '115,000.00', 'MONTHLY_ACTUAL': '139,626.00'}, {'AGENCY_NAME': 'Metro-North Railroad', 'INDICATOR_NAME': 'Mean Distance Between Failures', 'DESCRIPTION': 'Average number of miles a railcar travels before a mechanical failure makes the train arrive at its final destination later than 5 minutes and 59 seconds', 'PERIOD_YEAR': 2010, 'PERIOD_MONTH': 3, 'CATEGORY': 'Service Indicators', 'FREQUENCY': 'M', 'INDICATOR_UNIT': '-', 'YTD_TARGET': '115,000.00', 'YTD_ACTUAL': '148,691.00', 'MONTHLY_TARGET': '115,000.00', 'MONTHLY_ACTUAL': '176,730.00'}, {'AGENCY_NAME': 'Metro-North Railroad', 'INDICATOR_NAME': 'Mean Distance Between Failures', 'DESCRIPTION': 'Average number of miles a railcar travels before a mechanical failure makes the train arrive at its final destination later than 5 minutes and 59 seconds', 'PERIOD_YEAR': 2010, 'PERIOD_MONTH': 4, 'CATEGORY': 'Service Indicators', 'FREQUENCY': 'M', 'INDICATOR_UNIT': '-', 'YTD_TARGET': '115,000.00', 'YTD_ACTUAL': '152,854.00', 'MONTHLY_TARGET': '115,000.00', 'MONTHLY_ACTUAL': '166,295.00'}, {'AGENCY_NAME': 'Metro-North Railroad', 'INDICATOR_NAME': 'Mean Distance Between Failures', 'DESCRIPTION': 'Average number of miles a railcar travels before a mechanical failure makes the train arrive at its final destination later than 5 minutes and 59 seconds', 'PERIOD_YEAR': 2010, 'PERIOD_MONTH': 5, 'CATEGORY': 'Service Indicators', 'FREQUENCY': 'M', 'INDICATOR_UNIT': '-', 'YTD_TARGET': '115,000.00', 'YTD_ACTUAL': '161,507.00', 'MONTHLY_TARGET': '115,000.00', 'MONTHLY_ACTUAL': '207,245.00'}, {'AGENCY_NAME': 'Metro-North Railroad', 'INDICATOR_NAME': 'Mean Distance Between Failures', 'DESCRIPTION': 'Average number of miles a railcar travels before a mechanical failure makes the train arrive at its final destination later than 5 minutes and 59 seconds', 'PERIOD_YEAR': 2010, 'PERIOD_MONTH': 6, 'CATEGORY': 'Service Indicators', 'FREQUENCY': 'M', 'INDICATOR_UNIT': '-', 'YTD_TARGET': '115,000.00', 'YTD_ACTUAL': '150,239.00', 'MONTHLY_TARGET': '115,000.00', 'MONTHLY_ACTUAL': '112,101.00'}, {'AGENCY_NAME': 'Metro-North Railroad', 'INDICATOR_NAME': 'Mean Distance Between Failures', 'DESCRIPTION': 'Average number of miles a railcar travels before a mechanical failure makes the train arrive at its final destination later than 5 minutes and 59 seconds', 'PERIOD_YEAR': 2010, 'PERIOD_MONTH': 7, 'CATEGORY': 'Service Indicators', 'FREQUENCY': 'M', 'INDICATOR_UNIT': '-', 'YTD_TARGET': '115,000.00', 'YTD_ACTUAL': '147,618.00', 'MONTHLY_TARGET': '115,000.00', 'MONTHLY_ACTUAL': '133,718.00'}, {'AGENCY_NAME': 'Metro-North Railroad', 'INDICATOR_NAME': 'Mean Distance Between Failures', 'DESCRIPTION': 'Average number of miles a railcar travels before a mechanical failure makes the train arrive at its final destination later than 5 minutes and 59 seconds', 'PERIOD_YEAR': 2010, 'PERIOD_MONTH': 8, 'CATEGORY': 'Service Indicators', 'FREQUENCY': 'M', 'INDICATOR_UNIT': '-', 'YTD_TARGET': '115,000.00', 'YTD_ACTUAL': '144,758.00', 'MONTHLY_TARGET': '115,000.00', 'MONTHLY_ACTUAL': '127,910.00'}, {'AGENCY_NAME': 'Metro-North Railroad', 'INDICATOR_NAME': 'Mean Distance Between Failures', 'DESCRIPTION': 'Average number of miles a railcar travels before a mechanical failure makes the train arrive at its final destination later than 5 minutes and 59 seconds', 'PERIOD_YEAR': 2010, 'PERIOD_MONTH': 9, 'CATEGORY': 'Service Indicators', 'FREQUENCY': 'M', 'INDICATOR_UNIT': '-', 'YTD_TARGET': '115,000.00', 'YTD_ACTUAL': '140,083.00', 'MONTHLY_TARGET': '115,000.00', 'MONTHLY_ACTUAL': '111,026.00'}, {'AGENCY_NAME': 'Metro-North Railroad', 'INDICATOR_NAME': 'Mean Distance Between Failures', 'DESCRIPTION': 'Average number of miles a railcar travels before a mechanical failure makes the train arrive at its final destination later than 5 minutes and 59 seconds', 'PERIOD_YEAR': 2010, 'PERIOD_MONTH': 10, 'CATEGORY': 'Service Indicators', 'FREQUENCY': 'M', 'INDICATOR_UNIT': '-', 'YTD_TARGET': '115,000.00', 'YTD_ACTUAL': '136,653.00', 'MONTHLY_TARGET': '115,000.00', 'MONTHLY_ACTUAL': '111,898.00'}, {'AGENCY_NAME': 'Metro-North Railroad', 'INDICATOR_NAME': 'Mean Distance Between Failures', 'DESCRIPTION': 'Average number of miles a railcar travels before a mechanical failure makes the train arrive at its final destination later than 5 minutes and 59 seconds', 'PERIOD_YEAR': 2010, 'PERIOD_MONTH': 11, 'CATEGORY': 'Service Indicators', 'FREQUENCY': 'M', 'INDICATOR_UNIT': '-', 'YTD_TARGET': '115,000.00', 'YTD_ACTUAL': '132,432.00', 'MONTHLY_TARGET': '115,000.00', 'MONTHLY_ACTUAL': '100,852.00'}, {'AGENCY_NAME': 'Metro-North Railroad', 'INDICATOR_NAME': 'Mean Distance Between Failures', 'DESCRIPTION': 'Average number of miles a railcar travels before a mechanical failure makes the train arrive at its final destination later than 5 minutes and 59 seconds', 'PERIOD_YEAR': 2010, 'PERIOD_MONTH': 12, 'CATEGORY': 'Service Indicators', 'FREQUENCY': 'M', 'INDICATOR_UNIT': '-', 'YTD_TARGET': '115,000.00', 'YTD_ACTUAL': '129,329.00', 'MONTHLY_TARGET': '115,000.00', 'MONTHLY_ACTUAL': '102,536.00'}, {'AGENCY_NAME': 'Metro-North Railroad', 'INDICATOR_NAME': 'Mean Distance Between Failures', 'DESCRIPTION': 'Average number of miles a railcar travels before a mechanical failure makes the train arrive at its final destination later than 5 minutes and 59 seconds', 'PERIOD_YEAR': 2011, 'PERIOD_MONTH': 1, 'CATEGORY': 'Service Indicators', 'FREQUENCY': 'M', 'INDICATOR_UNIT': '-', 'YTD_TARGET': '125,000.00', 'YTD_ACTUAL': '56,773.00', 'MONTHLY_TARGET': '125,000.00', 'MONTHLY_ACTUAL': '56,773.00'}, {'AGENCY_NAME': 'Metro-North Railroad', 'INDICATOR_NAME': 'Mean Distance Between Failures', 'DESCRIPTION': 'Average number of miles a railcar travels before a mechanical failure makes the train arrive at its final destination later than 5 minutes and 59 seconds', 'PERIOD_YEAR': 2011, 'PERIOD_MONTH': 2, 'CATEGORY': 'Service Indicators', 'FREQUENCY': 'M', 'INDICATOR_UNIT': '-', 'YTD_TARGET': '125,000.00', 'YTD_ACTUAL': '57,252.00', 'MONTHLY_TARGET': '125,000.00', 'MONTHLY_ACTUAL': '57,770.00'}, {'AGENCY_NAME': 'Metro-North Railroad', 'INDICATOR_NAME': 'Mean Distance Between Failures', 'DESCRIPTION': 'Average number of miles a railcar travels before a mechanical failure makes the train arrive at its final destination later than 5 minutes and 59 seconds', 'PERIOD_YEAR': 2011, 'PERIOD_MONTH': 3, 'CATEGORY': 'Service Indicators', 'FREQUENCY': 'M', 'INDICATOR_UNIT': '-', 'YTD_TARGET': '125,000.00', 'YTD_ACTUAL': '66,962.00', 'MONTHLY_TARGET': '125,000.00', 'MONTHLY_ACTUAL': '95,307.00'}, {'AGENCY_NAME': 'Metro-North Railroad', 'INDICATOR_NAME': 'Mean Distance Between Failures', 'DESCRIPTION': 'Average number of miles a railcar travels before a mechanical failure makes the train arrive at its final destination later than 5 minutes and 59 seconds', 'PERIOD_YEAR': 2011, 'PERIOD_MONTH': 4, 'CATEGORY': 'Service Indicators', 'FREQUENCY': 'M', 'INDICATOR_UNIT': '-', 'YTD_TARGET': '125,000.00', 'YTD_ACTUAL': '79,346.00', 'MONTHLY_TARGET': '125,000.00', 'MONTHLY_ACTUAL': '165,331.00'}, {'AGENCY_NAME': 'Metro-North Railroad', 'INDICATOR_NAME': 'Mean Distance Between Failures', 'DESCRIPTION': 'Average number of miles a railcar travels before a mechanical failure makes the train arrive at its final destination later than 5 minutes and 59 seconds', 'PERIOD_YEAR': 2011, 'PERIOD_MONTH': 5, 'CATEGORY': 'Service Indicators', 'FREQUENCY': 'M', 'INDICATOR_UNIT': '-', 'YTD_TARGET': '125,000.00', 'YTD_ACTUAL': '87,903.00', 'MONTHLY_TARGET': '125,000.00', 'MONTHLY_ACTUAL': '147,369.00'}, {'AGENCY_NAME': 'Metro-North Railroad', 'INDICATOR_NAME': 'Mean Distance Between Failures', 'DESCRIPTION': 'Average number of miles a railcar travels before a mechanical failure makes the train arrive at its final destination later than 5 minutes and 59 seconds', 'PERIOD_YEAR': 2011, 'PERIOD_MONTH': 6, 'CATEGORY': 'Service Indicators', 'FREQUENCY': 'M', 'INDICATOR_UNIT': '-', 'YTD_TARGET': '125,000.00', 'YTD_ACTUAL': '', 'MONTHLY_TARGET': '125,000.00', 'MONTHLY_ACTUAL': ''}, {'AGENCY_NAME': 'Metro-North Railroad', 'INDICATOR_NAME': 'Mean Distance Between Failures', 'DESCRIPTION': 'Average number of miles a railcar travels before a mechanical failure makes the train arrive at its final destination later than 5 minutes and 59 seconds', 'PERIOD_YEAR': 2011, 'PERIOD_MONTH': 7, 'CATEGORY': 'Service Indicators', 'FREQUENCY': 'M', 'INDICATOR_UNIT': '-', 'YTD_TARGET': '125,000.00', 'YTD_ACTUAL': '', 'MONTHLY_TARGET': '125,000.00', 'MONTHLY_ACTUAL': ''}, {'AGENCY_NAME': 'Metro-North Railroad', 'INDICATOR_NAME': 'Mean Distance Between Failures', 'DESCRIPTION': 'Average number of miles a railcar travels before a mechanical failure makes the train arrive at its final destination later than 5 minutes and 59 seconds', 'PERIOD_YEAR': 2011, 'PERIOD_MONTH': 8, 'CATEGORY': 'Service Indicators', 'FREQUENCY': 'M', 'INDICATOR_UNIT': '-', 'YTD_TARGET': '125,000.00', 'YTD_ACTUAL': '', 'MONTHLY_TARGET': '125,000.00', 'MONTHLY_ACTUAL': ''}, {'AGENCY_NAME': 'Metro-North Railroad', 'INDICATOR_NAME': 'Mean Distance Between Failures', 'DESCRIPTION': 'Average number of miles a railcar travels before a mechanical failure makes the train arrive at its final destination later than 5 minutes and 59 seconds', 'PERIOD_YEAR': 2011, 'PERIOD_MONTH': 9, 'CATEGORY': 'Service Indicators', 'FREQUENCY': 'M', 'INDICATOR_UNIT': '-', 'YTD_TARGET': '125,000.00', 'YTD_ACTUAL': '', 'MONTHLY_TARGET': '125,000.00', 'MONTHLY_ACTUAL': ''}, {'AGENCY_NAME': 'Metro-North Railroad', 'INDICATOR_NAME': 'Mean Distance Between Failures', 'DESCRIPTION': 'Average number of miles a railcar travels before a mechanical failure makes the train arrive at its final destination later than 5 minutes and 59 seconds', 'PERIOD_YEAR': 2011, 'PERIOD_MONTH': 10, 'CATEGORY': 'Service Indicators', 'FREQUENCY': 'M', 'INDICATOR_UNIT': '-', 'YTD_TARGET': '125,000.00', 'YTD_ACTUAL': '', 'MONTHLY_TARGET': '125,000.00', 'MONTHLY_ACTUAL': ''}, {'AGENCY_NAME': 'Metro-North Railroad', 'INDICATOR_NAME': 'Mean Distance Between Failures', 'DESCRIPTION': 'Average number of miles a railcar travels before a mechanical failure makes the train arrive at its final destination later than 5 minutes and 59 seconds', 'PERIOD_YEAR': 2011, 'PERIOD_MONTH': 11, 'CATEGORY': 'Service Indicators', 'FREQUENCY': 'M', 'INDICATOR_UNIT': '-', 'YTD_TARGET': '125,000.00', 'YTD_ACTUAL': '', 'MONTHLY_TARGET': '125,000.00', 'MONTHLY_ACTUAL': ''}, {'AGENCY_NAME': 'Metro-North Railroad', 'INDICATOR_NAME': 'Mean Distance Between Failures', 'DESCRIPTION': 'Average number of miles a railcar travels before a mechanical failure makes the train arrive at its final destination later than 5 minutes and 59 seconds', 'PERIOD_YEAR': 2011, 'PERIOD_MONTH': 12, 'CATEGORY': 'Service Indicators', 'FREQUENCY': 'M', 'INDICATOR_UNIT': '-', 'YTD_TARGET': '125,000.00', 'YTD_ACTUAL': '', 'MONTHLY_TARGET': '125,000.00', 'MONTHLY_ACTUAL': ''}, {'AGENCY_NAME': 'Metro-North Railroad', 'INDICATOR_NAME': 'Customer Injury Rate', 'DESCRIPTION': 'Any injury to a customer as a result of an incident within/on railroad property. Included are injuries that result from an assault or crime. The rate is injuries per million customers.', 'PERIOD_YEAR': 2008, 'PERIOD_MONTH': 1, 'CATEGORY': 'Safety Indicators', 'FREQUENCY': 'M', 'INDICATOR_UNIT': '-', 'YTD_TARGET': 3.2, 'YTD_ACTUAL': 4.65, 'MONTHLY_TARGET': 3.2, 'MONTHLY_ACTUAL': 4.65}, {'AGENCY_NAME': 'Metro-North Railroad', 'INDICATOR_NAME': 'Customer Injury Rate', 'DESCRIPTION': 'Any injury to a customer as a result of an incident within/on railroad property. Included are injuries that result from an assault or crime. The rate is injuries per million customers.', 'PERIOD_YEAR': 2008, 'PERIOD_MONTH': 2, 'CATEGORY': 'Safety Indicators', 'FREQUENCY': 'M', 'INDICATOR_UNIT': '-', 'YTD_TARGET': 3.2, 'YTD_ACTUAL': 4.29, 'MONTHLY_TARGET': 3.2, 'MONTHLY_ACTUAL': 3.91}, {'AGENCY_NAME': 'Metro-North Railroad', 'INDICATOR_NAME': 'Customer Injury Rate', 'DESCRIPTION': 'Any injury to a customer as a result of an incident within/on railroad property. Included are injuries that result from an assault or crime. The rate is injuries per million customers.', 'PERIOD_YEAR': 2008, 'PERIOD_MONTH': 3, 'CATEGORY': 'Safety Indicators', 'FREQUENCY': 'M', 'INDICATOR_UNIT': '-', 'YTD_TARGET': 3.2, 'YTD_ACTUAL': 3.96, 'MONTHLY_TARGET': 3.2, 'MONTHLY_ACTUAL': 3.33}, {'AGENCY_NAME': 'Metro-North Railroad', 'INDICATOR_NAME': 'Customer Injury Rate', 'DESCRIPTION': 'Any injury to a customer as a result of an incident within/on railroad property. Included are injuries that result from an assault or crime. The rate is injuries per million customers.', 'PERIOD_YEAR': 2008, 'PERIOD_MONTH': 4, 'CATEGORY': 'Safety Indicators', 'FREQUENCY': 'M', 'INDICATOR_UNIT': '-', 'YTD_TARGET': 3.2, 'YTD_ACTUAL': 3.73, 'MONTHLY_TARGET': 3.2, 'MONTHLY_ACTUAL': 3.09}, {'AGENCY_NAME': 'Metro-North Railroad', 'INDICATOR_NAME': 'Customer Injury Rate', 'DESCRIPTION': 'Any injury to a customer as a result of an incident within/on railroad property. Included are injuries that result from an assault or crime. The rate is injuries per million customers.', 'PERIOD_YEAR': 2008, 'PERIOD_MONTH': 5, 'CATEGORY': 'Safety Indicators', 'FREQUENCY': 'M', 'INDICATOR_UNIT': '-', 'YTD_TARGET': 3.2, 'YTD_ACTUAL': 3.72, 'MONTHLY_TARGET': 3.2, 'MONTHLY_ACTUAL': 3.65}, {'AGENCY_NAME': 'Metro-North Railroad', 'INDICATOR_NAME': 'Customer Injury Rate', 'DESCRIPTION': 'Any injury to a customer as a result of an incident within/on railroad property. Included are injuries that result from an assault or crime. The rate is injuries per million customers.', 'PERIOD_YEAR': 2008, 'PERIOD_MONTH': 6, 'CATEGORY': 'Safety Indicators', 'FREQUENCY': 'M', 'INDICATOR_UNIT': '-', 'YTD_TARGET': 3.2, 'YTD_ACTUAL': 3.49, 'MONTHLY_TARGET': 3.2, 'MONTHLY_ACTUAL': 2.43}, {'AGENCY_NAME': 'Metro-North Railroad', 'INDICATOR_NAME': 'Customer Injury Rate', 'DESCRIPTION': 'Any injury to a customer as a result of an incident within/on railroad property. Included are injuries that result from an assault or crime. The rate is injuries per million customers.', 'PERIOD_YEAR': 2008, 'PERIOD_MONTH': 7, 'CATEGORY': 'Safety Indicators', 'FREQUENCY': 'M', 'INDICATOR_UNIT': '-', 'YTD_TARGET': 3.2, 'YTD_ACTUAL': 3.95, 'MONTHLY_TARGET': 3.2, 'MONTHLY_ACTUAL': 3.43}, {'AGENCY_NAME': 'Metro-North Railroad', 'INDICATOR_NAME': 'Customer Injury Rate', 'DESCRIPTION': 'Any injury to a customer as a result of an incident within/on railroad property. Included are injuries that result from an assault or crime. The rate is injuries per million customers.', 'PERIOD_YEAR': 2008, 'PERIOD_MONTH': 8, 'CATEGORY': 'Safety Indicators', 'FREQUENCY': 'M', 'INDICATOR_UNIT': '-', 'YTD_TARGET': 3.2, 'YTD_ACTUAL': 3.45, 'MONTHLY_TARGET': 3.2, 'MONTHLY_ACTUAL': 3.22}, {'AGENCY_NAME': 'Metro-North Railroad', 'INDICATOR_NAME': 'Customer Injury Rate', 'DESCRIPTION': 'Any injury to a customer as a result of an incident within/on railroad property. Included are injuries that result from an assault or crime. The rate is injuries per million customers.', 'PERIOD_YEAR': 2008, 'PERIOD_MONTH': 9, 'CATEGORY': 'Safety Indicators', 'FREQUENCY': 'M', 'INDICATOR_UNIT': '-', 'YTD_TARGET': 3.2, 'YTD_ACTUAL': 3.41, 'MONTHLY_TARGET': 3.2, 'MONTHLY_ACTUAL': 1.96}, {'AGENCY_NAME': 'Metro-North Railroad', 'INDICATOR_NAME': 'Customer Injury Rate', 'DESCRIPTION': 'Any injury to a customer as a result of an incident within/on railroad property. Included are injuries that result from an assault or crime. The rate is injuries per million customers.', 'PERIOD_YEAR': 2008, 'PERIOD_MONTH': 10, 'CATEGORY': 'Safety Indicators', 'FREQUENCY': 'M', 'INDICATOR_UNIT': '-', 'YTD_TARGET': 3.2, 'YTD_ACTUAL': 3.23, 'MONTHLY_TARGET': 3.2, 'MONTHLY_ACTUAL': 1.78}, {'AGENCY_NAME': 'Metro-North Railroad', 'INDICATOR_NAME': 'Customer Injury Rate', 'DESCRIPTION': 'Any injury to a customer as a result of an incident within/on railroad property. Included are injuries that result from an assault or crime. The rate is injuries per million customers.', 'PERIOD_YEAR': 2008, 'PERIOD_MONTH': 11, 'CATEGORY': 'Safety Indicators', 'FREQUENCY': 'M', 'INDICATOR_UNIT': '-', 'YTD_TARGET': 3.2, 'YTD_ACTUAL': 3.18, 'MONTHLY_TARGET': 3.2, 'MONTHLY_ACTUAL': 2.67}, {'AGENCY_NAME': 'Metro-North Railroad', 'INDICATOR_NAME': 'Customer Injury Rate', 'DESCRIPTION': 'Any injury to a customer as a result of an incident within/on railroad property. Included are injuries that result from an assault or crime. The rate is injuries per million customers.', 'PERIOD_YEAR': 2008, 'PERIOD_MONTH': 12, 'CATEGORY': 'Safety Indicators', 'FREQUENCY': 'M', 'INDICATOR_UNIT': '-', 'YTD_TARGET': 3.2, 'YTD_ACTUAL': 3.13, 'MONTHLY_TARGET': 3.2, 'MONTHLY_ACTUAL': 2.43}, {'AGENCY_NAME': 'Metro-North Railroad', 'INDICATOR_NAME': 'Customer Injury Rate', 'DESCRIPTION': 'Any injury to a customer as a result of an incident within/on railroad property. Included are injuries that result from an assault or crime. The rate is injuries per million customers.', 'PERIOD_YEAR': 2009, 'PERIOD_MONTH': 1, 'CATEGORY': 'Safety Indicators', 'FREQUENCY': 'M', 'INDICATOR_UNIT': '-', 'YTD_TARGET': 3.2, 'YTD_ACTUAL': 2.27, 'MONTHLY_TARGET': 3.2, 'MONTHLY_ACTUAL': 2.27}, {'AGENCY_NAME': 'Metro-North Railroad', 'INDICATOR_NAME': 'Customer Injury Rate', 'DESCRIPTION': 'Any injury to a customer as a result of an incident within/on railroad property. Included are injuries that result from an assault or crime. The rate is injuries per million customers.', 'PERIOD_YEAR': 2009, 'PERIOD_MONTH': 2, 'CATEGORY': 'Safety Indicators', 'FREQUENCY': 'M', 'INDICATOR_UNIT': '-', 'YTD_TARGET': 3.2, 'YTD_ACTUAL': 2.1, 'MONTHLY_TARGET': 3.2, 'MONTHLY_ACTUAL': 1.92}, {'AGENCY_NAME': 'Metro-North Railroad', 'INDICATOR_NAME': 'Customer Injury Rate', 'DESCRIPTION': 'Any injury to a customer as a result of an incident within/on railroad property. Included are injuries that result from an assault or crime. The rate is injuries per million customers.', 'PERIOD_YEAR': 2009, 'PERIOD_MONTH': 3, 'CATEGORY': 'Safety Indicators', 'FREQUENCY': 'M', 'INDICATOR_UNIT': '-', 'YTD_TARGET': 3.2, 'YTD_ACTUAL': 2.22, 'MONTHLY_TARGET': 3.2, 'MONTHLY_ACTUAL': 1.97}, {'AGENCY_NAME': 'Metro-North Railroad', 'INDICATOR_NAME': 'Customer Injury Rate', 'DESCRIPTION': 'Any injury to a customer as a result of an incident within/on railroad property. Included are injuries that result from an assault or crime. The rate is injuries per million customers.', 'PERIOD_YEAR': 2009, 'PERIOD_MONTH': 4, 'CATEGORY': 'Safety Indicators', 'FREQUENCY': 'M', 'INDICATOR_UNIT': '-', 'YTD_TARGET': 3.2, 'YTD_ACTUAL': 2.03, 'MONTHLY_TARGET': 3.2, 'MONTHLY_ACTUAL': 1.5}, {'AGENCY_NAME': 'Metro-North Railroad', 'INDICATOR_NAME': 'Customer Injury Rate', 'DESCRIPTION': 'Any injury to a customer as a result of an incident within/on railroad property. Included are injuries that result from an assault or crime. The rate is injuries per million customers.', 'PERIOD_YEAR': 2009, 'PERIOD_MONTH': 5, 'CATEGORY': 'Safety Indicators', 'FREQUENCY': 'M', 'INDICATOR_UNIT': '-', 'YTD_TARGET': 3.2, 'YTD_ACTUAL': 2.16, 'MONTHLY_TARGET': 3.2, 'MONTHLY_ACTUAL': 2.5}, {'AGENCY_NAME': 'Metro-North Railroad', 'INDICATOR_NAME': 'Customer Injury Rate', 'DESCRIPTION': 'Any injury to a customer as a result of an incident within/on railroad property. Included are injuries that result from an assault or crime. The rate is injuries per million customers.', 'PERIOD_YEAR': 2009, 'PERIOD_MONTH': 6, 'CATEGORY': 'Safety Indicators', 'FREQUENCY': 'M', 'INDICATOR_UNIT': '-', 'YTD_TARGET': 3.2, 'YTD_ACTUAL': 2.45, 'MONTHLY_TARGET': 3.2, 'MONTHLY_ACTUAL': 3.79}, {'AGENCY_NAME': 'Metro-North Railroad', 'INDICATOR_NAME': 'Customer Injury Rate', 'DESCRIPTION': 'Any injury to a customer as a result of an incident within/on railroad property. Included are injuries that result from an assault or crime. The rate is injuries per million customers.', 'PERIOD_YEAR': 2009, 'PERIOD_MONTH': 7, 'CATEGORY': 'Safety Indicators', 'FREQUENCY': 'M', 'INDICATOR_UNIT': '-', 'YTD_TARGET': 3.2, 'YTD_ACTUAL': 2.57, 'MONTHLY_TARGET': 3.2, 'MONTHLY_ACTUAL': 2.93}, {'AGENCY_NAME': 'Metro-North Railroad', 'INDICATOR_NAME': 'Customer Injury Rate', 'DESCRIPTION': 'Any injury to a customer as a result of an incident within/on railroad property. Included are injuries that result from an assault or crime. The rate is injuries per million customers.', 'PERIOD_YEAR': 2009, 'PERIOD_MONTH': 8, 'CATEGORY': 'Safety Indicators', 'FREQUENCY': 'M', 'INDICATOR_UNIT': '-', 'YTD_TARGET': 3.2, 'YTD_ACTUAL': 2.6, 'MONTHLY_TARGET': 3.2, 'MONTHLY_ACTUAL': 2.82}, {'AGENCY_NAME': 'Metro-North Railroad', 'INDICATOR_NAME': 'Customer Injury Rate', 'DESCRIPTION': 'Any injury to a customer as a result of an incident within/on railroad property. Included are injuries that result from an assault or crime. The rate is injuries per million customers.', 'PERIOD_YEAR': 2009, 'PERIOD_MONTH': 9, 'CATEGORY': 'Safety Indicators', 'FREQUENCY': 'M', 'INDICATOR_UNIT': '-', 'YTD_TARGET': 3.2, 'YTD_ACTUAL': 2.72, 'MONTHLY_TARGET': 3.2, 'MONTHLY_ACTUAL': 3.53}, {'AGENCY_NAME': 'Metro-North Railroad', 'INDICATOR_NAME': 'Customer Injury Rate', 'DESCRIPTION': 'Any injury to a customer as a result of an incident within/on railroad property. Included are injuries that result from an assault or crime. The rate is injuries per million customers.', 'PERIOD_YEAR': 2009, 'PERIOD_MONTH': 10, 'CATEGORY': 'Safety Indicators', 'FREQUENCY': 'M', 'INDICATOR_UNIT': '-', 'YTD_TARGET': 3.2, 'YTD_ACTUAL': 2.68, 'MONTHLY_TARGET': 3.2, 'MONTHLY_ACTUAL': 2.36}, {'AGENCY_NAME': 'Metro-North Railroad', 'INDICATOR_NAME': 'Customer Injury Rate', 'DESCRIPTION': 'Any injury to a customer as a result of an incident within/on railroad property. Included are injuries that result from an assault or crime. The rate is injuries per million customers.', 'PERIOD_YEAR': 2009, 'PERIOD_MONTH': 11, 'CATEGORY': 'Safety Indicators', 'FREQUENCY': 'M', 'INDICATOR_UNIT': '-', 'YTD_TARGET': 3.2, 'YTD_ACTUAL': 2.67, 'MONTHLY_TARGET': 3.2, 'MONTHLY_ACTUAL': 2.21}, {'AGENCY_NAME': 'Metro-North Railroad', 'INDICATOR_NAME': 'Customer Injury Rate', 'DESCRIPTION': 'Any injury to a customer as a result of an incident within/on railroad property. Included are injuries that result from an assault or crime. The rate is injuries per million customers.', 'PERIOD_YEAR': 2009, 'PERIOD_MONTH': 12, 'CATEGORY': 'Safety Indicators', 'FREQUENCY': 'M', 'INDICATOR_UNIT': '-', 'YTD_TARGET': 3.2, 'YTD_ACTUAL': 2.77, 'MONTHLY_TARGET': 3.2, 'MONTHLY_ACTUAL': 3.55}, {'AGENCY_NAME': 'Metro-North Railroad', 'INDICATOR_NAME': 'Customer Injury Rate', 'DESCRIPTION': 'Any injury to a customer as a result of an incident within/on railroad property. Included are injuries that result from an assault or crime. The rate is injuries per million customers.', 'PERIOD_YEAR': 2010, 'PERIOD_MONTH': 1, 'CATEGORY': 'Safety Indicators', 'FREQUENCY': 'M', 'INDICATOR_UNIT': '-', 'YTD_TARGET': 2.8, 'YTD_ACTUAL': 1.85, 'MONTHLY_TARGET': 2.8, 'MONTHLY_ACTUAL': 1.85}, {'AGENCY_NAME': 'Metro-North Railroad', 'INDICATOR_NAME': 'Customer Injury Rate', 'DESCRIPTION': 'Any injury to a customer as a result of an incident within/on railroad property. Included are injuries that result from an assault or crime. The rate is injuries per million customers.', 'PERIOD_YEAR': 2010, 'PERIOD_MONTH': 2, 'CATEGORY': 'Safety Indicators', 'FREQUENCY': 'M', 'INDICATOR_UNIT': '-', 'YTD_TARGET': 2.8, 'YTD_ACTUAL': 1.56, 'MONTHLY_TARGET': 2.8, 'MONTHLY_ACTUAL': 1.26}, {'AGENCY_NAME': 'Metro-North Railroad', 'INDICATOR_NAME': 'Customer Injury Rate', 'DESCRIPTION': 'Any injury to a customer as a result of an incident within/on railroad property. Included are injuries that result from an assault or crime. The rate is injuries per million customers.', 'PERIOD_YEAR': 2010, 'PERIOD_MONTH': 3, 'CATEGORY': 'Safety Indicators', 'FREQUENCY': 'M', 'INDICATOR_UNIT': '-', 'YTD_TARGET': 2.8, 'YTD_ACTUAL': 1.43, 'MONTHLY_TARGET': 2.8, 'MONTHLY_ACTUAL': 1.18}, {'AGENCY_NAME': 'Metro-North Railroad', 'INDICATOR_NAME': 'Customer Injury Rate', 'DESCRIPTION': 'Any injury to a customer as a result of an incident within/on railroad property. Included are injuries that result from an assault or crime. The rate is injuries per million customers.', 'PERIOD_YEAR': 2010, 'PERIOD_MONTH': 4, 'CATEGORY': 'Safety Indicators', 'FREQUENCY': 'M', 'INDICATOR_UNIT': '-', 'YTD_TARGET': 2.8, 'YTD_ACTUAL': 1.81, 'MONTHLY_TARGET': 2.8, 'MONTHLY_ACTUAL': 2.85}, {'AGENCY_NAME': 'Metro-North Railroad', 'INDICATOR_NAME': 'Customer Injury Rate', 'DESCRIPTION': 'Any injury to a customer as a result of an incident within/on railroad property. Included are injuries that result from an assault or crime. The rate is injuries per million customers.', 'PERIOD_YEAR': 2010, 'PERIOD_MONTH': 5, 'CATEGORY': 'Safety Indicators', 'FREQUENCY': 'M', 'INDICATOR_UNIT': '-', 'YTD_TARGET': 2.8, 'YTD_ACTUAL': 2.16, 'MONTHLY_TARGET': 2.8, 'MONTHLY_ACTUAL': 2.89}, {'AGENCY_NAME': 'Metro-North Railroad', 'INDICATOR_NAME': 'Customer Injury Rate', 'DESCRIPTION': 'Any injury to a customer as a result of an incident within/on railroad property. Included are injuries that result from an assault or crime. The rate is injuries per million customers.', 'PERIOD_YEAR': 2010, 'PERIOD_MONTH': 6, 'CATEGORY': 'Safety Indicators', 'FREQUENCY': 'M', 'INDICATOR_UNIT': '-', 'YTD_TARGET': 2.8, 'YTD_ACTUAL': 2.26, 'MONTHLY_TARGET': 2.8, 'MONTHLY_ACTUAL': 2.72}, {'AGENCY_NAME': 'Metro-North Railroad', 'INDICATOR_NAME': 'Customer Injury Rate', 'DESCRIPTION': 'Any injury to a customer as a result of an incident within/on railroad property. Included are injuries that result from an assault or crime. The rate is injuries per million customers.', 'PERIOD_YEAR': 2010, 'PERIOD_MONTH': 7, 'CATEGORY': 'Safety Indicators', 'FREQUENCY': 'M', 'INDICATOR_UNIT': '-', 'YTD_TARGET': 2.8, 'YTD_ACTUAL': 2.49, 'MONTHLY_TARGET': 2.8, 'MONTHLY_ACTUAL': 2.93}, {'AGENCY_NAME': 'Metro-North Railroad', 'INDICATOR_NAME': 'Customer Injury Rate', 'DESCRIPTION': 'Any injury to a customer as a result of an incident within/on railroad property. Included are injuries that result from an assault or crime. The rate is injuries per million customers.', 'PERIOD_YEAR': 2010, 'PERIOD_MONTH': 8, 'CATEGORY': 'Safety Indicators', 'FREQUENCY': 'M', 'INDICATOR_UNIT': '-', 'YTD_TARGET': 2.8, 'YTD_ACTUAL': 2.78, 'MONTHLY_TARGET': 2.8, 'MONTHLY_ACTUAL': 4.59}, {'AGENCY_NAME': 'Metro-North Railroad', 'INDICATOR_NAME': 'Customer Injury Rate', 'DESCRIPTION': 'Any injury to a customer as a result of an incident within/on railroad property. Included are injuries that result from an assault or crime. The rate is injuries per million customers.', 'PERIOD_YEAR': 2010, 'PERIOD_MONTH': 9, 'CATEGORY': 'Safety Indicators', 'FREQUENCY': 'M', 'INDICATOR_UNIT': '-', 'YTD_TARGET': 2.8, 'YTD_ACTUAL': 2.74, 'MONTHLY_TARGET': 2.8, 'MONTHLY_ACTUAL': 2.39}, {'AGENCY_NAME': 'Metro-North Railroad', 'INDICATOR_NAME': 'Customer Injury Rate', 'DESCRIPTION': 'Any injury to a customer as a result of an incident within/on railroad property. Included are injuries that result from an assault or crime. The rate is injuries per million customers.', 'PERIOD_YEAR': 2010, 'PERIOD_MONTH': 10, 'CATEGORY': 'Safety Indicators', 'FREQUENCY': 'M', 'INDICATOR_UNIT': '-', 'YTD_TARGET': 2.8, 'YTD_ACTUAL': 2.76, 'MONTHLY_TARGET': 2.8, 'MONTHLY_ACTUAL': 2.91}, {'AGENCY_NAME': 'Metro-North Railroad', 'INDICATOR_NAME': 'Customer Injury Rate', 'DESCRIPTION': 'Any injury to a customer as a result of an incident within/on railroad property. Included are injuries that result from an assault or crime. The rate is injuries per million customers.', 'PERIOD_YEAR': 2010, 'PERIOD_MONTH': 11, 'CATEGORY': 'Safety Indicators', 'FREQUENCY': 'M', 'INDICATOR_UNIT': '-', 'YTD_TARGET': 2.8, 'YTD_ACTUAL': 2.68, 'MONTHLY_TARGET': 2.8, 'MONTHLY_ACTUAL': 1.95}, {'AGENCY_NAME': 'Metro-North Railroad', 'INDICATOR_NAME': 'Customer Injury Rate', 'DESCRIPTION': 'Any injury to a customer as a result of an incident within/on railroad property. Included are injuries that result from an assault or crime. The rate is injuries per million customers.', 'PERIOD_YEAR': 2010, 'PERIOD_MONTH': 12, 'CATEGORY': 'Safety Indicators', 'FREQUENCY': 'M', 'INDICATOR_UNIT': '-', 'YTD_TARGET': 2.8, 'YTD_ACTUAL': 2.74, 'MONTHLY_TARGET': 2.8, 'MONTHLY_ACTUAL': 3.18}, {'AGENCY_NAME': 'Metro-North Railroad', 'INDICATOR_NAME': 'Customer Injury Rate', 'DESCRIPTION': 'Any injury to a customer as a result of an incident within/on railroad property. Included are injuries that result from an assault or crime. The rate is injuries per million customers.', 'PERIOD_YEAR': 2011, 'PERIOD_MONTH': 1, 'CATEGORY': 'Safety Indicators', 'FREQUENCY': 'M', 'INDICATOR_UNIT': '-', 'YTD_TARGET': 2.8, 'YTD_ACTUAL': 3.2, 'MONTHLY_TARGET': 2.8, 'MONTHLY_ACTUAL': 3.2}, {'AGENCY_NAME': 'Metro-North Railroad', 'INDICATOR_NAME': 'Customer Injury Rate', 'DESCRIPTION': 'Any injury to a customer as a result of an incident within/on railroad property. Included are injuries that result from an assault or crime. The rate is injuries per million customers.', 'PERIOD_YEAR': 2011, 'PERIOD_MONTH': 2, 'CATEGORY': 'Safety Indicators', 'FREQUENCY': 'M', 'INDICATOR_UNIT': '-', 'YTD_TARGET': 2.8, 'YTD_ACTUAL': 3.2, 'MONTHLY_TARGET': 2.8, 'MONTHLY_ACTUAL': 3.2}, {'AGENCY_NAME': 'Metro-North Railroad', 'INDICATOR_NAME': 'Customer Injury Rate', 'DESCRIPTION': 'Any injury to a customer as a result of an incident within/on railroad property. Included are injuries that result from an assault or crime. The rate is injuries per million customers.', 'PERIOD_YEAR': 2011, 'PERIOD_MONTH': 3, 'CATEGORY': 'Safety Indicators', 'FREQUENCY': 'M', 'INDICATOR_UNIT': '-', 'YTD_TARGET': 2.8, 'YTD_ACTUAL': 3.73, 'MONTHLY_TARGET': 2.8, 'MONTHLY_ACTUAL': 3.63}, {'AGENCY_NAME': 'Metro-North Railroad', 'INDICATOR_NAME': 'Customer Injury Rate', 'DESCRIPTION': 'Any injury to a customer as a result of an incident within/on railroad property. Included are injuries that result from an assault or crime. The rate is injuries per million customers.', 'PERIOD_YEAR': 2011, 'PERIOD_MONTH': 4, 'CATEGORY': 'Safety Indicators', 'FREQUENCY': 'M', 'INDICATOR_UNIT': '-', 'YTD_TARGET': 2.8, 'YTD_ACTUAL': 3.34, 'MONTHLY_TARGET': 2.8, 'MONTHLY_ACTUAL': 2.26}, {'AGENCY_NAME': 'Metro-North Railroad', 'INDICATOR_NAME': 'Customer Injury Rate', 'DESCRIPTION': 'Any injury to a customer as a result of an incident within/on railroad property. Included are injuries that result from an assault or crime. The rate is injuries per million customers.', 'PERIOD_YEAR': 2011, 'PERIOD_MONTH': 5, 'CATEGORY': 'Safety Indicators', 'FREQUENCY': 'M', 'INDICATOR_UNIT': '-', 'YTD_TARGET': 2.8, 'YTD_ACTUAL': '', 'MONTHLY_TARGET': 2.8, 'MONTHLY_ACTUAL': ''}, {'AGENCY_NAME': 'Metro-North Railroad', 'INDICATOR_NAME': 'Customer Injury Rate', 'DESCRIPTION': 'Any injury to a customer as a result of an incident within/on railroad property. Included are injuries that result from an assault or crime. The rate is injuries per million customers.', 'PERIOD_YEAR': 2011, 'PERIOD_MONTH': 6, 'CATEGORY': 'Safety Indicators', 'FREQUENCY': 'M', 'INDICATOR_UNIT': '-', 'YTD_TARGET': 2.8, 'YTD_ACTUAL': '', 'MONTHLY_TARGET': 2.8, 'MONTHLY_ACTUAL': ''}, {'AGENCY_NAME': 'Metro-North Railroad', 'INDICATOR_NAME': 'Customer Injury Rate', 'DESCRIPTION': 'Any injury to a customer as a result of an incident within/on railroad property. Included are injuries that result from an assault or crime. The rate is injuries per million customers.', 'PERIOD_YEAR': 2011, 'PERIOD_MONTH': 7, 'CATEGORY': 'Safety Indicators', 'FREQUENCY': 'M', 'INDICATOR_UNIT': '-', 'YTD_TARGET': 2.8, 'YTD_ACTUAL': '', 'MONTHLY_TARGET': 2.8, 'MONTHLY_ACTUAL': ''}, {'AGENCY_NAME': 'Metro-North Railroad', 'INDICATOR_NAME': 'Customer Injury Rate', 'DESCRIPTION': 'Any injury to a customer as a result of an incident within/on railroad property. Included are injuries that result from an assault or crime. The rate is injuries per million customers.', 'PERIOD_YEAR': 2011, 'PERIOD_MONTH': 8, 'CATEGORY': 'Safety Indicators', 'FREQUENCY': 'M', 'INDICATOR_UNIT': '-', 'YTD_TARGET': 2.8, 'YTD_ACTUAL': '', 'MONTHLY_TARGET': 2.8, 'MONTHLY_ACTUAL': ''}, {'AGENCY_NAME': 'Metro-North Railroad', 'INDICATOR_NAME': 'Customer Injury Rate', 'DESCRIPTION': 'Any injury to a customer as a result of an incident within/on railroad property. Included are injuries that result from an assault or crime. The rate is injuries per million customers.', 'PERIOD_YEAR': 2011, 'PERIOD_MONTH': 9, 'CATEGORY': 'Safety Indicators', 'FREQUENCY': 'M', 'INDICATOR_UNIT': '-', 'YTD_TARGET': 2.8, 'YTD_ACTUAL': '', 'MONTHLY_TARGET': 2.8, 'MONTHLY_ACTUAL': ''}, {'AGENCY_NAME': 'Metro-North Railroad', 'INDICATOR_NAME': 'Customer Injury Rate', 'DESCRIPTION': 'Any injury to a customer as a result of an incident within/on railroad property. Included are injuries that result from an assault or crime. The rate is injuries per million customers.', 'PERIOD_YEAR': 2011, 'PERIOD_MONTH': 10, 'CATEGORY': 'Safety Indicators', 'FREQUENCY': 'M', 'INDICATOR_UNIT': '-', 'YTD_TARGET': 2.8, 'YTD_ACTUAL': '', 'MONTHLY_TARGET': 2.8, 'MONTHLY_ACTUAL': ''}, {'AGENCY_NAME': 'Metro-North Railroad', 'INDICATOR_NAME': 'Customer Injury Rate', 'DESCRIPTION': 'Any injury to a customer as a result of an incident within/on railroad property. Included are injuries that result from an assault or crime. The rate is injuries per million customers.', 'PERIOD_YEAR': 2011, 'PERIOD_MONTH': 11, 'CATEGORY': 'Safety Indicators', 'FREQUENCY': 'M', 'INDICATOR_UNIT': '-', 'YTD_TARGET': 2.8, 'YTD_ACTUAL': '', 'MONTHLY_TARGET': 2.8, 'MONTHLY_ACTUAL': ''}, {'AGENCY_NAME': 'Metro-North Railroad', 'INDICATOR_NAME': 'Customer Injury Rate', 'DESCRIPTION': 'Any injury to a customer as a result of an incident within/on railroad property. Included are injuries that result from an assault or crime. The rate is injuries per million customers.', 'PERIOD_YEAR': 2011, 'PERIOD_MONTH': 12, 'CATEGORY': 'Safety Indicators', 'FREQUENCY': 'M', 'INDICATOR_UNIT': '-', 'YTD_TARGET': 2.8, 'YTD_ACTUAL': '', 'MONTHLY_TARGET': 2.8, 'MONTHLY_ACTUAL': ''}, {'AGENCY_NAME': 'Metro-North Railroad', 'INDICATOR_NAME': 'Customer Injury Rate', 'DESCRIPTION': 'Any injury to a customer as a result of an incident within/on railroad property. Included are injuries that result from an assault or crime. The rate is injuries per million customers.', 'PERIOD_YEAR': 2012, 'PERIOD_MONTH': 1, 'CATEGORY': 'Safety Indicators', 'FREQUENCY': 'M', 'INDICATOR_UNIT': '-', 'YTD_TARGET': '', 'YTD_ACTUAL': '', 'MONTHLY_TARGET': '', 'MONTHLY_ACTUAL': ''}, {'AGENCY_NAME': 'Metro-North Railroad', 'INDICATOR_NAME': 'Customer Injury Rate', 'DESCRIPTION': 'Any injury to a customer as a result of an incident within/on railroad property. Included are injuries that result from an assault or crime. The rate is injuries per million customers.', 'PERIOD_YEAR': 2012, 'PERIOD_MONTH': 2, 'CATEGORY': 'Safety Indicators', 'FREQUENCY': 'M', 'INDICATOR_UNIT': '-', 'YTD_TARGET': '', 'YTD_ACTUAL': '', 'MONTHLY_TARGET': '', 'MONTHLY_ACTUAL': ''}, {'AGENCY_NAME': 'Metro-North Railroad', 'INDICATOR_NAME': 'Customer Injury Rate', 'DESCRIPTION': 'Any injury to a customer as a result of an incident within/on railroad property. Included are injuries that result from an assault or crime. The rate is injuries per million customers.', 'PERIOD_YEAR': 2012, 'PERIOD_MONTH': 3, 'CATEGORY': 'Safety Indicators', 'FREQUENCY': 'M', 'INDICATOR_UNIT': '-', 'YTD_TARGET': '', 'YTD_ACTUAL': '', 'MONTHLY_TARGET': '', 'MONTHLY_ACTUAL': ''}, {'AGENCY_NAME': 'Metro-North Railroad', 'INDICATOR_NAME': 'Customer Injury Rate', 'DESCRIPTION': 'Any injury to a customer as a result of an incident within/on railroad property. Included are injuries that result from an assault or crime. The rate is injuries per million customers.', 'PERIOD_YEAR': 2012, 'PERIOD_MONTH': 4, 'CATEGORY': 'Safety Indicators', 'FREQUENCY': 'M', 'INDICATOR_UNIT': '-', 'YTD_TARGET': '', 'YTD_ACTUAL': '', 'MONTHLY_TARGET': '', 'MONTHLY_ACTUAL': ''}, {'AGENCY_NAME': 'Metro-North Railroad', 'INDICATOR_NAME': 'Customer Injury Rate', 'DESCRIPTION': 'Any injury to a customer as a result of an incident within/on railroad property. Included are injuries that result from an assault or crime. The rate is injuries per million customers.', 'PERIOD_YEAR': 2012, 'PERIOD_MONTH': 5, 'CATEGORY': 'Safety Indicators', 'FREQUENCY': 'M', 'INDICATOR_UNIT': '-', 'YTD_TARGET': '', 'YTD_ACTUAL': '', 'MONTHLY_TARGET': '', 'MONTHLY_ACTUAL': ''}, {'AGENCY_NAME': 'Metro-North Railroad', 'INDICATOR_NAME': 'Customer Injury Rate', 'DESCRIPTION': 'Any injury to a customer as a result of an incident within/on railroad property. Included are injuries that result from an assault or crime. The rate is injuries per million customers.', 'PERIOD_YEAR': 2012, 'PERIOD_MONTH': 6, 'CATEGORY': 'Safety Indicators', 'FREQUENCY': 'M', 'INDICATOR_UNIT': '-', 'YTD_TARGET': '', 'YTD_ACTUAL': '', 'MONTHLY_TARGET': '', 'MONTHLY_ACTUAL': ''}, {'AGENCY_NAME': 'Metro-North Railroad', 'INDICATOR_NAME': 'Customer Injury Rate', 'DESCRIPTION': 'Any injury to a customer as a result of an incident within/on railroad property. Included are injuries that result from an assault or crime. The rate is injuries per million customers.', 'PERIOD_YEAR': 2012, 'PERIOD_MONTH': 7, 'CATEGORY': 'Safety Indicators', 'FREQUENCY': 'M', 'INDICATOR_UNIT': '-', 'YTD_TARGET': '', 'YTD_ACTUAL': '', 'MONTHLY_TARGET': '', 'MONTHLY_ACTUAL': ''}, {'AGENCY_NAME': 'Metro-North Railroad', 'INDICATOR_NAME': 'Customer Injury Rate', 'DESCRIPTION': 'Any injury to a customer as a result of an incident within/on railroad property. Included are injuries that result from an assault or crime. The rate is injuries per million customers.', 'PERIOD_YEAR': 2012, 'PERIOD_MONTH': 8, 'CATEGORY': 'Safety Indicators', 'FREQUENCY': 'M', 'INDICATOR_UNIT': '-', 'YTD_TARGET': '', 'YTD_ACTUAL': '', 'MONTHLY_TARGET': '', 'MONTHLY_ACTUAL': ''}, {'AGENCY_NAME': 'Metro-North Railroad', 'INDICATOR_NAME': 'Customer Injury Rate', 'DESCRIPTION': 'Any injury to a customer as a result of an incident within/on railroad property. Included are injuries that result from an assault or crime. The rate is injuries per million customers.', 'PERIOD_YEAR': 2012, 'PERIOD_MONTH': 9, 'CATEGORY': 'Safety Indicators', 'FREQUENCY': 'M', 'INDICATOR_UNIT': '-', 'YTD_TARGET': '', 'YTD_ACTUAL': '', 'MONTHLY_TARGET': '', 'MONTHLY_ACTUAL': ''}, {'AGENCY_NAME': 'Metro-North Railroad', 'INDICATOR_NAME': 'Customer Injury Rate', 'DESCRIPTION': 'Any injury to a customer as a result of an incident within/on railroad property. Included are injuries that result from an assault or crime. The rate is injuries per million customers.', 'PERIOD_YEAR': 2012, 'PERIOD_MONTH': 10, 'CATEGORY': 'Safety Indicators', 'FREQUENCY': 'M', 'INDICATOR_UNIT': '-', 'YTD_TARGET': '', 'YTD_ACTUAL': '', 'MONTHLY_TARGET': '', 'MONTHLY_ACTUAL': ''}, {'AGENCY_NAME': 'Metro-North Railroad', 'INDICATOR_NAME': 'Customer Injury Rate', 'DESCRIPTION': 'Any injury to a customer as a result of an incident within/on railroad property. Included are injuries that result from an assault or crime. The rate is injuries per million customers.', 'PERIOD_YEAR': 2012, 'PERIOD_MONTH': 11, 'CATEGORY': 'Safety Indicators', 'FREQUENCY': 'M', 'INDICATOR_UNIT': '-', 'YTD_TARGET': '', 'YTD_ACTUAL': '', 'MONTHLY_TARGET': '', 'MONTHLY_ACTUAL': ''}, {'AGENCY_NAME': 'Metro-North Railroad', 'INDICATOR_NAME': 'Customer Injury Rate', 'DESCRIPTION': 'Any injury to a customer as a result of an incident within/on railroad property. Included are injuries that result from an assault or crime. The rate is injuries per million customers.', 'PERIOD_YEAR': 2012, 'PERIOD_MONTH': 12, 'CATEGORY': 'Safety Indicators', 'FREQUENCY': 'M', 'INDICATOR_UNIT': '-', 'YTD_TARGET': '', 'YTD_ACTUAL': '', 'MONTHLY_TARGET': '', 'MONTHLY_ACTUAL': ''}, {'AGENCY_NAME': 'Metro-North Railroad', 'INDICATOR_NAME': 'Employee Lost Time and Restricted Duty Rate', 'DESCRIPTION': 'An employee lost time injury or illness is one that prevents an employee from returning to work for at least one full shift. The rate is injuries and illnesses per 200,000 worker hours.', 'PERIOD_YEAR': 2008, 'PERIOD_MONTH': 1, 'CATEGORY': 'Safety Indicators', 'FREQUENCY': 'M', 'INDICATOR_UNIT': '-', 'YTD_TARGET': 2.0, 'YTD_ACTUAL': 0.19, 'MONTHLY_TARGET': 2.0, 'MONTHLY_ACTUAL': 0.19}, {'AGENCY_NAME': 'Metro-North Railroad', 'INDICATOR_NAME': 'Employee Lost Time and Restricted Duty Rate', 'DESCRIPTION': 'An employee lost time injury or illness is one that prevents an employee from returning to work for at least one full shift. The rate is injuries and illnesses per 200,000 worker hours.', 'PERIOD_YEAR': 2008, 'PERIOD_MONTH': 2, 'CATEGORY': 'Safety Indicators', 'FREQUENCY': 'M', 'INDICATOR_UNIT': '-', 'YTD_TARGET': 2.0, 'YTD_ACTUAL': 0.49, 'MONTHLY_TARGET': 2.0, 'MONTHLY_ACTUAL': 0.81}, {'AGENCY_NAME': 'Metro-North Railroad', 'INDICATOR_NAME': 'Employee Lost Time and Restricted Duty Rate', 'DESCRIPTION': 'An employee lost time injury or illness is one that prevents an employee from returning to work for at least one full shift. The rate is injuries and illnesses per 200,000 worker hours.', 'PERIOD_YEAR': 2008, 'PERIOD_MONTH': 3, 'CATEGORY': 'Safety Indicators', 'FREQUENCY': 'M', 'INDICATOR_UNIT': '-', 'YTD_TARGET': 2.0, 'YTD_ACTUAL': 0.84, 'MONTHLY_TARGET': 2.0, 'MONTHLY_ACTUAL': 1.55}, {'AGENCY_NAME': 'Metro-North Railroad', 'INDICATOR_NAME': 'Employee Lost Time and Restricted Duty Rate', 'DESCRIPTION': 'An employee lost time injury or illness is one that prevents an employee from returning to work for at least one full shift. The rate is injuries and illnesses per 200,000 worker hours.', 'PERIOD_YEAR': 2008, 'PERIOD_MONTH': 4, 'CATEGORY': 'Safety Indicators', 'FREQUENCY': 'M', 'INDICATOR_UNIT': '-', 'YTD_TARGET': 2.0, 'YTD_ACTUAL': 1.06, 'MONTHLY_TARGET': 2.0, 'MONTHLY_ACTUAL': 1.69}, {'AGENCY_NAME': 'Metro-North Railroad', 'INDICATOR_NAME': 'Employee Lost Time and Restricted Duty Rate', 'DESCRIPTION': 'An employee lost time injury or illness is one that prevents an employee from returning to work for at least one full shift. The rate is injuries and illnesses per 200,000 worker hours.', 'PERIOD_YEAR': 2008, 'PERIOD_MONTH': 5, 'CATEGORY': 'Safety Indicators', 'FREQUENCY': 'M', 'INDICATOR_UNIT': '-', 'YTD_TARGET': 2.0, 'YTD_ACTUAL': 1.0, 'MONTHLY_TARGET': 2.0, 'MONTHLY_ACTUAL': 0.9}, {'AGENCY_NAME': 'Metro-North Railroad', 'INDICATOR_NAME': 'Employee Lost Time and Restricted Duty Rate', 'DESCRIPTION': 'An employee lost time injury or illness is one that prevents an employee from returning to work for at least one full shift. The rate is injuries and illnesses per 200,000 worker hours.', 'PERIOD_YEAR': 2008, 'PERIOD_MONTH': 6, 'CATEGORY': 'Safety Indicators', 'FREQUENCY': 'M', 'INDICATOR_UNIT': '-', 'YTD_TARGET': 2.0, 'YTD_ACTUAL': 1.05, 'MONTHLY_TARGET': 2.0, 'MONTHLY_ACTUAL': 1.13}, {'AGENCY_NAME': 'Metro-North Railroad', 'INDICATOR_NAME': 'Employee Lost Time and Restricted Duty Rate', 'DESCRIPTION': 'An employee lost time injury or illness is one that prevents an employee from returning to work for at least one full shift. The rate is injuries and illnesses per 200,000 worker hours.', 'PERIOD_YEAR': 2008, 'PERIOD_MONTH': 7, 'CATEGORY': 'Safety Indicators', 'FREQUENCY': 'M', 'INDICATOR_UNIT': '-', 'YTD_TARGET': 2.0, 'YTD_ACTUAL': 1.17, 'MONTHLY_TARGET': 2.0, 'MONTHLY_ACTUAL': 1.89}, {'AGENCY_NAME': 'Metro-North Railroad', 'INDICATOR_NAME': 'Employee Lost Time and Restricted Duty Rate', 'DESCRIPTION': 'An employee lost time injury or illness is one that prevents an employee from returning to work for at least one full shift. The rate is injuries and illnesses per 200,000 worker hours.', 'PERIOD_YEAR': 2008, 'PERIOD_MONTH': 8, 'CATEGORY': 'Safety Indicators', 'FREQUENCY': 'M', 'INDICATOR_UNIT': '-', 'YTD_TARGET': 2.0, 'YTD_ACTUAL': 1.89, 'MONTHLY_TARGET': 2.0, 'MONTHLY_ACTUAL': 1.36}, {'AGENCY_NAME': 'Metro-North Railroad', 'INDICATOR_NAME': 'Employee Lost Time and Restricted Duty Rate', 'DESCRIPTION': 'An employee lost time injury or illness is one that prevents an employee from returning to work for at least one full shift. The rate is injuries and illnesses per 200,000 worker hours.', 'PERIOD_YEAR': 2008, 'PERIOD_MONTH': 9, 'CATEGORY': 'Safety Indicators', 'FREQUENCY': 'M', 'INDICATOR_UNIT': '-', 'YTD_TARGET': 2.0, 'YTD_ACTUAL': 1.16, 'MONTHLY_TARGET': 2.0, 'MONTHLY_ACTUAL': 1.23}, {'AGENCY_NAME': 'Metro-North Railroad', 'INDICATOR_NAME': 'Employee Lost Time and Restricted Duty Rate', 'DESCRIPTION': 'An employee lost time injury or illness is one that prevents an employee from returning to work for at least one full shift. The rate is injuries and illnesses per 200,000 worker hours.', 'PERIOD_YEAR': 2008, 'PERIOD_MONTH': 10, 'CATEGORY': 'Safety Indicators', 'FREQUENCY': 'M', 'INDICATOR_UNIT': '-', 'YTD_TARGET': 2.0, 'YTD_ACTUAL': 1.28, 'MONTHLY_TARGET': 2.0, 'MONTHLY_ACTUAL': 2.11}, {'AGENCY_NAME': 'Metro-North Railroad', 'INDICATOR_NAME': 'Employee Lost Time and Restricted Duty Rate', 'DESCRIPTION': 'An employee lost time injury or illness is one that prevents an employee from returning to work for at least one full shift. The rate is injuries and illnesses per 200,000 worker hours.', 'PERIOD_YEAR': 2008, 'PERIOD_MONTH': 11, 'CATEGORY': 'Safety Indicators', 'FREQUENCY': 'M', 'INDICATOR_UNIT': '-', 'YTD_TARGET': 2.0, 'YTD_ACTUAL': 1.24, 'MONTHLY_TARGET': 2.0, 'MONTHLY_ACTUAL': 1.03}, {'AGENCY_NAME': 'Metro-North Railroad', 'INDICATOR_NAME': 'Employee Lost Time and Restricted Duty Rate', 'DESCRIPTION': 'An employee lost time injury or illness is one that prevents an employee from returning to work for at least one full shift. The rate is injuries and illnesses per 200,000 worker hours.', 'PERIOD_YEAR': 2008, 'PERIOD_MONTH': 12, 'CATEGORY': 'Safety Indicators', 'FREQUENCY': 'M', 'INDICATOR_UNIT': '-', 'YTD_TARGET': 2.0, 'YTD_ACTUAL': 1.22, 'MONTHLY_TARGET': 2.0, 'MONTHLY_ACTUAL': 0.79}, {'AGENCY_NAME': 'Metro-North Railroad', 'INDICATOR_NAME': 'Employee Lost Time and Restricted Duty Rate', 'DESCRIPTION': 'An employee lost time injury or illness is one that prevents an employee from returning to work for at least one full shift. The rate is injuries and illnesses per 200,000 worker hours.', 'PERIOD_YEAR': 2009, 'PERIOD_MONTH': 1, 'CATEGORY': 'Safety Indicators', 'FREQUENCY': 'M', 'INDICATOR_UNIT': '-', 'YTD_TARGET': 1.9, 'YTD_ACTUAL': 3.14, 'MONTHLY_TARGET': 1.9, 'MONTHLY_ACTUAL': 3.14}, {'AGENCY_NAME': 'Metro-North Railroad', 'INDICATOR_NAME': 'Employee Lost Time and Restricted Duty Rate', 'DESCRIPTION': 'An employee lost time injury or illness is one that prevents an employee from returning to work for at least one full shift. The rate is injuries and illnesses per 200,000 worker hours.', 'PERIOD_YEAR': 2009, 'PERIOD_MONTH': 2, 'CATEGORY': 'Safety Indicators', 'FREQUENCY': 'M', 'INDICATOR_UNIT': '-', 'YTD_TARGET': 1.9, 'YTD_ACTUAL': 2.42, 'MONTHLY_TARGET': 1.9, 'MONTHLY_ACTUAL': 1.63}, {'AGENCY_NAME': 'Metro-North Railroad', 'INDICATOR_NAME': 'Employee Lost Time and Restricted Duty Rate', 'DESCRIPTION': 'An employee lost time injury or illness is one that prevents an employee from returning to work for at least one full shift. The rate is injuries and illnesses per 200,000 worker hours.', 'PERIOD_YEAR': 2009, 'PERIOD_MONTH': 3, 'CATEGORY': 'Safety Indicators', 'FREQUENCY': 'M', 'INDICATOR_UNIT': '-', 'YTD_TARGET': 1.9, 'YTD_ACTUAL': 2.31, 'MONTHLY_TARGET': 1.9, 'MONTHLY_ACTUAL': 2.3}, {'AGENCY_NAME': 'Metro-North Railroad', 'INDICATOR_NAME': 'Employee Lost Time and Restricted Duty Rate', 'DESCRIPTION': 'An employee lost time injury or illness is one that prevents an employee from returning to work for at least one full shift. The rate is injuries and illnesses per 200,000 worker hours.', 'PERIOD_YEAR': 2009, 'PERIOD_MONTH': 4, 'CATEGORY': 'Safety Indicators', 'FREQUENCY': 'M', 'INDICATOR_UNIT': '-', 'YTD_TARGET': 1.9, 'YTD_ACTUAL': 2.3, 'MONTHLY_TARGET': 1.9, 'MONTHLY_ACTUAL': 2.2}, {'AGENCY_NAME': 'Metro-North Railroad', 'INDICATOR_NAME': 'Employee Lost Time and Restricted Duty Rate', 'DESCRIPTION': 'An employee lost time injury or illness is one that prevents an employee from returning to work for at least one full shift. The rate is injuries and illnesses per 200,000 worker hours.', 'PERIOD_YEAR': 2009, 'PERIOD_MONTH': 5, 'CATEGORY': 'Safety Indicators', 'FREQUENCY': 'M', 'INDICATOR_UNIT': '-', 'YTD_TARGET': 1.9, 'YTD_ACTUAL': 2.23, 'MONTHLY_TARGET': 1.9, 'MONTHLY_ACTUAL': 1.93}, {'AGENCY_NAME': 'Metro-North Railroad', 'INDICATOR_NAME': 'Employee Lost Time and Restricted Duty Rate', 'DESCRIPTION': 'An employee lost time injury or illness is one that prevents an employee from returning to work for at least one full shift. The rate is injuries and illnesses per 200,000 worker hours.', 'PERIOD_YEAR': 2009, 'PERIOD_MONTH': 6, 'CATEGORY': 'Safety Indicators', 'FREQUENCY': 'M', 'INDICATOR_UNIT': '-', 'YTD_TARGET': 1.9, 'YTD_ACTUAL': 2.07, 'MONTHLY_TARGET': 1.9, 'MONTHLY_ACTUAL': 1.3}, {'AGENCY_NAME': 'Metro-North Railroad', 'INDICATOR_NAME': 'Employee Lost Time and Restricted Duty Rate', 'DESCRIPTION': 'An employee lost time injury or illness is one that prevents an employee from returning to work for at least one full shift. The rate is injuries and illnesses per 200,000 worker hours.', 'PERIOD_YEAR': 2009, 'PERIOD_MONTH': 7, 'CATEGORY': 'Safety Indicators', 'FREQUENCY': 'M', 'INDICATOR_UNIT': '-', 'YTD_TARGET': 1.9, 'YTD_ACTUAL': 2.19, 'MONTHLY_TARGET': 1.9, 'MONTHLY_ACTUAL': 2.88}, {'AGENCY_NAME': 'Metro-North Railroad', 'INDICATOR_NAME': 'Employee Lost Time and Restricted Duty Rate', 'DESCRIPTION': 'An employee lost time injury or illness is one that prevents an employee from returning to work for at least one full shift. The rate is injuries and illnesses per 200,000 worker hours.', 'PERIOD_YEAR': 2009, 'PERIOD_MONTH': 8, 'CATEGORY': 'Safety Indicators', 'FREQUENCY': 'M', 'INDICATOR_UNIT': '-', 'YTD_TARGET': 1.9, 'YTD_ACTUAL': 2.28, 'MONTHLY_TARGET': 1.9, 'MONTHLY_ACTUAL': 3.14}, {'AGENCY_NAME': 'Metro-North Railroad', 'INDICATOR_NAME': 'Employee Lost Time and Restricted Duty Rate', 'DESCRIPTION': 'An employee lost time injury or illness is one that prevents an employee from returning to work for at least one full shift. The rate is injuries and illnesses per 200,000 worker hours.', 'PERIOD_YEAR': 2009, 'PERIOD_MONTH': 9, 'CATEGORY': 'Safety Indicators', 'FREQUENCY': 'M', 'INDICATOR_UNIT': '-', 'YTD_TARGET': 1.9, 'YTD_ACTUAL': 2.22, 'MONTHLY_TARGET': 1.9, 'MONTHLY_ACTUAL': 1.72}, {'AGENCY_NAME': 'Metro-North Railroad', 'INDICATOR_NAME': 'Employee Lost Time and Restricted Duty Rate', 'DESCRIPTION': 'An employee lost time injury or illness is one that prevents an employee from returning to work for at least one full shift. The rate is injuries and illnesses per 200,000 worker hours.', 'PERIOD_YEAR': 2009, 'PERIOD_MONTH': 10, 'CATEGORY': 'Safety Indicators', 'FREQUENCY': 'M', 'INDICATOR_UNIT': '-', 'YTD_TARGET': 1.9, 'YTD_ACTUAL': 2.11, 'MONTHLY_TARGET': 1.9, 'MONTHLY_ACTUAL': 1.29}, {'AGENCY_NAME': 'Metro-North Railroad', 'INDICATOR_NAME': 'Employee Lost Time and Restricted Duty Rate', 'DESCRIPTION': 'An employee lost time injury or illness is one that prevents an employee from returning to work for at least one full shift. The rate is injuries and illnesses per 200,000 worker hours.', 'PERIOD_YEAR': 2009, 'PERIOD_MONTH': 11, 'CATEGORY': 'Safety Indicators', 'FREQUENCY': 'M', 'INDICATOR_UNIT': '-', 'YTD_TARGET': 1.9, 'YTD_ACTUAL': 2.15, 'MONTHLY_TARGET': 1.9, 'MONTHLY_ACTUAL': 2.45}, {'AGENCY_NAME': 'Metro-North Railroad', 'INDICATOR_NAME': 'Employee Lost Time and Restricted Duty Rate', 'DESCRIPTION': 'An employee lost time injury or illness is one that prevents an employee from returning to work for at least one full shift. The rate is injuries and illnesses per 200,000 worker hours.', 'PERIOD_YEAR': 2009, 'PERIOD_MONTH': 12, 'CATEGORY': 'Safety Indicators', 'FREQUENCY': 'M', 'INDICATOR_UNIT': '-', 'YTD_TARGET': 1.9, 'YTD_ACTUAL': 2.13, 'MONTHLY_TARGET': 1.9, 'MONTHLY_ACTUAL': 1.82}, {'AGENCY_NAME': 'Metro-North Railroad', 'INDICATOR_NAME': 'Employee Lost Time and Restricted Duty Rate', 'DESCRIPTION': 'An employee lost time injury or illness is one that prevents an employee from returning to work for at least one full shift. The rate is injuries and illnesses per 200,000 worker hours.', 'PERIOD_YEAR': 2010, 'PERIOD_MONTH': 1, 'CATEGORY': 'Safety Indicators', 'FREQUENCY': 'M', 'INDICATOR_UNIT': '-', 'YTD_TARGET': 1.8, 'YTD_ACTUAL': 1.2, 'MONTHLY_TARGET': 1.8, 'MONTHLY_ACTUAL': 1.2}, {'AGENCY_NAME': 'Metro-North Railroad', 'INDICATOR_NAME': 'Employee Lost Time and Restricted Duty Rate', 'DESCRIPTION': 'An employee lost time injury or illness is one that prevents an employee from returning to work for at least one full shift. The rate is injuries and illnesses per 200,000 worker hours.', 'PERIOD_YEAR': 2010, 'PERIOD_MONTH': 2, 'CATEGORY': 'Safety Indicators', 'FREQUENCY': 'M', 'INDICATOR_UNIT': '-', 'YTD_TARGET': 1.8, 'YTD_ACTUAL': 1.64, 'MONTHLY_TARGET': 1.8, 'MONTHLY_ACTUAL': 2.11}, {'AGENCY_NAME': 'Metro-North Railroad', 'INDICATOR_NAME': 'Employee Lost Time and Restricted Duty Rate', 'DESCRIPTION': 'An employee lost time injury or illness is one that prevents an employee from returning to work for at least one full shift. The rate is injuries and illnesses per 200,000 worker hours.', 'PERIOD_YEAR': 2010, 'PERIOD_MONTH': 3, 'CATEGORY': 'Safety Indicators', 'FREQUENCY': 'M', 'INDICATOR_UNIT': '-', 'YTD_TARGET': 1.8, 'YTD_ACTUAL': 1.97, 'MONTHLY_TARGET': 1.8, 'MONTHLY_ACTUAL': 2.54}, {'AGENCY_NAME': 'Metro-North Railroad', 'INDICATOR_NAME': 'Employee Lost Time and Restricted Duty Rate', 'DESCRIPTION': 'An employee lost time injury or illness is one that prevents an employee from returning to work for at least one full shift. The rate is injuries and illnesses per 200,000 worker hours.', 'PERIOD_YEAR': 2010, 'PERIOD_MONTH': 4, 'CATEGORY': 'Safety Indicators', 'FREQUENCY': 'M', 'INDICATOR_UNIT': '-', 'YTD_TARGET': 1.8, 'YTD_ACTUAL': 1.86, 'MONTHLY_TARGET': 1.8, 'MONTHLY_ACTUAL': 1.54}, {'AGENCY_NAME': 'Metro-North Railroad', 'INDICATOR_NAME': 'Employee Lost Time and Restricted Duty Rate', 'DESCRIPTION': 'An employee lost time injury or illness is one that prevents an employee from returning to work for at least one full shift. The rate is injuries and illnesses per 200,000 worker hours.', 'PERIOD_YEAR': 2010, 'PERIOD_MONTH': 5, 'CATEGORY': 'Safety Indicators', 'FREQUENCY': 'M', 'INDICATOR_UNIT': '-', 'YTD_TARGET': 1.8, 'YTD_ACTUAL': 1.8, 'MONTHLY_TARGET': 1.8, 'MONTHLY_ACTUAL': 1.37}, {'AGENCY_NAME': 'Metro-North Railroad', 'INDICATOR_NAME': 'Employee Lost Time and Restricted Duty Rate', 'DESCRIPTION': 'An employee lost time injury or illness is one that prevents an employee from returning to work for at least one full shift. The rate is injuries and illnesses per 200,000 worker hours.', 'PERIOD_YEAR': 2010, 'PERIOD_MONTH': 6, 'CATEGORY': 'Safety Indicators', 'FREQUENCY': 'M', 'INDICATOR_UNIT': '-', 'YTD_TARGET': 1.8, 'YTD_ACTUAL': 1.9, 'MONTHLY_TARGET': 1.8, 'MONTHLY_ACTUAL': 2.35}, {'AGENCY_NAME': 'Metro-North Railroad', 'INDICATOR_NAME': 'Employee Lost Time and Restricted Duty Rate', 'DESCRIPTION': 'An employee lost time injury or illness is one that prevents an employee from returning to work for at least one full shift. The rate is injuries and illnesses per 200,000 worker hours.', 'PERIOD_YEAR': 2010, 'PERIOD_MONTH': 7, 'CATEGORY': 'Safety Indicators', 'FREQUENCY': 'M', 'INDICATOR_UNIT': '-', 'YTD_TARGET': 1.8, 'YTD_ACTUAL': 1.88, 'MONTHLY_TARGET': 1.8, 'MONTHLY_ACTUAL': 1.6}, {'AGENCY_NAME': 'Metro-North Railroad', 'INDICATOR_NAME': 'Employee Lost Time and Restricted Duty Rate', 'DESCRIPTION': 'An employee lost time injury or illness is one that prevents an employee from returning to work for at least one full shift. The rate is injuries and illnesses per 200,000 worker hours.', 'PERIOD_YEAR': 2010, 'PERIOD_MONTH': 8, 'CATEGORY': 'Safety Indicators', 'FREQUENCY': 'M', 'INDICATOR_UNIT': '-', 'YTD_TARGET': 1.8, 'YTD_ACTUAL': 1.94, 'MONTHLY_TARGET': 1.8, 'MONTHLY_ACTUAL': 2.54}, {'AGENCY_NAME': 'Metro-North Railroad', 'INDICATOR_NAME': 'Employee Lost Time and Restricted Duty Rate', 'DESCRIPTION': 'An employee lost time injury or illness is one that prevents an employee from returning to work for at least one full shift. The rate is injuries and illnesses per 200,000 worker hours.', 'PERIOD_YEAR': 2010, 'PERIOD_MONTH': 9, 'CATEGORY': 'Safety Indicators', 'FREQUENCY': 'M', 'INDICATOR_UNIT': '-', 'YTD_TARGET': 1.8, 'YTD_ACTUAL': 1.94, 'MONTHLY_TARGET': 1.8, 'MONTHLY_ACTUAL': 1.96}, {'AGENCY_NAME': 'Metro-North Railroad', 'INDICATOR_NAME': 'Employee Lost Time and Restricted Duty Rate', 'DESCRIPTION': 'An employee lost time injury or illness is one that prevents an employee from returning to work for at least one full shift. The rate is injuries and illnesses per 200,000 worker hours.', 'PERIOD_YEAR': 2010, 'PERIOD_MONTH': 10, 'CATEGORY': 'Safety Indicators', 'FREQUENCY': 'M', 'INDICATOR_UNIT': '-', 'YTD_TARGET': 1.8, 'YTD_ACTUAL': 1.99, 'MONTHLY_TARGET': 1.8, 'MONTHLY_ACTUAL': 2.44}, {'AGENCY_NAME': 'Metro-North Railroad', 'INDICATOR_NAME': 'Employee Lost Time and Restricted Duty Rate', 'DESCRIPTION': 'An employee lost time injury or illness is one that prevents an employee from returning to work for at least one full shift. The rate is injuries and illnesses per 200,000 worker hours.', 'PERIOD_YEAR': 2010, 'PERIOD_MONTH': 11, 'CATEGORY': 'Safety Indicators', 'FREQUENCY': 'M', 'INDICATOR_UNIT': '-', 'YTD_TARGET': 1.8, 'YTD_ACTUAL': 1.89, 'MONTHLY_TARGET': 1.8, 'MONTHLY_ACTUAL': 0.8}, {'AGENCY_NAME': 'Metro-North Railroad', 'INDICATOR_NAME': 'Employee Lost Time and Restricted Duty Rate', 'DESCRIPTION': 'An employee lost time injury or illness is one that prevents an employee from returning to work for at least one full shift. The rate is injuries and illnesses per 200,000 worker hours.', 'PERIOD_YEAR': 2010, 'PERIOD_MONTH': 12, 'CATEGORY': 'Safety Indicators', 'FREQUENCY': 'M', 'INDICATOR_UNIT': '-', 'YTD_TARGET': 1.8, 'YTD_ACTUAL': 1.88, 'MONTHLY_TARGET': 1.8, 'MONTHLY_ACTUAL': 1.8}, {'AGENCY_NAME': 'Metro-North Railroad', 'INDICATOR_NAME': 'Employee Lost Time and Restricted Duty Rate', 'DESCRIPTION': 'An employee lost time injury or illness is one that prevents an employee from returning to work for at least one full shift. The rate is injuries and illnesses per 200,000 worker hours.', 'PERIOD_YEAR': 2011, 'PERIOD_MONTH': 1, 'CATEGORY': 'Safety Indicators', 'FREQUENCY': 'M', 'INDICATOR_UNIT': '-', 'YTD_TARGET': 1.7, 'YTD_ACTUAL': 3.89, 'MONTHLY_TARGET': 1.7, 'MONTHLY_ACTUAL': 3.89}, {'AGENCY_NAME': 'Metro-North Railroad', 'INDICATOR_NAME': 'Employee Lost Time and Restricted Duty Rate', 'DESCRIPTION': 'An employee lost time injury or illness is one that prevents an employee from returning to work for at least one full shift. The rate is injuries and illnesses per 200,000 worker hours.', 'PERIOD_YEAR': 2011, 'PERIOD_MONTH': 2, 'CATEGORY': 'Safety Indicators', 'FREQUENCY': 'M', 'INDICATOR_UNIT': '-', 'YTD_TARGET': 1.7, 'YTD_ACTUAL': 3.25, 'MONTHLY_TARGET': 1.7, 'MONTHLY_ACTUAL': 2.55}, {'AGENCY_NAME': 'Metro-North Railroad', 'INDICATOR_NAME': 'Employee Lost Time and Restricted Duty Rate', 'DESCRIPTION': 'An employee lost time injury or illness is one that prevents an employee from returning to work for at least one full shift. The rate is injuries and illnesses per 200,000 worker hours.', 'PERIOD_YEAR': 2011, 'PERIOD_MONTH': 3, 'CATEGORY': 'Safety Indicators', 'FREQUENCY': 'M', 'INDICATOR_UNIT': '-', 'YTD_TARGET': 1.7, 'YTD_ACTUAL': 2.99, 'MONTHLY_TARGET': 1.7, 'MONTHLY_ACTUAL': 2.53}, {'AGENCY_NAME': 'Metro-North Railroad', 'INDICATOR_NAME': 'Employee Lost Time and Restricted Duty Rate', 'DESCRIPTION': 'An employee lost time injury or illness is one that prevents an employee from returning to work for at least one full shift. The rate is injuries and illnesses per 200,000 worker hours.', 'PERIOD_YEAR': 2011, 'PERIOD_MONTH': 4, 'CATEGORY': 'Safety Indicators', 'FREQUENCY': 'M', 'INDICATOR_UNIT': '-', 'YTD_TARGET': 1.7, 'YTD_ACTUAL': 2.69, 'MONTHLY_TARGET': 1.7, 'MONTHLY_ACTUAL': 1.77}, {'AGENCY_NAME': 'Metro-North Railroad', 'INDICATOR_NAME': 'Employee Lost Time and Restricted Duty Rate', 'DESCRIPTION': 'An employee lost time injury or illness is one that prevents an employee from returning to work for at least one full shift. The rate is injuries and illnesses per 200,000 worker hours.', 'PERIOD_YEAR': 2011, 'PERIOD_MONTH': 5, 'CATEGORY': 'Safety Indicators', 'FREQUENCY': 'M', 'INDICATOR_UNIT': '-', 'YTD_TARGET': 1.7, 'YTD_ACTUAL': '', 'MONTHLY_TARGET': 1.7, 'MONTHLY_ACTUAL': ''}, {'AGENCY_NAME': 'Metro-North Railroad', 'INDICATOR_NAME': 'Employee Lost Time and Restricted Duty Rate', 'DESCRIPTION': 'An employee lost time injury or illness is one that prevents an employee from returning to work for at least one full shift. The rate is injuries and illnesses per 200,000 worker hours.', 'PERIOD_YEAR': 2011, 'PERIOD_MONTH': 6, 'CATEGORY': 'Safety Indicators', 'FREQUENCY': 'M', 'INDICATOR_UNIT': '-', 'YTD_TARGET': 1.7, 'YTD_ACTUAL': '', 'MONTHLY_TARGET': 1.7, 'MONTHLY_ACTUAL': ''}, {'AGENCY_NAME': 'Metro-North Railroad', 'INDICATOR_NAME': 'Employee Lost Time and Restricted Duty Rate', 'DESCRIPTION': 'An employee lost time injury or illness is one that prevents an employee from returning to work for at least one full shift. The rate is injuries and illnesses per 200,000 worker hours.', 'PERIOD_YEAR': 2011, 'PERIOD_MONTH': 7, 'CATEGORY': 'Safety Indicators', 'FREQUENCY': 'M', 'INDICATOR_UNIT': '-', 'YTD_TARGET': 1.7, 'YTD_ACTUAL': '', 'MONTHLY_TARGET': 1.7, 'MONTHLY_ACTUAL': ''}, {'AGENCY_NAME': 'Metro-North Railroad', 'INDICATOR_NAME': 'Employee Lost Time and Restricted Duty Rate', 'DESCRIPTION': 'An employee lost time injury or illness is one that prevents an employee from returning to work for at least one full shift. The rate is injuries and illnesses per 200,000 worker hours.', 'PERIOD_YEAR': 2011, 'PERIOD_MONTH': 8, 'CATEGORY': 'Safety Indicators', 'FREQUENCY': 'M', 'INDICATOR_UNIT': '-', 'YTD_TARGET': 1.7, 'YTD_ACTUAL': '', 'MONTHLY_TARGET': 1.7, 'MONTHLY_ACTUAL': ''}, {'AGENCY_NAME': 'Metro-North Railroad', 'INDICATOR_NAME': 'Employee Lost Time and Restricted Duty Rate', 'DESCRIPTION': 'An employee lost time injury or illness is one that prevents an employee from returning to work for at least one full shift. The rate is injuries and illnesses per 200,000 worker hours.', 'PERIOD_YEAR': 2011, 'PERIOD_MONTH': 9, 'CATEGORY': 'Safety Indicators', 'FREQUENCY': 'M', 'INDICATOR_UNIT': '-', 'YTD_TARGET': 1.7, 'YTD_ACTUAL': '', 'MONTHLY_TARGET': 1.7, 'MONTHLY_ACTUAL': ''}, {'AGENCY_NAME': 'Metro-North Railroad', 'INDICATOR_NAME': 'Employee Lost Time and Restricted Duty Rate', 'DESCRIPTION': 'An employee lost time injury or illness is one that prevents an employee from returning to work for at least one full shift. The rate is injuries and illnesses per 200,000 worker hours.', 'PERIOD_YEAR': 2011, 'PERIOD_MONTH': 10, 'CATEGORY': 'Safety Indicators', 'FREQUENCY': 'M', 'INDICATOR_UNIT': '-', 'YTD_TARGET': 1.7, 'YTD_ACTUAL': '', 'MONTHLY_TARGET': 1.7, 'MONTHLY_ACTUAL': ''}, {'AGENCY_NAME': 'Metro-North Railroad', 'INDICATOR_NAME': 'Employee Lost Time and Restricted Duty Rate', 'DESCRIPTION': 'An employee lost time injury or illness is one that prevents an employee from returning to work for at least one full shift. The rate is injuries and illnesses per 200,000 worker hours.', 'PERIOD_YEAR': 2011, 'PERIOD_MONTH': 11, 'CATEGORY': 'Safety Indicators', 'FREQUENCY': 'M', 'INDICATOR_UNIT': '-', 'YTD_TARGET': 1.7, 'YTD_ACTUAL': '', 'MONTHLY_TARGET': 1.7, 'MONTHLY_ACTUAL': ''}, {'AGENCY_NAME': 'Metro-North Railroad', 'INDICATOR_NAME': 'Employee Lost Time and Restricted Duty Rate', 'DESCRIPTION': 'An employee lost time injury or illness is one that prevents an employee from returning to work for at least one full shift. The rate is injuries and illnesses per 200,000 worker hours.', 'PERIOD_YEAR': 2011, 'PERIOD_MONTH': 12, 'CATEGORY': 'Safety Indicators', 'FREQUENCY': 'M', 'INDICATOR_UNIT': '-', 'YTD_TARGET': 1.7, 'YTD_ACTUAL': '', 'MONTHLY_TARGET': 1.7, 'MONTHLY_ACTUAL': ''}, {'AGENCY_NAME': 'Metro-North Railroad', 'INDICATOR_NAME': 'Employee Lost Time and Restricted Duty Rate', 'DESCRIPTION': 'An employee lost time injury or illness is one that prevents an employee from returning to work for at least one full shift. The rate is injuries and illnesses per 200,000 worker hours.', 'PERIOD_YEAR': 2012, 'PERIOD_MONTH': 1, 'CATEGORY': 'Safety Indicators', 'FREQUENCY': 'M', 'INDICATOR_UNIT': '-', 'YTD_TARGET': '', 'YTD_ACTUAL': '', 'MONTHLY_TARGET': '', 'MONTHLY_ACTUAL': ''}, {'AGENCY_NAME': 'Metro-North Railroad', 'INDICATOR_NAME': 'Employee Lost Time and Restricted Duty Rate', 'DESCRIPTION': 'An employee lost time injury or illness is one that prevents an employee from returning to work for at least one full shift. The rate is injuries and illnesses per 200,000 worker hours.', 'PERIOD_YEAR': 2012, 'PERIOD_MONTH': 2, 'CATEGORY': 'Safety Indicators', 'FREQUENCY': 'M', 'INDICATOR_UNIT': '-', 'YTD_TARGET': '', 'YTD_ACTUAL': '', 'MONTHLY_TARGET': '', 'MONTHLY_ACTUAL': ''}, {'AGENCY_NAME': 'Metro-North Railroad', 'INDICATOR_NAME': 'Employee Lost Time and Restricted Duty Rate', 'DESCRIPTION': 'An employee lost time injury or illness is one that prevents an employee from returning to work for at least one full shift. The rate is injuries and illnesses per 200,000 worker hours.', 'PERIOD_YEAR': 2012, 'PERIOD_MONTH': 3, 'CATEGORY': 'Safety Indicators', 'FREQUENCY': 'M', 'INDICATOR_UNIT': '-', 'YTD_TARGET': '', 'YTD_ACTUAL': '', 'MONTHLY_TARGET': '', 'MONTHLY_ACTUAL': ''}, {'AGENCY_NAME': 'Metro-North Railroad', 'INDICATOR_NAME': 'Employee Lost Time and Restricted Duty Rate', 'DESCRIPTION': 'An employee lost time injury or illness is one that prevents an employee from returning to work for at least one full shift. The rate is injuries and illnesses per 200,000 worker hours.', 'PERIOD_YEAR': 2012, 'PERIOD_MONTH': 4, 'CATEGORY': 'Safety Indicators', 'FREQUENCY': 'M', 'INDICATOR_UNIT': '-', 'YTD_TARGET': '', 'YTD_ACTUAL': '', 'MONTHLY_TARGET': '', 'MONTHLY_ACTUAL': ''}, {'AGENCY_NAME': 'Metro-North Railroad', 'INDICATOR_NAME': 'Employee Lost Time and Restricted Duty Rate', 'DESCRIPTION': 'An employee lost time injury or illness is one that prevents an employee from returning to work for at least one full shift. The rate is injuries and illnesses per 200,000 worker hours.', 'PERIOD_YEAR': 2012, 'PERIOD_MONTH': 5, 'CATEGORY': 'Safety Indicators', 'FREQUENCY': 'M', 'INDICATOR_UNIT': '-', 'YTD_TARGET': '', 'YTD_ACTUAL': '', 'MONTHLY_TARGET': '', 'MONTHLY_ACTUAL': ''}, {'AGENCY_NAME': 'Metro-North Railroad', 'INDICATOR_NAME': 'Employee Lost Time and Restricted Duty Rate', 'DESCRIPTION': 'An employee lost time injury or illness is one that prevents an employee from returning to work for at least one full shift. The rate is injuries and illnesses per 200,000 worker hours.', 'PERIOD_YEAR': 2012, 'PERIOD_MONTH': 6, 'CATEGORY': 'Safety Indicators', 'FREQUENCY': 'M', 'INDICATOR_UNIT': '-', 'YTD_TARGET': '', 'YTD_ACTUAL': '', 'MONTHLY_TARGET': '', 'MONTHLY_ACTUAL': ''}, {'AGENCY_NAME': 'Metro-North Railroad', 'INDICATOR_NAME': 'Employee Lost Time and Restricted Duty Rate', 'DESCRIPTION': 'An employee lost time injury or illness is one that prevents an employee from returning to work for at least one full shift. The rate is injuries and illnesses per 200,000 worker hours.', 'PERIOD_YEAR': 2012, 'PERIOD_MONTH': 7, 'CATEGORY': 'Safety Indicators', 'FREQUENCY': 'M', 'INDICATOR_UNIT': '-', 'YTD_TARGET': '', 'YTD_ACTUAL': '', 'MONTHLY_TARGET': '', 'MONTHLY_ACTUAL': ''}, {'AGENCY_NAME': 'Metro-North Railroad', 'INDICATOR_NAME': 'Employee Lost Time and Restricted Duty Rate', 'DESCRIPTION': 'An employee lost time injury or illness is one that prevents an employee from returning to work for at least one full shift. The rate is injuries and illnesses per 200,000 worker hours.', 'PERIOD_YEAR': 2012, 'PERIOD_MONTH': 8, 'CATEGORY': 'Safety Indicators', 'FREQUENCY': 'M', 'INDICATOR_UNIT': '-', 'YTD_TARGET': '', 'YTD_ACTUAL': '', 'MONTHLY_TARGET': '', 'MONTHLY_ACTUAL': ''}, {'AGENCY_NAME': 'Metro-North Railroad', 'INDICATOR_NAME': 'Employee Lost Time and Restricted Duty Rate', 'DESCRIPTION': 'An employee lost time injury or illness is one that prevents an employee from returning to work for at least one full shift. The rate is injuries and illnesses per 200,000 worker hours.', 'PERIOD_YEAR': 2012, 'PERIOD_MONTH': 9, 'CATEGORY': 'Safety Indicators', 'FREQUENCY': 'M', 'INDICATOR_UNIT': '-', 'YTD_TARGET': '', 'YTD_ACTUAL': '', 'MONTHLY_TARGET': '', 'MONTHLY_ACTUAL': ''}, {'AGENCY_NAME': 'Metro-North Railroad', 'INDICATOR_NAME': 'Employee Lost Time and Restricted Duty Rate', 'DESCRIPTION': 'An employee lost time injury or illness is one that prevents an employee from returning to work for at least one full shift. The rate is injuries and illnesses per 200,000 worker hours.', 'PERIOD_YEAR': 2012, 'PERIOD_MONTH': 10, 'CATEGORY': 'Safety Indicators', 'FREQUENCY': 'M', 'INDICATOR_UNIT': '-', 'YTD_TARGET': '', 'YTD_ACTUAL': '', 'MONTHLY_TARGET': '', 'MONTHLY_ACTUAL': ''}, {'AGENCY_NAME': 'Metro-North Railroad', 'INDICATOR_NAME': 'Employee Lost Time and Restricted Duty Rate', 'DESCRIPTION': 'An employee lost time injury or illness is one that prevents an employee from returning to work for at least one full shift. The rate is injuries and illnesses per 200,000 worker hours.', 'PERIOD_YEAR': 2012, 'PERIOD_MONTH': 11, 'CATEGORY': 'Safety Indicators', 'FREQUENCY': 'M', 'INDICATOR_UNIT': '-', 'YTD_TARGET': '', 'YTD_ACTUAL': '', 'MONTHLY_TARGET': '', 'MONTHLY_ACTUAL': ''}, {'AGENCY_NAME': 'Metro-North Railroad', 'INDICATOR_NAME': 'Employee Lost Time and Restricted Duty Rate', 'DESCRIPTION': 'An employee lost time injury or illness is one that prevents an employee from returning to work for at least one full shift. The rate is injuries and illnesses per 200,000 worker hours.', 'PERIOD_YEAR': 2012, 'PERIOD_MONTH': 12, 'CATEGORY': 'Safety Indicators', 'FREQUENCY': 'M', 'INDICATOR_UNIT': '-', 'YTD_TARGET': '', 'YTD_ACTUAL': '', 'MONTHLY_TARGET': '', 'MONTHLY_ACTUAL': ''}, {'AGENCY_NAME': 'Metro-North Railroad', 'INDICATOR_NAME': 'Total Ridership', 'DESCRIPTION': 'The number of passengers from whom the agency receives a fare (cash, train tickets, time-based passes, etc.) Ridership data is preliminary and subject to revision as well as adjustments warranted by annual audit review.', 'PERIOD_YEAR': 2008, 'PERIOD_MONTH': 1, 'CATEGORY': 'Service Indicators', 'FREQUENCY': 'M', 'INDICATOR_UNIT': '-', 'YTD_TARGET': '6,475,134.00', 'YTD_ACTUAL': '6,618,443.00', 'MONTHLY_TARGET': '6,475,134.00', 'MONTHLY_ACTUAL': '6,618,443.00'}, {'AGENCY_NAME': 'Metro-North Railroad', 'INDICATOR_NAME': 'Total Ridership', 'DESCRIPTION': 'The number of passengers from whom the agency receives a fare (cash, train tickets, time-based passes, etc.) Ridership data is preliminary and subject to revision as well as adjustments warranted by annual audit review.', 'PERIOD_YEAR': 2008, 'PERIOD_MONTH': 2, 'CATEGORY': 'Service Indicators', 'FREQUENCY': 'M', 'INDICATOR_UNIT': '-', 'YTD_TARGET': '12,520,602.00', 'YTD_ACTUAL': '12,919,928.00', 'MONTHLY_TARGET': '6,045,468.00', 'MONTHLY_ACTUAL': '6,301,485.00'}, {'AGENCY_NAME': 'Metro-North Railroad', 'INDICATOR_NAME': 'Total Ridership', 'DESCRIPTION': 'The number of passengers from whom the agency receives a fare (cash, train tickets, time-based passes, etc.) Ridership data is preliminary and subject to revision as well as adjustments warranted by annual audit review.', 'PERIOD_YEAR': 2008, 'PERIOD_MONTH': 3, 'CATEGORY': 'Service Indicators', 'FREQUENCY': 'M', 'INDICATOR_UNIT': '-', 'YTD_TARGET': '19,084,109.00', 'YTD_ACTUAL': '19,691,414.00', 'MONTHLY_TARGET': '6,563,507.00', 'MONTHLY_ACTUAL': '6,771,486.00'}, {'AGENCY_NAME': 'Metro-North Railroad', 'INDICATOR_NAME': 'Total Ridership', 'DESCRIPTION': 'The number of passengers from whom the agency receives a fare (cash, train tickets, time-based passes, etc.) Ridership data is preliminary and subject to revision as well as adjustments warranted by annual audit review.', 'PERIOD_YEAR': 2008, 'PERIOD_MONTH': 4, 'CATEGORY': 'Service Indicators', 'FREQUENCY': 'M', 'INDICATOR_UNIT': '-', 'YTD_TARGET': '25,895,437.00', 'YTD_ACTUAL': '26,650,054.00', 'MONTHLY_TARGET': '6,811,328.00', 'MONTHLY_ACTUAL': '6,958,640.00'}, {'AGENCY_NAME': 'Metro-North Railroad', 'INDICATOR_NAME': 'Total Ridership', 'DESCRIPTION': 'The number of passengers from whom the agency receives a fare (cash, train tickets, time-based passes, etc.) Ridership data is preliminary and subject to revision as well as adjustments warranted by annual audit review.', 'PERIOD_YEAR': 2008, 'PERIOD_MONTH': 5, 'CATEGORY': 'Service Indicators', 'FREQUENCY': 'M', 'INDICATOR_UNIT': '-', 'YTD_TARGET': '32,758,164.00', 'YTD_ACTUAL': '33,672,738.00', 'MONTHLY_TARGET': '6,862,727.00', 'MONTHLY_ACTUAL': '7,022,684.00'}, {'AGENCY_NAME': 'Metro-North Railroad', 'INDICATOR_NAME': 'Total Ridership', 'DESCRIPTION': 'The number of passengers from whom the agency receives a fare (cash, train tickets, time-based passes, etc.) Ridership data is preliminary and subject to revision as well as adjustments warranted by annual audit review.', 'PERIOD_YEAR': 2008, 'PERIOD_MONTH': 6, 'CATEGORY': 'Service Indicators', 'FREQUENCY': 'M', 'INDICATOR_UNIT': '-', 'YTD_TARGET': '39,733,412.00', 'YTD_ACTUAL': '40,867,001.00', 'MONTHLY_TARGET': '6,975,248.00', 'MONTHLY_ACTUAL': '7,194,263.00'}, {'AGENCY_NAME': 'Metro-North Railroad', 'INDICATOR_NAME': 'Total Ridership', 'DESCRIPTION': 'The number of passengers from whom the agency receives a fare (cash, train tickets, time-based passes, etc.) Ridership data is preliminary and subject to revision as well as adjustments warranted by annual audit review.', 'PERIOD_YEAR': 2008, 'PERIOD_MONTH': 7, 'CATEGORY': 'Service Indicators', 'FREQUENCY': 'M', 'INDICATOR_UNIT': '-', 'YTD_TARGET': '46,909,968.00', 'YTD_ACTUAL': '48,356,564.00', 'MONTHLY_TARGET': '7,176,556.00', 'MONTHLY_ACTUAL': '7,489,563.00'}, {'AGENCY_NAME': 'Metro-North Railroad', 'INDICATOR_NAME': 'Total Ridership', 'DESCRIPTION': 'The number of passengers from whom the agency receives a fare (cash, train tickets, time-based passes, etc.) Ridership data is preliminary and subject to revision as well as adjustments warranted by annual audit review.', 'PERIOD_YEAR': 2008, 'PERIOD_MONTH': 8, 'CATEGORY': 'Service Indicators', 'FREQUENCY': 'M', 'INDICATOR_UNIT': '-', 'YTD_TARGET': '53,710,765.00', 'YTD_ACTUAL': '55,362,353.00', 'MONTHLY_TARGET': '6,800,797.00', 'MONTHLY_ACTUAL': '7,005,789.00'}, {'AGENCY_NAME': 'Metro-North Railroad', 'INDICATOR_NAME': 'Total Ridership', 'DESCRIPTION': 'The number of passengers from whom the agency receives a fare (cash, train tickets, time-based passes, etc.) Ridership data is preliminary and subject to revision as well as adjustments warranted by annual audit review.', 'PERIOD_YEAR': 2008, 'PERIOD_MONTH': 9, 'CATEGORY': 'Service Indicators', 'FREQUENCY': 'M', 'INDICATOR_UNIT': '-', 'YTD_TARGET': '60,604,983.00', 'YTD_ACTUAL': '62,369,501.00', 'MONTHLY_TARGET': '6,894,218.00', 'MONTHLY_ACTUAL': '7,007,148.00'}, {'AGENCY_NAME': 'Metro-North Railroad', 'INDICATOR_NAME': 'Total Ridership', 'DESCRIPTION': 'The number of passengers from whom the agency receives a fare (cash, train tickets, time-based passes, etc.) Ridership data is preliminary and subject to revision as well as adjustments warranted by annual audit review.', 'PERIOD_YEAR': 2008, 'PERIOD_MONTH': 10, 'CATEGORY': 'Service Indicators', 'FREQUENCY': 'M', 'INDICATOR_UNIT': '-', 'YTD_TARGET': '67,965,837.00', 'YTD_ACTUAL': '69,879,022.00', 'MONTHLY_TARGET': '7,360,854.00', 'MONTHLY_ACTUAL': '7,509,521.00'}, {'AGENCY_NAME': 'Metro-North Railroad', 'INDICATOR_NAME': 'Total Ridership', 'DESCRIPTION': 'The number of passengers from whom the agency receives a fare (cash, train tickets, time-based passes, etc.) Ridership data is preliminary and subject to revision as well as adjustments warranted by annual audit review.', 'PERIOD_YEAR': 2008, 'PERIOD_MONTH': 11, 'CATEGORY': 'Service Indicators', 'FREQUENCY': 'M', 'INDICATOR_UNIT': '-', 'YTD_TARGET': '74,415,693.00', 'YTD_ACTUAL': '76,389,999.00', 'MONTHLY_TARGET': '6,449,856.00', 'MONTHLY_ACTUAL': '6,510,977.00'}, {'AGENCY_NAME': 'Metro-North Railroad', 'INDICATOR_NAME': 'Total Ridership', 'DESCRIPTION': 'The number of passengers from whom the agency receives a fare (cash, train tickets, time-based passes, etc.) Ridership data is preliminary and subject to revision as well as adjustments warranted by annual audit review.', 'PERIOD_YEAR': 2008, 'PERIOD_MONTH': 12, 'CATEGORY': 'Service Indicators', 'FREQUENCY': 'M', 'INDICATOR_UNIT': '-', 'YTD_TARGET': '81,739,667.00', 'YTD_ACTUAL': '83,555,228.00', 'MONTHLY_TARGET': '7,323,974.00', 'MONTHLY_ACTUAL': '7,165,229.00'}, {'AGENCY_NAME': 'Metro-North Railroad', 'INDICATOR_NAME': 'Total Ridership', 'DESCRIPTION': 'The number of passengers from whom the agency receives a fare (cash, train tickets, time-based passes, etc.) Ridership data is preliminary and subject to revision as well as adjustments warranted by annual audit review.', 'PERIOD_YEAR': 2009, 'PERIOD_MONTH': 1, 'CATEGORY': 'Service Indicators', 'FREQUENCY': 'M', 'INDICATOR_UNIT': '-', 'YTD_TARGET': '6,508,071.00', 'YTD_ACTUAL': '6,332,765.00', 'MONTHLY_TARGET': '6,508,071.00', 'MONTHLY_ACTUAL': '6,332,765.00'}, {'AGENCY_NAME': 'Metro-North Railroad', 'INDICATOR_NAME': 'Total Ridership', 'DESCRIPTION': 'The number of passengers from whom the agency receives a fare (cash, train tickets, time-based passes, etc.) Ridership data is preliminary and subject to revision as well as adjustments warranted by annual audit review.', 'PERIOD_YEAR': 2009, 'PERIOD_MONTH': 2, 'CATEGORY': 'Service Indicators', 'FREQUENCY': 'M', 'INDICATOR_UNIT': '-', 'YTD_TARGET': '12,594,887.00', 'YTD_ACTUAL': '12,209,821.00', 'MONTHLY_TARGET': '6,086,816.00', 'MONTHLY_ACTUAL': '5,877,056.00'}, {'AGENCY_NAME': 'Metro-North Railroad', 'INDICATOR_NAME': 'Total Ridership', 'DESCRIPTION': 'The number of passengers from whom the agency receives a fare (cash, train tickets, time-based passes, etc.) Ridership data is preliminary and subject to revision as well as adjustments warranted by annual audit review.', 'PERIOD_YEAR': 2009, 'PERIOD_MONTH': 3, 'CATEGORY': 'Service Indicators', 'FREQUENCY': 'M', 'INDICATOR_UNIT': '-', 'YTD_TARGET': '19,596,253.00', 'YTD_ACTUAL': '18,972,340.00', 'MONTHLY_TARGET': '7,001,366.00', 'MONTHLY_ACTUAL': '6,762,519.00'}, {'AGENCY_NAME': 'Metro-North Railroad', 'INDICATOR_NAME': 'Total Ridership', 'DESCRIPTION': 'The number of passengers from whom the agency receives a fare (cash, train tickets, time-based passes, etc.) Ridership data is preliminary and subject to revision as well as adjustments warranted by annual audit review.', 'PERIOD_YEAR': 2009, 'PERIOD_MONTH': 4, 'CATEGORY': 'Service Indicators', 'FREQUENCY': 'M', 'INDICATOR_UNIT': '-', 'YTD_TARGET': '26,767,083.00', 'YTD_ACTUAL': '25,737,369.00', 'MONTHLY_TARGET': '7,170,830.00', 'MONTHLY_ACTUAL': '6,765,029.00'}, {'AGENCY_NAME': 'Metro-North Railroad', 'INDICATOR_NAME': 'Total Ridership', 'DESCRIPTION': 'The number of passengers from whom the agency receives a fare (cash, train tickets, time-based passes, etc.) Ridership data is preliminary and subject to revision as well as adjustments warranted by annual audit review.', 'PERIOD_YEAR': 2009, 'PERIOD_MONTH': 5, 'CATEGORY': 'Service Indicators', 'FREQUENCY': 'M', 'INDICATOR_UNIT': '-', 'YTD_TARGET': '33,823,015.00', 'YTD_ACTUAL': '32,280,151.00', 'MONTHLY_TARGET': '7,055,932.00', 'MONTHLY_ACTUAL': '6,542,782.00'}, {'AGENCY_NAME': 'Metro-North Railroad', 'INDICATOR_NAME': 'Total Ridership', 'DESCRIPTION': 'The number of passengers from whom the agency receives a fare (cash, train tickets, time-based passes, etc.) Ridership data is preliminary and subject to revision as well as adjustments warranted by annual audit review.', 'PERIOD_YEAR': 2009, 'PERIOD_MONTH': 6, 'CATEGORY': 'Service Indicators', 'FREQUENCY': 'M', 'INDICATOR_UNIT': '-', 'YTD_TARGET': '41,458,198.00', 'YTD_ACTUAL': '39,314,929.00', 'MONTHLY_TARGET': '7,635,183.00', 'MONTHLY_ACTUAL': '7,034,778.00'}, {'AGENCY_NAME': 'Metro-North Railroad', 'INDICATOR_NAME': 'Total Ridership', 'DESCRIPTION': 'The number of passengers from whom the agency receives a fare (cash, train tickets, time-based passes, etc.) Ridership data is preliminary and subject to revision as well as adjustments warranted by annual audit review.', 'PERIOD_YEAR': 2009, 'PERIOD_MONTH': 7, 'CATEGORY': 'Service Indicators', 'FREQUENCY': 'M', 'INDICATOR_UNIT': '-', 'YTD_TARGET': '49,202,681.00', 'YTD_ACTUAL': '46,315,848.00', 'MONTHLY_TARGET': '7,744,483.00', 'MONTHLY_ACTUAL': '7,000,919.00'}, {'AGENCY_NAME': 'Metro-North Railroad', 'INDICATOR_NAME': 'Total Ridership', 'DESCRIPTION': 'The number of passengers from whom the agency receives a fare (cash, train tickets, time-based passes, etc.) Ridership data is preliminary and subject to revision as well as adjustments warranted by annual audit review.', 'PERIOD_YEAR': 2009, 'PERIOD_MONTH': 8, 'CATEGORY': 'Service Indicators', 'FREQUENCY': 'M', 'INDICATOR_UNIT': '-', 'YTD_TARGET': '56,456,685.00', 'YTD_ACTUAL': '52,867,646.00', 'MONTHLY_TARGET': '7,254,004.00', 'MONTHLY_ACTUAL': '6,551,798.00'}, {'AGENCY_NAME': 'Metro-North Railroad', 'INDICATOR_NAME': 'Total Ridership', 'DESCRIPTION': 'The number of passengers from whom the agency receives a fare (cash, train tickets, time-based passes, etc.) Ridership data is preliminary and subject to revision as well as adjustments warranted by annual audit review.', 'PERIOD_YEAR': 2009, 'PERIOD_MONTH': 9, 'CATEGORY': 'Service Indicators', 'FREQUENCY': 'M', 'INDICATOR_UNIT': '-', 'YTD_TARGET': '63,690,048.00', 'YTD_ACTUAL': '59,537,711.00', 'MONTHLY_TARGET': '7,233,363.00', 'MONTHLY_ACTUAL': '6,670,065.00'}, {'AGENCY_NAME': 'Metro-North Railroad', 'INDICATOR_NAME': 'Total Ridership', 'DESCRIPTION': 'The number of passengers from whom the agency receives a fare (cash, train tickets, time-based passes, etc.) Ridership data is preliminary and subject to revision as well as adjustments warranted by annual audit review.', 'PERIOD_YEAR': 2009, 'PERIOD_MONTH': 10, 'CATEGORY': 'Service Indicators', 'FREQUENCY': 'M', 'INDICATOR_UNIT': '-', 'YTD_TARGET': '71,191,251.00', 'YTD_ACTUAL': '66,490,483.00', 'MONTHLY_TARGET': '7,501,203.00', 'MONTHLY_ACTUAL': '6,952,772.00'}, {'AGENCY_NAME': 'Metro-North Railroad', 'INDICATOR_NAME': 'Total Ridership', 'DESCRIPTION': 'The number of passengers from whom the agency receives a fare (cash, train tickets, time-based passes, etc.) Ridership data is preliminary and subject to revision as well as adjustments warranted by annual audit review.', 'PERIOD_YEAR': 2009, 'PERIOD_MONTH': 11, 'CATEGORY': 'Service Indicators', 'FREQUENCY': 'M', 'INDICATOR_UNIT': '-', 'YTD_TARGET': '78,164,917.00', 'YTD_ACTUAL': '72,976,241.00', 'MONTHLY_TARGET': '6,973,666.00', 'MONTHLY_ACTUAL': '6,485,758.00'}, {'AGENCY_NAME': 'Metro-North Railroad', 'INDICATOR_NAME': 'Total Ridership', 'DESCRIPTION': 'The number of passengers from whom the agency receives a fare (cash, train tickets, time-based passes, etc.) Ridership data is preliminary and subject to revision as well as adjustments warranted by annual audit review.', 'PERIOD_YEAR': 2009, 'PERIOD_MONTH': 12, 'CATEGORY': 'Service Indicators', 'FREQUENCY': 'M', 'INDICATOR_UNIT': '-', 'YTD_TARGET': '85,733,300.00', 'YTD_ACTUAL': '79,899,147.00', 'MONTHLY_TARGET': '7,568,383.00', 'MONTHLY_ACTUAL': '6,922,906.00'}, {'AGENCY_NAME': 'Metro-North Railroad', 'INDICATOR_NAME': 'Total Ridership', 'DESCRIPTION': 'The number of passengers from whom the agency receives a fare (cash, train tickets, time-based passes, etc.) Ridership data is preliminary and subject to revision as well as adjustments warranted by annual audit review.', 'PERIOD_YEAR': 2010, 'PERIOD_MONTH': 1, 'CATEGORY': 'Service Indicators', 'FREQUENCY': 'M', 'INDICATOR_UNIT': '-', 'YTD_TARGET': '5,939,175.00', 'YTD_ACTUAL': '6,057,658.00', 'MONTHLY_TARGET': '5,939,175.00', 'MONTHLY_ACTUAL': '6,057,658.00'}, {'AGENCY_NAME': 'Metro-North Railroad', 'INDICATOR_NAME': 'Total Ridership', 'DESCRIPTION': 'The number of passengers from whom the agency receives a fare (cash, train tickets, time-based passes, etc.) Ridership data is preliminary and subject to revision as well as adjustments warranted by annual audit review.', 'PERIOD_YEAR': 2010, 'PERIOD_MONTH': 2, 'CATEGORY': 'Service Indicators', 'FREQUENCY': 'M', 'INDICATOR_UNIT': '-', 'YTD_TARGET': '11,638,866.00', 'YTD_ACTUAL': '11,745,609.00', 'MONTHLY_TARGET': '5,699,691.00', 'MONTHLY_ACTUAL': '5,687,951.00'}, {'AGENCY_NAME': 'Metro-North Railroad', 'INDICATOR_NAME': 'Total Ridership', 'DESCRIPTION': 'The number of passengers from whom the agency receives a fare (cash, train tickets, time-based passes, etc.) Ridership data is preliminary and subject to revision as well as adjustments warranted by annual audit review.', 'PERIOD_YEAR': 2010, 'PERIOD_MONTH': 3, 'CATEGORY': 'Service Indicators', 'FREQUENCY': 'M', 'INDICATOR_UNIT': '-', 'YTD_TARGET': '18,402,757.00', 'YTD_ACTUAL': '18,683,819.00', 'MONTHLY_TARGET': '6,763,891.00', 'MONTHLY_ACTUAL': '6,938,210.00'}, {'AGENCY_NAME': 'Metro-North Railroad', 'INDICATOR_NAME': 'Total Ridership', 'DESCRIPTION': 'The number of passengers from whom the agency receives a fare (cash, train tickets, time-based passes, etc.) Ridership data is preliminary and subject to revision as well as adjustments warranted by annual audit review.', 'PERIOD_YEAR': 2010, 'PERIOD_MONTH': 4, 'CATEGORY': 'Service Indicators', 'FREQUENCY': 'M', 'INDICATOR_UNIT': '-', 'YTD_TARGET': '25,018,196.00', 'YTD_ACTUAL': '25,521,081.00', 'MONTHLY_TARGET': '6,615,439.00', 'MONTHLY_ACTUAL': '6,837,262.00'}, {'AGENCY_NAME': 'Metro-North Railroad', 'INDICATOR_NAME': 'Total Ridership', 'DESCRIPTION': 'The number of passengers from whom the agency receives a fare (cash, train tickets, time-based passes, etc.) Ridership data is preliminary and subject to revision as well as adjustments warranted by annual audit review.', 'PERIOD_YEAR': 2010, 'PERIOD_MONTH': 5, 'CATEGORY': 'Service Indicators', 'FREQUENCY': 'M', 'INDICATOR_UNIT': '-', 'YTD_TARGET': '31,429,860.00', 'YTD_ACTUAL': '32,252,137.00', 'MONTHLY_TARGET': '6,411,664.00', 'MONTHLY_ACTUAL': '6,731,056.00'}, {'AGENCY_NAME': 'Metro-North Railroad', 'INDICATOR_NAME': 'Total Ridership', 'DESCRIPTION': 'The number of passengers from whom the agency receives a fare (cash, train tickets, time-based passes, etc.) Ridership data is preliminary and subject to revision as well as adjustments warranted by annual audit review.', 'PERIOD_YEAR': 2010, 'PERIOD_MONTH': 6, 'CATEGORY': 'Service Indicators', 'FREQUENCY': 'M', 'INDICATOR_UNIT': '-', 'YTD_TARGET': '38,331,210.00', 'YTD_ACTUAL': '39,410,262.00', 'MONTHLY_TARGET': '6,901,350.00', 'MONTHLY_ACTUAL': '7,158,125.00'}, {'AGENCY_NAME': 'Metro-North Railroad', 'INDICATOR_NAME': 'Total Ridership', 'DESCRIPTION': 'The number of passengers from whom the agency receives a fare (cash, train tickets, time-based passes, etc.) Ridership data is preliminary and subject to revision as well as adjustments warranted by annual audit review.', 'PERIOD_YEAR': 2010, 'PERIOD_MONTH': 7, 'CATEGORY': 'Service Indicators', 'FREQUENCY': 'M', 'INDICATOR_UNIT': '-', 'YTD_TARGET': '45,092,948.00', 'YTD_ACTUAL': '46,402,728.00', 'MONTHLY_TARGET': '6,761,738.00', 'MONTHLY_ACTUAL': '6,992,466.00'}, {'AGENCY_NAME': 'Metro-North Railroad', 'INDICATOR_NAME': 'Total Ridership', 'DESCRIPTION': 'The number of passengers from whom the agency receives a fare (cash, train tickets, time-based passes, etc.) Ridership data is preliminary and subject to revision as well as adjustments warranted by annual audit review.', 'PERIOD_YEAR': 2010, 'PERIOD_MONTH': 8, 'CATEGORY': 'Service Indicators', 'FREQUENCY': 'M', 'INDICATOR_UNIT': '-', 'YTD_TARGET': '51,804,118.00', 'YTD_ACTUAL': '53,315,701.00', 'MONTHLY_TARGET': '6,711,170.00', 'MONTHLY_ACTUAL': '6,912,973.00'}, {'AGENCY_NAME': 'Metro-North Railroad', 'INDICATOR_NAME': 'Total Ridership', 'DESCRIPTION': 'The number of passengers from whom the agency receives a fare (cash, train tickets, time-based passes, etc.) Ridership data is preliminary and subject to revision as well as adjustments warranted by annual audit review.', 'PERIOD_YEAR': 2010, 'PERIOD_MONTH': 9, 'CATEGORY': 'Service Indicators', 'FREQUENCY': 'M', 'INDICATOR_UNIT': '-', 'YTD_TARGET': '58,430,546.00', 'YTD_ACTUAL': '60,168,330.00', 'MONTHLY_TARGET': '6,626,428.00', 'MONTHLY_ACTUAL': '6,852,629.00'}, {'AGENCY_NAME': 'Metro-North Railroad', 'INDICATOR_NAME': 'Total Ridership', 'DESCRIPTION': 'The number of passengers from whom the agency receives a fare (cash, train tickets, time-based passes, etc.) Ridership data is preliminary and subject to revision as well as adjustments warranted by annual audit review.', 'PERIOD_YEAR': 2010, 'PERIOD_MONTH': 10, 'CATEGORY': 'Service Indicators', 'FREQUENCY': 'M', 'INDICATOR_UNIT': '-', 'YTD_TARGET': '65,255,967.00', 'YTD_ACTUAL': '67,195,926.00', 'MONTHLY_TARGET': '6,825,421.00', 'MONTHLY_ACTUAL': '7,027,596.00'}, {'AGENCY_NAME': 'Metro-North Railroad', 'INDICATOR_NAME': 'Total Ridership', 'DESCRIPTION': 'The number of passengers from whom the agency receives a fare (cash, train tickets, time-based passes, etc.) Ridership data is preliminary and subject to revision as well as adjustments warranted by annual audit review.', 'PERIOD_YEAR': 2010, 'PERIOD_MONTH': 11, 'CATEGORY': 'Service Indicators', 'FREQUENCY': 'M', 'INDICATOR_UNIT': '-', 'YTD_TARGET': '71,961,212.00', 'YTD_ACTUAL': '74,006,393.00', 'MONTHLY_TARGET': '6,705,245.00', 'MONTHLY_ACTUAL': '6,810,467.00'}, {'AGENCY_NAME': 'Metro-North Railroad', 'INDICATOR_NAME': 'Total Ridership', 'DESCRIPTION': 'The number of passengers from whom the agency receives a fare (cash, train tickets, time-based passes, etc.) Ridership data is preliminary and subject to revision as well as adjustments warranted by annual audit review.', 'PERIOD_YEAR': 2010, 'PERIOD_MONTH': 12, 'CATEGORY': 'Service Indicators', 'FREQUENCY': 'M', 'INDICATOR_UNIT': '-', 'YTD_TARGET': '79,067,578.00', 'YTD_ACTUAL': '81,095,848.00', 'MONTHLY_TARGET': '7,106,366.00', 'MONTHLY_ACTUAL': '7,089,455.00'}, {'AGENCY_NAME': 'Metro-North Railroad', 'INDICATOR_NAME': 'Total Ridership', 'DESCRIPTION': 'The number of passengers from whom the agency receives a fare (cash, train tickets, time-based passes, etc.) Ridership data is preliminary and subject to revision as well as adjustments warranted by annual audit review.', 'PERIOD_YEAR': 2011, 'PERIOD_MONTH': 1, 'CATEGORY': 'Service Indicators', 'FREQUENCY': 'M', 'INDICATOR_UNIT': '-', 'YTD_TARGET': '6,110,803.00', 'YTD_ACTUAL': '6,058,384.00', 'MONTHLY_TARGET': '6,110,803.00', 'MONTHLY_ACTUAL': '6,058,384.00'}, {'AGENCY_NAME': 'Metro-North Railroad', 'INDICATOR_NAME': 'Total Ridership', 'DESCRIPTION': 'The number of passengers from whom the agency receives a fare (cash, train tickets, time-based passes, etc.) Ridership data is preliminary and subject to revision as well as adjustments warranted by annual audit review.', 'PERIOD_YEAR': 2011, 'PERIOD_MONTH': 2, 'CATEGORY': 'Service Indicators', 'FREQUENCY': 'M', 'INDICATOR_UNIT': '-', 'YTD_TARGET': '11,848,447.00', 'YTD_ACTUAL': '11,882,226.00', 'MONTHLY_TARGET': '5,737,644.00', 'MONTHLY_ACTUAL': '5,823,842.00'}, {'AGENCY_NAME': 'Metro-North Railroad', 'INDICATOR_NAME': 'Total Ridership', 'DESCRIPTION': 'The number of passengers from whom the agency receives a fare (cash, train tickets, time-based passes, etc.) Ridership data is preliminary and subject to revision as well as adjustments warranted by annual audit review.', 'PERIOD_YEAR': 2011, 'PERIOD_MONTH': 3, 'CATEGORY': 'Service Indicators', 'FREQUENCY': 'M', 'INDICATOR_UNIT': '-', 'YTD_TARGET': '18,846,561.00', 'YTD_ACTUAL': '18,949,529.00', 'MONTHLY_TARGET': '6,998,114.00', 'MONTHLY_ACTUAL': '7,067,303.00'}, {'AGENCY_NAME': 'Metro-North Railroad', 'INDICATOR_NAME': 'Total Ridership', 'DESCRIPTION': 'The number of passengers from whom the agency receives a fare (cash, train tickets, time-based passes, etc.) Ridership data is preliminary and subject to revision as well as adjustments warranted by annual audit review.', 'PERIOD_YEAR': 2011, 'PERIOD_MONTH': 4, 'CATEGORY': 'Service Indicators', 'FREQUENCY': 'M', 'INDICATOR_UNIT': '-', 'YTD_TARGET': '25,578,846.00', 'YTD_ACTUAL': '25,754,122.00', 'MONTHLY_TARGET': '6,732,285.00', 'MONTHLY_ACTUAL': '6,804,593.00'}, {'AGENCY_NAME': 'Metro-North Railroad', 'INDICATOR_NAME': 'Total Ridership', 'DESCRIPTION': 'The number of passengers from whom the agency receives a fare (cash, train tickets, time-based passes, etc.) Ridership data is preliminary and subject to revision as well as adjustments warranted by annual audit review.', 'PERIOD_YEAR': 2011, 'PERIOD_MONTH': 5, 'CATEGORY': 'Service Indicators', 'FREQUENCY': 'M', 'INDICATOR_UNIT': '-', 'YTD_TARGET': '32,542,163.00', 'YTD_ACTUAL': '', 'MONTHLY_TARGET': '6,963,317.00', 'MONTHLY_ACTUAL': ''}, {'AGENCY_NAME': 'Metro-North Railroad', 'INDICATOR_NAME': 'Total Ridership', 'DESCRIPTION': 'The number of passengers from whom the agency receives a fare (cash, train tickets, time-based passes, etc.) Ridership data is preliminary and subject to revision as well as adjustments warranted by annual audit review.', 'PERIOD_YEAR': 2011, 'PERIOD_MONTH': 6, 'CATEGORY': 'Service Indicators', 'FREQUENCY': 'M', 'INDICATOR_UNIT': '-', 'YTD_TARGET': '39,771,526.00', 'YTD_ACTUAL': '', 'MONTHLY_TARGET': '7,229,363.00', 'MONTHLY_ACTUAL': ''}, {'AGENCY_NAME': 'Metro-North Railroad', 'INDICATOR_NAME': 'Total Ridership', 'DESCRIPTION': 'The number of passengers from whom the agency receives a fare (cash, train tickets, time-based passes, etc.) Ridership data is preliminary and subject to revision as well as adjustments warranted by annual audit review.', 'PERIOD_YEAR': 2011, 'PERIOD_MONTH': 7, 'CATEGORY': 'Service Indicators', 'FREQUENCY': 'M', 'INDICATOR_UNIT': '-', 'YTD_TARGET': '46,653,482.00', 'YTD_ACTUAL': '', 'MONTHLY_TARGET': '6,881,956.00', 'MONTHLY_ACTUAL': ''}, {'AGENCY_NAME': 'Metro-North Railroad', 'INDICATOR_NAME': 'Total Ridership', 'DESCRIPTION': 'The number of passengers from whom the agency receives a fare (cash, train tickets, time-based passes, etc.) Ridership data is preliminary and subject to revision as well as adjustments warranted by annual audit review.', 'PERIOD_YEAR': 2011, 'PERIOD_MONTH': 8, 'CATEGORY': 'Service Indicators', 'FREQUENCY': 'M', 'INDICATOR_UNIT': '-', 'YTD_TARGET': '53,701,665.00', 'YTD_ACTUAL': '', 'MONTHLY_TARGET': '7,048,183.00', 'MONTHLY_ACTUAL': ''}, {'AGENCY_NAME': 'Metro-North Railroad', 'INDICATOR_NAME': 'Total Ridership', 'DESCRIPTION': 'The number of passengers from whom the agency receives a fare (cash, train tickets, time-based passes, etc.) Ridership data is preliminary and subject to revision as well as adjustments warranted by annual audit review.', 'PERIOD_YEAR': 2011, 'PERIOD_MONTH': 9, 'CATEGORY': 'Service Indicators', 'FREQUENCY': 'M', 'INDICATOR_UNIT': '-', 'YTD_TARGET': '60,550,721.00', 'YTD_ACTUAL': '', 'MONTHLY_TARGET': '6,849,056.00', 'MONTHLY_ACTUAL': ''}, {'AGENCY_NAME': 'Metro-North Railroad', 'INDICATOR_NAME': 'Total Ridership', 'DESCRIPTION': 'The number of passengers from whom the agency receives a fare (cash, train tickets, time-based passes, etc.) Ridership data is preliminary and subject to revision as well as adjustments warranted by annual audit review.', 'PERIOD_YEAR': 2011, 'PERIOD_MONTH': 10, 'CATEGORY': 'Service Indicators', 'FREQUENCY': 'M', 'INDICATOR_UNIT': '-', 'YTD_TARGET': '67,612,098.00', 'YTD_ACTUAL': '', 'MONTHLY_TARGET': '7,061,377.00', 'MONTHLY_ACTUAL': ''}, {'AGENCY_NAME': 'Metro-North Railroad', 'INDICATOR_NAME': 'Total Ridership', 'DESCRIPTION': 'The number of passengers from whom the agency receives a fare (cash, train tickets, time-based passes, etc.) Ridership data is preliminary and subject to revision as well as adjustments warranted by annual audit review.', 'PERIOD_YEAR': 2011, 'PERIOD_MONTH': 11, 'CATEGORY': 'Service Indicators', 'FREQUENCY': 'M', 'INDICATOR_UNIT': '-', 'YTD_TARGET': '74,589,125.00', 'YTD_ACTUAL': '', 'MONTHLY_TARGET': '6,977,027.00', 'MONTHLY_ACTUAL': ''}, {'AGENCY_NAME': 'Metro-North Railroad', 'INDICATOR_NAME': 'Total Ridership', 'DESCRIPTION': 'The number of passengers from whom the agency receives a fare (cash, train tickets, time-based passes, etc.) Ridership data is preliminary and subject to revision as well as adjustments warranted by annual audit review.', 'PERIOD_YEAR': 2011, 'PERIOD_MONTH': 12, 'CATEGORY': 'Service Indicators', 'FREQUENCY': 'M', 'INDICATOR_UNIT': '-', 'YTD_TARGET': '81,670,880.00', 'YTD_ACTUAL': '', 'MONTHLY_TARGET': '7,081,755.00', 'MONTHLY_ACTUAL': ''}, {'AGENCY_NAME': 'Metro-North Railroad', 'INDICATOR_NAME': 'Hudson Line - OTP', 'DESCRIPTION': 'Percent of commuter trains that arrive at their destinations within 5 minutes and 59 seconds of the scheduled time.', 'PERIOD_YEAR': 2008, 'PERIOD_MONTH': 1, 'CATEGORY': 'Service Indicators', 'FREQUENCY': 'M', 'INDICATOR_UNIT': '%', 'YTD_TARGET': 98.0, 'YTD_ACTUAL': 99.3, 'MONTHLY_TARGET': 98.0, 'MONTHLY_ACTUAL': 99.3}, {'AGENCY_NAME': 'Metro-North Railroad', 'INDICATOR_NAME': 'Hudson Line - OTP', 'DESCRIPTION': 'Percent of commuter trains that arrive at their destinations within 5 minutes and 59 seconds of the scheduled time.', 'PERIOD_YEAR': 2008, 'PERIOD_MONTH': 2, 'CATEGORY': 'Service Indicators', 'FREQUENCY': 'M', 'INDICATOR_UNIT': '%', 'YTD_TARGET': 98.0, 'YTD_ACTUAL': 99.2, 'MONTHLY_TARGET': 98.0, 'MONTHLY_ACTUAL': 99.1}, {'AGENCY_NAME': 'Metro-North Railroad', 'INDICATOR_NAME': 'Hudson Line - OTP', 'DESCRIPTION': 'Percent of commuter trains that arrive at their destinations within 5 minutes and 59 seconds of the scheduled time.', 'PERIOD_YEAR': 2008, 'PERIOD_MONTH': 3, 'CATEGORY': 'Service Indicators', 'FREQUENCY': 'M', 'INDICATOR_UNIT': '%', 'YTD_TARGET': 98.0, 'YTD_ACTUAL': 98.4, 'MONTHLY_TARGET': 98.0, 'MONTHLY_ACTUAL': 96.9}, {'AGENCY_NAME': 'Metro-North Railroad', 'INDICATOR_NAME': 'Hudson Line - OTP', 'DESCRIPTION': 'Percent of commuter trains that arrive at their destinations within 5 minutes and 59 seconds of the scheduled time.', 'PERIOD_YEAR': 2008, 'PERIOD_MONTH': 4, 'CATEGORY': 'Service Indicators', 'FREQUENCY': 'M', 'INDICATOR_UNIT': '%', 'YTD_TARGET': 98.0, 'YTD_ACTUAL': 98.4, 'MONTHLY_TARGET': 98.0, 'MONTHLY_ACTUAL': 98.6}, {'AGENCY_NAME': 'Metro-North Railroad', 'INDICATOR_NAME': 'Hudson Line - OTP', 'DESCRIPTION': 'Percent of commuter trains that arrive at their destinations within 5 minutes and 59 seconds of the scheduled time.', 'PERIOD_YEAR': 2008, 'PERIOD_MONTH': 5, 'CATEGORY': 'Service Indicators', 'FREQUENCY': 'M', 'INDICATOR_UNIT': '%', 'YTD_TARGET': 98.0, 'YTD_ACTUAL': 98.2, 'MONTHLY_TARGET': 98.0, 'MONTHLY_ACTUAL': 97.4}, {'AGENCY_NAME': 'Metro-North Railroad', 'INDICATOR_NAME': 'Hudson Line - OTP', 'DESCRIPTION': 'Percent of commuter trains that arrive at their destinations within 5 minutes and 59 seconds of the scheduled time.', 'PERIOD_YEAR': 2008, 'PERIOD_MONTH': 6, 'CATEGORY': 'Service Indicators', 'FREQUENCY': 'M', 'INDICATOR_UNIT': '%', 'YTD_TARGET': 98.0, 'YTD_ACTUAL': 97.8, 'MONTHLY_TARGET': 98.0, 'MONTHLY_ACTUAL': 95.9}, {'AGENCY_NAME': 'Metro-North Railroad', 'INDICATOR_NAME': 'Hudson Line - OTP', 'DESCRIPTION': 'Percent of commuter trains that arrive at their destinations within 5 minutes and 59 seconds of the scheduled time.', 'PERIOD_YEAR': 2008, 'PERIOD_MONTH': 7, 'CATEGORY': 'Service Indicators', 'FREQUENCY': 'M', 'INDICATOR_UNIT': '%', 'YTD_TARGET': 98.0, 'YTD_ACTUAL': 97.7, 'MONTHLY_TARGET': 98.0, 'MONTHLY_ACTUAL': 97.0}, {'AGENCY_NAME': 'Metro-North Railroad', 'INDICATOR_NAME': 'Hudson Line - OTP', 'DESCRIPTION': 'Percent of commuter trains that arrive at their destinations within 5 minutes and 59 seconds of the scheduled time.', 'PERIOD_YEAR': 2008, 'PERIOD_MONTH': 8, 'CATEGORY': 'Service Indicators', 'FREQUENCY': 'M', 'INDICATOR_UNIT': '%', 'YTD_TARGET': 98.0, 'YTD_ACTUAL': 97.7, 'MONTHLY_TARGET': 98.0, 'MONTHLY_ACTUAL': 97.7}, {'AGENCY_NAME': 'Metro-North Railroad', 'INDICATOR_NAME': 'Hudson Line - OTP', 'DESCRIPTION': 'Percent of commuter trains that arrive at their destinations within 5 minutes and 59 seconds of the scheduled time.', 'PERIOD_YEAR': 2008, 'PERIOD_MONTH': 9, 'CATEGORY': 'Service Indicators', 'FREQUENCY': 'M', 'INDICATOR_UNIT': '%', 'YTD_TARGET': 98.0, 'YTD_ACTUAL': 97.8, 'MONTHLY_TARGET': 98.0, 'MONTHLY_ACTUAL': 98.2}, {'AGENCY_NAME': 'Metro-North Railroad', 'INDICATOR_NAME': 'Hudson Line - OTP', 'DESCRIPTION': 'Percent of commuter trains that arrive at their destinations within 5 minutes and 59 seconds of the scheduled time.', 'PERIOD_YEAR': 2008, 'PERIOD_MONTH': 10, 'CATEGORY': 'Service Indicators', 'FREQUENCY': 'M', 'INDICATOR_UNIT': '%', 'YTD_TARGET': 98.0, 'YTD_ACTUAL': 97.7, 'MONTHLY_TARGET': 98.0, 'MONTHLY_ACTUAL': 96.8}, {'AGENCY_NAME': 'Metro-North Railroad', 'INDICATOR_NAME': 'Hudson Line - OTP', 'DESCRIPTION': 'Percent of commuter trains that arrive at their destinations within 5 minutes and 59 seconds of the scheduled time.', 'PERIOD_YEAR': 2008, 'PERIOD_MONTH': 11, 'CATEGORY': 'Service Indicators', 'FREQUENCY': 'M', 'INDICATOR_UNIT': '%', 'YTD_TARGET': 98.0, 'YTD_ACTUAL': 97.6, 'MONTHLY_TARGET': 98.0, 'MONTHLY_ACTUAL': 97.0}, {'AGENCY_NAME': 'Metro-North Railroad', 'INDICATOR_NAME': 'Hudson Line - OTP', 'DESCRIPTION': 'Percent of commuter trains that arrive at their destinations within 5 minutes and 59 seconds of the scheduled time.', 'PERIOD_YEAR': 2008, 'PERIOD_MONTH': 12, 'CATEGORY': 'Service Indicators', 'FREQUENCY': 'M', 'INDICATOR_UNIT': '%', 'YTD_TARGET': 98.0, 'YTD_ACTUAL': 97.6, 'MONTHLY_TARGET': 98.0, 'MONTHLY_ACTUAL': 97.2}, {'AGENCY_NAME': 'Metro-North Railroad', 'INDICATOR_NAME': 'Hudson Line - OTP', 'DESCRIPTION': 'Percent of commuter trains that arrive at their destinations within 5 minutes and 59 seconds of the scheduled time.', 'PERIOD_YEAR': 2009, 'PERIOD_MONTH': 1, 'CATEGORY': 'Service Indicators', 'FREQUENCY': 'M', 'INDICATOR_UNIT': '%', 'YTD_TARGET': 97.9, 'YTD_ACTUAL': 96.4, 'MONTHLY_TARGET': 97.9, 'MONTHLY_ACTUAL': 96.4}, {'AGENCY_NAME': 'Metro-North Railroad', 'INDICATOR_NAME': 'Hudson Line - OTP', 'DESCRIPTION': 'Percent of commuter trains that arrive at their destinations within 5 minutes and 59 seconds of the scheduled time.', 'PERIOD_YEAR': 2009, 'PERIOD_MONTH': 2, 'CATEGORY': 'Service Indicators', 'FREQUENCY': 'M', 'INDICATOR_UNIT': '%', 'YTD_TARGET': 97.9, 'YTD_ACTUAL': 97.6, 'MONTHLY_TARGET': 97.9, 'MONTHLY_ACTUAL': 98.9}, {'AGENCY_NAME': 'Metro-North Railroad', 'INDICATOR_NAME': 'Hudson Line - OTP', 'DESCRIPTION': 'Percent of commuter trains that arrive at their destinations within 5 minutes and 59 seconds of the scheduled time.', 'PERIOD_YEAR': 2009, 'PERIOD_MONTH': 3, 'CATEGORY': 'Service Indicators', 'FREQUENCY': 'M', 'INDICATOR_UNIT': '%', 'YTD_TARGET': 97.9, 'YTD_ACTUAL': 97.9, 'MONTHLY_TARGET': 97.9, 'MONTHLY_ACTUAL': 98.5}, {'AGENCY_NAME': 'Metro-North Railroad', 'INDICATOR_NAME': 'Hudson Line - OTP', 'DESCRIPTION': 'Percent of commuter trains that arrive at their destinations within 5 minutes and 59 seconds of the scheduled time.', 'PERIOD_YEAR': 2009, 'PERIOD_MONTH': 4, 'CATEGORY': 'Service Indicators', 'FREQUENCY': 'M', 'INDICATOR_UNIT': '%', 'YTD_TARGET': 97.9, 'YTD_ACTUAL': 98.1, 'MONTHLY_TARGET': 97.9, 'MONTHLY_ACTUAL': 98.8}, {'AGENCY_NAME': 'Metro-North Railroad', 'INDICATOR_NAME': 'Hudson Line - OTP', 'DESCRIPTION': 'Percent of commuter trains that arrive at their destinations within 5 minutes and 59 seconds of the scheduled time.', 'PERIOD_YEAR': 2009, 'PERIOD_MONTH': 5, 'CATEGORY': 'Service Indicators', 'FREQUENCY': 'M', 'INDICATOR_UNIT': '%', 'YTD_TARGET': 97.9, 'YTD_ACTUAL': 98.2, 'MONTHLY_TARGET': 97.9, 'MONTHLY_ACTUAL': 98.5}, {'AGENCY_NAME': 'Metro-North Railroad', 'INDICATOR_NAME': 'Hudson Line - OTP', 'DESCRIPTION': 'Percent of commuter trains that arrive at their destinations within 5 minutes and 59 seconds of the scheduled time.', 'PERIOD_YEAR': 2009, 'PERIOD_MONTH': 6, 'CATEGORY': 'Service Indicators', 'FREQUENCY': 'M', 'INDICATOR_UNIT': '%', 'YTD_TARGET': 97.9, 'YTD_ACTUAL': 98.1, 'MONTHLY_TARGET': 97.9, 'MONTHLY_ACTUAL': 97.6}, {'AGENCY_NAME': 'Metro-North Railroad', 'INDICATOR_NAME': 'Hudson Line - OTP', 'DESCRIPTION': 'Percent of commuter trains that arrive at their destinations within 5 minutes and 59 seconds of the scheduled time.', 'PERIOD_YEAR': 2009, 'PERIOD_MONTH': 7, 'CATEGORY': 'Service Indicators', 'FREQUENCY': 'M', 'INDICATOR_UNIT': '%', 'YTD_TARGET': 97.9, 'YTD_ACTUAL': 98.1, 'MONTHLY_TARGET': 97.9, 'MONTHLY_ACTUAL': 97.8}, {'AGENCY_NAME': 'Metro-North Railroad', 'INDICATOR_NAME': 'Hudson Line - OTP', 'DESCRIPTION': 'Percent of commuter trains that arrive at their destinations within 5 minutes and 59 seconds of the scheduled time.', 'PERIOD_YEAR': 2009, 'PERIOD_MONTH': 8, 'CATEGORY': 'Service Indicators', 'FREQUENCY': 'M', 'INDICATOR_UNIT': '%', 'YTD_TARGET': 97.9, 'YTD_ACTUAL': 97.9, 'MONTHLY_TARGET': 97.9, 'MONTHLY_ACTUAL': 96.7}, {'AGENCY_NAME': 'Metro-North Railroad', 'INDICATOR_NAME': 'Hudson Line - OTP', 'DESCRIPTION': 'Percent of commuter trains that arrive at their destinations within 5 minutes and 59 seconds of the scheduled time.', 'PERIOD_YEAR': 2009, 'PERIOD_MONTH': 9, 'CATEGORY': 'Service Indicators', 'FREQUENCY': 'M', 'INDICATOR_UNIT': '%', 'YTD_TARGET': 97.9, 'YTD_ACTUAL': 97.9, 'MONTHLY_TARGET': 97.9, 'MONTHLY_ACTUAL': 98.5}, {'AGENCY_NAME': 'Metro-North Railroad', 'INDICATOR_NAME': 'Hudson Line - OTP', 'DESCRIPTION': 'Percent of commuter trains that arrive at their destinations within 5 minutes and 59 seconds of the scheduled time.', 'PERIOD_YEAR': 2009, 'PERIOD_MONTH': 10, 'CATEGORY': 'Service Indicators', 'FREQUENCY': 'M', 'INDICATOR_UNIT': '%', 'YTD_TARGET': 97.9, 'YTD_ACTUAL': 97.9, 'MONTHLY_TARGET': 97.9, 'MONTHLY_ACTUAL': 98.1}, {'AGENCY_NAME': 'Metro-North Railroad', 'INDICATOR_NAME': 'Hudson Line - OTP', 'DESCRIPTION': 'Percent of commuter trains that arrive at their destinations within 5 minutes and 59 seconds of the scheduled time.', 'PERIOD_YEAR': 2009, 'PERIOD_MONTH': 11, 'CATEGORY': 'Service Indicators', 'FREQUENCY': 'M', 'INDICATOR_UNIT': '%', 'YTD_TARGET': 97.9, 'YTD_ACTUAL': 97.9, 'MONTHLY_TARGET': 97.9, 'MONTHLY_ACTUAL': 97.9}, {'AGENCY_NAME': 'Metro-North Railroad', 'INDICATOR_NAME': 'Hudson Line - OTP', 'DESCRIPTION': 'Percent of commuter trains that arrive at their destinations within 5 minutes and 59 seconds of the scheduled time.', 'PERIOD_YEAR': 2009, 'PERIOD_MONTH': 12, 'CATEGORY': 'Service Indicators', 'FREQUENCY': 'M', 'INDICATOR_UNIT': '%', 'YTD_TARGET': 97.9, 'YTD_ACTUAL': 97.9, 'MONTHLY_TARGET': 97.9, 'MONTHLY_ACTUAL': 98.3}, {'AGENCY_NAME': 'Metro-North Railroad', 'INDICATOR_NAME': 'Hudson Line - OTP', 'DESCRIPTION': 'Percent of commuter trains that arrive at their destinations within 5 minutes and 59 seconds of the scheduled time.', 'PERIOD_YEAR': 2010, 'PERIOD_MONTH': 1, 'CATEGORY': 'Service Indicators', 'FREQUENCY': 'M', 'INDICATOR_UNIT': '%', 'YTD_TARGET': 98.1, 'YTD_ACTUAL': 99.0, 'MONTHLY_TARGET': 98.1, 'MONTHLY_ACTUAL': 99.0}, {'AGENCY_NAME': 'Metro-North Railroad', 'INDICATOR_NAME': 'Hudson Line - OTP', 'DESCRIPTION': 'Percent of commuter trains that arrive at their destinations within 5 minutes and 59 seconds of the scheduled time.', 'PERIOD_YEAR': 2010, 'PERIOD_MONTH': 2, 'CATEGORY': 'Service Indicators', 'FREQUENCY': 'M', 'INDICATOR_UNIT': '%', 'YTD_TARGET': 98.1, 'YTD_ACTUAL': 98.1, 'MONTHLY_TARGET': 98.1, 'MONTHLY_ACTUAL': 97.2}, {'AGENCY_NAME': 'Metro-North Railroad', 'INDICATOR_NAME': 'Hudson Line - OTP', 'DESCRIPTION': 'Percent of commuter trains that arrive at their destinations within 5 minutes and 59 seconds of the scheduled time.', 'PERIOD_YEAR': 2010, 'PERIOD_MONTH': 3, 'CATEGORY': 'Service Indicators', 'FREQUENCY': 'M', 'INDICATOR_UNIT': '%', 'YTD_TARGET': 98.1, 'YTD_ACTUAL': 98.3, 'MONTHLY_TARGET': 98.1, 'MONTHLY_ACTUAL': 98.6}, {'AGENCY_NAME': 'Metro-North Railroad', 'INDICATOR_NAME': 'Hudson Line - OTP', 'DESCRIPTION': 'Percent of commuter trains that arrive at their destinations within 5 minutes and 59 seconds of the scheduled time.', 'PERIOD_YEAR': 2010, 'PERIOD_MONTH': 4, 'CATEGORY': 'Service Indicators', 'FREQUENCY': 'M', 'INDICATOR_UNIT': '%', 'YTD_TARGET': 98.1, 'YTD_ACTUAL': 98.4, 'MONTHLY_TARGET': 98.1, 'MONTHLY_ACTUAL': 98.6}, {'AGENCY_NAME': 'Metro-North Railroad', 'INDICATOR_NAME': 'Hudson Line - OTP', 'DESCRIPTION': 'Percent of commuter trains that arrive at their destinations within 5 minutes and 59 seconds of the scheduled time.', 'PERIOD_YEAR': 2010, 'PERIOD_MONTH': 5, 'CATEGORY': 'Service Indicators', 'FREQUENCY': 'M', 'INDICATOR_UNIT': '%', 'YTD_TARGET': 98.1, 'YTD_ACTUAL': 98.3, 'MONTHLY_TARGET': 98.1, 'MONTHLY_ACTUAL': 97.9}, {'AGENCY_NAME': 'Metro-North Railroad', 'INDICATOR_NAME': 'Hudson Line - OTP', 'DESCRIPTION': 'Percent of commuter trains that arrive at their destinations within 5 minutes and 59 seconds of the scheduled time.', 'PERIOD_YEAR': 2010, 'PERIOD_MONTH': 6, 'CATEGORY': 'Service Indicators', 'FREQUENCY': 'M', 'INDICATOR_UNIT': '%', 'YTD_TARGET': 98.1, 'YTD_ACTUAL': 98.3, 'MONTHLY_TARGET': 98.1, 'MONTHLY_ACTUAL': 98.5}, {'AGENCY_NAME': 'Metro-North Railroad', 'INDICATOR_NAME': 'Hudson Line - OTP', 'DESCRIPTION': 'Percent of commuter trains that arrive at their destinations within 5 minutes and 59 seconds of the scheduled time.', 'PERIOD_YEAR': 2010, 'PERIOD_MONTH': 7, 'CATEGORY': 'Service Indicators', 'FREQUENCY': 'M', 'INDICATOR_UNIT': '%', 'YTD_TARGET': 98.1, 'YTD_ACTUAL': 98.2, 'MONTHLY_TARGET': 98.1, 'MONTHLY_ACTUAL': 97.5}, {'AGENCY_NAME': 'Metro-North Railroad', 'INDICATOR_NAME': 'Hudson Line - OTP', 'DESCRIPTION': 'Percent of commuter trains that arrive at their destinations within 5 minutes and 59 seconds of the scheduled time.', 'PERIOD_YEAR': 2010, 'PERIOD_MONTH': 8, 'CATEGORY': 'Service Indicators', 'FREQUENCY': 'M', 'INDICATOR_UNIT': '%', 'YTD_TARGET': 98.1, 'YTD_ACTUAL': 98.2, 'MONTHLY_TARGET': 98.1, 'MONTHLY_ACTUAL': 98.0}, {'AGENCY_NAME': 'Metro-North Railroad', 'INDICATOR_NAME': 'Hudson Line - OTP', 'DESCRIPTION': 'Percent of commuter trains that arrive at their destinations within 5 minutes and 59 seconds of the scheduled time.', 'PERIOD_YEAR': 2010, 'PERIOD_MONTH': 9, 'CATEGORY': 'Service Indicators', 'FREQUENCY': 'M', 'INDICATOR_UNIT': '%', 'YTD_TARGET': 98.1, 'YTD_ACTUAL': 98.1, 'MONTHLY_TARGET': 98.1, 'MONTHLY_ACTUAL': 97.4}, {'AGENCY_NAME': 'Metro-North Railroad', 'INDICATOR_NAME': 'Hudson Line - OTP', 'DESCRIPTION': 'Percent of commuter trains that arrive at their destinations within 5 minutes and 59 seconds of the scheduled time.', 'PERIOD_YEAR': 2010, 'PERIOD_MONTH': 10, 'CATEGORY': 'Service Indicators', 'FREQUENCY': 'M', 'INDICATOR_UNIT': '%', 'YTD_TARGET': 98.1, 'YTD_ACTUAL': 98.1, 'MONTHLY_TARGET': 98.1, 'MONTHLY_ACTUAL': 97.8}, {'AGENCY_NAME': 'Metro-North Railroad', 'INDICATOR_NAME': 'Hudson Line - OTP', 'DESCRIPTION': 'Percent of commuter trains that arrive at their destinations within 5 minutes and 59 seconds of the scheduled time.', 'PERIOD_YEAR': 2010, 'PERIOD_MONTH': 11, 'CATEGORY': 'Service Indicators', 'FREQUENCY': 'M', 'INDICATOR_UNIT': '%', 'YTD_TARGET': 98.1, 'YTD_ACTUAL': 98.1, 'MONTHLY_TARGET': 98.1, 'MONTHLY_ACTUAL': 98.1}, {'AGENCY_NAME': 'Metro-North Railroad', 'INDICATOR_NAME': 'Hudson Line - OTP', 'DESCRIPTION': 'Percent of commuter trains that arrive at their destinations within 5 minutes and 59 seconds of the scheduled time.', 'PERIOD_YEAR': 2010, 'PERIOD_MONTH': 12, 'CATEGORY': 'Service Indicators', 'FREQUENCY': 'M', 'INDICATOR_UNIT': '%', 'YTD_TARGET': 98.1, 'YTD_ACTUAL': 98.0, 'MONTHLY_TARGET': 98.1, 'MONTHLY_ACTUAL': 97.1}, {'AGENCY_NAME': 'Metro-North Railroad', 'INDICATOR_NAME': 'Hudson Line - OTP', 'DESCRIPTION': 'Percent of commuter trains that arrive at their destinations within 5 minutes and 59 seconds of the scheduled time.', 'PERIOD_YEAR': 2011, 'PERIOD_MONTH': 1, 'CATEGORY': 'Service Indicators', 'FREQUENCY': 'M', 'INDICATOR_UNIT': '%', 'YTD_TARGET': 98.2, 'YTD_ACTUAL': 97.4, 'MONTHLY_TARGET': 98.2, 'MONTHLY_ACTUAL': 97.4}, {'AGENCY_NAME': 'Metro-North Railroad', 'INDICATOR_NAME': 'Hudson Line - OTP', 'DESCRIPTION': 'Percent of commuter trains that arrive at their destinations within 5 minutes and 59 seconds of the scheduled time.', 'PERIOD_YEAR': 2011, 'PERIOD_MONTH': 2, 'CATEGORY': 'Service Indicators', 'FREQUENCY': 'M', 'INDICATOR_UNIT': '%', 'YTD_TARGET': 98.2, 'YTD_ACTUAL': 97.7, 'MONTHLY_TARGET': 98.2, 'MONTHLY_ACTUAL': 98.1}, {'AGENCY_NAME': 'Metro-North Railroad', 'INDICATOR_NAME': 'Hudson Line - OTP', 'DESCRIPTION': 'Percent of commuter trains that arrive at their destinations within 5 minutes and 59 seconds of the scheduled time.', 'PERIOD_YEAR': 2011, 'PERIOD_MONTH': 3, 'CATEGORY': 'Service Indicators', 'FREQUENCY': 'M', 'INDICATOR_UNIT': '%', 'YTD_TARGET': 98.2, 'YTD_ACTUAL': 97.9, 'MONTHLY_TARGET': 98.2, 'MONTHLY_ACTUAL': 98.3}, {'AGENCY_NAME': 'Metro-North Railroad', 'INDICATOR_NAME': 'Hudson Line - OTP', 'DESCRIPTION': 'Percent of commuter trains that arrive at their destinations within 5 minutes and 59 seconds of the scheduled time.', 'PERIOD_YEAR': 2011, 'PERIOD_MONTH': 4, 'CATEGORY': 'Service Indicators', 'FREQUENCY': 'M', 'INDICATOR_UNIT': '%', 'YTD_TARGET': 98.2, 'YTD_ACTUAL': 98.1, 'MONTHLY_TARGET': 98.2, 'MONTHLY_ACTUAL': 98.7}, {'AGENCY_NAME': 'Metro-North Railroad', 'INDICATOR_NAME': 'Hudson Line - OTP', 'DESCRIPTION': 'Percent of commuter trains that arrive at their destinations within 5 minutes and 59 seconds of the scheduled time.', 'PERIOD_YEAR': 2011, 'PERIOD_MONTH': 5, 'CATEGORY': 'Service Indicators', 'FREQUENCY': 'M', 'INDICATOR_UNIT': '%', 'YTD_TARGET': 98.2, 'YTD_ACTUAL': '', 'MONTHLY_TARGET': 98.2, 'MONTHLY_ACTUAL': ''}, {'AGENCY_NAME': 'Metro-North Railroad', 'INDICATOR_NAME': 'Hudson Line - OTP', 'DESCRIPTION': 'Percent of commuter trains that arrive at their destinations within 5 minutes and 59 seconds of the scheduled time.', 'PERIOD_YEAR': 2011, 'PERIOD_MONTH': 6, 'CATEGORY': 'Service Indicators', 'FREQUENCY': 'M', 'INDICATOR_UNIT': '%', 'YTD_TARGET': 98.2, 'YTD_ACTUAL': '', 'MONTHLY_TARGET': 98.2, 'MONTHLY_ACTUAL': ''}, {'AGENCY_NAME': 'Metro-North Railroad', 'INDICATOR_NAME': 'Hudson Line - OTP', 'DESCRIPTION': 'Percent of commuter trains that arrive at their destinations within 5 minutes and 59 seconds of the scheduled time.', 'PERIOD_YEAR': 2011, 'PERIOD_MONTH': 7, 'CATEGORY': 'Service Indicators', 'FREQUENCY': 'M', 'INDICATOR_UNIT': '%', 'YTD_TARGET': 98.2, 'YTD_ACTUAL': '', 'MONTHLY_TARGET': 98.2, 'MONTHLY_ACTUAL': ''}, {'AGENCY_NAME': 'Metro-North Railroad', 'INDICATOR_NAME': 'Hudson Line - OTP', 'DESCRIPTION': 'Percent of commuter trains that arrive at their destinations within 5 minutes and 59 seconds of the scheduled time.', 'PERIOD_YEAR': 2011, 'PERIOD_MONTH': 8, 'CATEGORY': 'Service Indicators', 'FREQUENCY': 'M', 'INDICATOR_UNIT': '%', 'YTD_TARGET': 98.2, 'YTD_ACTUAL': '', 'MONTHLY_TARGET': 98.2, 'MONTHLY_ACTUAL': ''}, {'AGENCY_NAME': 'Metro-North Railroad', 'INDICATOR_NAME': 'Hudson Line - OTP', 'DESCRIPTION': 'Percent of commuter trains that arrive at their destinations within 5 minutes and 59 seconds of the scheduled time.', 'PERIOD_YEAR': 2011, 'PERIOD_MONTH': 9, 'CATEGORY': 'Service Indicators', 'FREQUENCY': 'M', 'INDICATOR_UNIT': '%', 'YTD_TARGET': 98.2, 'YTD_ACTUAL': '', 'MONTHLY_TARGET': 98.2, 'MONTHLY_ACTUAL': ''}, {'AGENCY_NAME': 'Metro-North Railroad', 'INDICATOR_NAME': 'Hudson Line - OTP', 'DESCRIPTION': 'Percent of commuter trains that arrive at their destinations within 5 minutes and 59 seconds of the scheduled time.', 'PERIOD_YEAR': 2011, 'PERIOD_MONTH': 10, 'CATEGORY': 'Service Indicators', 'FREQUENCY': 'M', 'INDICATOR_UNIT': '%', 'YTD_TARGET': 98.2, 'YTD_ACTUAL': '', 'MONTHLY_TARGET': 98.2, 'MONTHLY_ACTUAL': ''}, {'AGENCY_NAME': 'Metro-North Railroad', 'INDICATOR_NAME': 'Hudson Line - OTP', 'DESCRIPTION': 'Percent of commuter trains that arrive at their destinations within 5 minutes and 59 seconds of the scheduled time.', 'PERIOD_YEAR': 2011, 'PERIOD_MONTH': 11, 'CATEGORY': 'Service Indicators', 'FREQUENCY': 'M', 'INDICATOR_UNIT': '%', 'YTD_TARGET': 98.2, 'YTD_ACTUAL': '', 'MONTHLY_TARGET': 98.2, 'MONTHLY_ACTUAL': ''}, {'AGENCY_NAME': 'Metro-North Railroad', 'INDICATOR_NAME': 'Hudson Line - OTP', 'DESCRIPTION': 'Percent of commuter trains that arrive at their destinations within 5 minutes and 59 seconds of the scheduled time.', 'PERIOD_YEAR': 2011, 'PERIOD_MONTH': 12, 'CATEGORY': 'Service Indicators', 'FREQUENCY': 'M', 'INDICATOR_UNIT': '%', 'YTD_TARGET': 98.2, 'YTD_ACTUAL': '', 'MONTHLY_TARGET': 98.2, 'MONTHLY_ACTUAL': ''}, {'AGENCY_NAME': 'Metro-North Railroad', 'INDICATOR_NAME': 'Harlem Line - OTP', 'DESCRIPTION': 'Percent of commuter trains that arrive at their destinations within 5 minutes and 59 seconds of the scheduled time.', 'PERIOD_YEAR': 2008, 'PERIOD_MONTH': 1, 'CATEGORY': 'Service Indicators', 'FREQUENCY': 'M', 'INDICATOR_UNIT': '%', 'YTD_TARGET': 98.0, 'YTD_ACTUAL': 99.0, 'MONTHLY_TARGET': 98.0, 'MONTHLY_ACTUAL': 99.0}, {'AGENCY_NAME': 'Metro-North Railroad', 'INDICATOR_NAME': 'Harlem Line - OTP', 'DESCRIPTION': 'Percent of commuter trains that arrive at their destinations within 5 minutes and 59 seconds of the scheduled time.', 'PERIOD_YEAR': 2008, 'PERIOD_MONTH': 2, 'CATEGORY': 'Service Indicators', 'FREQUENCY': 'M', 'INDICATOR_UNIT': '%', 'YTD_TARGET': 98.0, 'YTD_ACTUAL': 99.1, 'MONTHLY_TARGET': 98.0, 'MONTHLY_ACTUAL': 99.2}, {'AGENCY_NAME': 'Metro-North Railroad', 'INDICATOR_NAME': 'Harlem Line - OTP', 'DESCRIPTION': 'Percent of commuter trains that arrive at their destinations within 5 minutes and 59 seconds of the scheduled time.', 'PERIOD_YEAR': 2008, 'PERIOD_MONTH': 3, 'CATEGORY': 'Service Indicators', 'FREQUENCY': 'M', 'INDICATOR_UNIT': '%', 'YTD_TARGET': 98.0, 'YTD_ACTUAL': 98.5, 'MONTHLY_TARGET': 98.0, 'MONTHLY_ACTUAL': 97.2}, {'AGENCY_NAME': 'Metro-North Railroad', 'INDICATOR_NAME': 'Harlem Line - OTP', 'DESCRIPTION': 'Percent of commuter trains that arrive at their destinations within 5 minutes and 59 seconds of the scheduled time.', 'PERIOD_YEAR': 2008, 'PERIOD_MONTH': 4, 'CATEGORY': 'Service Indicators', 'FREQUENCY': 'M', 'INDICATOR_UNIT': '%', 'YTD_TARGET': 98.0, 'YTD_ACTUAL': 98.7, 'MONTHLY_TARGET': 98.0, 'MONTHLY_ACTUAL': 99.2}, {'AGENCY_NAME': 'Metro-North Railroad', 'INDICATOR_NAME': 'Harlem Line - OTP', 'DESCRIPTION': 'Percent of commuter trains that arrive at their destinations within 5 minutes and 59 seconds of the scheduled time.', 'PERIOD_YEAR': 2008, 'PERIOD_MONTH': 5, 'CATEGORY': 'Service Indicators', 'FREQUENCY': 'M', 'INDICATOR_UNIT': '%', 'YTD_TARGET': 98.0, 'YTD_ACTUAL': 98.7, 'MONTHLY_TARGET': 98.0, 'MONTHLY_ACTUAL': 98.6}, {'AGENCY_NAME': 'Metro-North Railroad', 'INDICATOR_NAME': 'Harlem Line - OTP', 'DESCRIPTION': 'Percent of commuter trains that arrive at their destinations within 5 minutes and 59 seconds of the scheduled time.', 'PERIOD_YEAR': 2008, 'PERIOD_MONTH': 6, 'CATEGORY': 'Service Indicators', 'FREQUENCY': 'M', 'INDICATOR_UNIT': '%', 'YTD_TARGET': 98.0, 'YTD_ACTUAL': 98.5, 'MONTHLY_TARGET': 98.0, 'MONTHLY_ACTUAL': 97.8}, {'AGENCY_NAME': 'Metro-North Railroad', 'INDICATOR_NAME': 'Harlem Line - OTP', 'DESCRIPTION': 'Percent of commuter trains that arrive at their destinations within 5 minutes and 59 seconds of the scheduled time.', 'PERIOD_YEAR': 2008, 'PERIOD_MONTH': 7, 'CATEGORY': 'Service Indicators', 'FREQUENCY': 'M', 'INDICATOR_UNIT': '%', 'YTD_TARGET': 98.0, 'YTD_ACTUAL': 98.4, 'MONTHLY_TARGET': 98.0, 'MONTHLY_ACTUAL': 98.0}, {'AGENCY_NAME': 'Metro-North Railroad', 'INDICATOR_NAME': 'Harlem Line - OTP', 'DESCRIPTION': 'Percent of commuter trains that arrive at their destinations within 5 minutes and 59 seconds of the scheduled time.', 'PERIOD_YEAR': 2008, 'PERIOD_MONTH': 8, 'CATEGORY': 'Service Indicators', 'FREQUENCY': 'M', 'INDICATOR_UNIT': '%', 'YTD_TARGET': 98.0, 'YTD_ACTUAL': 98.4, 'MONTHLY_TARGET': 98.0, 'MONTHLY_ACTUAL': 98.2}, {'AGENCY_NAME': 'Metro-North Railroad', 'INDICATOR_NAME': 'Harlem Line - OTP', 'DESCRIPTION': 'Percent of commuter trains that arrive at their destinations within 5 minutes and 59 seconds of the scheduled time.', 'PERIOD_YEAR': 2008, 'PERIOD_MONTH': 9, 'CATEGORY': 'Service Indicators', 'FREQUENCY': 'M', 'INDICATOR_UNIT': '%', 'YTD_TARGET': 98.0, 'YTD_ACTUAL': 98.3, 'MONTHLY_TARGET': 98.0, 'MONTHLY_ACTUAL': 97.7}, {'AGENCY_NAME': 'Metro-North Railroad', 'INDICATOR_NAME': 'Harlem Line - OTP', 'DESCRIPTION': 'Percent of commuter trains that arrive at their destinations within 5 minutes and 59 seconds of the scheduled time.', 'PERIOD_YEAR': 2008, 'PERIOD_MONTH': 10, 'CATEGORY': 'Service Indicators', 'FREQUENCY': 'M', 'INDICATOR_UNIT': '%', 'YTD_TARGET': 98.0, 'YTD_ACTUAL': 98.3, 'MONTHLY_TARGET': 98.0, 'MONTHLY_ACTUAL': 97.8}, {'AGENCY_NAME': 'Metro-North Railroad', 'INDICATOR_NAME': 'Harlem Line - OTP', 'DESCRIPTION': 'Percent of commuter trains that arrive at their destinations within 5 minutes and 59 seconds of the scheduled time.', 'PERIOD_YEAR': 2008, 'PERIOD_MONTH': 11, 'CATEGORY': 'Service Indicators', 'FREQUENCY': 'M', 'INDICATOR_UNIT': '%', 'YTD_TARGET': 98.0, 'YTD_ACTUAL': 98.3, 'MONTHLY_TARGET': 98.0, 'MONTHLY_ACTUAL': 98.1}, {'AGENCY_NAME': 'Metro-North Railroad', 'INDICATOR_NAME': 'Harlem Line - OTP', 'DESCRIPTION': 'Percent of commuter trains that arrive at their destinations within 5 minutes and 59 seconds of the scheduled time.', 'PERIOD_YEAR': 2008, 'PERIOD_MONTH': 12, 'CATEGORY': 'Service Indicators', 'FREQUENCY': 'M', 'INDICATOR_UNIT': '%', 'YTD_TARGET': 98.0, 'YTD_ACTUAL': 98.2, 'MONTHLY_TARGET': 98.0, 'MONTHLY_ACTUAL': 97.6}, {'AGENCY_NAME': 'Metro-North Railroad', 'INDICATOR_NAME': 'Harlem Line - OTP', 'DESCRIPTION': 'Percent of commuter trains that arrive at their destinations within 5 minutes and 59 seconds of the scheduled time.', 'PERIOD_YEAR': 2009, 'PERIOD_MONTH': 1, 'CATEGORY': 'Service Indicators', 'FREQUENCY': 'M', 'INDICATOR_UNIT': '%', 'YTD_TARGET': 98.2, 'YTD_ACTUAL': 97.8, 'MONTHLY_TARGET': 98.2, 'MONTHLY_ACTUAL': 97.8}, {'AGENCY_NAME': 'Metro-North Railroad', 'INDICATOR_NAME': 'Harlem Line - OTP', 'DESCRIPTION': 'Percent of commuter trains that arrive at their destinations within 5 minutes and 59 seconds of the scheduled time.', 'PERIOD_YEAR': 2009, 'PERIOD_MONTH': 2, 'CATEGORY': 'Service Indicators', 'FREQUENCY': 'M', 'INDICATOR_UNIT': '%', 'YTD_TARGET': 98.2, 'YTD_ACTUAL': 98.2, 'MONTHLY_TARGET': 98.2, 'MONTHLY_ACTUAL': 98.6}, {'AGENCY_NAME': 'Metro-North Railroad', 'INDICATOR_NAME': 'Harlem Line - OTP', 'DESCRIPTION': 'Percent of commuter trains that arrive at their destinations within 5 minutes and 59 seconds of the scheduled time.', 'PERIOD_YEAR': 2009, 'PERIOD_MONTH': 3, 'CATEGORY': 'Service Indicators', 'FREQUENCY': 'M', 'INDICATOR_UNIT': '%', 'YTD_TARGET': 98.2, 'YTD_ACTUAL': 98.5, 'MONTHLY_TARGET': 98.2, 'MONTHLY_ACTUAL': 99.1}, {'AGENCY_NAME': 'Metro-North Railroad', 'INDICATOR_NAME': 'Harlem Line - OTP', 'DESCRIPTION': 'Percent of commuter trains that arrive at their destinations within 5 minutes and 59 seconds of the scheduled time.', 'PERIOD_YEAR': 2009, 'PERIOD_MONTH': 4, 'CATEGORY': 'Service Indicators', 'FREQUENCY': 'M', 'INDICATOR_UNIT': '%', 'YTD_TARGET': 98.2, 'YTD_ACTUAL': 98.6, 'MONTHLY_TARGET': 98.2, 'MONTHLY_ACTUAL': 98.9}, {'AGENCY_NAME': 'Metro-North Railroad', 'INDICATOR_NAME': 'Harlem Line - OTP', 'DESCRIPTION': 'Percent of commuter trains that arrive at their destinations within 5 minutes and 59 seconds of the scheduled time.', 'PERIOD_YEAR': 2009, 'PERIOD_MONTH': 5, 'CATEGORY': 'Service Indicators', 'FREQUENCY': 'M', 'INDICATOR_UNIT': '%', 'YTD_TARGET': 98.2, 'YTD_ACTUAL': 98.7, 'MONTHLY_TARGET': 98.2, 'MONTHLY_ACTUAL': 98.9}, {'AGENCY_NAME': 'Metro-North Railroad', 'INDICATOR_NAME': 'Harlem Line - OTP', 'DESCRIPTION': 'Percent of commuter trains that arrive at their destinations within 5 minutes and 59 seconds of the scheduled time.', 'PERIOD_YEAR': 2009, 'PERIOD_MONTH': 6, 'CATEGORY': 'Service Indicators', 'FREQUENCY': 'M', 'INDICATOR_UNIT': '%', 'YTD_TARGET': 98.2, 'YTD_ACTUAL': 98.7, 'MONTHLY_TARGET': 98.2, 'MONTHLY_ACTUAL': 99.0}, {'AGENCY_NAME': 'Metro-North Railroad', 'INDICATOR_NAME': 'Harlem Line - OTP', 'DESCRIPTION': 'Percent of commuter trains that arrive at their destinations within 5 minutes and 59 seconds of the scheduled time.', 'PERIOD_YEAR': 2009, 'PERIOD_MONTH': 7, 'CATEGORY': 'Service Indicators', 'FREQUENCY': 'M', 'INDICATOR_UNIT': '%', 'YTD_TARGET': 98.2, 'YTD_ACTUAL': 98.7, 'MONTHLY_TARGET': 98.2, 'MONTHLY_ACTUAL': 98.7}, {'AGENCY_NAME': 'Metro-North Railroad', 'INDICATOR_NAME': 'Harlem Line - OTP', 'DESCRIPTION': 'Percent of commuter trains that arrive at their destinations within 5 minutes and 59 seconds of the scheduled time.', 'PERIOD_YEAR': 2009, 'PERIOD_MONTH': 8, 'CATEGORY': 'Service Indicators', 'FREQUENCY': 'M', 'INDICATOR_UNIT': '%', 'YTD_TARGET': 98.2, 'YTD_ACTUAL': 98.7, 'MONTHLY_TARGET': 98.2, 'MONTHLY_ACTUAL': 98.5}, {'AGENCY_NAME': 'Metro-North Railroad', 'INDICATOR_NAME': 'Harlem Line - OTP', 'DESCRIPTION': 'Percent of commuter trains that arrive at their destinations within 5 minutes and 59 seconds of the scheduled time.', 'PERIOD_YEAR': 2009, 'PERIOD_MONTH': 9, 'CATEGORY': 'Service Indicators', 'FREQUENCY': 'M', 'INDICATOR_UNIT': '%', 'YTD_TARGET': 98.2, 'YTD_ACTUAL': 98.6, 'MONTHLY_TARGET': 98.2, 'MONTHLY_ACTUAL': 98.2}, {'AGENCY_NAME': 'Metro-North Railroad', 'INDICATOR_NAME': 'Harlem Line - OTP', 'DESCRIPTION': 'Percent of commuter trains that arrive at their destinations within 5 minutes and 59 seconds of the scheduled time.', 'PERIOD_YEAR': 2009, 'PERIOD_MONTH': 10, 'CATEGORY': 'Service Indicators', 'FREQUENCY': 'M', 'INDICATOR_UNIT': '%', 'YTD_TARGET': 98.2, 'YTD_ACTUAL': 98.6, 'MONTHLY_TARGET': 98.2, 'MONTHLY_ACTUAL': 98.1}, {'AGENCY_NAME': 'Metro-North Railroad', 'INDICATOR_NAME': 'Harlem Line - OTP', 'DESCRIPTION': 'Percent of commuter trains that arrive at their destinations within 5 minutes and 59 seconds of the scheduled time.', 'PERIOD_YEAR': 2009, 'PERIOD_MONTH': 11, 'CATEGORY': 'Service Indicators', 'FREQUENCY': 'M', 'INDICATOR_UNIT': '%', 'YTD_TARGET': 98.2, 'YTD_ACTUAL': 98.6, 'MONTHLY_TARGET': 98.2, 'MONTHLY_ACTUAL': 98.5}, {'AGENCY_NAME': 'Metro-North Railroad', 'INDICATOR_NAME': 'Harlem Line - OTP', 'DESCRIPTION': 'Percent of commuter trains that arrive at their destinations within 5 minutes and 59 seconds of the scheduled time.', 'PERIOD_YEAR': 2009, 'PERIOD_MONTH': 12, 'CATEGORY': 'Service Indicators', 'FREQUENCY': 'M', 'INDICATOR_UNIT': '%', 'YTD_TARGET': 98.2, 'YTD_ACTUAL': 98.6, 'MONTHLY_TARGET': 98.2, 'MONTHLY_ACTUAL': 98.8}, {'AGENCY_NAME': 'Metro-North Railroad', 'INDICATOR_NAME': 'Harlem Line - OTP', 'DESCRIPTION': 'Percent of commuter trains that arrive at their destinations within 5 minutes and 59 seconds of the scheduled time.', 'PERIOD_YEAR': 2010, 'PERIOD_MONTH': 1, 'CATEGORY': 'Service Indicators', 'FREQUENCY': 'M', 'INDICATOR_UNIT': '%', 'YTD_TARGET': 98.3, 'YTD_ACTUAL': 99.1, 'MONTHLY_TARGET': 98.3, 'MONTHLY_ACTUAL': 99.1}, {'AGENCY_NAME': 'Metro-North Railroad', 'INDICATOR_NAME': 'Harlem Line - OTP', 'DESCRIPTION': 'Percent of commuter trains that arrive at their destinations within 5 minutes and 59 seconds of the scheduled time.', 'PERIOD_YEAR': 2010, 'PERIOD_MONTH': 2, 'CATEGORY': 'Service Indicators', 'FREQUENCY': 'M', 'INDICATOR_UNIT': '%', 'YTD_TARGET': 98.3, 'YTD_ACTUAL': 98.6, 'MONTHLY_TARGET': 98.3, 'MONTHLY_ACTUAL': 98.1}, {'AGENCY_NAME': 'Metro-North Railroad', 'INDICATOR_NAME': 'Harlem Line - OTP', 'DESCRIPTION': 'Percent of commuter trains that arrive at their destinations within 5 minutes and 59 seconds of the scheduled time.', 'PERIOD_YEAR': 2010, 'PERIOD_MONTH': 3, 'CATEGORY': 'Service Indicators', 'FREQUENCY': 'M', 'INDICATOR_UNIT': '%', 'YTD_TARGET': 98.3, 'YTD_ACTUAL': 98.7, 'MONTHLY_TARGET': 98.3, 'MONTHLY_ACTUAL': 98.8}, {'AGENCY_NAME': 'Metro-North Railroad', 'INDICATOR_NAME': 'Harlem Line - OTP', 'DESCRIPTION': 'Percent of commuter trains that arrive at their destinations within 5 minutes and 59 seconds of the scheduled time.', 'PERIOD_YEAR': 2010, 'PERIOD_MONTH': 4, 'CATEGORY': 'Service Indicators', 'FREQUENCY': 'M', 'INDICATOR_UNIT': '%', 'YTD_TARGET': 98.3, 'YTD_ACTUAL': 98.6, 'MONTHLY_TARGET': 98.3, 'MONTHLY_ACTUAL': 98.4}, {'AGENCY_NAME': 'Metro-North Railroad', 'INDICATOR_NAME': 'Harlem Line - OTP', 'DESCRIPTION': 'Percent of commuter trains that arrive at their destinations within 5 minutes and 59 seconds of the scheduled time.', 'PERIOD_YEAR': 2010, 'PERIOD_MONTH': 5, 'CATEGORY': 'Service Indicators', 'FREQUENCY': 'M', 'INDICATOR_UNIT': '%', 'YTD_TARGET': 98.3, 'YTD_ACTUAL': 98.7, 'MONTHLY_TARGET': 98.3, 'MONTHLY_ACTUAL': 99.2}, {'AGENCY_NAME': 'Metro-North Railroad', 'INDICATOR_NAME': 'Harlem Line - OTP', 'DESCRIPTION': 'Percent of commuter trains that arrive at their destinations within 5 minutes and 59 seconds of the scheduled time.', 'PERIOD_YEAR': 2010, 'PERIOD_MONTH': 6, 'CATEGORY': 'Service Indicators', 'FREQUENCY': 'M', 'INDICATOR_UNIT': '%', 'YTD_TARGET': 98.3, 'YTD_ACTUAL': 98.8, 'MONTHLY_TARGET': 98.3, 'MONTHLY_ACTUAL': 99.0}, {'AGENCY_NAME': 'Metro-North Railroad', 'INDICATOR_NAME': 'Harlem Line - OTP', 'DESCRIPTION': 'Percent of commuter trains that arrive at their destinations within 5 minutes and 59 seconds of the scheduled time.', 'PERIOD_YEAR': 2010, 'PERIOD_MONTH': 7, 'CATEGORY': 'Service Indicators', 'FREQUENCY': 'M', 'INDICATOR_UNIT': '%', 'YTD_TARGET': 98.3, 'YTD_ACTUAL': 98.7, 'MONTHLY_TARGET': 98.3, 'MONTHLY_ACTUAL': 98.2}, {'AGENCY_NAME': 'Metro-North Railroad', 'INDICATOR_NAME': 'Harlem Line - OTP', 'DESCRIPTION': 'Percent of commuter trains that arrive at their destinations within 5 minutes and 59 seconds of the scheduled time.', 'PERIOD_YEAR': 2010, 'PERIOD_MONTH': 8, 'CATEGORY': 'Service Indicators', 'FREQUENCY': 'M', 'INDICATOR_UNIT': '%', 'YTD_TARGET': 98.3, 'YTD_ACTUAL': 98.7, 'MONTHLY_TARGET': 98.3, 'MONTHLY_ACTUAL': 99.1}, {'AGENCY_NAME': 'Metro-North Railroad', 'INDICATOR_NAME': 'Harlem Line - OTP', 'DESCRIPTION': 'Percent of commuter trains that arrive at their destinations within 5 minutes and 59 seconds of the scheduled time.', 'PERIOD_YEAR': 2010, 'PERIOD_MONTH': 9, 'CATEGORY': 'Service Indicators', 'FREQUENCY': 'M', 'INDICATOR_UNIT': '%', 'YTD_TARGET': 98.3, 'YTD_ACTUAL': 98.8, 'MONTHLY_TARGET': 98.3, 'MONTHLY_ACTUAL': 99.0}, {'AGENCY_NAME': 'Metro-North Railroad', 'INDICATOR_NAME': 'Harlem Line - OTP', 'DESCRIPTION': 'Percent of commuter trains that arrive at their destinations within 5 minutes and 59 seconds of the scheduled time.', 'PERIOD_YEAR': 2010, 'PERIOD_MONTH': 10, 'CATEGORY': 'Service Indicators', 'FREQUENCY': 'M', 'INDICATOR_UNIT': '%', 'YTD_TARGET': 98.3, 'YTD_ACTUAL': 98.7, 'MONTHLY_TARGET': 98.3, 'MONTHLY_ACTUAL': 97.7}, {'AGENCY_NAME': 'Metro-North Railroad', 'INDICATOR_NAME': 'Harlem Line - OTP', 'DESCRIPTION': 'Percent of commuter trains that arrive at their destinations within 5 minutes and 59 seconds of the scheduled time.', 'PERIOD_YEAR': 2010, 'PERIOD_MONTH': 11, 'CATEGORY': 'Service Indicators', 'FREQUENCY': 'M', 'INDICATOR_UNIT': '%', 'YTD_TARGET': 98.3, 'YTD_ACTUAL': 98.6, 'MONTHLY_TARGET': 98.3, 'MONTHLY_ACTUAL': 97.6}, {'AGENCY_NAME': 'Metro-North Railroad', 'INDICATOR_NAME': 'Harlem Line - OTP', 'DESCRIPTION': 'Percent of commuter trains that arrive at their destinations within 5 minutes and 59 seconds of the scheduled time.', 'PERIOD_YEAR': 2010, 'PERIOD_MONTH': 12, 'CATEGORY': 'Service Indicators', 'FREQUENCY': 'M', 'INDICATOR_UNIT': '%', 'YTD_TARGET': 98.3, 'YTD_ACTUAL': 98.5, 'MONTHLY_TARGET': 98.3, 'MONTHLY_ACTUAL': 98.1}, {'AGENCY_NAME': 'Metro-North Railroad', 'INDICATOR_NAME': 'Harlem Line - OTP', 'DESCRIPTION': 'Percent of commuter trains that arrive at their destinations within 5 minutes and 59 seconds of the scheduled time.', 'PERIOD_YEAR': 2011, 'PERIOD_MONTH': 1, 'CATEGORY': 'Service Indicators', 'FREQUENCY': 'M', 'INDICATOR_UNIT': '%', 'YTD_TARGET': 98.3, 'YTD_ACTUAL': 96.6, 'MONTHLY_TARGET': 98.3, 'MONTHLY_ACTUAL': 96.6}, {'AGENCY_NAME': 'Metro-North Railroad', 'INDICATOR_NAME': 'Harlem Line - OTP', 'DESCRIPTION': 'Percent of commuter trains that arrive at their destinations within 5 minutes and 59 seconds of the scheduled time.', 'PERIOD_YEAR': 2011, 'PERIOD_MONTH': 2, 'CATEGORY': 'Service Indicators', 'FREQUENCY': 'M', 'INDICATOR_UNIT': '%', 'YTD_TARGET': 98.3, 'YTD_ACTUAL': 97.2, 'MONTHLY_TARGET': 98.3, 'MONTHLY_ACTUAL': 97.7}, {'AGENCY_NAME': 'Metro-North Railroad', 'INDICATOR_NAME': 'Harlem Line - OTP', 'DESCRIPTION': 'Percent of commuter trains that arrive at their destinations within 5 minutes and 59 seconds of the scheduled time.', 'PERIOD_YEAR': 2011, 'PERIOD_MONTH': 3, 'CATEGORY': 'Service Indicators', 'FREQUENCY': 'M', 'INDICATOR_UNIT': '%', 'YTD_TARGET': 98.3, 'YTD_ACTUAL': 97.5, 'MONTHLY_TARGET': 98.3, 'MONTHLY_ACTUAL': 98.1}, {'AGENCY_NAME': 'Metro-North Railroad', 'INDICATOR_NAME': 'Harlem Line - OTP', 'DESCRIPTION': 'Percent of commuter trains that arrive at their destinations within 5 minutes and 59 seconds of the scheduled time.', 'PERIOD_YEAR': 2011, 'PERIOD_MONTH': 4, 'CATEGORY': 'Service Indicators', 'FREQUENCY': 'M', 'INDICATOR_UNIT': '%', 'YTD_TARGET': 98.3, 'YTD_ACTUAL': 97.7, 'MONTHLY_TARGET': 98.3, 'MONTHLY_ACTUAL': 98.5}, {'AGENCY_NAME': 'Metro-North Railroad', 'INDICATOR_NAME': 'Harlem Line - OTP', 'DESCRIPTION': 'Percent of commuter trains that arrive at their destinations within 5 minutes and 59 seconds of the scheduled time.', 'PERIOD_YEAR': 2011, 'PERIOD_MONTH': 5, 'CATEGORY': 'Service Indicators', 'FREQUENCY': 'M', 'INDICATOR_UNIT': '%', 'YTD_TARGET': 98.3, 'YTD_ACTUAL': '', 'MONTHLY_TARGET': 98.3, 'MONTHLY_ACTUAL': ''}, {'AGENCY_NAME': 'Metro-North Railroad', 'INDICATOR_NAME': 'Harlem Line - OTP', 'DESCRIPTION': 'Percent of commuter trains that arrive at their destinations within 5 minutes and 59 seconds of the scheduled time.', 'PERIOD_YEAR': 2011, 'PERIOD_MONTH': 6, 'CATEGORY': 'Service Indicators', 'FREQUENCY': 'M', 'INDICATOR_UNIT': '%', 'YTD_TARGET': 98.3, 'YTD_ACTUAL': '', 'MONTHLY_TARGET': 98.3, 'MONTHLY_ACTUAL': ''}, {'AGENCY_NAME': 'Metro-North Railroad', 'INDICATOR_NAME': 'Harlem Line - OTP', 'DESCRIPTION': 'Percent of commuter trains that arrive at their destinations within 5 minutes and 59 seconds of the scheduled time.', 'PERIOD_YEAR': 2011, 'PERIOD_MONTH': 7, 'CATEGORY': 'Service Indicators', 'FREQUENCY': 'M', 'INDICATOR_UNIT': '%', 'YTD_TARGET': 98.3, 'YTD_ACTUAL': '', 'MONTHLY_TARGET': 98.3, 'MONTHLY_ACTUAL': ''}, {'AGENCY_NAME': 'Metro-North Railroad', 'INDICATOR_NAME': 'Harlem Line - OTP', 'DESCRIPTION': 'Percent of commuter trains that arrive at their destinations within 5 minutes and 59 seconds of the scheduled time.', 'PERIOD_YEAR': 2011, 'PERIOD_MONTH': 8, 'CATEGORY': 'Service Indicators', 'FREQUENCY': 'M', 'INDICATOR_UNIT': '%', 'YTD_TARGET': 98.3, 'YTD_ACTUAL': '', 'MONTHLY_TARGET': 98.3, 'MONTHLY_ACTUAL': ''}, {'AGENCY_NAME': 'Metro-North Railroad', 'INDICATOR_NAME': 'Harlem Line - OTP', 'DESCRIPTION': 'Percent of commuter trains that arrive at their destinations within 5 minutes and 59 seconds of the scheduled time.', 'PERIOD_YEAR': 2011, 'PERIOD_MONTH': 9, 'CATEGORY': 'Service Indicators', 'FREQUENCY': 'M', 'INDICATOR_UNIT': '%', 'YTD_TARGET': 98.3, 'YTD_ACTUAL': '', 'MONTHLY_TARGET': 98.3, 'MONTHLY_ACTUAL': ''}, {'AGENCY_NAME': 'Metro-North Railroad', 'INDICATOR_NAME': 'Harlem Line - OTP', 'DESCRIPTION': 'Percent of commuter trains that arrive at their destinations within 5 minutes and 59 seconds of the scheduled time.', 'PERIOD_YEAR': 2011, 'PERIOD_MONTH': 10, 'CATEGORY': 'Service Indicators', 'FREQUENCY': 'M', 'INDICATOR_UNIT': '%', 'YTD_TARGET': 98.3, 'YTD_ACTUAL': '', 'MONTHLY_TARGET': 98.3, 'MONTHLY_ACTUAL': ''}, {'AGENCY_NAME': 'Metro-North Railroad', 'INDICATOR_NAME': 'Harlem Line - OTP', 'DESCRIPTION': 'Percent of commuter trains that arrive at their destinations within 5 minutes and 59 seconds of the scheduled time.', 'PERIOD_YEAR': 2011, 'PERIOD_MONTH': 11, 'CATEGORY': 'Service Indicators', 'FREQUENCY': 'M', 'INDICATOR_UNIT': '%', 'YTD_TARGET': 98.3, 'YTD_ACTUAL': '', 'MONTHLY_TARGET': 98.3, 'MONTHLY_ACTUAL': ''}, {'AGENCY_NAME': 'Metro-North Railroad', 'INDICATOR_NAME': 'Harlem Line - OTP', 'DESCRIPTION': 'Percent of commuter trains that arrive at their destinations within 5 minutes and 59 seconds of the scheduled time.', 'PERIOD_YEAR': 2011, 'PERIOD_MONTH': 12, 'CATEGORY': 'Service Indicators', 'FREQUENCY': 'M', 'INDICATOR_UNIT': '%', 'YTD_TARGET': 98.3, 'YTD_ACTUAL': '', 'MONTHLY_TARGET': 98.3, 'MONTHLY_ACTUAL': ''}, {'AGENCY_NAME': 'Metro-North Railroad', 'INDICATOR_NAME': 'New Haven Line - OTP', 'DESCRIPTION': 'Percent of commuter trains that arrive at their destinations within 5 minutes and 59 seconds of the scheduled time.', 'PERIOD_YEAR': 2008, 'PERIOD_MONTH': 1, 'CATEGORY': 'Service Indicators', 'FREQUENCY': 'M', 'INDICATOR_UNIT': '%', 'YTD_TARGET': 97.1, 'YTD_ACTUAL': 98.4, 'MONTHLY_TARGET': 97.1, 'MONTHLY_ACTUAL': 98.4}, {'AGENCY_NAME': 'Metro-North Railroad', 'INDICATOR_NAME': 'New Haven Line - OTP', 'DESCRIPTION': 'Percent of commuter trains that arrive at their destinations within 5 minutes and 59 seconds of the scheduled time.', 'PERIOD_YEAR': 2008, 'PERIOD_MONTH': 2, 'CATEGORY': 'Service Indicators', 'FREQUENCY': 'M', 'INDICATOR_UNIT': '%', 'YTD_TARGET': 97.1, 'YTD_ACTUAL': 98.2, 'MONTHLY_TARGET': 97.1, 'MONTHLY_ACTUAL': 98.1}, {'AGENCY_NAME': 'Metro-North Railroad', 'INDICATOR_NAME': 'New Haven Line - OTP', 'DESCRIPTION': 'Percent of commuter trains that arrive at their destinations within 5 minutes and 59 seconds of the scheduled time.', 'PERIOD_YEAR': 2008, 'PERIOD_MONTH': 3, 'CATEGORY': 'Service Indicators', 'FREQUENCY': 'M', 'INDICATOR_UNIT': '%', 'YTD_TARGET': 97.1, 'YTD_ACTUAL': 97.8, 'MONTHLY_TARGET': 97.1, 'MONTHLY_ACTUAL': 96.9}, {'AGENCY_NAME': 'Metro-North Railroad', 'INDICATOR_NAME': 'New Haven Line - OTP', 'DESCRIPTION': 'Percent of commuter trains that arrive at their destinations within 5 minutes and 59 seconds of the scheduled time.', 'PERIOD_YEAR': 2008, 'PERIOD_MONTH': 4, 'CATEGORY': 'Service Indicators', 'FREQUENCY': 'M', 'INDICATOR_UNIT': '%', 'YTD_TARGET': 97.1, 'YTD_ACTUAL': 97.9, 'MONTHLY_TARGET': 97.1, 'MONTHLY_ACTUAL': 98.3}, {'AGENCY_NAME': 'Metro-North Railroad', 'INDICATOR_NAME': 'New Haven Line - OTP', 'DESCRIPTION': 'Percent of commuter trains that arrive at their destinations within 5 minutes and 59 seconds of the scheduled time.', 'PERIOD_YEAR': 2008, 'PERIOD_MONTH': 5, 'CATEGORY': 'Service Indicators', 'FREQUENCY': 'M', 'INDICATOR_UNIT': '%', 'YTD_TARGET': 97.1, 'YTD_ACTUAL': 98.0, 'MONTHLY_TARGET': 97.1, 'MONTHLY_ACTUAL': 98.3}, {'AGENCY_NAME': 'Metro-North Railroad', 'INDICATOR_NAME': 'New Haven Line - OTP', 'DESCRIPTION': 'Percent of commuter trains that arrive at their destinations within 5 minutes and 59 seconds of the scheduled time.', 'PERIOD_YEAR': 2008, 'PERIOD_MONTH': 6, 'CATEGORY': 'Service Indicators', 'FREQUENCY': 'M', 'INDICATOR_UNIT': '%', 'YTD_TARGET': 97.1, 'YTD_ACTUAL': 97.6, 'MONTHLY_TARGET': 97.1, 'MONTHLY_ACTUAL': 95.7}, {'AGENCY_NAME': 'Metro-North Railroad', 'INDICATOR_NAME': 'New Haven Line - OTP', 'DESCRIPTION': 'Percent of commuter trains that arrive at their destinations within 5 minutes and 59 seconds of the scheduled time.', 'PERIOD_YEAR': 2008, 'PERIOD_MONTH': 7, 'CATEGORY': 'Service Indicators', 'FREQUENCY': 'M', 'INDICATOR_UNIT': '%', 'YTD_TARGET': 97.1, 'YTD_ACTUAL': 97.5, 'MONTHLY_TARGET': 97.1, 'MONTHLY_ACTUAL': 96.7}, {'AGENCY_NAME': 'Metro-North Railroad', 'INDICATOR_NAME': 'New Haven Line - OTP', 'DESCRIPTION': 'Percent of commuter trains that arrive at their destinations within 5 minutes and 59 seconds of the scheduled time.', 'PERIOD_YEAR': 2008, 'PERIOD_MONTH': 8, 'CATEGORY': 'Service Indicators', 'FREQUENCY': 'M', 'INDICATOR_UNIT': '%', 'YTD_TARGET': 97.1, 'YTD_ACTUAL': 97.4, 'MONTHLY_TARGET': 97.1, 'MONTHLY_ACTUAL': 96.9}, {'AGENCY_NAME': 'Metro-North Railroad', 'INDICATOR_NAME': 'New Haven Line - OTP', 'DESCRIPTION': 'Percent of commuter trains that arrive at their destinations within 5 minutes and 59 seconds of the scheduled time.', 'PERIOD_YEAR': 2008, 'PERIOD_MONTH': 9, 'CATEGORY': 'Service Indicators', 'FREQUENCY': 'M', 'INDICATOR_UNIT': '%', 'YTD_TARGET': 97.1, 'YTD_ACTUAL': 97.5, 'MONTHLY_TARGET': 97.1, 'MONTHLY_ACTUAL': 97.9}, {'AGENCY_NAME': 'Metro-North Railroad', 'INDICATOR_NAME': 'New Haven Line - OTP', 'DESCRIPTION': 'Percent of commuter trains that arrive at their destinations within 5 minutes and 59 seconds of the scheduled time.', 'PERIOD_YEAR': 2008, 'PERIOD_MONTH': 10, 'CATEGORY': 'Service Indicators', 'FREQUENCY': 'M', 'INDICATOR_UNIT': '%', 'YTD_TARGET': 97.1, 'YTD_ACTUAL': 97.3, 'MONTHLY_TARGET': 97.1, 'MONTHLY_ACTUAL': 95.7}, {'AGENCY_NAME': 'Metro-North Railroad', 'INDICATOR_NAME': 'New Haven Line - OTP', 'DESCRIPTION': 'Percent of commuter trains that arrive at their destinations within 5 minutes and 59 seconds of the scheduled time.', 'PERIOD_YEAR': 2008, 'PERIOD_MONTH': 11, 'CATEGORY': 'Service Indicators', 'FREQUENCY': 'M', 'INDICATOR_UNIT': '%', 'YTD_TARGET': 97.1, 'YTD_ACTUAL': 97.1, 'MONTHLY_TARGET': 97.1, 'MONTHLY_ACTUAL': 95.8}, {'AGENCY_NAME': 'Metro-North Railroad', 'INDICATOR_NAME': 'New Haven Line - OTP', 'DESCRIPTION': 'Percent of commuter trains that arrive at their destinations within 5 minutes and 59 seconds of the scheduled time.', 'PERIOD_YEAR': 2008, 'PERIOD_MONTH': 12, 'CATEGORY': 'Service Indicators', 'FREQUENCY': 'M', 'INDICATOR_UNIT': '%', 'YTD_TARGET': 97.1, 'YTD_ACTUAL': 97.0, 'MONTHLY_TARGET': 97.1, 'MONTHLY_ACTUAL': 95.3}, {'AGENCY_NAME': 'Metro-North Railroad', 'INDICATOR_NAME': 'New Haven Line - OTP', 'DESCRIPTION': 'Percent of commuter trains that arrive at their destinations within 5 minutes and 59 seconds of the scheduled time.', 'PERIOD_YEAR': 2009, 'PERIOD_MONTH': 1, 'CATEGORY': 'Service Indicators', 'FREQUENCY': 'M', 'INDICATOR_UNIT': '%', 'YTD_TARGET': 97.0, 'YTD_ACTUAL': 95.6, 'MONTHLY_TARGET': 97.0, 'MONTHLY_ACTUAL': 95.6}, {'AGENCY_NAME': 'Metro-North Railroad', 'INDICATOR_NAME': 'New Haven Line - OTP', 'DESCRIPTION': 'Percent of commuter trains that arrive at their destinations within 5 minutes and 59 seconds of the scheduled time.', 'PERIOD_YEAR': 2009, 'PERIOD_MONTH': 2, 'CATEGORY': 'Service Indicators', 'FREQUENCY': 'M', 'INDICATOR_UNIT': '%', 'YTD_TARGET': 97.0, 'YTD_ACTUAL': 96.1, 'MONTHLY_TARGET': 97.0, 'MONTHLY_ACTUAL': 96.7}, {'AGENCY_NAME': 'Metro-North Railroad', 'INDICATOR_NAME': 'New Haven Line - OTP', 'DESCRIPTION': 'Percent of commuter trains that arrive at their destinations within 5 minutes and 59 seconds of the scheduled time.', 'PERIOD_YEAR': 2009, 'PERIOD_MONTH': 3, 'CATEGORY': 'Service Indicators', 'FREQUENCY': 'M', 'INDICATOR_UNIT': '%', 'YTD_TARGET': 97.0, 'YTD_ACTUAL': 95.9, 'MONTHLY_TARGET': 97.0, 'MONTHLY_ACTUAL': 95.6}, {'AGENCY_NAME': 'Metro-North Railroad', 'INDICATOR_NAME': 'New Haven Line - OTP', 'DESCRIPTION': 'Percent of commuter trains that arrive at their destinations within 5 minutes and 59 seconds of the scheduled time.', 'PERIOD_YEAR': 2009, 'PERIOD_MONTH': 4, 'CATEGORY': 'Service Indicators', 'FREQUENCY': 'M', 'INDICATOR_UNIT': '%', 'YTD_TARGET': 97.0, 'YTD_ACTUAL': 96.4, 'MONTHLY_TARGET': 97.0, 'MONTHLY_ACTUAL': 97.7}, {'AGENCY_NAME': 'Metro-North Railroad', 'INDICATOR_NAME': 'New Haven Line - OTP', 'DESCRIPTION': 'Percent of commuter trains that arrive at their destinations within 5 minutes and 59 seconds of the scheduled time.', 'PERIOD_YEAR': 2009, 'PERIOD_MONTH': 5, 'CATEGORY': 'Service Indicators', 'FREQUENCY': 'M', 'INDICATOR_UNIT': '%', 'YTD_TARGET': 97.0, 'YTD_ACTUAL': 96.6, 'MONTHLY_TARGET': 97.0, 'MONTHLY_ACTUAL': 97.7}, {'AGENCY_NAME': 'Metro-North Railroad', 'INDICATOR_NAME': 'New Haven Line - OTP', 'DESCRIPTION': 'Percent of commuter trains that arrive at their destinations within 5 minutes and 59 seconds of the scheduled time.', 'PERIOD_YEAR': 2009, 'PERIOD_MONTH': 6, 'CATEGORY': 'Service Indicators', 'FREQUENCY': 'M', 'INDICATOR_UNIT': '%', 'YTD_TARGET': 97.0, 'YTD_ACTUAL': 96.8, 'MONTHLY_TARGET': 97.0, 'MONTHLY_ACTUAL': 97.6}, {'AGENCY_NAME': 'Metro-North Railroad', 'INDICATOR_NAME': 'New Haven Line - OTP', 'DESCRIPTION': 'Percent of commuter trains that arrive at their destinations within 5 minutes and 59 seconds of the scheduled time.', 'PERIOD_YEAR': 2009, 'PERIOD_MONTH': 7, 'CATEGORY': 'Service Indicators', 'FREQUENCY': 'M', 'INDICATOR_UNIT': '%', 'YTD_TARGET': 97.0, 'YTD_ACTUAL': 97.0, 'MONTHLY_TARGET': 97.0, 'MONTHLY_ACTUAL': 98.0}, {'AGENCY_NAME': 'Metro-North Railroad', 'INDICATOR_NAME': 'New Haven Line - OTP', 'DESCRIPTION': 'Percent of commuter trains that arrive at their destinations within 5 minutes and 59 seconds of the scheduled time.', 'PERIOD_YEAR': 2009, 'PERIOD_MONTH': 8, 'CATEGORY': 'Service Indicators', 'FREQUENCY': 'M', 'INDICATOR_UNIT': '%', 'YTD_TARGET': 97.0, 'YTD_ACTUAL': 97.2, 'MONTHLY_TARGET': 97.0, 'MONTHLY_ACTUAL': 97.5}, {'AGENCY_NAME': 'Metro-North Railroad', 'INDICATOR_NAME': 'New Haven Line - OTP', 'DESCRIPTION': 'Percent of commuter trains that arrive at their destinations within 5 minutes and 59 seconds of the scheduled time.', 'PERIOD_YEAR': 2009, 'PERIOD_MONTH': 9, 'CATEGORY': 'Service Indicators', 'FREQUENCY': 'M', 'INDICATOR_UNIT': '%', 'YTD_TARGET': 97.0, 'YTD_ACTUAL': 97.2, 'MONTHLY_TARGET': 97.0, 'MONTHLY_ACTUAL': 98.1}, {'AGENCY_NAME': 'Metro-North Railroad', 'INDICATOR_NAME': 'New Haven Line - OTP', 'DESCRIPTION': 'Percent of commuter trains that arrive at their destinations within 5 minutes and 59 seconds of the scheduled time.', 'PERIOD_YEAR': 2009, 'PERIOD_MONTH': 10, 'CATEGORY': 'Service Indicators', 'FREQUENCY': 'M', 'INDICATOR_UNIT': '%', 'YTD_TARGET': 97.0, 'YTD_ACTUAL': 97.3, 'MONTHLY_TARGET': 97.0, 'MONTHLY_ACTUAL': 98.1}, {'AGENCY_NAME': 'Metro-North Railroad', 'INDICATOR_NAME': 'New Haven Line - OTP', 'DESCRIPTION': 'Percent of commuter trains that arrive at their destinations within 5 minutes and 59 seconds of the scheduled time.', 'PERIOD_YEAR': 2009, 'PERIOD_MONTH': 11, 'CATEGORY': 'Service Indicators', 'FREQUENCY': 'M', 'INDICATOR_UNIT': '%', 'YTD_TARGET': 97.0, 'YTD_ACTUAL': 97.4, 'MONTHLY_TARGET': 97.0, 'MONTHLY_ACTUAL': 98.1}, {'AGENCY_NAME': 'Metro-North Railroad', 'INDICATOR_NAME': 'New Haven Line - OTP', 'DESCRIPTION': 'Percent of commuter trains that arrive at their destinations within 5 minutes and 59 seconds of the scheduled time.', 'PERIOD_YEAR': 2009, 'PERIOD_MONTH': 12, 'CATEGORY': 'Service Indicators', 'FREQUENCY': 'M', 'INDICATOR_UNIT': '%', 'YTD_TARGET': 97.0, 'YTD_ACTUAL': 97.2, 'MONTHLY_TARGET': 97.0, 'MONTHLY_ACTUAL': 95.7}, {'AGENCY_NAME': 'Metro-North Railroad', 'INDICATOR_NAME': 'New Haven Line - OTP', 'DESCRIPTION': 'Percent of commuter trains that arrive at their destinations within 5 minutes and 59 seconds of the scheduled time.', 'PERIOD_YEAR': 2010, 'PERIOD_MONTH': 1, 'CATEGORY': 'Service Indicators', 'FREQUENCY': 'M', 'INDICATOR_UNIT': '%', 'YTD_TARGET': 97.0, 'YTD_ACTUAL': 97.6, 'MONTHLY_TARGET': 97.0, 'MONTHLY_ACTUAL': 97.6}, {'AGENCY_NAME': 'Metro-North Railroad', 'INDICATOR_NAME': 'New Haven Line - OTP', 'DESCRIPTION': 'Percent of commuter trains that arrive at their destinations within 5 minutes and 59 seconds of the scheduled time.', 'PERIOD_YEAR': 2010, 'PERIOD_MONTH': 2, 'CATEGORY': 'Service Indicators', 'FREQUENCY': 'M', 'INDICATOR_UNIT': '%', 'YTD_TARGET': 97.0, 'YTD_ACTUAL': 97.6, 'MONTHLY_TARGET': 97.0, 'MONTHLY_ACTUAL': 97.6}, {'AGENCY_NAME': 'Metro-North Railroad', 'INDICATOR_NAME': 'New Haven Line - OTP', 'DESCRIPTION': 'Percent of commuter trains that arrive at their destinations within 5 minutes and 59 seconds of the scheduled time.', 'PERIOD_YEAR': 2010, 'PERIOD_MONTH': 3, 'CATEGORY': 'Service Indicators', 'FREQUENCY': 'M', 'INDICATOR_UNIT': '%', 'YTD_TARGET': 97.0, 'YTD_ACTUAL': 97.2, 'MONTHLY_TARGET': 97.0, 'MONTHLY_ACTUAL': 96.5}, {'AGENCY_NAME': 'Metro-North Railroad', 'INDICATOR_NAME': 'New Haven Line - OTP', 'DESCRIPTION': 'Percent of commuter trains that arrive at their destinations within 5 minutes and 59 seconds of the scheduled time.', 'PERIOD_YEAR': 2010, 'PERIOD_MONTH': 4, 'CATEGORY': 'Service Indicators', 'FREQUENCY': 'M', 'INDICATOR_UNIT': '%', 'YTD_TARGET': 97.0, 'YTD_ACTUAL': 97.2, 'MONTHLY_TARGET': 97.0, 'MONTHLY_ACTUAL': 97.2}, {'AGENCY_NAME': 'Metro-North Railroad', 'INDICATOR_NAME': 'New Haven Line - OTP', 'DESCRIPTION': 'Percent of commuter trains that arrive at their destinations within 5 minutes and 59 seconds of the scheduled time.', 'PERIOD_YEAR': 2010, 'PERIOD_MONTH': 5, 'CATEGORY': 'Service Indicators', 'FREQUENCY': 'M', 'INDICATOR_UNIT': '%', 'YTD_TARGET': 97.0, 'YTD_ACTUAL': 97.4, 'MONTHLY_TARGET': 97.0, 'MONTHLY_ACTUAL': 98.1}, {'AGENCY_NAME': 'Metro-North Railroad', 'INDICATOR_NAME': 'New Haven Line - OTP', 'DESCRIPTION': 'Percent of commuter trains that arrive at their destinations within 5 minutes and 59 seconds of the scheduled time.', 'PERIOD_YEAR': 2010, 'PERIOD_MONTH': 6, 'CATEGORY': 'Service Indicators', 'FREQUENCY': 'M', 'INDICATOR_UNIT': '%', 'YTD_TARGET': 97.0, 'YTD_ACTUAL': 97.3, 'MONTHLY_TARGET': 97.0, 'MONTHLY_ACTUAL': 97.1}, {'AGENCY_NAME': 'Metro-North Railroad', 'INDICATOR_NAME': 'New Haven Line - OTP', 'DESCRIPTION': 'Percent of commuter trains that arrive at their destinations within 5 minutes and 59 seconds of the scheduled time.', 'PERIOD_YEAR': 2010, 'PERIOD_MONTH': 7, 'CATEGORY': 'Service Indicators', 'FREQUENCY': 'M', 'INDICATOR_UNIT': '%', 'YTD_TARGET': 97.0, 'YTD_ACTUAL': 97.1, 'MONTHLY_TARGET': 97.0, 'MONTHLY_ACTUAL': 95.9}, {'AGENCY_NAME': 'Metro-North Railroad', 'INDICATOR_NAME': 'New Haven Line - OTP', 'DESCRIPTION': 'Percent of commuter trains that arrive at their destinations within 5 minutes and 59 seconds of the scheduled time.', 'PERIOD_YEAR': 2010, 'PERIOD_MONTH': 8, 'CATEGORY': 'Service Indicators', 'FREQUENCY': 'M', 'INDICATOR_UNIT': '%', 'YTD_TARGET': 97.0, 'YTD_ACTUAL': 97.3, 'MONTHLY_TARGET': 97.0, 'MONTHLY_ACTUAL': 98.1}, {'AGENCY_NAME': 'Metro-North Railroad', 'INDICATOR_NAME': 'New Haven Line - OTP', 'DESCRIPTION': 'Percent of commuter trains that arrive at their destinations within 5 minutes and 59 seconds of the scheduled time.', 'PERIOD_YEAR': 2010, 'PERIOD_MONTH': 9, 'CATEGORY': 'Service Indicators', 'FREQUENCY': 'M', 'INDICATOR_UNIT': '%', 'YTD_TARGET': 97.0, 'YTD_ACTUAL': 97.1, 'MONTHLY_TARGET': 97.0, 'MONTHLY_ACTUAL': 96.3}, {'AGENCY_NAME': 'Metro-North Railroad', 'INDICATOR_NAME': 'New Haven Line - OTP', 'DESCRIPTION': 'Percent of commuter trains that arrive at their destinations within 5 minutes and 59 seconds of the scheduled time.', 'PERIOD_YEAR': 2010, 'PERIOD_MONTH': 10, 'CATEGORY': 'Service Indicators', 'FREQUENCY': 'M', 'INDICATOR_UNIT': '%', 'YTD_TARGET': 97.0, 'YTD_ACTUAL': 97.0, 'MONTHLY_TARGET': 97.0, 'MONTHLY_ACTUAL': 95.8}, {'AGENCY_NAME': 'Metro-North Railroad', 'INDICATOR_NAME': 'New Haven Line - OTP', 'DESCRIPTION': 'Percent of commuter trains that arrive at their destinations within 5 minutes and 59 seconds of the scheduled time.', 'PERIOD_YEAR': 2010, 'PERIOD_MONTH': 11, 'CATEGORY': 'Service Indicators', 'FREQUENCY': 'M', 'INDICATOR_UNIT': '%', 'YTD_TARGET': 97.0, 'YTD_ACTUAL': 96.8, 'MONTHLY_TARGET': 97.0, 'MONTHLY_ACTUAL': 95.1}, {'AGENCY_NAME': 'Metro-North Railroad', 'INDICATOR_NAME': 'New Haven Line - OTP', 'DESCRIPTION': 'Percent of commuter trains that arrive at their destinations within 5 minutes and 59 seconds of the scheduled time.', 'PERIOD_YEAR': 2010, 'PERIOD_MONTH': 12, 'CATEGORY': 'Service Indicators', 'FREQUENCY': 'M', 'INDICATOR_UNIT': '%', 'YTD_TARGET': 97.0, 'YTD_ACTUAL': 96.8, 'MONTHLY_TARGET': 97.0, 'MONTHLY_ACTUAL': 96.4}, {'AGENCY_NAME': 'Metro-North Railroad', 'INDICATOR_NAME': 'New Haven Line - OTP', 'DESCRIPTION': 'Percent of commuter trains that arrive at their destinations within 5 minutes and 59 seconds of the scheduled time.', 'PERIOD_YEAR': 2011, 'PERIOD_MONTH': 1, 'CATEGORY': 'Service Indicators', 'FREQUENCY': 'M', 'INDICATOR_UNIT': '%', 'YTD_TARGET': 97.2, 'YTD_ACTUAL': 88.9, 'MONTHLY_TARGET': 97.2, 'MONTHLY_ACTUAL': 88.9}, {'AGENCY_NAME': 'Metro-North Railroad', 'INDICATOR_NAME': 'New Haven Line - OTP', 'DESCRIPTION': 'Percent of commuter trains that arrive at their destinations within 5 minutes and 59 seconds of the scheduled time.', 'PERIOD_YEAR': 2011, 'PERIOD_MONTH': 2, 'CATEGORY': 'Service Indicators', 'FREQUENCY': 'M', 'INDICATOR_UNIT': '%', 'YTD_TARGET': 97.2, 'YTD_ACTUAL': 90.4, 'MONTHLY_TARGET': 97.2, 'MONTHLY_ACTUAL': 92.1}, {'AGENCY_NAME': 'Metro-North Railroad', 'INDICATOR_NAME': 'New Haven Line - OTP', 'DESCRIPTION': 'Percent of commuter trains that arrive at their destinations within 5 minutes and 59 seconds of the scheduled time.', 'PERIOD_YEAR': 2011, 'PERIOD_MONTH': 3, 'CATEGORY': 'Service Indicators', 'FREQUENCY': 'M', 'INDICATOR_UNIT': '%', 'YTD_TARGET': 97.2, 'YTD_ACTUAL': 92.7, 'MONTHLY_TARGET': 97.2, 'MONTHLY_ACTUAL': 96.8}, {'AGENCY_NAME': 'Metro-North Railroad', 'INDICATOR_NAME': 'New Haven Line - OTP', 'DESCRIPTION': 'Percent of commuter trains that arrive at their destinations within 5 minutes and 59 seconds of the scheduled time.', 'PERIOD_YEAR': 2011, 'PERIOD_MONTH': 4, 'CATEGORY': 'Service Indicators', 'FREQUENCY': 'M', 'INDICATOR_UNIT': '%', 'YTD_TARGET': 97.2, 'YTD_ACTUAL': 93.9, 'MONTHLY_TARGET': 97.2, 'MONTHLY_ACTUAL': 97.0}, {'AGENCY_NAME': 'Metro-North Railroad', 'INDICATOR_NAME': 'New Haven Line - OTP', 'DESCRIPTION': 'Percent of commuter trains that arrive at their destinations within 5 minutes and 59 seconds of the scheduled time.', 'PERIOD_YEAR': 2011, 'PERIOD_MONTH': 5, 'CATEGORY': 'Service Indicators', 'FREQUENCY': 'M', 'INDICATOR_UNIT': '%', 'YTD_TARGET': 97.2, 'YTD_ACTUAL': '', 'MONTHLY_TARGET': 97.2, 'MONTHLY_ACTUAL': ''}, {'AGENCY_NAME': 'Metro-North Railroad', 'INDICATOR_NAME': 'New Haven Line - OTP', 'DESCRIPTION': 'Percent of commuter trains that arrive at their destinations within 5 minutes and 59 seconds of the scheduled time.', 'PERIOD_YEAR': 2011, 'PERIOD_MONTH': 6, 'CATEGORY': 'Service Indicators', 'FREQUENCY': 'M', 'INDICATOR_UNIT': '%', 'YTD_TARGET': 97.2, 'YTD_ACTUAL': '', 'MONTHLY_TARGET': 97.2, 'MONTHLY_ACTUAL': ''}, {'AGENCY_NAME': 'Metro-North Railroad', 'INDICATOR_NAME': 'New Haven Line - OTP', 'DESCRIPTION': 'Percent of commuter trains that arrive at their destinations within 5 minutes and 59 seconds of the scheduled time.', 'PERIOD_YEAR': 2011, 'PERIOD_MONTH': 7, 'CATEGORY': 'Service Indicators', 'FREQUENCY': 'M', 'INDICATOR_UNIT': '%', 'YTD_TARGET': 97.2, 'YTD_ACTUAL': '', 'MONTHLY_TARGET': 97.2, 'MONTHLY_ACTUAL': ''}, {'AGENCY_NAME': 'Metro-North Railroad', 'INDICATOR_NAME': 'New Haven Line - OTP', 'DESCRIPTION': 'Percent of commuter trains that arrive at their destinations within 5 minutes and 59 seconds of the scheduled time.', 'PERIOD_YEAR': 2011, 'PERIOD_MONTH': 8, 'CATEGORY': 'Service Indicators', 'FREQUENCY': 'M', 'INDICATOR_UNIT': '%', 'YTD_TARGET': 97.2, 'YTD_ACTUAL': '', 'MONTHLY_TARGET': 97.2, 'MONTHLY_ACTUAL': ''}, {'AGENCY_NAME': 'Metro-North Railroad', 'INDICATOR_NAME': 'New Haven Line - OTP', 'DESCRIPTION': 'Percent of commuter trains that arrive at their destinations within 5 minutes and 59 seconds of the scheduled time.', 'PERIOD_YEAR': 2011, 'PERIOD_MONTH': 9, 'CATEGORY': 'Service Indicators', 'FREQUENCY': 'M', 'INDICATOR_UNIT': '%', 'YTD_TARGET': 97.2, 'YTD_ACTUAL': '', 'MONTHLY_TARGET': 97.2, 'MONTHLY_ACTUAL': ''}, {'AGENCY_NAME': 'Metro-North Railroad', 'INDICATOR_NAME': 'New Haven Line - OTP', 'DESCRIPTION': 'Percent of commuter trains that arrive at their destinations within 5 minutes and 59 seconds of the scheduled time.', 'PERIOD_YEAR': 2011, 'PERIOD_MONTH': 10, 'CATEGORY': 'Service Indicators', 'FREQUENCY': 'M', 'INDICATOR_UNIT': '%', 'YTD_TARGET': 97.2, 'YTD_ACTUAL': '', 'MONTHLY_TARGET': 97.2, 'MONTHLY_ACTUAL': ''}, {'AGENCY_NAME': 'Metro-North Railroad', 'INDICATOR_NAME': 'New Haven Line - OTP', 'DESCRIPTION': 'Percent of commuter trains that arrive at their destinations within 5 minutes and 59 seconds of the scheduled time.', 'PERIOD_YEAR': 2011, 'PERIOD_MONTH': 11, 'CATEGORY': 'Service Indicators', 'FREQUENCY': 'M', 'INDICATOR_UNIT': '%', 'YTD_TARGET': 97.2, 'YTD_ACTUAL': '', 'MONTHLY_TARGET': 97.2, 'MONTHLY_ACTUAL': ''}, {'AGENCY_NAME': 'Metro-North Railroad', 'INDICATOR_NAME': 'New Haven Line - OTP', 'DESCRIPTION': 'Percent of commuter trains that arrive at their destinations within 5 minutes and 59 seconds of the scheduled time.', 'PERIOD_YEAR': 2011, 'PERIOD_MONTH': 12, 'CATEGORY': 'Service Indicators', 'FREQUENCY': 'M', 'INDICATOR_UNIT': '%', 'YTD_TARGET': 97.2, 'YTD_ACTUAL': '', 'MONTHLY_TARGET': 97.2, 'MONTHLY_ACTUAL': ''}, {'AGENCY_NAME': 'Metro-North Railroad', 'INDICATOR_NAME': 'On-Time Performance (East of Hudson)', 'DESCRIPTION': 'Percent of commuter trains that arrive at their destinations within 5 minutes and 59 seconds of the scheduled time. East of Hudson service includes the Harlem, Hudson and New Haven lines.', 'PERIOD_YEAR': 2008, 'PERIOD_MONTH': 1, 'CATEGORY': 'Service Indicators', 'FREQUENCY': 'M', 'INDICATOR_UNIT': '%', 'YTD_TARGET': 97.6, 'YTD_ACTUAL': 98.8, 'MONTHLY_TARGET': 97.6, 'MONTHLY_ACTUAL': 98.8}, {'AGENCY_NAME': 'Metro-North Railroad', 'INDICATOR_NAME': 'On-Time Performance (East of Hudson)', 'DESCRIPTION': 'Percent of commuter trains that arrive at their destinations within 5 minutes and 59 seconds of the scheduled time. East of Hudson service includes the Harlem, Hudson and New Haven lines.', 'PERIOD_YEAR': 2008, 'PERIOD_MONTH': 2, 'CATEGORY': 'Service Indicators', 'FREQUENCY': 'M', 'INDICATOR_UNIT': '%', 'YTD_TARGET': 97.6, 'YTD_ACTUAL': 98.8, 'MONTHLY_TARGET': 97.6, 'MONTHLY_ACTUAL': 98.7}, {'AGENCY_NAME': 'Metro-North Railroad', 'INDICATOR_NAME': 'On-Time Performance (East of Hudson)', 'DESCRIPTION': 'Percent of commuter trains that arrive at their destinations within 5 minutes and 59 seconds of the scheduled time. East of Hudson service includes the Harlem, Hudson and New Haven lines.', 'PERIOD_YEAR': 2008, 'PERIOD_MONTH': 3, 'CATEGORY': 'Service Indicators', 'FREQUENCY': 'M', 'INDICATOR_UNIT': '%', 'YTD_TARGET': 97.6, 'YTD_ACTUAL': 98.2, 'MONTHLY_TARGET': 97.6, 'MONTHLY_ACTUAL': 97.0}, {'AGENCY_NAME': 'Metro-North Railroad', 'INDICATOR_NAME': 'On-Time Performance (East of Hudson)', 'DESCRIPTION': 'Percent of commuter trains that arrive at their destinations within 5 minutes and 59 seconds of the scheduled time. East of Hudson service includes the Harlem, Hudson and New Haven lines.', 'PERIOD_YEAR': 2008, 'PERIOD_MONTH': 4, 'CATEGORY': 'Service Indicators', 'FREQUENCY': 'M', 'INDICATOR_UNIT': '%', 'YTD_TARGET': 97.6, 'YTD_ACTUAL': 98.3, 'MONTHLY_TARGET': 97.6, 'MONTHLY_ACTUAL': 98.7}, {'AGENCY_NAME': 'Metro-North Railroad', 'INDICATOR_NAME': 'On-Time Performance (East of Hudson)', 'DESCRIPTION': 'Percent of commuter trains that arrive at their destinations within 5 minutes and 59 seconds of the scheduled time. East of Hudson service includes the Harlem, Hudson and New Haven lines.', 'PERIOD_YEAR': 2008, 'PERIOD_MONTH': 5, 'CATEGORY': 'Service Indicators', 'FREQUENCY': 'M', 'INDICATOR_UNIT': '%', 'YTD_TARGET': 97.6, 'YTD_ACTUAL': 98.3, 'MONTHLY_TARGET': 97.6, 'MONTHLY_ACTUAL': 98.2}, {'AGENCY_NAME': 'Metro-North Railroad', 'INDICATOR_NAME': 'On-Time Performance (East of Hudson)', 'DESCRIPTION': 'Percent of commuter trains that arrive at their destinations within 5 minutes and 59 seconds of the scheduled time. East of Hudson service includes the Harlem, Hudson and New Haven lines.', 'PERIOD_YEAR': 2008, 'PERIOD_MONTH': 6, 'CATEGORY': 'Service Indicators', 'FREQUENCY': 'M', 'INDICATOR_UNIT': '%', 'YTD_TARGET': 97.6, 'YTD_ACTUAL': 98.0, 'MONTHLY_TARGET': 97.6, 'MONTHLY_ACTUAL': 96.4}, {'AGENCY_NAME': 'Metro-North Railroad', 'INDICATOR_NAME': 'On-Time Performance (East of Hudson)', 'DESCRIPTION': 'Percent of commuter trains that arrive at their destinations within 5 minutes and 59 seconds of the scheduled time. East of Hudson service includes the Harlem, Hudson and New Haven lines.', 'PERIOD_YEAR': 2008, 'PERIOD_MONTH': 7, 'CATEGORY': 'Service Indicators', 'FREQUENCY': 'M', 'INDICATOR_UNIT': '%', 'YTD_TARGET': 97.6, 'YTD_ACTUAL': 97.9, 'MONTHLY_TARGET': 97.6, 'MONTHLY_ACTUAL': 97.2}, {'AGENCY_NAME': 'Metro-North Railroad', 'INDICATOR_NAME': 'On-Time Performance (East of Hudson)', 'DESCRIPTION': 'Percent of commuter trains that arrive at their destinations within 5 minutes and 59 seconds of the scheduled time. East of Hudson service includes the Harlem, Hudson and New Haven lines.', 'PERIOD_YEAR': 2008, 'PERIOD_MONTH': 8, 'CATEGORY': 'Service Indicators', 'FREQUENCY': 'M', 'INDICATOR_UNIT': '%', 'YTD_TARGET': 97.6, 'YTD_ACTUAL': 97.8, 'MONTHLY_TARGET': 97.6, 'MONTHLY_ACTUAL': 97.5}, {'AGENCY_NAME': 'Metro-North Railroad', 'INDICATOR_NAME': 'On-Time Performance (East of Hudson)', 'DESCRIPTION': 'Percent of commuter trains that arrive at their destinations within 5 minutes and 59 seconds of the scheduled time. East of Hudson service includes the Harlem, Hudson and New Haven lines.', 'PERIOD_YEAR': 2008, 'PERIOD_MONTH': 9, 'CATEGORY': 'Service Indicators', 'FREQUENCY': 'M', 'INDICATOR_UNIT': '%', 'YTD_TARGET': 97.6, 'YTD_ACTUAL': 97.8, 'MONTHLY_TARGET': 97.6, 'MONTHLY_ACTUAL': 97.9}, {'AGENCY_NAME': 'Metro-North Railroad', 'INDICATOR_NAME': 'On-Time Performance (East of Hudson)', 'DESCRIPTION': 'Percent of commuter trains that arrive at their destinations within 5 minutes and 59 seconds of the scheduled time. East of Hudson service includes the Harlem, Hudson and New Haven lines.', 'PERIOD_YEAR': 2008, 'PERIOD_MONTH': 10, 'CATEGORY': 'Service Indicators', 'FREQUENCY': 'M', 'INDICATOR_UNIT': '%', 'YTD_TARGET': 97.6, 'YTD_ACTUAL': 97.7, 'MONTHLY_TARGET': 97.6, 'MONTHLY_ACTUAL': 96.7}, {'AGENCY_NAME': 'Metro-North Railroad', 'INDICATOR_NAME': 'On-Time Performance (East of Hudson)', 'DESCRIPTION': 'Percent of commuter trains that arrive at their destinations within 5 minutes and 59 seconds of the scheduled time. East of Hudson service includes the Harlem, Hudson and New Haven lines.', 'PERIOD_YEAR': 2008, 'PERIOD_MONTH': 11, 'CATEGORY': 'Service Indicators', 'FREQUENCY': 'M', 'INDICATOR_UNIT': '%', 'YTD_TARGET': 97.6, 'YTD_ACTUAL': 97.6, 'MONTHLY_TARGET': 97.6, 'MONTHLY_ACTUAL': 96.8}, {'AGENCY_NAME': 'Metro-North Railroad', 'INDICATOR_NAME': 'On-Time Performance (East of Hudson)', 'DESCRIPTION': 'Percent of commuter trains that arrive at their destinations within 5 minutes and 59 seconds of the scheduled time. East of Hudson service includes the Harlem, Hudson and New Haven lines.', 'PERIOD_YEAR': 2008, 'PERIOD_MONTH': 12, 'CATEGORY': 'Service Indicators', 'FREQUENCY': 'M', 'INDICATOR_UNIT': '%', 'YTD_TARGET': 97.6, 'YTD_ACTUAL': 97.5, 'MONTHLY_TARGET': 97.6, 'MONTHLY_ACTUAL': 96.5}, {'AGENCY_NAME': 'Metro-North Railroad', 'INDICATOR_NAME': 'On-Time Performance (East of Hudson)', 'DESCRIPTION': 'Percent of commuter trains that arrive at their destinations within 5 minutes and 59 seconds of the scheduled time. East of Hudson service includes the Harlem, Hudson and New Haven lines.', 'PERIOD_YEAR': 2009, 'PERIOD_MONTH': 1, 'CATEGORY': 'Service Indicators', 'FREQUENCY': 'M', 'INDICATOR_UNIT': '%', 'YTD_TARGET': 97.6, 'YTD_ACTUAL': 96.5, 'MONTHLY_TARGET': 97.6, 'MONTHLY_ACTUAL': 96.5}, {'AGENCY_NAME': 'Metro-North Railroad', 'INDICATOR_NAME': 'On-Time Performance (East of Hudson)', 'DESCRIPTION': 'Percent of commuter trains that arrive at their destinations within 5 minutes and 59 seconds of the scheduled time. East of Hudson service includes the Harlem, Hudson and New Haven lines.', 'PERIOD_YEAR': 2009, 'PERIOD_MONTH': 2, 'CATEGORY': 'Service Indicators', 'FREQUENCY': 'M', 'INDICATOR_UNIT': '%', 'YTD_TARGET': 97.6, 'YTD_ACTUAL': 97.1, 'MONTHLY_TARGET': 97.6, 'MONTHLY_ACTUAL': 97.8}, {'AGENCY_NAME': 'Metro-North Railroad', 'INDICATOR_NAME': 'On-Time Performance (East of Hudson)', 'DESCRIPTION': 'Percent of commuter trains that arrive at their destinations within 5 minutes and 59 seconds of the scheduled time. East of Hudson service includes the Harlem, Hudson and New Haven lines.', 'PERIOD_YEAR': 2009, 'PERIOD_MONTH': 3, 'CATEGORY': 'Service Indicators', 'FREQUENCY': 'M', 'INDICATOR_UNIT': '%', 'YTD_TARGET': 97.6, 'YTD_ACTUAL': 97.2, 'MONTHLY_TARGET': 97.6, 'MONTHLY_ACTUAL': 97.4}, {'AGENCY_NAME': 'Metro-North Railroad', 'INDICATOR_NAME': 'On-Time Performance (East of Hudson)', 'DESCRIPTION': 'Percent of commuter trains that arrive at their destinations within 5 minutes and 59 seconds of the scheduled time. East of Hudson service includes the Harlem, Hudson and New Haven lines.', 'PERIOD_YEAR': 2009, 'PERIOD_MONTH': 4, 'CATEGORY': 'Service Indicators', 'FREQUENCY': 'M', 'INDICATOR_UNIT': '%', 'YTD_TARGET': 97.6, 'YTD_ACTUAL': 97.5, 'MONTHLY_TARGET': 97.6, 'MONTHLY_ACTUAL': 98.4}, {'AGENCY_NAME': 'Metro-North Railroad', 'INDICATOR_NAME': 'On-Time Performance (East of Hudson)', 'DESCRIPTION': 'Percent of commuter trains that arrive at their destinations within 5 minutes and 59 seconds of the scheduled time. East of Hudson service includes the Harlem, Hudson and New Haven lines.', 'PERIOD_YEAR': 2009, 'PERIOD_MONTH': 5, 'CATEGORY': 'Service Indicators', 'FREQUENCY': 'M', 'INDICATOR_UNIT': '%', 'YTD_TARGET': 97.6, 'YTD_ACTUAL': 97.7, 'MONTHLY_TARGET': 97.6, 'MONTHLY_ACTUAL': 98.3}, {'AGENCY_NAME': 'Metro-North Railroad', 'INDICATOR_NAME': 'On-Time Performance (East of Hudson)', 'DESCRIPTION': 'Percent of commuter trains that arrive at their destinations within 5 minutes and 59 seconds of the scheduled time. East of Hudson service includes the Harlem, Hudson and New Haven lines.', 'PERIOD_YEAR': 2009, 'PERIOD_MONTH': 6, 'CATEGORY': 'Service Indicators', 'FREQUENCY': 'M', 'INDICATOR_UNIT': '%', 'YTD_TARGET': 97.6, 'YTD_ACTUAL': 97.7, 'MONTHLY_TARGET': 97.6, 'MONTHLY_ACTUAL': 98.1}, {'AGENCY_NAME': 'Metro-North Railroad', 'INDICATOR_NAME': 'On-Time Performance (East of Hudson)', 'DESCRIPTION': 'Percent of commuter trains that arrive at their destinations within 5 minutes and 59 seconds of the scheduled time. East of Hudson service includes the Harlem, Hudson and New Haven lines.', 'PERIOD_YEAR': 2009, 'PERIOD_MONTH': 7, 'CATEGORY': 'Service Indicators', 'FREQUENCY': 'M', 'INDICATOR_UNIT': '%', 'YTD_TARGET': 97.6, 'YTD_ACTUAL': 97.8, 'MONTHLY_TARGET': 97.6, 'MONTHLY_ACTUAL': 98.2}, {'AGENCY_NAME': 'Metro-North Railroad', 'INDICATOR_NAME': 'On-Time Performance (East of Hudson)', 'DESCRIPTION': 'Percent of commuter trains that arrive at their destinations within 5 minutes and 59 seconds of the scheduled time. East of Hudson service includes the Harlem, Hudson and New Haven lines.', 'PERIOD_YEAR': 2009, 'PERIOD_MONTH': 8, 'CATEGORY': 'Service Indicators', 'FREQUENCY': 'M', 'INDICATOR_UNIT': '%', 'YTD_TARGET': 97.6, 'YTD_ACTUAL': 97.8, 'MONTHLY_TARGET': 97.6, 'MONTHLY_ACTUAL': 97.6}, {'AGENCY_NAME': 'Metro-North Railroad', 'INDICATOR_NAME': 'On-Time Performance (East of Hudson)', 'DESCRIPTION': 'Percent of commuter trains that arrive at their destinations within 5 minutes and 59 seconds of the scheduled time. East of Hudson service includes the Harlem, Hudson and New Haven lines.', 'PERIOD_YEAR': 2009, 'PERIOD_MONTH': 9, 'CATEGORY': 'Service Indicators', 'FREQUENCY': 'M', 'INDICATOR_UNIT': '%', 'YTD_TARGET': 97.6, 'YTD_ACTUAL': 97.8, 'MONTHLY_TARGET': 97.6, 'MONTHLY_ACTUAL': 98.2}, {'AGENCY_NAME': 'Metro-North Railroad', 'INDICATOR_NAME': 'On-Time Performance (East of Hudson)', 'DESCRIPTION': 'Percent of commuter trains that arrive at their destinations within 5 minutes and 59 seconds of the scheduled time. East of Hudson service includes the Harlem, Hudson and New Haven lines.', 'PERIOD_YEAR': 2009, 'PERIOD_MONTH': 10, 'CATEGORY': 'Service Indicators', 'FREQUENCY': 'M', 'INDICATOR_UNIT': '%', 'YTD_TARGET': 97.6, 'YTD_ACTUAL': 97.9, 'MONTHLY_TARGET': 97.6, 'MONTHLY_ACTUAL': 98.1}, {'AGENCY_NAME': 'Metro-North Railroad', 'INDICATOR_NAME': 'On-Time Performance (East of Hudson)', 'DESCRIPTION': 'Percent of commuter trains that arrive at their destinations within 5 minutes and 59 seconds of the scheduled time. East of Hudson service includes the Harlem, Hudson and New Haven lines.', 'PERIOD_YEAR': 2009, 'PERIOD_MONTH': 11, 'CATEGORY': 'Service Indicators', 'FREQUENCY': 'M', 'INDICATOR_UNIT': '%', 'YTD_TARGET': 97.6, 'YTD_ACTUAL': 97.9, 'MONTHLY_TARGET': 97.6, 'MONTHLY_ACTUAL': 98.2}, {'AGENCY_NAME': 'Metro-North Railroad', 'INDICATOR_NAME': 'On-Time Performance (East of Hudson)', 'DESCRIPTION': 'Percent of commuter trains that arrive at their destinations within 5 minutes and 59 seconds of the scheduled time. East of Hudson service includes the Harlem, Hudson and New Haven lines.', 'PERIOD_YEAR': 2009, 'PERIOD_MONTH': 12, 'CATEGORY': 'Service Indicators', 'FREQUENCY': 'M', 'INDICATOR_UNIT': '%', 'YTD_TARGET': 97.6, 'YTD_ACTUAL': 97.8, 'MONTHLY_TARGET': 97.6, 'MONTHLY_ACTUAL': 97.3}, {'AGENCY_NAME': 'Metro-North Railroad', 'INDICATOR_NAME': 'On-Time Performance (East of Hudson)', 'DESCRIPTION': 'Percent of commuter trains that arrive at their destinations within 5 minutes and 59 seconds of the scheduled time. East of Hudson service includes the Harlem, Hudson and New Haven lines.', 'PERIOD_YEAR': 2010, 'PERIOD_MONTH': 1, 'CATEGORY': 'Service Indicators', 'FREQUENCY': 'M', 'INDICATOR_UNIT': '%', 'YTD_TARGET': 97.7, 'YTD_ACTUAL': 98.4, 'MONTHLY_TARGET': 97.7, 'MONTHLY_ACTUAL': 98.4}, {'AGENCY_NAME': 'Metro-North Railroad', 'INDICATOR_NAME': 'On-Time Performance (East of Hudson)', 'DESCRIPTION': 'Percent of commuter trains that arrive at their destinations within 5 minutes and 59 seconds of the scheduled time. East of Hudson service includes the Harlem, Hudson and New Haven lines.', 'PERIOD_YEAR': 2010, 'PERIOD_MONTH': 2, 'CATEGORY': 'Service Indicators', 'FREQUENCY': 'M', 'INDICATOR_UNIT': '%', 'YTD_TARGET': 97.7, 'YTD_ACTUAL': 98.1, 'MONTHLY_TARGET': 97.7, 'MONTHLY_ACTUAL': 97.7}, {'AGENCY_NAME': 'Metro-North Railroad', 'INDICATOR_NAME': 'On-Time Performance (East of Hudson)', 'DESCRIPTION': 'Percent of commuter trains that arrive at their destinations within 5 minutes and 59 seconds of the scheduled time. East of Hudson service includes the Harlem, Hudson and New Haven lines.', 'PERIOD_YEAR': 2010, 'PERIOD_MONTH': 3, 'CATEGORY': 'Service Indicators', 'FREQUENCY': 'M', 'INDICATOR_UNIT': '%', 'YTD_TARGET': 97.7, 'YTD_ACTUAL': 98.0, 'MONTHLY_TARGET': 97.7, 'MONTHLY_ACTUAL': 97.8}, {'AGENCY_NAME': 'Metro-North Railroad', 'INDICATOR_NAME': 'On-Time Performance (East of Hudson)', 'DESCRIPTION': 'Percent of commuter trains that arrive at their destinations within 5 minutes and 59 seconds of the scheduled time. East of Hudson service includes the Harlem, Hudson and New Haven lines.', 'PERIOD_YEAR': 2010, 'PERIOD_MONTH': 4, 'CATEGORY': 'Service Indicators', 'FREQUENCY': 'M', 'INDICATOR_UNIT': '%', 'YTD_TARGET': 97.7, 'YTD_ACTUAL': 98.0, 'MONTHLY_TARGET': 97.7, 'MONTHLY_ACTUAL': 97.9}, {'AGENCY_NAME': 'Metro-North Railroad', 'INDICATOR_NAME': 'On-Time Performance (East of Hudson)', 'DESCRIPTION': 'Percent of commuter trains that arrive at their destinations within 5 minutes and 59 seconds of the scheduled time. East of Hudson service includes the Harlem, Hudson and New Haven lines.', 'PERIOD_YEAR': 2010, 'PERIOD_MONTH': 5, 'CATEGORY': 'Service Indicators', 'FREQUENCY': 'M', 'INDICATOR_UNIT': '%', 'YTD_TARGET': 97.7, 'YTD_ACTUAL': 98.0, 'MONTHLY_TARGET': 97.7, 'MONTHLY_ACTUAL': 98.4}, {'AGENCY_NAME': 'Metro-North Railroad', 'INDICATOR_NAME': 'On-Time Performance (East of Hudson)', 'DESCRIPTION': 'Percent of commuter trains that arrive at their destinations within 5 minutes and 59 seconds of the scheduled time. East of Hudson service includes the Harlem, Hudson and New Haven lines.', 'PERIOD_YEAR': 2010, 'PERIOD_MONTH': 6, 'CATEGORY': 'Service Indicators', 'FREQUENCY': 'M', 'INDICATOR_UNIT': '%', 'YTD_TARGET': 97.7, 'YTD_ACTUAL': 98.0, 'MONTHLY_TARGET': 97.7, 'MONTHLY_ACTUAL': 98.0}, {'AGENCY_NAME': 'Metro-North Railroad', 'INDICATOR_NAME': 'On-Time Performance (East of Hudson)', 'DESCRIPTION': 'Percent of commuter trains that arrive at their destinations within 5 minutes and 59 seconds of the scheduled time. East of Hudson service includes the Harlem, Hudson and New Haven lines.', 'PERIOD_YEAR': 2010, 'PERIOD_MONTH': 7, 'CATEGORY': 'Service Indicators', 'FREQUENCY': 'M', 'INDICATOR_UNIT': '%', 'YTD_TARGET': 97.7, 'YTD_ACTUAL': 97.9, 'MONTHLY_TARGET': 97.7, 'MONTHLY_ACTUAL': 97.0}, {'AGENCY_NAME': 'Metro-North Railroad', 'INDICATOR_NAME': 'On-Time Performance (East of Hudson)', 'DESCRIPTION': 'Percent of commuter trains that arrive at their destinations within 5 minutes and 59 seconds of the scheduled time. East of Hudson service includes the Harlem, Hudson and New Haven lines.', 'PERIOD_YEAR': 2010, 'PERIOD_MONTH': 8, 'CATEGORY': 'Service Indicators', 'FREQUENCY': 'M', 'INDICATOR_UNIT': '%', 'YTD_TARGET': 97.7, 'YTD_ACTUAL': 98.0, 'MONTHLY_TARGET': 97.7, 'MONTHLY_ACTUAL': 98.4}, {'AGENCY_NAME': 'Metro-North Railroad', 'INDICATOR_NAME': 'On-Time Performance (East of Hudson)', 'DESCRIPTION': 'Percent of commuter trains that arrive at their destinations within 5 minutes and 59 seconds of the scheduled time. East of Hudson service includes the Harlem, Hudson and New Haven lines.', 'PERIOD_YEAR': 2010, 'PERIOD_MONTH': 9, 'CATEGORY': 'Service Indicators', 'FREQUENCY': 'M', 'INDICATOR_UNIT': '%', 'YTD_TARGET': 97.7, 'YTD_ACTUAL': 97.9, 'MONTHLY_TARGET': 97.7, 'MONTHLY_ACTUAL': 97.4}, {'AGENCY_NAME': 'Metro-North Railroad', 'INDICATOR_NAME': 'On-Time Performance (East of Hudson)', 'DESCRIPTION': 'Percent of commuter trains that arrive at their destinations within 5 minutes and 59 seconds of the scheduled time. East of Hudson service includes the Harlem, Hudson and New Haven lines.', 'PERIOD_YEAR': 2010, 'PERIOD_MONTH': 10, 'CATEGORY': 'Service Indicators', 'FREQUENCY': 'M', 'INDICATOR_UNIT': '%', 'YTD_TARGET': 97.7, 'YTD_ACTUAL': 97.8, 'MONTHLY_TARGET': 97.7, 'MONTHLY_ACTUAL': 96.9}, {'AGENCY_NAME': 'Metro-North Railroad', 'INDICATOR_NAME': 'On-Time Performance (East of Hudson)', 'DESCRIPTION': 'Percent of commuter trains that arrive at their destinations within 5 minutes and 59 seconds of the scheduled time. East of Hudson service includes the Harlem, Hudson and New Haven lines.', 'PERIOD_YEAR': 2010, 'PERIOD_MONTH': 11, 'CATEGORY': 'Service Indicators', 'FREQUENCY': 'M', 'INDICATOR_UNIT': '%', 'YTD_TARGET': 97.7, 'YTD_ACTUAL': 97.7, 'MONTHLY_TARGET': 97.7, 'MONTHLY_ACTUAL': 96.6}, {'AGENCY_NAME': 'Metro-North Railroad', 'INDICATOR_NAME': 'On-Time Performance (East of Hudson)', 'DESCRIPTION': 'Percent of commuter trains that arrive at their destinations within 5 minutes and 59 seconds of the scheduled time. East of Hudson service includes the Harlem, Hudson and New Haven lines.', 'PERIOD_YEAR': 2010, 'PERIOD_MONTH': 12, 'CATEGORY': 'Service Indicators', 'FREQUENCY': 'M', 'INDICATOR_UNIT': '%', 'YTD_TARGET': 97.7, 'YTD_ACTUAL': 97.7, 'MONTHLY_TARGET': 97.7, 'MONTHLY_ACTUAL': 97.1}, {'AGENCY_NAME': 'Metro-North Railroad', 'INDICATOR_NAME': 'On-Time Performance (East of Hudson)', 'DESCRIPTION': 'Percent of commuter trains that arrive at their destinations within 5 minutes and 59 seconds of the scheduled time. East of Hudson service includes the Harlem, Hudson and New Haven lines.', 'PERIOD_YEAR': 2011, 'PERIOD_MONTH': 1, 'CATEGORY': 'Service Indicators', 'FREQUENCY': 'M', 'INDICATOR_UNIT': '%', 'YTD_TARGET': 97.8, 'YTD_ACTUAL': 93.5, 'MONTHLY_TARGET': 97.8, 'MONTHLY_ACTUAL': 93.5}, {'AGENCY_NAME': 'Metro-North Railroad', 'INDICATOR_NAME': 'On-Time Performance (East of Hudson)', 'DESCRIPTION': 'Percent of commuter trains that arrive at their destinations within 5 minutes and 59 seconds of the scheduled time. East of Hudson service includes the Harlem, Hudson and New Haven lines.', 'PERIOD_YEAR': 2011, 'PERIOD_MONTH': 2, 'CATEGORY': 'Service Indicators', 'FREQUENCY': 'M', 'INDICATOR_UNIT': '%', 'YTD_TARGET': 97.8, 'YTD_ACTUAL': 94.4, 'MONTHLY_TARGET': 97.8, 'MONTHLY_ACTUAL': 95.4}, {'AGENCY_NAME': 'Metro-North Railroad', 'INDICATOR_NAME': 'On-Time Performance (East of Hudson)', 'DESCRIPTION': 'Percent of commuter trains that arrive at their destinations within 5 minutes and 59 seconds of the scheduled time. East of Hudson service includes the Harlem, Hudson and New Haven lines.', 'PERIOD_YEAR': 2011, 'PERIOD_MONTH': 3, 'CATEGORY': 'Service Indicators', 'FREQUENCY': 'M', 'INDICATOR_UNIT': '%', 'YTD_TARGET': 97.8, 'YTD_ACTUAL': 95.6, 'MONTHLY_TARGET': 97.8, 'MONTHLY_ACTUAL': 97.6}, {'AGENCY_NAME': 'Metro-North Railroad', 'INDICATOR_NAME': 'On-Time Performance (East of Hudson)', 'DESCRIPTION': 'Percent of commuter trains that arrive at their destinations within 5 minutes and 59 seconds of the scheduled time. East of Hudson service includes the Harlem, Hudson and New Haven lines.', 'PERIOD_YEAR': 2011, 'PERIOD_MONTH': 4, 'CATEGORY': 'Service Indicators', 'FREQUENCY': 'M', 'INDICATOR_UNIT': '%', 'YTD_TARGET': 97.8, 'YTD_ACTUAL': 96.2, 'MONTHLY_TARGET': 97.8, 'MONTHLY_ACTUAL': 97.9}, {'AGENCY_NAME': 'Metro-North Railroad', 'INDICATOR_NAME': 'On-Time Performance (East of Hudson)', 'DESCRIPTION': 'Percent of commuter trains that arrive at their destinations within 5 minutes and 59 seconds of the scheduled time. East of Hudson service includes the Harlem, Hudson and New Haven lines.', 'PERIOD_YEAR': 2011, 'PERIOD_MONTH': 5, 'CATEGORY': 'Service Indicators', 'FREQUENCY': 'M', 'INDICATOR_UNIT': '%', 'YTD_TARGET': 97.8, 'YTD_ACTUAL': '', 'MONTHLY_TARGET': 97.8, 'MONTHLY_ACTUAL': ''}, {'AGENCY_NAME': 'Metro-North Railroad', 'INDICATOR_NAME': 'On-Time Performance (East of Hudson)', 'DESCRIPTION': 'Percent of commuter trains that arrive at their destinations within 5 minutes and 59 seconds of the scheduled time. East of Hudson service includes the Harlem, Hudson and New Haven lines.', 'PERIOD_YEAR': 2011, 'PERIOD_MONTH': 6, 'CATEGORY': 'Service Indicators', 'FREQUENCY': 'M', 'INDICATOR_UNIT': '%', 'YTD_TARGET': 97.8, 'YTD_ACTUAL': '', 'MONTHLY_TARGET': 97.8, 'MONTHLY_ACTUAL': ''}, {'AGENCY_NAME': 'Metro-North Railroad', 'INDICATOR_NAME': 'On-Time Performance (East of Hudson)', 'DESCRIPTION': 'Percent of commuter trains that arrive at their destinations within 5 minutes and 59 seconds of the scheduled time. East of Hudson service includes the Harlem, Hudson and New Haven lines.', 'PERIOD_YEAR': 2011, 'PERIOD_MONTH': 7, 'CATEGORY': 'Service Indicators', 'FREQUENCY': 'M', 'INDICATOR_UNIT': '%', 'YTD_TARGET': 97.8, 'YTD_ACTUAL': '', 'MONTHLY_TARGET': 97.8, 'MONTHLY_ACTUAL': ''}, {'AGENCY_NAME': 'Metro-North Railroad', 'INDICATOR_NAME': 'On-Time Performance (East of Hudson)', 'DESCRIPTION': 'Percent of commuter trains that arrive at their destinations within 5 minutes and 59 seconds of the scheduled time. East of Hudson service includes the Harlem, Hudson and New Haven lines.', 'PERIOD_YEAR': 2011, 'PERIOD_MONTH': 8, 'CATEGORY': 'Service Indicators', 'FREQUENCY': 'M', 'INDICATOR_UNIT': '%', 'YTD_TARGET': 97.8, 'YTD_ACTUAL': '', 'MONTHLY_TARGET': 97.8, 'MONTHLY_ACTUAL': ''}, {'AGENCY_NAME': 'Metro-North Railroad', 'INDICATOR_NAME': 'On-Time Performance (East of Hudson)', 'DESCRIPTION': 'Percent of commuter trains that arrive at their destinations within 5 minutes and 59 seconds of the scheduled time. East of Hudson service includes the Harlem, Hudson and New Haven lines.', 'PERIOD_YEAR': 2011, 'PERIOD_MONTH': 9, 'CATEGORY': 'Service Indicators', 'FREQUENCY': 'M', 'INDICATOR_UNIT': '%', 'YTD_TARGET': 97.8, 'YTD_ACTUAL': '', 'MONTHLY_TARGET': 97.8, 'MONTHLY_ACTUAL': ''}, {'AGENCY_NAME': 'Metro-North Railroad', 'INDICATOR_NAME': 'On-Time Performance (East of Hudson)', 'DESCRIPTION': 'Percent of commuter trains that arrive at their destinations within 5 minutes and 59 seconds of the scheduled time. East of Hudson service includes the Harlem, Hudson and New Haven lines.', 'PERIOD_YEAR': 2011, 'PERIOD_MONTH': 10, 'CATEGORY': 'Service Indicators', 'FREQUENCY': 'M', 'INDICATOR_UNIT': '%', 'YTD_TARGET': 97.8, 'YTD_ACTUAL': '', 'MONTHLY_TARGET': 97.8, 'MONTHLY_ACTUAL': ''}, {'AGENCY_NAME': 'Metro-North Railroad', 'INDICATOR_NAME': 'On-Time Performance (East of Hudson)', 'DESCRIPTION': 'Percent of commuter trains that arrive at their destinations within 5 minutes and 59 seconds of the scheduled time. East of Hudson service includes the Harlem, Hudson and New Haven lines.', 'PERIOD_YEAR': 2011, 'PERIOD_MONTH': 11, 'CATEGORY': 'Service Indicators', 'FREQUENCY': 'M', 'INDICATOR_UNIT': '%', 'YTD_TARGET': 97.8, 'YTD_ACTUAL': '', 'MONTHLY_TARGET': 97.8, 'MONTHLY_ACTUAL': ''}, {'AGENCY_NAME': 'Metro-North Railroad', 'INDICATOR_NAME': 'On-Time Performance (East of Hudson)', 'DESCRIPTION': 'Percent of commuter trains that arrive at their destinations within 5 minutes and 59 seconds of the scheduled time. East of Hudson service includes the Harlem, Hudson and New Haven lines.', 'PERIOD_YEAR': 2011, 'PERIOD_MONTH': 12, 'CATEGORY': 'Service Indicators', 'FREQUENCY': 'M', 'INDICATOR_UNIT': '%', 'YTD_TARGET': 97.8, 'YTD_ACTUAL': '', 'MONTHLY_TARGET': 97.8, 'MONTHLY_ACTUAL': ''}, {'AGENCY_NAME': 'Metro-North Railroad', 'INDICATOR_NAME': 'Elevator Availability', 'DESCRIPTION': 'Percent of the time that elevators are operational systemwide. The availability rate is based on physical observations performed the morning of regular business days only. This is a new indicator the agency began reporting in 2009.', 'PERIOD_YEAR': 2008, 'PERIOD_MONTH': 1, 'CATEGORY': 'Service Indicators', 'FREQUENCY': 'M', 'INDICATOR_UNIT': '%', 'YTD_TARGET': '', 'YTD_ACTUAL': '', 'MONTHLY_TARGET': '', 'MONTHLY_ACTUAL': ''}, {'AGENCY_NAME': 'Metro-North Railroad', 'INDICATOR_NAME': 'Elevator Availability', 'DESCRIPTION': 'Percent of the time that elevators are operational systemwide. The availability rate is based on physical observations performed the morning of regular business days only. This is a new indicator the agency began reporting in 2009.', 'PERIOD_YEAR': 2008, 'PERIOD_MONTH': 2, 'CATEGORY': 'Service Indicators', 'FREQUENCY': 'M', 'INDICATOR_UNIT': '%', 'YTD_TARGET': '', 'YTD_ACTUAL': '', 'MONTHLY_TARGET': '', 'MONTHLY_ACTUAL': ''}, {'AGENCY_NAME': 'Metro-North Railroad', 'INDICATOR_NAME': 'Elevator Availability', 'DESCRIPTION': 'Percent of the time that elevators are operational systemwide. The availability rate is based on physical observations performed the morning of regular business days only. This is a new indicator the agency began reporting in 2009.', 'PERIOD_YEAR': 2008, 'PERIOD_MONTH': 3, 'CATEGORY': 'Service Indicators', 'FREQUENCY': 'M', 'INDICATOR_UNIT': '%', 'YTD_TARGET': '', 'YTD_ACTUAL': '', 'MONTHLY_TARGET': '', 'MONTHLY_ACTUAL': ''}, {'AGENCY_NAME': 'Metro-North Railroad', 'INDICATOR_NAME': 'Elevator Availability', 'DESCRIPTION': 'Percent of the time that elevators are operational systemwide. The availability rate is based on physical observations performed the morning of regular business days only. This is a new indicator the agency began reporting in 2009.', 'PERIOD_YEAR': 2008, 'PERIOD_MONTH': 4, 'CATEGORY': 'Service Indicators', 'FREQUENCY': 'M', 'INDICATOR_UNIT': '%', 'YTD_TARGET': '', 'YTD_ACTUAL': '', 'MONTHLY_TARGET': '', 'MONTHLY_ACTUAL': ''}, {'AGENCY_NAME': 'Metro-North Railroad', 'INDICATOR_NAME': 'Elevator Availability', 'DESCRIPTION': 'Percent of the time that elevators are operational systemwide. The availability rate is based on physical observations performed the morning of regular business days only. This is a new indicator the agency began reporting in 2009.', 'PERIOD_YEAR': 2008, 'PERIOD_MONTH': 5, 'CATEGORY': 'Service Indicators', 'FREQUENCY': 'M', 'INDICATOR_UNIT': '%', 'YTD_TARGET': '', 'YTD_ACTUAL': '', 'MONTHLY_TARGET': '', 'MONTHLY_ACTUAL': ''}, {'AGENCY_NAME': 'Metro-North Railroad', 'INDICATOR_NAME': 'Elevator Availability', 'DESCRIPTION': 'Percent of the time that elevators are operational systemwide. The availability rate is based on physical observations performed the morning of regular business days only. This is a new indicator the agency began reporting in 2009.', 'PERIOD_YEAR': 2008, 'PERIOD_MONTH': 6, 'CATEGORY': 'Service Indicators', 'FREQUENCY': 'M', 'INDICATOR_UNIT': '%', 'YTD_TARGET': '', 'YTD_ACTUAL': '', 'MONTHLY_TARGET': '', 'MONTHLY_ACTUAL': ''}, {'AGENCY_NAME': 'Metro-North Railroad', 'INDICATOR_NAME': 'Elevator Availability', 'DESCRIPTION': 'Percent of the time that elevators are operational systemwide. The availability rate is based on physical observations performed the morning of regular business days only. This is a new indicator the agency began reporting in 2009.', 'PERIOD_YEAR': 2008, 'PERIOD_MONTH': 7, 'CATEGORY': 'Service Indicators', 'FREQUENCY': 'M', 'INDICATOR_UNIT': '%', 'YTD_TARGET': '', 'YTD_ACTUAL': '', 'MONTHLY_TARGET': '', 'MONTHLY_ACTUAL': ''}, {'AGENCY_NAME': 'Metro-North Railroad', 'INDICATOR_NAME': 'Elevator Availability', 'DESCRIPTION': 'Percent of the time that elevators are operational systemwide. The availability rate is based on physical observations performed the morning of regular business days only. This is a new indicator the agency began reporting in 2009.', 'PERIOD_YEAR': 2008, 'PERIOD_MONTH': 8, 'CATEGORY': 'Service Indicators', 'FREQUENCY': 'M', 'INDICATOR_UNIT': '%', 'YTD_TARGET': '', 'YTD_ACTUAL': '', 'MONTHLY_TARGET': '', 'MONTHLY_ACTUAL': ''}, {'AGENCY_NAME': 'Metro-North Railroad', 'INDICATOR_NAME': 'Elevator Availability', 'DESCRIPTION': 'Percent of the time that elevators are operational systemwide. The availability rate is based on physical observations performed the morning of regular business days only. This is a new indicator the agency began reporting in 2009.', 'PERIOD_YEAR': 2008, 'PERIOD_MONTH': 9, 'CATEGORY': 'Service Indicators', 'FREQUENCY': 'M', 'INDICATOR_UNIT': '%', 'YTD_TARGET': '', 'YTD_ACTUAL': '', 'MONTHLY_TARGET': '', 'MONTHLY_ACTUAL': ''}, {'AGENCY_NAME': 'Metro-North Railroad', 'INDICATOR_NAME': 'Elevator Availability', 'DESCRIPTION': 'Percent of the time that elevators are operational systemwide. The availability rate is based on physical observations performed the morning of regular business days only. This is a new indicator the agency began reporting in 2009.', 'PERIOD_YEAR': 2008, 'PERIOD_MONTH': 10, 'CATEGORY': 'Service Indicators', 'FREQUENCY': 'M', 'INDICATOR_UNIT': '%', 'YTD_TARGET': '', 'YTD_ACTUAL': '', 'MONTHLY_TARGET': '', 'MONTHLY_ACTUAL': ''}, {'AGENCY_NAME': 'Metro-North Railroad', 'INDICATOR_NAME': 'Elevator Availability', 'DESCRIPTION': 'Percent of the time that elevators are operational systemwide. The availability rate is based on physical observations performed the morning of regular business days only. This is a new indicator the agency began reporting in 2009.', 'PERIOD_YEAR': 2008, 'PERIOD_MONTH': 11, 'CATEGORY': 'Service Indicators', 'FREQUENCY': 'M', 'INDICATOR_UNIT': '%', 'YTD_TARGET': '', 'YTD_ACTUAL': '', 'MONTHLY_TARGET': '', 'MONTHLY_ACTUAL': ''}, {'AGENCY_NAME': 'Metro-North Railroad', 'INDICATOR_NAME': 'Elevator Availability', 'DESCRIPTION': 'Percent of the time that elevators are operational systemwide. The availability rate is based on physical observations performed the morning of regular business days only. This is a new indicator the agency began reporting in 2009.', 'PERIOD_YEAR': 2008, 'PERIOD_MONTH': 12, 'CATEGORY': 'Service Indicators', 'FREQUENCY': 'M', 'INDICATOR_UNIT': '%', 'YTD_TARGET': '', 'YTD_ACTUAL': '', 'MONTHLY_TARGET': '', 'MONTHLY_ACTUAL': ''}, {'AGENCY_NAME': 'Metro-North Railroad', 'INDICATOR_NAME': 'Elevator Availability', 'DESCRIPTION': 'Percent of the time that elevators are operational systemwide. The availability rate is based on physical observations performed the morning of regular business days only. This is a new indicator the agency began reporting in 2009.', 'PERIOD_YEAR': 2009, 'PERIOD_MONTH': 1, 'CATEGORY': 'Service Indicators', 'FREQUENCY': 'M', 'INDICATOR_UNIT': '%', 'YTD_TARGET': '', 'YTD_ACTUAL': 98.0, 'MONTHLY_TARGET': '', 'MONTHLY_ACTUAL': 98.0}, {'AGENCY_NAME': 'Metro-North Railroad', 'INDICATOR_NAME': 'Elevator Availability', 'DESCRIPTION': 'Percent of the time that elevators are operational systemwide. The availability rate is based on physical observations performed the morning of regular business days only. This is a new indicator the agency began reporting in 2009.', 'PERIOD_YEAR': 2009, 'PERIOD_MONTH': 2, 'CATEGORY': 'Service Indicators', 'FREQUENCY': 'M', 'INDICATOR_UNIT': '%', 'YTD_TARGET': '', 'YTD_ACTUAL': 98.0, 'MONTHLY_TARGET': '', 'MONTHLY_ACTUAL': 98.0}, {'AGENCY_NAME': 'Metro-North Railroad', 'INDICATOR_NAME': 'Elevator Availability', 'DESCRIPTION': 'Percent of the time that elevators are operational systemwide. The availability rate is based on physical observations performed the morning of regular business days only. This is a new indicator the agency began reporting in 2009.', 'PERIOD_YEAR': 2009, 'PERIOD_MONTH': 3, 'CATEGORY': 'Service Indicators', 'FREQUENCY': 'M', 'INDICATOR_UNIT': '%', 'YTD_TARGET': '', 'YTD_ACTUAL': 98.6, 'MONTHLY_TARGET': '', 'MONTHLY_ACTUAL': 100.0}, {'AGENCY_NAME': 'Metro-North Railroad', 'INDICATOR_NAME': 'Elevator Availability', 'DESCRIPTION': 'Percent of the time that elevators are operational systemwide. The availability rate is based on physical observations performed the morning of regular business days only. This is a new indicator the agency began reporting in 2009.', 'PERIOD_YEAR': 2009, 'PERIOD_MONTH': 4, 'CATEGORY': 'Service Indicators', 'FREQUENCY': 'M', 'INDICATOR_UNIT': '%', 'YTD_TARGET': '', 'YTD_ACTUAL': 98.95, 'MONTHLY_TARGET': '', 'MONTHLY_ACTUAL': 100.0}, {'AGENCY_NAME': 'Metro-North Railroad', 'INDICATOR_NAME': 'Elevator Availability', 'DESCRIPTION': 'Percent of the time that elevators are operational systemwide. The availability rate is based on physical observations performed the morning of regular business days only. This is a new indicator the agency began reporting in 2009.', 'PERIOD_YEAR': 2009, 'PERIOD_MONTH': 5, 'CATEGORY': 'Service Indicators', 'FREQUENCY': 'M', 'INDICATOR_UNIT': '%', 'YTD_TARGET': '', 'YTD_ACTUAL': 98.96, 'MONTHLY_TARGET': '', 'MONTHLY_ACTUAL': 99.0}, {'AGENCY_NAME': 'Metro-North Railroad', 'INDICATOR_NAME': 'Elevator Availability', 'DESCRIPTION': 'Percent of the time that elevators are operational systemwide. The availability rate is based on physical observations performed the morning of regular business days only. This is a new indicator the agency began reporting in 2009.', 'PERIOD_YEAR': 2009, 'PERIOD_MONTH': 6, 'CATEGORY': 'Service Indicators', 'FREQUENCY': 'M', 'INDICATOR_UNIT': '%', 'YTD_TARGET': '', 'YTD_ACTUAL': 98.97, 'MONTHLY_TARGET': '', 'MONTHLY_ACTUAL': 99.0}, {'AGENCY_NAME': 'Metro-North Railroad', 'INDICATOR_NAME': 'Elevator Availability', 'DESCRIPTION': 'Percent of the time that elevators are operational systemwide. The availability rate is based on physical observations performed the morning of regular business days only. This is a new indicator the agency began reporting in 2009.', 'PERIOD_YEAR': 2009, 'PERIOD_MONTH': 7, 'CATEGORY': 'Service Indicators', 'FREQUENCY': 'M', 'INDICATOR_UNIT': '%', 'YTD_TARGET': '', 'YTD_ACTUAL': 99.07, 'MONTHLY_TARGET': '', 'MONTHLY_ACTUAL': 100.0}, {'AGENCY_NAME': 'Metro-North Railroad', 'INDICATOR_NAME': 'Elevator Availability', 'DESCRIPTION': 'Percent of the time that elevators are operational systemwide. The availability rate is based on physical observations performed the morning of regular business days only. This is a new indicator the agency began reporting in 2009.', 'PERIOD_YEAR': 2009, 'PERIOD_MONTH': 8, 'CATEGORY': 'Service Indicators', 'FREQUENCY': 'M', 'INDICATOR_UNIT': '%', 'YTD_TARGET': '', 'YTD_ACTUAL': 99.05, 'MONTHLY_TARGET': '', 'MONTHLY_ACTUAL': 99.0}, {'AGENCY_NAME': 'Metro-North Railroad', 'INDICATOR_NAME': 'Elevator Availability', 'DESCRIPTION': 'Percent of the time that elevators are operational systemwide. The availability rate is based on physical observations performed the morning of regular business days only. This is a new indicator the agency began reporting in 2009.', 'PERIOD_YEAR': 2009, 'PERIOD_MONTH': 9, 'CATEGORY': 'Service Indicators', 'FREQUENCY': 'M', 'INDICATOR_UNIT': '%', 'YTD_TARGET': '', 'YTD_ACTUAL': 99.09, 'MONTHLY_TARGET': '', 'MONTHLY_ACTUAL': 99.0}, {'AGENCY_NAME': 'Metro-North Railroad', 'INDICATOR_NAME': 'Elevator Availability', 'DESCRIPTION': 'Percent of the time that elevators are operational systemwide. The availability rate is based on physical observations performed the morning of regular business days only. This is a new indicator the agency began reporting in 2009.', 'PERIOD_YEAR': 2009, 'PERIOD_MONTH': 10, 'CATEGORY': 'Service Indicators', 'FREQUENCY': 'M', 'INDICATOR_UNIT': '%', 'YTD_TARGET': '', 'YTD_ACTUAL': 99.14, 'MONTHLY_TARGET': '', 'MONTHLY_ACTUAL': 99.6}, {'AGENCY_NAME': 'Metro-North Railroad', 'INDICATOR_NAME': 'Elevator Availability', 'DESCRIPTION': 'Percent of the time that elevators are operational systemwide. The availability rate is based on physical observations performed the morning of regular business days only. This is a new indicator the agency began reporting in 2009.', 'PERIOD_YEAR': 2009, 'PERIOD_MONTH': 11, 'CATEGORY': 'Service Indicators', 'FREQUENCY': 'M', 'INDICATOR_UNIT': '%', 'YTD_TARGET': '', 'YTD_ACTUAL': 99.16, 'MONTHLY_TARGET': '', 'MONTHLY_ACTUAL': 98.4}, {'AGENCY_NAME': 'Metro-North Railroad', 'INDICATOR_NAME': 'Elevator Availability', 'DESCRIPTION': 'Percent of the time that elevators are operational systemwide. The availability rate is based on physical observations performed the morning of regular business days only. This is a new indicator the agency began reporting in 2009.', 'PERIOD_YEAR': 2009, 'PERIOD_MONTH': 12, 'CATEGORY': 'Service Indicators', 'FREQUENCY': 'M', 'INDICATOR_UNIT': '%', 'YTD_TARGET': '', 'YTD_ACTUAL': 99.21, 'MONTHLY_TARGET': '', 'MONTHLY_ACTUAL': 99.8}, {'AGENCY_NAME': 'Metro-North Railroad', 'INDICATOR_NAME': 'Elevator Availability', 'DESCRIPTION': 'Percent of the time that elevators are operational systemwide. The availability rate is based on physical observations performed the morning of regular business days only. This is a new indicator the agency began reporting in 2009.', 'PERIOD_YEAR': 2010, 'PERIOD_MONTH': 1, 'CATEGORY': 'Service Indicators', 'FREQUENCY': 'M', 'INDICATOR_UNIT': '%', 'YTD_TARGET': 97.0, 'YTD_ACTUAL': 99.75, 'MONTHLY_TARGET': 97.0, 'MONTHLY_ACTUAL': 99.75}, {'AGENCY_NAME': 'Metro-North Railroad', 'INDICATOR_NAME': 'Elevator Availability', 'DESCRIPTION': 'Percent of the time that elevators are operational systemwide. The availability rate is based on physical observations performed the morning of regular business days only. This is a new indicator the agency began reporting in 2009.', 'PERIOD_YEAR': 2010, 'PERIOD_MONTH': 2, 'CATEGORY': 'Service Indicators', 'FREQUENCY': 'M', 'INDICATOR_UNIT': '%', 'YTD_TARGET': 97.0, 'YTD_ACTUAL': 99.19, 'MONTHLY_TARGET': 97.0, 'MONTHLY_ACTUAL': 98.58}, {'AGENCY_NAME': 'Metro-North Railroad', 'INDICATOR_NAME': 'Elevator Availability', 'DESCRIPTION': 'Percent of the time that elevators are operational systemwide. The availability rate is based on physical observations performed the morning of regular business days only. This is a new indicator the agency began reporting in 2009.', 'PERIOD_YEAR': 2010, 'PERIOD_MONTH': 3, 'CATEGORY': 'Service Indicators', 'FREQUENCY': 'M', 'INDICATOR_UNIT': '%', 'YTD_TARGET': 97.0, 'YTD_ACTUAL': 98.74, 'MONTHLY_TARGET': 97.0, 'MONTHLY_ACTUAL': 97.88}, {'AGENCY_NAME': 'Metro-North Railroad', 'INDICATOR_NAME': 'Elevator Availability', 'DESCRIPTION': 'Percent of the time that elevators are operational systemwide. The availability rate is based on physical observations performed the morning of regular business days only. This is a new indicator the agency began reporting in 2009.', 'PERIOD_YEAR': 2010, 'PERIOD_MONTH': 4, 'CATEGORY': 'Service Indicators', 'FREQUENCY': 'M', 'INDICATOR_UNIT': '%', 'YTD_TARGET': 97.0, 'YTD_ACTUAL': 98.9, 'MONTHLY_TARGET': 97.0, 'MONTHLY_ACTUAL': 99.38}, {'AGENCY_NAME': 'Metro-North Railroad', 'INDICATOR_NAME': 'Elevator Availability', 'DESCRIPTION': 'Percent of the time that elevators are operational systemwide. The availability rate is based on physical observations performed the morning of regular business days only. This is a new indicator the agency began reporting in 2009.', 'PERIOD_YEAR': 2010, 'PERIOD_MONTH': 5, 'CATEGORY': 'Service Indicators', 'FREQUENCY': 'M', 'INDICATOR_UNIT': '%', 'YTD_TARGET': 97.0, 'YTD_ACTUAL': 98.85, 'MONTHLY_TARGET': 97.0, 'MONTHLY_ACTUAL': 99.2}, {'AGENCY_NAME': 'Metro-North Railroad', 'INDICATOR_NAME': 'Elevator Availability', 'DESCRIPTION': 'Percent of the time that elevators are operational systemwide. The availability rate is based on physical observations performed the morning of regular business days only. This is a new indicator the agency began reporting in 2009.', 'PERIOD_YEAR': 2010, 'PERIOD_MONTH': 6, 'CATEGORY': 'Service Indicators', 'FREQUENCY': 'M', 'INDICATOR_UNIT': '%', 'YTD_TARGET': 97.0, 'YTD_ACTUAL': 98.6, 'MONTHLY_TARGET': 97.0, 'MONTHLY_ACTUAL': 97.6}, {'AGENCY_NAME': 'Metro-North Railroad', 'INDICATOR_NAME': 'Elevator Availability', 'DESCRIPTION': 'Percent of the time that elevators are operational systemwide. The availability rate is based on physical observations performed the morning of regular business days only. This is a new indicator the agency began reporting in 2009.', 'PERIOD_YEAR': 2010, 'PERIOD_MONTH': 7, 'CATEGORY': 'Service Indicators', 'FREQUENCY': 'M', 'INDICATOR_UNIT': '%', 'YTD_TARGET': 97.0, 'YTD_ACTUAL': 98.44, 'MONTHLY_TARGET': 97.0, 'MONTHLY_ACTUAL': 97.3}, {'AGENCY_NAME': 'Metro-North Railroad', 'INDICATOR_NAME': 'Elevator Availability', 'DESCRIPTION': 'Percent of the time that elevators are operational systemwide. The availability rate is based on physical observations performed the morning of regular business days only. This is a new indicator the agency began reporting in 2009.', 'PERIOD_YEAR': 2010, 'PERIOD_MONTH': 8, 'CATEGORY': 'Service Indicators', 'FREQUENCY': 'M', 'INDICATOR_UNIT': '%', 'YTD_TARGET': 97.0, 'YTD_ACTUAL': 98.27, 'MONTHLY_TARGET': 97.0, 'MONTHLY_ACTUAL': 97.1}, {'AGENCY_NAME': 'Metro-North Railroad', 'INDICATOR_NAME': 'Elevator Availability', 'DESCRIPTION': 'Percent of the time that elevators are operational systemwide. The availability rate is based on physical observations performed the morning of regular business days only. This is a new indicator the agency began reporting in 2009.', 'PERIOD_YEAR': 2010, 'PERIOD_MONTH': 9, 'CATEGORY': 'Service Indicators', 'FREQUENCY': 'M', 'INDICATOR_UNIT': '%', 'YTD_TARGET': 97.0, 'YTD_ACTUAL': 98.34, 'MONTHLY_TARGET': 97.0, 'MONTHLY_ACTUAL': 98.97}, {'AGENCY_NAME': 'Metro-North Railroad', 'INDICATOR_NAME': 'Elevator Availability', 'DESCRIPTION': 'Percent of the time that elevators are operational systemwide. The availability rate is based on physical observations performed the morning of regular business days only. This is a new indicator the agency began reporting in 2009.', 'PERIOD_YEAR': 2010, 'PERIOD_MONTH': 10, 'CATEGORY': 'Service Indicators', 'FREQUENCY': 'M', 'INDICATOR_UNIT': '%', 'YTD_TARGET': 97.0, 'YTD_ACTUAL': 98.36, 'MONTHLY_TARGET': 97.0, 'MONTHLY_ACTUAL': 98.6}, {'AGENCY_NAME': 'Metro-North Railroad', 'INDICATOR_NAME': 'Elevator Availability', 'DESCRIPTION': 'Percent of the time that elevators are operational systemwide. The availability rate is based on physical observations performed the morning of regular business days only. This is a new indicator the agency began reporting in 2009.', 'PERIOD_YEAR': 2010, 'PERIOD_MONTH': 11, 'CATEGORY': 'Service Indicators', 'FREQUENCY': 'M', 'INDICATOR_UNIT': '%', 'YTD_TARGET': 97.0, 'YTD_ACTUAL': 98.48, 'MONTHLY_TARGET': 97.0, 'MONTHLY_ACTUAL': 99.64}, {'AGENCY_NAME': 'Metro-North Railroad', 'INDICATOR_NAME': 'Elevator Availability', 'DESCRIPTION': 'Percent of the time that elevators are operational systemwide. The availability rate is based on physical observations performed the morning of regular business days only. This is a new indicator the agency began reporting in 2009.', 'PERIOD_YEAR': 2010, 'PERIOD_MONTH': 12, 'CATEGORY': 'Service Indicators', 'FREQUENCY': 'M', 'INDICATOR_UNIT': '%', 'YTD_TARGET': 97.0, 'YTD_ACTUAL': 98.48, 'MONTHLY_TARGET': 97.0, 'MONTHLY_ACTUAL': 98.47}, {'AGENCY_NAME': 'Metro-North Railroad', 'INDICATOR_NAME': 'Elevator Availability', 'DESCRIPTION': 'Percent of the time that elevators are operational systemwide. The availability rate is based on physical observations performed the morning of regular business days only. This is a new indicator the agency began reporting in 2009.', 'PERIOD_YEAR': 2011, 'PERIOD_MONTH': 1, 'CATEGORY': 'Service Indicators', 'FREQUENCY': 'M', 'INDICATOR_UNIT': '%', 'YTD_TARGET': 97.0, 'YTD_ACTUAL': 99.37, 'MONTHLY_TARGET': 97.0, 'MONTHLY_ACTUAL': 99.37}, {'AGENCY_NAME': 'Metro-North Railroad', 'INDICATOR_NAME': 'Elevator Availability', 'DESCRIPTION': 'Percent of the time that elevators are operational systemwide. The availability rate is based on physical observations performed the morning of regular business days only. This is a new indicator the agency began reporting in 2009.', 'PERIOD_YEAR': 2011, 'PERIOD_MONTH': 2, 'CATEGORY': 'Service Indicators', 'FREQUENCY': 'M', 'INDICATOR_UNIT': '%', 'YTD_TARGET': 97.0, 'YTD_ACTUAL': 99.93, 'MONTHLY_TARGET': 97.0, 'MONTHLY_ACTUAL': 99.86}, {'AGENCY_NAME': 'Metro-North Railroad', 'INDICATOR_NAME': 'Elevator Availability', 'DESCRIPTION': 'Percent of the time that elevators are operational systemwide. The availability rate is based on physical observations performed the morning of regular business days only. This is a new indicator the agency began reporting in 2009.', 'PERIOD_YEAR': 2011, 'PERIOD_MONTH': 3, 'CATEGORY': 'Service Indicators', 'FREQUENCY': 'M', 'INDICATOR_UNIT': '%', 'YTD_TARGET': 97.0, 'YTD_ACTUAL': 99.52, 'MONTHLY_TARGET': 97.0, 'MONTHLY_ACTUAL': 99.37}, {'AGENCY_NAME': 'Metro-North Railroad', 'INDICATOR_NAME': 'Elevator Availability', 'DESCRIPTION': 'Percent of the time that elevators are operational systemwide. The availability rate is based on physical observations performed the morning of regular business days only. This is a new indicator the agency began reporting in 2009.', 'PERIOD_YEAR': 2011, 'PERIOD_MONTH': 4, 'CATEGORY': 'Service Indicators', 'FREQUENCY': 'M', 'INDICATOR_UNIT': '%', 'YTD_TARGET': 97.0, 'YTD_ACTUAL': 99.46, 'MONTHLY_TARGET': 97.0, 'MONTHLY_ACTUAL': 99.82}, {'AGENCY_NAME': 'Metro-North Railroad', 'INDICATOR_NAME': 'Elevator Availability', 'DESCRIPTION': 'Percent of the time that elevators are operational systemwide. The availability rate is based on physical observations performed the morning of regular business days only. This is a new indicator the agency began reporting in 2009.', 'PERIOD_YEAR': 2011, 'PERIOD_MONTH': 5, 'CATEGORY': 'Service Indicators', 'FREQUENCY': 'M', 'INDICATOR_UNIT': '%', 'YTD_TARGET': 97.0, 'YTD_ACTUAL': 99.54, 'MONTHLY_TARGET': 97.0, 'MONTHLY_ACTUAL': 99.76}, {'AGENCY_NAME': 'Metro-North Railroad', 'INDICATOR_NAME': 'Elevator Availability', 'DESCRIPTION': 'Percent of the time that elevators are operational systemwide. The availability rate is based on physical observations performed the morning of regular business days only. This is a new indicator the agency began reporting in 2009.', 'PERIOD_YEAR': 2011, 'PERIOD_MONTH': 6, 'CATEGORY': 'Service Indicators', 'FREQUENCY': 'M', 'INDICATOR_UNIT': '%', 'YTD_TARGET': 97.0, 'YTD_ACTUAL': '', 'MONTHLY_TARGET': 97.0, 'MONTHLY_ACTUAL': ''}, {'AGENCY_NAME': 'Metro-North Railroad', 'INDICATOR_NAME': 'Elevator Availability', 'DESCRIPTION': 'Percent of the time that elevators are operational systemwide. The availability rate is based on physical observations performed the morning of regular business days only. This is a new indicator the agency began reporting in 2009.', 'PERIOD_YEAR': 2011, 'PERIOD_MONTH': 7, 'CATEGORY': 'Service Indicators', 'FREQUENCY': 'M', 'INDICATOR_UNIT': '%', 'YTD_TARGET': 97.0, 'YTD_ACTUAL': '', 'MONTHLY_TARGET': 97.0, 'MONTHLY_ACTUAL': ''}, {'AGENCY_NAME': 'Metro-North Railroad', 'INDICATOR_NAME': 'Elevator Availability', 'DESCRIPTION': 'Percent of the time that elevators are operational systemwide. The availability rate is based on physical observations performed the morning of regular business days only. This is a new indicator the agency began reporting in 2009.', 'PERIOD_YEAR': 2011, 'PERIOD_MONTH': 8, 'CATEGORY': 'Service Indicators', 'FREQUENCY': 'M', 'INDICATOR_UNIT': '%', 'YTD_TARGET': 97.0, 'YTD_ACTUAL': '', 'MONTHLY_TARGET': 97.0, 'MONTHLY_ACTUAL': ''}, {'AGENCY_NAME': 'Metro-North Railroad', 'INDICATOR_NAME': 'Elevator Availability', 'DESCRIPTION': 'Percent of the time that elevators are operational systemwide. The availability rate is based on physical observations performed the morning of regular business days only. This is a new indicator the agency began reporting in 2009.', 'PERIOD_YEAR': 2011, 'PERIOD_MONTH': 9, 'CATEGORY': 'Service Indicators', 'FREQUENCY': 'M', 'INDICATOR_UNIT': '%', 'YTD_TARGET': 97.0, 'YTD_ACTUAL': '', 'MONTHLY_TARGET': 97.0, 'MONTHLY_ACTUAL': ''}, {'AGENCY_NAME': 'Metro-North Railroad', 'INDICATOR_NAME': 'Elevator Availability', 'DESCRIPTION': 'Percent of the time that elevators are operational systemwide. The availability rate is based on physical observations performed the morning of regular business days only. This is a new indicator the agency began reporting in 2009.', 'PERIOD_YEAR': 2011, 'PERIOD_MONTH': 10, 'CATEGORY': 'Service Indicators', 'FREQUENCY': 'M', 'INDICATOR_UNIT': '%', 'YTD_TARGET': 97.0, 'YTD_ACTUAL': '', 'MONTHLY_TARGET': 97.0, 'MONTHLY_ACTUAL': ''}, {'AGENCY_NAME': 'Metro-North Railroad', 'INDICATOR_NAME': 'Elevator Availability', 'DESCRIPTION': 'Percent of the time that elevators are operational systemwide. The availability rate is based on physical observations performed the morning of regular business days only. This is a new indicator the agency began reporting in 2009.', 'PERIOD_YEAR': 2011, 'PERIOD_MONTH': 11, 'CATEGORY': 'Service Indicators', 'FREQUENCY': 'M', 'INDICATOR_UNIT': '%', 'YTD_TARGET': 97.0, 'YTD_ACTUAL': '', 'MONTHLY_TARGET': 97.0, 'MONTHLY_ACTUAL': ''}, {'AGENCY_NAME': 'Metro-North Railroad', 'INDICATOR_NAME': 'Elevator Availability', 'DESCRIPTION': 'Percent of the time that elevators are operational systemwide. The availability rate is based on physical observations performed the morning of regular business days only. This is a new indicator the agency began reporting in 2009.', 'PERIOD_YEAR': 2011, 'PERIOD_MONTH': 12, 'CATEGORY': 'Service Indicators', 'FREQUENCY': 'M', 'INDICATOR_UNIT': '%', 'YTD_TARGET': 97.0, 'YTD_ACTUAL': '', 'MONTHLY_TARGET': 97.0, 'MONTHLY_ACTUAL': ''}, {'AGENCY_NAME': 'Metro-North Railroad', 'INDICATOR_NAME': 'Escalator Availability', 'DESCRIPTION': 'Percent of the time that escalators are operational systemwide. The availability rate is based on physical observations performed the morning of regular business days only. This is a new indicator the agency began reporting in 2009.', 'PERIOD_YEAR': 2008, 'PERIOD_MONTH': 1, 'CATEGORY': 'Service Indicators', 'FREQUENCY': 'M', 'INDICATOR_UNIT': '%', 'YTD_TARGET': '', 'YTD_ACTUAL': '', 'MONTHLY_TARGET': '', 'MONTHLY_ACTUAL': ''}, {'AGENCY_NAME': 'Metro-North Railroad', 'INDICATOR_NAME': 'Escalator Availability', 'DESCRIPTION': 'Percent of the time that escalators are operational systemwide. The availability rate is based on physical observations performed the morning of regular business days only. This is a new indicator the agency began reporting in 2009.', 'PERIOD_YEAR': 2008, 'PERIOD_MONTH': 2, 'CATEGORY': 'Service Indicators', 'FREQUENCY': 'M', 'INDICATOR_UNIT': '%', 'YTD_TARGET': '', 'YTD_ACTUAL': '', 'MONTHLY_TARGET': '', 'MONTHLY_ACTUAL': ''}, {'AGENCY_NAME': 'Metro-North Railroad', 'INDICATOR_NAME': 'Escalator Availability', 'DESCRIPTION': 'Percent of the time that escalators are operational systemwide. The availability rate is based on physical observations performed the morning of regular business days only. This is a new indicator the agency began reporting in 2009.', 'PERIOD_YEAR': 2008, 'PERIOD_MONTH': 3, 'CATEGORY': 'Service Indicators', 'FREQUENCY': 'M', 'INDICATOR_UNIT': '%', 'YTD_TARGET': '', 'YTD_ACTUAL': '', 'MONTHLY_TARGET': '', 'MONTHLY_ACTUAL': ''}, {'AGENCY_NAME': 'Metro-North Railroad', 'INDICATOR_NAME': 'Escalator Availability', 'DESCRIPTION': 'Percent of the time that escalators are operational systemwide. The availability rate is based on physical observations performed the morning of regular business days only. This is a new indicator the agency began reporting in 2009.', 'PERIOD_YEAR': 2008, 'PERIOD_MONTH': 4, 'CATEGORY': 'Service Indicators', 'FREQUENCY': 'M', 'INDICATOR_UNIT': '%', 'YTD_TARGET': '', 'YTD_ACTUAL': '', 'MONTHLY_TARGET': '', 'MONTHLY_ACTUAL': ''}, {'AGENCY_NAME': 'Metro-North Railroad', 'INDICATOR_NAME': 'Escalator Availability', 'DESCRIPTION': 'Percent of the time that escalators are operational systemwide. The availability rate is based on physical observations performed the morning of regular business days only. This is a new indicator the agency began reporting in 2009.', 'PERIOD_YEAR': 2008, 'PERIOD_MONTH': 5, 'CATEGORY': 'Service Indicators', 'FREQUENCY': 'M', 'INDICATOR_UNIT': '%', 'YTD_TARGET': '', 'YTD_ACTUAL': '', 'MONTHLY_TARGET': '', 'MONTHLY_ACTUAL': ''}, {'AGENCY_NAME': 'Metro-North Railroad', 'INDICATOR_NAME': 'Escalator Availability', 'DESCRIPTION': 'Percent of the time that escalators are operational systemwide. The availability rate is based on physical observations performed the morning of regular business days only. This is a new indicator the agency began reporting in 2009.', 'PERIOD_YEAR': 2008, 'PERIOD_MONTH': 6, 'CATEGORY': 'Service Indicators', 'FREQUENCY': 'M', 'INDICATOR_UNIT': '%', 'YTD_TARGET': '', 'YTD_ACTUAL': '', 'MONTHLY_TARGET': '', 'MONTHLY_ACTUAL': ''}, {'AGENCY_NAME': 'Metro-North Railroad', 'INDICATOR_NAME': 'Escalator Availability', 'DESCRIPTION': 'Percent of the time that escalators are operational systemwide. The availability rate is based on physical observations performed the morning of regular business days only. This is a new indicator the agency began reporting in 2009.', 'PERIOD_YEAR': 2008, 'PERIOD_MONTH': 7, 'CATEGORY': 'Service Indicators', 'FREQUENCY': 'M', 'INDICATOR_UNIT': '%', 'YTD_TARGET': '', 'YTD_ACTUAL': '', 'MONTHLY_TARGET': '', 'MONTHLY_ACTUAL': ''}, {'AGENCY_NAME': 'Metro-North Railroad', 'INDICATOR_NAME': 'Escalator Availability', 'DESCRIPTION': 'Percent of the time that escalators are operational systemwide. The availability rate is based on physical observations performed the morning of regular business days only. This is a new indicator the agency began reporting in 2009.', 'PERIOD_YEAR': 2008, 'PERIOD_MONTH': 8, 'CATEGORY': 'Service Indicators', 'FREQUENCY': 'M', 'INDICATOR_UNIT': '%', 'YTD_TARGET': '', 'YTD_ACTUAL': '', 'MONTHLY_TARGET': '', 'MONTHLY_ACTUAL': ''}, {'AGENCY_NAME': 'Metro-North Railroad', 'INDICATOR_NAME': 'Escalator Availability', 'DESCRIPTION': 'Percent of the time that escalators are operational systemwide. The availability rate is based on physical observations performed the morning of regular business days only. This is a new indicator the agency began reporting in 2009.', 'PERIOD_YEAR': 2008, 'PERIOD_MONTH': 9, 'CATEGORY': 'Service Indicators', 'FREQUENCY': 'M', 'INDICATOR_UNIT': '%', 'YTD_TARGET': '', 'YTD_ACTUAL': '', 'MONTHLY_TARGET': '', 'MONTHLY_ACTUAL': ''}, {'AGENCY_NAME': 'Metro-North Railroad', 'INDICATOR_NAME': 'Escalator Availability', 'DESCRIPTION': 'Percent of the time that escalators are operational systemwide. The availability rate is based on physical observations performed the morning of regular business days only. This is a new indicator the agency began reporting in 2009.', 'PERIOD_YEAR': 2008, 'PERIOD_MONTH': 10, 'CATEGORY': 'Service Indicators', 'FREQUENCY': 'M', 'INDICATOR_UNIT': '%', 'YTD_TARGET': '', 'YTD_ACTUAL': '', 'MONTHLY_TARGET': '', 'MONTHLY_ACTUAL': ''}, {'AGENCY_NAME': 'Metro-North Railroad', 'INDICATOR_NAME': 'Escalator Availability', 'DESCRIPTION': 'Percent of the time that escalators are operational systemwide. The availability rate is based on physical observations performed the morning of regular business days only. This is a new indicator the agency began reporting in 2009.', 'PERIOD_YEAR': 2008, 'PERIOD_MONTH': 11, 'CATEGORY': 'Service Indicators', 'FREQUENCY': 'M', 'INDICATOR_UNIT': '%', 'YTD_TARGET': '', 'YTD_ACTUAL': '', 'MONTHLY_TARGET': '', 'MONTHLY_ACTUAL': ''}, {'AGENCY_NAME': 'Metro-North Railroad', 'INDICATOR_NAME': 'Escalator Availability', 'DESCRIPTION': 'Percent of the time that escalators are operational systemwide. The availability rate is based on physical observations performed the morning of regular business days only. This is a new indicator the agency began reporting in 2009.', 'PERIOD_YEAR': 2008, 'PERIOD_MONTH': 12, 'CATEGORY': 'Service Indicators', 'FREQUENCY': 'M', 'INDICATOR_UNIT': '%', 'YTD_TARGET': '', 'YTD_ACTUAL': '', 'MONTHLY_TARGET': '', 'MONTHLY_ACTUAL': ''}, {'AGENCY_NAME': 'Metro-North Railroad', 'INDICATOR_NAME': 'Escalator Availability', 'DESCRIPTION': 'Percent of the time that escalators are operational systemwide. The availability rate is based on physical observations performed the morning of regular business days only. This is a new indicator the agency began reporting in 2009.', 'PERIOD_YEAR': 2009, 'PERIOD_MONTH': 1, 'CATEGORY': 'Service Indicators', 'FREQUENCY': 'M', 'INDICATOR_UNIT': '%', 'YTD_TARGET': '', 'YTD_ACTUAL': 91.0, 'MONTHLY_TARGET': '', 'MONTHLY_ACTUAL': 91.0}, {'AGENCY_NAME': 'Metro-North Railroad', 'INDICATOR_NAME': 'Escalator Availability', 'DESCRIPTION': 'Percent of the time that escalators are operational systemwide. The availability rate is based on physical observations performed the morning of regular business days only. This is a new indicator the agency began reporting in 2009.', 'PERIOD_YEAR': 2009, 'PERIOD_MONTH': 2, 'CATEGORY': 'Service Indicators', 'FREQUENCY': 'M', 'INDICATOR_UNIT': '%', 'YTD_TARGET': '', 'YTD_ACTUAL': 91.0, 'MONTHLY_TARGET': '', 'MONTHLY_ACTUAL': 91.0}, {'AGENCY_NAME': 'Metro-North Railroad', 'INDICATOR_NAME': 'Escalator Availability', 'DESCRIPTION': 'Percent of the time that escalators are operational systemwide. The availability rate is based on physical observations performed the morning of regular business days only. This is a new indicator the agency began reporting in 2009.', 'PERIOD_YEAR': 2009, 'PERIOD_MONTH': 3, 'CATEGORY': 'Service Indicators', 'FREQUENCY': 'M', 'INDICATOR_UNIT': '%', 'YTD_TARGET': '', 'YTD_ACTUAL': 93.66, 'MONTHLY_TARGET': '', 'MONTHLY_ACTUAL': 99.0}, {'AGENCY_NAME': 'Metro-North Railroad', 'INDICATOR_NAME': 'Escalator Availability', 'DESCRIPTION': 'Percent of the time that escalators are operational systemwide. The availability rate is based on physical observations performed the morning of regular business days only. This is a new indicator the agency began reporting in 2009.', 'PERIOD_YEAR': 2009, 'PERIOD_MONTH': 4, 'CATEGORY': 'Service Indicators', 'FREQUENCY': 'M', 'INDICATOR_UNIT': '%', 'YTD_TARGET': '', 'YTD_ACTUAL': 95.25, 'MONTHLY_TARGET': '', 'MONTHLY_ACTUAL': 100.0}, {'AGENCY_NAME': 'Metro-North Railroad', 'INDICATOR_NAME': 'Escalator Availability', 'DESCRIPTION': 'Percent of the time that escalators are operational systemwide. The availability rate is based on physical observations performed the morning of regular business days only. This is a new indicator the agency began reporting in 2009.', 'PERIOD_YEAR': 2009, 'PERIOD_MONTH': 5, 'CATEGORY': 'Service Indicators', 'FREQUENCY': 'M', 'INDICATOR_UNIT': '%', 'YTD_TARGET': '', 'YTD_ACTUAL': 95.0, 'MONTHLY_TARGET': '', 'MONTHLY_ACTUAL': 94.0}, {'AGENCY_NAME': 'Metro-North Railroad', 'INDICATOR_NAME': 'Escalator Availability', 'DESCRIPTION': 'Percent of the time that escalators are operational systemwide. The availability rate is based on physical observations performed the morning of regular business days only. This is a new indicator the agency began reporting in 2009.', 'PERIOD_YEAR': 2009, 'PERIOD_MONTH': 6, 'CATEGORY': 'Service Indicators', 'FREQUENCY': 'M', 'INDICATOR_UNIT': '%', 'YTD_TARGET': '', 'YTD_ACTUAL': 95.33, 'MONTHLY_TARGET': '', 'MONTHLY_ACTUAL': 97.0}, {'AGENCY_NAME': 'Metro-North Railroad', 'INDICATOR_NAME': 'Escalator Availability', 'DESCRIPTION': 'Percent of the time that escalators are operational systemwide. The availability rate is based on physical observations performed the morning of regular business days only. This is a new indicator the agency began reporting in 2009.', 'PERIOD_YEAR': 2009, 'PERIOD_MONTH': 7, 'CATEGORY': 'Service Indicators', 'FREQUENCY': 'M', 'INDICATOR_UNIT': '%', 'YTD_TARGET': '', 'YTD_ACTUAL': 95.14, 'MONTHLY_TARGET': '', 'MONTHLY_ACTUAL': 94.0}, {'AGENCY_NAME': 'Metro-North Railroad', 'INDICATOR_NAME': 'Escalator Availability', 'DESCRIPTION': 'Percent of the time that escalators are operational systemwide. The availability rate is based on physical observations performed the morning of regular business days only. This is a new indicator the agency began reporting in 2009.', 'PERIOD_YEAR': 2009, 'PERIOD_MONTH': 8, 'CATEGORY': 'Service Indicators', 'FREQUENCY': 'M', 'INDICATOR_UNIT': '%', 'YTD_TARGET': '', 'YTD_ACTUAL': 95.38, 'MONTHLY_TARGET': '', 'MONTHLY_ACTUAL': 97.0}, {'AGENCY_NAME': 'Metro-North Railroad', 'INDICATOR_NAME': 'Escalator Availability', 'DESCRIPTION': 'Percent of the time that escalators are operational systemwide. The availability rate is based on physical observations performed the morning of regular business days only. This is a new indicator the agency began reporting in 2009.', 'PERIOD_YEAR': 2009, 'PERIOD_MONTH': 9, 'CATEGORY': 'Service Indicators', 'FREQUENCY': 'M', 'INDICATOR_UNIT': '%', 'YTD_TARGET': '', 'YTD_ACTUAL': 95.7, 'MONTHLY_TARGET': '', 'MONTHLY_ACTUAL': 98.3}, {'AGENCY_NAME': 'Metro-North Railroad', 'INDICATOR_NAME': 'Escalator Availability', 'DESCRIPTION': 'Percent of the time that escalators are operational systemwide. The availability rate is based on physical observations performed the morning of regular business days only. This is a new indicator the agency began reporting in 2009.', 'PERIOD_YEAR': 2009, 'PERIOD_MONTH': 10, 'CATEGORY': 'Service Indicators', 'FREQUENCY': 'M', 'INDICATOR_UNIT': '%', 'YTD_TARGET': '', 'YTD_ACTUAL': 96.0, 'MONTHLY_TARGET': '', 'MONTHLY_ACTUAL': 98.7}, {'AGENCY_NAME': 'Metro-North Railroad', 'INDICATOR_NAME': 'Escalator Availability', 'DESCRIPTION': 'Percent of the time that escalators are operational systemwide. The availability rate is based on physical observations performed the morning of regular business days only. This is a new indicator the agency began reporting in 2009.', 'PERIOD_YEAR': 2009, 'PERIOD_MONTH': 11, 'CATEGORY': 'Service Indicators', 'FREQUENCY': 'M', 'INDICATOR_UNIT': '%', 'YTD_TARGET': '', 'YTD_ACTUAL': 96.21, 'MONTHLY_TARGET': '', 'MONTHLY_ACTUAL': 98.1}, {'AGENCY_NAME': 'Metro-North Railroad', 'INDICATOR_NAME': 'Escalator Availability', 'DESCRIPTION': 'Percent of the time that escalators are operational systemwide. The availability rate is based on physical observations performed the morning of regular business days only. This is a new indicator the agency began reporting in 2009.', 'PERIOD_YEAR': 2009, 'PERIOD_MONTH': 12, 'CATEGORY': 'Service Indicators', 'FREQUENCY': 'M', 'INDICATOR_UNIT': '%', 'YTD_TARGET': '', 'YTD_ACTUAL': 96.5, 'MONTHLY_TARGET': '', 'MONTHLY_ACTUAL': 100.0}, {'AGENCY_NAME': 'Metro-North Railroad', 'INDICATOR_NAME': 'Escalator Availability', 'DESCRIPTION': 'Percent of the time that escalators are operational systemwide. The availability rate is based on physical observations performed the morning of regular business days only. This is a new indicator the agency began reporting in 2009.', 'PERIOD_YEAR': 2010, 'PERIOD_MONTH': 1, 'CATEGORY': 'Service Indicators', 'FREQUENCY': 'M', 'INDICATOR_UNIT': '%', 'YTD_TARGET': 97.0, 'YTD_ACTUAL': 97.95, 'MONTHLY_TARGET': 97.0, 'MONTHLY_ACTUAL': 97.95}, {'AGENCY_NAME': 'Metro-North Railroad', 'INDICATOR_NAME': 'Escalator Availability', 'DESCRIPTION': 'Percent of the time that escalators are operational systemwide. The availability rate is based on physical observations performed the morning of regular business days only. This is a new indicator the agency began reporting in 2009.', 'PERIOD_YEAR': 2010, 'PERIOD_MONTH': 2, 'CATEGORY': 'Service Indicators', 'FREQUENCY': 'M', 'INDICATOR_UNIT': '%', 'YTD_TARGET': 97.0, 'YTD_ACTUAL': 98.92, 'MONTHLY_TARGET': 97.0, 'MONTHLY_ACTUAL': 100.0}, {'AGENCY_NAME': 'Metro-North Railroad', 'INDICATOR_NAME': 'Escalator Availability', 'DESCRIPTION': 'Percent of the time that escalators are operational systemwide. The availability rate is based on physical observations performed the morning of regular business days only. This is a new indicator the agency began reporting in 2009.', 'PERIOD_YEAR': 2010, 'PERIOD_MONTH': 3, 'CATEGORY': 'Service Indicators', 'FREQUENCY': 'M', 'INDICATOR_UNIT': '%', 'YTD_TARGET': 97.0, 'YTD_ACTUAL': 99.29, 'MONTHLY_TARGET': 97.0, 'MONTHLY_ACTUAL': 100.0}, {'AGENCY_NAME': 'Metro-North Railroad', 'INDICATOR_NAME': 'Escalator Availability', 'DESCRIPTION': 'Percent of the time that escalators are operational systemwide. The availability rate is based on physical observations performed the morning of regular business days only. This is a new indicator the agency began reporting in 2009.', 'PERIOD_YEAR': 2010, 'PERIOD_MONTH': 4, 'CATEGORY': 'Service Indicators', 'FREQUENCY': 'M', 'INDICATOR_UNIT': '%', 'YTD_TARGET': 97.0, 'YTD_ACTUAL': 99.47, 'MONTHLY_TARGET': 97.0, 'MONTHLY_ACTUAL': 100.0}, {'AGENCY_NAME': 'Metro-North Railroad', 'INDICATOR_NAME': 'Escalator Availability', 'DESCRIPTION': 'Percent of the time that escalators are operational systemwide. The availability rate is based on physical observations performed the morning of regular business days only. This is a new indicator the agency began reporting in 2009.', 'PERIOD_YEAR': 2010, 'PERIOD_MONTH': 5, 'CATEGORY': 'Service Indicators', 'FREQUENCY': 'M', 'INDICATOR_UNIT': '%', 'YTD_TARGET': 97.0, 'YTD_ACTUAL': 99.58, 'MONTHLY_TARGET': 97.0, 'MONTHLY_ACTUAL': 100.0}, {'AGENCY_NAME': 'Metro-North Railroad', 'INDICATOR_NAME': 'Escalator Availability', 'DESCRIPTION': 'Percent of the time that escalators are operational systemwide. The availability rate is based on physical observations performed the morning of regular business days only. This is a new indicator the agency began reporting in 2009.', 'PERIOD_YEAR': 2010, 'PERIOD_MONTH': 6, 'CATEGORY': 'Service Indicators', 'FREQUENCY': 'M', 'INDICATOR_UNIT': '%', 'YTD_TARGET': 97.0, 'YTD_ACTUAL': 98.19, 'MONTHLY_TARGET': 97.0, 'MONTHLY_ACTUAL': 91.21}, {'AGENCY_NAME': 'Metro-North Railroad', 'INDICATOR_NAME': 'Escalator Availability', 'DESCRIPTION': 'Percent of the time that escalators are operational systemwide. The availability rate is based on physical observations performed the morning of regular business days only. This is a new indicator the agency began reporting in 2009.', 'PERIOD_YEAR': 2010, 'PERIOD_MONTH': 7, 'CATEGORY': 'Service Indicators', 'FREQUENCY': 'M', 'INDICATOR_UNIT': '%', 'YTD_TARGET': 97.0, 'YTD_ACTUAL': 98.46, 'MONTHLY_TARGET': 97.0, 'MONTHLY_ACTUAL': 100.0}, {'AGENCY_NAME': 'Metro-North Railroad', 'INDICATOR_NAME': 'Escalator Availability', 'DESCRIPTION': 'Percent of the time that escalators are operational systemwide. The availability rate is based on physical observations performed the morning of regular business days only. This is a new indicator the agency began reporting in 2009.', 'PERIOD_YEAR': 2010, 'PERIOD_MONTH': 8, 'CATEGORY': 'Service Indicators', 'FREQUENCY': 'M', 'INDICATOR_UNIT': '%', 'YTD_TARGET': 97.0, 'YTD_ACTUAL': 98.69, 'MONTHLY_TARGET': 97.0, 'MONTHLY_ACTUAL': 100.0}, {'AGENCY_NAME': 'Metro-North Railroad', 'INDICATOR_NAME': 'Escalator Availability', 'DESCRIPTION': 'Percent of the time that escalators are operational systemwide. The availability rate is based on physical observations performed the morning of regular business days only. This is a new indicator the agency began reporting in 2009.', 'PERIOD_YEAR': 2010, 'PERIOD_MONTH': 9, 'CATEGORY': 'Service Indicators', 'FREQUENCY': 'M', 'INDICATOR_UNIT': '%', 'YTD_TARGET': 97.0, 'YTD_ACTUAL': 98.3, 'MONTHLY_TARGET': 97.0, 'MONTHLY_ACTUAL': 95.2}, {'AGENCY_NAME': 'Metro-North Railroad', 'INDICATOR_NAME': 'Escalator Availability', 'DESCRIPTION': 'Percent of the time that escalators are operational systemwide. The availability rate is based on physical observations performed the morning of regular business days only. This is a new indicator the agency began reporting in 2009.', 'PERIOD_YEAR': 2010, 'PERIOD_MONTH': 10, 'CATEGORY': 'Service Indicators', 'FREQUENCY': 'M', 'INDICATOR_UNIT': '%', 'YTD_TARGET': 97.0, 'YTD_ACTUAL': 97.55, 'MONTHLY_TARGET': 97.0, 'MONTHLY_ACTUAL': 90.91}, {'AGENCY_NAME': 'Metro-North Railroad', 'INDICATOR_NAME': 'Escalator Availability', 'DESCRIPTION': 'Percent of the time that escalators are operational systemwide. The availability rate is based on physical observations performed the morning of regular business days only. This is a new indicator the agency began reporting in 2009.', 'PERIOD_YEAR': 2010, 'PERIOD_MONTH': 11, 'CATEGORY': 'Service Indicators', 'FREQUENCY': 'M', 'INDICATOR_UNIT': '%', 'YTD_TARGET': 97.0, 'YTD_ACTUAL': 97.47, 'MONTHLY_TARGET': 97.0, 'MONTHLY_ACTUAL': 96.67}, {'AGENCY_NAME': 'Metro-North Railroad', 'INDICATOR_NAME': 'Escalator Availability', 'DESCRIPTION': 'Percent of the time that escalators are operational systemwide. The availability rate is based on physical observations performed the morning of regular business days only. This is a new indicator the agency began reporting in 2009.', 'PERIOD_YEAR': 2010, 'PERIOD_MONTH': 12, 'CATEGORY': 'Service Indicators', 'FREQUENCY': 'M', 'INDICATOR_UNIT': '%', 'YTD_TARGET': 97.0, 'YTD_ACTUAL': 96.84, 'MONTHLY_TARGET': 97.0, 'MONTHLY_ACTUAL': 90.03}, {'AGENCY_NAME': 'Metro-North Railroad', 'INDICATOR_NAME': 'Escalator Availability', 'DESCRIPTION': 'Percent of the time that escalators are operational systemwide. The availability rate is based on physical observations performed the morning of regular business days only. This is a new indicator the agency began reporting in 2009.', 'PERIOD_YEAR': 2011, 'PERIOD_MONTH': 1, 'CATEGORY': 'Service Indicators', 'FREQUENCY': 'M', 'INDICATOR_UNIT': '%', 'YTD_TARGET': 97.0, 'YTD_ACTUAL': 100.0, 'MONTHLY_TARGET': 97.0, 'MONTHLY_ACTUAL': 100.0}, {'AGENCY_NAME': 'Metro-North Railroad', 'INDICATOR_NAME': 'Escalator Availability', 'DESCRIPTION': 'Percent of the time that escalators are operational systemwide. The availability rate is based on physical observations performed the morning of regular business days only. This is a new indicator the agency began reporting in 2009.', 'PERIOD_YEAR': 2011, 'PERIOD_MONTH': 2, 'CATEGORY': 'Service Indicators', 'FREQUENCY': 'M', 'INDICATOR_UNIT': '%', 'YTD_TARGET': 97.0, 'YTD_ACTUAL': 100.0, 'MONTHLY_TARGET': 97.0, 'MONTHLY_ACTUAL': 100.0}, {'AGENCY_NAME': 'Metro-North Railroad', 'INDICATOR_NAME': 'Escalator Availability', 'DESCRIPTION': 'Percent of the time that escalators are operational systemwide. The availability rate is based on physical observations performed the morning of regular business days only. This is a new indicator the agency began reporting in 2009.', 'PERIOD_YEAR': 2011, 'PERIOD_MONTH': 3, 'CATEGORY': 'Service Indicators', 'FREQUENCY': 'M', 'INDICATOR_UNIT': '%', 'YTD_TARGET': 97.0, 'YTD_ACTUAL': 98.86, 'MONTHLY_TARGET': 97.0, 'MONTHLY_ACTUAL': 97.07}, {'AGENCY_NAME': 'Metro-North Railroad', 'INDICATOR_NAME': 'Escalator Availability', 'DESCRIPTION': 'Percent of the time that escalators are operational systemwide. The availability rate is based on physical observations performed the morning of regular business days only. This is a new indicator the agency began reporting in 2009.', 'PERIOD_YEAR': 2011, 'PERIOD_MONTH': 4, 'CATEGORY': 'Service Indicators', 'FREQUENCY': 'M', 'INDICATOR_UNIT': '%', 'YTD_TARGET': 97.0, 'YTD_ACTUAL': 98.76, 'MONTHLY_TARGET': 97.0, 'MONTHLY_ACTUAL': 98.18}, {'AGENCY_NAME': 'Metro-North Railroad', 'INDICATOR_NAME': 'Escalator Availability', 'DESCRIPTION': 'Percent of the time that escalators are operational systemwide. The availability rate is based on physical observations performed the morning of regular business days only. This is a new indicator the agency began reporting in 2009.', 'PERIOD_YEAR': 2011, 'PERIOD_MONTH': 5, 'CATEGORY': 'Service Indicators', 'FREQUENCY': 'M', 'INDICATOR_UNIT': '%', 'YTD_TARGET': 97.0, 'YTD_ACTUAL': 90.91, 'MONTHLY_TARGET': 97.0, 'MONTHLY_ACTUAL': 79.18}, {'AGENCY_NAME': 'Metro-North Railroad', 'INDICATOR_NAME': 'Escalator Availability', 'DESCRIPTION': 'Percent of the time that escalators are operational systemwide. The availability rate is based on physical observations performed the morning of regular business days only. This is a new indicator the agency began reporting in 2009.', 'PERIOD_YEAR': 2011, 'PERIOD_MONTH': 6, 'CATEGORY': 'Service Indicators', 'FREQUENCY': 'M', 'INDICATOR_UNIT': '%', 'YTD_TARGET': 97.0, 'YTD_ACTUAL': '', 'MONTHLY_TARGET': 97.0, 'MONTHLY_ACTUAL': ''}, {'AGENCY_NAME': 'Metro-North Railroad', 'INDICATOR_NAME': 'Escalator Availability', 'DESCRIPTION': 'Percent of the time that escalators are operational systemwide. The availability rate is based on physical observations performed the morning of regular business days only. This is a new indicator the agency began reporting in 2009.', 'PERIOD_YEAR': 2011, 'PERIOD_MONTH': 7, 'CATEGORY': 'Service Indicators', 'FREQUENCY': 'M', 'INDICATOR_UNIT': '%', 'YTD_TARGET': 97.0, 'YTD_ACTUAL': '', 'MONTHLY_TARGET': 97.0, 'MONTHLY_ACTUAL': ''}, {'AGENCY_NAME': 'Metro-North Railroad', 'INDICATOR_NAME': 'Escalator Availability', 'DESCRIPTION': 'Percent of the time that escalators are operational systemwide. The availability rate is based on physical observations performed the morning of regular business days only. This is a new indicator the agency began reporting in 2009.', 'PERIOD_YEAR': 2011, 'PERIOD_MONTH': 8, 'CATEGORY': 'Service Indicators', 'FREQUENCY': 'M', 'INDICATOR_UNIT': '%', 'YTD_TARGET': 97.0, 'YTD_ACTUAL': '', 'MONTHLY_TARGET': 97.0, 'MONTHLY_ACTUAL': ''}, {'AGENCY_NAME': 'Metro-North Railroad', 'INDICATOR_NAME': 'Escalator Availability', 'DESCRIPTION': 'Percent of the time that escalators are operational systemwide. The availability rate is based on physical observations performed the morning of regular business days only. This is a new indicator the agency began reporting in 2009.', 'PERIOD_YEAR': 2011, 'PERIOD_MONTH': 9, 'CATEGORY': 'Service Indicators', 'FREQUENCY': 'M', 'INDICATOR_UNIT': '%', 'YTD_TARGET': 97.0, 'YTD_ACTUAL': '', 'MONTHLY_TARGET': 97.0, 'MONTHLY_ACTUAL': ''}, {'AGENCY_NAME': 'Metro-North Railroad', 'INDICATOR_NAME': 'Escalator Availability', 'DESCRIPTION': 'Percent of the time that escalators are operational systemwide. The availability rate is based on physical observations performed the morning of regular business days only. This is a new indicator the agency began reporting in 2009.', 'PERIOD_YEAR': 2011, 'PERIOD_MONTH': 10, 'CATEGORY': 'Service Indicators', 'FREQUENCY': 'M', 'INDICATOR_UNIT': '%', 'YTD_TARGET': 97.0, 'YTD_ACTUAL': '', 'MONTHLY_TARGET': 97.0, 'MONTHLY_ACTUAL': ''}, {'AGENCY_NAME': 'Metro-North Railroad', 'INDICATOR_NAME': 'Escalator Availability', 'DESCRIPTION': 'Percent of the time that escalators are operational systemwide. The availability rate is based on physical observations performed the morning of regular business days only. This is a new indicator the agency began reporting in 2009.', 'PERIOD_YEAR': 2011, 'PERIOD_MONTH': 11, 'CATEGORY': 'Service Indicators', 'FREQUENCY': 'M', 'INDICATOR_UNIT': '%', 'YTD_TARGET': 97.0, 'YTD_ACTUAL': '', 'MONTHLY_TARGET': 97.0, 'MONTHLY_ACTUAL': ''}, {'AGENCY_NAME': 'Metro-North Railroad', 'INDICATOR_NAME': 'Escalator Availability', 'DESCRIPTION': 'Percent of the time that escalators are operational systemwide. The availability rate is based on physical observations performed the morning of regular business days only. This is a new indicator the agency began reporting in 2009.', 'PERIOD_YEAR': 2011, 'PERIOD_MONTH': 12, 'CATEGORY': 'Service Indicators', 'FREQUENCY': 'M', 'INDICATOR_UNIT': '%', 'YTD_TARGET': 97.0, 'YTD_ACTUAL': '', 'MONTHLY_TARGET': 97.0, 'MONTHLY_ACTUAL': ''}]\n"
     ]
    },
    {
     "data": {
      "text/html": [
       "<div>\n",
       "<style>\n",
       "    .dataframe thead tr:only-child th {\n",
       "        text-align: right;\n",
       "    }\n",
       "\n",
       "    .dataframe thead th {\n",
       "        text-align: left;\n",
       "    }\n",
       "\n",
       "    .dataframe tbody tr th {\n",
       "        vertical-align: top;\n",
       "    }\n",
       "</style>\n",
       "<table border=\"1\" class=\"dataframe\">\n",
       "  <thead>\n",
       "    <tr style=\"text-align: right;\">\n",
       "      <th></th>\n",
       "      <th>AGENCY_NAME</th>\n",
       "      <th>CATEGORY</th>\n",
       "      <th>DESCRIPTION</th>\n",
       "      <th>FREQUENCY</th>\n",
       "      <th>INDICATOR_NAME</th>\n",
       "      <th>INDICATOR_UNIT</th>\n",
       "      <th>MONTHLY_ACTUAL</th>\n",
       "      <th>MONTHLY_TARGET</th>\n",
       "      <th>PERIOD_MONTH</th>\n",
       "      <th>PERIOD_YEAR</th>\n",
       "      <th>YTD_ACTUAL</th>\n",
       "      <th>YTD_TARGET</th>\n",
       "    </tr>\n",
       "  </thead>\n",
       "  <tbody>\n",
       "    <tr>\n",
       "      <th>0</th>\n",
       "      <td>Metro-North Railroad</td>\n",
       "      <td>Service Indicators</td>\n",
       "      <td>Percent of commuter trains that arrive at thei...</td>\n",
       "      <td>M</td>\n",
       "      <td>On-Time Performance (West of Hudson)</td>\n",
       "      <td>%</td>\n",
       "      <td>96.9</td>\n",
       "      <td>95</td>\n",
       "      <td>1</td>\n",
       "      <td>2008</td>\n",
       "      <td>96.9</td>\n",
       "      <td>95</td>\n",
       "    </tr>\n",
       "    <tr>\n",
       "      <th>1</th>\n",
       "      <td>Metro-North Railroad</td>\n",
       "      <td>Service Indicators</td>\n",
       "      <td>Percent of commuter trains that arrive at thei...</td>\n",
       "      <td>M</td>\n",
       "      <td>On-Time Performance (West of Hudson)</td>\n",
       "      <td>%</td>\n",
       "      <td>95</td>\n",
       "      <td>95</td>\n",
       "      <td>2</td>\n",
       "      <td>2008</td>\n",
       "      <td>96</td>\n",
       "      <td>95</td>\n",
       "    </tr>\n",
       "    <tr>\n",
       "      <th>2</th>\n",
       "      <td>Metro-North Railroad</td>\n",
       "      <td>Service Indicators</td>\n",
       "      <td>Percent of commuter trains that arrive at thei...</td>\n",
       "      <td>M</td>\n",
       "      <td>On-Time Performance (West of Hudson)</td>\n",
       "      <td>%</td>\n",
       "      <td>96.9</td>\n",
       "      <td>95</td>\n",
       "      <td>3</td>\n",
       "      <td>2008</td>\n",
       "      <td>96.3</td>\n",
       "      <td>95</td>\n",
       "    </tr>\n",
       "    <tr>\n",
       "      <th>3</th>\n",
       "      <td>Metro-North Railroad</td>\n",
       "      <td>Service Indicators</td>\n",
       "      <td>Percent of commuter trains that arrive at thei...</td>\n",
       "      <td>M</td>\n",
       "      <td>On-Time Performance (West of Hudson)</td>\n",
       "      <td>%</td>\n",
       "      <td>98.3</td>\n",
       "      <td>95</td>\n",
       "      <td>4</td>\n",
       "      <td>2008</td>\n",
       "      <td>96.8</td>\n",
       "      <td>95</td>\n",
       "    </tr>\n",
       "    <tr>\n",
       "      <th>4</th>\n",
       "      <td>Metro-North Railroad</td>\n",
       "      <td>Service Indicators</td>\n",
       "      <td>Percent of commuter trains that arrive at thei...</td>\n",
       "      <td>M</td>\n",
       "      <td>On-Time Performance (West of Hudson)</td>\n",
       "      <td>%</td>\n",
       "      <td>95.8</td>\n",
       "      <td>95</td>\n",
       "      <td>5</td>\n",
       "      <td>2008</td>\n",
       "      <td>96.6</td>\n",
       "      <td>95</td>\n",
       "    </tr>\n",
       "  </tbody>\n",
       "</table>\n",
       "</div>"
      ],
      "text/plain": [
       "            AGENCY_NAME            CATEGORY  \\\n",
       "0  Metro-North Railroad  Service Indicators   \n",
       "1  Metro-North Railroad  Service Indicators   \n",
       "2  Metro-North Railroad  Service Indicators   \n",
       "3  Metro-North Railroad  Service Indicators   \n",
       "4  Metro-North Railroad  Service Indicators   \n",
       "\n",
       "                                         DESCRIPTION FREQUENCY  \\\n",
       "0  Percent of commuter trains that arrive at thei...         M   \n",
       "1  Percent of commuter trains that arrive at thei...         M   \n",
       "2  Percent of commuter trains that arrive at thei...         M   \n",
       "3  Percent of commuter trains that arrive at thei...         M   \n",
       "4  Percent of commuter trains that arrive at thei...         M   \n",
       "\n",
       "                         INDICATOR_NAME INDICATOR_UNIT MONTHLY_ACTUAL  \\\n",
       "0  On-Time Performance (West of Hudson)              %           96.9   \n",
       "1  On-Time Performance (West of Hudson)              %             95   \n",
       "2  On-Time Performance (West of Hudson)              %           96.9   \n",
       "3  On-Time Performance (West of Hudson)              %           98.3   \n",
       "4  On-Time Performance (West of Hudson)              %           95.8   \n",
       "\n",
       "  MONTHLY_TARGET  PERIOD_MONTH  PERIOD_YEAR YTD_ACTUAL YTD_TARGET  \n",
       "0             95             1         2008       96.9         95  \n",
       "1             95             2         2008         96         95  \n",
       "2             95             3         2008       96.3         95  \n",
       "3             95             4         2008       96.8         95  \n",
       "4             95             5         2008       96.6         95  "
      ]
     },
     "execution_count": 19,
     "metadata": {},
     "output_type": "execute_result"
    }
   ],
   "source": [
    "print(data)\n",
    "perf = pd.DataFrame(data)\n",
    "perf.head()"
   ]
  },
  {
   "cell_type": "code",
   "execution_count": 20,
   "metadata": {
    "collapsed": true
   },
   "outputs": [],
   "source": [
    "from io import StringIO\n",
    "tag = '<a href=\"http://www.google.com\">Google</a>'\n",
    "root = objectify.parse(StringIO(tag)).getroot()"
   ]
  },
  {
   "cell_type": "code",
   "execution_count": 21,
   "metadata": {},
   "outputs": [
    {
     "name": "stdout",
     "output_type": "stream",
     "text": [
      "Google\n",
      "None\n",
      "Google\n"
     ]
    }
   ],
   "source": [
    "print(root)\n",
    "print(root.get('herf'))\n",
    "print(root.text)"
   ]
  },
  {
   "cell_type": "markdown",
   "metadata": {},
   "source": [
    "### 二进制数据格式"
   ]
  },
  {
   "cell_type": "code",
   "execution_count": 23,
   "metadata": {},
   "outputs": [
    {
     "name": "stdout",
     "output_type": "stream",
     "text": [
      "   a   b   c   d message\n",
      "0  1   2   3   4   hello\n",
      "1  5   6   7   8   world\n",
      "2  9  10  11  12     foo\n"
     ]
    }
   ],
   "source": [
    "frame = pd.read_csv('examples/ex1.csv')\n",
    "print(frame)\n",
    "\n",
    "frame.to_pickle('examples/frame_pickle')"
   ]
  },
  {
   "cell_type": "code",
   "execution_count": 25,
   "metadata": {},
   "outputs": [
    {
     "data": {
      "text/html": [
       "<div>\n",
       "<style>\n",
       "    .dataframe thead tr:only-child th {\n",
       "        text-align: right;\n",
       "    }\n",
       "\n",
       "    .dataframe thead th {\n",
       "        text-align: left;\n",
       "    }\n",
       "\n",
       "    .dataframe tbody tr th {\n",
       "        vertical-align: top;\n",
       "    }\n",
       "</style>\n",
       "<table border=\"1\" class=\"dataframe\">\n",
       "  <thead>\n",
       "    <tr style=\"text-align: right;\">\n",
       "      <th></th>\n",
       "      <th>a</th>\n",
       "      <th>b</th>\n",
       "      <th>c</th>\n",
       "      <th>d</th>\n",
       "      <th>message</th>\n",
       "    </tr>\n",
       "  </thead>\n",
       "  <tbody>\n",
       "    <tr>\n",
       "      <th>0</th>\n",
       "      <td>1</td>\n",
       "      <td>2</td>\n",
       "      <td>3</td>\n",
       "      <td>4</td>\n",
       "      <td>hello</td>\n",
       "    </tr>\n",
       "    <tr>\n",
       "      <th>1</th>\n",
       "      <td>5</td>\n",
       "      <td>6</td>\n",
       "      <td>7</td>\n",
       "      <td>8</td>\n",
       "      <td>world</td>\n",
       "    </tr>\n",
       "    <tr>\n",
       "      <th>2</th>\n",
       "      <td>9</td>\n",
       "      <td>10</td>\n",
       "      <td>11</td>\n",
       "      <td>12</td>\n",
       "      <td>foo</td>\n",
       "    </tr>\n",
       "  </tbody>\n",
       "</table>\n",
       "</div>"
      ],
      "text/plain": [
       "   a   b   c   d message\n",
       "0  1   2   3   4   hello\n",
       "1  5   6   7   8   world\n",
       "2  9  10  11  12     foo"
      ]
     },
     "execution_count": 25,
     "metadata": {},
     "output_type": "execute_result"
    }
   ],
   "source": [
    "pd.read_pickle('examples/frame_pickle')"
   ]
  },
  {
   "cell_type": "markdown",
   "metadata": {},
   "source": [
    "#### 使用HDF5格式"
   ]
  },
  {
   "cell_type": "code",
   "execution_count": null,
   "metadata": {
    "collapsed": true
   },
   "outputs": [],
   "source": [
    "import numpy as np\n",
    "import pandas as pd\n",
    "frame = pd.DataFrame({'a': np.random.randn(100)})\n",
    "print(frame)\n",
    "store = pd.HDFStore('mydata.h5')\n",
    "store['obj1'] = frame\n",
    "store['obj1_col'] = frame['a']\n",
    "store"
   ]
  },
  {
   "cell_type": "code",
   "execution_count": null,
   "metadata": {
    "collapsed": true
   },
   "outputs": [],
   "source": [
    "store['obj1']"
   ]
  },
  {
   "cell_type": "code",
   "execution_count": null,
   "metadata": {
    "collapsed": true
   },
   "outputs": [],
   "source": [
    "store.put('obj2',frame,format='table')\n",
    "store.select('obj2', where=['index >= 10 and index <= 15'])\n",
    "store.close()"
   ]
  },
  {
   "cell_type": "code",
   "execution_count": null,
   "metadata": {
    "collapsed": true
   },
   "outputs": [],
   "source": [
    "frame.to_hdf('mydata.h5', 'obj3', format='table')\n",
    "pd.read_hdf('mydata.h5', 'obj3', where=['index < 5'])"
   ]
  },
  {
   "cell_type": "markdown",
   "metadata": {},
   "source": [
    "#### 读取Microsoft Excel文件"
   ]
  },
  {
   "cell_type": "code",
   "execution_count": 2,
   "metadata": {},
   "outputs": [],
   "source": [
    "import pandas as pd\n",
    "xlsx = pd.ExcelFile('examples/ex1.xlsx')"
   ]
  },
  {
   "cell_type": "code",
   "execution_count": 3,
   "metadata": {},
   "outputs": [
    {
     "data": {
      "text/html": [
       "<div>\n",
       "<style>\n",
       "    .dataframe thead tr:only-child th {\n",
       "        text-align: right;\n",
       "    }\n",
       "\n",
       "    .dataframe thead th {\n",
       "        text-align: left;\n",
       "    }\n",
       "\n",
       "    .dataframe tbody tr th {\n",
       "        vertical-align: top;\n",
       "    }\n",
       "</style>\n",
       "<table border=\"1\" class=\"dataframe\">\n",
       "  <thead>\n",
       "    <tr style=\"text-align: right;\">\n",
       "      <th></th>\n",
       "      <th>a</th>\n",
       "      <th>b</th>\n",
       "      <th>c</th>\n",
       "      <th>d</th>\n",
       "      <th>message</th>\n",
       "    </tr>\n",
       "  </thead>\n",
       "  <tbody>\n",
       "    <tr>\n",
       "      <th>0</th>\n",
       "      <td>1</td>\n",
       "      <td>2</td>\n",
       "      <td>3</td>\n",
       "      <td>4</td>\n",
       "      <td>hello</td>\n",
       "    </tr>\n",
       "    <tr>\n",
       "      <th>1</th>\n",
       "      <td>5</td>\n",
       "      <td>6</td>\n",
       "      <td>7</td>\n",
       "      <td>8</td>\n",
       "      <td>world</td>\n",
       "    </tr>\n",
       "    <tr>\n",
       "      <th>2</th>\n",
       "      <td>9</td>\n",
       "      <td>10</td>\n",
       "      <td>11</td>\n",
       "      <td>12</td>\n",
       "      <td>foo</td>\n",
       "    </tr>\n",
       "  </tbody>\n",
       "</table>\n",
       "</div>"
      ],
      "text/plain": [
       "   a   b   c   d message\n",
       "0  1   2   3   4   hello\n",
       "1  5   6   7   8   world\n",
       "2  9  10  11  12     foo"
      ]
     },
     "execution_count": 3,
     "metadata": {},
     "output_type": "execute_result"
    }
   ],
   "source": [
    "pd.read_excel(xlsx, 'Sheet1')"
   ]
  },
  {
   "cell_type": "code",
   "execution_count": 4,
   "metadata": {},
   "outputs": [
    {
     "data": {
      "text/html": [
       "<div>\n",
       "<style>\n",
       "    .dataframe thead tr:only-child th {\n",
       "        text-align: right;\n",
       "    }\n",
       "\n",
       "    .dataframe thead th {\n",
       "        text-align: left;\n",
       "    }\n",
       "\n",
       "    .dataframe tbody tr th {\n",
       "        vertical-align: top;\n",
       "    }\n",
       "</style>\n",
       "<table border=\"1\" class=\"dataframe\">\n",
       "  <thead>\n",
       "    <tr style=\"text-align: right;\">\n",
       "      <th></th>\n",
       "      <th>a</th>\n",
       "      <th>b</th>\n",
       "      <th>c</th>\n",
       "      <th>d</th>\n",
       "      <th>message</th>\n",
       "    </tr>\n",
       "  </thead>\n",
       "  <tbody>\n",
       "    <tr>\n",
       "      <th>0</th>\n",
       "      <td>1</td>\n",
       "      <td>2</td>\n",
       "      <td>3</td>\n",
       "      <td>4</td>\n",
       "      <td>hello</td>\n",
       "    </tr>\n",
       "    <tr>\n",
       "      <th>1</th>\n",
       "      <td>5</td>\n",
       "      <td>6</td>\n",
       "      <td>7</td>\n",
       "      <td>8</td>\n",
       "      <td>world</td>\n",
       "    </tr>\n",
       "    <tr>\n",
       "      <th>2</th>\n",
       "      <td>9</td>\n",
       "      <td>10</td>\n",
       "      <td>11</td>\n",
       "      <td>12</td>\n",
       "      <td>foo</td>\n",
       "    </tr>\n",
       "  </tbody>\n",
       "</table>\n",
       "</div>"
      ],
      "text/plain": [
       "   a   b   c   d message\n",
       "0  1   2   3   4   hello\n",
       "1  5   6   7   8   world\n",
       "2  9  10  11  12     foo"
      ]
     },
     "execution_count": 4,
     "metadata": {},
     "output_type": "execute_result"
    }
   ],
   "source": [
    "frame = pd.read_excel('examples/ex1.xlsx', 'Sheet1')\n",
    "frame"
   ]
  },
  {
   "cell_type": "code",
   "execution_count": 5,
   "metadata": {
    "collapsed": true
   },
   "outputs": [],
   "source": [
    "writer = pd.ExcelWriter('examples/ex2.xlsx')\n",
    "frame.to_excel(writer, 'Sheet1')\n",
    "writer.save()"
   ]
  },
  {
   "cell_type": "code",
   "execution_count": 6,
   "metadata": {
    "collapsed": true
   },
   "outputs": [],
   "source": [
    "frame.to_excel('examples/ex2.xlsx')"
   ]
  },
  {
   "cell_type": "markdown",
   "metadata": {},
   "source": [
    "### Web APIs交互"
   ]
  },
  {
   "cell_type": "code",
   "execution_count": 7,
   "metadata": {},
   "outputs": [
    {
     "data": {
      "text/plain": [
       "<Response [200]>"
      ]
     },
     "execution_count": 7,
     "metadata": {},
     "output_type": "execute_result"
    }
   ],
   "source": [
    "import requests\n",
    "url = 'https://api.github.com/repos/pandas-dev/pandas/issues'\n",
    "resp = requests.get(url)\n",
    "resp"
   ]
  },
  {
   "cell_type": "code",
   "execution_count": 8,
   "metadata": {},
   "outputs": [
    {
     "data": {
      "text/plain": [
       "'SparseArrays backed by other Extension array/dtype ?'"
      ]
     },
     "execution_count": 8,
     "metadata": {},
     "output_type": "execute_result"
    }
   ],
   "source": [
    "data = resp.json()\n",
    "data[0]['title']"
   ]
  },
  {
   "cell_type": "code",
   "execution_count": 9,
   "metadata": {},
   "outputs": [
    {
     "data": {
      "text/html": [
       "<div>\n",
       "<style>\n",
       "    .dataframe thead tr:only-child th {\n",
       "        text-align: right;\n",
       "    }\n",
       "\n",
       "    .dataframe thead th {\n",
       "        text-align: left;\n",
       "    }\n",
       "\n",
       "    .dataframe tbody tr th {\n",
       "        vertical-align: top;\n",
       "    }\n",
       "</style>\n",
       "<table border=\"1\" class=\"dataframe\">\n",
       "  <thead>\n",
       "    <tr style=\"text-align: right;\">\n",
       "      <th></th>\n",
       "      <th>number</th>\n",
       "      <th>title</th>\n",
       "      <th>labels</th>\n",
       "      <th>state</th>\n",
       "    </tr>\n",
       "  </thead>\n",
       "  <tbody>\n",
       "    <tr>\n",
       "      <th>0</th>\n",
       "      <td>26407</td>\n",
       "      <td>SparseArrays backed by other Extension array/d...</td>\n",
       "      <td>[{'id': 849023693, 'node_id': 'MDU6TGFiZWw4NDk...</td>\n",
       "      <td>open</td>\n",
       "    </tr>\n",
       "    <tr>\n",
       "      <th>1</th>\n",
       "      <td>26406</td>\n",
       "      <td>BUG: to_numpy on categorical data with tz awar...</td>\n",
       "      <td>[{'id': 76811, 'node_id': 'MDU6TGFiZWw3NjgxMQ=...</td>\n",
       "      <td>open</td>\n",
       "    </tr>\n",
       "    <tr>\n",
       "      <th>2</th>\n",
       "      <td>26405</td>\n",
       "      <td>DEPR: deprecate Series/DataFrame.compound</td>\n",
       "      <td>[{'id': 87485152, 'node_id': 'MDU6TGFiZWw4NzQ4...</td>\n",
       "      <td>open</td>\n",
       "    </tr>\n",
       "    <tr>\n",
       "      <th>3</th>\n",
       "      <td>26404</td>\n",
       "      <td>Fix type annotations in pandas.core.indexes.da...</td>\n",
       "      <td>[]</td>\n",
       "      <td>open</td>\n",
       "    </tr>\n",
       "    <tr>\n",
       "      <th>4</th>\n",
       "      <td>26403</td>\n",
       "      <td>DEPR: Deprecate ordered=None for CategoricalDtype</td>\n",
       "      <td>[{'id': 78527356, 'node_id': 'MDU6TGFiZWw3ODUy...</td>\n",
       "      <td>open</td>\n",
       "    </tr>\n",
       "    <tr>\n",
       "      <th>5</th>\n",
       "      <td>26402</td>\n",
       "      <td>DOC: Test doctests in pandas/core/tools/dateti...</td>\n",
       "      <td>[{'id': 134699, 'node_id': 'MDU6TGFiZWwxMzQ2OT...</td>\n",
       "      <td>open</td>\n",
       "    </tr>\n",
       "    <tr>\n",
       "      <th>6</th>\n",
       "      <td>26401</td>\n",
       "      <td>Test doctests in pandas/core/tools/datetimes.py</td>\n",
       "      <td>[{'id': 134699, 'node_id': 'MDU6TGFiZWwxMzQ2OT...</td>\n",
       "      <td>open</td>\n",
       "    </tr>\n",
       "    <tr>\n",
       "      <th>7</th>\n",
       "      <td>26400</td>\n",
       "      <td>ENH: Support multiple opening hours intervals ...</td>\n",
       "      <td>[]</td>\n",
       "      <td>open</td>\n",
       "    </tr>\n",
       "    <tr>\n",
       "      <th>8</th>\n",
       "      <td>26399</td>\n",
       "      <td>ENH: Support nested renaming / selection</td>\n",
       "      <td>[{'id': 35818298, 'node_id': 'MDU6TGFiZWwzNTgx...</td>\n",
       "      <td>open</td>\n",
       "    </tr>\n",
       "    <tr>\n",
       "      <th>9</th>\n",
       "      <td>26398</td>\n",
       "      <td>Fix type annotations in pandas.core.resample</td>\n",
       "      <td>[{'id': 74975453, 'node_id': 'MDU6TGFiZWw3NDk3...</td>\n",
       "      <td>open</td>\n",
       "    </tr>\n",
       "    <tr>\n",
       "      <th>10</th>\n",
       "      <td>26397</td>\n",
       "      <td>DataFrame.describe excludes top and freq for e...</td>\n",
       "      <td>[]</td>\n",
       "      <td>open</td>\n",
       "    </tr>\n",
       "    <tr>\n",
       "      <th>11</th>\n",
       "      <td>26396</td>\n",
       "      <td>CLN: remove compat.lrange</td>\n",
       "      <td>[{'id': 49747336, 'node_id': 'MDU6TGFiZWw0OTc0...</td>\n",
       "      <td>open</td>\n",
       "    </tr>\n",
       "    <tr>\n",
       "      <th>12</th>\n",
       "      <td>26395</td>\n",
       "      <td>different type conversion results in assignmen...</td>\n",
       "      <td>[{'id': 31404521, 'node_id': 'MDU6TGFiZWwzMTQw...</td>\n",
       "      <td>open</td>\n",
       "    </tr>\n",
       "    <tr>\n",
       "      <th>13</th>\n",
       "      <td>26394</td>\n",
       "      <td>BUG: to_numeric does not validate the errors k...</td>\n",
       "      <td>[{'id': 42670965, 'node_id': 'MDU6TGFiZWw0MjY3...</td>\n",
       "      <td>open</td>\n",
       "    </tr>\n",
       "    <tr>\n",
       "      <th>14</th>\n",
       "      <td>26393</td>\n",
       "      <td>Holiday based on the lunar calendar?</td>\n",
       "      <td>[]</td>\n",
       "      <td>open</td>\n",
       "    </tr>\n",
       "    <tr>\n",
       "      <th>15</th>\n",
       "      <td>26392</td>\n",
       "      <td>[TEST] Add two more parameters to the test_dti...</td>\n",
       "      <td>[{'id': 53181044, 'node_id': 'MDU6TGFiZWw1MzE4...</td>\n",
       "      <td>open</td>\n",
       "    </tr>\n",
       "    <tr>\n",
       "      <th>16</th>\n",
       "      <td>26391</td>\n",
       "      <td>[PERF] Get rid of MultiIndex conversion in Int...</td>\n",
       "      <td>[{'id': 150096370, 'node_id': 'MDU6TGFiZWwxNTA...</td>\n",
       "      <td>open</td>\n",
       "    </tr>\n",
       "    <tr>\n",
       "      <th>17</th>\n",
       "      <td>26390</td>\n",
       "      <td>BUG: assigning Series.array / PandasArray to c...</td>\n",
       "      <td>[{'id': 76811, 'node_id': 'MDU6TGFiZWw3NjgxMQ=...</td>\n",
       "      <td>open</td>\n",
       "    </tr>\n",
       "    <tr>\n",
       "      <th>18</th>\n",
       "      <td>26389</td>\n",
       "      <td>Converting json to csv</td>\n",
       "      <td>[{'id': 307649777, 'node_id': 'MDU6TGFiZWwzMDc...</td>\n",
       "      <td>open</td>\n",
       "    </tr>\n",
       "    <tr>\n",
       "      <th>19</th>\n",
       "      <td>26388</td>\n",
       "      <td>read_parquet S3 dir support</td>\n",
       "      <td>[{'id': 685114413, 'node_id': 'MDU6TGFiZWw2ODU...</td>\n",
       "      <td>open</td>\n",
       "    </tr>\n",
       "    <tr>\n",
       "      <th>20</th>\n",
       "      <td>26385</td>\n",
       "      <td>GroupBy nth ignores observed keyword for Categ...</td>\n",
       "      <td>[{'id': 78527356, 'node_id': 'MDU6TGFiZWw3ODUy...</td>\n",
       "      <td>open</td>\n",
       "    </tr>\n",
       "    <tr>\n",
       "      <th>21</th>\n",
       "      <td>26384</td>\n",
       "      <td>Remove Deprecated Azure CI Step</td>\n",
       "      <td>[]</td>\n",
       "      <td>open</td>\n",
       "    </tr>\n",
       "    <tr>\n",
       "      <th>22</th>\n",
       "      <td>26383</td>\n",
       "      <td>Prefixed batch script commands with call</td>\n",
       "      <td>[]</td>\n",
       "      <td>open</td>\n",
       "    </tr>\n",
       "    <tr>\n",
       "      <th>23</th>\n",
       "      <td>26381</td>\n",
       "      <td>BUG: error calculating BusinessHourMixin.apply...</td>\n",
       "      <td>[{'id': 76811, 'node_id': 'MDU6TGFiZWw3NjgxMQ=...</td>\n",
       "      <td>open</td>\n",
       "    </tr>\n",
       "    <tr>\n",
       "      <th>24</th>\n",
       "      <td>26380</td>\n",
       "      <td>ENH: Implementing NEP 18's __array_function__</td>\n",
       "      <td>[]</td>\n",
       "      <td>open</td>\n",
       "    </tr>\n",
       "    <tr>\n",
       "      <th>25</th>\n",
       "      <td>26379</td>\n",
       "      <td>BUG: Series.combine_first with mixed timezones</td>\n",
       "      <td>[{'id': 76811, 'node_id': 'MDU6TGFiZWw3NjgxMQ=...</td>\n",
       "      <td>open</td>\n",
       "    </tr>\n",
       "    <tr>\n",
       "      <th>26</th>\n",
       "      <td>26377</td>\n",
       "      <td>Fix type annotations in pandas.core.ops</td>\n",
       "      <td>[{'id': 1280988427, 'node_id': 'MDU6TGFiZWwxMj...</td>\n",
       "      <td>open</td>\n",
       "    </tr>\n",
       "    <tr>\n",
       "      <th>27</th>\n",
       "      <td>26376</td>\n",
       "      <td>pd.read_fwf fails with file pointer to url</td>\n",
       "      <td>[{'id': 76811, 'node_id': 'MDU6TGFiZWw3NjgxMQ=...</td>\n",
       "      <td>open</td>\n",
       "    </tr>\n",
       "    <tr>\n",
       "      <th>28</th>\n",
       "      <td>26374</td>\n",
       "      <td>BUG: ngroups and len(groups) do not equal when...</td>\n",
       "      <td>[{'id': 233160, 'node_id': 'MDU6TGFiZWwyMzMxNj...</td>\n",
       "      <td>open</td>\n",
       "    </tr>\n",
       "    <tr>\n",
       "      <th>29</th>\n",
       "      <td>26372</td>\n",
       "      <td>Misc Type Annotation fixes</td>\n",
       "      <td>[{'id': 1280988427, 'node_id': 'MDU6TGFiZWwxMj...</td>\n",
       "      <td>open</td>\n",
       "    </tr>\n",
       "  </tbody>\n",
       "</table>\n",
       "</div>"
      ],
      "text/plain": [
       "    number                                              title  \\\n",
       "0    26407  SparseArrays backed by other Extension array/d...   \n",
       "1    26406  BUG: to_numpy on categorical data with tz awar...   \n",
       "2    26405          DEPR: deprecate Series/DataFrame.compound   \n",
       "3    26404  Fix type annotations in pandas.core.indexes.da...   \n",
       "4    26403  DEPR: Deprecate ordered=None for CategoricalDtype   \n",
       "5    26402  DOC: Test doctests in pandas/core/tools/dateti...   \n",
       "6    26401    Test doctests in pandas/core/tools/datetimes.py   \n",
       "7    26400  ENH: Support multiple opening hours intervals ...   \n",
       "8    26399           ENH: Support nested renaming / selection   \n",
       "9    26398       Fix type annotations in pandas.core.resample   \n",
       "10   26397  DataFrame.describe excludes top and freq for e...   \n",
       "11   26396                          CLN: remove compat.lrange   \n",
       "12   26395  different type conversion results in assignmen...   \n",
       "13   26394  BUG: to_numeric does not validate the errors k...   \n",
       "14   26393               Holiday based on the lunar calendar?   \n",
       "15   26392  [TEST] Add two more parameters to the test_dti...   \n",
       "16   26391  [PERF] Get rid of MultiIndex conversion in Int...   \n",
       "17   26390  BUG: assigning Series.array / PandasArray to c...   \n",
       "18   26389                             Converting json to csv   \n",
       "19   26388                        read_parquet S3 dir support   \n",
       "20   26385  GroupBy nth ignores observed keyword for Categ...   \n",
       "21   26384                    Remove Deprecated Azure CI Step   \n",
       "22   26383           Prefixed batch script commands with call   \n",
       "23   26381  BUG: error calculating BusinessHourMixin.apply...   \n",
       "24   26380      ENH: Implementing NEP 18's __array_function__   \n",
       "25   26379     BUG: Series.combine_first with mixed timezones   \n",
       "26   26377            Fix type annotations in pandas.core.ops   \n",
       "27   26376         pd.read_fwf fails with file pointer to url   \n",
       "28   26374  BUG: ngroups and len(groups) do not equal when...   \n",
       "29   26372                         Misc Type Annotation fixes   \n",
       "\n",
       "                                               labels state  \n",
       "0   [{'id': 849023693, 'node_id': 'MDU6TGFiZWw4NDk...  open  \n",
       "1   [{'id': 76811, 'node_id': 'MDU6TGFiZWw3NjgxMQ=...  open  \n",
       "2   [{'id': 87485152, 'node_id': 'MDU6TGFiZWw4NzQ4...  open  \n",
       "3                                                  []  open  \n",
       "4   [{'id': 78527356, 'node_id': 'MDU6TGFiZWw3ODUy...  open  \n",
       "5   [{'id': 134699, 'node_id': 'MDU6TGFiZWwxMzQ2OT...  open  \n",
       "6   [{'id': 134699, 'node_id': 'MDU6TGFiZWwxMzQ2OT...  open  \n",
       "7                                                  []  open  \n",
       "8   [{'id': 35818298, 'node_id': 'MDU6TGFiZWwzNTgx...  open  \n",
       "9   [{'id': 74975453, 'node_id': 'MDU6TGFiZWw3NDk3...  open  \n",
       "10                                                 []  open  \n",
       "11  [{'id': 49747336, 'node_id': 'MDU6TGFiZWw0OTc0...  open  \n",
       "12  [{'id': 31404521, 'node_id': 'MDU6TGFiZWwzMTQw...  open  \n",
       "13  [{'id': 42670965, 'node_id': 'MDU6TGFiZWw0MjY3...  open  \n",
       "14                                                 []  open  \n",
       "15  [{'id': 53181044, 'node_id': 'MDU6TGFiZWw1MzE4...  open  \n",
       "16  [{'id': 150096370, 'node_id': 'MDU6TGFiZWwxNTA...  open  \n",
       "17  [{'id': 76811, 'node_id': 'MDU6TGFiZWw3NjgxMQ=...  open  \n",
       "18  [{'id': 307649777, 'node_id': 'MDU6TGFiZWwzMDc...  open  \n",
       "19  [{'id': 685114413, 'node_id': 'MDU6TGFiZWw2ODU...  open  \n",
       "20  [{'id': 78527356, 'node_id': 'MDU6TGFiZWw3ODUy...  open  \n",
       "21                                                 []  open  \n",
       "22                                                 []  open  \n",
       "23  [{'id': 76811, 'node_id': 'MDU6TGFiZWw3NjgxMQ=...  open  \n",
       "24                                                 []  open  \n",
       "25  [{'id': 76811, 'node_id': 'MDU6TGFiZWw3NjgxMQ=...  open  \n",
       "26  [{'id': 1280988427, 'node_id': 'MDU6TGFiZWwxMj...  open  \n",
       "27  [{'id': 76811, 'node_id': 'MDU6TGFiZWw3NjgxMQ=...  open  \n",
       "28  [{'id': 233160, 'node_id': 'MDU6TGFiZWwyMzMxNj...  open  \n",
       "29  [{'id': 1280988427, 'node_id': 'MDU6TGFiZWwxMj...  open  "
      ]
     },
     "execution_count": 9,
     "metadata": {},
     "output_type": "execute_result"
    }
   ],
   "source": [
    "issues = pd.DataFrame(data, columns=['number', 'title',\n",
    "                                     'labels', 'state'])\n",
    "issues"
   ]
  },
  {
   "cell_type": "markdown",
   "metadata": {},
   "source": [
    "#### 数据库交互"
   ]
  },
  {
   "cell_type": "code",
   "execution_count": 11,
   "metadata": {},
   "outputs": [
    {
     "data": {
      "text/plain": [
       "<sqlite3.Cursor at 0x110566d50>"
      ]
     },
     "execution_count": 11,
     "metadata": {},
     "output_type": "execute_result"
    }
   ],
   "source": [
    "import sqlite3\n",
    "\n",
    "query = \"\"\"\n",
    "CREATE TABLE test\n",
    "(a VARCHAR(20), b VARCHAR(20),\n",
    "c REAL,        d INTEGER\n",
    ");\"\"\"\n",
    "\n",
    "con = sqlite3.connect('mydata.sqlite')\n",
    "con.execute(query)"
   ]
  },
  {
   "cell_type": "code",
   "execution_count": 12,
   "metadata": {
    "collapsed": true
   },
   "outputs": [],
   "source": [
    "con.commit()"
   ]
  },
  {
   "cell_type": "code",
   "execution_count": 13,
   "metadata": {},
   "outputs": [
    {
     "data": {
      "text/plain": [
       "<sqlite3.Cursor at 0x110566f80>"
      ]
     },
     "execution_count": 13,
     "metadata": {},
     "output_type": "execute_result"
    }
   ],
   "source": [
    "data = [('Atlanta', 'Georgia', 1.25, 6),\n",
    "        ('Tallahassee', 'Florida', 2.6, 3),\n",
    "        ('Sacramento', 'California', 1.7, 5)]\n",
    "\n",
    "stmt = \"INSERT INTO test VALUES(?,?,?,?)\"\n",
    "con.executemany(stmt,data)"
   ]
  },
  {
   "cell_type": "code",
   "execution_count": 14,
   "metadata": {},
   "outputs": [
    {
     "data": {
      "text/plain": [
       "[('Atlanta', 'Georgia', 1.25, 6),\n",
       " ('Tallahassee', 'Florida', 2.6, 3),\n",
       " ('Sacramento', 'California', 1.7, 5)]"
      ]
     },
     "execution_count": 14,
     "metadata": {},
     "output_type": "execute_result"
    }
   ],
   "source": [
    "cursor = con.execute('select * from test')\n",
    "rows = cursor.fetchall()\n",
    "rows"
   ]
  },
  {
   "cell_type": "code",
   "execution_count": 15,
   "metadata": {},
   "outputs": [
    {
     "name": "stdout",
     "output_type": "stream",
     "text": [
      "(('a', None, None, None, None, None, None), ('b', None, None, None, None, None, None), ('c', None, None, None, None, None, None), ('d', None, None, None, None, None, None))\n",
      "             a           b     c  d\n",
      "0      Atlanta     Georgia  1.25  6\n",
      "1  Tallahassee     Florida  2.60  3\n",
      "2   Sacramento  California  1.70  5\n"
     ]
    }
   ],
   "source": [
    "print(cursor.description)\n",
    "\n",
    "print(pd.DataFrame(rows,columns=[x[0] for x in cursor.description]))"
   ]
  },
  {
   "cell_type": "code",
   "execution_count": 17,
   "metadata": {},
   "outputs": [
    {
     "data": {
      "text/html": [
       "<div>\n",
       "<style>\n",
       "    .dataframe thead tr:only-child th {\n",
       "        text-align: right;\n",
       "    }\n",
       "\n",
       "    .dataframe thead th {\n",
       "        text-align: left;\n",
       "    }\n",
       "\n",
       "    .dataframe tbody tr th {\n",
       "        vertical-align: top;\n",
       "    }\n",
       "</style>\n",
       "<table border=\"1\" class=\"dataframe\">\n",
       "  <thead>\n",
       "    <tr style=\"text-align: right;\">\n",
       "      <th></th>\n",
       "      <th>a</th>\n",
       "      <th>b</th>\n",
       "      <th>c</th>\n",
       "      <th>d</th>\n",
       "    </tr>\n",
       "  </thead>\n",
       "  <tbody>\n",
       "  </tbody>\n",
       "</table>\n",
       "</div>"
      ],
      "text/plain": [
       "Empty DataFrame\n",
       "Columns: [a, b, c, d]\n",
       "Index: []"
      ]
     },
     "execution_count": 17,
     "metadata": {},
     "output_type": "execute_result"
    }
   ],
   "source": [
    "import sqlalchemy as sqla\n",
    "\n",
    "db = sqla.create_engine('sqlite:///mydata.sqlite')\n",
    "\n",
    "pd.read_sql('select * from test', db)"
   ]
  },
  {
   "cell_type": "code",
   "execution_count": null,
   "metadata": {
    "collapsed": true
   },
   "outputs": [],
   "source": []
  }
 ],
 "metadata": {
  "kernelspec": {
   "display_name": "Python 3",
   "language": "python",
   "name": "python3"
  },
  "language_info": {
   "codemirror_mode": {
    "name": "ipython",
    "version": 3
   },
   "file_extension": ".py",
   "mimetype": "text/x-python",
   "name": "python",
   "nbconvert_exporter": "python",
   "pygments_lexer": "ipython3",
   "version": "3.6.8"
  }
 },
 "nbformat": 4,
 "nbformat_minor": 2
}
