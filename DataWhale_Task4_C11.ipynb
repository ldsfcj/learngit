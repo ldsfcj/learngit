{
 "cells": [
  {
   "cell_type": "markdown",
   "metadata": {},
   "source": [
    "## 第11章 时间序列\n",
    "在多个时间点观察或测量到的任何事物都可以形成一段时间序列。<br />\n",
    "很多时间序列是固定频率的，也就是说，数据点是根据某种规律<br />\n",
    "定期出现的（比如每15秒、每5分钟、每月出现一次）。<br />\n",
    "时间序列也可以是不定期的，没有固定的时间单位或单位之间的偏移量。\n",
    "时间戳（timestamp），特定的时刻。<br />\n",
    "固定时期（period），如2007年1月或2010年全年。<br />\n",
    "时间间隔（interval），由起始和结束时间戳表示。时期（period）<br/>\n",
    "可以被看做间隔（interval）的特例。<br />\n",
    "实验或过程时间，每个时间点都是相对于特定起始时间的一个度量。<br />\n",
    "例如，从放入烤箱时起，每秒钟饼干的直径。\n",
    "pandas提供了许多内置的时间序列处理工具和数据算法。因此，你<br/>\n",
    "可以高效处理非常大的时间序列，轻松地进行切片/切块、聚合、对<br/>\n",
    "定期/不定期的时间序列进行重采样等。有些工具特别适合金融和经<br/>\n",
    "济应用，你当然也可以用它们来分析服务器日志数据。"
   ]
  },
  {
   "cell_type": "code",
   "execution_count": 19,
   "metadata": {
    "collapsed": true
   },
   "outputs": [],
   "source": [
    "import numpy as np\n",
    "import pandas as pd"
   ]
  },
  {
   "cell_type": "markdown",
   "metadata": {},
   "source": [
    "### 11.1 日期和时间数据类型及工具\n",
    "Python标准库包含用于日期（date）和时间（time）数据的数据<br/>\n",
    "类型，而且还有日历方面的功能。我们主要会用到datetime、time<br/>\n",
    "以及calendar模块。<br/>\n",
    "datetime.datetime（也可以简写为datetime）是用得最多的数据类型"
   ]
  },
  {
   "cell_type": "code",
   "execution_count": 2,
   "metadata": {},
   "outputs": [
    {
     "name": "stdout",
     "output_type": "stream",
     "text": [
      "2019-05-21 17:33:10.716422\n"
     ]
    },
    {
     "data": {
      "text/plain": [
       "(2019, 5, 21)"
      ]
     },
     "execution_count": 2,
     "metadata": {},
     "output_type": "execute_result"
    }
   ],
   "source": [
    "from datetime import datetime\n",
    "\n",
    "now = datetime.now()\n",
    "\n",
    "print(now)\n",
    "\n",
    "now.year, now.month, now.day"
   ]
  },
  {
   "cell_type": "code",
   "execution_count": 5,
   "metadata": {},
   "outputs": [
    {
     "name": "stdout",
     "output_type": "stream",
     "text": [
      "926 days, 15:45:00\n",
      "926\n",
      "56700\n"
     ]
    }
   ],
   "source": [
    "#datetime以毫秒形式存储日期和时间。\n",
    "#timedelta表示两个datetime对象之间的时间差\n",
    "delta = datetime(2011, 1, 7) - datetime(2008, 6, 24, 8, 15)\n",
    "\n",
    "print(delta)\n",
    "\n",
    "print(delta.days)\n",
    "\n",
    "print(delta.seconds)"
   ]
  },
  {
   "cell_type": "code",
   "execution_count": 7,
   "metadata": {},
   "outputs": [
    {
     "name": "stdout",
     "output_type": "stream",
     "text": [
      "2011-01-19 00:00:00\n"
     ]
    },
    {
     "data": {
      "text/plain": [
       "datetime.datetime(2010, 12, 14, 0, 0)"
      ]
     },
     "execution_count": 7,
     "metadata": {},
     "output_type": "execute_result"
    }
   ],
   "source": [
    "#可以给datetime对象加上（或减去）一个或多个timedelta，\n",
    "#这样会产生一个新对象\n",
    "from datetime import timedelta\n",
    "\n",
    "start = datetime(2011, 1, 7)\n",
    "\n",
    "print(start + timedelta(12))\n",
    "\n",
    "start - 2 * timedelta(12)#12 是day"
   ]
  },
  {
   "cell_type": "markdown",
   "metadata": {},
   "source": [
    "#### 字符串和datatime的相互转换"
   ]
  },
  {
   "cell_type": "code",
   "execution_count": 12,
   "metadata": {},
   "outputs": [
    {
     "name": "stdout",
     "output_type": "stream",
     "text": [
      "2011-01-03 00:00:00\n"
     ]
    },
    {
     "data": {
      "text/plain": [
       "'2011-01-03'"
      ]
     },
     "execution_count": 12,
     "metadata": {},
     "output_type": "execute_result"
    }
   ],
   "source": [
    "#利用str或strftime方法（传入一个格式化字符串），\n",
    "#datetime对象和pandas的Timestamp对象（稍后就会介绍）\n",
    "#可以被格式化为字符串\n",
    "stamp = datetime(2011, 1, 3)\n",
    "\n",
    "print(str(stamp))\n",
    "\n",
    "stamp.strftime('%Y-%m-%d')"
   ]
  },
  {
   "cell_type": "code",
   "execution_count": 14,
   "metadata": {},
   "outputs": [
    {
     "name": "stdout",
     "output_type": "stream",
     "text": [
      "2011-01-03 00:00:00\n"
     ]
    },
    {
     "data": {
      "text/plain": [
       "[datetime.datetime(2011, 7, 6, 0, 0), datetime.datetime(2011, 8, 6, 0, 0)]"
      ]
     },
     "execution_count": 14,
     "metadata": {},
     "output_type": "execute_result"
    }
   ],
   "source": [
    "#datetime.strptime可以用这些格式化编码将字符串转换为日期\n",
    "value = '2011-01-03'\n",
    "\n",
    "print(datetime.strptime(value,'%Y-%m-%d'))\n",
    "\n",
    "datestrs = ['7/6/2011', '8/6/2011']\n",
    "\n",
    "[datetime.strptime(x, '%m/%d/%Y') for x in datestrs]"
   ]
  },
  {
   "cell_type": "code",
   "execution_count": 15,
   "metadata": {},
   "outputs": [
    {
     "data": {
      "text/plain": [
       "datetime.datetime(2011, 1, 3, 0, 0)"
      ]
     },
     "execution_count": 15,
     "metadata": {},
     "output_type": "execute_result"
    }
   ],
   "source": [
    "#datetime.strptime是通过已知格式进行日期解析的最佳方式。\n",
    "#但是每次都要编写格式定义是很麻烦的事情，尤其是对于一些常见\n",
    "#的日期格式。这种情况下，你可以用dateutil这个第三方包中的\n",
    "#parser.parse方法（pandas中已经自动安装好了）\n",
    "from dateutil.parser import parse\n",
    "\n",
    "parse('2011-01-03')"
   ]
  },
  {
   "cell_type": "code",
   "execution_count": 16,
   "metadata": {},
   "outputs": [
    {
     "data": {
      "text/plain": [
       "datetime.datetime(1997, 1, 31, 22, 45)"
      ]
     },
     "execution_count": 16,
     "metadata": {},
     "output_type": "execute_result"
    }
   ],
   "source": [
    "#dateutil可以解析几乎所有人类能够理解的日期表示形式\n",
    "parse('Jan 31, 1997 10:45 PM')"
   ]
  },
  {
   "cell_type": "code",
   "execution_count": 17,
   "metadata": {},
   "outputs": [
    {
     "data": {
      "text/plain": [
       "datetime.datetime(2011, 12, 6, 0, 0)"
      ]
     },
     "execution_count": 17,
     "metadata": {},
     "output_type": "execute_result"
    }
   ],
   "source": [
    "#在国际通用的格式中，日出现在月的前面很普遍，\n",
    "#传入dayfirst=True即可解决这个问题\n",
    "parse('6/12/2011', dayfirst=True)"
   ]
  },
  {
   "cell_type": "code",
   "execution_count": 20,
   "metadata": {},
   "outputs": [
    {
     "data": {
      "text/plain": [
       "DatetimeIndex(['2011-07-06 12:00:00', '2011-08-06 00:00:00'], dtype='datetime64[ns]', freq=None)"
      ]
     },
     "execution_count": 20,
     "metadata": {},
     "output_type": "execute_result"
    }
   ],
   "source": [
    "#pandas通常是用于处理成组日期的，不管这些日期是DataFrame的轴索引\n",
    "#还是列。to_datetime方法可以解析多种不同的日期表示形式。对标准日\n",
    "#期格式（如ISO8601）的解析非常快\n",
    "datestrs = ['2011-07-06 12:00:00', '2011-08-06 00:00:00']\n",
    "\n",
    "pd.to_datetime(datestrs)"
   ]
  },
  {
   "cell_type": "code",
   "execution_count": 21,
   "metadata": {},
   "outputs": [
    {
     "data": {
      "text/plain": [
       "DatetimeIndex(['2011-07-06 12:00:00', '2011-08-06 00:00:00', 'NaT'], dtype='datetime64[ns]', freq=None)"
      ]
     },
     "execution_count": 21,
     "metadata": {},
     "output_type": "execute_result"
    }
   ],
   "source": [
    "#它还可以处理缺失值（None、空字符串等）\n",
    "idx = pd.to_datetime(datestrs + [None])\n",
    "\n",
    "idx"
   ]
  },
  {
   "cell_type": "code",
   "execution_count": 22,
   "metadata": {},
   "outputs": [
    {
     "data": {
      "text/plain": [
       "NaT"
      ]
     },
     "execution_count": 22,
     "metadata": {},
     "output_type": "execute_result"
    }
   ],
   "source": [
    "idx[2]"
   ]
  },
  {
   "cell_type": "code",
   "execution_count": 23,
   "metadata": {},
   "outputs": [
    {
     "data": {
      "text/plain": [
       "array([False, False,  True], dtype=bool)"
      ]
     },
     "execution_count": 23,
     "metadata": {},
     "output_type": "execute_result"
    }
   ],
   "source": [
    "pd.isnull(idx)\n",
    "#NaT（Not a Time）是pandas中时间戳数据的null值\n",
    "#注意：dateutil.parser是一个实用但不完美的工具。\n",
    "#比如说，它会把一些原本不是日期的字符串认作是日期\n",
    "#（比如\"42\"会被解析为2042年的今天）"
   ]
  },
  {
   "cell_type": "markdown",
   "metadata": {},
   "source": [
    "### 11.2 时间序列基础"
   ]
  },
  {
   "cell_type": "code",
   "execution_count": 24,
   "metadata": {},
   "outputs": [
    {
     "data": {
      "text/plain": [
       "2011-01-02   -0.078437\n",
       "2011-01-05   -0.205302\n",
       "2011-01-07    0.597924\n",
       "2011-01-08   -0.818515\n",
       "2011-01-10    0.132945\n",
       "2011-01-12    0.148380\n",
       "dtype: float64"
      ]
     },
     "execution_count": 24,
     "metadata": {},
     "output_type": "execute_result"
    }
   ],
   "source": [
    "#pandas最基本的时间序列类型就是以时间戳\n",
    "#（通常以Python字符串或datatime对象表示）\n",
    "#为索引的Series\n",
    "from datetime import datetime\n",
    "\n",
    "dates = [datetime(2011, 1, 2), datetime(2011, 1, 5),\n",
    "         datetime(2011, 1, 7), datetime(2011, 1, 8),\n",
    "         datetime(2011, 1, 10), datetime(2011, 1, 12)]\n",
    "\n",
    "ts = pd.Series(np.random.randn(6), index=dates)\n",
    "\n",
    "ts"
   ]
  },
  {
   "cell_type": "code",
   "execution_count": 25,
   "metadata": {},
   "outputs": [
    {
     "data": {
      "text/plain": [
       "DatetimeIndex(['2011-01-02', '2011-01-05', '2011-01-07', '2011-01-08',\n",
       "               '2011-01-10', '2011-01-12'],\n",
       "              dtype='datetime64[ns]', freq=None)"
      ]
     },
     "execution_count": 25,
     "metadata": {},
     "output_type": "execute_result"
    }
   ],
   "source": [
    "#这些datetime对象实际上是被放在一个DatetimeIndex中的\n",
    "ts.index"
   ]
  },
  {
   "cell_type": "code",
   "execution_count": 27,
   "metadata": {},
   "outputs": [
    {
     "data": {
      "text/plain": [
       "2011-01-02   -0.078437\n",
       "2011-01-07    0.597924\n",
       "2011-01-10    0.132945\n",
       "dtype: float64"
      ]
     },
     "execution_count": 27,
     "metadata": {},
     "output_type": "execute_result"
    }
   ],
   "source": [
    "ts[::2]"
   ]
  },
  {
   "cell_type": "code",
   "execution_count": 26,
   "metadata": {},
   "outputs": [
    {
     "data": {
      "text/plain": [
       "2011-01-02   -0.156874\n",
       "2011-01-05         NaN\n",
       "2011-01-07    1.195848\n",
       "2011-01-08         NaN\n",
       "2011-01-10    0.265889\n",
       "2011-01-12         NaN\n",
       "dtype: float64"
      ]
     },
     "execution_count": 26,
     "metadata": {},
     "output_type": "execute_result"
    }
   ],
   "source": [
    "#跟其他Series一样，不同索引的时间序列之间的算术运算会自动按日期对齐\n",
    "ts + ts[::2]"
   ]
  },
  {
   "cell_type": "code",
   "execution_count": 28,
   "metadata": {},
   "outputs": [
    {
     "data": {
      "text/plain": [
       "dtype('<M8[ns]')"
      ]
     },
     "execution_count": 28,
     "metadata": {},
     "output_type": "execute_result"
    }
   ],
   "source": [
    "#pandas用NumPy的datetime64数据类型以纳秒形式存储时间戳\n",
    "ts.index.dtype"
   ]
  },
  {
   "cell_type": "code",
   "execution_count": 29,
   "metadata": {},
   "outputs": [
    {
     "data": {
      "text/plain": [
       "Timestamp('2011-01-02 00:00:00')"
      ]
     },
     "execution_count": 29,
     "metadata": {},
     "output_type": "execute_result"
    }
   ],
   "source": [
    "#DatetimeIndex中的各个标量值是pandas的Timestamp对象\n",
    "stamp = ts.index[0]\n",
    "\n",
    "stamp\n",
    "#只要有需要，TimeStamp可以随时自动转换为datetime对象。\n",
    "#此外，它还可以存储频率信息（如果有的话），且知道如何执行时\n",
    "#区转换以及其他操作。稍后将对此进行详细讲解。"
   ]
  },
  {
   "cell_type": "markdown",
   "metadata": {},
   "source": [
    "#### 索引、选取、子集构造"
   ]
  },
  {
   "cell_type": "code",
   "execution_count": 31,
   "metadata": {},
   "outputs": [
    {
     "data": {
      "text/plain": [
       "0.59792375376579832"
      ]
     },
     "execution_count": 31,
     "metadata": {},
     "output_type": "execute_result"
    }
   ],
   "source": [
    "#当你根据标签索引选取数据时，时间序列和其它的pandas.Series很像\n",
    "stamp = ts.index[2]\n",
    "\n",
    "ts[stamp]"
   ]
  },
  {
   "cell_type": "code",
   "execution_count": 32,
   "metadata": {},
   "outputs": [
    {
     "name": "stdout",
     "output_type": "stream",
     "text": [
      "0.132944608909\n",
      "0.132944608909\n"
     ]
    }
   ],
   "source": [
    "#还有一种更为方便的用法：传入一个可以被解释为日期的字符串\n",
    "print(ts['1/10/2011'])\n",
    "print(ts['20110110'])"
   ]
  },
  {
   "cell_type": "code",
   "execution_count": 33,
   "metadata": {},
   "outputs": [
    {
     "name": "stdout",
     "output_type": "stream",
     "text": [
      "2000-01-01   -0.780320\n",
      "2000-01-02   -0.157200\n",
      "2000-01-03    0.710261\n",
      "2000-01-04    0.757090\n",
      "2000-01-05    1.072024\n",
      "2000-01-06    2.317108\n",
      "2000-01-07    1.802059\n",
      "2000-01-08   -0.231025\n",
      "2000-01-09   -1.079804\n",
      "2000-01-10   -0.122899\n",
      "2000-01-11   -0.354657\n",
      "2000-01-12    1.783776\n",
      "2000-01-13    1.118190\n",
      "2000-01-14    0.737508\n",
      "2000-01-15    0.808868\n",
      "2000-01-16   -1.281741\n",
      "2000-01-17    0.030669\n",
      "2000-01-18   -0.036913\n",
      "2000-01-19   -0.829042\n",
      "2000-01-20   -0.915724\n",
      "2000-01-21    0.787562\n",
      "2000-01-22   -0.360872\n",
      "2000-01-23   -0.359229\n",
      "2000-01-24    0.958767\n",
      "2000-01-25   -0.383858\n",
      "2000-01-26    0.993436\n",
      "2000-01-27    0.594636\n",
      "2000-01-28   -0.748152\n",
      "2000-01-29   -0.610141\n",
      "2000-01-30   -0.575233\n",
      "                ...   \n",
      "2002-08-28    0.238982\n",
      "2002-08-29   -0.144295\n",
      "2002-08-30   -0.392323\n",
      "2002-08-31   -0.530434\n",
      "2002-09-01    0.987275\n",
      "2002-09-02   -0.342543\n",
      "2002-09-03   -0.202257\n",
      "2002-09-04    0.542156\n",
      "2002-09-05   -0.896534\n",
      "2002-09-06    0.798716\n",
      "2002-09-07   -0.161535\n",
      "2002-09-08   -1.112349\n",
      "2002-09-09   -0.943743\n",
      "2002-09-10    0.292465\n",
      "2002-09-11    0.027282\n",
      "2002-09-12   -0.098615\n",
      "2002-09-13    0.948702\n",
      "2002-09-14    1.890973\n",
      "2002-09-15   -0.084548\n",
      "2002-09-16    1.731031\n",
      "2002-09-17    0.103596\n",
      "2002-09-18    0.448463\n",
      "2002-09-19   -0.892726\n",
      "2002-09-20    0.064419\n",
      "2002-09-21    0.008751\n",
      "2002-09-22    0.288820\n",
      "2002-09-23    0.529389\n",
      "2002-09-24   -0.227638\n",
      "2002-09-25    0.846063\n",
      "2002-09-26   -0.345847\n",
      "Freq: D, Length: 1000, dtype: float64\n",
      "2001-01-01   -0.544636\n",
      "2001-01-02    0.228664\n",
      "2001-01-03    0.858935\n",
      "2001-01-04    1.389722\n",
      "2001-01-05    0.717682\n",
      "2001-01-06    1.913848\n",
      "2001-01-07    1.045440\n",
      "2001-01-08    0.391435\n",
      "2001-01-09    1.461578\n",
      "2001-01-10    0.138066\n",
      "2001-01-11    0.844573\n",
      "2001-01-12   -0.728005\n",
      "2001-01-13   -1.565278\n",
      "2001-01-14   -0.542716\n",
      "2001-01-15    0.307137\n",
      "2001-01-16   -0.006014\n",
      "2001-01-17    0.570295\n",
      "2001-01-18   -0.596922\n",
      "2001-01-19   -0.174564\n",
      "2001-01-20    1.902871\n",
      "2001-01-21   -0.266489\n",
      "2001-01-22   -0.260589\n",
      "2001-01-23   -1.426279\n",
      "2001-01-24   -0.090674\n",
      "2001-01-25   -0.276832\n",
      "2001-01-26   -1.050717\n",
      "2001-01-27   -0.041918\n",
      "2001-01-28    1.762212\n",
      "2001-01-29   -1.266108\n",
      "2001-01-30    0.195974\n",
      "                ...   \n",
      "2001-12-02   -0.321156\n",
      "2001-12-03   -1.613570\n",
      "2001-12-04    0.284987\n",
      "2001-12-05    2.137580\n",
      "2001-12-06    0.248401\n",
      "2001-12-07    0.099956\n",
      "2001-12-08   -0.229121\n",
      "2001-12-09    1.018071\n",
      "2001-12-10    0.914428\n",
      "2001-12-11    0.798272\n",
      "2001-12-12   -0.677133\n",
      "2001-12-13    1.610274\n",
      "2001-12-14   -0.855482\n",
      "2001-12-15   -1.950546\n",
      "2001-12-16   -1.090756\n",
      "2001-12-17    0.068319\n",
      "2001-12-18   -0.176463\n",
      "2001-12-19    0.351559\n",
      "2001-12-20    0.372170\n",
      "2001-12-21    1.093254\n",
      "2001-12-22   -0.368132\n",
      "2001-12-23   -0.936663\n",
      "2001-12-24    0.868182\n",
      "2001-12-25   -2.396691\n",
      "2001-12-26   -1.044233\n",
      "2001-12-27    0.644417\n",
      "2001-12-28    0.561045\n",
      "2001-12-29    0.514305\n",
      "2001-12-30   -0.055433\n",
      "2001-12-31   -0.889065\n",
      "Freq: D, Length: 365, dtype: float64\n"
     ]
    }
   ],
   "source": [
    "#对于较长的时间序列，只需传入“年”或“年月”即可轻松选取数据的切片\n",
    "longer_ts = pd.Series(np.random.randn(1000),\n",
    "                      index=pd.date_range('1/1/2000', periods=1000))\n",
    "\n",
    "print(longer_ts)\n",
    "\n",
    "print(longer_ts['2001'])"
   ]
  },
  {
   "cell_type": "code",
   "execution_count": 34,
   "metadata": {},
   "outputs": [
    {
     "data": {
      "text/plain": [
       "2001-05-01    0.430495\n",
       "2001-05-02   -0.236329\n",
       "2001-05-03   -0.826956\n",
       "2001-05-04   -0.131613\n",
       "2001-05-05   -1.286526\n",
       "2001-05-06   -0.012823\n",
       "2001-05-07    0.261024\n",
       "2001-05-08    0.515479\n",
       "2001-05-09   -1.473017\n",
       "2001-05-10   -1.274623\n",
       "2001-05-11   -0.195775\n",
       "2001-05-12    0.234231\n",
       "2001-05-13   -1.676276\n",
       "2001-05-14   -1.151441\n",
       "2001-05-15   -1.540982\n",
       "2001-05-16    0.266079\n",
       "2001-05-17    1.082440\n",
       "2001-05-18    0.196095\n",
       "2001-05-19    0.904141\n",
       "2001-05-20   -1.671861\n",
       "2001-05-21   -0.722376\n",
       "2001-05-22   -0.465751\n",
       "2001-05-23   -0.395678\n",
       "2001-05-24    1.297827\n",
       "2001-05-25   -1.011106\n",
       "2001-05-26   -0.104827\n",
       "2001-05-27    0.210601\n",
       "2001-05-28    0.150679\n",
       "2001-05-29    1.044160\n",
       "2001-05-30   -0.529383\n",
       "2001-05-31   -1.766727\n",
       "Freq: D, dtype: float64"
      ]
     },
     "execution_count": 34,
     "metadata": {},
     "output_type": "execute_result"
    }
   ],
   "source": [
    "#这里，字符串“2001”被解释成年，并根据它选取时间区间。指定月也同样奏效\n",
    "longer_ts['2001-05']"
   ]
  },
  {
   "cell_type": "code",
   "execution_count": 35,
   "metadata": {},
   "outputs": [
    {
     "data": {
      "text/plain": [
       "2011-01-07    0.597924\n",
       "2011-01-08   -0.818515\n",
       "2011-01-10    0.132945\n",
       "2011-01-12    0.148380\n",
       "dtype: float64"
      ]
     },
     "execution_count": 35,
     "metadata": {},
     "output_type": "execute_result"
    }
   ],
   "source": [
    "#datetime对象也可以进行切片\n",
    "ts[datetime(2011, 1, 7):]"
   ]
  },
  {
   "cell_type": "code",
   "execution_count": 36,
   "metadata": {},
   "outputs": [
    {
     "name": "stdout",
     "output_type": "stream",
     "text": [
      "2011-01-02   -0.078437\n",
      "2011-01-05   -0.205302\n",
      "2011-01-07    0.597924\n",
      "2011-01-08   -0.818515\n",
      "2011-01-10    0.132945\n",
      "2011-01-12    0.148380\n",
      "dtype: float64\n",
      "2011-01-07    0.597924\n",
      "2011-01-08   -0.818515\n",
      "2011-01-10    0.132945\n",
      "dtype: float64\n"
     ]
    }
   ],
   "source": [
    "#由于大部分时间序列数据都是按照时间先后排序的，\n",
    "#因此你也可以用不存在于该时间序列中的时间戳对其进行切片（即范围查询）\n",
    "print(ts)\n",
    "print(ts['1/6/2011':'1/11/2011'])"
   ]
  },
  {
   "cell_type": "code",
   "execution_count": 40,
   "metadata": {},
   "outputs": [
    {
     "data": {
      "text/plain": [
       "2011-01-02   -0.078437\n",
       "2011-01-05   -0.205302\n",
       "2011-01-07    0.597924\n",
       "2011-01-08   -0.818515\n",
       "dtype: float64"
      ]
     },
     "execution_count": 40,
     "metadata": {},
     "output_type": "execute_result"
    }
   ],
   "source": [
    "#跟之前一样，你可以传入字符串日期、datetime或Timestamp。\n",
    "#注意，这样切片所产生的是原时间序列的视图，跟NumPy数组的切片\n",
    "#运算是一样的。\n",
    "#这意味着，没有数据被复制，对切片进行修改会反映到原始数据上。\n",
    "#此外，还有一个等价的实例方法也可以截取两个日期之间TimeSeries\n",
    "ts.truncate(after='1/9/2011')"
   ]
  },
  {
   "cell_type": "code",
   "execution_count": 41,
   "metadata": {},
   "outputs": [
    {
     "data": {
      "text/html": [
       "<div>\n",
       "<style>\n",
       "    .dataframe thead tr:only-child th {\n",
       "        text-align: right;\n",
       "    }\n",
       "\n",
       "    .dataframe thead th {\n",
       "        text-align: left;\n",
       "    }\n",
       "\n",
       "    .dataframe tbody tr th {\n",
       "        vertical-align: top;\n",
       "    }\n",
       "</style>\n",
       "<table border=\"1\" class=\"dataframe\">\n",
       "  <thead>\n",
       "    <tr style=\"text-align: right;\">\n",
       "      <th></th>\n",
       "      <th>Colorado</th>\n",
       "      <th>Texas</th>\n",
       "      <th>New York</th>\n",
       "      <th>Ohio</th>\n",
       "    </tr>\n",
       "  </thead>\n",
       "  <tbody>\n",
       "    <tr>\n",
       "      <th>2001-05-02</th>\n",
       "      <td>0.860279</td>\n",
       "      <td>-1.009243</td>\n",
       "      <td>1.158264</td>\n",
       "      <td>-1.054207</td>\n",
       "    </tr>\n",
       "    <tr>\n",
       "      <th>2001-05-09</th>\n",
       "      <td>-0.747229</td>\n",
       "      <td>-1.119753</td>\n",
       "      <td>0.300877</td>\n",
       "      <td>0.680670</td>\n",
       "    </tr>\n",
       "    <tr>\n",
       "      <th>2001-05-16</th>\n",
       "      <td>0.763386</td>\n",
       "      <td>-0.366488</td>\n",
       "      <td>-0.130694</td>\n",
       "      <td>0.399849</td>\n",
       "    </tr>\n",
       "    <tr>\n",
       "      <th>2001-05-23</th>\n",
       "      <td>0.559284</td>\n",
       "      <td>1.239230</td>\n",
       "      <td>-1.196260</td>\n",
       "      <td>-0.145100</td>\n",
       "    </tr>\n",
       "    <tr>\n",
       "      <th>2001-05-30</th>\n",
       "      <td>0.986520</td>\n",
       "      <td>0.851139</td>\n",
       "      <td>-0.268293</td>\n",
       "      <td>-0.521609</td>\n",
       "    </tr>\n",
       "  </tbody>\n",
       "</table>\n",
       "</div>"
      ],
      "text/plain": [
       "            Colorado     Texas  New York      Ohio\n",
       "2001-05-02  0.860279 -1.009243  1.158264 -1.054207\n",
       "2001-05-09 -0.747229 -1.119753  0.300877  0.680670\n",
       "2001-05-16  0.763386 -0.366488 -0.130694  0.399849\n",
       "2001-05-23  0.559284  1.239230 -1.196260 -0.145100\n",
       "2001-05-30  0.986520  0.851139 -0.268293 -0.521609"
      ]
     },
     "execution_count": 41,
     "metadata": {},
     "output_type": "execute_result"
    }
   ],
   "source": [
    "#面这些操作对DataFrame也有效。例如，对DataFrame的行进行索引\n",
    "dates = pd.date_range('1/1/2000', periods=100, freq='W-WED')\n",
    "\n",
    "long_df = pd.DataFrame(np.random.randn(100, 4),\n",
    "                      index=dates,\n",
    "                      columns=['Colorado', 'Texas',\n",
    "                               'New York','Ohio'])\n",
    "\n",
    "long_df.loc['5-2001']"
   ]
  },
  {
   "cell_type": "markdown",
   "metadata": {},
   "source": [
    "#### 带有重复索引的时间序列"
   ]
  },
  {
   "cell_type": "code",
   "execution_count": 43,
   "metadata": {},
   "outputs": [
    {
     "data": {
      "text/plain": [
       "2000-01-01    0\n",
       "2000-01-02    1\n",
       "2000-01-02    2\n",
       "2000-01-02    3\n",
       "2000-01-03    4\n",
       "dtype: int64"
      ]
     },
     "execution_count": 43,
     "metadata": {},
     "output_type": "execute_result"
    }
   ],
   "source": [
    "#在某些应用场景中，可能会存在多个观测数据落在同一个时间点上的情况。\n",
    "dates = pd.DatetimeIndex(['1/1/2000', '1/2/2000', '1/2/2000',\n",
    "                          '1/2/2000', '1/3/2000'])\n",
    "dup_ts = pd.Series(np.arange(5), index=dates)\n",
    "\n",
    "dup_ts\n"
   ]
  },
  {
   "cell_type": "code",
   "execution_count": 44,
   "metadata": {},
   "outputs": [
    {
     "data": {
      "text/plain": [
       "False"
      ]
     },
     "execution_count": 44,
     "metadata": {},
     "output_type": "execute_result"
    }
   ],
   "source": [
    "dup_ts.index.is_unique"
   ]
  },
  {
   "cell_type": "code",
   "execution_count": 45,
   "metadata": {},
   "outputs": [
    {
     "name": "stdout",
     "output_type": "stream",
     "text": [
      "4\n"
     ]
    },
    {
     "data": {
      "text/plain": [
       "2000-01-02    1\n",
       "2000-01-02    2\n",
       "2000-01-02    3\n",
       "dtype: int64"
      ]
     },
     "execution_count": 45,
     "metadata": {},
     "output_type": "execute_result"
    }
   ],
   "source": [
    "#对这个时间序列进行索引，要么产生标量值，要么产生切片，\n",
    "#具体要看所选的时间点是否重复\n",
    "print(dup_ts['1/3/2000'])\n",
    "\n",
    "dup_ts['1/2/2000']"
   ]
  },
  {
   "cell_type": "code",
   "execution_count": 46,
   "metadata": {},
   "outputs": [
    {
     "name": "stdout",
     "output_type": "stream",
     "text": [
      "2000-01-01    0\n",
      "2000-01-02    2\n",
      "2000-01-03    4\n",
      "dtype: int64\n"
     ]
    },
    {
     "data": {
      "text/plain": [
       "2000-01-01    1\n",
       "2000-01-02    3\n",
       "2000-01-03    1\n",
       "dtype: int64"
      ]
     },
     "execution_count": 46,
     "metadata": {},
     "output_type": "execute_result"
    }
   ],
   "source": [
    "#假设你想要对具有非唯一时间戳的数据进行聚合。\n",
    "#一个办法是使用groupby，并传入level=0\n",
    "grouped = dup_ts.groupby(level=0)\n",
    "print(grouped.mean())\n",
    "grouped.count()"
   ]
  },
  {
   "cell_type": "markdown",
   "metadata": {},
   "source": [
    "### 11.3 日期的范围、频率\n",
    "pandas中的原生时间序列一般被认为是不规则的，也就是说，它们没有<br/>\n",
    "固定的频率。对于大部分应用程序而言，这是无所谓的。但是，它常常<br/>需要以某种相对固定的频率进行分析，比如每日、每月、每15分钟等<br/>（这样自然会在时间序列中引入缺失值）。幸运的是，pandas有<br/>一整套标准时间序列频率以及用于重采样、频率推断、生成固定频率日<br/>期范围的工具。例如，我们可以将之前那个时间序列转换为一个具有固<br/>定频率（每日）的时间序列，只需调用resample即可"
   ]
  },
  {
   "cell_type": "code",
   "execution_count": 51,
   "metadata": {},
   "outputs": [
    {
     "name": "stdout",
     "output_type": "stream",
     "text": [
      "2011-01-02   -0.078437\n",
      "2011-01-05   -0.205302\n",
      "2011-01-07    0.597924\n",
      "2011-01-08   -0.818515\n",
      "2011-01-10    0.132945\n",
      "2011-01-12    0.148380\n",
      "dtype: float64\n"
     ]
    }
   ],
   "source": [
    "print(ts)\n",
    "resampler = ts.resample('D')\n",
    "#字符串“D”是每天的意思\n"
   ]
  },
  {
   "cell_type": "markdown",
   "metadata": {},
   "source": [
    "#### 生成日期范围"
   ]
  },
  {
   "cell_type": "code",
   "execution_count": 48,
   "metadata": {},
   "outputs": [
    {
     "data": {
      "text/plain": [
       "DatetimeIndex(['2012-04-01', '2012-04-02', '2012-04-03', '2012-04-04',\n",
       "               '2012-04-05', '2012-04-06', '2012-04-07', '2012-04-08',\n",
       "               '2012-04-09', '2012-04-10', '2012-04-11', '2012-04-12',\n",
       "               '2012-04-13', '2012-04-14', '2012-04-15', '2012-04-16',\n",
       "               '2012-04-17', '2012-04-18', '2012-04-19', '2012-04-20',\n",
       "               '2012-04-21', '2012-04-22', '2012-04-23', '2012-04-24',\n",
       "               '2012-04-25', '2012-04-26', '2012-04-27', '2012-04-28',\n",
       "               '2012-04-29', '2012-04-30', '2012-05-01', '2012-05-02',\n",
       "               '2012-05-03', '2012-05-04', '2012-05-05', '2012-05-06',\n",
       "               '2012-05-07', '2012-05-08', '2012-05-09', '2012-05-10',\n",
       "               '2012-05-11', '2012-05-12', '2012-05-13', '2012-05-14',\n",
       "               '2012-05-15', '2012-05-16', '2012-05-17', '2012-05-18',\n",
       "               '2012-05-19', '2012-05-20', '2012-05-21', '2012-05-22',\n",
       "               '2012-05-23', '2012-05-24', '2012-05-25', '2012-05-26',\n",
       "               '2012-05-27', '2012-05-28', '2012-05-29', '2012-05-30',\n",
       "               '2012-05-31', '2012-06-01'],\n",
       "              dtype='datetime64[ns]', freq='D')"
      ]
     },
     "execution_count": 48,
     "metadata": {},
     "output_type": "execute_result"
    }
   ],
   "source": [
    "#虽然我之前用的时候没有明说，但你可能已经猜到pandas.date_range可\n",
    "#用于根据指定的频率生成指定长度的DatetimeIndex\n",
    "index = pd.date_range('2012-04-01','2012-06-01')\n",
    "index"
   ]
  },
  {
   "cell_type": "code",
   "execution_count": 52,
   "metadata": {},
   "outputs": [
    {
     "name": "stdout",
     "output_type": "stream",
     "text": [
      "DatetimeIndex(['2012-04-01', '2012-04-02', '2012-04-03', '2012-04-04',\n",
      "               '2012-04-05', '2012-04-06', '2012-04-07', '2012-04-08',\n",
      "               '2012-04-09', '2012-04-10', '2012-04-11', '2012-04-12',\n",
      "               '2012-04-13', '2012-04-14', '2012-04-15', '2012-04-16',\n",
      "               '2012-04-17', '2012-04-18', '2012-04-19', '2012-04-20'],\n",
      "              dtype='datetime64[ns]', freq='D')\n"
     ]
    },
    {
     "data": {
      "text/plain": [
       "DatetimeIndex(['2012-05-13', '2012-05-14', '2012-05-15', '2012-05-16',\n",
       "               '2012-05-17', '2012-05-18', '2012-05-19', '2012-05-20',\n",
       "               '2012-05-21', '2012-05-22', '2012-05-23', '2012-05-24',\n",
       "               '2012-05-25', '2012-05-26', '2012-05-27', '2012-05-28',\n",
       "               '2012-05-29', '2012-05-30', '2012-05-31', '2012-06-01'],\n",
       "              dtype='datetime64[ns]', freq='D')"
      ]
     },
     "execution_count": 52,
     "metadata": {},
     "output_type": "execute_result"
    }
   ],
   "source": [
    "#默认情况下，date_range会产生按天计算的时间点。如果只传入起始或结束日期，\n",
    "#那就还得传入一个表示一段时间的数字\n",
    "print(pd.date_range(start='2012-04-01', periods=20))\n",
    "\n",
    "pd.date_range(end='2012-06-01', periods=20)"
   ]
  },
  {
   "cell_type": "code",
   "execution_count": 53,
   "metadata": {},
   "outputs": [
    {
     "data": {
      "text/plain": [
       "DatetimeIndex(['2000-01-31', '2000-02-29', '2000-03-31', '2000-04-28',\n",
       "               '2000-05-31', '2000-06-30', '2000-07-31', '2000-08-31',\n",
       "               '2000-09-29', '2000-10-31', '2000-11-30'],\n",
       "              dtype='datetime64[ns]', freq='BM')"
      ]
     },
     "execution_count": 53,
     "metadata": {},
     "output_type": "execute_result"
    }
   ],
   "source": [
    "#起始和结束日期定义了日期索引的严格边界。例如，如果你想要生成一个由\n",
    "#每月最后一个工作日组成的日期索引，可以传入\"BM\"频率（\n",
    "#表示business end of month，表11-4是频率列表），\n",
    "#这样就只会包含时间间隔内（或刚好在边界上的）符合频率要求的日期\n",
    "pd.date_range('2000-01-01', '2000-12-01', freq='BM')"
   ]
  },
  {
   "cell_type": "code",
   "execution_count": 54,
   "metadata": {},
   "outputs": [
    {
     "data": {
      "text/plain": [
       "DatetimeIndex(['2012-05-02 12:56:31', '2012-05-03 12:56:31',\n",
       "               '2012-05-04 12:56:31', '2012-05-05 12:56:31',\n",
       "               '2012-05-06 12:56:31'],\n",
       "              dtype='datetime64[ns]', freq='D')"
      ]
     },
     "execution_count": 54,
     "metadata": {},
     "output_type": "execute_result"
    }
   ],
   "source": [
    "pd.date_range('2012-05-02 12:56:31', periods=5)"
   ]
  },
  {
   "cell_type": "code",
   "execution_count": 55,
   "metadata": {},
   "outputs": [
    {
     "data": {
      "text/plain": [
       "DatetimeIndex(['2012-05-02', '2012-05-03', '2012-05-04', '2012-05-05',\n",
       "               '2012-05-06'],\n",
       "              dtype='datetime64[ns]', freq='D')"
      ]
     },
     "execution_count": 55,
     "metadata": {},
     "output_type": "execute_result"
    }
   ],
   "source": [
    "#有时，虽然起始和结束日期带有时间信息，但你希望产生一组被规范\n",
    "#化（normalize）到午夜的时间戳。normalize选项即可实现该功能\n",
    "pd.date_range('2012-05-02 12:56:31', periods=5, normalize=True)"
   ]
  },
  {
   "cell_type": "markdown",
   "metadata": {},
   "source": [
    "#### 频率和日期偏移量"
   ]
  },
  {
   "cell_type": "code",
   "execution_count": 56,
   "metadata": {},
   "outputs": [
    {
     "data": {
      "text/plain": [
       "<Hour>"
      ]
     },
     "execution_count": 56,
     "metadata": {},
     "output_type": "execute_result"
    }
   ],
   "source": [
    "#pandas中的频率是由一个基础频率（base frequency）和一个乘数组\n",
    "#成的。基础频率通常以一个字符串别名表示，比如\"M\"表示每月，\"H\"表示\n",
    "#每小时。对于每个基础频率，都有一个被称为日期偏移量（date offset）\n",
    "#的对象与之对应。例如，按小时计算的频率可以用Hour类表示\n",
    "from pandas.tseries.offsets import Hour, Minute\n",
    "hour = Hour()\n",
    "hour"
   ]
  },
  {
   "cell_type": "code",
   "execution_count": 58,
   "metadata": {},
   "outputs": [
    {
     "data": {
      "text/plain": [
       "<4 * Hours>"
      ]
     },
     "execution_count": 58,
     "metadata": {},
     "output_type": "execute_result"
    }
   ],
   "source": [
    "#传入一个整数即可定义偏移量的倍数\n",
    "four_hours = Hour(4)\n",
    "four_hours"
   ]
  },
  {
   "cell_type": "code",
   "execution_count": 59,
   "metadata": {},
   "outputs": [
    {
     "data": {
      "text/plain": [
       "DatetimeIndex(['2000-01-01 00:00:00', '2000-01-01 04:00:00',\n",
       "               '2000-01-01 08:00:00', '2000-01-01 12:00:00',\n",
       "               '2000-01-01 16:00:00', '2000-01-01 20:00:00',\n",
       "               '2000-01-02 00:00:00', '2000-01-02 04:00:00',\n",
       "               '2000-01-02 08:00:00', '2000-01-02 12:00:00',\n",
       "               '2000-01-02 16:00:00', '2000-01-02 20:00:00',\n",
       "               '2000-01-03 00:00:00', '2000-01-03 04:00:00',\n",
       "               '2000-01-03 08:00:00', '2000-01-03 12:00:00',\n",
       "               '2000-01-03 16:00:00', '2000-01-03 20:00:00'],\n",
       "              dtype='datetime64[ns]', freq='4H')"
      ]
     },
     "execution_count": 59,
     "metadata": {},
     "output_type": "execute_result"
    }
   ],
   "source": [
    "#一般来说，无需明确创建这样的对象，只需使用诸如\"H\"或\"4H\"这样的字符串别名即可。\n",
    "#在基础频率前面放上一个整数即可创建倍数\n",
    "pd.date_range('2000-01-01', '2000-01-03 23:59', freq='4h')"
   ]
  },
  {
   "cell_type": "code",
   "execution_count": 60,
   "metadata": {},
   "outputs": [
    {
     "data": {
      "text/plain": [
       "<150 * Minutes>"
      ]
     },
     "execution_count": 60,
     "metadata": {},
     "output_type": "execute_result"
    }
   ],
   "source": [
    "Hour(2) + Minute(30)\n",
    "#大部分偏移量对象都可通过加法进行连接"
   ]
  },
  {
   "cell_type": "code",
   "execution_count": 61,
   "metadata": {},
   "outputs": [
    {
     "data": {
      "text/plain": [
       "DatetimeIndex(['2000-01-01 00:00:00', '2000-01-01 01:30:00',\n",
       "               '2000-01-01 03:00:00', '2000-01-01 04:30:00',\n",
       "               '2000-01-01 06:00:00', '2000-01-01 07:30:00',\n",
       "               '2000-01-01 09:00:00', '2000-01-01 10:30:00',\n",
       "               '2000-01-01 12:00:00', '2000-01-01 13:30:00'],\n",
       "              dtype='datetime64[ns]', freq='90T')"
      ]
     },
     "execution_count": 61,
     "metadata": {},
     "output_type": "execute_result"
    }
   ],
   "source": [
    "pd.date_range('2000-01-01', periods=10, freq='1h30min')\n",
    "#同理，你也可以传入频率字符串（如\"2h30min\"），这种字符串可以被高效地\n",
    "#解析为等效的表达式"
   ]
  },
  {
   "cell_type": "markdown",
   "metadata": {},
   "source": [
    "#### WOM日期"
   ]
  },
  {
   "cell_type": "code",
   "execution_count": 62,
   "metadata": {},
   "outputs": [
    {
     "data": {
      "text/plain": [
       "[Timestamp('2012-01-20 00:00:00', freq='WOM-3FRI'),\n",
       " Timestamp('2012-02-17 00:00:00', freq='WOM-3FRI'),\n",
       " Timestamp('2012-03-16 00:00:00', freq='WOM-3FRI'),\n",
       " Timestamp('2012-04-20 00:00:00', freq='WOM-3FRI'),\n",
       " Timestamp('2012-05-18 00:00:00', freq='WOM-3FRI'),\n",
       " Timestamp('2012-06-15 00:00:00', freq='WOM-3FRI'),\n",
       " Timestamp('2012-07-20 00:00:00', freq='WOM-3FRI'),\n",
       " Timestamp('2012-08-17 00:00:00', freq='WOM-3FRI')]"
      ]
     },
     "execution_count": 62,
     "metadata": {},
     "output_type": "execute_result"
    }
   ],
   "source": [
    "#WOM（Week Of Month）是一种非常实用的频率类，它以WOM开头。\n",
    "#它使你能获得诸如“每月第3个星期五”之类的日期\n",
    "rng = pd.date_range('2012-01-01', '2012-09-01', freq='WOM-3FRI')\n",
    "\n",
    "list(rng)"
   ]
  },
  {
   "cell_type": "markdown",
   "metadata": {},
   "source": [
    "#### 移动（超前和滞后）数据"
   ]
  },
  {
   "cell_type": "code",
   "execution_count": 64,
   "metadata": {},
   "outputs": [
    {
     "name": "stdout",
     "output_type": "stream",
     "text": [
      "2000-01-31   -0.012011\n",
      "2000-02-29    0.921009\n",
      "2000-03-31    0.220786\n",
      "2000-04-30    2.077673\n",
      "Freq: M, dtype: float64\n",
      "2000-01-31         NaN\n",
      "2000-02-29         NaN\n",
      "2000-03-31   -0.012011\n",
      "2000-04-30    0.921009\n",
      "Freq: M, dtype: float64\n",
      "2000-01-31    0.220786\n",
      "2000-02-29    2.077673\n",
      "2000-03-31         NaN\n",
      "2000-04-30         NaN\n",
      "Freq: M, dtype: float64\n"
     ]
    }
   ],
   "source": [
    "#移动（shifting）指的是沿着时间轴将数据前移或后移。\n",
    "#Series和DataFrame都有一个shift方法用于执行单纯\n",
    "#的前移或后移操作，保持索引不变\n",
    "ts = pd.Series(np.random.randn(4),\n",
    "               index=pd.date_range('1/1/2000',periods=4, freq='M'))\n",
    "    \n",
    "print(ts)\n",
    "print(ts.shift(2))\n",
    "print(ts.shift(-2))\n",
    "#当我们这样进行移动时，就会在时间序列的前面或后面产生缺失数据"
   ]
  },
  {
   "cell_type": "code",
   "execution_count": 65,
   "metadata": {},
   "outputs": [
    {
     "data": {
      "text/plain": [
       "2000-01-31          NaN\n",
       "2000-02-29   -77.678747\n",
       "2000-03-31    -0.760278\n",
       "2000-04-30     8.410362\n",
       "Freq: M, dtype: float64"
      ]
     },
     "execution_count": 65,
     "metadata": {},
     "output_type": "execute_result"
    }
   ],
   "source": [
    "#shift通常用于计算一个时间序列或多个时间序列（如DataFrame的列）中的百分比变化。\n",
    "#可以这样表达\n",
    "ts / ts.shift(1) - 1"
   ]
  },
  {
   "cell_type": "code",
   "execution_count": 66,
   "metadata": {},
   "outputs": [
    {
     "data": {
      "text/plain": [
       "2000-03-31   -0.012011\n",
       "2000-04-30    0.921009\n",
       "2000-05-31    0.220786\n",
       "2000-06-30    2.077673\n",
       "Freq: M, dtype: float64"
      ]
     },
     "execution_count": 66,
     "metadata": {},
     "output_type": "execute_result"
    }
   ],
   "source": [
    "#由于单纯的移位操作不会修改索引，所以部分数据会被丢弃。\n",
    "#因此，如果频率已知，则可以将其传给shift以便实现对时间\n",
    "#戳进行位移而不是对数据进行简单位移\n",
    "ts.shift(2, freq='M')"
   ]
  },
  {
   "cell_type": "code",
   "execution_count": 67,
   "metadata": {},
   "outputs": [
    {
     "name": "stdout",
     "output_type": "stream",
     "text": [
      "2000-02-03   -0.012011\n",
      "2000-03-03    0.921009\n",
      "2000-04-03    0.220786\n",
      "2000-05-03    2.077673\n",
      "dtype: float64\n"
     ]
    },
    {
     "data": {
      "text/plain": [
       "2000-01-31 01:30:00   -0.012011\n",
       "2000-02-29 01:30:00    0.921009\n",
       "2000-03-31 01:30:00    0.220786\n",
       "2000-04-30 01:30:00    2.077673\n",
       "Freq: M, dtype: float64"
      ]
     },
     "execution_count": 67,
     "metadata": {},
     "output_type": "execute_result"
    }
   ],
   "source": [
    "#这里还可以使用其他频率，于是你就能非常灵活地对数据进行超前和滞后处理了\n",
    "print(ts.shift(3, freq='D'))\n",
    "\n",
    "ts.shift(1, freq='90T')"
   ]
  },
  {
   "cell_type": "markdown",
   "metadata": {},
   "source": [
    "#### 通过偏移量对日期进行位移"
   ]
  },
  {
   "cell_type": "code",
   "execution_count": 68,
   "metadata": {},
   "outputs": [
    {
     "data": {
      "text/plain": [
       "Timestamp('2011-11-20 00:00:00')"
      ]
     },
     "execution_count": 68,
     "metadata": {},
     "output_type": "execute_result"
    }
   ],
   "source": [
    "#pandas的日期偏移量还可以用在datetime或Timestamp对象上\n",
    "from pandas.tseries.offsets import Day, MonthEnd\n",
    "\n",
    "now = datetime(2011, 11, 17)\n",
    "\n",
    "now + 3 * Day()"
   ]
  },
  {
   "cell_type": "code",
   "execution_count": 69,
   "metadata": {},
   "outputs": [
    {
     "name": "stdout",
     "output_type": "stream",
     "text": [
      "2011-11-30 00:00:00\n"
     ]
    },
    {
     "data": {
      "text/plain": [
       "Timestamp('2011-12-31 00:00:00')"
      ]
     },
     "execution_count": 69,
     "metadata": {},
     "output_type": "execute_result"
    }
   ],
   "source": [
    "#如果加的是锚点偏移量（比如MonthEnd）\n",
    "#，第一次增量会将原日期向前滚动到符合频率规则的下一个日期\n",
    "print(now + MonthEnd())\n",
    "\n",
    "now + MonthEnd(2)"
   ]
  },
  {
   "cell_type": "code",
   "execution_count": 70,
   "metadata": {},
   "outputs": [
    {
     "name": "stdout",
     "output_type": "stream",
     "text": [
      "2011-11-30 00:00:00\n",
      "2011-10-31 00:00:00\n"
     ]
    }
   ],
   "source": [
    "#通过锚点偏移量的rollforward和rollback方法，\n",
    "#可明确地将日期向前或向后“滚动”\n",
    "offset = MonthEnd()\n",
    "\n",
    "print(offset.rollforward(now))\n",
    "\n",
    "print(offset.rollback(now))"
   ]
  },
  {
   "cell_type": "code",
   "execution_count": 71,
   "metadata": {},
   "outputs": [
    {
     "name": "stdout",
     "output_type": "stream",
     "text": [
      "2000-01-15   -0.094565\n",
      "2000-01-19   -1.835206\n",
      "2000-01-23    1.765151\n",
      "2000-01-27    0.187591\n",
      "2000-01-31   -0.680474\n",
      "2000-02-04   -0.571294\n",
      "2000-02-08    0.061240\n",
      "2000-02-12    1.097122\n",
      "2000-02-16    0.027283\n",
      "2000-02-20   -0.950635\n",
      "2000-02-24    0.259812\n",
      "2000-02-28   -0.358216\n",
      "2000-03-03   -0.836609\n",
      "2000-03-07    0.122124\n",
      "2000-03-11    2.218644\n",
      "2000-03-15    0.837074\n",
      "2000-03-19    0.075851\n",
      "2000-03-23   -1.166614\n",
      "2000-03-27   -2.218385\n",
      "2000-03-31    0.495042\n",
      "Freq: 4D, dtype: float64\n"
     ]
    },
    {
     "data": {
      "text/plain": [
       "2000-01-31   -0.131500\n",
       "2000-02-29   -0.062098\n",
       "2000-03-31   -0.059109\n",
       "dtype: float64"
      ]
     },
     "execution_count": 71,
     "metadata": {},
     "output_type": "execute_result"
    }
   ],
   "source": [
    "#日期偏移量还有一个巧妙的用法，即结合groupby使用这两个“滚动”方法\n",
    "ts = pd.Series(np.random.randn(20),\n",
    "               index=pd.date_range('1/15/2000', periods=20, freq='4d'))\n",
    "print(ts)\n",
    "ts.groupby(offset.rollforward).mean()"
   ]
  },
  {
   "cell_type": "code",
   "execution_count": 72,
   "metadata": {},
   "outputs": [
    {
     "data": {
      "text/plain": [
       "2000-01-31   -0.131500\n",
       "2000-02-29   -0.062098\n",
       "2000-03-31   -0.059109\n",
       "Freq: M, dtype: float64"
      ]
     },
     "execution_count": 72,
     "metadata": {},
     "output_type": "execute_result"
    }
   ],
   "source": [
    "#当然，更简单、更快速地实现该功能的办法是使用resample\n",
    "ts.resample('M').mean()"
   ]
  },
  {
   "cell_type": "markdown",
   "metadata": {},
   "source": [
    "### 11.4 时区处理"
   ]
  },
  {
   "cell_type": "code",
   "execution_count": 74,
   "metadata": {},
   "outputs": [
    {
     "data": {
      "text/plain": [
       "['US/Eastern', 'US/Hawaii', 'US/Mountain', 'US/Pacific', 'UTC']"
      ]
     },
     "execution_count": 74,
     "metadata": {},
     "output_type": "execute_result"
    }
   ],
   "source": [
    "import pytz\n",
    "\n",
    "pytz.common_timezones[-5:]"
   ]
  },
  {
   "cell_type": "code",
   "execution_count": 75,
   "metadata": {},
   "outputs": [
    {
     "data": {
      "text/plain": [
       "<DstTzInfo 'America/New_York' LMT-1 day, 19:04:00 STD>"
      ]
     },
     "execution_count": 75,
     "metadata": {},
     "output_type": "execute_result"
    }
   ],
   "source": [
    "tz = pytz.timezone('America/New_York')\n",
    "\n",
    "tz"
   ]
  },
  {
   "cell_type": "markdown",
   "metadata": {},
   "source": [
    "#### 时区本地化和转换"
   ]
  },
  {
   "cell_type": "code",
   "execution_count": 76,
   "metadata": {},
   "outputs": [
    {
     "data": {
      "text/plain": [
       "2012-03-09 09:30:00    0.855309\n",
       "2012-03-10 09:30:00   -0.450124\n",
       "2012-03-11 09:30:00   -0.600115\n",
       "2012-03-12 09:30:00   -1.689504\n",
       "2012-03-13 09:30:00   -1.524979\n",
       "2012-03-14 09:30:00   -0.900068\n",
       "Freq: D, dtype: float64"
      ]
     },
     "execution_count": 76,
     "metadata": {},
     "output_type": "execute_result"
    }
   ],
   "source": [
    "#默认情况下，pandas中的时间序列是单纯（naive）的时区。\n",
    "#看看下面这个时间序列\n",
    "rng = pd.date_range('3/9/2012 9:30', periods=6, freq='D')\n",
    "ts = pd.Series(np.random.randn(len(rng)), index=rng)\n",
    "ts"
   ]
  },
  {
   "cell_type": "code",
   "execution_count": 77,
   "metadata": {},
   "outputs": [
    {
     "name": "stdout",
     "output_type": "stream",
     "text": [
      "None\n"
     ]
    }
   ],
   "source": [
    "print(ts.index.tz)"
   ]
  },
  {
   "cell_type": "code",
   "execution_count": 78,
   "metadata": {},
   "outputs": [
    {
     "data": {
      "text/plain": [
       "DatetimeIndex(['2012-03-09 09:30:00+00:00', '2012-03-10 09:30:00+00:00',\n",
       "               '2012-03-11 09:30:00+00:00', '2012-03-12 09:30:00+00:00',\n",
       "               '2012-03-13 09:30:00+00:00', '2012-03-14 09:30:00+00:00',\n",
       "               '2012-03-15 09:30:00+00:00', '2012-03-16 09:30:00+00:00',\n",
       "               '2012-03-17 09:30:00+00:00', '2012-03-18 09:30:00+00:00'],\n",
       "              dtype='datetime64[ns, UTC]', freq='D')"
      ]
     },
     "execution_count": 78,
     "metadata": {},
     "output_type": "execute_result"
    }
   ],
   "source": [
    "pd.date_range('3/9/2012 9:30', periods=10, freq='D', tz='UTC')\n"
   ]
  },
  {
   "cell_type": "code",
   "execution_count": 79,
   "metadata": {},
   "outputs": [
    {
     "name": "stdout",
     "output_type": "stream",
     "text": [
      "2012-03-09 09:30:00    0.855309\n",
      "2012-03-10 09:30:00   -0.450124\n",
      "2012-03-11 09:30:00   -0.600115\n",
      "2012-03-12 09:30:00   -1.689504\n",
      "2012-03-13 09:30:00   -1.524979\n",
      "2012-03-14 09:30:00   -0.900068\n",
      "Freq: D, dtype: float64\n",
      "2012-03-09 09:30:00+00:00    0.855309\n",
      "2012-03-10 09:30:00+00:00   -0.450124\n",
      "2012-03-11 09:30:00+00:00   -0.600115\n",
      "2012-03-12 09:30:00+00:00   -1.689504\n",
      "2012-03-13 09:30:00+00:00   -1.524979\n",
      "2012-03-14 09:30:00+00:00   -0.900068\n",
      "Freq: D, dtype: float64\n",
      "DatetimeIndex(['2012-03-09 09:30:00+00:00', '2012-03-10 09:30:00+00:00',\n",
      "               '2012-03-11 09:30:00+00:00', '2012-03-12 09:30:00+00:00',\n",
      "               '2012-03-13 09:30:00+00:00', '2012-03-14 09:30:00+00:00'],\n",
      "              dtype='datetime64[ns, UTC]', freq='D')\n"
     ]
    }
   ],
   "source": [
    "print(ts)\n",
    "ts_utc = ts.tz_localize('UTC')\n",
    "print(ts_utc)\n",
    "print(ts_utc.index)"
   ]
  },
  {
   "cell_type": "code",
   "execution_count": 80,
   "metadata": {},
   "outputs": [
    {
     "data": {
      "text/plain": [
       "2012-03-09 04:30:00-05:00    0.855309\n",
       "2012-03-10 04:30:00-05:00   -0.450124\n",
       "2012-03-11 05:30:00-04:00   -0.600115\n",
       "2012-03-12 05:30:00-04:00   -1.689504\n",
       "2012-03-13 05:30:00-04:00   -1.524979\n",
       "2012-03-14 05:30:00-04:00   -0.900068\n",
       "Freq: D, dtype: float64"
      ]
     },
     "execution_count": 80,
     "metadata": {},
     "output_type": "execute_result"
    }
   ],
   "source": [
    "#一旦时间序列被本地化到某个特定时区，\n",
    "#就可以用tz_convert将其转换到别的时区了\n",
    "ts_utc.tz_convert('America/New_York')"
   ]
  },
  {
   "cell_type": "code",
   "execution_count": 81,
   "metadata": {},
   "outputs": [
    {
     "name": "stdout",
     "output_type": "stream",
     "text": [
      "2012-03-09 14:30:00+00:00    0.855309\n",
      "2012-03-10 14:30:00+00:00   -0.450124\n",
      "2012-03-11 13:30:00+00:00   -0.600115\n",
      "2012-03-12 13:30:00+00:00   -1.689504\n",
      "2012-03-13 13:30:00+00:00   -1.524979\n",
      "2012-03-14 13:30:00+00:00   -0.900068\n",
      "Freq: D, dtype: float64\n"
     ]
    },
    {
     "data": {
      "text/plain": [
       "2012-03-09 15:30:00+01:00    0.855309\n",
       "2012-03-10 15:30:00+01:00   -0.450124\n",
       "2012-03-11 14:30:00+01:00   -0.600115\n",
       "2012-03-12 14:30:00+01:00   -1.689504\n",
       "2012-03-13 14:30:00+01:00   -1.524979\n",
       "2012-03-14 14:30:00+01:00   -0.900068\n",
       "Freq: D, dtype: float64"
      ]
     },
     "execution_count": 81,
     "metadata": {},
     "output_type": "execute_result"
    }
   ],
   "source": [
    "#对于上面这种时间序列（它跨越了美国东部时区的夏令时转变期），\n",
    "#我们可以将其本地化到EST，然后转换为UTC或柏林时间\n",
    "ts_eastern = ts.tz_localize('America/New_York')\n",
    "print(ts_eastern.tz_convert('UTC'))\n",
    "ts_eastern.tz_convert('Europe/Berlin')"
   ]
  },
  {
   "cell_type": "code",
   "execution_count": 82,
   "metadata": {},
   "outputs": [
    {
     "data": {
      "text/plain": [
       "DatetimeIndex(['2012-03-09 09:30:00+08:00', '2012-03-10 09:30:00+08:00',\n",
       "               '2012-03-11 09:30:00+08:00', '2012-03-12 09:30:00+08:00',\n",
       "               '2012-03-13 09:30:00+08:00', '2012-03-14 09:30:00+08:00'],\n",
       "              dtype='datetime64[ns, Asia/Shanghai]', freq='D')"
      ]
     },
     "execution_count": 82,
     "metadata": {},
     "output_type": "execute_result"
    }
   ],
   "source": [
    "ts.index.tz_localize('Asia/Shanghai')"
   ]
  },
  {
   "cell_type": "markdown",
   "metadata": {},
   "source": [
    "#### 操作时区意识型Timestamp对象"
   ]
  },
  {
   "cell_type": "code",
   "execution_count": 83,
   "metadata": {},
   "outputs": [
    {
     "data": {
      "text/plain": [
       "Timestamp('2011-03-11 23:00:00-0500', tz='America/New_York')"
      ]
     },
     "execution_count": 83,
     "metadata": {},
     "output_type": "execute_result"
    }
   ],
   "source": [
    "#跟时间序列和日期范围差不多，独立的Timestamp对象也能被从单纯\n",
    "#型（naive）本地化为时区意识型（time zone-aware），并从一个\n",
    "#时区转换到另一个时区\n",
    "stamp = pd.Timestamp('2011-03-12 04:00')\n",
    "stamp_utc = stamp.tz_localize('utc')\n",
    "stamp_utc.tz_convert('America/New_York')"
   ]
  },
  {
   "cell_type": "code",
   "execution_count": 84,
   "metadata": {},
   "outputs": [
    {
     "data": {
      "text/plain": [
       "Timestamp('2011-03-12 04:00:00+0300', tz='Europe/Moscow')"
      ]
     },
     "execution_count": 84,
     "metadata": {},
     "output_type": "execute_result"
    }
   ],
   "source": [
    "#在创建Timestamp时，还可以传入一个时区信息\n",
    "stamp_moscow = pd.Timestamp('2011-03-12 04:00', tz='Europe/Moscow')\n",
    "stamp_moscow"
   ]
  },
  {
   "cell_type": "code",
   "execution_count": 85,
   "metadata": {},
   "outputs": [
    {
     "data": {
      "text/plain": [
       "1299902400000000000"
      ]
     },
     "execution_count": 85,
     "metadata": {},
     "output_type": "execute_result"
    }
   ],
   "source": [
    "#时区意识型Timestamp对象在内部保存了一个UTC时间戳值\n",
    "#（自UNIX纪元（1970年1月1日）算起的纳秒数）。这个UTC值在\n",
    "#时区转换过程中是不会发生变化的\n",
    "stamp_utc.value\n",
    "stamp_utc.tz_convert('America/New_York').value"
   ]
  },
  {
   "cell_type": "code",
   "execution_count": 86,
   "metadata": {},
   "outputs": [
    {
     "name": "stdout",
     "output_type": "stream",
     "text": [
      "2012-03-12 01:30:00-04:00\n"
     ]
    },
    {
     "data": {
      "text/plain": [
       "Timestamp('2012-03-12 02:30:00-0400', tz='US/Eastern')"
      ]
     },
     "execution_count": 86,
     "metadata": {},
     "output_type": "execute_result"
    }
   ],
   "source": [
    "#当使用pandas的DateOffset对象执行时间算术运算时，运算过程会\n",
    "#自动关注是否存在夏令时转变期。这里，我们创建了在DST转变之前的\n",
    "#时间戳。首先，来看夏令时转变前的30分钟\n",
    "from pandas.tseries.offsets import Hour\n",
    "stamp = pd.Timestamp('2012-03-12 01:30', tz='US/Eastern')\n",
    "print(stamp)\n",
    "stamp+Hour()"
   ]
  },
  {
   "cell_type": "code",
   "execution_count": 87,
   "metadata": {},
   "outputs": [
    {
     "name": "stdout",
     "output_type": "stream",
     "text": [
      "2012-11-04 00:30:00-04:00\n"
     ]
    },
    {
     "data": {
      "text/plain": [
       "Timestamp('2012-11-04 01:30:00-0500', tz='US/Eastern')"
      ]
     },
     "execution_count": 87,
     "metadata": {},
     "output_type": "execute_result"
    }
   ],
   "source": [
    "stamp = pd.Timestamp('2012-11-04 00:30', tz='US/Eastern')\n",
    "print(stamp)\n",
    "stamp+2*Hour()"
   ]
  },
  {
   "cell_type": "markdown",
   "metadata": {},
   "source": [
    "#### 不同时区之间的运算"
   ]
  },
  {
   "cell_type": "code",
   "execution_count": 88,
   "metadata": {},
   "outputs": [
    {
     "name": "stdout",
     "output_type": "stream",
     "text": [
      "2012-03-07 09:30:00    0.449086\n",
      "2012-03-08 09:30:00    0.616402\n",
      "2012-03-09 09:30:00   -1.262287\n",
      "2012-03-12 09:30:00    0.287144\n",
      "2012-03-13 09:30:00    0.493287\n",
      "2012-03-14 09:30:00   -0.324612\n",
      "2012-03-15 09:30:00   -0.239376\n",
      "2012-03-16 09:30:00   -1.361306\n",
      "2012-03-19 09:30:00   -0.097037\n",
      "2012-03-20 09:30:00    0.205789\n",
      "Freq: B, dtype: float64\n"
     ]
    },
    {
     "data": {
      "text/plain": [
       "DatetimeIndex(['2012-03-07 09:30:00+00:00', '2012-03-08 09:30:00+00:00',\n",
       "               '2012-03-09 09:30:00+00:00', '2012-03-12 09:30:00+00:00',\n",
       "               '2012-03-13 09:30:00+00:00', '2012-03-14 09:30:00+00:00',\n",
       "               '2012-03-15 09:30:00+00:00'],\n",
       "              dtype='datetime64[ns, UTC]', freq='B')"
      ]
     },
     "execution_count": 88,
     "metadata": {},
     "output_type": "execute_result"
    }
   ],
   "source": [
    "#如果两个时间序列的时区不同，在将它们合并到一起时，最终结果就会是UTC。\n",
    "#由于时间戳其实是以UTC存储的，所以这是一个很简单的运算，并不需要发生\n",
    "#任何转换\n",
    "rng = pd.date_range('3/7/2012 9:30', periods=10, freq='B')\n",
    "ts = pd.Series(np.random.randn(len(rng)), index=rng)\n",
    "print(ts)\n",
    "\n",
    "ts1 = ts[:7].tz_localize('Europe/London')\n",
    "ts2 = ts1[2:].tz_convert('Europe/Moscow')\n",
    "result = ts1 +ts2\n",
    "result.index"
   ]
  },
  {
   "cell_type": "markdown",
   "metadata": {},
   "source": [
    "### 11.5 时期及其算数运算\n",
    "时期（period）表示的是时间区间，比如数日、数月、数季、数年等。<br/>Period类所表示的就是这种数据类型，其构造函数需要用到一个<br/>字符串或整数，以及表11-4中的频率"
   ]
  },
  {
   "cell_type": "code",
   "execution_count": 89,
   "metadata": {},
   "outputs": [
    {
     "data": {
      "text/plain": [
       "Period('2007', 'A-DEC')"
      ]
     },
     "execution_count": 89,
     "metadata": {},
     "output_type": "execute_result"
    }
   ],
   "source": [
    "p = pd.Period(2007, freq='A-DEC')\n",
    "\n",
    "p"
   ]
  },
  {
   "cell_type": "code",
   "execution_count": 90,
   "metadata": {},
   "outputs": [
    {
     "name": "stdout",
     "output_type": "stream",
     "text": [
      "2012\n",
      "2005\n"
     ]
    }
   ],
   "source": [
    "#这里，这个Period对象表示的是从2007年1月1日到2007年12月31日之间\n",
    "#的整段时间。只需对Period对象加上或减去一个整数即可达到根据其频率\n",
    "#进行位移的效果\n",
    "print(p + 5)\n",
    "print(p - 2)"
   ]
  },
  {
   "cell_type": "code",
   "execution_count": 91,
   "metadata": {},
   "outputs": [
    {
     "data": {
      "text/plain": [
       "7"
      ]
     },
     "execution_count": 91,
     "metadata": {},
     "output_type": "execute_result"
    }
   ],
   "source": [
    "#如果两个Period对象拥有相同的频率，则它们的差就是它们之间的单位数量\n",
    "pd.Period('2014', freq='A-DEC') - p"
   ]
  },
  {
   "cell_type": "code",
   "execution_count": 92,
   "metadata": {},
   "outputs": [
    {
     "data": {
      "text/plain": [
       "PeriodIndex(['2000-01', '2000-02', '2000-03', '2000-04', '2000-05', '2000-06'], dtype='period[M]', freq='M')"
      ]
     },
     "execution_count": 92,
     "metadata": {},
     "output_type": "execute_result"
    }
   ],
   "source": [
    "#period_range函数可用于创建规则的时期范围\n",
    "rng = pd.period_range('2000-01-01', '2000-06-30', freq='M')\n",
    "rng"
   ]
  },
  {
   "cell_type": "code",
   "execution_count": 93,
   "metadata": {},
   "outputs": [
    {
     "data": {
      "text/plain": [
       "2000-01    1.197440\n",
       "2000-02    1.300641\n",
       "2000-03   -0.458536\n",
       "2000-04    0.277274\n",
       "2000-05   -0.968573\n",
       "2000-06    0.095032\n",
       "Freq: M, dtype: float64"
      ]
     },
     "execution_count": 93,
     "metadata": {},
     "output_type": "execute_result"
    }
   ],
   "source": [
    "#PeriodIndex类保存了一组Period，\n",
    "#它可以在任何pandas数据结构中被用作轴索引\n",
    "pd.Series(np.random.randn(6), index=rng)"
   ]
  },
  {
   "cell_type": "code",
   "execution_count": 94,
   "metadata": {},
   "outputs": [
    {
     "data": {
      "text/plain": [
       "PeriodIndex(['2001Q3', '2002Q2', '2003Q1'], dtype='period[Q-DEC]', freq='Q-DEC')"
      ]
     },
     "execution_count": 94,
     "metadata": {},
     "output_type": "execute_result"
    }
   ],
   "source": [
    "#如果你有一个字符串数组，你也可以使用PeriodIndex类\n",
    "values = ['2001Q3', '2002Q2', '2003Q1']\n",
    "index = pd.PeriodIndex(values, freq='Q-DEC')\n",
    "index"
   ]
  },
  {
   "cell_type": "markdown",
   "metadata": {},
   "source": [
    "#### 时期的频率转换"
   ]
  },
  {
   "cell_type": "code",
   "execution_count": 95,
   "metadata": {},
   "outputs": [
    {
     "name": "stdout",
     "output_type": "stream",
     "text": [
      "2007\n",
      "2007-01\n",
      "2007-12\n"
     ]
    }
   ],
   "source": [
    "#Period和PeriodIndex对象都可以通过其asfreq方法被转换成别的频率。\n",
    "#假设我们有一个年度时期，希望将其转换为当年年初或年末的一个月度时期。\n",
    "#该任务非常简单\n",
    "p = pd.Period('2007', freq='A-DEC')\n",
    "print(p)\n",
    "print(p.asfreq('M', how='start'))\n",
    "print(p.asfreq('M', how='end'))"
   ]
  },
  {
   "cell_type": "code",
   "execution_count": 96,
   "metadata": {},
   "outputs": [
    {
     "name": "stdout",
     "output_type": "stream",
     "text": [
      "2007\n",
      "2006-07\n",
      "2007-06\n"
     ]
    }
   ],
   "source": [
    "#你可以将Period('2007','A-DEC')看做一个被划分为多个月度时期\n",
    "#的时间段中的游标。\n",
    "p = pd.Period('2007', freq='A-JUN')\n",
    "print(p)\n",
    "print(p.asfreq('M', 'start'))\n",
    "print(p.asfreq('M', 'end'))"
   ]
  },
  {
   "cell_type": "code",
   "execution_count": 97,
   "metadata": {},
   "outputs": [
    {
     "data": {
      "text/plain": [
       "Period('2008', 'A-JUN')"
      ]
     },
     "execution_count": 97,
     "metadata": {},
     "output_type": "execute_result"
    }
   ],
   "source": [
    "#在将高频率转换为低频率时，超时期（superperiod）是由子时期\n",
    "#（subperiod）所属的位置决定的。例如，在A-JUN频率中，\n",
    "#月份“2007年8月”实际上是属于周期“2008年”的\n",
    "p = pd.Period('Aug-2007', 'M')\n",
    "p.asfreq('A-JUN')"
   ]
  },
  {
   "cell_type": "code",
   "execution_count": 98,
   "metadata": {},
   "outputs": [
    {
     "name": "stdout",
     "output_type": "stream",
     "text": [
      "2006    0.243796\n",
      "2007   -0.107236\n",
      "2008   -1.404763\n",
      "2009   -0.380289\n",
      "Freq: A-DEC, dtype: float64\n"
     ]
    },
    {
     "data": {
      "text/plain": [
       "2006-01    0.243796\n",
       "2007-01   -0.107236\n",
       "2008-01   -1.404763\n",
       "2009-01   -0.380289\n",
       "Freq: M, dtype: float64"
      ]
     },
     "execution_count": 98,
     "metadata": {},
     "output_type": "execute_result"
    }
   ],
   "source": [
    "#完整的PeriodIndex或TimeSeries的频率转换方式也是如此\n",
    "rng = pd.period_range('2006', '2009', freq='A-DEC')\n",
    "ts = pd.Series(np.random.randn(len(rng)), index=rng)\n",
    "print(ts)\n",
    "ts.asfreq('M', how='start')"
   ]
  },
  {
   "cell_type": "code",
   "execution_count": 99,
   "metadata": {},
   "outputs": [
    {
     "data": {
      "text/plain": [
       "2006-12-29    0.243796\n",
       "2007-12-31   -0.107236\n",
       "2008-12-31   -1.404763\n",
       "2009-12-31   -0.380289\n",
       "Freq: B, dtype: float64"
      ]
     },
     "execution_count": 99,
     "metadata": {},
     "output_type": "execute_result"
    }
   ],
   "source": [
    "#这里，根据年度时期的第一个月，每年的时期被取代为每月的时期。\n",
    "#如果我们想要每年的最后一个工作日，我们可以使用“B”频率，并指明想要该时期的末尾\n",
    "ts.asfreq('B', how='end')"
   ]
  },
  {
   "cell_type": "markdown",
   "metadata": {},
   "source": [
    "#### 按季度计算的时期频率\n",
    "季度型数据在会计、金融等领域中很常见。许多季度型数据都会涉及“财年<br/>末”的概念，通常是一年12个月中某月的最后一个日历日或工作日。\n",
    "就这一点来说，时期\"2012Q4\"根据财年末的不同会有不同的含义。<br />pandas支持12种可能的季度型频率，即Q-JAN到Q-DEC"
   ]
  },
  {
   "cell_type": "code",
   "execution_count": 100,
   "metadata": {},
   "outputs": [
    {
     "data": {
      "text/plain": [
       "Period('2012Q4', 'Q-JAN')"
      ]
     },
     "execution_count": 100,
     "metadata": {},
     "output_type": "execute_result"
    }
   ],
   "source": [
    "p = pd.Period('2012Q4', freq='Q-JAN')\n",
    "p"
   ]
  },
  {
   "cell_type": "code",
   "execution_count": 101,
   "metadata": {},
   "outputs": [
    {
     "name": "stdout",
     "output_type": "stream",
     "text": [
      "2011-11-01\n",
      "2012-01-31\n"
     ]
    }
   ],
   "source": [
    "#在以1月结束的财年中，2012Q4是从11月到1月\n",
    "#（将其转换为日型频率就明白了）\n",
    "print(p.asfreq('D', 'start'))\n",
    "print(p.asfreq('D', 'end'))"
   ]
  },
  {
   "cell_type": "code",
   "execution_count": 102,
   "metadata": {},
   "outputs": [
    {
     "name": "stdout",
     "output_type": "stream",
     "text": [
      "2012-01-30 16:00\n"
     ]
    },
    {
     "data": {
      "text/plain": [
       "Timestamp('2012-01-30 16:00:00')"
      ]
     },
     "execution_count": 102,
     "metadata": {},
     "output_type": "execute_result"
    }
   ],
   "source": [
    "#因此，Period之间的算术运算会非常简单。\n",
    "#例如，要获取该季度倒数第二个工作日下午4点的时间戳，你可以这样\n",
    "p4pm = (p.asfreq('B', 'e') - 1).asfreq('T', 's') + 16 * 60\n",
    "print(p4pm)\n",
    "p4pm.to_timestamp()"
   ]
  },
  {
   "cell_type": "code",
   "execution_count": 103,
   "metadata": {},
   "outputs": [
    {
     "name": "stdout",
     "output_type": "stream",
     "text": [
      "2011Q3    0\n",
      "2011Q4    1\n",
      "2012Q1    2\n",
      "2012Q2    3\n",
      "2012Q3    4\n",
      "2012Q4    5\n",
      "Freq: Q-JAN, dtype: int64\n"
     ]
    },
    {
     "data": {
      "text/plain": [
       "2010-10-28 16:00:00    0\n",
       "2011-01-28 16:00:00    1\n",
       "2011-04-28 16:00:00    2\n",
       "2011-07-28 16:00:00    3\n",
       "2011-10-28 16:00:00    4\n",
       "2012-01-30 16:00:00    5\n",
       "dtype: int64"
      ]
     },
     "execution_count": 103,
     "metadata": {},
     "output_type": "execute_result"
    }
   ],
   "source": [
    "#period_range可用于生成季度型范围。\n",
    "#季度型范围的算术运算也跟上面是一样的\n",
    "rng = pd.period_range('2011Q3', '2012Q4', freq='Q-JAN')\n",
    "ts = pd.Series(np.arange(len(rng)), index=rng)\n",
    "print(ts)\n",
    "\n",
    "new_rng = (rng.asfreq('B', 'e') - 1).asfreq('T', 's') + 16 * 60\n",
    "ts.index = new_rng.to_timestamp()\n",
    "ts"
   ]
  },
  {
   "cell_type": "markdown",
   "metadata": {},
   "source": [
    "#### 将Timestamp转换为Period（及其反向过程）"
   ]
  },
  {
   "cell_type": "code",
   "execution_count": 104,
   "metadata": {},
   "outputs": [
    {
     "name": "stdout",
     "output_type": "stream",
     "text": [
      "2000-01-31    0.467888\n",
      "2000-02-29    2.329749\n",
      "2000-03-31   -0.767399\n",
      "Freq: M, dtype: float64\n"
     ]
    },
    {
     "data": {
      "text/plain": [
       "2000-01    0.467888\n",
       "2000-02    2.329749\n",
       "2000-03   -0.767399\n",
       "Freq: M, dtype: float64"
      ]
     },
     "execution_count": 104,
     "metadata": {},
     "output_type": "execute_result"
    }
   ],
   "source": [
    "#通过使用to_period方法，可以将由时间戳索引的Series和DataFrame对象转换\n",
    "#为以时期索引\n",
    "rng = pd.date_range('2000-01-01', periods=3, freq='M')\n",
    "ts = pd.Series(np.random.randn(3), index=rng)\n",
    "print(ts)\n",
    "pts = ts.to_period()\n",
    "pts"
   ]
  },
  {
   "cell_type": "code",
   "execution_count": 105,
   "metadata": {},
   "outputs": [
    {
     "name": "stdout",
     "output_type": "stream",
     "text": [
      "2000-01-29   -1.322982\n",
      "2000-01-30    0.967862\n",
      "2000-01-31   -0.222105\n",
      "2000-02-01   -0.302882\n",
      "2000-02-02   -0.695805\n",
      "2000-02-03    0.291144\n",
      "Freq: D, dtype: float64\n"
     ]
    },
    {
     "data": {
      "text/plain": [
       "2000-01   -1.322982\n",
       "2000-01    0.967862\n",
       "2000-01   -0.222105\n",
       "2000-02   -0.302882\n",
       "2000-02   -0.695805\n",
       "2000-02    0.291144\n",
       "Freq: M, dtype: float64"
      ]
     },
     "execution_count": 105,
     "metadata": {},
     "output_type": "execute_result"
    }
   ],
   "source": [
    "#由于时期指的是非重叠时间区间，因此对于给定的频率，\n",
    "#一个时间戳只能属于一个时期。新PeriodIndex的频率默认是从时间\n",
    "#戳推断而来的，你也可以指定任何别的频率。结果中允许存在重复时期\n",
    "rng = pd.date_range('1/29/2000', periods=6, freq='D')\n",
    "\n",
    "ts2 = pd.Series(np.random.randn(6), index=rng)\n",
    "\n",
    "print(ts2)\n",
    "\n",
    "ts2.to_period('M')"
   ]
  },
  {
   "cell_type": "code",
   "execution_count": 107,
   "metadata": {},
   "outputs": [
    {
     "name": "stdout",
     "output_type": "stream",
     "text": [
      "2000-01-29   -1.322982\n",
      "2000-01-30    0.967862\n",
      "2000-01-31   -0.222105\n",
      "2000-02-01   -0.302882\n",
      "2000-02-02   -0.695805\n",
      "2000-02-03    0.291144\n",
      "Freq: D, dtype: float64\n"
     ]
    },
    {
     "data": {
      "text/plain": [
       "2000-01-29   -1.322982\n",
       "2000-01-30    0.967862\n",
       "2000-01-31   -0.222105\n",
       "2000-02-01   -0.302882\n",
       "2000-02-02   -0.695805\n",
       "2000-02-03    0.291144\n",
       "Freq: D, dtype: float64"
      ]
     },
     "execution_count": 107,
     "metadata": {},
     "output_type": "execute_result"
    }
   ],
   "source": [
    "#要转换回时间戳，使用to_timestamp即可\n",
    "pts = ts2.to_period()\n",
    "\n",
    "print(pts)\n",
    "\n",
    "pts.to_timestamp(how='end')"
   ]
  },
  {
   "cell_type": "markdown",
   "metadata": {},
   "source": [
    "#### 通过数组创建PeriodIndex\n",
    "固定频率的数据集通常会将时间信息分开存放在多个列中。<br/>\n",
    "例如，在下面这个宏观经济数据集中，年度和季度就分别存放在不同的列中"
   ]
  },
  {
   "cell_type": "code",
   "execution_count": 108,
   "metadata": {},
   "outputs": [
    {
     "name": "stdout",
     "output_type": "stream",
     "text": [
      "     year  quarter   realgdp  realcons  realinv  realgovt  realdpi    cpi  \\\n",
      "0  1959.0      1.0  2710.349    1707.4  286.898   470.045   1886.9  28.98   \n",
      "1  1959.0      2.0  2778.801    1733.7  310.859   481.301   1919.7  29.15   \n",
      "2  1959.0      3.0  2775.488    1751.8  289.226   491.260   1916.4  29.35   \n",
      "3  1959.0      4.0  2785.204    1753.7  299.356   484.052   1931.3  29.37   \n",
      "4  1960.0      1.0  2847.699    1770.5  331.722   462.199   1955.5  29.54   \n",
      "\n",
      "      m1  tbilrate  unemp      pop  infl  realint  \n",
      "0  139.7      2.82    5.8  177.146  0.00     0.00  \n",
      "1  141.7      3.08    5.1  177.830  2.34     0.74  \n",
      "2  140.5      3.82    5.3  178.657  2.74     1.09  \n",
      "3  140.0      4.33    5.6  179.386  0.27     4.06  \n",
      "4  139.6      3.50    5.2  180.007  2.31     1.19  \n",
      "0      1959.0\n",
      "1      1959.0\n",
      "2      1959.0\n",
      "3      1959.0\n",
      "4      1960.0\n",
      "5      1960.0\n",
      "6      1960.0\n",
      "7      1960.0\n",
      "8      1961.0\n",
      "9      1961.0\n",
      "10     1961.0\n",
      "11     1961.0\n",
      "12     1962.0\n",
      "13     1962.0\n",
      "14     1962.0\n",
      "15     1962.0\n",
      "16     1963.0\n",
      "17     1963.0\n",
      "18     1963.0\n",
      "19     1963.0\n",
      "20     1964.0\n",
      "21     1964.0\n",
      "22     1964.0\n",
      "23     1964.0\n",
      "24     1965.0\n",
      "25     1965.0\n",
      "26     1965.0\n",
      "27     1965.0\n",
      "28     1966.0\n",
      "29     1966.0\n",
      "        ...  \n",
      "173    2002.0\n",
      "174    2002.0\n",
      "175    2002.0\n",
      "176    2003.0\n",
      "177    2003.0\n",
      "178    2003.0\n",
      "179    2003.0\n",
      "180    2004.0\n",
      "181    2004.0\n",
      "182    2004.0\n",
      "183    2004.0\n",
      "184    2005.0\n",
      "185    2005.0\n",
      "186    2005.0\n",
      "187    2005.0\n",
      "188    2006.0\n",
      "189    2006.0\n",
      "190    2006.0\n",
      "191    2006.0\n",
      "192    2007.0\n",
      "193    2007.0\n",
      "194    2007.0\n",
      "195    2007.0\n",
      "196    2008.0\n",
      "197    2008.0\n",
      "198    2008.0\n",
      "199    2008.0\n",
      "200    2009.0\n",
      "201    2009.0\n",
      "202    2009.0\n",
      "Name: year, Length: 203, dtype: float64\n",
      "0      1.0\n",
      "1      2.0\n",
      "2      3.0\n",
      "3      4.0\n",
      "4      1.0\n",
      "5      2.0\n",
      "6      3.0\n",
      "7      4.0\n",
      "8      1.0\n",
      "9      2.0\n",
      "10     3.0\n",
      "11     4.0\n",
      "12     1.0\n",
      "13     2.0\n",
      "14     3.0\n",
      "15     4.0\n",
      "16     1.0\n",
      "17     2.0\n",
      "18     3.0\n",
      "19     4.0\n",
      "20     1.0\n",
      "21     2.0\n",
      "22     3.0\n",
      "23     4.0\n",
      "24     1.0\n",
      "25     2.0\n",
      "26     3.0\n",
      "27     4.0\n",
      "28     1.0\n",
      "29     2.0\n",
      "      ... \n",
      "173    2.0\n",
      "174    3.0\n",
      "175    4.0\n",
      "176    1.0\n",
      "177    2.0\n",
      "178    3.0\n",
      "179    4.0\n",
      "180    1.0\n",
      "181    2.0\n",
      "182    3.0\n",
      "183    4.0\n",
      "184    1.0\n",
      "185    2.0\n",
      "186    3.0\n",
      "187    4.0\n",
      "188    1.0\n",
      "189    2.0\n",
      "190    3.0\n",
      "191    4.0\n",
      "192    1.0\n",
      "193    2.0\n",
      "194    3.0\n",
      "195    4.0\n",
      "196    1.0\n",
      "197    2.0\n",
      "198    3.0\n",
      "199    4.0\n",
      "200    1.0\n",
      "201    2.0\n",
      "202    3.0\n",
      "Name: quarter, Length: 203, dtype: float64\n"
     ]
    }
   ],
   "source": [
    "data = pd.read_csv('examples/macrodata.csv')\n",
    "\n",
    "print(data.head(5))\n",
    "\n",
    "print(data.year)\n",
    "\n",
    "print(data.quarter)\n"
   ]
  },
  {
   "cell_type": "code",
   "execution_count": 109,
   "metadata": {},
   "outputs": [
    {
     "data": {
      "text/plain": [
       "PeriodIndex(['1959Q1', '1959Q2', '1959Q3', '1959Q4', '1960Q1', '1960Q2',\n",
       "             '1960Q3', '1960Q4', '1961Q1', '1961Q2',\n",
       "             ...\n",
       "             '2007Q2', '2007Q3', '2007Q4', '2008Q1', '2008Q2', '2008Q3',\n",
       "             '2008Q4', '2009Q1', '2009Q2', '2009Q3'],\n",
       "            dtype='period[Q-DEC]', length=203, freq='Q-DEC')"
      ]
     },
     "execution_count": 109,
     "metadata": {},
     "output_type": "execute_result"
    }
   ],
   "source": [
    "#通过将这些数组以及一个频率传入PeriodIndex，\n",
    "#就可以将它们合并成DataFrame的一个索引\n",
    "index = pd.PeriodIndex(year=data.year, quarter=data.quarter,\n",
    "                       freq='Q-DEC')\n",
    "\n",
    "index"
   ]
  },
  {
   "cell_type": "code",
   "execution_count": 110,
   "metadata": {},
   "outputs": [
    {
     "data": {
      "text/plain": [
       "1959Q1    0.00\n",
       "1959Q2    2.34\n",
       "1959Q3    2.74\n",
       "1959Q4    0.27\n",
       "1960Q1    2.31\n",
       "1960Q2    0.14\n",
       "1960Q3    2.70\n",
       "1960Q4    1.21\n",
       "1961Q1   -0.40\n",
       "1961Q2    1.47\n",
       "1961Q3    0.80\n",
       "1961Q4    0.80\n",
       "1962Q1    2.26\n",
       "1962Q2    0.13\n",
       "1962Q3    2.11\n",
       "1962Q4    0.79\n",
       "1963Q1    0.53\n",
       "1963Q2    2.75\n",
       "1963Q3    0.78\n",
       "1963Q4    2.46\n",
       "1964Q1    0.13\n",
       "1964Q2    0.90\n",
       "1964Q3    1.29\n",
       "1964Q4    2.05\n",
       "1965Q1    1.28\n",
       "1965Q2    2.54\n",
       "1965Q3    0.89\n",
       "1965Q4    2.90\n",
       "1966Q1    4.99\n",
       "1966Q2    2.10\n",
       "          ... \n",
       "2002Q2    1.56\n",
       "2002Q3    2.66\n",
       "2002Q4    3.08\n",
       "2003Q1    1.31\n",
       "2003Q2    1.09\n",
       "2003Q3    2.60\n",
       "2003Q4    3.02\n",
       "2004Q1    2.35\n",
       "2004Q2    3.61\n",
       "2004Q3    3.58\n",
       "2004Q4    2.09\n",
       "2005Q1    4.15\n",
       "2005Q2    1.85\n",
       "2005Q3    9.14\n",
       "2005Q4    0.40\n",
       "2006Q1    2.60\n",
       "2006Q2    3.97\n",
       "2006Q3   -1.58\n",
       "2006Q4    3.30\n",
       "2007Q1    4.58\n",
       "2007Q2    2.75\n",
       "2007Q3    3.45\n",
       "2007Q4    6.38\n",
       "2008Q1    2.82\n",
       "2008Q2    8.53\n",
       "2008Q3   -3.16\n",
       "2008Q4   -8.79\n",
       "2009Q1    0.94\n",
       "2009Q2    3.37\n",
       "2009Q3    3.56\n",
       "Freq: Q-DEC, Name: infl, Length: 203, dtype: float64"
      ]
     },
     "execution_count": 110,
     "metadata": {},
     "output_type": "execute_result"
    }
   ],
   "source": [
    "data.index = index\n",
    "\n",
    "data.infl"
   ]
  },
  {
   "cell_type": "markdown",
   "metadata": {},
   "source": [
    "### 11.6 重采样及频率转换\n",
    "重采样（resampling）指的是将时间序列从一个频率转换到另一个频率<br/>的处理过程。将高频率数据聚合到低频率称为降采样<br/>（downsampling），而将低频率数据转换到高频率则称为升采样<br/>（upsampling）。并不是所有的重采样都能被划分到这两个大类中。<br/>例如，将W-WED（每周三）转换为W-FRI既不是降采样也不是升采样"
   ]
  },
  {
   "cell_type": "code",
   "execution_count": 111,
   "metadata": {},
   "outputs": [
    {
     "name": "stdout",
     "output_type": "stream",
     "text": [
      "2000-01-01   -0.536279\n",
      "2000-01-02    0.410834\n",
      "2000-01-03   -0.445233\n",
      "2000-01-04   -0.486858\n",
      "2000-01-05    1.150901\n",
      "2000-01-06    0.867141\n",
      "2000-01-07   -0.469346\n",
      "2000-01-08   -0.454937\n",
      "2000-01-09    1.202657\n",
      "2000-01-10    1.192396\n",
      "2000-01-11    0.422508\n",
      "2000-01-12    0.430507\n",
      "2000-01-13    0.100297\n",
      "2000-01-14    0.935103\n",
      "2000-01-15   -0.428412\n",
      "2000-01-16    0.342369\n",
      "2000-01-17   -0.629025\n",
      "2000-01-18   -2.134723\n",
      "2000-01-19    1.439643\n",
      "2000-01-20   -0.716543\n",
      "2000-01-21   -1.327908\n",
      "2000-01-22   -0.035384\n",
      "2000-01-23    0.741481\n",
      "2000-01-24   -1.345660\n",
      "2000-01-25    1.336838\n",
      "2000-01-26   -0.311095\n",
      "2000-01-27   -1.282048\n",
      "2000-01-28   -0.564690\n",
      "2000-01-29   -0.885918\n",
      "2000-01-30    0.370331\n",
      "                ...   \n",
      "2000-03-11    2.177407\n",
      "2000-03-12    1.018033\n",
      "2000-03-13    0.758339\n",
      "2000-03-14    1.929953\n",
      "2000-03-15    0.648688\n",
      "2000-03-16   -1.367605\n",
      "2000-03-17    0.258108\n",
      "2000-03-18    0.685376\n",
      "2000-03-19    1.101585\n",
      "2000-03-20   -0.160887\n",
      "2000-03-21    1.815267\n",
      "2000-03-22   -0.674339\n",
      "2000-03-23   -0.514069\n",
      "2000-03-24    0.419890\n",
      "2000-03-25    0.054274\n",
      "2000-03-26    0.862409\n",
      "2000-03-27   -0.268323\n",
      "2000-03-28    1.495237\n",
      "2000-03-29    0.589059\n",
      "2000-03-30    1.540772\n",
      "2000-03-31   -2.030806\n",
      "2000-04-01   -0.717535\n",
      "2000-04-02    0.285390\n",
      "2000-04-03    0.197794\n",
      "2000-04-04   -0.931306\n",
      "2000-04-05   -0.704476\n",
      "2000-04-06   -0.293618\n",
      "2000-04-07    0.182297\n",
      "2000-04-08   -1.698278\n",
      "2000-04-09   -0.154369\n",
      "Freq: D, Length: 100, dtype: float64\n",
      "2000-01-31   -0.013266\n",
      "2000-02-29   -0.031856\n",
      "2000-03-31    0.253857\n",
      "2000-04-30   -0.426011\n",
      "Freq: M, dtype: float64\n",
      "2000-01   -0.013266\n",
      "2000-02   -0.031856\n",
      "2000-03    0.253857\n",
      "2000-04   -0.426011\n",
      "Freq: M, dtype: float64\n"
     ]
    }
   ],
   "source": [
    "#pandas对象都带有一个resample方法，它是各种频率转换工作的主力函数。\n",
    "#resample有一个类似于groupby的API，调用resample可以分组数据，\n",
    "#然后会调用一个聚合函数\n",
    "rng = pd.date_range('2000-01-01', periods=100, freq='D')\n",
    "\n",
    "ts = pd.Series(np.random.randn(len(rng)), index=rng)\n",
    "\n",
    "print(ts)\n",
    "\n",
    "print(ts.resample('M').mean())\n",
    "print(ts.resample('M', kind='period').mean())"
   ]
  },
  {
   "cell_type": "markdown",
   "metadata": {},
   "source": [
    "#### 降采样\n",
    "将数据聚合到规律的低频率是一件非常普通的时间序列处理任务。待聚合<br/>的数据不必拥有固定的频率，期望的频率会自动定义聚合的面元边界，<br/>这些面元用于将时间序列拆分为多个片段。例如，要转换到月度频率<br/>（'M'或'BM'），数据需要被划分到多个单月时间段中。各时间段都是<br/>半开放的。一个数据点只能属于一个时间段，所有时间段的并集必须能<br/>组成整个时间帧。在用resample对数据进行降采样时，需要考虑两样<br/>东西：\n",
    "<br/>各区间哪边是闭合的。\n",
    "<br/>如何标记各个聚合面元，用区间的开头还是末尾。"
   ]
  },
  {
   "cell_type": "code",
   "execution_count": 112,
   "metadata": {},
   "outputs": [
    {
     "data": {
      "text/plain": [
       "2000-01-01 00:00:00     0\n",
       "2000-01-01 00:01:00     1\n",
       "2000-01-01 00:02:00     2\n",
       "2000-01-01 00:03:00     3\n",
       "2000-01-01 00:04:00     4\n",
       "2000-01-01 00:05:00     5\n",
       "2000-01-01 00:06:00     6\n",
       "2000-01-01 00:07:00     7\n",
       "2000-01-01 00:08:00     8\n",
       "2000-01-01 00:09:00     9\n",
       "2000-01-01 00:10:00    10\n",
       "2000-01-01 00:11:00    11\n",
       "Freq: T, dtype: int64"
      ]
     },
     "execution_count": 112,
     "metadata": {},
     "output_type": "execute_result"
    }
   ],
   "source": [
    "rng = pd.date_range('2000-01-01', periods=12, freq='T')\n",
    "ts = pd.Series(np.arange(12), index=rng)\n",
    "ts\n",
    "\n",
    "#传入的频率将会以“5分钟”的增量定义面元边界。默认情况下，\n",
    "#面元的右边界是包含的，因此00:00到00:05的区间中是包含00:05的。\n",
    "#传入closed='left'会让区间以左边界闭合"
   ]
  },
  {
   "cell_type": "code",
   "execution_count": 113,
   "metadata": {},
   "outputs": [
    {
     "data": {
      "text/plain": [
       "1999-12-31 23:55:00     0\n",
       "2000-01-01 00:00:00    15\n",
       "2000-01-01 00:05:00    40\n",
       "2000-01-01 00:10:00    11\n",
       "Freq: 5T, dtype: int64"
      ]
     },
     "execution_count": 113,
     "metadata": {},
     "output_type": "execute_result"
    }
   ],
   "source": [
    "ts.resample('5min', closed='right').sum()"
   ]
  },
  {
   "cell_type": "code",
   "execution_count": 114,
   "metadata": {},
   "outputs": [
    {
     "data": {
      "text/plain": [
       "2000-01-01 00:00:00    10\n",
       "2000-01-01 00:05:00    35\n",
       "2000-01-01 00:10:00    21\n",
       "Freq: 5T, dtype: int64"
      ]
     },
     "execution_count": 114,
     "metadata": {},
     "output_type": "execute_result"
    }
   ],
   "source": [
    "ts.resample('5min', closed='left').sum()"
   ]
  },
  {
   "cell_type": "code",
   "execution_count": 115,
   "metadata": {},
   "outputs": [
    {
     "data": {
      "text/plain": [
       "2000-01-01 00:00:00     0\n",
       "2000-01-01 00:05:00    15\n",
       "2000-01-01 00:10:00    40\n",
       "2000-01-01 00:15:00    11\n",
       "Freq: 5T, dtype: int64"
      ]
     },
     "execution_count": 115,
     "metadata": {},
     "output_type": "execute_result"
    }
   ],
   "source": [
    "#如你所见，最终的时间序列是以各面元右边界的时间戳进行标记的。\n",
    "#传入label='right'即可用面元的邮编界对其进行标记\n",
    "ts.resample('5min', closed='right', label='right').sum()"
   ]
  },
  {
   "cell_type": "code",
   "execution_count": 116,
   "metadata": {},
   "outputs": [
    {
     "data": {
      "text/plain": [
       "1999-12-31 23:59:59     0\n",
       "2000-01-01 00:04:59    15\n",
       "2000-01-01 00:09:59    40\n",
       "2000-01-01 00:14:59    11\n",
       "Freq: 5T, dtype: int64"
      ]
     },
     "execution_count": 116,
     "metadata": {},
     "output_type": "execute_result"
    }
   ],
   "source": [
    "#最后，你可能希望对结果索引做一些位移，比如从右边界减去一秒以便\n",
    "#更容易明白该时间戳到底表示的是哪个区间。只需通过loffset设置一个\n",
    "#字符串或日期偏移量即可实现这个目的\n",
    "ts.resample('5min', closed='right',\n",
    "            label='right', loffset='-1s').sum()"
   ]
  },
  {
   "cell_type": "code",
   "execution_count": 117,
   "metadata": {},
   "outputs": [
    {
     "data": {
      "text/plain": [
       "1999-12-31 23:59:59     0\n",
       "2000-01-01 00:04:59    15\n",
       "2000-01-01 00:09:59    40\n",
       "2000-01-01 00:14:59    11\n",
       "Freq: 5T, dtype: int64"
      ]
     },
     "execution_count": 117,
     "metadata": {},
     "output_type": "execute_result"
    }
   ],
   "source": [
    "ts.resample('5min', closed='right',\n",
    "            label='right', loffset='-1s').sum()"
   ]
  },
  {
   "cell_type": "markdown",
   "metadata": {},
   "source": [
    "#### OHLC重采样\n",
    "金融领域中有一种无所不在的时间序列聚合方式，即计算各面元的四个值：<br/>第一个值（open，开盘）、最后一个值（close，收盘）、最大值<br/>（high，最高）以及最小值（low，最低）。传入how='ohlc'即可得<br/>到一个含有这四种聚合值的DataFrame。整个过程很高效，只需一次扫<br/>描即可计算出结果"
   ]
  },
  {
   "cell_type": "code",
   "execution_count": 118,
   "metadata": {},
   "outputs": [
    {
     "data": {
      "text/html": [
       "<div>\n",
       "<style>\n",
       "    .dataframe thead tr:only-child th {\n",
       "        text-align: right;\n",
       "    }\n",
       "\n",
       "    .dataframe thead th {\n",
       "        text-align: left;\n",
       "    }\n",
       "\n",
       "    .dataframe tbody tr th {\n",
       "        vertical-align: top;\n",
       "    }\n",
       "</style>\n",
       "<table border=\"1\" class=\"dataframe\">\n",
       "  <thead>\n",
       "    <tr style=\"text-align: right;\">\n",
       "      <th></th>\n",
       "      <th>open</th>\n",
       "      <th>high</th>\n",
       "      <th>low</th>\n",
       "      <th>close</th>\n",
       "    </tr>\n",
       "  </thead>\n",
       "  <tbody>\n",
       "    <tr>\n",
       "      <th>2000-01-01 00:00:00</th>\n",
       "      <td>0</td>\n",
       "      <td>4</td>\n",
       "      <td>0</td>\n",
       "      <td>4</td>\n",
       "    </tr>\n",
       "    <tr>\n",
       "      <th>2000-01-01 00:05:00</th>\n",
       "      <td>5</td>\n",
       "      <td>9</td>\n",
       "      <td>5</td>\n",
       "      <td>9</td>\n",
       "    </tr>\n",
       "    <tr>\n",
       "      <th>2000-01-01 00:10:00</th>\n",
       "      <td>10</td>\n",
       "      <td>11</td>\n",
       "      <td>10</td>\n",
       "      <td>11</td>\n",
       "    </tr>\n",
       "  </tbody>\n",
       "</table>\n",
       "</div>"
      ],
      "text/plain": [
       "                     open  high  low  close\n",
       "2000-01-01 00:00:00     0     4    0      4\n",
       "2000-01-01 00:05:00     5     9    5      9\n",
       "2000-01-01 00:10:00    10    11   10     11"
      ]
     },
     "execution_count": 118,
     "metadata": {},
     "output_type": "execute_result"
    }
   ],
   "source": [
    "ts.resample('5min').ohlc()"
   ]
  },
  {
   "cell_type": "markdown",
   "metadata": {},
   "source": [
    "#### 升采样和插值"
   ]
  },
  {
   "cell_type": "code",
   "execution_count": 119,
   "metadata": {},
   "outputs": [
    {
     "data": {
      "text/html": [
       "<div>\n",
       "<style>\n",
       "    .dataframe thead tr:only-child th {\n",
       "        text-align: right;\n",
       "    }\n",
       "\n",
       "    .dataframe thead th {\n",
       "        text-align: left;\n",
       "    }\n",
       "\n",
       "    .dataframe tbody tr th {\n",
       "        vertical-align: top;\n",
       "    }\n",
       "</style>\n",
       "<table border=\"1\" class=\"dataframe\">\n",
       "  <thead>\n",
       "    <tr style=\"text-align: right;\">\n",
       "      <th></th>\n",
       "      <th>Colorado</th>\n",
       "      <th>Texas</th>\n",
       "      <th>New York</th>\n",
       "      <th>Ohio</th>\n",
       "    </tr>\n",
       "  </thead>\n",
       "  <tbody>\n",
       "    <tr>\n",
       "      <th>2000-01-05</th>\n",
       "      <td>0.339006</td>\n",
       "      <td>-0.679871</td>\n",
       "      <td>-0.745304</td>\n",
       "      <td>0.993155</td>\n",
       "    </tr>\n",
       "    <tr>\n",
       "      <th>2000-01-12</th>\n",
       "      <td>0.121356</td>\n",
       "      <td>-0.275438</td>\n",
       "      <td>-0.287654</td>\n",
       "      <td>-0.641007</td>\n",
       "    </tr>\n",
       "  </tbody>\n",
       "</table>\n",
       "</div>"
      ],
      "text/plain": [
       "            Colorado     Texas  New York      Ohio\n",
       "2000-01-05  0.339006 -0.679871 -0.745304  0.993155\n",
       "2000-01-12  0.121356 -0.275438 -0.287654 -0.641007"
      ]
     },
     "execution_count": 119,
     "metadata": {},
     "output_type": "execute_result"
    }
   ],
   "source": [
    "#在将数据从低频率转换到高频率时，就不需要聚合了。\n",
    "#我们来看一个带有一些周型数据的DataFrame\n",
    "frame = pd.DataFrame(np.random.randn(2, 4),\n",
    "                      index=pd.date_range('1/1/2000', periods=2,\n",
    "                                          freq='W-WED'),\n",
    "                      columns=['Colorado', 'Texas', 'New York', 'Ohio'])\n",
    "frame"
   ]
  },
  {
   "cell_type": "code",
   "execution_count": 120,
   "metadata": {},
   "outputs": [
    {
     "data": {
      "text/html": [
       "<div>\n",
       "<style>\n",
       "    .dataframe thead tr:only-child th {\n",
       "        text-align: right;\n",
       "    }\n",
       "\n",
       "    .dataframe thead th {\n",
       "        text-align: left;\n",
       "    }\n",
       "\n",
       "    .dataframe tbody tr th {\n",
       "        vertical-align: top;\n",
       "    }\n",
       "</style>\n",
       "<table border=\"1\" class=\"dataframe\">\n",
       "  <thead>\n",
       "    <tr style=\"text-align: right;\">\n",
       "      <th></th>\n",
       "      <th>Colorado</th>\n",
       "      <th>Texas</th>\n",
       "      <th>New York</th>\n",
       "      <th>Ohio</th>\n",
       "    </tr>\n",
       "  </thead>\n",
       "  <tbody>\n",
       "    <tr>\n",
       "      <th>2000-01-05</th>\n",
       "      <td>0.339006</td>\n",
       "      <td>-0.679871</td>\n",
       "      <td>-0.745304</td>\n",
       "      <td>0.993155</td>\n",
       "    </tr>\n",
       "    <tr>\n",
       "      <th>2000-01-06</th>\n",
       "      <td>NaN</td>\n",
       "      <td>NaN</td>\n",
       "      <td>NaN</td>\n",
       "      <td>NaN</td>\n",
       "    </tr>\n",
       "    <tr>\n",
       "      <th>2000-01-07</th>\n",
       "      <td>NaN</td>\n",
       "      <td>NaN</td>\n",
       "      <td>NaN</td>\n",
       "      <td>NaN</td>\n",
       "    </tr>\n",
       "    <tr>\n",
       "      <th>2000-01-08</th>\n",
       "      <td>NaN</td>\n",
       "      <td>NaN</td>\n",
       "      <td>NaN</td>\n",
       "      <td>NaN</td>\n",
       "    </tr>\n",
       "    <tr>\n",
       "      <th>2000-01-09</th>\n",
       "      <td>NaN</td>\n",
       "      <td>NaN</td>\n",
       "      <td>NaN</td>\n",
       "      <td>NaN</td>\n",
       "    </tr>\n",
       "    <tr>\n",
       "      <th>2000-01-10</th>\n",
       "      <td>NaN</td>\n",
       "      <td>NaN</td>\n",
       "      <td>NaN</td>\n",
       "      <td>NaN</td>\n",
       "    </tr>\n",
       "    <tr>\n",
       "      <th>2000-01-11</th>\n",
       "      <td>NaN</td>\n",
       "      <td>NaN</td>\n",
       "      <td>NaN</td>\n",
       "      <td>NaN</td>\n",
       "    </tr>\n",
       "    <tr>\n",
       "      <th>2000-01-12</th>\n",
       "      <td>0.121356</td>\n",
       "      <td>-0.275438</td>\n",
       "      <td>-0.287654</td>\n",
       "      <td>-0.641007</td>\n",
       "    </tr>\n",
       "  </tbody>\n",
       "</table>\n",
       "</div>"
      ],
      "text/plain": [
       "            Colorado     Texas  New York      Ohio\n",
       "2000-01-05  0.339006 -0.679871 -0.745304  0.993155\n",
       "2000-01-06       NaN       NaN       NaN       NaN\n",
       "2000-01-07       NaN       NaN       NaN       NaN\n",
       "2000-01-08       NaN       NaN       NaN       NaN\n",
       "2000-01-09       NaN       NaN       NaN       NaN\n",
       "2000-01-10       NaN       NaN       NaN       NaN\n",
       "2000-01-11       NaN       NaN       NaN       NaN\n",
       "2000-01-12  0.121356 -0.275438 -0.287654 -0.641007"
      ]
     },
     "execution_count": 120,
     "metadata": {},
     "output_type": "execute_result"
    }
   ],
   "source": [
    "#当你对这个数据进行聚合，每组只有一个值，这样就会引入缺失值。\n",
    "#我们使用asfreq方法转换成高频，不经过聚合\n",
    "df_daily = frame.resample('D').asfreq()\n",
    "\n",
    "df_daily"
   ]
  },
  {
   "cell_type": "code",
   "execution_count": 121,
   "metadata": {},
   "outputs": [
    {
     "data": {
      "text/html": [
       "<div>\n",
       "<style>\n",
       "    .dataframe thead tr:only-child th {\n",
       "        text-align: right;\n",
       "    }\n",
       "\n",
       "    .dataframe thead th {\n",
       "        text-align: left;\n",
       "    }\n",
       "\n",
       "    .dataframe tbody tr th {\n",
       "        vertical-align: top;\n",
       "    }\n",
       "</style>\n",
       "<table border=\"1\" class=\"dataframe\">\n",
       "  <thead>\n",
       "    <tr style=\"text-align: right;\">\n",
       "      <th></th>\n",
       "      <th>Colorado</th>\n",
       "      <th>Texas</th>\n",
       "      <th>New York</th>\n",
       "      <th>Ohio</th>\n",
       "    </tr>\n",
       "  </thead>\n",
       "  <tbody>\n",
       "    <tr>\n",
       "      <th>2000-01-05</th>\n",
       "      <td>0.339006</td>\n",
       "      <td>-0.679871</td>\n",
       "      <td>-0.745304</td>\n",
       "      <td>0.993155</td>\n",
       "    </tr>\n",
       "    <tr>\n",
       "      <th>2000-01-06</th>\n",
       "      <td>0.339006</td>\n",
       "      <td>-0.679871</td>\n",
       "      <td>-0.745304</td>\n",
       "      <td>0.993155</td>\n",
       "    </tr>\n",
       "    <tr>\n",
       "      <th>2000-01-07</th>\n",
       "      <td>0.339006</td>\n",
       "      <td>-0.679871</td>\n",
       "      <td>-0.745304</td>\n",
       "      <td>0.993155</td>\n",
       "    </tr>\n",
       "    <tr>\n",
       "      <th>2000-01-08</th>\n",
       "      <td>0.339006</td>\n",
       "      <td>-0.679871</td>\n",
       "      <td>-0.745304</td>\n",
       "      <td>0.993155</td>\n",
       "    </tr>\n",
       "    <tr>\n",
       "      <th>2000-01-09</th>\n",
       "      <td>0.339006</td>\n",
       "      <td>-0.679871</td>\n",
       "      <td>-0.745304</td>\n",
       "      <td>0.993155</td>\n",
       "    </tr>\n",
       "    <tr>\n",
       "      <th>2000-01-10</th>\n",
       "      <td>0.339006</td>\n",
       "      <td>-0.679871</td>\n",
       "      <td>-0.745304</td>\n",
       "      <td>0.993155</td>\n",
       "    </tr>\n",
       "    <tr>\n",
       "      <th>2000-01-11</th>\n",
       "      <td>0.339006</td>\n",
       "      <td>-0.679871</td>\n",
       "      <td>-0.745304</td>\n",
       "      <td>0.993155</td>\n",
       "    </tr>\n",
       "    <tr>\n",
       "      <th>2000-01-12</th>\n",
       "      <td>0.121356</td>\n",
       "      <td>-0.275438</td>\n",
       "      <td>-0.287654</td>\n",
       "      <td>-0.641007</td>\n",
       "    </tr>\n",
       "  </tbody>\n",
       "</table>\n",
       "</div>"
      ],
      "text/plain": [
       "            Colorado     Texas  New York      Ohio\n",
       "2000-01-05  0.339006 -0.679871 -0.745304  0.993155\n",
       "2000-01-06  0.339006 -0.679871 -0.745304  0.993155\n",
       "2000-01-07  0.339006 -0.679871 -0.745304  0.993155\n",
       "2000-01-08  0.339006 -0.679871 -0.745304  0.993155\n",
       "2000-01-09  0.339006 -0.679871 -0.745304  0.993155\n",
       "2000-01-10  0.339006 -0.679871 -0.745304  0.993155\n",
       "2000-01-11  0.339006 -0.679871 -0.745304  0.993155\n",
       "2000-01-12  0.121356 -0.275438 -0.287654 -0.641007"
      ]
     },
     "execution_count": 121,
     "metadata": {},
     "output_type": "execute_result"
    }
   ],
   "source": [
    "#假设你想要用前面的周型值填充“非星期三”。\n",
    "#resampling的填充和插值方式跟fillna和reindex的一样\n",
    "frame.resample('D').ffill()"
   ]
  },
  {
   "cell_type": "code",
   "execution_count": 122,
   "metadata": {},
   "outputs": [
    {
     "data": {
      "text/html": [
       "<div>\n",
       "<style>\n",
       "    .dataframe thead tr:only-child th {\n",
       "        text-align: right;\n",
       "    }\n",
       "\n",
       "    .dataframe thead th {\n",
       "        text-align: left;\n",
       "    }\n",
       "\n",
       "    .dataframe tbody tr th {\n",
       "        vertical-align: top;\n",
       "    }\n",
       "</style>\n",
       "<table border=\"1\" class=\"dataframe\">\n",
       "  <thead>\n",
       "    <tr style=\"text-align: right;\">\n",
       "      <th></th>\n",
       "      <th>Colorado</th>\n",
       "      <th>Texas</th>\n",
       "      <th>New York</th>\n",
       "      <th>Ohio</th>\n",
       "    </tr>\n",
       "  </thead>\n",
       "  <tbody>\n",
       "    <tr>\n",
       "      <th>2000-01-05</th>\n",
       "      <td>0.339006</td>\n",
       "      <td>-0.679871</td>\n",
       "      <td>-0.745304</td>\n",
       "      <td>0.993155</td>\n",
       "    </tr>\n",
       "    <tr>\n",
       "      <th>2000-01-06</th>\n",
       "      <td>0.339006</td>\n",
       "      <td>-0.679871</td>\n",
       "      <td>-0.745304</td>\n",
       "      <td>0.993155</td>\n",
       "    </tr>\n",
       "    <tr>\n",
       "      <th>2000-01-07</th>\n",
       "      <td>0.339006</td>\n",
       "      <td>-0.679871</td>\n",
       "      <td>-0.745304</td>\n",
       "      <td>0.993155</td>\n",
       "    </tr>\n",
       "    <tr>\n",
       "      <th>2000-01-08</th>\n",
       "      <td>NaN</td>\n",
       "      <td>NaN</td>\n",
       "      <td>NaN</td>\n",
       "      <td>NaN</td>\n",
       "    </tr>\n",
       "    <tr>\n",
       "      <th>2000-01-09</th>\n",
       "      <td>NaN</td>\n",
       "      <td>NaN</td>\n",
       "      <td>NaN</td>\n",
       "      <td>NaN</td>\n",
       "    </tr>\n",
       "    <tr>\n",
       "      <th>2000-01-10</th>\n",
       "      <td>NaN</td>\n",
       "      <td>NaN</td>\n",
       "      <td>NaN</td>\n",
       "      <td>NaN</td>\n",
       "    </tr>\n",
       "    <tr>\n",
       "      <th>2000-01-11</th>\n",
       "      <td>NaN</td>\n",
       "      <td>NaN</td>\n",
       "      <td>NaN</td>\n",
       "      <td>NaN</td>\n",
       "    </tr>\n",
       "    <tr>\n",
       "      <th>2000-01-12</th>\n",
       "      <td>0.121356</td>\n",
       "      <td>-0.275438</td>\n",
       "      <td>-0.287654</td>\n",
       "      <td>-0.641007</td>\n",
       "    </tr>\n",
       "  </tbody>\n",
       "</table>\n",
       "</div>"
      ],
      "text/plain": [
       "            Colorado     Texas  New York      Ohio\n",
       "2000-01-05  0.339006 -0.679871 -0.745304  0.993155\n",
       "2000-01-06  0.339006 -0.679871 -0.745304  0.993155\n",
       "2000-01-07  0.339006 -0.679871 -0.745304  0.993155\n",
       "2000-01-08       NaN       NaN       NaN       NaN\n",
       "2000-01-09       NaN       NaN       NaN       NaN\n",
       "2000-01-10       NaN       NaN       NaN       NaN\n",
       "2000-01-11       NaN       NaN       NaN       NaN\n",
       "2000-01-12  0.121356 -0.275438 -0.287654 -0.641007"
      ]
     },
     "execution_count": 122,
     "metadata": {},
     "output_type": "execute_result"
    }
   ],
   "source": [
    "#同样，这里也可以只填充指定的时期数（\n",
    "#目的是限制前面的观测值的持续使用距离）\n",
    "frame.resample('D').ffill(limit=2)"
   ]
  },
  {
   "cell_type": "code",
   "execution_count": 123,
   "metadata": {},
   "outputs": [
    {
     "data": {
      "text/html": [
       "<div>\n",
       "<style>\n",
       "    .dataframe thead tr:only-child th {\n",
       "        text-align: right;\n",
       "    }\n",
       "\n",
       "    .dataframe thead th {\n",
       "        text-align: left;\n",
       "    }\n",
       "\n",
       "    .dataframe tbody tr th {\n",
       "        vertical-align: top;\n",
       "    }\n",
       "</style>\n",
       "<table border=\"1\" class=\"dataframe\">\n",
       "  <thead>\n",
       "    <tr style=\"text-align: right;\">\n",
       "      <th></th>\n",
       "      <th>Colorado</th>\n",
       "      <th>Texas</th>\n",
       "      <th>New York</th>\n",
       "      <th>Ohio</th>\n",
       "    </tr>\n",
       "  </thead>\n",
       "  <tbody>\n",
       "    <tr>\n",
       "      <th>2000-01-06</th>\n",
       "      <td>0.339006</td>\n",
       "      <td>-0.679871</td>\n",
       "      <td>-0.745304</td>\n",
       "      <td>0.993155</td>\n",
       "    </tr>\n",
       "    <tr>\n",
       "      <th>2000-01-13</th>\n",
       "      <td>0.121356</td>\n",
       "      <td>-0.275438</td>\n",
       "      <td>-0.287654</td>\n",
       "      <td>-0.641007</td>\n",
       "    </tr>\n",
       "  </tbody>\n",
       "</table>\n",
       "</div>"
      ],
      "text/plain": [
       "            Colorado     Texas  New York      Ohio\n",
       "2000-01-06  0.339006 -0.679871 -0.745304  0.993155\n",
       "2000-01-13  0.121356 -0.275438 -0.287654 -0.641007"
      ]
     },
     "execution_count": 123,
     "metadata": {},
     "output_type": "execute_result"
    }
   ],
   "source": [
    "#注意，新的日期索引完全没必要跟旧的重叠\n",
    "frame.resample('W-THU').ffill()"
   ]
  },
  {
   "cell_type": "markdown",
   "metadata": {},
   "source": [
    "#### 通过时期进行重采样"
   ]
  },
  {
   "cell_type": "code",
   "execution_count": 124,
   "metadata": {},
   "outputs": [
    {
     "name": "stdout",
     "output_type": "stream",
     "text": [
      "         Colorado     Texas  New York      Ohio\n",
      "2000-01 -1.676186  0.372070  0.339171  1.007348\n",
      "2000-02 -0.619515  0.809665  1.090588 -0.918812\n",
      "2000-03  0.574990 -1.098432 -0.009892 -0.273628\n",
      "2000-04  1.577879  1.637728 -0.250668  0.660206\n",
      "2000-05 -0.789503  1.405938  0.247740 -0.876650\n"
     ]
    },
    {
     "data": {
      "text/html": [
       "<div>\n",
       "<style>\n",
       "    .dataframe thead tr:only-child th {\n",
       "        text-align: right;\n",
       "    }\n",
       "\n",
       "    .dataframe thead th {\n",
       "        text-align: left;\n",
       "    }\n",
       "\n",
       "    .dataframe tbody tr th {\n",
       "        vertical-align: top;\n",
       "    }\n",
       "</style>\n",
       "<table border=\"1\" class=\"dataframe\">\n",
       "  <thead>\n",
       "    <tr style=\"text-align: right;\">\n",
       "      <th></th>\n",
       "      <th>Colorado</th>\n",
       "      <th>Texas</th>\n",
       "      <th>New York</th>\n",
       "      <th>Ohio</th>\n",
       "    </tr>\n",
       "  </thead>\n",
       "  <tbody>\n",
       "    <tr>\n",
       "      <th>2000</th>\n",
       "      <td>-0.612388</td>\n",
       "      <td>0.444400</td>\n",
       "      <td>-0.180422</td>\n",
       "      <td>-0.185416</td>\n",
       "    </tr>\n",
       "    <tr>\n",
       "      <th>2001</th>\n",
       "      <td>-0.485567</td>\n",
       "      <td>-0.173339</td>\n",
       "      <td>-0.196722</td>\n",
       "      <td>0.157755</td>\n",
       "    </tr>\n",
       "  </tbody>\n",
       "</table>\n",
       "</div>"
      ],
      "text/plain": [
       "      Colorado     Texas  New York      Ohio\n",
       "2000 -0.612388  0.444400 -0.180422 -0.185416\n",
       "2001 -0.485567 -0.173339 -0.196722  0.157755"
      ]
     },
     "execution_count": 124,
     "metadata": {},
     "output_type": "execute_result"
    }
   ],
   "source": [
    "frame = pd.DataFrame(np.random.randn(24, 4),\n",
    "                     index=pd.period_range('1-2000', '12-2001',\n",
    "                                           freq='M'),\n",
    "                     columns=['Colorado', 'Texas', 'New York', 'Ohio'])\n",
    "\n",
    "print(frame[:5])\n",
    "\n",
    "annual_frame = frame.resample('A-DEC').mean()\n",
    "\n",
    "annual_frame"
   ]
  },
  {
   "cell_type": "code",
   "execution_count": 125,
   "metadata": {},
   "outputs": [
    {
     "name": "stdout",
     "output_type": "stream",
     "text": [
      "        Colorado     Texas  New York      Ohio\n",
      "2000Q1 -0.612388  0.444400 -0.180422 -0.185416\n",
      "2000Q2 -0.612388  0.444400 -0.180422 -0.185416\n",
      "2000Q3 -0.612388  0.444400 -0.180422 -0.185416\n",
      "2000Q4 -0.612388  0.444400 -0.180422 -0.185416\n",
      "2001Q1 -0.485567 -0.173339 -0.196722  0.157755\n",
      "2001Q2 -0.485567 -0.173339 -0.196722  0.157755\n",
      "2001Q3 -0.485567 -0.173339 -0.196722  0.157755\n",
      "2001Q4 -0.485567 -0.173339 -0.196722  0.157755\n",
      "        Colorado     Texas  New York      Ohio\n",
      "2000Q4 -0.612388  0.444400 -0.180422 -0.185416\n",
      "2001Q1 -0.612388  0.444400 -0.180422 -0.185416\n",
      "2001Q2 -0.612388  0.444400 -0.180422 -0.185416\n",
      "2001Q3 -0.612388  0.444400 -0.180422 -0.185416\n",
      "2001Q4 -0.485567 -0.173339 -0.196722  0.157755\n"
     ]
    }
   ],
   "source": [
    "#升采样要稍微麻烦一些，因为你必须决定在新频率中各区间的哪端用于放置原来的值，\n",
    "#就像asfreq方法那样。convention参数默认为'start'，也可设置为'end'\n",
    "print(annual_frame.resample('Q-DEC').ffill())\n",
    "print(annual_frame.resample('Q-DEC', convention='end').ffill())"
   ]
  },
  {
   "cell_type": "code",
   "execution_count": 126,
   "metadata": {},
   "outputs": [
    {
     "data": {
      "text/html": [
       "<div>\n",
       "<style>\n",
       "    .dataframe thead tr:only-child th {\n",
       "        text-align: right;\n",
       "    }\n",
       "\n",
       "    .dataframe thead th {\n",
       "        text-align: left;\n",
       "    }\n",
       "\n",
       "    .dataframe tbody tr th {\n",
       "        vertical-align: top;\n",
       "    }\n",
       "</style>\n",
       "<table border=\"1\" class=\"dataframe\">\n",
       "  <thead>\n",
       "    <tr style=\"text-align: right;\">\n",
       "      <th></th>\n",
       "      <th>Colorado</th>\n",
       "      <th>Texas</th>\n",
       "      <th>New York</th>\n",
       "      <th>Ohio</th>\n",
       "    </tr>\n",
       "  </thead>\n",
       "  <tbody>\n",
       "    <tr>\n",
       "      <th>2000Q4</th>\n",
       "      <td>-0.612388</td>\n",
       "      <td>0.444400</td>\n",
       "      <td>-0.180422</td>\n",
       "      <td>-0.185416</td>\n",
       "    </tr>\n",
       "    <tr>\n",
       "      <th>2001Q1</th>\n",
       "      <td>-0.612388</td>\n",
       "      <td>0.444400</td>\n",
       "      <td>-0.180422</td>\n",
       "      <td>-0.185416</td>\n",
       "    </tr>\n",
       "    <tr>\n",
       "      <th>2001Q2</th>\n",
       "      <td>-0.612388</td>\n",
       "      <td>0.444400</td>\n",
       "      <td>-0.180422</td>\n",
       "      <td>-0.185416</td>\n",
       "    </tr>\n",
       "    <tr>\n",
       "      <th>2001Q3</th>\n",
       "      <td>-0.612388</td>\n",
       "      <td>0.444400</td>\n",
       "      <td>-0.180422</td>\n",
       "      <td>-0.185416</td>\n",
       "    </tr>\n",
       "    <tr>\n",
       "      <th>2001Q4</th>\n",
       "      <td>-0.485567</td>\n",
       "      <td>-0.173339</td>\n",
       "      <td>-0.196722</td>\n",
       "      <td>0.157755</td>\n",
       "    </tr>\n",
       "    <tr>\n",
       "      <th>2002Q1</th>\n",
       "      <td>-0.485567</td>\n",
       "      <td>-0.173339</td>\n",
       "      <td>-0.196722</td>\n",
       "      <td>0.157755</td>\n",
       "    </tr>\n",
       "    <tr>\n",
       "      <th>2002Q2</th>\n",
       "      <td>-0.485567</td>\n",
       "      <td>-0.173339</td>\n",
       "      <td>-0.196722</td>\n",
       "      <td>0.157755</td>\n",
       "    </tr>\n",
       "    <tr>\n",
       "      <th>2002Q3</th>\n",
       "      <td>-0.485567</td>\n",
       "      <td>-0.173339</td>\n",
       "      <td>-0.196722</td>\n",
       "      <td>0.157755</td>\n",
       "    </tr>\n",
       "  </tbody>\n",
       "</table>\n",
       "</div>"
      ],
      "text/plain": [
       "        Colorado     Texas  New York      Ohio\n",
       "2000Q4 -0.612388  0.444400 -0.180422 -0.185416\n",
       "2001Q1 -0.612388  0.444400 -0.180422 -0.185416\n",
       "2001Q2 -0.612388  0.444400 -0.180422 -0.185416\n",
       "2001Q3 -0.612388  0.444400 -0.180422 -0.185416\n",
       "2001Q4 -0.485567 -0.173339 -0.196722  0.157755\n",
       "2002Q1 -0.485567 -0.173339 -0.196722  0.157755\n",
       "2002Q2 -0.485567 -0.173339 -0.196722  0.157755\n",
       "2002Q3 -0.485567 -0.173339 -0.196722  0.157755"
      ]
     },
     "execution_count": 126,
     "metadata": {},
     "output_type": "execute_result"
    }
   ],
   "source": [
    "#由于时期指的是时间区间，所以升采样和降采样的规则就比较严格：\n",
    "#在降采样中，目标频率必须是源频率的子时期（subperiod）。\n",
    "#在升采样中，目标频率必须是源频率的超时期（superperiod）。\n",
    "#如果不满足这些条件，就会引发异常。这主要影响的是按季、年、周计算的\n",
    "#频率。例如，由Q-MAR定义的时间区间只能升采样为A-MAR、A-JUN、\n",
    "#A-SEP、A-DEC等\n",
    "annual_frame.resample('Q-MAR').ffill()"
   ]
  },
  {
   "cell_type": "markdown",
   "metadata": {},
   "source": [
    "### 11.7 移动窗口函数\n",
    "在移动窗口（可以带有指数衰减权数）上计算的各种统计函数也是一类常见于<br/>时间序列的数组变换。这样可以圆滑噪音数据或断裂数据。我将它们称<br/>为移动窗口函数（moving window function），其中还包括那些窗<br/>口不定长的函数（如指数加权移动平均）。跟其他统计函数一样，移动<br/>窗口函数也会自动排除缺失值"
   ]
  },
  {
   "cell_type": "code",
   "execution_count": 127,
   "metadata": {
    "collapsed": true
   },
   "outputs": [],
   "source": [
    "close_px_all = pd.read_csv('examples/stock_px_2.csv',\n",
    "                           parse_dates=True, index_col=0)\n",
    "\n",
    "close_px = close_px_all[['AAPL', 'MSFT', 'XOM']]\n",
    "\n",
    "close_px = close_px.resample('B').ffill()"
   ]
  },
  {
   "cell_type": "code",
   "execution_count": 128,
   "metadata": {},
   "outputs": [
    {
     "name": "stdout",
     "output_type": "stream",
     "text": [
      "AxesSubplot(0.125,0.125;0.775x0.755)\n"
     ]
    },
    {
     "data": {
      "text/plain": [
       "<matplotlib.axes._subplots.AxesSubplot at 0x11639b550>"
      ]
     },
     "execution_count": 128,
     "metadata": {},
     "output_type": "execute_result"
    }
   ],
   "source": [
    "print(close_px.AAPL.plot())\n",
    "\n",
    "close_px.AAPL.rolling(250).mean().plot()"
   ]
  },
  {
   "cell_type": "code",
   "execution_count": 129,
   "metadata": {},
   "outputs": [
    {
     "name": "stdout",
     "output_type": "stream",
     "text": [
      "2003-01-09         NaN\n",
      "2003-01-10         NaN\n",
      "2003-01-13         NaN\n",
      "2003-01-14         NaN\n",
      "2003-01-15    0.077496\n",
      "2003-01-16    0.074760\n",
      "2003-01-17    0.112368\n",
      "Freq: B, Name: AAPL, dtype: float64\n"
     ]
    },
    {
     "data": {
      "text/plain": [
       "<matplotlib.axes._subplots.AxesSubplot at 0x11639b550>"
      ]
     },
     "execution_count": 129,
     "metadata": {},
     "output_type": "execute_result"
    }
   ],
   "source": [
    "appl_std250 = close_px.AAPL.rolling(250, min_periods=10).std()\n",
    "print(appl_std250[5:12])\n",
    "appl_std250.plot()"
   ]
  },
  {
   "cell_type": "code",
   "execution_count": 130,
   "metadata": {
    "collapsed": true
   },
   "outputs": [],
   "source": [
    "expanding_mean = appl_std250.expanding().mean()"
   ]
  },
  {
   "cell_type": "code",
   "execution_count": 131,
   "metadata": {},
   "outputs": [
    {
     "data": {
      "text/plain": [
       "<matplotlib.axes._subplots.AxesSubplot at 0x11b5c5160>"
      ]
     },
     "execution_count": 131,
     "metadata": {},
     "output_type": "execute_result"
    }
   ],
   "source": [
    "close_px.rolling(60).mean().plot(logy=True)"
   ]
  },
  {
   "cell_type": "code",
   "execution_count": 132,
   "metadata": {},
   "outputs": [
    {
     "data": {
      "text/html": [
       "<div>\n",
       "<style>\n",
       "    .dataframe thead tr:only-child th {\n",
       "        text-align: right;\n",
       "    }\n",
       "\n",
       "    .dataframe thead th {\n",
       "        text-align: left;\n",
       "    }\n",
       "\n",
       "    .dataframe tbody tr th {\n",
       "        vertical-align: top;\n",
       "    }\n",
       "</style>\n",
       "<table border=\"1\" class=\"dataframe\">\n",
       "  <thead>\n",
       "    <tr style=\"text-align: right;\">\n",
       "      <th></th>\n",
       "      <th>AAPL</th>\n",
       "      <th>MSFT</th>\n",
       "      <th>XOM</th>\n",
       "    </tr>\n",
       "  </thead>\n",
       "  <tbody>\n",
       "    <tr>\n",
       "      <th>2003-01-02</th>\n",
       "      <td>7.400000</td>\n",
       "      <td>21.110000</td>\n",
       "      <td>29.220000</td>\n",
       "    </tr>\n",
       "    <tr>\n",
       "      <th>2003-01-03</th>\n",
       "      <td>7.425000</td>\n",
       "      <td>21.125000</td>\n",
       "      <td>29.230000</td>\n",
       "    </tr>\n",
       "    <tr>\n",
       "      <th>2003-01-06</th>\n",
       "      <td>7.433333</td>\n",
       "      <td>21.256667</td>\n",
       "      <td>29.473333</td>\n",
       "    </tr>\n",
       "    <tr>\n",
       "      <th>2003-01-07</th>\n",
       "      <td>7.432500</td>\n",
       "      <td>21.425000</td>\n",
       "      <td>29.342500</td>\n",
       "    </tr>\n",
       "    <tr>\n",
       "      <th>2003-01-08</th>\n",
       "      <td>7.402000</td>\n",
       "      <td>21.402000</td>\n",
       "      <td>29.240000</td>\n",
       "    </tr>\n",
       "    <tr>\n",
       "      <th>2003-01-09</th>\n",
       "      <td>7.391667</td>\n",
       "      <td>21.490000</td>\n",
       "      <td>29.273333</td>\n",
       "    </tr>\n",
       "    <tr>\n",
       "      <th>2003-01-10</th>\n",
       "      <td>7.387143</td>\n",
       "      <td>21.558571</td>\n",
       "      <td>29.238571</td>\n",
       "    </tr>\n",
       "    <tr>\n",
       "      <th>2003-01-13</th>\n",
       "      <td>7.378750</td>\n",
       "      <td>21.633750</td>\n",
       "      <td>29.197500</td>\n",
       "    </tr>\n",
       "    <tr>\n",
       "      <th>2003-01-14</th>\n",
       "      <td>7.370000</td>\n",
       "      <td>21.717778</td>\n",
       "      <td>29.194444</td>\n",
       "    </tr>\n",
       "    <tr>\n",
       "      <th>2003-01-15</th>\n",
       "      <td>7.355000</td>\n",
       "      <td>21.757000</td>\n",
       "      <td>29.152000</td>\n",
       "    </tr>\n",
       "    <tr>\n",
       "      <th>2003-01-16</th>\n",
       "      <td>7.350909</td>\n",
       "      <td>21.756364</td>\n",
       "      <td>29.129091</td>\n",
       "    </tr>\n",
       "    <tr>\n",
       "      <th>2003-01-17</th>\n",
       "      <td>7.325833</td>\n",
       "      <td>21.628333</td>\n",
       "      <td>29.085000</td>\n",
       "    </tr>\n",
       "    <tr>\n",
       "      <th>2003-01-20</th>\n",
       "      <td>7.304615</td>\n",
       "      <td>21.520000</td>\n",
       "      <td>29.047692</td>\n",
       "    </tr>\n",
       "    <tr>\n",
       "      <th>2003-01-21</th>\n",
       "      <td>7.283571</td>\n",
       "      <td>21.423571</td>\n",
       "      <td>28.968571</td>\n",
       "    </tr>\n",
       "    <tr>\n",
       "      <th>2003-01-22</th>\n",
       "      <td>7.250714</td>\n",
       "      <td>21.347143</td>\n",
       "      <td>28.851429</td>\n",
       "    </tr>\n",
       "    <tr>\n",
       "      <th>2003-01-23</th>\n",
       "      <td>7.225000</td>\n",
       "      <td>21.304286</td>\n",
       "      <td>28.728571</td>\n",
       "    </tr>\n",
       "    <tr>\n",
       "      <th>2003-01-24</th>\n",
       "      <td>7.203333</td>\n",
       "      <td>21.190000</td>\n",
       "      <td>28.608667</td>\n",
       "    </tr>\n",
       "    <tr>\n",
       "      <th>2003-01-27</th>\n",
       "      <td>7.160000</td>\n",
       "      <td>20.980000</td>\n",
       "      <td>28.316429</td>\n",
       "    </tr>\n",
       "    <tr>\n",
       "      <th>2003-01-28</th>\n",
       "      <td>7.160714</td>\n",
       "      <td>20.827857</td>\n",
       "      <td>28.178571</td>\n",
       "    </tr>\n",
       "    <tr>\n",
       "      <th>2003-01-29</th>\n",
       "      <td>7.170000</td>\n",
       "      <td>20.662143</td>\n",
       "      <td>28.067143</td>\n",
       "    </tr>\n",
       "    <tr>\n",
       "      <th>2003-01-30</th>\n",
       "      <td>7.155714</td>\n",
       "      <td>20.446429</td>\n",
       "      <td>27.948571</td>\n",
       "    </tr>\n",
       "    <tr>\n",
       "      <th>2003-01-31</th>\n",
       "      <td>7.157333</td>\n",
       "      <td>20.326667</td>\n",
       "      <td>27.960667</td>\n",
       "    </tr>\n",
       "    <tr>\n",
       "      <th>2003-02-03</th>\n",
       "      <td>7.147857</td>\n",
       "      <td>19.959286</td>\n",
       "      <td>27.846429</td>\n",
       "    </tr>\n",
       "    <tr>\n",
       "      <th>2003-02-04</th>\n",
       "      <td>7.153571</td>\n",
       "      <td>19.707857</td>\n",
       "      <td>27.828571</td>\n",
       "    </tr>\n",
       "    <tr>\n",
       "      <th>2003-02-05</th>\n",
       "      <td>7.147143</td>\n",
       "      <td>19.472143</td>\n",
       "      <td>27.772143</td>\n",
       "    </tr>\n",
       "    <tr>\n",
       "      <th>2003-02-06</th>\n",
       "      <td>7.159286</td>\n",
       "      <td>19.358571</td>\n",
       "      <td>27.720000</td>\n",
       "    </tr>\n",
       "    <tr>\n",
       "      <th>2003-02-07</th>\n",
       "      <td>7.153333</td>\n",
       "      <td>19.288000</td>\n",
       "      <td>27.716000</td>\n",
       "    </tr>\n",
       "    <tr>\n",
       "      <th>2003-02-10</th>\n",
       "      <td>7.172857</td>\n",
       "      <td>19.110714</td>\n",
       "      <td>27.647857</td>\n",
       "    </tr>\n",
       "    <tr>\n",
       "      <th>2003-02-11</th>\n",
       "      <td>7.190000</td>\n",
       "      <td>18.982857</td>\n",
       "      <td>27.654286</td>\n",
       "    </tr>\n",
       "    <tr>\n",
       "      <th>2003-02-12</th>\n",
       "      <td>7.197857</td>\n",
       "      <td>18.819286</td>\n",
       "      <td>27.625714</td>\n",
       "    </tr>\n",
       "    <tr>\n",
       "      <th>...</th>\n",
       "      <td>...</td>\n",
       "      <td>...</td>\n",
       "      <td>...</td>\n",
       "    </tr>\n",
       "    <tr>\n",
       "      <th>2011-09-05</th>\n",
       "      <td>375.711429</td>\n",
       "      <td>25.276429</td>\n",
       "      <td>72.607857</td>\n",
       "    </tr>\n",
       "    <tr>\n",
       "      <th>2011-09-06</th>\n",
       "      <td>375.661429</td>\n",
       "      <td>25.295000</td>\n",
       "      <td>72.392857</td>\n",
       "    </tr>\n",
       "    <tr>\n",
       "      <th>2011-09-07</th>\n",
       "      <td>376.938571</td>\n",
       "      <td>25.390000</td>\n",
       "      <td>72.586429</td>\n",
       "    </tr>\n",
       "    <tr>\n",
       "      <th>2011-09-08</th>\n",
       "      <td>378.946429</td>\n",
       "      <td>25.545000</td>\n",
       "      <td>72.802143</td>\n",
       "    </tr>\n",
       "    <tr>\n",
       "      <th>2011-09-09</th>\n",
       "      <td>378.848667</td>\n",
       "      <td>25.558000</td>\n",
       "      <td>72.682667</td>\n",
       "    </tr>\n",
       "    <tr>\n",
       "      <th>2011-09-12</th>\n",
       "      <td>380.902143</td>\n",
       "      <td>25.754286</td>\n",
       "      <td>72.731429</td>\n",
       "    </tr>\n",
       "    <tr>\n",
       "      <th>2011-09-13</th>\n",
       "      <td>381.505000</td>\n",
       "      <td>25.835714</td>\n",
       "      <td>72.596429</td>\n",
       "    </tr>\n",
       "    <tr>\n",
       "      <th>2011-09-14</th>\n",
       "      <td>382.617857</td>\n",
       "      <td>25.973571</td>\n",
       "      <td>72.658571</td>\n",
       "    </tr>\n",
       "    <tr>\n",
       "      <th>2011-09-15</th>\n",
       "      <td>383.287857</td>\n",
       "      <td>26.097857</td>\n",
       "      <td>72.756429</td>\n",
       "    </tr>\n",
       "    <tr>\n",
       "      <th>2011-09-16</th>\n",
       "      <td>384.435333</td>\n",
       "      <td>26.166000</td>\n",
       "      <td>72.876000</td>\n",
       "    </tr>\n",
       "    <tr>\n",
       "      <th>2011-09-19</th>\n",
       "      <td>385.585714</td>\n",
       "      <td>26.259286</td>\n",
       "      <td>72.772143</td>\n",
       "    </tr>\n",
       "    <tr>\n",
       "      <th>2011-09-20</th>\n",
       "      <td>387.630000</td>\n",
       "      <td>26.286429</td>\n",
       "      <td>72.771429</td>\n",
       "    </tr>\n",
       "    <tr>\n",
       "      <th>2011-09-21</th>\n",
       "      <td>389.852143</td>\n",
       "      <td>26.270714</td>\n",
       "      <td>72.662857</td>\n",
       "    </tr>\n",
       "    <tr>\n",
       "      <th>2011-09-22</th>\n",
       "      <td>391.835714</td>\n",
       "      <td>26.217857</td>\n",
       "      <td>72.455714</td>\n",
       "    </tr>\n",
       "    <tr>\n",
       "      <th>2011-09-23</th>\n",
       "      <td>392.666667</td>\n",
       "      <td>26.140667</td>\n",
       "      <td>72.246000</td>\n",
       "    </tr>\n",
       "    <tr>\n",
       "      <th>2011-09-26</th>\n",
       "      <td>395.670000</td>\n",
       "      <td>26.160000</td>\n",
       "      <td>72.294286</td>\n",
       "    </tr>\n",
       "    <tr>\n",
       "      <th>2011-09-27</th>\n",
       "      <td>396.765000</td>\n",
       "      <td>26.136429</td>\n",
       "      <td>72.241429</td>\n",
       "    </tr>\n",
       "    <tr>\n",
       "      <th>2011-09-28</th>\n",
       "      <td>397.684286</td>\n",
       "      <td>26.090714</td>\n",
       "      <td>72.187857</td>\n",
       "    </tr>\n",
       "    <tr>\n",
       "      <th>2011-09-29</th>\n",
       "      <td>398.619286</td>\n",
       "      <td>26.070000</td>\n",
       "      <td>72.392857</td>\n",
       "    </tr>\n",
       "    <tr>\n",
       "      <th>2011-09-30</th>\n",
       "      <td>397.466000</td>\n",
       "      <td>25.991333</td>\n",
       "      <td>72.408667</td>\n",
       "    </tr>\n",
       "    <tr>\n",
       "      <th>2011-10-03</th>\n",
       "      <td>398.002143</td>\n",
       "      <td>25.890714</td>\n",
       "      <td>72.413571</td>\n",
       "    </tr>\n",
       "    <tr>\n",
       "      <th>2011-10-04</th>\n",
       "      <td>396.802143</td>\n",
       "      <td>25.807857</td>\n",
       "      <td>72.427143</td>\n",
       "    </tr>\n",
       "    <tr>\n",
       "      <th>2011-10-05</th>\n",
       "      <td>395.751429</td>\n",
       "      <td>25.729286</td>\n",
       "      <td>72.422857</td>\n",
       "    </tr>\n",
       "    <tr>\n",
       "      <th>2011-10-06</th>\n",
       "      <td>394.099286</td>\n",
       "      <td>25.673571</td>\n",
       "      <td>72.375714</td>\n",
       "    </tr>\n",
       "    <tr>\n",
       "      <th>2011-10-07</th>\n",
       "      <td>392.479333</td>\n",
       "      <td>25.712000</td>\n",
       "      <td>72.454667</td>\n",
       "    </tr>\n",
       "    <tr>\n",
       "      <th>2011-10-10</th>\n",
       "      <td>389.351429</td>\n",
       "      <td>25.602143</td>\n",
       "      <td>72.527857</td>\n",
       "    </tr>\n",
       "    <tr>\n",
       "      <th>2011-10-11</th>\n",
       "      <td>388.505000</td>\n",
       "      <td>25.674286</td>\n",
       "      <td>72.835000</td>\n",
       "    </tr>\n",
       "    <tr>\n",
       "      <th>2011-10-12</th>\n",
       "      <td>388.531429</td>\n",
       "      <td>25.810000</td>\n",
       "      <td>73.400714</td>\n",
       "    </tr>\n",
       "    <tr>\n",
       "      <th>2011-10-13</th>\n",
       "      <td>388.826429</td>\n",
       "      <td>25.961429</td>\n",
       "      <td>73.905000</td>\n",
       "    </tr>\n",
       "    <tr>\n",
       "      <th>2011-10-14</th>\n",
       "      <td>391.038000</td>\n",
       "      <td>26.048667</td>\n",
       "      <td>74.185333</td>\n",
       "    </tr>\n",
       "  </tbody>\n",
       "</table>\n",
       "<p>2292 rows × 3 columns</p>\n",
       "</div>"
      ],
      "text/plain": [
       "                  AAPL       MSFT        XOM\n",
       "2003-01-02    7.400000  21.110000  29.220000\n",
       "2003-01-03    7.425000  21.125000  29.230000\n",
       "2003-01-06    7.433333  21.256667  29.473333\n",
       "2003-01-07    7.432500  21.425000  29.342500\n",
       "2003-01-08    7.402000  21.402000  29.240000\n",
       "2003-01-09    7.391667  21.490000  29.273333\n",
       "2003-01-10    7.387143  21.558571  29.238571\n",
       "2003-01-13    7.378750  21.633750  29.197500\n",
       "2003-01-14    7.370000  21.717778  29.194444\n",
       "2003-01-15    7.355000  21.757000  29.152000\n",
       "2003-01-16    7.350909  21.756364  29.129091\n",
       "2003-01-17    7.325833  21.628333  29.085000\n",
       "2003-01-20    7.304615  21.520000  29.047692\n",
       "2003-01-21    7.283571  21.423571  28.968571\n",
       "2003-01-22    7.250714  21.347143  28.851429\n",
       "2003-01-23    7.225000  21.304286  28.728571\n",
       "2003-01-24    7.203333  21.190000  28.608667\n",
       "2003-01-27    7.160000  20.980000  28.316429\n",
       "2003-01-28    7.160714  20.827857  28.178571\n",
       "2003-01-29    7.170000  20.662143  28.067143\n",
       "2003-01-30    7.155714  20.446429  27.948571\n",
       "2003-01-31    7.157333  20.326667  27.960667\n",
       "2003-02-03    7.147857  19.959286  27.846429\n",
       "2003-02-04    7.153571  19.707857  27.828571\n",
       "2003-02-05    7.147143  19.472143  27.772143\n",
       "2003-02-06    7.159286  19.358571  27.720000\n",
       "2003-02-07    7.153333  19.288000  27.716000\n",
       "2003-02-10    7.172857  19.110714  27.647857\n",
       "2003-02-11    7.190000  18.982857  27.654286\n",
       "2003-02-12    7.197857  18.819286  27.625714\n",
       "...                ...        ...        ...\n",
       "2011-09-05  375.711429  25.276429  72.607857\n",
       "2011-09-06  375.661429  25.295000  72.392857\n",
       "2011-09-07  376.938571  25.390000  72.586429\n",
       "2011-09-08  378.946429  25.545000  72.802143\n",
       "2011-09-09  378.848667  25.558000  72.682667\n",
       "2011-09-12  380.902143  25.754286  72.731429\n",
       "2011-09-13  381.505000  25.835714  72.596429\n",
       "2011-09-14  382.617857  25.973571  72.658571\n",
       "2011-09-15  383.287857  26.097857  72.756429\n",
       "2011-09-16  384.435333  26.166000  72.876000\n",
       "2011-09-19  385.585714  26.259286  72.772143\n",
       "2011-09-20  387.630000  26.286429  72.771429\n",
       "2011-09-21  389.852143  26.270714  72.662857\n",
       "2011-09-22  391.835714  26.217857  72.455714\n",
       "2011-09-23  392.666667  26.140667  72.246000\n",
       "2011-09-26  395.670000  26.160000  72.294286\n",
       "2011-09-27  396.765000  26.136429  72.241429\n",
       "2011-09-28  397.684286  26.090714  72.187857\n",
       "2011-09-29  398.619286  26.070000  72.392857\n",
       "2011-09-30  397.466000  25.991333  72.408667\n",
       "2011-10-03  398.002143  25.890714  72.413571\n",
       "2011-10-04  396.802143  25.807857  72.427143\n",
       "2011-10-05  395.751429  25.729286  72.422857\n",
       "2011-10-06  394.099286  25.673571  72.375714\n",
       "2011-10-07  392.479333  25.712000  72.454667\n",
       "2011-10-10  389.351429  25.602143  72.527857\n",
       "2011-10-11  388.505000  25.674286  72.835000\n",
       "2011-10-12  388.531429  25.810000  73.400714\n",
       "2011-10-13  388.826429  25.961429  73.905000\n",
       "2011-10-14  391.038000  26.048667  74.185333\n",
       "\n",
       "[2292 rows x 3 columns]"
      ]
     },
     "execution_count": 132,
     "metadata": {},
     "output_type": "execute_result"
    }
   ],
   "source": [
    "close_px.rolling('20D').mean()"
   ]
  },
  {
   "cell_type": "markdown",
   "metadata": {},
   "source": [
    "#### 指数加权函数"
   ]
  },
  {
   "cell_type": "code",
   "execution_count": 134,
   "metadata": {
    "collapsed": true
   },
   "outputs": [],
   "source": [
    "import matplotlib.pyplot as plt"
   ]
  },
  {
   "cell_type": "code",
   "execution_count": 135,
   "metadata": {},
   "outputs": [
    {
     "name": "stdout",
     "output_type": "stream",
     "text": [
      "AxesSubplot(0.125,0.125;0.775x0.755)\n",
      "AxesSubplot(0.125,0.125;0.775x0.755)\n"
     ]
    },
    {
     "data": {
      "text/plain": [
       "<matplotlib.legend.Legend at 0x11b76cd30>"
      ]
     },
     "execution_count": 135,
     "metadata": {},
     "output_type": "execute_result"
    }
   ],
   "source": [
    "aapl_px = close_px.AAPL['2006':'2007']\n",
    "ma60 = aapl_px.rolling(30, min_periods=20).mean()\n",
    "ewma60 = aapl_px.ewm(span=30).mean()\n",
    "print(ma60.plot(style='k--', label='Simple MA'))\n",
    "print(ewma60.plot(style='k-', label='EW MA'))\n",
    "plt.legend()"
   ]
  },
  {
   "cell_type": "markdown",
   "metadata": {},
   "source": [
    "#### 二元移动窗口函数"
   ]
  },
  {
   "cell_type": "code",
   "execution_count": 136,
   "metadata": {
    "collapsed": true
   },
   "outputs": [],
   "source": [
    "spx_px = close_px_all['SPX']\n",
    "\n",
    "spx_rets = spx_px.pct_change()\n",
    "\n",
    "returns = close_px.pct_change()"
   ]
  },
  {
   "cell_type": "code",
   "execution_count": 137,
   "metadata": {},
   "outputs": [
    {
     "data": {
      "text/plain": [
       "<matplotlib.axes._subplots.AxesSubplot at 0x11b5c5160>"
      ]
     },
     "execution_count": 137,
     "metadata": {},
     "output_type": "execute_result"
    }
   ],
   "source": [
    "corr = returns.AAPL.rolling(125, min_periods=100).corr(spx_rets)\n",
    "\n",
    "corr.plot()"
   ]
  },
  {
   "cell_type": "code",
   "execution_count": 138,
   "metadata": {},
   "outputs": [
    {
     "data": {
      "text/plain": [
       "<matplotlib.axes._subplots.AxesSubplot at 0x11b7b7dd8>"
      ]
     },
     "execution_count": 138,
     "metadata": {},
     "output_type": "execute_result"
    }
   ],
   "source": [
    "corr = returns.rolling(125, min_periods=100).corr(spx_rets)\n",
    "\n",
    "corr.plot()"
   ]
  },
  {
   "cell_type": "markdown",
   "metadata": {},
   "source": [
    "#### 用户定义的移动窗口函数"
   ]
  },
  {
   "cell_type": "code",
   "execution_count": 139,
   "metadata": {},
   "outputs": [
    {
     "data": {
      "text/plain": [
       "<matplotlib.axes._subplots.AxesSubplot at 0x11b7b7dd8>"
      ]
     },
     "execution_count": 139,
     "metadata": {},
     "output_type": "execute_result"
    }
   ],
   "source": [
    "from scipy.stats import percentileofscore\n",
    "\n",
    "score_at_2percent = lambda x: percentileofscore(x, 0.02)\n",
    "\n",
    "result = returns.AAPL.rolling(250).apply(score_at_2percent)\n",
    "\n",
    "result.plot()"
   ]
  },
  {
   "cell_type": "markdown",
   "metadata": {},
   "source": [
    "### 11.8 总结"
   ]
  },
  {
   "cell_type": "code",
   "execution_count": null,
   "metadata": {
    "collapsed": true
   },
   "outputs": [],
   "source": []
  }
 ],
 "metadata": {
  "kernelspec": {
   "display_name": "Python 3",
   "language": "python",
   "name": "python3"
  },
  "language_info": {
   "codemirror_mode": {
    "name": "ipython",
    "version": 3
   },
   "file_extension": ".py",
   "mimetype": "text/x-python",
   "name": "python",
   "nbconvert_exporter": "python",
   "pygments_lexer": "ipython3",
   "version": "3.6.8"
  }
 },
 "nbformat": 4,
 "nbformat_minor": 2
}
